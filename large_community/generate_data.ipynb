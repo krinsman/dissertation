{
 "cells": [
  {
   "cell_type": "markdown",
   "id": "olive-symposium",
   "metadata": {
    "papermill": {
     "duration": 0.03061,
     "end_time": "2021-04-27T16:49:08.085267",
     "exception": false,
     "start_time": "2021-04-27T16:49:08.054657",
     "status": "completed"
    },
    "tags": []
   },
   "source": [
    "## Setup"
   ]
  },
  {
   "cell_type": "code",
   "execution_count": 1,
   "id": "retired-magnet",
   "metadata": {
    "execution": {
     "iopub.execute_input": "2021-04-27T17:06:40.830670Z",
     "iopub.status.busy": "2021-04-27T17:06:40.829220Z",
     "iopub.status.idle": "2021-04-27T17:06:40.834027Z",
     "shell.execute_reply": "2021-04-27T17:06:40.832824Z"
    },
    "papermill": {
     "duration": 0.051559,
     "end_time": "2021-04-27T16:49:08.162777",
     "exception": false,
     "start_time": "2021-04-27T16:49:08.111218",
     "status": "completed"
    },
    "tags": [
     "parameters"
    ]
   },
   "outputs": [],
   "source": [
    "number_droplets = int(3e6)\n",
    "seed = 42\n",
    "number_batches = 5"
   ]
  },
  {
   "cell_type": "code",
   "execution_count": 2,
   "id": "extra-values",
   "metadata": {
    "execution": {
     "iopub.execute_input": "2021-04-27T17:06:40.841661Z",
     "iopub.status.busy": "2021-04-27T17:06:40.840410Z",
     "iopub.status.idle": "2021-04-27T17:06:41.918867Z",
     "shell.execute_reply": "2021-04-27T17:06:41.917856Z"
    },
    "papermill": {
     "duration": 0.85703,
     "end_time": "2021-04-27T16:49:09.048071",
     "exception": false,
     "start_time": "2021-04-27T16:49:08.191041",
     "status": "completed"
    },
    "tags": []
   },
   "outputs": [],
   "source": [
    "from pathlib import Path\n",
    "\n",
    "import numpy as np\n",
    "\n",
    "from simulations.utils import random_copy_numbers\n",
    "from simulations import dropletSimulation"
   ]
  },
  {
   "cell_type": "code",
   "execution_count": 3,
   "id": "described-treasure",
   "metadata": {
    "execution": {
     "iopub.execute_input": "2021-04-27T17:06:41.927689Z",
     "iopub.status.busy": "2021-04-27T17:06:41.926706Z",
     "iopub.status.idle": "2021-04-27T17:06:41.931137Z",
     "shell.execute_reply": "2021-04-27T17:06:41.930154Z"
    },
    "papermill": {
     "duration": 0.021983,
     "end_time": "2021-04-27T16:49:09.088300",
     "exception": false,
     "start_time": "2021-04-27T16:49:09.066317",
     "status": "completed"
    },
    "tags": []
   },
   "outputs": [],
   "source": [
    "seed_sequence = np.random.SeedSequence(seed)\n",
    "simulation_seed = seed_sequence.spawn(1)[0]\n",
    "rng = np.random.default_rng(simulation_seed)"
   ]
  },
  {
   "cell_type": "code",
   "execution_count": 4,
   "id": "inappropriate-castle",
   "metadata": {
    "execution": {
     "iopub.execute_input": "2021-04-27T17:06:41.940761Z",
     "iopub.status.busy": "2021-04-27T17:06:41.939800Z",
     "iopub.status.idle": "2021-04-27T17:06:41.944241Z",
     "shell.execute_reply": "2021-04-27T17:06:41.943272Z"
    },
    "papermill": {
     "duration": 0.023577,
     "end_time": "2021-04-27T16:49:09.125679",
     "exception": false,
     "start_time": "2021-04-27T16:49:09.102102",
     "status": "completed"
    },
    "tags": []
   },
   "outputs": [],
   "source": [
    "base_relative_abundances = [1e-5, 1e-4, 1e-3, 1e-2]\n",
    "\n",
    "relative_abundances = [relative_abundance * number\n",
    "                       for relative_abundance \n",
    "                       in base_relative_abundances\n",
    "                       for number in (1,2,5) \n",
    "                       for repeat in range(10)]\n",
    "\n",
    "relative_abundances += [1-sum(relative_abundances)]\n",
    "relative_abundances = np.array(relative_abundances)"
   ]
  },
  {
   "cell_type": "code",
   "execution_count": 5,
   "id": "faced-longitude",
   "metadata": {
    "execution": {
     "iopub.execute_input": "2021-04-27T17:06:41.952846Z",
     "iopub.status.busy": "2021-04-27T17:06:41.951896Z",
     "iopub.status.idle": "2021-04-27T17:06:41.957510Z",
     "shell.execute_reply": "2021-04-27T17:06:41.956538Z"
    },
    "papermill": {
     "duration": 0.025124,
     "end_time": "2021-04-27T16:49:09.164734",
     "exception": false,
     "start_time": "2021-04-27T16:49:09.139610",
     "status": "completed"
    },
    "tags": []
   },
   "outputs": [],
   "source": [
    "size = len(relative_abundances)\n",
    "# random numbers from interval [-1,1]\n",
    "A = 2*(rng.random((size,size)) - 0.5)\n",
    "# make interactions more sparse, so scientifically more interesting/plausible\n",
    "A *= rng.integers(low=0, high=2, size=A.shape) \n",
    "beta = rng.random(size)"
   ]
  },
  {
   "cell_type": "code",
   "execution_count": 6,
   "id": "tender-explanation",
   "metadata": {
    "execution": {
     "iopub.execute_input": "2021-04-27T17:06:41.965330Z",
     "iopub.status.busy": "2021-04-27T17:06:41.964377Z",
     "iopub.status.idle": "2021-04-27T17:06:41.970582Z",
     "shell.execute_reply": "2021-04-27T17:06:41.969775Z"
    },
    "papermill": {
     "duration": 0.024641,
     "end_time": "2021-04-27T16:49:09.203726",
     "exception": false,
     "start_time": "2021-04-27T16:49:09.179085",
     "status": "completed"
    },
    "tags": []
   },
   "outputs": [
    {
     "name": "stdout",
     "output_type": "stream",
     "text": [
      "simulation_results/{}.121_strains.seed_42.3000000_droplets.npz\n"
     ]
    }
   ],
   "source": [
    "results_dir_name='simulation_results'\n",
    "base_simulation_filename = results_dir_name + '/{{}}.{}_strains.seed_{}.{}_droplets.npz'\n",
    "base_simulation_filename = base_simulation_filename.format(size, seed, number_droplets)\n",
    "print(base_simulation_filename)"
   ]
  },
  {
   "cell_type": "markdown",
   "id": "noted-hudson",
   "metadata": {
    "papermill": {
     "duration": 0.028962,
     "end_time": "2021-04-27T16:49:09.247138",
     "exception": false,
     "start_time": "2021-04-27T16:49:09.218176",
     "status": "completed"
    },
    "tags": []
   },
   "source": [
    "## Run Simulation"
   ]
  },
  {
   "cell_type": "code",
   "execution_count": 7,
   "id": "south-civilization",
   "metadata": {
    "execution": {
     "iopub.execute_input": "2021-04-27T17:06:41.981682Z",
     "iopub.status.busy": "2021-04-27T17:06:41.980723Z",
     "iopub.status.idle": "2021-04-28T03:25:54.539786Z",
     "shell.execute_reply": "2021-04-28T03:25:54.541050Z"
    },
    "papermill": {
     "duration": 20.790555,
     "end_time": "2021-04-27T16:49:30.064692",
     "exception": false,
     "start_time": "2021-04-27T16:49:09.274137",
     "status": "completed"
    },
    "tags": []
   },
   "outputs": [
    {
     "name": "stdout",
     "output_type": "stream",
     "text": [
      "CPU times: user 55min 43s, sys: 8h 31min 14s, total: 9h 26min 58s\n",
      "Wall time: 10h 19min 12s\n"
     ]
    }
   ],
   "source": [
    "%%time\n",
    "simulation = dropletSimulation(number_species=size, number_droplets=number_droplets, \n",
    "               number_batches=number_batches, copy_numbers=random_copy_numbers(size, rng), \n",
    "               frequency_vector=relative_abundances, glv_interaction_coefficients=A, \n",
    "               glv_baserate_coefficients=beta,  noise_scale=8, seed=simulation_seed,\n",
    "               timestep = 0.0001, batch_window=200, carrying_capacity=10000,\n",
    "               merging_error=.1, spikein_rate=300, pcr_noise=0.1) \n",
    "                # NON-ZERO MERGING ERROR, plus PCR amplification errors generated\n",
    "                # Made PCR noise small b/c I don't really trust the log-normal model\n",
    "                # of differential PCR amplification, and don't want to swamp out more important\n",
    "                # point that error from Poisson normalization part should not be very large\n",
    "\n",
    "simulation.run_simulation(number_processes=56, maxtasksperchild=10, chunksize=100, \n",
    "                          results_dir_name=results_dir_name, large_batches=True)"
   ]
  },
  {
   "cell_type": "markdown",
   "id": "based-updating",
   "metadata": {
    "papermill": {
     "duration": 0.025758,
     "end_time": "2021-04-27T16:49:30.124573",
     "exception": false,
     "start_time": "2021-04-27T16:49:30.098815",
     "status": "completed"
    },
    "tags": []
   },
   "source": [
    "## Wrap-Up"
   ]
  },
  {
   "cell_type": "code",
   "execution_count": 8,
   "id": "cutting-peninsula",
   "metadata": {
    "execution": {
     "iopub.execute_input": "2021-04-28T03:25:54.551554Z",
     "iopub.status.busy": "2021-04-28T03:25:54.550063Z",
     "iopub.status.idle": "2021-04-28T03:25:54.614220Z",
     "shell.execute_reply": "2021-04-28T03:25:54.612720Z"
    },
    "papermill": {
     "duration": 0.07004,
     "end_time": "2021-04-27T16:49:30.218473",
     "exception": false,
     "start_time": "2021-04-27T16:49:30.148433",
     "status": "completed"
    },
    "tags": []
   },
   "outputs": [],
   "source": [
    "truth = simulation.glv_interaction_coefficients\n",
    "true_baserates = simulation.glv_baserate_coefficients\n",
    "copy_numbers = simulation.copy_numbers\n",
    "\n",
    "simulation_filename = base_simulation_filename.format('simulation_info')\n",
    "\n",
    "np.savez_compressed(simulation_filename, \n",
    "                    truth=truth, true_baserates=true_baserates, copy_numbers=copy_numbers,\n",
    "                   )"
   ]
  }
 ],
 "metadata": {
  "kernelspec": {
   "display_name": "Python 3",
   "language": "python",
   "name": "python3"
  },
  "language_info": {
   "codemirror_mode": {
    "name": "ipython",
    "version": 3
   },
   "file_extension": ".py",
   "mimetype": "text/x-python",
   "name": "python",
   "nbconvert_exporter": "python",
   "pygments_lexer": "ipython3",
   "version": "3.9.2"
  },
  "papermill": {
   "default_parameters": {},
   "duration": 25.962048,
   "end_time": "2021-04-27T16:49:31.750106",
   "environment_variables": {},
   "exception": null,
   "input_path": "large_community/generate_data.ipynb",
   "output_path": "large_community/generate_data.ipynb",
   "parameters": {},
   "start_time": "2021-04-27T16:49:05.788058",
   "version": "2.3.3"
  }
 },
 "nbformat": 4,
 "nbformat_minor": 5
}
