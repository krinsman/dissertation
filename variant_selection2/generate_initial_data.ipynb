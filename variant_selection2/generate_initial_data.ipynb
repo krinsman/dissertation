{
 "cells": [
  {
   "cell_type": "code",
   "execution_count": 1,
   "id": "practical-force",
   "metadata": {
    "execution": {
     "iopub.execute_input": "2021-04-21T00:24:16.757714Z",
     "iopub.status.busy": "2021-04-21T00:24:16.749243Z",
     "iopub.status.idle": "2021-04-21T00:24:17.554761Z",
     "shell.execute_reply": "2021-04-21T00:24:17.555505Z"
    },
    "tags": []
   },
   "outputs": [],
   "source": [
    "import multiprocessing as mp\n",
    "mp.set_start_method('spawn')\n",
    "import papermill as pm\n",
    "import numpy as np\n",
    "\n",
    "from pathlib import Path"
   ]
  },
  {
   "cell_type": "code",
   "execution_count": 2,
   "id": "seven-choice",
   "metadata": {
    "execution": {
     "iopub.execute_input": "2021-04-21T00:24:17.562967Z",
     "iopub.status.busy": "2021-04-21T00:24:17.562119Z",
     "iopub.status.idle": "2021-04-21T00:24:17.565353Z",
     "shell.execute_reply": "2021-04-21T00:24:17.564699Z"
    }
   },
   "outputs": [],
   "source": [
    "percentages = [0.0001, 0.0002, 0.0005, 0.001, 0.002, 0.005, 0.01, 0.02, 0.05, 0.1]\n",
    "\n",
    "results_dir_base_name = 'simulation_results'\n",
    "number_droplets = 100000\n",
    "number_simulations = 100\n",
    "seed = 42\n",
    "size = 11\n",
    "number_batches = 5\n",
    "number_last_completed_simulation = 0"
   ]
  },
  {
   "cell_type": "code",
   "execution_count": 3,
   "id": "sustained-practitioner",
   "metadata": {
    "execution": {
     "iopub.execute_input": "2021-04-21T00:24:17.571389Z",
     "iopub.status.busy": "2021-04-21T00:24:17.570542Z",
     "iopub.status.idle": "2021-04-21T00:24:17.578072Z",
     "shell.execute_reply": "2021-04-21T00:24:17.577385Z"
    }
   },
   "outputs": [],
   "source": [
    "for percentage in percentages:\n",
    "    Path(\"./pct{}\".format(str(100*percentage))).mkdir(parents=True, exist_ok=True)"
   ]
  },
  {
   "cell_type": "code",
   "execution_count": 4,
   "id": "political-termination",
   "metadata": {
    "execution": {
     "iopub.execute_input": "2021-04-21T00:24:17.587067Z",
     "iopub.status.busy": "2021-04-21T00:24:17.586340Z",
     "iopub.status.idle": "2021-04-21T00:24:17.590458Z",
     "shell.execute_reply": "2021-04-21T00:24:17.589839Z"
    }
   },
   "outputs": [],
   "source": [
    "input_notebook_names = ['notebook_generation_template.ipynb' for percentage in percentages]\n",
    "output_notebook_names = ['pct{}/generate_initial_data.ag.ipynb'.format(str(100*percentage))\n",
    "                        for percentage in percentages]\n",
    "parameter_dicts = [{'pct':percentage, 'results_dir_base_name': results_dir_base_name,\n",
    "                   'number_droplets': number_droplets, 'number_simulations': number_simulations,\n",
    "                   'seed': seed, 'size': size, 'number_batches': number_batches, \n",
    "                    'number_last_completed_simulation': number_last_completed_simulation}\n",
    "                  for percentage in percentages]"
   ]
  },
  {
   "cell_type": "code",
   "execution_count": 5,
   "id": "nasty-peter",
   "metadata": {
    "execution": {
     "iopub.execute_input": "2021-04-21T00:24:17.597044Z",
     "iopub.status.busy": "2021-04-21T00:24:17.596261Z",
     "iopub.status.idle": "2021-04-21T00:24:17.600266Z",
     "shell.execute_reply": "2021-04-21T00:24:17.599629Z"
    }
   },
   "outputs": [],
   "source": [
    "parallel_input = [[input_notebook_name, output_notebook_name, parameter_dict]\n",
    "                 for input_notebook_name, output_notebook_name, parameter_dict\n",
    "                 in zip(input_notebook_names, output_notebook_names, parameter_dicts)]"
   ]
  },
  {
   "cell_type": "code",
   "execution_count": 6,
   "id": "english-accessory",
   "metadata": {
    "execution": {
     "iopub.execute_input": "2021-04-21T00:24:17.607694Z",
     "iopub.status.busy": "2021-04-21T00:24:17.606943Z",
     "iopub.status.idle": "2021-04-27T04:42:36.915527Z",
     "shell.execute_reply": "2021-04-27T04:42:36.916902Z"
    }
   },
   "outputs": [
    {
     "name": "stdout",
     "output_type": "stream",
     "text": [
      "CPU times: user 38.1 s, sys: 2min 20s, total: 2min 58s\n",
      "Wall time: 6d 4h 18min 19s\n"
     ]
    }
   ],
   "source": [
    "%%time\n",
    "pool = mp.Pool(5)\n",
    "pool.starmap(pm.execute_notebook, parallel_input)\n",
    "pool.close()\n",
    "pool.join()"
   ]
  }
 ],
 "metadata": {
  "kernelspec": {
   "display_name": "Python 3",
   "language": "python",
   "name": "python3"
  },
  "language_info": {
   "codemirror_mode": {
    "name": "ipython",
    "version": 3
   },
   "file_extension": ".py",
   "mimetype": "text/x-python",
   "name": "python",
   "nbconvert_exporter": "python",
   "pygments_lexer": "ipython3",
   "version": "3.9.2"
  }
 },
 "nbformat": 4,
 "nbformat_minor": 5
}
