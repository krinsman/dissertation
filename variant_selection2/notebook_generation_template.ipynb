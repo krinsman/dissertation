{
 "cells": [
  {
   "cell_type": "code",
   "execution_count": null,
   "id": "dietary-influence",
   "metadata": {
    "tags": [
     "parameters"
    ]
   },
   "outputs": [],
   "source": [
    "pct = 0.0\n",
    "number_droplets = 0\n",
    "number_simulations = 0\n",
    "seed = 0\n",
    "number_last_completed_simulation = 0\n",
    "size = 0\n",
    "number_batches = 0\n",
    "results_dir_base_name = ''"
   ]
  },
  {
   "cell_type": "code",
   "execution_count": null,
   "id": "lightweight-ribbon",
   "metadata": {},
   "outputs": [],
   "source": [
    "from itertools import product\n",
    "from pathlib import Path\n",
    "\n",
    "import numpy as np\n",
    "\n",
    "from simulations.utils import random_copy_numbers\n",
    "from simulations import dropletSimulation"
   ]
  },
  {
   "cell_type": "code",
   "execution_count": null,
   "id": "spectacular-professor",
   "metadata": {},
   "outputs": [],
   "source": [
    "results_dir_name = 'pct{}/{}'.format(str(100*pct), results_dir_base_name) # if change this, don't end it in a `/`\n",
    "# or if change to end in `/`, edit definition of `base_simulation_filename`\n",
    "\n",
    "base_simulation_filename = results_dir_name + '/{}_strains.seed_{}.{}_droplets.iteration_{}.npz'"
   ]
  },
  {
   "cell_type": "code",
   "execution_count": null,
   "id": "sharp-loading",
   "metadata": {},
   "outputs": [],
   "source": [
    "seed_sequence = np.random.SeedSequence(seed)\n",
    "Path(\"./\" + results_dir_name).mkdir(parents=True, exist_ok=True)"
   ]
  },
  {
   "cell_type": "markdown",
   "id": "organic-bundle",
   "metadata": {},
   "source": [
    "We can set `number_last_completed_simulation` to be the number of the last simulation (1-indexed) that was completed in the case that was disrupted."
   ]
  },
  {
   "cell_type": "code",
   "execution_count": null,
   "id": "senior-proportion",
   "metadata": {},
   "outputs": [],
   "source": [
    "if number_last_completed_simulation > 0:\n",
    "    # have seed sequence go through `number_last_completed_simulation` spawn keys\n",
    "    # so that next simulation starts at the correct spawn key,\n",
    "    # namely the `number_last_completed_simulation + 1`th\n",
    "    seed_sequence.spawn(number_last_completed_simulation)\n",
    "    # not necessary though if we're not resuming a previously interrupted simulation"
   ]
  },
  {
   "cell_type": "code",
   "execution_count": null,
   "id": "opening-wilderness",
   "metadata": {},
   "outputs": [],
   "source": [
    "%%time\n",
    "for simulation_number in range(number_last_completed_simulation, number_simulations):\n",
    "    # Python is 0-indexed, so the `number_last_completed_simulation +1`th simulation\n",
    "    # has the index `number_last_completed_simulation`\n",
    "    simulation_seed = seed_sequence.spawn(1)[0]\n",
    "    rng = np.random.default_rng(simulation_seed)\n",
    "\n",
    "    frequency_vector = pct*np.ones(size)\n",
    "    frequency_vector[-1] = (1 - np.sum(frequency_vector[:-1]))\n",
    "    assert np.sum(frequency_vector) == 1\n",
    "    \n",
    "    A = 2*(rng.random((size,size)) - 0.5)\n",
    "    A *= rng.integers(low=0, high=2, size=A.shape) # make interactions more sparse, so scientifically more interesting/plausible\n",
    "    beta = rng.random(size)\n",
    "\n",
    "    simulation = dropletSimulation(number_species=size, number_droplets=number_droplets, \n",
    "                   number_batches=number_batches, copy_numbers=random_copy_numbers(size, rng), \n",
    "                   frequency_vector=frequency_vector, glv_interaction_coefficients=A, \n",
    "                   glv_baserate_coefficients=beta,  noise_scale=8, seed=simulation_seed,\n",
    "                    timestep = 0.0001, batch_window=200, carrying_capacity=10000,\n",
    "                    merging_error=.1, spikein_rate=300, pcr_noise=0.1) \n",
    "                    # NON-ZERO MERGING ERROR, plus PCR amplification errors generated\n",
    "                    # Made PCR noise small b/c I don't really trust the log-normal model\n",
    "                    # of differential PCR amplification, and don't want to swamp out important\n",
    "                    # point that error from Poisson normalization part should not be very large\n",
    "\n",
    "    simulation.run_simulation(number_processes=10)\n",
    "\n",
    "    truth = simulation.glv_interaction_coefficients\n",
    "    true_baserates = simulation.glv_baserate_coefficients\n",
    "    copy_numbers = simulation.copy_numbers\n",
    "\n",
    "    # making copies might be an over-abundance of caution but oh well\n",
    "    true_cell_results = simulation.cells.counts.copy()\n",
    "    raw_read_results = simulation.reads.counts.copy()\n",
    "    pcr_errors = simulation.pcr_errors.counts\n",
    "    merged_cells = simulation.create_merging_errors(simulation.cells.counts)\n",
    "    merged_reads = simulation.create_merging_errors(simulation.reads.counts)\n",
    "    \n",
    "    # Save intermediate results in case there's a crash, so can resume progress by using the\n",
    "    # `number_last_completed_simulation` variable defined at top of notebook above\n",
    "    simulation_filename = base_simulation_filename.format(\n",
    "        size,seed,number_droplets,simulation_number+1)\n",
    "        \n",
    "    np.savez_compressed(simulation_filename, \n",
    "                        truth=truth, true_baserates=true_baserates, copy_numbers=copy_numbers,\n",
    "                        true_cell_results=true_cell_results, raw_read_results=raw_read_results,\n",
    "                        pcr_errors=pcr_errors, \n",
    "                        merged_cells=merged_cells, merged_reads=merged_reads\n",
    "                       )\n",
    "    print('Computed and save results for simulation # {}.\\n'.format(simulation_number))"
   ]
  }
 ],
 "metadata": {
  "kernelspec": {
   "display_name": "Python 3",
   "language": "python",
   "name": "python3"
  },
  "language_info": {
   "codemirror_mode": {
    "name": "ipython",
    "version": 3
   },
   "file_extension": ".py",
   "mimetype": "text/x-python",
   "name": "python",
   "nbconvert_exporter": "python",
   "pygments_lexer": "ipython3",
   "version": "3.9.2"
  }
 },
 "nbformat": 4,
 "nbformat_minor": 5
}
