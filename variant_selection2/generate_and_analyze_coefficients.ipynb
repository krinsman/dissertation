{
 "cells": [
  {
   "cell_type": "code",
   "execution_count": 1,
   "id": "legislative-library",
   "metadata": {
    "execution": {
     "iopub.execute_input": "2021-04-27T22:42:14.199961Z",
     "iopub.status.busy": "2021-04-27T22:42:14.197928Z",
     "iopub.status.idle": "2021-04-27T22:42:15.033511Z",
     "shell.execute_reply": "2021-04-27T22:42:15.031582Z"
    }
   },
   "outputs": [],
   "source": [
    "import multiprocessing as mp\n",
    "mp.set_start_method('spawn')\n",
    "import papermill as pm"
   ]
  },
  {
   "cell_type": "code",
   "execution_count": 2,
   "id": "chronic-electricity",
   "metadata": {
    "execution": {
     "iopub.execute_input": "2021-04-27T22:42:15.046472Z",
     "iopub.status.busy": "2021-04-27T22:42:15.044716Z",
     "iopub.status.idle": "2021-04-27T22:42:15.049207Z",
     "shell.execute_reply": "2021-04-27T22:42:15.050567Z"
    }
   },
   "outputs": [],
   "source": [
    "percentages = ['0.01', '0.02', '0.05', '0.1', '0.2', '0.5', '1.0', '2.0', '5.0', '10.0']\n",
    "\n",
    "parameter_dicts = [{'percentage': percentage} for percentage in percentages]"
   ]
  },
  {
   "cell_type": "code",
   "execution_count": 3,
   "id": "magnetic-cabin",
   "metadata": {
    "execution": {
     "iopub.execute_input": "2021-04-27T22:42:15.063447Z",
     "iopub.status.busy": "2021-04-27T22:42:15.061656Z",
     "iopub.status.idle": "2021-04-27T22:42:15.067674Z",
     "shell.execute_reply": "2021-04-27T22:42:15.066208Z"
    }
   },
   "outputs": [],
   "source": [
    "fitness_notebook_name = 'generate_and_analyze_fitness_coefficients'\n",
    "\n",
    "input_names_fitness = ['templates/{}.ipynb'.format(fitness_notebook_name) for percentage in percentages]\n",
    "output_names_fitness = ['pct{}/{}.ag.ipynb'.format(percentage, fitness_notebook_name)\n",
    "               for percentage in percentages]"
   ]
  },
  {
   "cell_type": "code",
   "execution_count": 4,
   "id": "modular-wheat",
   "metadata": {
    "execution": {
     "iopub.execute_input": "2021-04-27T22:42:15.079790Z",
     "iopub.status.busy": "2021-04-27T22:42:15.078037Z",
     "iopub.status.idle": "2021-04-27T22:42:15.083736Z",
     "shell.execute_reply": "2021-04-27T22:42:15.085125Z"
    }
   },
   "outputs": [],
   "source": [
    "corr_coef_notebook_name = 'generate_and_analyze_conditional_correlations'\n",
    "\n",
    "input_names_corr = ['templates/{}.ipynb'.format(corr_coef_notebook_name) for percentage in percentages]\n",
    "output_names_corr = ['pct{}/{}.ag.ipynb'.format(percentage, corr_coef_notebook_name)\n",
    "               for percentage in percentages]"
   ]
  },
  {
   "cell_type": "code",
   "execution_count": 5,
   "id": "individual-concern",
   "metadata": {
    "execution": {
     "iopub.execute_input": "2021-04-27T22:42:15.098044Z",
     "iopub.status.busy": "2021-04-27T22:42:15.096695Z",
     "iopub.status.idle": "2021-04-27T22:42:15.102670Z",
     "shell.execute_reply": "2021-04-27T22:42:15.101194Z"
    }
   },
   "outputs": [],
   "source": [
    "input_names = [*input_names_fitness, *input_names_corr]\n",
    "output_names = [*output_names_fitness, *output_names_corr]\n",
    "parameter_dicts = [*parameter_dicts.copy(), *parameter_dicts.copy()]"
   ]
  },
  {
   "cell_type": "code",
   "execution_count": 6,
   "id": "pediatric-liberal",
   "metadata": {
    "execution": {
     "iopub.execute_input": "2021-04-27T22:42:15.115224Z",
     "iopub.status.busy": "2021-04-27T22:42:15.113455Z",
     "iopub.status.idle": "2021-04-27T22:42:15.117973Z",
     "shell.execute_reply": "2021-04-27T22:42:15.119343Z"
    }
   },
   "outputs": [],
   "source": [
    "parallel_input = [[input_name, output_name, parameter_dict] \n",
    "                  for input_name, output_name, parameter_dict \n",
    "                  in zip(input_names, output_names, parameter_dicts)]"
   ]
  },
  {
   "cell_type": "code",
   "execution_count": 7,
   "id": "numerical-windsor",
   "metadata": {
    "execution": {
     "iopub.execute_input": "2021-04-27T22:42:15.132302Z",
     "iopub.status.busy": "2021-04-27T22:42:15.130546Z",
     "iopub.status.idle": "2021-04-27T23:31:57.459831Z",
     "shell.execute_reply": "2021-04-27T23:31:57.458969Z"
    }
   },
   "outputs": [],
   "source": [
    "pool = mp.Pool(processes=15)\n",
    "pool.starmap(pm.execute_notebook, parallel_input)\n",
    "pool.close()\n",
    "pool.join()"
   ]
  },
  {
   "cell_type": "markdown",
   "id": "above-entertainment",
   "metadata": {},
   "source": [
    "Modified from this following minimal working example (MWE) (note that `test1.ipynb` can literally be e.g. just a single cell with `print('testing')`). Cf. [this thread](https://github.com/nteract/papermill/issues/239#issuecomment-565803923).\n",
    "\n",
    "    import multiprocessing as mp\n",
    "    import papermill as pm\n",
    "\n",
    "    fn = \"test1.ipynb\"\n",
    "    \n",
    "    pool = mp.Pool(mp.cpu_count())\n",
    "    pool.starmap(pm.execute_notebook, [[fn,fn,{}]])\n",
    "    pool.close()\n",
    "    pool.join()\n",
    "    \n",
    "    pool = mp.Pool(mp.cpu_count())\n",
    "    pool.starmap(pm.execute_notebook, [[fn,fn,{}], [fn,fn,{}]])\n",
    "    pool.close()\n",
    "    pool.join()"
   ]
  }
 ],
 "metadata": {
  "kernelspec": {
   "display_name": "Python 3",
   "language": "python",
   "name": "python3"
  },
  "language_info": {
   "codemirror_mode": {
    "name": "ipython",
    "version": 3
   },
   "file_extension": ".py",
   "mimetype": "text/x-python",
   "name": "python",
   "nbconvert_exporter": "python",
   "pygments_lexer": "ipython3",
   "version": "3.9.2"
  }
 },
 "nbformat": 4,
 "nbformat_minor": 5
}
