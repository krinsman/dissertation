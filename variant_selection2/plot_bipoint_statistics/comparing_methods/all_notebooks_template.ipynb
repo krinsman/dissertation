{
 "cells": [
  {
   "cell_type": "code",
   "execution_count": null,
   "id": "central-vessel",
   "metadata": {},
   "outputs": [],
   "source": [
    "import matplotlib.pyplot as plt\n",
    "import numpy as np"
   ]
  },
  {
   "cell_type": "code",
   "execution_count": null,
   "id": "exempt-prince",
   "metadata": {},
   "outputs": [],
   "source": [
    "from plot_utils import bipointVariantsPlotter as Plotter"
   ]
  },
  {
   "cell_type": "code",
   "execution_count": null,
   "id": "lightweight-testing",
   "metadata": {},
   "outputs": [],
   "source": [
    "transformations = {'identity': (lambda x: x), 'butterfly': (lambda x: -np.log(1. - x)/np.log(10))}\n",
    "transformation = transformations[transformation_name]"
   ]
  },
  {
   "cell_type": "code",
   "execution_count": null,
   "id": "twelve-helen",
   "metadata": {},
   "outputs": [],
   "source": [
    "plotter = Plotter(base_result_filename, results_dir, kde_bounds)"
   ]
  },
  {
   "cell_type": "code",
   "execution_count": null,
   "id": "grave-reply",
   "metadata": {},
   "outputs": [],
   "source": [
    "performance = plotter.load_performance_results(metric_name)\n",
    "performance = transformation(performance)"
   ]
  },
  {
   "cell_type": "markdown",
   "id": "married-parish",
   "metadata": {},
   "source": [
    "# Method variants side by side"
   ]
  },
  {
   "cell_type": "markdown",
   "id": "static-simulation",
   "metadata": {},
   "source": [
    "### Results for Averages of Normalized"
   ]
  },
  {
   "cell_type": "code",
   "execution_count": null,
   "id": "accurate-discovery",
   "metadata": {},
   "outputs": [],
   "source": [
    "for start_index in start_indices:\n",
    "    axes = plotter.statistic_and_method_types_side_by_side(performance, avg_type=\"normalized\", \n",
    "                                                    y_title=y_title, start_index=start_index)\n",
    "    if transformation_name == 'butterfly':\n",
    "        for ax in axes: \n",
    "            plotter.annotate_important_log_scores(ax, right_y_title)"
   ]
  },
  {
   "cell_type": "markdown",
   "id": "lovely-subcommittee",
   "metadata": {},
   "source": [
    "### Results for Averages of Unnormalized"
   ]
  },
  {
   "cell_type": "code",
   "execution_count": null,
   "id": "powerful-tonight",
   "metadata": {},
   "outputs": [],
   "source": [
    "for start_index in start_indices:\n",
    "    axes = plotter.statistic_and_method_types_side_by_side(performance, avg_type=\"unnormalized\", \n",
    "                                                    y_title=y_title, start_index=start_index)\n",
    "    if transformation_name == 'butterfly':\n",
    "        for ax in axes: \n",
    "            plotter.annotate_important_log_scores(ax, right_y_title)"
   ]
  }
 ],
 "metadata": {
  "kernelspec": {
   "display_name": "Python 3",
   "language": "python",
   "name": "python3"
  },
  "language_info": {
   "codemirror_mode": {
    "name": "ipython",
    "version": 3
   },
   "file_extension": ".py",
   "mimetype": "text/x-python",
   "name": "python",
   "nbconvert_exporter": "python",
   "pygments_lexer": "ipython3",
   "version": "3.8.8"
  }
 },
 "nbformat": 4,
 "nbformat_minor": 5
}
