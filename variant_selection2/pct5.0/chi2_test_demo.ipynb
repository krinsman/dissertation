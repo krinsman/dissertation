{
 "cells": [
  {
   "cell_type": "code",
   "execution_count": 1,
   "id": "605fa7ea",
   "metadata": {},
   "outputs": [],
   "source": [
    "from pathlib import Path\n",
    "npzfiles = Path('simulation_results').rglob('*.npz')"
   ]
  },
  {
   "cell_type": "code",
   "execution_count": 2,
   "id": "e50a5586",
   "metadata": {},
   "outputs": [],
   "source": [
    "import numpy as np\n",
    "\n",
    "chi2_stats = np.zeros(500)\n",
    "chi2_pvals = np.zeros(500)"
   ]
  },
  {
   "cell_type": "code",
   "execution_count": 3,
   "id": "64f2b886",
   "metadata": {},
   "outputs": [],
   "source": [
    "from simulations.global_chi2_cpm import get_chi_squared_statistic"
   ]
  },
  {
   "cell_type": "code",
   "execution_count": 4,
   "id": "82ef2d31",
   "metadata": {},
   "outputs": [],
   "source": [
    "rate = 2\n",
    "frequency_vector = 0.05 * np.ones(11)\n",
    "frequency_vector[-1] = 1. - np.sum(frequency_vector[:-1])"
   ]
  },
  {
   "cell_type": "code",
   "execution_count": 5,
   "id": "f6e2bdc4",
   "metadata": {},
   "outputs": [
    {
     "data": {
      "text/plain": [
       "array([0.05, 0.05, 0.05, 0.05, 0.05, 0.05, 0.05, 0.05, 0.05, 0.05, 0.5 ])"
      ]
     },
     "execution_count": 5,
     "metadata": {},
     "output_type": "execute_result"
    }
   ],
   "source": [
    "frequency_vector"
   ]
  },
  {
   "cell_type": "code",
   "execution_count": 6,
   "id": "bf209f66",
   "metadata": {},
   "outputs": [],
   "source": [
    "for filenum, filename in enumerate(npzfiles):\n",
    "    npzfile = np.load(filename)\n",
    "    try:\n",
    "        true_cell_results = npzfile['true_cell_results']\n",
    "    except KeyError as e:\n",
    "        print('filenum was: {}'.format(filenum))\n",
    "        raise KeyError(e)\n",
    "    \n",
    "    for batch_number in range(5):\n",
    "        batch = true_cell_results[..., batch_number]\n",
    "        stat, pval = get_chi_squared_statistic(batch, frequency_vector, rate)\n",
    "        \n",
    "        chi2_stats[5*filenum+batch_number] = stat\n",
    "        chi2_pvals[5*filenum+batch_number] = pval"
   ]
  },
  {
   "cell_type": "code",
   "execution_count": 7,
   "id": "8a2e3e4d",
   "metadata": {},
   "outputs": [],
   "source": [
    "import matplotlib.pyplot as plt"
   ]
  },
  {
   "cell_type": "code",
   "execution_count": 8,
   "id": "5fd428db",
   "metadata": {},
   "outputs": [
    {
     "data": {
      "image/png": "[encoded data removed]",
      "text/plain": [
       "<Figure size 432x288 with 1 Axes>"
      ]
     },
     "metadata": {
      "needs_background": "light"
     },
     "output_type": "display_data"
    }
   ],
   "source": [
    "plt.hist(chi2_pvals, density=True)\n",
    "plt.show()"
   ]
  },
  {
   "cell_type": "markdown",
   "id": "8364e7c9-0e7d-4d9e-8dff-8346b16343aa",
   "metadata": {},
   "source": [
    "hm OK this looks much closer to a uniform distribution actually good...\n",
    "\n",
    "hm maybe it's because the distribution of counts is a lot more unbalanced for $0.1\\%$? so maybe \"more variance\" or \"more susceptibility to variance\"?\n",
    "\n",
    "if that explanation is correct, it actually doesn't seem to spell good news for CTPMH or CPDM or CNBDM not being significantly difrerent... oh well..."
   ]
  }
 ],
 "metadata": {
  "kernelspec": {
   "display_name": "Python 3",
   "language": "python",
   "name": "python3"
  },
  "language_info": {
   "codemirror_mode": {
    "name": "ipython",
    "version": 3
   },
   "file_extension": ".py",
   "mimetype": "text/x-python",
   "name": "python",
   "nbconvert_exporter": "python",
   "pygments_lexer": "ipython3",
   "version": "3.9.2"
  }
 },
 "nbformat": 4,
 "nbformat_minor": 5
}
