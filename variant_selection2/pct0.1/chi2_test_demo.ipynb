{
 "cells": [
  {
   "cell_type": "code",
   "execution_count": 1,
   "id": "605fa7ea",
   "metadata": {},
   "outputs": [],
   "source": [
    "from pathlib import Path\n",
    "npzfiles = Path().rglob('*.npz')"
   ]
  },
  {
   "cell_type": "code",
   "execution_count": 2,
   "id": "4469a7ac-aa93-403c-a5e4-5bc3ac0abcc6",
   "metadata": {},
   "outputs": [],
   "source": [
    "from pathlib import Path\n",
    "npzfiles = Path('simulation_results').rglob('*.npz')"
   ]
  },
  {
   "cell_type": "code",
   "execution_count": 3,
   "id": "a4a7f150-3b8b-474a-b20b-2c8430a03923",
   "metadata": {},
   "outputs": [],
   "source": [
    "import numpy as np\n",
    "\n",
    "chi2_stats = np.zeros(500)\n",
    "chi2_pvals = np.zeros(500)"
   ]
  },
  {
   "cell_type": "code",
   "execution_count": 4,
   "id": "a1e89633-ce21-4bc3-9cc7-659ef74bef4b",
   "metadata": {},
   "outputs": [],
   "source": [
    "from simulations.global_chi2_cpm import get_chi_squared_statistic"
   ]
  },
  {
   "cell_type": "code",
   "execution_count": 5,
   "id": "82ef2d31",
   "metadata": {},
   "outputs": [],
   "source": [
    "rate = 2\n",
    "frequency_vector = 0.001 * np.ones(11)\n",
    "frequency_vector[-1] = 1. - np.sum(frequency_vector[:-1])"
   ]
  },
  {
   "cell_type": "code",
   "execution_count": 6,
   "id": "f6e2bdc4",
   "metadata": {},
   "outputs": [
    {
     "data": {
      "text/plain": [
       "array([0.001, 0.001, 0.001, 0.001, 0.001, 0.001, 0.001, 0.001, 0.001,\n",
       "       0.001, 0.99 ])"
      ]
     },
     "execution_count": 6,
     "metadata": {},
     "output_type": "execute_result"
    }
   ],
   "source": [
    "frequency_vector"
   ]
  },
  {
   "cell_type": "code",
   "execution_count": 7,
   "id": "4317f4b1-e386-43f0-ac2b-698b582af312",
   "metadata": {},
   "outputs": [],
   "source": [
    "for filenum, filename in enumerate(npzfiles):\n",
    "    npzfile = np.load(filename)\n",
    "    try:\n",
    "        true_cell_results = npzfile['true_cell_results']\n",
    "    except KeyError as e:\n",
    "        print('filenum was: {}'.format(filenum))\n",
    "        raise KeyError(e)\n",
    "    \n",
    "    for batch_number in range(5):\n",
    "        batch = true_cell_results[..., batch_number]\n",
    "        stat, pval = get_chi_squared_statistic(batch, frequency_vector, rate)\n",
    "        \n",
    "        chi2_stats[5*filenum+batch_number] = stat\n",
    "        chi2_pvals[5*filenum+batch_number] = pval"
   ]
  },
  {
   "cell_type": "code",
   "execution_count": 8,
   "id": "8a2e3e4d",
   "metadata": {},
   "outputs": [],
   "source": [
    "import matplotlib.pyplot as plt"
   ]
  },
  {
   "cell_type": "code",
   "execution_count": 9,
   "id": "5fd428db",
   "metadata": {},
   "outputs": [
    {
     "data": {
      "image/png": "[encoded data removed]",
      "text/plain": [
       "<Figure size 432x288 with 1 Axes>"
      ]
     },
     "metadata": {
      "needs_background": "light"
     },
     "output_type": "display_data"
    }
   ],
   "source": [
    "plt.hist(chi2_pvals, density=True)\n",
    "plt.show()"
   ]
  },
  {
   "cell_type": "markdown",
   "id": "ecd86b2a-0546-4655-a4f0-76042268115b",
   "metadata": {},
   "source": [
    "yeah this doesn't look like a uniform distribution...\n",
    "\n",
    "I am not sure I am using the correct number of degrees of freedom? \n",
    "\n",
    "hm, `11*2/2 + 11 + 2 - 1 = 67` seems right though actually so...\n",
    "\n",
    "guess it just doesn't work, or at least not very well..."
   ]
  },
  {
   "cell_type": "markdown",
   "id": "945d0d0a-3ff0-4867-9fde-b8121d892ef7",
   "metadata": {},
   "source": [
    "**Update:** reading more about $\\chi^2$ tests, my guess now is that the issue is the very low number of expected counts for most/around half of the categories. Honestly one would have expected me to know this given that I taught students about this $\\ge 5$ rule of thumb, but that was literally three years ago at this point (God I need to graduate already) and I never took those rules seriously, so I guess it's not that surprising that it came back to bite me\n",
    "\n",
    "Anyway the point being that given my circumstances the $\\chi^2$ _distribution_ is probably not a very good approximation to the sampling distribution of the $\\chi^2$ _statistic_ under the multinomial distribution (which is the null that is supposed to be approximated and under which we would expect a uniform distribution for the $p$-values). This also seems kind of suggested by the fact that the histogram, while clearly not uniform, is sort of symmetric about/on the unit interval.\n",
    "\n",
    "Anyway the \"solution\" as it were would be to use a better approximation (or implement some computationally expensive exact test which you'll never use again) which basically has to be Monte Carlo for reasons of practicality as well as efficacy (anything else I might try to develop independently would be an amount of work corresponding to its own project, it probably wouldn't work as well anyway).\n",
    "\n",
    "So yeah in what follows let's try to implement Monte Carlo. OK? OK.\n",
    "\n",
    "Note that the null distribution will be the same for all of the files since they all have the same frequency vector. So we just need to write a function which, given the frequency vector (and number of droplets), as well as a vector of $\\chi^2$ statistics, can sample from the necessary multinomial distribution, create the empirical CDF, then pluck out the p-values for all of those statistics using that CDF.\n",
    "\n",
    "OK yay"
   ]
  },
  {
   "cell_type": "code",
   "execution_count": 10,
   "id": "6fe1a860-9776-4312-818f-f7e4cdcef2ca",
   "metadata": {},
   "outputs": [],
   "source": [
    "from statsmodels.distributions.empirical_distribution import ECDF\n",
    "# wouldn't be very difficult to re-invent the wheel here, in fact I've already reinvented it before another notebook\n",
    "# but it is more efficient/pragmatic re-using other people's code, plus it's fairly lightweight and has better\n",
    "# error handling than I would implement, and finally is less error-prone than rewriting from scratch every time\n",
    "# yes I guess I am ashamed of not computing the ECDF myself even though I can..."
   ]
  },
  {
   "cell_type": "code",
   "execution_count": 11,
   "id": "f9dd1702-3293-4826-b381-b87ff1680c4c",
   "metadata": {},
   "outputs": [],
   "source": [
    "from simulations.global_chi2_cpm import get_exactly_1_or_2_strain_probs"
   ]
  },
  {
   "cell_type": "code",
   "execution_count": 12,
   "id": "02838fbe-45f7-40ea-a926-1fb168087b41",
   "metadata": {},
   "outputs": [],
   "source": [
    "def get_expected_probs(frequency_vector, rate=2):\n",
    "    prob_empty_droplet = np.exp(-rate)\n",
    "    exactly_1_or_2_strain_probs = get_exactly_1_or_2_strain_probs(\n",
    "        frequency_vector, rate=rate\n",
    "    )\n",
    "    prob_multi_strain_droplet = (\n",
    "        1.0 - np.sum(exactly_1_or_2_strain_probs) - prob_empty_droplet\n",
    "    )\n",
    "    return (\n",
    "        prob_empty_droplet,\n",
    "        exactly_1_or_2_strain_probs,\n",
    "        prob_multi_strain_droplet,\n",
    "    )"
   ]
  },
  {
   "cell_type": "code",
   "execution_count": 13,
   "id": "5c98b301-860f-4757-be0e-76ecbb85a2f1",
   "metadata": {},
   "outputs": [],
   "source": [
    "np.set_printoptions(linewidth=180, precision=5)"
   ]
  },
  {
   "cell_type": "code",
   "execution_count": 14,
   "id": "61d55d18-47c4-45f3-af86-23d87bf8f47f",
   "metadata": {},
   "outputs": [
    {
     "data": {
      "text/plain": [
       "(0.1353352832366127,\n",
       " array([[2.70941e-04, 5.42425e-07, 5.42425e-07, 5.42425e-07, 5.42425e-07, 5.42425e-07, 5.42425e-07, 5.42425e-07, 5.42425e-07, 5.42425e-07, 1.69142e-03],\n",
       "        [0.00000e+00, 2.70941e-04, 5.42425e-07, 5.42425e-07, 5.42425e-07, 5.42425e-07, 5.42425e-07, 5.42425e-07, 5.42425e-07, 5.42425e-07, 1.69142e-03],\n",
       "        [0.00000e+00, 0.00000e+00, 2.70941e-04, 5.42425e-07, 5.42425e-07, 5.42425e-07, 5.42425e-07, 5.42425e-07, 5.42425e-07, 5.42425e-07, 1.69142e-03],\n",
       "        [0.00000e+00, 0.00000e+00, 0.00000e+00, 2.70941e-04, 5.42425e-07, 5.42425e-07, 5.42425e-07, 5.42425e-07, 5.42425e-07, 5.42425e-07, 1.69142e-03],\n",
       "        [0.00000e+00, 0.00000e+00, 0.00000e+00, 0.00000e+00, 2.70941e-04, 5.42425e-07, 5.42425e-07, 5.42425e-07, 5.42425e-07, 5.42425e-07, 1.69142e-03],\n",
       "        [0.00000e+00, 0.00000e+00, 0.00000e+00, 0.00000e+00, 0.00000e+00, 2.70941e-04, 5.42425e-07, 5.42425e-07, 5.42425e-07, 5.42425e-07, 1.69142e-03],\n",
       "        [0.00000e+00, 0.00000e+00, 0.00000e+00, 0.00000e+00, 0.00000e+00, 0.00000e+00, 2.70941e-04, 5.42425e-07, 5.42425e-07, 5.42425e-07, 1.69142e-03],\n",
       "        [0.00000e+00, 0.00000e+00, 0.00000e+00, 0.00000e+00, 0.00000e+00, 0.00000e+00, 0.00000e+00, 2.70941e-04, 5.42425e-07, 5.42425e-07, 1.69142e-03],\n",
       "        [0.00000e+00, 0.00000e+00, 0.00000e+00, 0.00000e+00, 0.00000e+00, 0.00000e+00, 0.00000e+00, 0.00000e+00, 2.70941e-04, 5.42425e-07, 1.69142e-03],\n",
       "        [0.00000e+00, 0.00000e+00, 0.00000e+00, 0.00000e+00, 0.00000e+00, 0.00000e+00, 0.00000e+00, 0.00000e+00, 0.00000e+00, 2.70941e-04, 1.69142e-03],\n",
       "        [0.00000e+00, 0.00000e+00, 0.00000e+00, 0.00000e+00, 0.00000e+00, 0.00000e+00, 0.00000e+00, 0.00000e+00, 0.00000e+00, 0.00000e+00, 8.44863e-01]]),\n",
       " 0.00015332704921655615)"
      ]
     },
     "execution_count": 14,
     "metadata": {},
     "output_type": "execute_result"
    }
   ],
   "source": [
    "get_expected_probs(frequency_vector, 2)"
   ]
  },
  {
   "cell_type": "code",
   "execution_count": 15,
   "id": "5ed8bf72-1577-430f-b92a-898f42005d7c",
   "metadata": {},
   "outputs": [],
   "source": [
    "probs_to_flatten = get_expected_probs(frequency_vector, 2)\n",
    "probs = np.array([probs_to_flatten[0]] + list(probs_to_flatten[1].ravel()[np.flatnonzero(probs_to_flatten[1])]) + [probs_to_flatten[2]])"
   ]
  },
  {
   "cell_type": "code",
   "execution_count": 16,
   "id": "a828fa66-a353-42ed-9ef5-55be8fd64239",
   "metadata": {},
   "outputs": [
    {
     "name": "stdout",
     "output_type": "stream",
     "text": [
      "68\n",
      "1.0\n"
     ]
    }
   ],
   "source": [
    "print(len(probs))\n",
    "print(np.sum(probs))"
   ]
  },
  {
   "cell_type": "code",
   "execution_count": 17,
   "id": "05c49e94-e368-4984-a272-0f1787979eba",
   "metadata": {},
   "outputs": [],
   "source": [
    "rng = np.random.default_rng(42)"
   ]
  },
  {
   "cell_type": "code",
   "execution_count": 18,
   "id": "2333c76b-459e-4095-a14f-d0e5614013eb",
   "metadata": {},
   "outputs": [],
   "source": [
    "multinomial_trials = rng.multinomial(n=100000, pvals=probs, size=1000000)"
   ]
  },
  {
   "cell_type": "code",
   "execution_count": 19,
   "id": "a22411b0-872d-42e8-aa47-03b073e4ebca",
   "metadata": {},
   "outputs": [
    {
     "data": {
      "text/plain": [
       "(1000000, 68)"
      ]
     },
     "execution_count": 19,
     "metadata": {},
     "output_type": "execute_result"
    }
   ],
   "source": [
    "multinomial_trials.shape"
   ]
  },
  {
   "cell_type": "markdown",
   "id": "fc5bad4c-94b3-4038-a6fb-57a5633573ed",
   "metadata": {},
   "source": [
    "given all of these multinoial trials, we need to calculate the corresponding $\\chi^2$ statistics that would be sampled from them\n",
    "\n",
    "each row of the trials (or each trial) is the observed counts. expected counts would then just `100000 * probs`"
   ]
  },
  {
   "cell_type": "code",
   "execution_count": 20,
   "id": "8ca6fc02-74e7-42d0-9865-47069d5a0f92",
   "metadata": {},
   "outputs": [],
   "source": [
    "expected_counts = 100000 * probs"
   ]
  },
  {
   "cell_type": "code",
   "execution_count": 21,
   "id": "5133190a-672b-4889-8635-4a10c0679077",
   "metadata": {},
   "outputs": [],
   "source": [
    "monte_carlo_chi2_stats = (multinomial_trials - expected_counts)**2 / expected_counts "
   ]
  },
  {
   "cell_type": "code",
   "execution_count": 22,
   "id": "110699c1-6e4d-4808-83ca-cb60b6a9230d",
   "metadata": {},
   "outputs": [
    {
     "data": {
      "text/plain": [
       "array([ 2.9417 ,  0.56306,  0.05424,  0.05424,  0.05424,  0.05424,  0.05424,  0.05424,  0.05424,  0.05424,  0.05424,  2.33147,  0.88829,  0.05424,  0.05424,  0.05424, 16.48997,\n",
       "        0.05424,  0.05424,  0.05424,  0.05424,  0.02712,  0.13406,  0.05424, 16.48997,  0.05424,  0.05424,  0.05424,  0.05424,  0.05424,  0.97749,  0.13406,  0.05424,  0.05424,\n",
       "        0.05424,  0.05424,  0.05424,  0.05424,  0.36509,  0.13406,  0.05424,  0.05424,  0.05424,  0.05424,  0.05424,  0.08801,  0.95778,  0.05424,  0.05424,  0.05424,  0.05424,\n",
       "        0.36509,  0.35335,  0.05424,  0.05424,  0.05424,  0.10142,  0.61866,  0.05424,  0.05424,  0.10142,  0.03029,  0.05424,  1.35551,  0.88829,  0.2029 ,  0.32092,  1.85471])"
      ]
     },
     "execution_count": 22,
     "metadata": {},
     "output_type": "execute_result"
    }
   ],
   "source": [
    "monte_carlo_chi2_stats[0,...]"
   ]
  },
  {
   "cell_type": "code",
   "execution_count": 23,
   "id": "03285044-79be-47ab-b6e3-d44227de65be",
   "metadata": {},
   "outputs": [
    {
     "data": {
      "text/plain": [
       "(1000000, 68)"
      ]
     },
     "execution_count": 23,
     "metadata": {},
     "output_type": "execute_result"
    }
   ],
   "source": [
    "monte_carlo_chi2_stats.shape"
   ]
  },
  {
   "cell_type": "code",
   "execution_count": 24,
   "id": "684afc64-0a57-48b6-b9f3-2e80253ade63",
   "metadata": {},
   "outputs": [
    {
     "data": {
      "text/plain": [
       "array([51.04711, 55.14763, 95.53922, ..., 80.94939, 74.13227, 44.90978])"
      ]
     },
     "execution_count": 24,
     "metadata": {},
     "output_type": "execute_result"
    }
   ],
   "source": [
    "monte_carlo_chi2_stats = np.sum(monte_carlo_chi2_stats, axis=1)\n",
    "monte_carlo_chi2_stats"
   ]
  },
  {
   "cell_type": "code",
   "execution_count": 25,
   "id": "1d29c45a-9da2-4a7b-b2ab-f217bd29fe7c",
   "metadata": {},
   "outputs": [],
   "source": [
    "ecdf = ECDF(monte_carlo_chi2_stats)"
   ]
  },
  {
   "cell_type": "markdown",
   "id": "15f8f84a-1652-41cd-9d68-3ed80e2f1365",
   "metadata": {},
   "source": [
    "remember ecdf gives probability less than or equal to, you want probability \"more extreme than\" which in this case means \"larger\", so 1 - CDF prob are the p-values"
   ]
  },
  {
   "cell_type": "code",
   "execution_count": 26,
   "id": "fcb56a5f-b504-453b-af64-a95bf70604ef",
   "metadata": {},
   "outputs": [],
   "source": [
    "monte_carlo_pvals = 1. - ecdf(chi2_stats)"
   ]
  },
  {
   "cell_type": "code",
   "execution_count": 27,
   "id": "3d062ef5-fab1-46a3-8196-39a734ebe6a7",
   "metadata": {},
   "outputs": [
    {
     "data": {
      "image/png": "[encoded data removed]",
      "text/plain": [
       "<Figure size 432x288 with 1 Axes>"
      ]
     },
     "metadata": {
      "needs_background": "light"
     },
     "output_type": "display_data"
    }
   ],
   "source": [
    "plt.hist(monte_carlo_pvals, density=True)\n",
    "plt.show()"
   ]
  },
  {
   "cell_type": "markdown",
   "id": "1fd4757c-b065-4ec1-94f3-44bbcb789180",
   "metadata": {},
   "source": [
    "boom, uniform distribution. well you know, almost. anyway so yeah the explanation was just that the $chi^2$ distribution was an inadequate approximation to the null distribution in this case\n",
    "\n",
    "also thank goodness Thar has lots of memory to allow me to run these crazy monte carlo simulations"
   ]
  },
  {
   "cell_type": "code",
   "execution_count": 28,
   "id": "c93b260a-9919-429d-8256-4c959ea9e4d2",
   "metadata": {},
   "outputs": [],
   "source": [
    "from statsmodels.distributions.empirical_distribution import ECDF\n",
    "\n",
    "def get_monte_carlo_ecdf(number_droplets, frequency_vector, rate=2, monte_carlo_seed=42, monte_carlo_trials=10000):\n",
    "\n",
    "    probs_to_flatten = get_expected_probs(frequency_vector, rate=rate)\n",
    "    probs = np.array([probs_to_flatten[0]] + list(probs_to_flatten[1].ravel()[np.flatnonzero(probs_to_flatten[1])]) + [probs_to_flatten[2]])\n",
    "\n",
    "    rng = np.random.default_rng(monte_carlo_seed)\n",
    "    multinomial_trials = rng.multinomial(n=number_droplets, pvals=probs, size=monte_carlo_trials)\n",
    "\n",
    "    expected_counts = number_droplets * probs\n",
    "\n",
    "    monte_carlo_chi2_stats = np.sum(((multinomial_trials - expected_counts)**2 / expected_counts), axis=1) \n",
    "\n",
    "    ecdf = ECDF(monte_carlo_chi2_stats)\n",
    "\n",
    "    return ecdf"
   ]
  },
  {
   "cell_type": "code",
   "execution_count": 29,
   "id": "b68370fb-7115-4b4b-bed7-ab9e4f8cc9bb",
   "metadata": {},
   "outputs": [],
   "source": [
    "ecdf2 = get_monte_carlo_ecdf(100000, frequency_vector, rate, monte_carlo_trials=1000000)"
   ]
  },
  {
   "cell_type": "code",
   "execution_count": 30,
   "id": "588cf281-4d92-4d22-b67f-8f1a332a597e",
   "metadata": {},
   "outputs": [
    {
     "data": {
      "text/plain": [
       "True"
      ]
     },
     "execution_count": 30,
     "metadata": {},
     "output_type": "execute_result"
    }
   ],
   "source": [
    "np.all((1. - ecdf2(chi2_stats)) == monte_carlo_pvals)"
   ]
  },
  {
   "cell_type": "markdown",
   "id": "cdc3b1e7-94ff-4265-96bd-f7eb542cfe7d",
   "metadata": {},
   "source": [
    "OK good, the function encompasses/accomplishes my workflow -- now to add it to the Python module/package"
   ]
  },
  {
   "cell_type": "code",
   "execution_count": 31,
   "id": "3556b4ab-579f-4da9-9ee6-e89771c2944c",
   "metadata": {},
   "outputs": [],
   "source": [
    "from simulations.global_chi2_cpm import get_monte_carlo_ecdf as mc_func2"
   ]
  },
  {
   "cell_type": "code",
   "execution_count": 32,
   "id": "76a4d306-14d1-41ff-b1d9-f0ecc7a7f617",
   "metadata": {},
   "outputs": [],
   "source": [
    "ecdf3 = mc_func2(100000, frequency_vector, rate, monte_carlo_trials=1000000)"
   ]
  },
  {
   "cell_type": "code",
   "execution_count": 33,
   "id": "b8c646dd-b144-423c-944d-a36a1ec3a359",
   "metadata": {},
   "outputs": [
    {
     "data": {
      "text/plain": [
       "True"
      ]
     },
     "execution_count": 33,
     "metadata": {},
     "output_type": "execute_result"
    }
   ],
   "source": [
    "np.all((1. - ecdf3(chi2_stats)) == monte_carlo_pvals)"
   ]
  },
  {
   "cell_type": "markdown",
   "id": "79ddeb62-3e13-4fef-bc4e-2540ab787bb3",
   "metadata": {},
   "source": [
    "OK great, awesome, all of the code seems to work as expected, yay"
   ]
  },
  {
   "cell_type": "code",
   "execution_count": 34,
   "id": "35fbc081-39f2-48ed-9265-57092ef6eed5",
   "metadata": {},
   "outputs": [],
   "source": [
    "ecdf4 = mc_func2(100000, frequency_vector, rate, monte_carlo_trials=10000000)"
   ]
  },
  {
   "cell_type": "markdown",
   "id": "46eaecef-7d69-4b71-8bc8-87d05fdab967",
   "metadata": {},
   "source": [
    "as a side note, wow, am I ever glad that's it's always a computer that has to try to do these sorts of crazy/inefficient and yet still not very important calculations, and not me. because wow that would be unpleasant to even try (obviously I wouldn't be able to do it, well maybe after a million years but considering no one would want to be alive that long, that still kind of further supports my point("
   ]
  },
  {
   "cell_type": "code",
   "execution_count": 37,
   "id": "3ddbcec5-6b83-460e-93c8-2e5b6796dccd",
   "metadata": {},
   "outputs": [],
   "source": [
    "higher_quality_monte_carlo_pvals = 1. - ecdf4(chi2_stats)"
   ]
  },
  {
   "cell_type": "code",
   "execution_count": 38,
   "id": "99e0a22b-1c5b-4f0e-b0ab-5a982df358e6",
   "metadata": {},
   "outputs": [
    {
     "data": {
      "text/plain": [
       "array([0.698  , 0.53329, 0.51648, 0.81844, 0.09452, 0.48237, 0.34768, 0.86762, 0.55974, 0.52349, 0.46775, 0.41015, 0.14677, 0.46457, 0.94934, 0.47809, 0.32466, 0.64491, 0.91251,\n",
       "       0.74581, 0.84585, 0.9626 , 0.42178, 0.27184, 0.28346, 0.28862, 0.24809, 0.31472, 0.27037, 0.00522, 0.61409, 0.45797, 0.36196, 0.09385, 0.64508, 0.51645, 0.82783, 0.24763,\n",
       "       0.15402, 0.0131 , 0.79555, 0.38354, 0.30775, 0.85896, 0.68581, 0.18521, 0.48742, 0.8863 , 0.33859, 0.08473, 0.00348, 0.74468, 0.25291, 0.42102, 0.55778, 0.40701, 0.96736,\n",
       "       0.32094, 0.72033, 0.12961, 0.73837, 0.20553, 0.78525, 0.28013, 0.74042, 0.96292, 0.84615, 0.53442, 0.53469, 0.89173, 0.12436, 0.80566, 0.74107, 0.60409, 0.691  , 0.36633,\n",
       "       0.41941, 0.63605, 0.42717, 0.66403, 0.28267, 0.99887, 0.84636, 0.6929 , 0.11543, 0.89664, 0.60198, 0.83251, 0.60943, 0.37279, 0.43495, 0.62859, 0.15366, 0.83173, 0.48194,\n",
       "       0.01939, 0.0279 , 0.68433, 0.5879 , 0.64393, 0.71879, 0.70444, 0.27634, 0.48872, 0.62868, 0.16097, 0.29115, 0.65929, 0.8252 , 0.56738, 0.09387, 0.86515, 0.11981, 0.54955,\n",
       "       0.23131, 0.23287, 0.30141, 0.02271, 0.41138, 0.66405, 0.37749, 0.44128, 0.2197 , 0.96964, 0.45029, 0.6875 , 0.72471, 0.6158 , 0.95474, 0.74349, 0.68401, 0.34097, 0.90942,\n",
       "       0.56096, 0.2935 , 0.26851, 0.95989, 0.39013, 0.36846, 0.66715, 0.82592, 0.30187, 0.25999, 0.76059, 0.84908, 0.50701, 0.60035, 0.79129, 0.72577, 0.48814, 0.03739, 0.46646,\n",
       "       0.97576, 0.32466, 0.86584, 0.49437, 0.72354, 0.3653 , 0.94439, 0.06005, 0.65963, 0.07283, 0.83771, 0.29918, 0.84838, 0.69332, 0.15048, 0.04317, 0.76568, 0.75973, 0.42553,\n",
       "       0.88388, 0.68697, 0.05856, 0.95436, 0.16113, 0.77277, 0.49787, 0.46472, 0.08602, 0.48885, 0.55989, 0.48973, 0.73212, 0.2545 , 0.97182, 0.58173, 0.90717, 0.59906, 0.93458,\n",
       "       0.80554, 0.93076, 0.2207 , 0.73013, 0.34999, 0.87348, 0.38062, 0.67296, 0.74525, 0.39124, 0.07136, 0.96139, 0.29765, 0.72526, 0.09203, 0.50687, 0.20659, 0.91291, 0.08269,\n",
       "       0.36478, 0.90189, 0.46547, 0.53064, 0.55642, 0.25057, 0.45647, 0.94102, 0.32312, 0.7698 , 0.53282, 0.79956, 0.40132, 0.34615, 0.35372, 0.91259, 0.99092, 0.54316, 0.84475,\n",
       "       0.5177 , 0.35095, 0.4362 , 0.73154, 0.2794 , 0.64678, 0.95979, 0.50858, 0.02959, 0.3913 , 0.66494, 0.10122, 0.60571, 0.44015, 0.47235, 0.84798, 0.22643, 0.44154, 0.62503,\n",
       "       0.8453 , 0.17395, 0.67414, 0.27496, 0.09275, 0.49282, 0.85826, 0.56305, 0.97436, 0.5801 , 0.30349, 0.2813 , 0.70054, 0.55984, 0.4319 , 0.90012, 0.93637, 0.72587, 0.02609,\n",
       "       0.16442, 0.26551, 0.44985, 0.02442, 0.60761, 0.98166, 0.09953, 0.54754, 0.61461, 0.42071, 0.64698, 0.64869, 0.88103, 0.3446 , 0.22224, 0.05601, 0.96544, 0.37377, 0.82585,\n",
       "       0.88152, 0.79571, 0.66118, 0.60549, 0.04102, 0.70081, 0.02775, 0.06038, 0.31823, 0.38928, 0.60064, 0.30541, 0.13385, 0.70344, 0.58988, 0.8596 , 0.9479 , 0.28533, 0.89843,\n",
       "       0.68421, 0.37293, 0.01409, 0.00814, 0.4785 , 0.60623, 0.82155, 0.42209, 0.26914, 0.23208, 0.27933, 0.7397 , 0.36396, 0.59063, 0.35087, 0.52281, 0.25631, 0.21906, 0.12077,\n",
       "       0.69819, 0.01954, 0.31392, 0.34831, 0.67128, 0.43755, 0.37932, 0.74553, 0.42203, 0.09116, 0.39195, 0.16822, 0.38294, 0.04746, 0.22461, 0.60371, 0.88211, 0.79442, 0.0534 ,\n",
       "       0.89511, 0.55162, 0.72321, 0.61337, 0.40554, 0.59223, 0.79387, 0.42564, 0.31734, 0.53438, 0.59416, 0.84233, 0.01022, 0.86409, 0.45003, 0.48422, 0.41785, 0.95757, 0.83815,\n",
       "       0.79175, 0.3296 , 0.87499, 0.99401, 0.16489, 0.55911, 0.02357, 0.73728, 0.8209 , 0.51808, 0.03529, 0.11069, 0.04093, 0.40343, 0.99774, 0.36482, 0.83421, 0.15326, 0.98481,\n",
       "       0.08164, 0.45978, 0.25363, 0.7815 , 0.89582, 0.11642, 0.75612, 0.85897, 0.49302, 0.27426, 0.02965, 0.54616, 0.05107, 0.69722, 0.59769, 0.5748 , 0.99392, 0.46193, 0.11   ,\n",
       "       0.11953, 0.86741, 0.56612, 0.27729, 0.33306, 0.54156, 0.74617, 0.6879 , 0.8918 , 0.35542, 0.22888, 0.09724, 0.7535 , 0.73555, 0.49749, 0.01977, 0.65592, 0.21576, 0.41854,\n",
       "       0.08768, 0.30482, 0.37947, 0.84541, 0.49331, 0.76296, 0.77416, 0.7622 , 0.14915, 0.66611, 0.83983, 0.10079, 0.19342, 0.27379, 0.62648, 0.02069, 0.91862, 0.54731, 0.09214,\n",
       "       0.12965, 0.4543 , 0.0634 , 0.57613, 0.92997, 0.90704, 0.30577, 0.56141, 0.43292, 0.23163, 0.9495 , 0.81501, 0.46683, 0.78435, 0.46914, 0.25209, 0.81393, 0.59056, 0.35957,\n",
       "       0.89539, 0.33502, 0.25189, 0.46338, 0.06302, 0.25151, 0.59185, 0.11447, 0.8514 , 0.08454, 0.35958, 0.57492, 0.08577, 0.29154, 0.16196, 0.38347, 0.73043, 0.73273, 0.95433,\n",
       "       0.48276, 0.76079, 0.19752, 0.03322, 0.3202 , 0.21003, 0.21619, 0.71044, 0.26546, 0.30569, 0.7182 , 0.88349, 0.80613, 0.35928, 0.70558, 0.83288, 0.58183, 0.16653, 0.84929,\n",
       "       0.15903, 0.28643, 0.67418, 0.24086, 0.05884, 0.65853])"
      ]
     },
     "execution_count": 38,
     "metadata": {},
     "output_type": "execute_result"
    }
   ],
   "source": [
    "higher_quality_monte_carlo_pvals"
   ]
  },
  {
   "cell_type": "markdown",
   "id": "388ef93a-d763-44e2-a74b-92b51b0f3203",
   "metadata": {},
   "source": [
    "look at that high decimal precision (although I'm not sure if that's just rounding more than statistical closeness to the truth but whatever, we can detect in principle up to 10-7, which is pretty crazy from a Monte Carlo simulation imo)"
   ]
  },
  {
   "cell_type": "code",
   "execution_count": 39,
   "id": "c0c6a50d-faa1-4a09-8cc7-48470dcd361b",
   "metadata": {},
   "outputs": [
    {
     "data": {
      "image/png": "[encoded data removed]",
      "text/plain": [
       "<Figure size 432x288 with 1 Axes>"
      ]
     },
     "metadata": {
      "needs_background": "light"
     },
     "output_type": "display_data"
    }
   ],
   "source": [
    "plt.hist(higher_quality_monte_carlo_pvals, density=True)\n",
    "plt.show()"
   ]
  },
  {
   "cell_type": "markdown",
   "id": "6fce6c34-0b5a-4b11-b620-8effde509ff4",
   "metadata": {},
   "source": [
    "yeah did I mention the part about _pointless_ calculations? poor computer..."
   ]
  }
 ],
 "metadata": {
  "kernelspec": {
   "display_name": "Python 3",
   "language": "python",
   "name": "python3"
  },
  "language_info": {
   "codemirror_mode": {
    "name": "ipython",
    "version": 3
   },
   "file_extension": ".py",
   "mimetype": "text/x-python",
   "name": "python",
   "nbconvert_exporter": "python",
   "pygments_lexer": "ipython3",
   "version": "3.9.2"
  }
 },
 "nbformat": 4,
 "nbformat_minor": 5
}
