{
 "cells": [
  {
   "cell_type": "code",
   "execution_count": 1,
   "id": "saved-crash",
   "metadata": {},
   "outputs": [],
   "source": [
    "import numpy as np\n",
    "rng = np.random.default_rng(42)\n",
    "from seaborn import heatmap"
   ]
  },
  {
   "cell_type": "markdown",
   "id": "binding-manner",
   "metadata": {},
   "source": [
    "TODO: implement this: https://stackoverflow.com/questions/55818845/fast-vectorized-multinomial-in-python"
   ]
  },
  {
   "cell_type": "code",
   "execution_count": 2,
   "id": "exact-dictionary",
   "metadata": {},
   "outputs": [],
   "source": [
    "interaction = np.array([[1,0.1,-0.1],[0.1,1,0.1],[-0.1,-0.1,1]])"
   ]
  },
  {
   "cell_type": "code",
   "execution_count": 3,
   "id": "laughing-princess",
   "metadata": {},
   "outputs": [
    {
     "data": {
      "text/plain": [
       "array([[ 1. ,  0.1, -0.1],\n",
       "       [ 0.1,  1. ,  0.1],\n",
       "       [-0.1, -0.1,  1. ]])"
      ]
     },
     "execution_count": 3,
     "metadata": {},
     "output_type": "execute_result"
    }
   ],
   "source": [
    "interaction"
   ]
  },
  {
   "cell_type": "code",
   "execution_count": 4,
   "id": "voluntary-luxury",
   "metadata": {},
   "outputs": [],
   "source": [
    "D = 100000\n",
    "S = 3"
   ]
  },
  {
   "cell_type": "code",
   "execution_count": 5,
   "id": "homeless-tribune",
   "metadata": {},
   "outputs": [],
   "source": [
    "exponentials = rng.exponential(scale=1, size=(S,D))\n",
    "dirichlet = exponentials / np.sum(exponentials, axis=0)"
   ]
  },
  {
   "cell_type": "code",
   "execution_count": 6,
   "id": "growing-galaxy",
   "metadata": {},
   "outputs": [],
   "source": [
    "interaction_exponentials = np.maximum(interaction.T @ exponentials, 0)\n",
    "interaction_dirichlet = interaction_exponentials / np.sum(interaction_exponentials, axis=0)"
   ]
  },
  {
   "cell_type": "markdown",
   "id": "eight-iraqi",
   "metadata": {},
   "source": [
    "assume we have N=2 cells in each droplet because whatever that is simpler for now"
   ]
  },
  {
   "cell_type": "code",
   "execution_count": 7,
   "id": "republican-territory",
   "metadata": {},
   "outputs": [],
   "source": [
    "dirichlet_multinomial = np.zeros((S, D))\n",
    "for d in range(D):\n",
    "    dirichlet_multinomial[:,d] = rng.multinomial(n=2, pvals=dirichlet[:,d])"
   ]
  },
  {
   "cell_type": "code",
   "execution_count": 8,
   "id": "transsexual-import",
   "metadata": {},
   "outputs": [],
   "source": [
    "interaction_dirichlet_multinomial = np.zeros((S, D))\n",
    "for d in range(D):\n",
    "    interaction_dirichlet_multinomial[:,d] = rng.multinomial(n=2, pvals=interaction_dirichlet[:,d])"
   ]
  },
  {
   "cell_type": "code",
   "execution_count": 9,
   "id": "liquid-noise",
   "metadata": {},
   "outputs": [],
   "source": [
    "dm_nonzero = dirichlet_multinomial > 0\n",
    "idm_nonzero = interaction_dirichlet_multinomial > 0"
   ]
  },
  {
   "cell_type": "code",
   "execution_count": 10,
   "id": "entire-addiction",
   "metadata": {},
   "outputs": [],
   "source": [
    "dm_cooccurrence = np.zeros((S,S))\n",
    "\n",
    "dm_cooccurrence[0,0] = np.sum(dm_nonzero[0,:] & ~dm_nonzero[1,:] & ~dm_nonzero[2,:])\n",
    "dm_cooccurrence[1,1] = np.sum(~dm_nonzero[0,:] & dm_nonzero[1,:] & ~dm_nonzero[2,:])\n",
    "dm_cooccurrence[2,2] = np.sum(~dm_nonzero[0,:] & ~dm_nonzero[1,:] & dm_nonzero[2,:])\n",
    "\n",
    "dm_cooccurrence[0,1] = np.sum(dm_nonzero[0,:] & dm_nonzero[1,:] & ~dm_nonzero[2,:])\n",
    "dm_cooccurrence[0,2] = np.sum(dm_nonzero[0,:] & ~dm_nonzero[1,:] & dm_nonzero[2,:])\n",
    "\n",
    "dm_cooccurrence[1,2] = np.sum(~dm_nonzero[0,:] & dm_nonzero[1,:] & dm_nonzero[2,:])"
   ]
  },
  {
   "cell_type": "code",
   "execution_count": 11,
   "id": "seeing-findings",
   "metadata": {},
   "outputs": [
    {
     "data": {
      "text/plain": [
       "array([[0.16639, 0.16441, 0.16812],\n",
       "       [0.     , 0.16658, 0.16723],\n",
       "       [0.     , 0.     , 0.16727]])"
      ]
     },
     "execution_count": 11,
     "metadata": {},
     "output_type": "execute_result"
    }
   ],
   "source": [
    "dm_cooccurrence /= D\n",
    "dm_cooccurrence"
   ]
  },
  {
   "cell_type": "code",
   "execution_count": 12,
   "id": "fuzzy-pulse",
   "metadata": {},
   "outputs": [],
   "source": [
    "mask = ~np.triu(np.ones_like(dm_cooccurrence, dtype=bool))"
   ]
  },
  {
   "cell_type": "code",
   "execution_count": 13,
   "id": "atmospheric-stockholm",
   "metadata": {},
   "outputs": [
    {
     "data": {
      "text/plain": [
       "<AxesSubplot:>"
      ]
     },
     "execution_count": 13,
     "metadata": {},
     "output_type": "execute_result"
    },
    {
     "data": {
      "image/png": "[encoded data removed]",
      "text/plain": [
       "<Figure size 432x288 with 2 Axes>"
      ]
     },
     "metadata": {
      "needs_background": "light"
     },
     "output_type": "display_data"
    }
   ],
   "source": [
    "heatmap(dm_cooccurrence, mask=mask, vmin=0., vmax=1.)"
   ]
  },
  {
   "cell_type": "code",
   "execution_count": 14,
   "id": "blessed-parade",
   "metadata": {},
   "outputs": [],
   "source": [
    "idm_cooccurrence = np.zeros((S,S))\n",
    "\n",
    "idm_cooccurrence[0,0] = np.sum(idm_nonzero[0,:] & ~idm_nonzero[1,:] & ~idm_nonzero[2,:])\n",
    "idm_cooccurrence[1,1] = np.sum(~idm_nonzero[0,:] & idm_nonzero[1,:] & ~idm_nonzero[2,:])\n",
    "idm_cooccurrence[2,2] = np.sum(~idm_nonzero[0,:] & ~idm_nonzero[1,:] & idm_nonzero[2,:])\n",
    "\n",
    "idm_cooccurrence[0,1] = np.sum(idm_nonzero[0,:] & idm_nonzero[1,:] & ~idm_nonzero[2,:])\n",
    "idm_cooccurrence[0,2] = np.sum(idm_nonzero[0,:] & ~idm_nonzero[1,:] & idm_nonzero[2,:])\n",
    "\n",
    "idm_cooccurrence[1,2] = np.sum(~idm_nonzero[0,:] & idm_nonzero[1,:] & idm_nonzero[2,:])"
   ]
  },
  {
   "cell_type": "code",
   "execution_count": 15,
   "id": "neither-registrar",
   "metadata": {},
   "outputs": [
    {
     "data": {
      "text/plain": [
       "array([[0.16656, 0.18482, 0.14769],\n",
       "       [0.     , 0.14422, 0.16432],\n",
       "       [0.     , 0.     , 0.19239]])"
      ]
     },
     "execution_count": 15,
     "metadata": {},
     "output_type": "execute_result"
    }
   ],
   "source": [
    "idm_cooccurrence /= D\n",
    "idm_cooccurrence"
   ]
  },
  {
   "cell_type": "code",
   "execution_count": 16,
   "id": "musical-safety",
   "metadata": {},
   "outputs": [
    {
     "data": {
      "text/plain": [
       "<AxesSubplot:>"
      ]
     },
     "execution_count": 16,
     "metadata": {},
     "output_type": "execute_result"
    },
    {
     "data": {
      "image/png": "[encoded data removed]",
      "text/plain": [
       "<Figure size 432x288 with 2 Axes>"
      ]
     },
     "metadata": {
      "needs_background": "light"
     },
     "output_type": "display_data"
    }
   ],
   "source": [
    "heatmap(idm_cooccurrence, mask=mask, vmin=0., vmax=1.)"
   ]
  },
  {
   "cell_type": "markdown",
   "id": "medieval-renaissance",
   "metadata": {},
   "source": [
    "## Stronger Interactions"
   ]
  },
  {
   "cell_type": "code",
   "execution_count": 17,
   "id": "through-mexico",
   "metadata": {},
   "outputs": [
    {
     "data": {
      "text/plain": [
       "array([[ 1.  ,  0.25, -0.25],\n",
       "       [ 0.25,  1.  ,  0.25],\n",
       "       [-0.25, -0.25,  1.  ]])"
      ]
     },
     "execution_count": 17,
     "metadata": {},
     "output_type": "execute_result"
    }
   ],
   "source": [
    "interaction = np.array([[1,0.25,-0.25],[0.25,1,0.25],[-0.25,-0.25,1]])\n",
    "interaction"
   ]
  },
  {
   "cell_type": "code",
   "execution_count": 18,
   "id": "nutritional-level",
   "metadata": {},
   "outputs": [],
   "source": [
    "interaction_exponentials = np.maximum(interaction.T @ exponentials, 0)\n",
    "interaction_dirichlet = interaction_exponentials / np.sum(interaction_exponentials, axis=0)\n",
    "\n",
    "interaction_dirichlet_multinomial = np.zeros((S, D))\n",
    "for d in range(D):\n",
    "    interaction_dirichlet_multinomial[:,d] = rng.multinomial(n=2, pvals=interaction_dirichlet[:,d])\n",
    "    \n",
    "idm_nonzero = interaction_dirichlet_multinomial > 0\n",
    "\n",
    "idm_cooccurrence = np.zeros((S,S))\n",
    "\n",
    "idm_cooccurrence[0,0] = np.sum(idm_nonzero[0,:] & ~idm_nonzero[1,:] & ~idm_nonzero[2,:])\n",
    "idm_cooccurrence[1,1] = np.sum(~idm_nonzero[0,:] & idm_nonzero[1,:] & ~idm_nonzero[2,:])\n",
    "idm_cooccurrence[2,2] = np.sum(~idm_nonzero[0,:] & ~idm_nonzero[1,:] & idm_nonzero[2,:])\n",
    "\n",
    "idm_cooccurrence[0,1] = np.sum(idm_nonzero[0,:] & idm_nonzero[1,:] & ~idm_nonzero[2,:])\n",
    "idm_cooccurrence[0,2] = np.sum(idm_nonzero[0,:] & ~idm_nonzero[1,:] & idm_nonzero[2,:])\n",
    "\n",
    "idm_cooccurrence[1,2] = np.sum(~idm_nonzero[0,:] & idm_nonzero[1,:] & idm_nonzero[2,:])\n",
    "\n",
    "idm_cooccurrence /= D"
   ]
  },
  {
   "cell_type": "code",
   "execution_count": 19,
   "id": "corresponding-venice",
   "metadata": {},
   "outputs": [
    {
     "data": {
      "text/plain": [
       "array([[0.16072, 0.20188, 0.13065],\n",
       "       [0.     , 0.12492, 0.15085],\n",
       "       [0.     , 0.     , 0.23098]])"
      ]
     },
     "execution_count": 19,
     "metadata": {},
     "output_type": "execute_result"
    }
   ],
   "source": [
    "idm_cooccurrence"
   ]
  },
  {
   "cell_type": "code",
   "execution_count": 20,
   "id": "bronze-hours",
   "metadata": {},
   "outputs": [
    {
     "data": {
      "text/plain": [
       "<AxesSubplot:>"
      ]
     },
     "execution_count": 20,
     "metadata": {},
     "output_type": "execute_result"
    },
    {
     "data": {
      "image/png": "[encoded data removed]",
      "text/plain": [
       "<Figure size 432x288 with 2 Axes>"
      ]
     },
     "metadata": {
      "needs_background": "light"
     },
     "output_type": "display_data"
    }
   ],
   "source": [
    "heatmap(idm_cooccurrence, mask=mask, vmin=0., vmax=1.)"
   ]
  },
  {
   "cell_type": "markdown",
   "id": "partial-supply",
   "metadata": {},
   "source": [
    "## Crank up the interactions further"
   ]
  },
  {
   "cell_type": "code",
   "execution_count": 21,
   "id": "double-company",
   "metadata": {},
   "outputs": [
    {
     "data": {
      "text/plain": [
       "array([[ 1. ,  0.5, -0.5],\n",
       "       [ 0.5,  1. ,  0.5],\n",
       "       [-0.5, -0.5,  1. ]])"
      ]
     },
     "execution_count": 21,
     "metadata": {},
     "output_type": "execute_result"
    }
   ],
   "source": [
    "interaction = np.array([[1,0.5,-0.5],[0.5,1,0.5],[-0.5,-0.5,1]])\n",
    "interaction"
   ]
  },
  {
   "cell_type": "code",
   "execution_count": 22,
   "id": "terminal-collar",
   "metadata": {},
   "outputs": [],
   "source": [
    "interaction_exponentials = np.maximum(interaction.T @ exponentials, 0)\n",
    "interaction_dirichlet = interaction_exponentials / np.sum(interaction_exponentials, axis=0)\n",
    "\n",
    "interaction_dirichlet_multinomial = np.zeros((S, D))\n",
    "for d in range(D):\n",
    "    interaction_dirichlet_multinomial[:,d] = rng.multinomial(n=2, pvals=interaction_dirichlet[:,d])\n",
    "    \n",
    "idm_nonzero = interaction_dirichlet_multinomial > 0\n",
    "\n",
    "idm_cooccurrence = np.zeros((S,S))\n",
    "\n",
    "idm_cooccurrence[0,0] = np.sum(idm_nonzero[0,:] & ~idm_nonzero[1,:] & ~idm_nonzero[2,:])\n",
    "idm_cooccurrence[1,1] = np.sum(~idm_nonzero[0,:] & idm_nonzero[1,:] & ~idm_nonzero[2,:])\n",
    "idm_cooccurrence[2,2] = np.sum(~idm_nonzero[0,:] & ~idm_nonzero[1,:] & idm_nonzero[2,:])\n",
    "\n",
    "idm_cooccurrence[0,1] = np.sum(idm_nonzero[0,:] & idm_nonzero[1,:] & ~idm_nonzero[2,:])\n",
    "idm_cooccurrence[0,2] = np.sum(idm_nonzero[0,:] & ~idm_nonzero[1,:] & idm_nonzero[2,:])\n",
    "\n",
    "idm_cooccurrence[1,2] = np.sum(~idm_nonzero[0,:] & idm_nonzero[1,:] & idm_nonzero[2,:])\n",
    "\n",
    "idm_cooccurrence /= D"
   ]
  },
  {
   "cell_type": "code",
   "execution_count": 23,
   "id": "million-balance",
   "metadata": {},
   "outputs": [
    {
     "data": {
      "text/plain": [
       "array([[0.14747, 0.2224 , 0.1121 ],\n",
       "       [0.     , 0.11114, 0.12742],\n",
       "       [0.     , 0.     , 0.27947]])"
      ]
     },
     "execution_count": 23,
     "metadata": {},
     "output_type": "execute_result"
    }
   ],
   "source": [
    "idm_cooccurrence"
   ]
  },
  {
   "cell_type": "code",
   "execution_count": 24,
   "id": "multiple-deadline",
   "metadata": {},
   "outputs": [
    {
     "data": {
      "text/plain": [
       "<AxesSubplot:>"
      ]
     },
     "execution_count": 24,
     "metadata": {},
     "output_type": "execute_result"
    },
    {
     "data": {
      "image/png": "[encoded data removed]",
      "text/plain": [
       "<Figure size 432x288 with 2 Axes>"
      ]
     },
     "metadata": {
      "needs_background": "light"
     },
     "output_type": "display_data"
    }
   ],
   "source": [
    "heatmap(idm_cooccurrence, mask=mask, vmin=0., vmax=1.)"
   ]
  },
  {
   "cell_type": "markdown",
   "id": "violent-invasion",
   "metadata": {},
   "source": [
    "## Now at ridiculously high level"
   ]
  },
  {
   "cell_type": "code",
   "execution_count": 25,
   "id": "efficient-multiple",
   "metadata": {},
   "outputs": [
    {
     "data": {
      "text/plain": [
       "array([[ 1,  1, -1],\n",
       "       [ 1,  1,  1],\n",
       "       [-1, -1,  1]])"
      ]
     },
     "execution_count": 25,
     "metadata": {},
     "output_type": "execute_result"
    }
   ],
   "source": [
    "interaction = np.array([[1,1,-1],[1,1,1],[-1,-1,1]])\n",
    "interaction"
   ]
  },
  {
   "cell_type": "code",
   "execution_count": 26,
   "id": "successful-toyota",
   "metadata": {},
   "outputs": [],
   "source": [
    "interaction_exponentials = np.maximum(interaction.T @ exponentials, 0)\n",
    "interaction_dirichlet = interaction_exponentials / np.sum(interaction_exponentials, axis=0)\n",
    "\n",
    "interaction_dirichlet_multinomial = np.zeros((S, D))\n",
    "for d in range(D):\n",
    "    interaction_dirichlet_multinomial[:,d] = rng.multinomial(n=2, pvals=interaction_dirichlet[:,d])\n",
    "    \n",
    "idm_nonzero = interaction_dirichlet_multinomial > 0\n",
    "\n",
    "idm_cooccurrence = np.zeros((S,S))\n",
    "\n",
    "idm_cooccurrence[0,0] = np.sum(idm_nonzero[0,:] & ~idm_nonzero[1,:] & ~idm_nonzero[2,:])\n",
    "idm_cooccurrence[1,1] = np.sum(~idm_nonzero[0,:] & idm_nonzero[1,:] & ~idm_nonzero[2,:])\n",
    "idm_cooccurrence[2,2] = np.sum(~idm_nonzero[0,:] & ~idm_nonzero[1,:] & idm_nonzero[2,:])\n",
    "\n",
    "idm_cooccurrence[0,1] = np.sum(idm_nonzero[0,:] & idm_nonzero[1,:] & ~idm_nonzero[2,:])\n",
    "idm_cooccurrence[0,2] = np.sum(idm_nonzero[0,:] & ~idm_nonzero[1,:] & idm_nonzero[2,:])\n",
    "\n",
    "idm_cooccurrence[1,2] = np.sum(~idm_nonzero[0,:] & idm_nonzero[1,:] & idm_nonzero[2,:])\n",
    "\n",
    "idm_cooccurrence /= D"
   ]
  },
  {
   "cell_type": "code",
   "execution_count": 27,
   "id": "recent-share",
   "metadata": {},
   "outputs": [
    {
     "data": {
      "text/plain": [
       "array([[0.11804, 0.23849, 0.0899 ],\n",
       "       [0.     , 0.11911, 0.09189],\n",
       "       [0.     , 0.     , 0.34257]])"
      ]
     },
     "execution_count": 27,
     "metadata": {},
     "output_type": "execute_result"
    }
   ],
   "source": [
    "idm_cooccurrence"
   ]
  },
  {
   "cell_type": "code",
   "execution_count": 28,
   "id": "incorporate-experiment",
   "metadata": {},
   "outputs": [
    {
     "data": {
      "text/plain": [
       "<AxesSubplot:>"
      ]
     },
     "execution_count": 28,
     "metadata": {},
     "output_type": "execute_result"
    },
    {
     "data": {
      "image/png": "[encoded data removed]",
      "text/plain": [
       "<Figure size 432x288 with 2 Axes>"
      ]
     },
     "metadata": {
      "needs_background": "light"
     },
     "output_type": "display_data"
    }
   ],
   "source": [
    "heatmap(idm_cooccurrence, mask=mask, vmin=0., vmax=1.)"
   ]
  }
 ],
 "metadata": {
  "kernelspec": {
   "display_name": "Python 3",
   "language": "python",
   "name": "python3"
  },
  "language_info": {
   "codemirror_mode": {
    "name": "ipython",
    "version": 3
   },
   "file_extension": ".py",
   "mimetype": "text/x-python",
   "name": "python",
   "nbconvert_exporter": "python",
   "pygments_lexer": "ipython3",
   "version": "3.9.2"
  }
 },
 "nbformat": 4,
 "nbformat_minor": 5
}
