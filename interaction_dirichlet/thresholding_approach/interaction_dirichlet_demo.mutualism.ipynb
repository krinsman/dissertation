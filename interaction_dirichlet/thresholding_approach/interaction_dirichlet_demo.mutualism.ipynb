{
 "cells": [
  {
   "cell_type": "code",
   "execution_count": 1,
   "id": "operational-cyprus",
   "metadata": {},
   "outputs": [],
   "source": [
    "import numpy as np\n",
    "rng = np.random.default_rng(42)\n",
    "from seaborn import heatmap"
   ]
  },
  {
   "cell_type": "markdown",
   "id": "handed-symbol",
   "metadata": {},
   "source": [
    "TODO: implement this: https://stackoverflow.com/questions/55818845/fast-vectorized-multinomial-in-python"
   ]
  },
  {
   "cell_type": "code",
   "execution_count": 2,
   "id": "junior-livestock",
   "metadata": {},
   "outputs": [],
   "source": [
    "interaction = np.array([[1,0.1],[0.1,1]])"
   ]
  },
  {
   "cell_type": "code",
   "execution_count": 3,
   "id": "integrated-merit",
   "metadata": {},
   "outputs": [
    {
     "data": {
      "text/plain": [
       "array([[1. , 0.1],\n",
       "       [0.1, 1. ]])"
      ]
     },
     "execution_count": 3,
     "metadata": {},
     "output_type": "execute_result"
    }
   ],
   "source": [
    "interaction"
   ]
  },
  {
   "cell_type": "code",
   "execution_count": 4,
   "id": "dressed-grave",
   "metadata": {},
   "outputs": [],
   "source": [
    "D = 100000"
   ]
  },
  {
   "cell_type": "code",
   "execution_count": 5,
   "id": "earlier-swiss",
   "metadata": {},
   "outputs": [],
   "source": [
    "exponentials = rng.exponential(scale=1, size=(2,D))\n",
    "dirichlet = exponentials / np.sum(exponentials, axis=0)"
   ]
  },
  {
   "cell_type": "code",
   "execution_count": 6,
   "id": "aggressive-integration",
   "metadata": {},
   "outputs": [],
   "source": [
    "interaction_exponentials = np.maximum(interaction.T @ exponentials, 0)\n",
    "interaction_dirichlet = interaction_exponentials / np.sum(interaction_exponentials, axis=0)"
   ]
  },
  {
   "cell_type": "markdown",
   "id": "loaded-touch",
   "metadata": {},
   "source": [
    "assume we have N=2 cells in each droplet because whatever that is simpler for now"
   ]
  },
  {
   "cell_type": "code",
   "execution_count": 7,
   "id": "special-hours",
   "metadata": {},
   "outputs": [],
   "source": [
    "dirichlet_multinomial = np.zeros((2, D))\n",
    "for d in range(D):\n",
    "    dirichlet_multinomial[:,d] = rng.multinomial(n=2, pvals=dirichlet[:,d])"
   ]
  },
  {
   "cell_type": "code",
   "execution_count": 8,
   "id": "endless-cooper",
   "metadata": {},
   "outputs": [],
   "source": [
    "interaction_dirichlet_multinomial = np.zeros((2, D))\n",
    "for d in range(D):\n",
    "    interaction_dirichlet_multinomial[:,d] = rng.multinomial(n=2, pvals=interaction_dirichlet[:,d])"
   ]
  },
  {
   "cell_type": "code",
   "execution_count": 9,
   "id": "joined-gardening",
   "metadata": {},
   "outputs": [],
   "source": [
    "dm_nonzero = dirichlet_multinomial > 0\n",
    "idm_nonzero = interaction_dirichlet_multinomial > 0"
   ]
  },
  {
   "cell_type": "code",
   "execution_count": 10,
   "id": "wireless-childhood",
   "metadata": {},
   "outputs": [],
   "source": [
    "dm_cooccurrence = np.zeros((2,2))\n",
    "dm_cooccurrence[1,1] = np.sum(~dm_nonzero[0,:] & dm_nonzero[1,:])\n",
    "dm_cooccurrence[0,1] = np.sum(dm_nonzero[0,:] & dm_nonzero[1,:])\n",
    "dm_cooccurrence[0,0] = np.sum(dm_nonzero[0,:] & ~dm_nonzero[1,:])\n",
    "dm_cooccurrence /= np.sum(dm_cooccurrence)"
   ]
  },
  {
   "cell_type": "code",
   "execution_count": 11,
   "id": "sound-pharmacology",
   "metadata": {},
   "outputs": [
    {
     "data": {
      "text/plain": [
       "array([[0.33513, 0.3336 ],\n",
       "       [0.     , 0.33127]])"
      ]
     },
     "execution_count": 11,
     "metadata": {},
     "output_type": "execute_result"
    }
   ],
   "source": [
    "dm_cooccurrence"
   ]
  },
  {
   "cell_type": "code",
   "execution_count": 12,
   "id": "guilty-facing",
   "metadata": {},
   "outputs": [],
   "source": [
    "mask = ~np.triu(np.ones_like(dm_cooccurrence, dtype=bool))"
   ]
  },
  {
   "cell_type": "code",
   "execution_count": 13,
   "id": "extra-seeker",
   "metadata": {},
   "outputs": [
    {
     "data": {
      "text/plain": [
       "<matplotlib.axes._subplots.AxesSubplot at 0x118c09be0>"
      ]
     },
     "execution_count": 13,
     "metadata": {},
     "output_type": "execute_result"
    },
    {
     "data": {
      "image/png": "[encoded data removed]",
      "text/plain": [
       "<Figure size 432x288 with 2 Axes>"
      ]
     },
     "metadata": {
      "needs_background": "light"
     },
     "output_type": "display_data"
    }
   ],
   "source": [
    "heatmap(dm_cooccurrence, mask=mask, vmin=0., vmax=1.)"
   ]
  },
  {
   "cell_type": "code",
   "execution_count": 14,
   "id": "automatic-denmark",
   "metadata": {},
   "outputs": [],
   "source": [
    "idm_cooccurrence = np.zeros((2,2))\n",
    "idm_cooccurrence[1,1] = np.sum(~idm_nonzero[0,:] & idm_nonzero[1,:])\n",
    "idm_cooccurrence[0,1] = np.sum(idm_nonzero[0,:] & idm_nonzero[1,:])\n",
    "idm_cooccurrence[0,0] = np.sum(idm_nonzero[0,:] & ~idm_nonzero[1,:])\n",
    "idm_cooccurrence /= np.sum(idm_cooccurrence)"
   ]
  },
  {
   "cell_type": "code",
   "execution_count": 15,
   "id": "civil-chemical",
   "metadata": {},
   "outputs": [
    {
     "data": {
      "text/plain": [
       "array([[0.30393, 0.38877],\n",
       "       [0.     , 0.3073 ]])"
      ]
     },
     "execution_count": 15,
     "metadata": {},
     "output_type": "execute_result"
    }
   ],
   "source": [
    "idm_cooccurrence"
   ]
  },
  {
   "cell_type": "code",
   "execution_count": 16,
   "id": "progressive-advancement",
   "metadata": {},
   "outputs": [
    {
     "data": {
      "text/plain": [
       "<matplotlib.axes._subplots.AxesSubplot at 0x16186afd0>"
      ]
     },
     "execution_count": 16,
     "metadata": {},
     "output_type": "execute_result"
    },
    {
     "data": {
      "image/png": "[encoded data removed]",
      "text/plain": [
       "<Figure size 432x288 with 2 Axes>"
      ]
     },
     "metadata": {
      "needs_background": "light"
     },
     "output_type": "display_data"
    }
   ],
   "source": [
    "heatmap(idm_cooccurrence, mask=mask, vmin=0., vmax=1.)"
   ]
  },
  {
   "cell_type": "markdown",
   "id": "retired-repair",
   "metadata": {},
   "source": [
    "## Stronger Positive Interaction"
   ]
  },
  {
   "cell_type": "code",
   "execution_count": 17,
   "id": "aggressive-convenience",
   "metadata": {},
   "outputs": [
    {
     "data": {
      "text/plain": [
       "array([[1.  , 0.25],\n",
       "       [0.25, 1.  ]])"
      ]
     },
     "execution_count": 17,
     "metadata": {},
     "output_type": "execute_result"
    }
   ],
   "source": [
    "interaction = np.array([[1,0.25],[0.25,1]])\n",
    "interaction"
   ]
  },
  {
   "cell_type": "code",
   "execution_count": 18,
   "id": "broke-success",
   "metadata": {},
   "outputs": [],
   "source": [
    "interaction_exponentials = np.maximum(interaction.T @ exponentials, 0)\n",
    "interaction_dirichlet = interaction_exponentials / np.sum(interaction_exponentials, axis=0)\n",
    "\n",
    "interaction_dirichlet_multinomial = np.zeros((2, D))\n",
    "for d in range(D):\n",
    "    interaction_dirichlet_multinomial[:,d] = rng.multinomial(n=2, pvals=interaction_dirichlet[:,d])\n",
    "    \n",
    "idm_nonzero = interaction_dirichlet_multinomial > 0\n",
    "\n",
    "idm_cooccurrence = np.zeros((2,2))\n",
    "idm_cooccurrence[1,1] = np.sum(~idm_nonzero[0,:] & idm_nonzero[1,:])\n",
    "idm_cooccurrence[0,1] = np.sum(idm_nonzero[0,:] & idm_nonzero[1,:])\n",
    "idm_cooccurrence[0,0] = np.sum(idm_nonzero[0,:] & ~idm_nonzero[1,:])\n",
    "idm_cooccurrence /= np.sum(idm_cooccurrence)"
   ]
  },
  {
   "cell_type": "code",
   "execution_count": 19,
   "id": "hungry-client",
   "metadata": {},
   "outputs": [
    {
     "data": {
      "text/plain": [
       "array([[0.28041, 0.43836],\n",
       "       [0.     , 0.28123]])"
      ]
     },
     "execution_count": 19,
     "metadata": {},
     "output_type": "execute_result"
    }
   ],
   "source": [
    "idm_cooccurrence"
   ]
  },
  {
   "cell_type": "code",
   "execution_count": 20,
   "id": "welsh-wings",
   "metadata": {},
   "outputs": [
    {
     "data": {
      "text/plain": [
       "<matplotlib.axes._subplots.AxesSubplot at 0x161950880>"
      ]
     },
     "execution_count": 20,
     "metadata": {},
     "output_type": "execute_result"
    },
    {
     "data": {
      "image/png": "[encoded data removed]",
      "text/plain": [
       "<Figure size 432x288 with 2 Axes>"
      ]
     },
     "metadata": {
      "needs_background": "light"
     },
     "output_type": "display_data"
    }
   ],
   "source": [
    "heatmap(idm_cooccurrence, mask=mask, vmin=0., vmax=1.)"
   ]
  },
  {
   "cell_type": "markdown",
   "id": "marked-delivery",
   "metadata": {},
   "source": [
    "## Crank up the mutualism further"
   ]
  },
  {
   "cell_type": "code",
   "execution_count": 21,
   "id": "threaded-exchange",
   "metadata": {},
   "outputs": [
    {
     "data": {
      "text/plain": [
       "array([[1. , 0.5],\n",
       "       [0.5, 1. ]])"
      ]
     },
     "execution_count": 21,
     "metadata": {},
     "output_type": "execute_result"
    }
   ],
   "source": [
    "interaction = np.array([[1,0.5],[0.5,1]])\n",
    "interaction"
   ]
  },
  {
   "cell_type": "code",
   "execution_count": 22,
   "id": "protecting-devil",
   "metadata": {},
   "outputs": [],
   "source": [
    "interaction_exponentials = np.maximum(interaction.T @ exponentials, 0)\n",
    "interaction_dirichlet = interaction_exponentials / np.sum(interaction_exponentials, axis=0)\n",
    "\n",
    "interaction_dirichlet_multinomial = np.zeros((2, D))\n",
    "for d in range(D):\n",
    "    interaction_dirichlet_multinomial[:,d] = rng.multinomial(n=2, pvals=interaction_dirichlet[:,d])\n",
    "    \n",
    "idm_nonzero = interaction_dirichlet_multinomial > 0\n",
    "\n",
    "idm_cooccurrence = np.zeros((2,2))\n",
    "idm_cooccurrence[1,1] = np.sum(~idm_nonzero[0,:] & idm_nonzero[1,:])\n",
    "idm_cooccurrence[0,1] = np.sum(idm_nonzero[0,:] & idm_nonzero[1,:])\n",
    "idm_cooccurrence[0,0] = np.sum(idm_nonzero[0,:] & ~idm_nonzero[1,:])\n",
    "idm_cooccurrence /= np.sum(idm_cooccurrence)"
   ]
  },
  {
   "cell_type": "code",
   "execution_count": 23,
   "id": "static-think",
   "metadata": {},
   "outputs": [
    {
     "data": {
      "text/plain": [
       "array([[0.25558, 0.48513],\n",
       "       [0.     , 0.25929]])"
      ]
     },
     "execution_count": 23,
     "metadata": {},
     "output_type": "execute_result"
    }
   ],
   "source": [
    "idm_cooccurrence"
   ]
  },
  {
   "cell_type": "code",
   "execution_count": 24,
   "id": "impressed-think",
   "metadata": {},
   "outputs": [
    {
     "data": {
      "text/plain": [
       "<matplotlib.axes._subplots.AxesSubplot at 0x16194a880>"
      ]
     },
     "execution_count": 24,
     "metadata": {},
     "output_type": "execute_result"
    },
    {
     "data": {
      "image/png": "[encoded data removed]",
      "text/plain": [
       "<Figure size 432x288 with 2 Axes>"
      ]
     },
     "metadata": {
      "needs_background": "light"
     },
     "output_type": "display_data"
    }
   ],
   "source": [
    "heatmap(idm_cooccurrence, mask=mask, vmin=0., vmax=1.)"
   ]
  },
  {
   "cell_type": "markdown",
   "id": "continental-planning",
   "metadata": {},
   "source": [
    "## Now at ridiculously high level"
   ]
  },
  {
   "cell_type": "code",
   "execution_count": 25,
   "id": "removable-plumbing",
   "metadata": {},
   "outputs": [
    {
     "data": {
      "text/plain": [
       "array([[1, 1],\n",
       "       [1, 1]])"
      ]
     },
     "execution_count": 25,
     "metadata": {},
     "output_type": "execute_result"
    }
   ],
   "source": [
    "interaction = np.array([[1,1],[1,1]])\n",
    "interaction"
   ]
  },
  {
   "cell_type": "code",
   "execution_count": 26,
   "id": "contained-report",
   "metadata": {},
   "outputs": [],
   "source": [
    "interaction_exponentials = np.maximum(interaction.T @ exponentials, 0)\n",
    "interaction_dirichlet = interaction_exponentials / np.sum(interaction_exponentials, axis=0)\n",
    "\n",
    "interaction_dirichlet_multinomial = np.zeros((2, D))\n",
    "for d in range(D):\n",
    "    interaction_dirichlet_multinomial[:,d] = rng.multinomial(n=2, pvals=interaction_dirichlet[:,d])\n",
    "    \n",
    "idm_nonzero = interaction_dirichlet_multinomial > 0\n",
    "\n",
    "idm_cooccurrence = np.zeros((2,2))\n",
    "idm_cooccurrence[1,1] = np.sum(~idm_nonzero[0,:] & idm_nonzero[1,:])\n",
    "idm_cooccurrence[0,1] = np.sum(idm_nonzero[0,:] & idm_nonzero[1,:])\n",
    "idm_cooccurrence[0,0] = np.sum(idm_nonzero[0,:] & ~idm_nonzero[1,:])\n",
    "idm_cooccurrence /= np.sum(idm_cooccurrence)"
   ]
  },
  {
   "cell_type": "code",
   "execution_count": 27,
   "id": "oriental-career",
   "metadata": {},
   "outputs": [
    {
     "data": {
      "text/plain": [
       "array([[0.25111, 0.49896],\n",
       "       [0.     , 0.24993]])"
      ]
     },
     "execution_count": 27,
     "metadata": {},
     "output_type": "execute_result"
    }
   ],
   "source": [
    "idm_cooccurrence"
   ]
  },
  {
   "cell_type": "code",
   "execution_count": 28,
   "id": "liable-performer",
   "metadata": {},
   "outputs": [
    {
     "data": {
      "text/plain": [
       "<matplotlib.axes._subplots.AxesSubplot at 0x118c095e0>"
      ]
     },
     "execution_count": 28,
     "metadata": {},
     "output_type": "execute_result"
    },
    {
     "data": {
      "image/png": "[encoded data removed]",
      "text/plain": [
       "<Figure size 432x288 with 2 Axes>"
      ]
     },
     "metadata": {
      "needs_background": "light"
     },
     "output_type": "display_data"
    }
   ],
   "source": [
    "heatmap(idm_cooccurrence, mask=mask, vmin=0., vmax=1.)"
   ]
  }
 ],
 "metadata": {
  "kernelspec": {
   "display_name": "Python 3",
   "language": "python",
   "name": "python3"
  },
  "language_info": {
   "codemirror_mode": {
    "name": "ipython",
    "version": 3
   },
   "file_extension": ".py",
   "mimetype": "text/x-python",
   "name": "python",
   "nbconvert_exporter": "python",
   "pygments_lexer": "ipython3",
   "version": "3.8.8"
  }
 },
 "nbformat": 4,
 "nbformat_minor": 5
}
