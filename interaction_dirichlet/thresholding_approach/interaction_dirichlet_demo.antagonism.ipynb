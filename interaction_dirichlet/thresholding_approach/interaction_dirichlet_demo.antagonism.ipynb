{
 "cells": [
  {
   "cell_type": "code",
   "execution_count": 1,
   "id": "color-allen",
   "metadata": {},
   "outputs": [],
   "source": [
    "import numpy as np\n",
    "rng = np.random.default_rng(42)\n",
    "from seaborn import heatmap"
   ]
  },
  {
   "cell_type": "markdown",
   "id": "novel-blind",
   "metadata": {},
   "source": [
    "TODO: implement this: https://stackoverflow.com/questions/55818845/fast-vectorized-multinomial-in-python"
   ]
  },
  {
   "cell_type": "code",
   "execution_count": 2,
   "id": "charged-cotton",
   "metadata": {},
   "outputs": [],
   "source": [
    "interaction = np.array([[1,-0.1],[-0.1,1]])"
   ]
  },
  {
   "cell_type": "code",
   "execution_count": 3,
   "id": "strategic-lambda",
   "metadata": {},
   "outputs": [
    {
     "data": {
      "text/plain": [
       "array([[ 1. , -0.1],\n",
       "       [-0.1,  1. ]])"
      ]
     },
     "execution_count": 3,
     "metadata": {},
     "output_type": "execute_result"
    }
   ],
   "source": [
    "interaction"
   ]
  },
  {
   "cell_type": "code",
   "execution_count": 4,
   "id": "static-shakespeare",
   "metadata": {},
   "outputs": [],
   "source": [
    "D = 100000"
   ]
  },
  {
   "cell_type": "code",
   "execution_count": 5,
   "id": "ignored-appreciation",
   "metadata": {},
   "outputs": [],
   "source": [
    "exponentials = rng.exponential(scale=1, size=(2,D))\n",
    "dirichlet = exponentials / np.sum(exponentials, axis=0)"
   ]
  },
  {
   "cell_type": "code",
   "execution_count": 6,
   "id": "smooth-democracy",
   "metadata": {},
   "outputs": [],
   "source": [
    "interaction_exponentials = np.maximum(interaction.T @ exponentials, 0)\n",
    "interaction_dirichlet = interaction_exponentials / np.sum(interaction_exponentials, axis=0)"
   ]
  },
  {
   "cell_type": "markdown",
   "id": "former-commitment",
   "metadata": {},
   "source": [
    "assume we have N=2 cells in each droplet because whatever that is simpler for now"
   ]
  },
  {
   "cell_type": "code",
   "execution_count": 7,
   "id": "lightweight-correction",
   "metadata": {},
   "outputs": [],
   "source": [
    "dirichlet_multinomial = np.zeros((2, D))\n",
    "for d in range(D):\n",
    "    dirichlet_multinomial[:,d] = rng.multinomial(n=2, pvals=dirichlet[:,d])"
   ]
  },
  {
   "cell_type": "code",
   "execution_count": 8,
   "id": "specialized-surrey",
   "metadata": {},
   "outputs": [],
   "source": [
    "interaction_dirichlet_multinomial = np.zeros((2, D))\n",
    "for d in range(D):\n",
    "    interaction_dirichlet_multinomial[:,d] = rng.multinomial(n=2, pvals=interaction_dirichlet[:,d])"
   ]
  },
  {
   "cell_type": "code",
   "execution_count": 9,
   "id": "stretch-medium",
   "metadata": {},
   "outputs": [],
   "source": [
    "dm_nonzero = dirichlet_multinomial > 0\n",
    "idm_nonzero = interaction_dirichlet_multinomial > 0"
   ]
  },
  {
   "cell_type": "code",
   "execution_count": 10,
   "id": "alert-fellow",
   "metadata": {},
   "outputs": [],
   "source": [
    "dm_cooccurrence = np.zeros((2,2))\n",
    "dm_cooccurrence[1,1] = np.sum(~dm_nonzero[0,:] & dm_nonzero[1,:])\n",
    "dm_cooccurrence[0,1] = np.sum(dm_nonzero[0,:] & dm_nonzero[1,:])\n",
    "dm_cooccurrence[0,0] = np.sum(dm_nonzero[0,:] & ~dm_nonzero[1,:])\n",
    "dm_cooccurrence /= np.sum(dm_cooccurrence)"
   ]
  },
  {
   "cell_type": "code",
   "execution_count": 11,
   "id": "stunning-cancellation",
   "metadata": {},
   "outputs": [
    {
     "data": {
      "text/plain": [
       "array([[0.33513, 0.3336 ],\n",
       "       [0.     , 0.33127]])"
      ]
     },
     "execution_count": 11,
     "metadata": {},
     "output_type": "execute_result"
    }
   ],
   "source": [
    "dm_cooccurrence"
   ]
  },
  {
   "cell_type": "code",
   "execution_count": 12,
   "id": "confident-mustang",
   "metadata": {},
   "outputs": [],
   "source": [
    "mask = ~np.triu(np.ones_like(dm_cooccurrence, dtype=bool))"
   ]
  },
  {
   "cell_type": "code",
   "execution_count": 13,
   "id": "identical-fitting",
   "metadata": {},
   "outputs": [
    {
     "data": {
      "text/plain": [
       "<matplotlib.axes._subplots.AxesSubplot at 0x113be4e20>"
      ]
     },
     "execution_count": 13,
     "metadata": {},
     "output_type": "execute_result"
    },
    {
     "data": {
      "image/png": "[encoded data removed]",
      "text/plain": [
       "<Figure size 432x288 with 2 Axes>"
      ]
     },
     "metadata": {
      "needs_background": "light"
     },
     "output_type": "display_data"
    }
   ],
   "source": [
    "heatmap(dm_cooccurrence, mask=mask, vmin=0., vmax=1.)"
   ]
  },
  {
   "cell_type": "code",
   "execution_count": 14,
   "id": "executive-negative",
   "metadata": {},
   "outputs": [],
   "source": [
    "idm_cooccurrence = np.zeros((2,2))\n",
    "idm_cooccurrence[1,1] = np.sum(~idm_nonzero[0,:] & idm_nonzero[1,:])\n",
    "idm_cooccurrence[0,1] = np.sum(idm_nonzero[0,:] & idm_nonzero[1,:])\n",
    "idm_cooccurrence[0,0] = np.sum(idm_nonzero[0,:] & ~idm_nonzero[1,:])\n",
    "idm_cooccurrence /= np.sum(idm_cooccurrence)"
   ]
  },
  {
   "cell_type": "code",
   "execution_count": 15,
   "id": "regulated-expert",
   "metadata": {},
   "outputs": [
    {
     "data": {
      "text/plain": [
       "array([[0.3665 , 0.27198],\n",
       "       [0.     , 0.36152]])"
      ]
     },
     "execution_count": 15,
     "metadata": {},
     "output_type": "execute_result"
    }
   ],
   "source": [
    "idm_cooccurrence"
   ]
  },
  {
   "cell_type": "code",
   "execution_count": 16,
   "id": "logical-avenue",
   "metadata": {},
   "outputs": [
    {
     "data": {
      "text/plain": [
       "<matplotlib.axes._subplots.AxesSubplot at 0x114773cd0>"
      ]
     },
     "execution_count": 16,
     "metadata": {},
     "output_type": "execute_result"
    },
    {
     "data": {
      "image/png": "[encoded data removed]",
      "text/plain": [
       "<Figure size 432x288 with 2 Axes>"
      ]
     },
     "metadata": {
      "needs_background": "light"
     },
     "output_type": "display_data"
    }
   ],
   "source": [
    "heatmap(idm_cooccurrence, mask=mask, vmin=0., vmax=1.)"
   ]
  },
  {
   "cell_type": "markdown",
   "id": "limited-christianity",
   "metadata": {},
   "source": [
    "## Stronger Negative Interaction"
   ]
  },
  {
   "cell_type": "code",
   "execution_count": 17,
   "id": "deadly-indication",
   "metadata": {},
   "outputs": [
    {
     "data": {
      "text/plain": [
       "array([[ 1.  , -0.25],\n",
       "       [-0.25,  1.  ]])"
      ]
     },
     "execution_count": 17,
     "metadata": {},
     "output_type": "execute_result"
    }
   ],
   "source": [
    "interaction = np.array([[1,-0.25],[-0.25,1]])\n",
    "interaction"
   ]
  },
  {
   "cell_type": "code",
   "execution_count": 18,
   "id": "satellite-conditions",
   "metadata": {},
   "outputs": [],
   "source": [
    "interaction_exponentials = np.maximum(interaction.T @ exponentials, 0)\n",
    "interaction_dirichlet = interaction_exponentials / np.sum(interaction_exponentials, axis=0)\n",
    "\n",
    "interaction_dirichlet_multinomial = np.zeros((2, D))\n",
    "for d in range(D):\n",
    "    interaction_dirichlet_multinomial[:,d] = rng.multinomial(n=2, pvals=interaction_dirichlet[:,d])\n",
    "    \n",
    "idm_nonzero = interaction_dirichlet_multinomial > 0\n",
    "\n",
    "idm_cooccurrence = np.zeros((2,2))\n",
    "idm_cooccurrence[1,1] = np.sum(~idm_nonzero[0,:] & idm_nonzero[1,:])\n",
    "idm_cooccurrence[0,1] = np.sum(idm_nonzero[0,:] & idm_nonzero[1,:])\n",
    "idm_cooccurrence[0,0] = np.sum(idm_nonzero[0,:] & ~idm_nonzero[1,:])\n",
    "idm_cooccurrence /= np.sum(idm_cooccurrence)"
   ]
  },
  {
   "cell_type": "code",
   "execution_count": 19,
   "id": "eleven-outreach",
   "metadata": {},
   "outputs": [
    {
     "data": {
      "text/plain": [
       "array([[0.40337, 0.19768],\n",
       "       [0.     , 0.39895]])"
      ]
     },
     "execution_count": 19,
     "metadata": {},
     "output_type": "execute_result"
    }
   ],
   "source": [
    "idm_cooccurrence"
   ]
  },
  {
   "cell_type": "code",
   "execution_count": 20,
   "id": "handy-ozone",
   "metadata": {},
   "outputs": [
    {
     "data": {
      "text/plain": [
       "<matplotlib.axes._subplots.AxesSubplot at 0x114856f40>"
      ]
     },
     "execution_count": 20,
     "metadata": {},
     "output_type": "execute_result"
    },
    {
     "data": {
      "image/png": "[encoded data removed]",
      "text/plain": [
       "<Figure size 432x288 with 2 Axes>"
      ]
     },
     "metadata": {
      "needs_background": "light"
     },
     "output_type": "display_data"
    }
   ],
   "source": [
    "heatmap(idm_cooccurrence, mask=mask, vmin=0., vmax=1.)"
   ]
  },
  {
   "cell_type": "markdown",
   "id": "acute-fountain",
   "metadata": {},
   "source": [
    "## Crank up the antagonism further"
   ]
  },
  {
   "cell_type": "code",
   "execution_count": 21,
   "id": "favorite-absence",
   "metadata": {},
   "outputs": [
    {
     "data": {
      "text/plain": [
       "array([[ 1. , -0.5],\n",
       "       [-0.5,  1. ]])"
      ]
     },
     "execution_count": 21,
     "metadata": {},
     "output_type": "execute_result"
    }
   ],
   "source": [
    "interaction = np.array([[1,-0.5],[-0.5,1]])\n",
    "interaction"
   ]
  },
  {
   "cell_type": "code",
   "execution_count": 22,
   "id": "dietary-hopkins",
   "metadata": {},
   "outputs": [],
   "source": [
    "interaction_exponentials = np.maximum(interaction.T @ exponentials, 0)\n",
    "interaction_dirichlet = interaction_exponentials / np.sum(interaction_exponentials, axis=0)\n",
    "\n",
    "interaction_dirichlet_multinomial = np.zeros((2, D))\n",
    "for d in range(D):\n",
    "    interaction_dirichlet_multinomial[:,d] = rng.multinomial(n=2, pvals=interaction_dirichlet[:,d])\n",
    "    \n",
    "idm_nonzero = interaction_dirichlet_multinomial > 0\n",
    "\n",
    "idm_cooccurrence = np.zeros((2,2))\n",
    "idm_cooccurrence[1,1] = np.sum(~idm_nonzero[0,:] & idm_nonzero[1,:])\n",
    "idm_cooccurrence[0,1] = np.sum(idm_nonzero[0,:] & idm_nonzero[1,:])\n",
    "idm_cooccurrence[0,0] = np.sum(idm_nonzero[0,:] & ~idm_nonzero[1,:])\n",
    "idm_cooccurrence /= np.sum(idm_cooccurrence)"
   ]
  },
  {
   "cell_type": "code",
   "execution_count": 23,
   "id": "increasing-trader",
   "metadata": {},
   "outputs": [
    {
     "data": {
      "text/plain": [
       "array([[0.44819, 0.10957],\n",
       "       [0.     , 0.44224]])"
      ]
     },
     "execution_count": 23,
     "metadata": {},
     "output_type": "execute_result"
    }
   ],
   "source": [
    "idm_cooccurrence"
   ]
  },
  {
   "cell_type": "code",
   "execution_count": 24,
   "id": "indonesian-valley",
   "metadata": {},
   "outputs": [
    {
     "data": {
      "text/plain": [
       "<matplotlib.axes._subplots.AxesSubplot at 0x114d28940>"
      ]
     },
     "execution_count": 24,
     "metadata": {},
     "output_type": "execute_result"
    },
    {
     "data": {
      "image/png": "[encoded data removed]",
      "text/plain": [
       "<Figure size 432x288 with 2 Axes>"
      ]
     },
     "metadata": {
      "needs_background": "light"
     },
     "output_type": "display_data"
    }
   ],
   "source": [
    "heatmap(idm_cooccurrence, mask=mask, vmin=0., vmax=1.)"
   ]
  },
  {
   "cell_type": "markdown",
   "id": "agricultural-zimbabwe",
   "metadata": {},
   "source": [
    "## Now at ridiculously high level"
   ]
  },
  {
   "cell_type": "code",
   "execution_count": 25,
   "id": "manufactured-institute",
   "metadata": {},
   "outputs": [
    {
     "data": {
      "text/plain": [
       "array([[ 1, -1],\n",
       "       [-1,  1]])"
      ]
     },
     "execution_count": 25,
     "metadata": {},
     "output_type": "execute_result"
    }
   ],
   "source": [
    "interaction = np.array([[1,-1],[-1,1]])\n",
    "interaction"
   ]
  },
  {
   "cell_type": "code",
   "execution_count": 26,
   "id": "technological-swimming",
   "metadata": {},
   "outputs": [],
   "source": [
    "interaction_exponentials = np.maximum(interaction.T @ exponentials, 0)\n",
    "interaction_dirichlet = interaction_exponentials / np.sum(interaction_exponentials, axis=0)\n",
    "\n",
    "interaction_dirichlet_multinomial = np.zeros((2, D))\n",
    "for d in range(D):\n",
    "    interaction_dirichlet_multinomial[:,d] = rng.multinomial(n=2, pvals=interaction_dirichlet[:,d])\n",
    "    \n",
    "idm_nonzero = interaction_dirichlet_multinomial > 0\n",
    "\n",
    "idm_cooccurrence = np.zeros((2,2))\n",
    "idm_cooccurrence[1,1] = np.sum(~idm_nonzero[0,:] & idm_nonzero[1,:])\n",
    "idm_cooccurrence[0,1] = np.sum(idm_nonzero[0,:] & idm_nonzero[1,:])\n",
    "idm_cooccurrence[0,0] = np.sum(idm_nonzero[0,:] & ~idm_nonzero[1,:])\n",
    "idm_cooccurrence /= np.sum(idm_cooccurrence)"
   ]
  },
  {
   "cell_type": "code",
   "execution_count": 27,
   "id": "resistant-capture",
   "metadata": {},
   "outputs": [
    {
     "data": {
      "text/plain": [
       "array([[0.50363, 0.     ],\n",
       "       [0.     , 0.49637]])"
      ]
     },
     "execution_count": 27,
     "metadata": {},
     "output_type": "execute_result"
    }
   ],
   "source": [
    "idm_cooccurrence"
   ]
  },
  {
   "cell_type": "code",
   "execution_count": 28,
   "id": "civilian-wealth",
   "metadata": {},
   "outputs": [
    {
     "data": {
      "text/plain": [
       "<matplotlib.axes._subplots.AxesSubplot at 0x108c3fdc0>"
      ]
     },
     "execution_count": 28,
     "metadata": {},
     "output_type": "execute_result"
    },
    {
     "data": {
      "image/png": "[encoded data removed]",
      "text/plain": [
       "<Figure size 432x288 with 2 Axes>"
      ]
     },
     "metadata": {
      "needs_background": "light"
     },
     "output_type": "display_data"
    }
   ],
   "source": [
    "heatmap(idm_cooccurrence, mask=mask, vmin=0., vmax=1.)"
   ]
  }
 ],
 "metadata": {
  "kernelspec": {
   "display_name": "Python 3",
   "language": "python",
   "name": "python3"
  },
  "language_info": {
   "codemirror_mode": {
    "name": "ipython",
    "version": 3
   },
   "file_extension": ".py",
   "mimetype": "text/x-python",
   "name": "python",
   "nbconvert_exporter": "python",
   "pygments_lexer": "ipython3",
   "version": "3.8.8"
  }
 },
 "nbformat": 4,
 "nbformat_minor": 5
}
