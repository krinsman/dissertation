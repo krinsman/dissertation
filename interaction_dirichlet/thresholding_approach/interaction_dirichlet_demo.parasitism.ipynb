{
 "cells": [
  {
   "cell_type": "code",
   "execution_count": 1,
   "id": "surface-updating",
   "metadata": {},
   "outputs": [],
   "source": [
    "import numpy as np\n",
    "rng = np.random.default_rng(42)\n",
    "from seaborn import heatmap"
   ]
  },
  {
   "cell_type": "markdown",
   "id": "objective-diesel",
   "metadata": {},
   "source": [
    "TODO: implement this: https://stackoverflow.com/questions/55818845/fast-vectorized-multinomial-in-python"
   ]
  },
  {
   "cell_type": "markdown",
   "id": "brave-recommendation",
   "metadata": {},
   "source": [
    "## Parasitism"
   ]
  },
  {
   "cell_type": "code",
   "execution_count": 2,
   "id": "military-cooper",
   "metadata": {},
   "outputs": [],
   "source": [
    "interaction = np.array([[1,0.1],[-0.1,1]])"
   ]
  },
  {
   "cell_type": "code",
   "execution_count": 3,
   "id": "ready-phoenix",
   "metadata": {},
   "outputs": [
    {
     "data": {
      "text/plain": [
       "array([[ 1. ,  0.1],\n",
       "       [-0.1,  1. ]])"
      ]
     },
     "execution_count": 3,
     "metadata": {},
     "output_type": "execute_result"
    }
   ],
   "source": [
    "interaction"
   ]
  },
  {
   "cell_type": "code",
   "execution_count": 4,
   "id": "blond-tractor",
   "metadata": {},
   "outputs": [],
   "source": [
    "D = 100000"
   ]
  },
  {
   "cell_type": "code",
   "execution_count": 5,
   "id": "sharp-plastic",
   "metadata": {},
   "outputs": [],
   "source": [
    "exponentials = rng.exponential(scale=1, size=(2,D))\n",
    "dirichlet = exponentials / np.sum(exponentials, axis=0)"
   ]
  },
  {
   "cell_type": "code",
   "execution_count": 6,
   "id": "israeli-helping",
   "metadata": {},
   "outputs": [],
   "source": [
    "interaction_exponentials = np.maximum(interaction.T @ exponentials, 0)\n",
    "interaction_dirichlet = interaction_exponentials / np.sum(interaction_exponentials, axis=0)"
   ]
  },
  {
   "cell_type": "markdown",
   "id": "alternative-cover",
   "metadata": {},
   "source": [
    "assume we have N=2 cells in each droplet because whatever that is simpler for now"
   ]
  },
  {
   "cell_type": "code",
   "execution_count": 7,
   "id": "unlike-pencil",
   "metadata": {},
   "outputs": [],
   "source": [
    "dirichlet_multinomial = np.zeros((2, D))\n",
    "for d in range(D):\n",
    "    dirichlet_multinomial[:,d] = rng.multinomial(n=2, pvals=dirichlet[:,d])"
   ]
  },
  {
   "cell_type": "code",
   "execution_count": 8,
   "id": "descending-donor",
   "metadata": {},
   "outputs": [],
   "source": [
    "interaction_dirichlet_multinomial = np.zeros((2, D))\n",
    "for d in range(D):\n",
    "    interaction_dirichlet_multinomial[:,d] = rng.multinomial(n=2, pvals=interaction_dirichlet[:,d])"
   ]
  },
  {
   "cell_type": "code",
   "execution_count": 9,
   "id": "mexican-external",
   "metadata": {},
   "outputs": [],
   "source": [
    "dm_nonzero = dirichlet_multinomial > 0\n",
    "idm_nonzero = interaction_dirichlet_multinomial > 0"
   ]
  },
  {
   "cell_type": "code",
   "execution_count": 10,
   "id": "substantial-pioneer",
   "metadata": {},
   "outputs": [],
   "source": [
    "dm_cooccurrence = np.zeros((2,2))\n",
    "dm_cooccurrence[1,1] = np.sum(~dm_nonzero[0,:] & dm_nonzero[1,:])\n",
    "dm_cooccurrence[0,1] = np.sum(dm_nonzero[0,:] & dm_nonzero[1,:])\n",
    "dm_cooccurrence[0,0] = np.sum(dm_nonzero[0,:] & ~dm_nonzero[1,:])\n",
    "dm_cooccurrence /= np.sum(dm_cooccurrence)"
   ]
  },
  {
   "cell_type": "code",
   "execution_count": 11,
   "id": "assured-integer",
   "metadata": {},
   "outputs": [
    {
     "data": {
      "text/plain": [
       "array([[0.33513, 0.3336 ],\n",
       "       [0.     , 0.33127]])"
      ]
     },
     "execution_count": 11,
     "metadata": {},
     "output_type": "execute_result"
    }
   ],
   "source": [
    "dm_cooccurrence"
   ]
  },
  {
   "cell_type": "code",
   "execution_count": 12,
   "id": "naval-college",
   "metadata": {},
   "outputs": [],
   "source": [
    "mask = ~np.triu(np.ones_like(dm_cooccurrence, dtype=bool))"
   ]
  },
  {
   "cell_type": "code",
   "execution_count": 13,
   "id": "athletic-denial",
   "metadata": {},
   "outputs": [
    {
     "data": {
      "text/plain": [
       "<matplotlib.axes._subplots.AxesSubplot at 0x159338e80>"
      ]
     },
     "execution_count": 13,
     "metadata": {},
     "output_type": "execute_result"
    },
    {
     "data": {
      "image/png": "[encoded data removed]",
      "text/plain": [
       "<Figure size 432x288 with 2 Axes>"
      ]
     },
     "metadata": {
      "needs_background": "light"
     },
     "output_type": "display_data"
    }
   ],
   "source": [
    "heatmap(dm_cooccurrence, mask=mask, vmin=0., vmax=1.)"
   ]
  },
  {
   "cell_type": "code",
   "execution_count": 14,
   "id": "nominated-thursday",
   "metadata": {},
   "outputs": [],
   "source": [
    "idm_cooccurrence = np.zeros((2,2))\n",
    "idm_cooccurrence[1,1] = np.sum(~idm_nonzero[0,:] & idm_nonzero[1,:])\n",
    "idm_cooccurrence[0,1] = np.sum(idm_nonzero[0,:] & idm_nonzero[1,:])\n",
    "idm_cooccurrence[0,0] = np.sum(idm_nonzero[0,:] & ~idm_nonzero[1,:])\n",
    "idm_cooccurrence /= np.sum(idm_cooccurrence)"
   ]
  },
  {
   "cell_type": "code",
   "execution_count": 15,
   "id": "african-steel",
   "metadata": {},
   "outputs": [
    {
     "data": {
      "text/plain": [
       "array([[0.27586, 0.32901],\n",
       "       [0.     , 0.39513]])"
      ]
     },
     "execution_count": 15,
     "metadata": {},
     "output_type": "execute_result"
    }
   ],
   "source": [
    "idm_cooccurrence"
   ]
  },
  {
   "cell_type": "code",
   "execution_count": 16,
   "id": "neither-valentine",
   "metadata": {},
   "outputs": [
    {
     "data": {
      "text/plain": [
       "<matplotlib.axes._subplots.AxesSubplot at 0x159eaba60>"
      ]
     },
     "execution_count": 16,
     "metadata": {},
     "output_type": "execute_result"
    },
    {
     "data": {
      "image/png": "[encoded data removed]",
      "text/plain": [
       "<Figure size 432x288 with 2 Axes>"
      ]
     },
     "metadata": {
      "needs_background": "light"
     },
     "output_type": "display_data"
    }
   ],
   "source": [
    "heatmap(idm_cooccurrence, mask=mask, vmin=0., vmax=1.)"
   ]
  },
  {
   "cell_type": "markdown",
   "id": "prospective-admission",
   "metadata": {},
   "source": [
    "## Stronger Parasitism"
   ]
  },
  {
   "cell_type": "code",
   "execution_count": 17,
   "id": "fatty-function",
   "metadata": {},
   "outputs": [
    {
     "data": {
      "text/plain": [
       "array([[ 1.  ,  0.25],\n",
       "       [-0.25,  1.  ]])"
      ]
     },
     "execution_count": 17,
     "metadata": {},
     "output_type": "execute_result"
    }
   ],
   "source": [
    "interaction = np.array([[1,0.25],[-0.25,1]])\n",
    "interaction"
   ]
  },
  {
   "cell_type": "code",
   "execution_count": 18,
   "id": "devoted-optics",
   "metadata": {},
   "outputs": [],
   "source": [
    "interaction_exponentials = np.maximum(interaction.T @ exponentials, 0)\n",
    "interaction_dirichlet = interaction_exponentials / np.sum(interaction_exponentials, axis=0)\n",
    "\n",
    "interaction_dirichlet_multinomial = np.zeros((2, D))\n",
    "for d in range(D):\n",
    "    interaction_dirichlet_multinomial[:,d] = rng.multinomial(n=2, pvals=interaction_dirichlet[:,d])\n",
    "    \n",
    "idm_nonzero = interaction_dirichlet_multinomial > 0\n",
    "\n",
    "idm_cooccurrence = np.zeros((2,2))\n",
    "idm_cooccurrence[1,1] = np.sum(~idm_nonzero[0,:] & idm_nonzero[1,:])\n",
    "idm_cooccurrence[0,1] = np.sum(idm_nonzero[0,:] & idm_nonzero[1,:])\n",
    "idm_cooccurrence[0,0] = np.sum(idm_nonzero[0,:] & ~idm_nonzero[1,:])\n",
    "idm_cooccurrence /= np.sum(idm_cooccurrence)"
   ]
  },
  {
   "cell_type": "code",
   "execution_count": 19,
   "id": "paperback-lawrence",
   "metadata": {},
   "outputs": [
    {
     "data": {
      "text/plain": [
       "array([[0.20742, 0.31092],\n",
       "       [0.     , 0.48166]])"
      ]
     },
     "execution_count": 19,
     "metadata": {},
     "output_type": "execute_result"
    }
   ],
   "source": [
    "idm_cooccurrence"
   ]
  },
  {
   "cell_type": "code",
   "execution_count": 20,
   "id": "planned-diving",
   "metadata": {},
   "outputs": [
    {
     "data": {
      "text/plain": [
       "<matplotlib.axes._subplots.AxesSubplot at 0x159f788b0>"
      ]
     },
     "execution_count": 20,
     "metadata": {},
     "output_type": "execute_result"
    },
    {
     "data": {
      "image/png": "[encoded data removed]",
      "text/plain": [
       "<Figure size 432x288 with 2 Axes>"
      ]
     },
     "metadata": {
      "needs_background": "light"
     },
     "output_type": "display_data"
    }
   ],
   "source": [
    "heatmap(idm_cooccurrence, mask=mask, vmin=0., vmax=1.)"
   ]
  },
  {
   "cell_type": "markdown",
   "id": "documentary-theta",
   "metadata": {},
   "source": [
    "## Crank up the parsitism further"
   ]
  },
  {
   "cell_type": "code",
   "execution_count": 21,
   "id": "restricted-circular",
   "metadata": {},
   "outputs": [
    {
     "data": {
      "text/plain": [
       "array([[ 1. ,  0.5],\n",
       "       [-0.5,  1. ]])"
      ]
     },
     "execution_count": 21,
     "metadata": {},
     "output_type": "execute_result"
    }
   ],
   "source": [
    "interaction = np.array([[1,0.5],[-0.5,1]])\n",
    "interaction"
   ]
  },
  {
   "cell_type": "code",
   "execution_count": 22,
   "id": "bridal-token",
   "metadata": {},
   "outputs": [],
   "source": [
    "interaction_exponentials = np.maximum(interaction.T @ exponentials, 0)\n",
    "interaction_dirichlet = interaction_exponentials / np.sum(interaction_exponentials, axis=0)\n",
    "\n",
    "interaction_dirichlet_multinomial = np.zeros((2, D))\n",
    "for d in range(D):\n",
    "    interaction_dirichlet_multinomial[:,d] = rng.multinomial(n=2, pvals=interaction_dirichlet[:,d])\n",
    "    \n",
    "idm_nonzero = interaction_dirichlet_multinomial > 0\n",
    "\n",
    "idm_cooccurrence = np.zeros((2,2))\n",
    "idm_cooccurrence[1,1] = np.sum(~idm_nonzero[0,:] & idm_nonzero[1,:])\n",
    "idm_cooccurrence[0,1] = np.sum(idm_nonzero[0,:] & idm_nonzero[1,:])\n",
    "idm_cooccurrence[0,0] = np.sum(idm_nonzero[0,:] & ~idm_nonzero[1,:])\n",
    "idm_cooccurrence /= np.sum(idm_cooccurrence)"
   ]
  },
  {
   "cell_type": "code",
   "execution_count": 23,
   "id": "together-proposal",
   "metadata": {},
   "outputs": [
    {
     "data": {
      "text/plain": [
       "array([[0.12908, 0.27354],\n",
       "       [0.     , 0.59738]])"
      ]
     },
     "execution_count": 23,
     "metadata": {},
     "output_type": "execute_result"
    }
   ],
   "source": [
    "idm_cooccurrence"
   ]
  },
  {
   "cell_type": "code",
   "execution_count": 24,
   "id": "natural-pleasure",
   "metadata": {},
   "outputs": [
    {
     "data": {
      "text/plain": [
       "<matplotlib.axes._subplots.AxesSubplot at 0x15a45f4c0>"
      ]
     },
     "execution_count": 24,
     "metadata": {},
     "output_type": "execute_result"
    },
    {
     "data": {
      "image/png": "[encoded data removed]",
      "text/plain": [
       "<Figure size 432x288 with 2 Axes>"
      ]
     },
     "metadata": {
      "needs_background": "light"
     },
     "output_type": "display_data"
    }
   ],
   "source": [
    "heatmap(idm_cooccurrence, mask=mask, vmin=0., vmax=1.)"
   ]
  },
  {
   "cell_type": "markdown",
   "id": "instant-burke",
   "metadata": {},
   "source": [
    "## Now at ridiculously high level"
   ]
  },
  {
   "cell_type": "code",
   "execution_count": 25,
   "id": "innovative-junction",
   "metadata": {},
   "outputs": [
    {
     "data": {
      "text/plain": [
       "array([[ 1,  1],\n",
       "       [-1,  1]])"
      ]
     },
     "execution_count": 25,
     "metadata": {},
     "output_type": "execute_result"
    }
   ],
   "source": [
    "interaction = np.array([[1,1],[-1,1]])\n",
    "interaction"
   ]
  },
  {
   "cell_type": "code",
   "execution_count": 26,
   "id": "governmental-scholarship",
   "metadata": {},
   "outputs": [],
   "source": [
    "interaction_exponentials = np.maximum(interaction.T @ exponentials, 0)\n",
    "interaction_dirichlet = interaction_exponentials / np.sum(interaction_exponentials, axis=0)\n",
    "\n",
    "interaction_dirichlet_multinomial = np.zeros((2, D))\n",
    "for d in range(D):\n",
    "    interaction_dirichlet_multinomial[:,d] = rng.multinomial(n=2, pvals=interaction_dirichlet[:,d])\n",
    "    \n",
    "idm_nonzero = interaction_dirichlet_multinomial > 0\n",
    "\n",
    "idm_cooccurrence = np.zeros((2,2))\n",
    "idm_cooccurrence[1,1] = np.sum(~idm_nonzero[0,:] & idm_nonzero[1,:])\n",
    "idm_cooccurrence[0,1] = np.sum(idm_nonzero[0,:] & idm_nonzero[1,:])\n",
    "idm_cooccurrence[0,0] = np.sum(idm_nonzero[0,:] & ~idm_nonzero[1,:])\n",
    "idm_cooccurrence /= np.sum(idm_cooccurrence)"
   ]
  },
  {
   "cell_type": "code",
   "execution_count": 27,
   "id": "abstract-reward",
   "metadata": {},
   "outputs": [
    {
     "data": {
      "text/plain": [
       "array([[0.05738, 0.1944 ],\n",
       "       [0.     , 0.74822]])"
      ]
     },
     "execution_count": 27,
     "metadata": {},
     "output_type": "execute_result"
    }
   ],
   "source": [
    "idm_cooccurrence"
   ]
  },
  {
   "cell_type": "code",
   "execution_count": 28,
   "id": "damaged-freeware",
   "metadata": {},
   "outputs": [
    {
     "data": {
      "text/plain": [
       "<matplotlib.axes._subplots.AxesSubplot at 0x1055e1130>"
      ]
     },
     "execution_count": 28,
     "metadata": {},
     "output_type": "execute_result"
    },
    {
     "data": {
      "image/png": "[encoded data removed]",
      "text/plain": [
       "<Figure size 432x288 with 2 Axes>"
      ]
     },
     "metadata": {
      "needs_background": "light"
     },
     "output_type": "display_data"
    }
   ],
   "source": [
    "heatmap(idm_cooccurrence, mask=mask, vmin=0., vmax=1.)"
   ]
  }
 ],
 "metadata": {
  "kernelspec": {
   "display_name": "Python 3",
   "language": "python",
   "name": "python3"
  },
  "language_info": {
   "codemirror_mode": {
    "name": "ipython",
    "version": 3
   },
   "file_extension": ".py",
   "mimetype": "text/x-python",
   "name": "python",
   "nbconvert_exporter": "python",
   "pygments_lexer": "ipython3",
   "version": "3.8.8"
  }
 },
 "nbformat": 4,
 "nbformat_minor": 5
}
