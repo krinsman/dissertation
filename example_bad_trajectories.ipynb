{
 "cells": [
  {
   "cell_type": "code",
   "execution_count": 1,
   "id": "further-aging",
   "metadata": {},
   "outputs": [],
   "source": [
    "from simulations import dropletSimulation\n",
    "import numpy as np\n",
    "\n",
    "import seaborn as sns\n",
    "import matplotlib.pyplot as plt"
   ]
  },
  {
   "cell_type": "code",
   "execution_count": 2,
   "id": "endangered-citation",
   "metadata": {},
   "outputs": [],
   "source": [
    "rng = np.random.default_rng(42)"
   ]
  },
  {
   "cell_type": "code",
   "execution_count": 3,
   "id": "economic-technology",
   "metadata": {},
   "outputs": [],
   "source": [
    "from simulations.simulation import glv_update_step"
   ]
  },
  {
   "cell_type": "code",
   "execution_count": 4,
   "id": "synthetic-attack",
   "metadata": {},
   "outputs": [],
   "source": [
    "initial_droplet = np.array([1., 1.])"
   ]
  },
  {
   "cell_type": "markdown",
   "id": "rotary-transport",
   "metadata": {},
   "source": [
    "## Antagonistic and Supporting Interactions\n",
    "### Both Self-Supporting Growth"
   ]
  },
  {
   "cell_type": "code",
   "execution_count": 5,
   "id": "flying-bench",
   "metadata": {},
   "outputs": [
    {
     "name": "stdout",
     "output_type": "stream",
     "text": [
      "interactions:\n",
      "[[ 0.5479121  -0.12224312]\n",
      " [ 0.71719584  0.39473606]]\n",
      "\n",
      "base rates:\n",
      "[0.09417735 0.97562235]\n"
     ]
    }
   ],
   "source": [
    "interactions = np.array([[0.5479121,  -0.12224312],\n",
    "                         [0.71719584,  0.39473606]])\n",
    "baserates = np.array([0.09417735, 0.97562235])\n",
    "\n",
    "print('interactions:\\n{}\\n'.format(interactions))\n",
    "print('base rates:\\n{}'.format(baserates))"
   ]
  },
  {
   "cell_type": "code",
   "execution_count": 6,
   "id": "radical-worthy",
   "metadata": {},
   "outputs": [],
   "source": [
    "simulation = dropletSimulation(number_species=2, number_droplets=1, number_batches=5, \n",
    "             copy_numbers=np.array([1.,1.]), frequency_vector=np.array([0.5,0.5]),\n",
    "             glv_interaction_coefficients=interactions,\n",
    "                               glv_baserate_coefficients=baserates, noise_scale=2,\n",
    "                               timestep=0.01, batch_window=2,\n",
    "                               carrying_capacity=10000)"
   ]
  },
  {
   "cell_type": "code",
   "execution_count": 7,
   "id": "greater-packing",
   "metadata": {},
   "outputs": [],
   "source": [
    "read_trajectory = np.zeros((2,5*simulation.batch_window))\n",
    "cell_trajectory = np.zeros((2,5*simulation.batch_window))"
   ]
  },
  {
   "cell_type": "code",
   "execution_count": 8,
   "id": "entire-maldives",
   "metadata": {},
   "outputs": [],
   "source": [
    "cell_update, read_update = (initial_droplet.copy(), initial_droplet.copy())\n",
    "for update in range(5*simulation.batch_window):\n",
    "    cell_update, read_update = glv_update_step((cell_update, read_update), interactions, baserates, simulation, rng, noise_loc=1.)\n",
    "    read_trajectory[:,update] = read_update\n",
    "    cell_trajectory[:,update] = cell_update"
   ]
  },
  {
   "cell_type": "code",
   "execution_count": 9,
   "id": "casual-fitness",
   "metadata": {},
   "outputs": [
    {
     "data": {
      "text/plain": [
       "Text(0.5, 1.0, 'Cells')"
      ]
     },
     "execution_count": 9,
     "metadata": {},
     "output_type": "execute_result"
    },
    {
     "data": {
      "image/png": "[encoded data removed]",
      "text/plain": [
       "<Figure size 432x288 with 1 Axes>"
      ]
     },
     "metadata": {
      "needs_background": "light"
     },
     "output_type": "display_data"
    }
   ],
   "source": [
    "sns.lineplot(x=np.arange(5*simulation.batch_window), y=cell_trajectory[0,:])\n",
    "sns.lineplot(x=np.arange(5*simulation.batch_window), y=cell_trajectory[1,:])\n",
    "plt.title('Cells')"
   ]
  },
  {
   "cell_type": "code",
   "execution_count": 10,
   "id": "announced-divorce",
   "metadata": {},
   "outputs": [
    {
     "data": {
      "text/plain": [
       "Text(0.5, 1.0, 'Reads')"
      ]
     },
     "execution_count": 10,
     "metadata": {},
     "output_type": "execute_result"
    },
    {
     "data": {
      "image/png": "[encoded data removed]",
      "text/plain": [
       "<Figure size 432x288 with 1 Axes>"
      ]
     },
     "metadata": {
      "needs_background": "light"
     },
     "output_type": "display_data"
    }
   ],
   "source": [
    "sns.lineplot(x=np.arange(5*simulation.batch_window), y=read_trajectory[0,:])\n",
    "sns.lineplot(x=np.arange(5*simulation.batch_window), y=read_trajectory[1,:])\n",
    "plt.title('Reads')"
   ]
  },
  {
   "cell_type": "markdown",
   "id": "representative-airline",
   "metadata": {},
   "source": [
    "## Antagonistic and Supporting Interactions\n",
    "### Both Self-Suppressing Growth"
   ]
  },
  {
   "cell_type": "code",
   "execution_count": 11,
   "id": "cathedral-height",
   "metadata": {},
   "outputs": [
    {
     "name": "stdout",
     "output_type": "stream",
     "text": [
      "interactions:\n",
      "[[-0.96753909 -0.09498414]\n",
      " [ 0.68530924 -0.35219747]]\n",
      "\n",
      "base rates:\n",
      "[0.4797985  0.97804575]\n"
     ]
    }
   ],
   "source": [
    "interactions = np.array([[-0.96753909, -0.09498414],\n",
    "                         [ 0.68530924, -0.35219747]])\n",
    "baserates = np.array([0.4797985,  0.97804575])\n",
    "\n",
    "print('interactions:\\n{}\\n'.format(interactions))\n",
    "print('base rates:\\n{}'.format(baserates))"
   ]
  },
  {
   "cell_type": "code",
   "execution_count": 12,
   "id": "super-compact",
   "metadata": {},
   "outputs": [],
   "source": [
    "simulation = dropletSimulation(number_species=2, number_droplets=1, number_batches=5, \n",
    "             copy_numbers=np.array([1.,1.]), frequency_vector=np.array([0.5,0.5]),\n",
    "             glv_interaction_coefficients=interactions,\n",
    "                               glv_baserate_coefficients=baserates, noise_scale=2,\n",
    "                               timestep=0.01, batch_window=2,\n",
    "                               carrying_capacity=10000)"
   ]
  },
  {
   "cell_type": "code",
   "execution_count": 13,
   "id": "suitable-istanbul",
   "metadata": {},
   "outputs": [],
   "source": [
    "cell_update, read_update = (initial_droplet.copy(), initial_droplet.copy())\n",
    "for update in range(5*simulation.batch_window):\n",
    "    cell_update, read_update = glv_update_step((cell_update, read_update), interactions, baserates, simulation, rng, noise_loc=1.)\n",
    "    read_trajectory[:,update] = read_update\n",
    "    cell_trajectory[:,update] = cell_update"
   ]
  },
  {
   "cell_type": "code",
   "execution_count": 14,
   "id": "characteristic-moses",
   "metadata": {},
   "outputs": [
    {
     "data": {
      "text/plain": [
       "Text(0.5, 1.0, 'Cells')"
      ]
     },
     "execution_count": 14,
     "metadata": {},
     "output_type": "execute_result"
    },
    {
     "data": {
      "image/png": "[encoded data removed]",
      "text/plain": [
       "<Figure size 432x288 with 1 Axes>"
      ]
     },
     "metadata": {
      "needs_background": "light"
     },
     "output_type": "display_data"
    }
   ],
   "source": [
    "sns.lineplot(x=np.arange(5*simulation.batch_window), y=cell_trajectory[0,:])\n",
    "sns.lineplot(x=np.arange(5*simulation.batch_window), y=cell_trajectory[1,:])\n",
    "plt.title('Cells')"
   ]
  },
  {
   "cell_type": "code",
   "execution_count": 15,
   "id": "limiting-class",
   "metadata": {},
   "outputs": [
    {
     "data": {
      "text/plain": [
       "Text(0.5, 1.0, 'Reads')"
      ]
     },
     "execution_count": 15,
     "metadata": {},
     "output_type": "execute_result"
    },
    {
     "data": {
      "image/png": "[encoded data removed]",
      "text/plain": [
       "<Figure size 432x288 with 1 Axes>"
      ]
     },
     "metadata": {
      "needs_background": "light"
     },
     "output_type": "display_data"
    }
   ],
   "source": [
    "sns.lineplot(x=np.arange(5*simulation.batch_window), y=read_trajectory[0,:])\n",
    "sns.lineplot(x=np.arange(5*simulation.batch_window), y=read_trajectory[1,:])\n",
    "plt.title('Reads')"
   ]
  },
  {
   "cell_type": "markdown",
   "id": "electronic-secretariat",
   "metadata": {},
   "source": [
    "## Mutually Supporting Interactions\n",
    "### Both Self-Supporting Growth"
   ]
  },
  {
   "cell_type": "code",
   "execution_count": 16,
   "id": "particular-access",
   "metadata": {},
   "outputs": [
    {
     "name": "stdout",
     "output_type": "stream",
     "text": [
      "interactions:\n",
      "[[0.42400205 0.45574743]\n",
      " [0.83065306 0.03716118]]\n",
      "\n",
      "base rates:\n",
      "[0.32162234 0.82774067]\n"
     ]
    }
   ],
   "source": [
    "interactions = np.array([[0.42400205, 0.45574743],\n",
    "                         [0.83065306, 0.03716118]])\n",
    "baserates = np.array([0.32162234, 0.82774067])\n",
    "\n",
    "print('interactions:\\n{}\\n'.format(interactions))\n",
    "print('base rates:\\n{}'.format(baserates))"
   ]
  },
  {
   "cell_type": "code",
   "execution_count": 17,
   "id": "stylish-sunrise",
   "metadata": {},
   "outputs": [],
   "source": [
    "simulation = dropletSimulation(number_species=2, number_droplets=1, number_batches=5, \n",
    "             copy_numbers=np.array([1.,1.]), frequency_vector=np.array([0.5,0.5]),\n",
    "             glv_interaction_coefficients=interactions,\n",
    "                               glv_baserate_coefficients=baserates, noise_scale=2,\n",
    "                               timestep=0.01, batch_window=2,\n",
    "                               carrying_capacity=10000)"
   ]
  },
  {
   "cell_type": "code",
   "execution_count": 18,
   "id": "grave-desktop",
   "metadata": {},
   "outputs": [],
   "source": [
    "cell_update, read_update = (initial_droplet.copy(), initial_droplet.copy())\n",
    "for update in range(5*simulation.batch_window):\n",
    "    cell_update, read_update = glv_update_step((cell_update, read_update), interactions, baserates, simulation, rng, noise_loc=1.)\n",
    "    read_trajectory[:,update] = read_update\n",
    "    cell_trajectory[:,update] = cell_update"
   ]
  },
  {
   "cell_type": "code",
   "execution_count": 19,
   "id": "understanding-soviet",
   "metadata": {},
   "outputs": [
    {
     "data": {
      "text/plain": [
       "Text(0.5, 1.0, 'Cells')"
      ]
     },
     "execution_count": 19,
     "metadata": {},
     "output_type": "execute_result"
    },
    {
     "data": {
      "image/png": "[encoded data removed]",
      "text/plain": [
       "<Figure size 432x288 with 1 Axes>"
      ]
     },
     "metadata": {
      "needs_background": "light"
     },
     "output_type": "display_data"
    }
   ],
   "source": [
    "sns.lineplot(x=np.arange(5*simulation.batch_window), y=cell_trajectory[0,:])\n",
    "sns.lineplot(x=np.arange(5*simulation.batch_window), y=cell_trajectory[1,:])\n",
    "plt.title('Cells')"
   ]
  },
  {
   "cell_type": "code",
   "execution_count": 20,
   "id": "signed-business",
   "metadata": {},
   "outputs": [
    {
     "data": {
      "text/plain": [
       "Text(0.5, 1.0, 'Reads')"
      ]
     },
     "execution_count": 20,
     "metadata": {},
     "output_type": "execute_result"
    },
    {
     "data": {
      "image/png": "[encoded data removed]",
      "text/plain": [
       "<Figure size 432x288 with 1 Axes>"
      ]
     },
     "metadata": {
      "needs_background": "light"
     },
     "output_type": "display_data"
    }
   ],
   "source": [
    "sns.lineplot(x=np.arange(5*simulation.batch_window), y=read_trajectory[0,:])\n",
    "sns.lineplot(x=np.arange(5*simulation.batch_window), y=read_trajectory[1,:])\n",
    "plt.title('Reads')"
   ]
  },
  {
   "cell_type": "markdown",
   "id": "rental-insight",
   "metadata": {},
   "source": [
    "## Mutually Supporting Interactions\n",
    "### Both Self-Supporting Growth"
   ]
  },
  {
   "cell_type": "code",
   "execution_count": 21,
   "id": "valued-simulation",
   "metadata": {},
   "outputs": [
    {
     "name": "stdout",
     "output_type": "stream",
     "text": [
      "interactions:\n",
      "[[0.14107603 0.78315155]\n",
      " [0.30476027 0.204964  ]]\n",
      "\n",
      "base rates:\n",
      "[0.4602045  0.34569703]\n"
     ]
    }
   ],
   "source": [
    "interactions = np.array([[0.14107603, 0.78315155],\n",
    "                         [0.30476027, 0.20496400]])\n",
    "baserates = np.array([0.4602045, 0.34569703])\n",
    "\n",
    "print('interactions:\\n{}\\n'.format(interactions))\n",
    "print('base rates:\\n{}'.format(baserates))"
   ]
  },
  {
   "cell_type": "code",
   "execution_count": 22,
   "id": "compact-drive",
   "metadata": {},
   "outputs": [],
   "source": [
    "simulation = dropletSimulation(number_species=2, number_droplets=1, number_batches=5, \n",
    "             copy_numbers=np.array([1.,1.]), frequency_vector=np.array([0.5,0.5]),\n",
    "             glv_interaction_coefficients=interactions,\n",
    "                               glv_baserate_coefficients=baserates, noise_scale=2,\n",
    "                               timestep=0.01, batch_window=2,\n",
    "                               carrying_capacity=10000)"
   ]
  },
  {
   "cell_type": "code",
   "execution_count": 23,
   "id": "existing-hayes",
   "metadata": {},
   "outputs": [],
   "source": [
    "cell_update, read_update = (initial_droplet.copy(), initial_droplet.copy())\n",
    "for update in range(5*simulation.batch_window):\n",
    "    cell_update, read_update = glv_update_step((cell_update, read_update), interactions, baserates, simulation, rng, noise_loc=1.)\n",
    "    read_trajectory[:,update] = read_update\n",
    "    cell_trajectory[:,update] = cell_update"
   ]
  },
  {
   "cell_type": "code",
   "execution_count": 24,
   "id": "selective-stock",
   "metadata": {},
   "outputs": [
    {
     "data": {
      "text/plain": [
       "Text(0.5, 1.0, 'Cells')"
      ]
     },
     "execution_count": 24,
     "metadata": {},
     "output_type": "execute_result"
    },
    {
     "data": {
      "image/png": "[encoded data removed]",
      "text/plain": [
       "<Figure size 432x288 with 1 Axes>"
      ]
     },
     "metadata": {
      "needs_background": "light"
     },
     "output_type": "display_data"
    }
   ],
   "source": [
    "sns.lineplot(x=np.arange(5*simulation.batch_window), y=cell_trajectory[0,:])\n",
    "sns.lineplot(x=np.arange(5*simulation.batch_window), y=cell_trajectory[1,:])\n",
    "plt.title('Cells')"
   ]
  },
  {
   "cell_type": "code",
   "execution_count": 25,
   "id": "honest-seafood",
   "metadata": {},
   "outputs": [
    {
     "data": {
      "text/plain": [
       "Text(0.5, 1.0, 'Reads')"
      ]
     },
     "execution_count": 25,
     "metadata": {},
     "output_type": "execute_result"
    },
    {
     "data": {
      "image/png": "[encoded data removed]",
      "text/plain": [
       "<Figure size 432x288 with 1 Axes>"
      ]
     },
     "metadata": {
      "needs_background": "light"
     },
     "output_type": "display_data"
    }
   ],
   "source": [
    "sns.lineplot(x=np.arange(5*simulation.batch_window), y=read_trajectory[0,:])\n",
    "sns.lineplot(x=np.arange(5*simulation.batch_window), y=read_trajectory[1,:])\n",
    "plt.title('Reads')"
   ]
  },
  {
   "cell_type": "markdown",
   "id": "healthy-county",
   "metadata": {},
   "source": [
    "## Antagonistic and Supporting Interactions\n",
    "### Antagonizer Self-Promotes, Supporter Self-Suppresses"
   ]
  },
  {
   "cell_type": "code",
   "execution_count": 26,
   "id": "floppy-thermal",
   "metadata": {},
   "outputs": [
    {
     "name": "stdout",
     "output_type": "stream",
     "text": [
      "interactions:\n",
      "[[ 0.62393464 -0.37883923]\n",
      " [ 0.56723451 -0.34407233]]\n",
      "\n",
      "base rates:\n",
      "[0.92088119 0.26796687]\n"
     ]
    }
   ],
   "source": [
    "interactions = np.array([[ 0.62393464, -0.37883923],\n",
    "                         [ 0.56723451, -0.34407233]])\n",
    "baserates = np.array([0.92088119, 0.26796687])\n",
    "\n",
    "print('interactions:\\n{}\\n'.format(interactions))\n",
    "print('base rates:\\n{}'.format(baserates))"
   ]
  },
  {
   "cell_type": "code",
   "execution_count": 27,
   "id": "obvious-shanghai",
   "metadata": {},
   "outputs": [],
   "source": [
    "simulation = dropletSimulation(number_species=2, number_droplets=1, number_batches=5, \n",
    "             copy_numbers=np.array([1.,1.]), frequency_vector=np.array([0.5,0.5]),\n",
    "             glv_interaction_coefficients=interactions,\n",
    "                               glv_baserate_coefficients=baserates, noise_scale=2,\n",
    "                               timestep=0.01, batch_window=2,\n",
    "                               carrying_capacity=10000)"
   ]
  },
  {
   "cell_type": "code",
   "execution_count": 28,
   "id": "innovative-princess",
   "metadata": {},
   "outputs": [],
   "source": [
    "cell_update, read_update = (initial_droplet.copy(), initial_droplet.copy())\n",
    "for update in range(5*simulation.batch_window):\n",
    "    cell_update, read_update = glv_update_step((cell_update, read_update), interactions, baserates, simulation, rng, noise_loc=1.)\n",
    "    read_trajectory[:,update] = read_update\n",
    "    cell_trajectory[:,update] = cell_update"
   ]
  },
  {
   "cell_type": "code",
   "execution_count": 29,
   "id": "hybrid-shield",
   "metadata": {},
   "outputs": [
    {
     "data": {
      "text/plain": [
       "Text(0.5, 1.0, 'Cells')"
      ]
     },
     "execution_count": 29,
     "metadata": {},
     "output_type": "execute_result"
    },
    {
     "data": {
      "image/png": "[encoded data removed]",
      "text/plain": [
       "<Figure size 432x288 with 1 Axes>"
      ]
     },
     "metadata": {
      "needs_background": "light"
     },
     "output_type": "display_data"
    }
   ],
   "source": [
    "sns.lineplot(x=np.arange(5*simulation.batch_window), y=cell_trajectory[0,:])\n",
    "sns.lineplot(x=np.arange(5*simulation.batch_window), y=cell_trajectory[1,:])\n",
    "plt.title('Cells')"
   ]
  },
  {
   "cell_type": "code",
   "execution_count": 30,
   "id": "massive-causing",
   "metadata": {},
   "outputs": [
    {
     "data": {
      "text/plain": [
       "Text(0.5, 1.0, 'Reads')"
      ]
     },
     "execution_count": 30,
     "metadata": {},
     "output_type": "execute_result"
    },
    {
     "data": {
      "image/png": "[encoded data removed]",
      "text/plain": [
       "<Figure size 432x288 with 1 Axes>"
      ]
     },
     "metadata": {
      "needs_background": "light"
     },
     "output_type": "display_data"
    }
   ],
   "source": [
    "sns.lineplot(x=np.arange(5*simulation.batch_window), y=read_trajectory[0,:])\n",
    "sns.lineplot(x=np.arange(5*simulation.batch_window), y=read_trajectory[1,:])\n",
    "plt.title('Reads')"
   ]
  },
  {
   "cell_type": "markdown",
   "id": "starting-volunteer",
   "metadata": {},
   "source": [
    "## Mutually Antagonistic Interactions\n",
    "### One Self-Limiting Grower, Other Self-Promoting Grower"
   ]
  },
  {
   "cell_type": "code",
   "execution_count": 31,
   "id": "emotional-leader",
   "metadata": {},
   "outputs": [
    {
     "name": "stdout",
     "output_type": "stream",
     "text": [
      "interactions:\n",
      "[[-0.15129588 -0.05373991]\n",
      " [-0.41705514  0.58090085]]\n",
      "\n",
      "base rates:\n",
      "[0.22324414 0.69651731]\n"
     ]
    }
   ],
   "source": [
    "interactions = np.array([[-0.15129588, -0.05373991],\n",
    "                         [-0.41705514,  0.58090085]])\n",
    "baserates = np.array([0.22324414, 0.69651731])\n",
    "\n",
    "print('interactions:\\n{}\\n'.format(interactions))\n",
    "print('base rates:\\n{}'.format(baserates))"
   ]
  },
  {
   "cell_type": "code",
   "execution_count": 32,
   "id": "fiscal-sudan",
   "metadata": {},
   "outputs": [],
   "source": [
    "simulation = dropletSimulation(number_species=2, number_droplets=1, number_batches=5, \n",
    "             copy_numbers=np.array([1.,1.]), frequency_vector=np.array([0.5,0.5]),\n",
    "             glv_interaction_coefficients=interactions,\n",
    "                               glv_baserate_coefficients=baserates, noise_scale=2,\n",
    "                               timestep=0.01, batch_window=2,\n",
    "                               carrying_capacity=10000)"
   ]
  },
  {
   "cell_type": "code",
   "execution_count": 33,
   "id": "approved-raleigh",
   "metadata": {},
   "outputs": [],
   "source": [
    "cell_update, read_update = (initial_droplet.copy(), initial_droplet.copy())\n",
    "for update in range(5*simulation.batch_window):\n",
    "    cell_update, read_update = glv_update_step((cell_update, read_update), interactions, baserates, simulation, rng, noise_loc=1.)\n",
    "    read_trajectory[:,update] = read_update\n",
    "    cell_trajectory[:,update] = cell_update"
   ]
  },
  {
   "cell_type": "code",
   "execution_count": 34,
   "id": "future-calcium",
   "metadata": {},
   "outputs": [
    {
     "data": {
      "text/plain": [
       "Text(0.5, 1.0, 'Cells')"
      ]
     },
     "execution_count": 34,
     "metadata": {},
     "output_type": "execute_result"
    },
    {
     "data": {
      "image/png": "[encoded data removed]",
      "text/plain": [
       "<Figure size 432x288 with 1 Axes>"
      ]
     },
     "metadata": {
      "needs_background": "light"
     },
     "output_type": "display_data"
    }
   ],
   "source": [
    "sns.lineplot(x=np.arange(5*simulation.batch_window), y=cell_trajectory[0,:])\n",
    "sns.lineplot(x=np.arange(5*simulation.batch_window), y=cell_trajectory[1,:])\n",
    "plt.title('Cells')"
   ]
  },
  {
   "cell_type": "code",
   "execution_count": 35,
   "id": "iraqi-nickname",
   "metadata": {},
   "outputs": [
    {
     "data": {
      "text/plain": [
       "Text(0.5, 1.0, 'Reads')"
      ]
     },
     "execution_count": 35,
     "metadata": {},
     "output_type": "execute_result"
    },
    {
     "data": {
      "image/png": "[encoded data removed]",
      "text/plain": [
       "<Figure size 432x288 with 1 Axes>"
      ]
     },
     "metadata": {
      "needs_background": "light"
     },
     "output_type": "display_data"
    }
   ],
   "source": [
    "sns.lineplot(x=np.arange(5*simulation.batch_window), y=read_trajectory[0,:])\n",
    "sns.lineplot(x=np.arange(5*simulation.batch_window), y=read_trajectory[1,:])\n",
    "plt.title('Reads')"
   ]
  },
  {
   "cell_type": "markdown",
   "id": "mysterious-inspector",
   "metadata": {},
   "source": [
    "## Mutually Antagonistic Interactions\n",
    "### Both Self-Limiting Growth"
   ]
  },
  {
   "cell_type": "code",
   "execution_count": 36,
   "id": "lined-cattle",
   "metadata": {},
   "outputs": [
    {
     "name": "stdout",
     "output_type": "stream",
     "text": [
      "interactions:\n",
      "[[-0.07416439 -0.17117972]\n",
      " [-0.79256721 -0.27501624]]\n",
      "\n",
      "base rates:\n",
      "[0.3970483  0.18062232]\n"
     ]
    }
   ],
   "source": [
    "interactions = np.array([[-0.07416439, -0.17117972],\n",
    "                         [-0.79256721, -0.27501624]])\n",
    "baserates = np.array([0.3970483, 0.18062232])\n",
    "\n",
    "print('interactions:\\n{}\\n'.format(interactions))\n",
    "print('base rates:\\n{}'.format(baserates))"
   ]
  },
  {
   "cell_type": "code",
   "execution_count": 37,
   "id": "spare-commodity",
   "metadata": {},
   "outputs": [],
   "source": [
    "simulation = dropletSimulation(number_species=2, number_droplets=1, number_batches=5, \n",
    "             copy_numbers=np.array([1.,1.]), frequency_vector=np.array([0.5,0.5]),\n",
    "             glv_interaction_coefficients=interactions,\n",
    "                               glv_baserate_coefficients=baserates, noise_scale=2,\n",
    "                               timestep=0.01, batch_window=2,\n",
    "                               carrying_capacity=10000)"
   ]
  },
  {
   "cell_type": "code",
   "execution_count": 38,
   "id": "eleven-agriculture",
   "metadata": {},
   "outputs": [],
   "source": [
    "cell_update, read_update = (initial_droplet.copy(), initial_droplet.copy())\n",
    "for update in range(5*simulation.batch_window):\n",
    "    cell_update, read_update = glv_update_step((cell_update, read_update), interactions, baserates, simulation, rng, noise_loc=1.)\n",
    "    read_trajectory[:,update] = read_update\n",
    "    cell_trajectory[:,update] = cell_update"
   ]
  },
  {
   "cell_type": "code",
   "execution_count": 39,
   "id": "gothic-therapist",
   "metadata": {},
   "outputs": [
    {
     "data": {
      "text/plain": [
       "Text(0.5, 1.0, 'Cells')"
      ]
     },
     "execution_count": 39,
     "metadata": {},
     "output_type": "execute_result"
    },
    {
     "data": {
      "image/png": "[encoded data removed]",
      "text/plain": [
       "<Figure size 432x288 with 1 Axes>"
      ]
     },
     "metadata": {
      "needs_background": "light"
     },
     "output_type": "display_data"
    }
   ],
   "source": [
    "sns.lineplot(x=np.arange(5*simulation.batch_window), y=cell_trajectory[0,:])\n",
    "sns.lineplot(x=np.arange(5*simulation.batch_window), y=cell_trajectory[1,:])\n",
    "plt.title('Cells')"
   ]
  },
  {
   "cell_type": "code",
   "execution_count": 40,
   "id": "entitled-summary",
   "metadata": {},
   "outputs": [
    {
     "data": {
      "text/plain": [
       "Text(0.5, 1.0, 'Reads')"
      ]
     },
     "execution_count": 40,
     "metadata": {},
     "output_type": "execute_result"
    },
    {
     "data": {
      "image/png": "[encoded data removed]",
      "text/plain": [
       "<Figure size 432x288 with 1 Axes>"
      ]
     },
     "metadata": {
      "needs_background": "light"
     },
     "output_type": "display_data"
    }
   ],
   "source": [
    "sns.lineplot(x=np.arange(5*simulation.batch_window), y=read_trajectory[0,:])\n",
    "sns.lineplot(x=np.arange(5*simulation.batch_window), y=read_trajectory[1,:])\n",
    "plt.title('Reads')"
   ]
  }
 ],
 "metadata": {
  "kernelspec": {
   "display_name": "Python 3",
   "language": "python",
   "name": "python3"
  },
  "language_info": {
   "codemirror_mode": {
    "name": "ipython",
    "version": 3
   },
   "file_extension": ".py",
   "mimetype": "text/x-python",
   "name": "python",
   "nbconvert_exporter": "python",
   "pygments_lexer": "ipython3",
   "version": "3.9.2"
  }
 },
 "nbformat": 4,
 "nbformat_minor": 5
}
