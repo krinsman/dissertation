{
 "cells": [
  {
   "cell_type": "code",
   "execution_count": 1,
   "id": "5c2cf37b-4e7b-46a3-9bb0-2edf75022be3",
   "metadata": {},
   "outputs": [
    {
     "name": "stderr",
     "output_type": "stream",
     "text": [
      "Warning message:\n",
      "“package ‘microbiome’ was built under R version 4.0.3”\n",
      "Loading required package: phyloseq\n",
      "\n",
      "Warning message:\n",
      "“package ‘phyloseq’ was built under R version 4.0.3”\n",
      "Loading required package: ggplot2\n",
      "\n",
      "Warning message:\n",
      "“package ‘ggplot2’ was built under R version 4.0.5”\n",
      "\n",
      "microbiome R package (microbiome.github.com)\n",
      "    \n",
      "\n",
      "\n",
      " Copyright (C) 2011-2020 Leo Lahti, \n",
      "    Sudarshan Shetty et al. <microbiome.github.io>\n",
      "\n",
      "\n",
      "\n",
      "Attaching package: ‘microbiome’\n",
      "\n",
      "\n",
      "The following object is masked from ‘package:ggplot2’:\n",
      "\n",
      "    alpha\n",
      "\n",
      "\n",
      "The following object is masked from ‘package:base’:\n",
      "\n",
      "    transform\n",
      "\n",
      "\n",
      "Warning message:\n",
      "“package ‘dplyr’ was built under R version 4.0.5”\n",
      "\n",
      "Attaching package: ‘dplyr’\n",
      "\n",
      "\n",
      "The following objects are masked from ‘package:stats’:\n",
      "\n",
      "    filter, lag\n",
      "\n",
      "\n",
      "The following objects are masked from ‘package:base’:\n",
      "\n",
      "    intersect, setdiff, setequal, union\n",
      "\n",
      "\n",
      "Warning message:\n",
      "“package ‘readr’ was built under R version 4.0.5”\n",
      "Warning message:\n",
      "“package ‘latex2exp’ was built under R version 4.0.3”\n",
      "Warning message:\n",
      "“package ‘patchwork’ was built under R version 4.0.3”\n"
     ]
    }
   ],
   "source": [
    "library(\"microbiome\")\n",
    "library(\"dplyr\")\n",
    "library(\"readr\")\n",
    "library(\"latex2exp\")\n",
    "library(\"patchwork\")\n",
    "library(\"phyloseq\")"
   ]
  },
  {
   "cell_type": "code",
   "execution_count": 2,
   "id": "e0fdc973-ce28-4e15-924c-faf28c82e70c",
   "metadata": {},
   "outputs": [
    {
     "name": "stderr",
     "output_type": "stream",
     "text": [
      "\n",
      "\u001b[36m──\u001b[39m \u001b[1m\u001b[1mColumn specification\u001b[1m\u001b[22m \u001b[36m─────────────────────────────────────────────────────────────────────────────────────────────────\u001b[39m\n",
      "cols(\n",
      "  `0 strains` = \u001b[32mcol_double()\u001b[39m,\n",
      "  `1 strain` = \u001b[32mcol_double()\u001b[39m,\n",
      "  `2 strains` = \u001b[32mcol_double()\u001b[39m,\n",
      "  `3 strains` = \u001b[32mcol_double()\u001b[39m,\n",
      "  `4 strains` = \u001b[32mcol_double()\u001b[39m,\n",
      "  `5 strains` = \u001b[32mcol_double()\u001b[39m,\n",
      "  `6+ strains` = \u001b[32mcol_double()\u001b[39m\n",
      ")\n",
      "\n",
      "\n"
     ]
    }
   ],
   "source": [
    "distributions <- read_csv(\"average_compositions.csv\")"
   ]
  },
  {
   "cell_type": "code",
   "execution_count": 3,
   "id": "aeb5846b-a107-4b6b-8cef-b3e63e688c1c",
   "metadata": {},
   "outputs": [
    {
     "data": {
      "text/html": [
       "<table class=\"dataframe\">\n",
       "<caption>A spec_tbl_df: 8 × 7</caption>\n",
       "<thead>\n",
       "\t<tr><th scope=col>0 strains</th><th scope=col>1 strain</th><th scope=col>2 strains</th><th scope=col>3 strains</th><th scope=col>4 strains</th><th scope=col>5 strains</th><th scope=col>6+ strains</th></tr>\n",
       "\t<tr><th scope=col>&lt;dbl&gt;</th><th scope=col>&lt;dbl&gt;</th><th scope=col>&lt;dbl&gt;</th><th scope=col>&lt;dbl&gt;</th><th scope=col>&lt;dbl&gt;</th><th scope=col>&lt;dbl&gt;</th><th scope=col>&lt;dbl&gt;</th></tr>\n",
       "</thead>\n",
       "<tbody>\n",
       "\t<tr><td>0.1353353</td><td>0.2827843</td><td>0.2822041</td><td>0.1793916</td><td>0.08172910</td><td>0.02846516</td><td>0.010090434</td></tr>\n",
       "\t<tr><td>0.1353319</td><td>0.2827983</td><td>0.2821989</td><td>0.1793882</td><td>0.08172603</td><td>0.02846809</td><td>0.010088568</td></tr>\n",
       "\t<tr><td>0.1353388</td><td>0.2828169</td><td>0.2822338</td><td>0.1793880</td><td>0.08170077</td><td>0.02844640</td><td>0.010075256</td></tr>\n",
       "\t<tr><td>0.1353424</td><td>0.2858900</td><td>0.2849584</td><td>0.1787848</td><td>0.07945546</td><td>0.02668939</td><td>0.008879496</td></tr>\n",
       "\t<tr><td>0.1353376</td><td>0.2987494</td><td>0.2885349</td><td>0.1731597</td><td>0.07332233</td><td>0.02348675</td><td>0.007409389</td></tr>\n",
       "\t<tr><td>0.1353606</td><td>0.2828251</td><td>0.2821963</td><td>0.1793662</td><td>0.08171283</td><td>0.02845380</td><td>0.010085242</td></tr>\n",
       "\t<tr><td>0.1383027</td><td>0.2857154</td><td>0.2818987</td><td>0.1771801</td><td>0.07981210</td><td>0.02748462</td><td>0.009606348</td></tr>\n",
       "\t<tr><td>0.1501906</td><td>0.2924203</td><td>0.2782546</td><td>0.1701704</td><td>0.07496654</td><td>0.02532760</td><td>0.008669994</td></tr>\n",
       "</tbody>\n",
       "</table>\n"
      ],
      "text/latex": [
       "A spec\\_tbl\\_df: 8 × 7\n",
       "\\begin{tabular}{lllllll}\n",
       " 0 strains & 1 strain & 2 strains & 3 strains & 4 strains & 5 strains & 6+ strains\\\\\n",
       " <dbl> & <dbl> & <dbl> & <dbl> & <dbl> & <dbl> & <dbl>\\\\\n",
       "\\hline\n",
       "\t 0.1353353 & 0.2827843 & 0.2822041 & 0.1793916 & 0.08172910 & 0.02846516 & 0.010090434\\\\\n",
       "\t 0.1353319 & 0.2827983 & 0.2821989 & 0.1793882 & 0.08172603 & 0.02846809 & 0.010088568\\\\\n",
       "\t 0.1353388 & 0.2828169 & 0.2822338 & 0.1793880 & 0.08170077 & 0.02844640 & 0.010075256\\\\\n",
       "\t 0.1353424 & 0.2858900 & 0.2849584 & 0.1787848 & 0.07945546 & 0.02668939 & 0.008879496\\\\\n",
       "\t 0.1353376 & 0.2987494 & 0.2885349 & 0.1731597 & 0.07332233 & 0.02348675 & 0.007409389\\\\\n",
       "\t 0.1353606 & 0.2828251 & 0.2821963 & 0.1793662 & 0.08171283 & 0.02845380 & 0.010085242\\\\\n",
       "\t 0.1383027 & 0.2857154 & 0.2818987 & 0.1771801 & 0.07981210 & 0.02748462 & 0.009606348\\\\\n",
       "\t 0.1501906 & 0.2924203 & 0.2782546 & 0.1701704 & 0.07496654 & 0.02532760 & 0.008669994\\\\\n",
       "\\end{tabular}\n"
      ],
      "text/markdown": [
       "\n",
       "A spec_tbl_df: 8 × 7\n",
       "\n",
       "| 0 strains &lt;dbl&gt; | 1 strain &lt;dbl&gt; | 2 strains &lt;dbl&gt; | 3 strains &lt;dbl&gt; | 4 strains &lt;dbl&gt; | 5 strains &lt;dbl&gt; | 6+ strains &lt;dbl&gt; |\n",
       "|---|---|---|---|---|---|---|\n",
       "| 0.1353353 | 0.2827843 | 0.2822041 | 0.1793916 | 0.08172910 | 0.02846516 | 0.010090434 |\n",
       "| 0.1353319 | 0.2827983 | 0.2821989 | 0.1793882 | 0.08172603 | 0.02846809 | 0.010088568 |\n",
       "| 0.1353388 | 0.2828169 | 0.2822338 | 0.1793880 | 0.08170077 | 0.02844640 | 0.010075256 |\n",
       "| 0.1353424 | 0.2858900 | 0.2849584 | 0.1787848 | 0.07945546 | 0.02668939 | 0.008879496 |\n",
       "| 0.1353376 | 0.2987494 | 0.2885349 | 0.1731597 | 0.07332233 | 0.02348675 | 0.007409389 |\n",
       "| 0.1353606 | 0.2828251 | 0.2821963 | 0.1793662 | 0.08171283 | 0.02845380 | 0.010085242 |\n",
       "| 0.1383027 | 0.2857154 | 0.2818987 | 0.1771801 | 0.07981210 | 0.02748462 | 0.009606348 |\n",
       "| 0.1501906 | 0.2924203 | 0.2782546 | 0.1701704 | 0.07496654 | 0.02532760 | 0.008669994 |\n",
       "\n"
      ],
      "text/plain": [
       "  0 strains 1 strain  2 strains 3 strains 4 strains  5 strains  6+ strains \n",
       "1 0.1353353 0.2827843 0.2822041 0.1793916 0.08172910 0.02846516 0.010090434\n",
       "2 0.1353319 0.2827983 0.2821989 0.1793882 0.08172603 0.02846809 0.010088568\n",
       "3 0.1353388 0.2828169 0.2822338 0.1793880 0.08170077 0.02844640 0.010075256\n",
       "4 0.1353424 0.2858900 0.2849584 0.1787848 0.07945546 0.02668939 0.008879496\n",
       "5 0.1353376 0.2987494 0.2885349 0.1731597 0.07332233 0.02348675 0.007409389\n",
       "6 0.1353606 0.2828251 0.2821963 0.1793662 0.08171283 0.02845380 0.010085242\n",
       "7 0.1383027 0.2857154 0.2818987 0.1771801 0.07981210 0.02748462 0.009606348\n",
       "8 0.1501906 0.2924203 0.2782546 0.1701704 0.07496654 0.02532760 0.008669994"
      ]
     },
     "metadata": {},
     "output_type": "display_data"
    }
   ],
   "source": [
    "distributions"
   ]
  },
  {
   "cell_type": "code",
   "execution_count": 4,
   "id": "99e93fbc-9333-4bcd-987b-faf9b0163a46",
   "metadata": {},
   "outputs": [
    {
     "name": "stderr",
     "output_type": "stream",
     "text": [
      "Scale for 'x' is already present. Adding another scale for 'x', which will\n",
      "replace the existing scale.\n",
      "\n"
     ]
    }
   ],
   "source": [
    "plot <- plot_composition(microbiome::transform(phyloseq(otu_table(distributions, taxa_are_rows=FALSE), sample_data(distributions)), \"compositional\"), \n",
    "                 plot.type=\"barplot\") + scale_fill_brewer(palette = \"Paired\") +xlab(\"Simulations\")\n",
    "plot<- plot + scale_x_discrete( labels=c(\"hPoMu\", \"hTPMH\", \"hPoDM 100\", \"hPoDM 1\",\"hExhPoDM\",\"hNBDM 100\",\"hNBDM 1\",\"hExhNBDM\"), limits = rev(levels(plot$Simulations)))  + \n",
    "theme(panel.background = element_rect(fill = \"transparent\"), plot.margin=grid::unit(c(0,0,0,0), \"mm\"),\n",
    "     axis.text.x = element_text(angle = 0, vjust = 0., hjust=0.5, size=8)) + labs(fill=\"\", x=\"\", y=\"\")"
   ]
  },
  {
   "cell_type": "code",
   "execution_count": 5,
   "id": "7e9f6096-184b-45f6-8e4b-7e3750f093e4",
   "metadata": {},
   "outputs": [
    {
     "data": {
      "image/png": "[encoded data removed]",
      "text/plain": [
       "plot without title"
      ]
     },
     "metadata": {
      "image/png": {
       "height": 420,
       "width": 420
      }
     },
     "output_type": "display_data"
    }
   ],
   "source": [
    "plot<- plot + coord_fixed(ratio=6) + theme(plot.margin=grid::unit(c(-4,0,-4,0), \"cm\"), \n",
    "                                   panel.spacing=grid::unit(c(-4,0,-4,0), \"cm\"))\n",
    "plot"
   ]
  },
  {
   "cell_type": "code",
   "execution_count": 6,
   "id": "d66f4960-f0fc-4266-b11d-fb8fa497c814",
   "metadata": {},
   "outputs": [
    {
     "name": "stderr",
     "output_type": "stream",
     "text": [
      "Saving 6.67 x 6.67 in image\n",
      "\n"
     ]
    }
   ],
   "source": [
    "ggsave('average_compositions.png', plot, device=\"png\")"
   ]
  },
  {
   "cell_type": "markdown",
   "id": "2df0af61-511a-4bf5-bca5-bb113e80bcdc",
   "metadata": {},
   "source": [
    "The following cell is a little magic to get rid of the whitespace reproducibly (i.e. not manually).\n",
    "\n",
    "https://stackoverflow.com/a/32988863/10634604"
   ]
  },
  {
   "cell_type": "code",
   "execution_count": 7,
   "id": "9f67dcbd-8f16-4301-a579-bfb22a5bfca9",
   "metadata": {},
   "outputs": [],
   "source": [
    "system(\"convert average_compositions.png -trim -bordercolor white -border 20  average_compositions.png\")"
   ]
  },
  {
   "cell_type": "code",
   "execution_count": 8,
   "id": "a8b39634-4fa6-4e89-947e-a8ee33c6e973",
   "metadata": {},
   "outputs": [
    {
     "data": {
      "text/html": [
       "<table class=\"dataframe\">\n",
       "<caption>A spec_tbl_df: 3 × 7</caption>\n",
       "<thead>\n",
       "\t<tr><th scope=col>0 strains</th><th scope=col>1 strain</th><th scope=col>2 strains</th><th scope=col>3 strains</th><th scope=col>4 strains</th><th scope=col>5 strains</th><th scope=col>6+ strains</th></tr>\n",
       "\t<tr><th scope=col>&lt;dbl&gt;</th><th scope=col>&lt;dbl&gt;</th><th scope=col>&lt;dbl&gt;</th><th scope=col>&lt;dbl&gt;</th><th scope=col>&lt;dbl&gt;</th><th scope=col>&lt;dbl&gt;</th><th scope=col>&lt;dbl&gt;</th></tr>\n",
       "</thead>\n",
       "<tbody>\n",
       "\t<tr><td>0.1353376</td><td>0.2987494</td><td>0.2885349</td><td>0.1731597</td><td>0.07332233</td><td>0.02348675</td><td>0.007409389</td></tr>\n",
       "\t<tr><td>0.1353353</td><td>0.2827843</td><td>0.2822041</td><td>0.1793916</td><td>0.08172910</td><td>0.02846516</td><td>0.010090434</td></tr>\n",
       "\t<tr><td>0.1501906</td><td>0.2924203</td><td>0.2782546</td><td>0.1701704</td><td>0.07496654</td><td>0.02532760</td><td>0.008669994</td></tr>\n",
       "</tbody>\n",
       "</table>\n"
      ],
      "text/latex": [
       "A spec\\_tbl\\_df: 3 × 7\n",
       "\\begin{tabular}{lllllll}\n",
       " 0 strains & 1 strain & 2 strains & 3 strains & 4 strains & 5 strains & 6+ strains\\\\\n",
       " <dbl> & <dbl> & <dbl> & <dbl> & <dbl> & <dbl> & <dbl>\\\\\n",
       "\\hline\n",
       "\t 0.1353376 & 0.2987494 & 0.2885349 & 0.1731597 & 0.07332233 & 0.02348675 & 0.007409389\\\\\n",
       "\t 0.1353353 & 0.2827843 & 0.2822041 & 0.1793916 & 0.08172910 & 0.02846516 & 0.010090434\\\\\n",
       "\t 0.1501906 & 0.2924203 & 0.2782546 & 0.1701704 & 0.07496654 & 0.02532760 & 0.008669994\\\\\n",
       "\\end{tabular}\n"
      ],
      "text/markdown": [
       "\n",
       "A spec_tbl_df: 3 × 7\n",
       "\n",
       "| 0 strains &lt;dbl&gt; | 1 strain &lt;dbl&gt; | 2 strains &lt;dbl&gt; | 3 strains &lt;dbl&gt; | 4 strains &lt;dbl&gt; | 5 strains &lt;dbl&gt; | 6+ strains &lt;dbl&gt; |\n",
       "|---|---|---|---|---|---|---|\n",
       "| 0.1353376 | 0.2987494 | 0.2885349 | 0.1731597 | 0.07332233 | 0.02348675 | 0.007409389 |\n",
       "| 0.1353353 | 0.2827843 | 0.2822041 | 0.1793916 | 0.08172910 | 0.02846516 | 0.010090434 |\n",
       "| 0.1501906 | 0.2924203 | 0.2782546 | 0.1701704 | 0.07496654 | 0.02532760 | 0.008669994 |\n",
       "\n"
      ],
      "text/plain": [
       "  0 strains 1 strain  2 strains 3 strains 4 strains  5 strains  6+ strains \n",
       "1 0.1353376 0.2987494 0.2885349 0.1731597 0.07332233 0.02348675 0.007409389\n",
       "2 0.1353353 0.2827843 0.2822041 0.1793916 0.08172910 0.02846516 0.010090434\n",
       "3 0.1501906 0.2924203 0.2782546 0.1701704 0.07496654 0.02532760 0.008669994"
      ]
     },
     "metadata": {},
     "output_type": "display_data"
    }
   ],
   "source": [
    "distributions_limited <- slice(distributions, c(5,1,8))\n",
    "distributions_limited"
   ]
  },
  {
   "cell_type": "code",
   "execution_count": 9,
   "id": "0a8a83de-8648-4442-b436-a3a95f1ebf1f",
   "metadata": {},
   "outputs": [
    {
     "data": {
      "text/html": [
       "<table class=\"dataframe\">\n",
       "<caption>A spec_tbl_df: 3 × 7</caption>\n",
       "<thead>\n",
       "\t<tr><th scope=col>0 types</th><th scope=col>1 type</th><th scope=col>2 types</th><th scope=col>3 types</th><th scope=col>4 types</th><th scope=col>5 types</th><th scope=col>6+ types</th></tr>\n",
       "\t<tr><th scope=col>&lt;dbl&gt;</th><th scope=col>&lt;dbl&gt;</th><th scope=col>&lt;dbl&gt;</th><th scope=col>&lt;dbl&gt;</th><th scope=col>&lt;dbl&gt;</th><th scope=col>&lt;dbl&gt;</th><th scope=col>&lt;dbl&gt;</th></tr>\n",
       "</thead>\n",
       "<tbody>\n",
       "\t<tr><td>0.1353376</td><td>0.2987494</td><td>0.2885349</td><td>0.1731597</td><td>0.07332233</td><td>0.02348675</td><td>0.007409389</td></tr>\n",
       "\t<tr><td>0.1353353</td><td>0.2827843</td><td>0.2822041</td><td>0.1793916</td><td>0.08172910</td><td>0.02846516</td><td>0.010090434</td></tr>\n",
       "\t<tr><td>0.1501906</td><td>0.2924203</td><td>0.2782546</td><td>0.1701704</td><td>0.07496654</td><td>0.02532760</td><td>0.008669994</td></tr>\n",
       "</tbody>\n",
       "</table>\n"
      ],
      "text/latex": [
       "A spec\\_tbl\\_df: 3 × 7\n",
       "\\begin{tabular}{lllllll}\n",
       " 0 types & 1 type & 2 types & 3 types & 4 types & 5 types & 6+ types\\\\\n",
       " <dbl> & <dbl> & <dbl> & <dbl> & <dbl> & <dbl> & <dbl>\\\\\n",
       "\\hline\n",
       "\t 0.1353376 & 0.2987494 & 0.2885349 & 0.1731597 & 0.07332233 & 0.02348675 & 0.007409389\\\\\n",
       "\t 0.1353353 & 0.2827843 & 0.2822041 & 0.1793916 & 0.08172910 & 0.02846516 & 0.010090434\\\\\n",
       "\t 0.1501906 & 0.2924203 & 0.2782546 & 0.1701704 & 0.07496654 & 0.02532760 & 0.008669994\\\\\n",
       "\\end{tabular}\n"
      ],
      "text/markdown": [
       "\n",
       "A spec_tbl_df: 3 × 7\n",
       "\n",
       "| 0 types &lt;dbl&gt; | 1 type &lt;dbl&gt; | 2 types &lt;dbl&gt; | 3 types &lt;dbl&gt; | 4 types &lt;dbl&gt; | 5 types &lt;dbl&gt; | 6+ types &lt;dbl&gt; |\n",
       "|---|---|---|---|---|---|---|\n",
       "| 0.1353376 | 0.2987494 | 0.2885349 | 0.1731597 | 0.07332233 | 0.02348675 | 0.007409389 |\n",
       "| 0.1353353 | 0.2827843 | 0.2822041 | 0.1793916 | 0.08172910 | 0.02846516 | 0.010090434 |\n",
       "| 0.1501906 | 0.2924203 | 0.2782546 | 0.1701704 | 0.07496654 | 0.02532760 | 0.008669994 |\n",
       "\n"
      ],
      "text/plain": [
       "  0 types   1 type    2 types   3 types   4 types    5 types    6+ types   \n",
       "1 0.1353376 0.2987494 0.2885349 0.1731597 0.07332233 0.02348675 0.007409389\n",
       "2 0.1353353 0.2827843 0.2822041 0.1793916 0.08172910 0.02846516 0.010090434\n",
       "3 0.1501906 0.2924203 0.2782546 0.1701704 0.07496654 0.02532760 0.008669994"
      ]
     },
     "metadata": {},
     "output_type": "display_data"
    }
   ],
   "source": [
    "colnames(distributions_limited) <- c(\"0 types\", \"1 type\", \"2 types\", \"3 types\", \"4 types\", \"5 types\", \"6+ types\")\n",
    "distributions_limited"
   ]
  },
  {
   "cell_type": "code",
   "execution_count": 10,
   "id": "6750ea08-d66a-4c7d-80da-ba8b62116ac7",
   "metadata": {},
   "outputs": [
    {
     "name": "stderr",
     "output_type": "stream",
     "text": [
      "Scale for 'x' is already present. Adding another scale for 'x', which will\n",
      "replace the existing scale.\n",
      "\n"
     ]
    },
    {
     "data": {
      "image/png": "[encoded data removed]",
      "text/plain": [
       "plot without title"
      ]
     },
     "metadata": {
      "image/png": {
       "height": 420,
       "width": 420
      }
     },
     "output_type": "display_data"
    }
   ],
   "source": [
    "new_plot <- plot_composition(microbiome::transform(phyloseq(otu_table(distributions_limited, taxa_are_rows=FALSE), sample_data(distributions_limited)), \"compositional\"), \n",
    "                 plot.type=\"barplot\") + scale_fill_brewer(palette = \"Paired\") +xlab(\"Simulations\")\n",
    "new_plot<- new_plot + scale_x_discrete( labels=c(\"Comp. Het. Only\", \"hPoMu\", \"Comp. + Dens. Het.\"), limits = rev(levels(new_plot$Simulations)))  + \n",
    "theme(panel.background = element_rect(fill = \"transparent\"), plot.margin=grid::unit(c(0,0,0,0), \"mm\"),\n",
    "     axis.text.x = element_text(angle = 0, vjust = 0., hjust=0.5, size=13),\n",
    "     axis.text.y = element_text(angle = 0, vjust = 0, hjust=0, size=14)) + labs(fill=\"\", x=\"\", y=\"\")\n",
    "\n",
    "new_plot"
   ]
  },
  {
   "cell_type": "code",
   "execution_count": 11,
   "id": "345a03f4-f5a1-4328-9106-64c4298f208f",
   "metadata": {},
   "outputs": [
    {
     "name": "stderr",
     "output_type": "stream",
     "text": [
      "Saving 6.67 x 6.67 in image\n",
      "\n"
     ]
    }
   ],
   "source": [
    "ggsave('average_compositions_limited.png', new_plot, device=\"png\")\n",
    "system(\"convert average_compositions_limited.png -trim -bordercolor white -border 20  average_compositions_limited.png\")"
   ]
  },
  {
   "cell_type": "code",
   "execution_count": null,
   "id": "9f1162bf-0f08-4dd4-b007-f4a1365f12ec",
   "metadata": {},
   "outputs": [],
   "source": []
  }
 ],
 "metadata": {
  "kernelspec": {
   "display_name": "R",
   "language": "R",
   "name": "ir"
  },
  "language_info": {
   "codemirror_mode": "r",
   "file_extension": ".r",
   "mimetype": "text/x-r-source",
   "name": "R",
   "pygments_lexer": "r",
   "version": "4.0.2"
  }
 },
 "nbformat": 4,
 "nbformat_minor": 5
}
