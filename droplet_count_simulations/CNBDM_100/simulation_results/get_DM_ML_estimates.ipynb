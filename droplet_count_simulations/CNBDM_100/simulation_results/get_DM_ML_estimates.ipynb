{
 "cells": [
  {
   "cell_type": "code",
   "execution_count": 1,
   "id": "93d74bf9-eb90-43f4-8d82-cb1032034c0e",
   "metadata": {
    "execution": {
     "iopub.execute_input": "2021-09-07T18:21:40.457723Z",
     "iopub.status.busy": "2021-09-07T18:21:40.455177Z",
     "iopub.status.idle": "2021-09-07T18:21:40.757381Z",
     "shell.execute_reply": "2021-09-07T18:21:40.756257Z"
    }
   },
   "outputs": [],
   "source": [
    "import numpy as np\n",
    "import multiprocessing as mp"
   ]
  },
  {
   "cell_type": "code",
   "execution_count": 2,
   "id": "4e1c88d9-5cd2-4b92-a40c-f82587653879",
   "metadata": {
    "execution": {
     "iopub.execute_input": "2021-09-07T18:21:40.764234Z",
     "iopub.status.busy": "2021-09-07T18:21:40.763123Z",
     "iopub.status.idle": "2021-09-07T18:21:42.966938Z",
     "shell.execute_reply": "2021-09-07T18:21:42.966056Z"
    }
   },
   "outputs": [],
   "source": [
    "from glob import glob\n",
    "from analysis_utils.concentrations_MLE import get_DM_MLE"
   ]
  },
  {
   "cell_type": "code",
   "execution_count": 3,
   "id": "bc7fe0d1-e9c5-4bc4-9508-547824a3bba3",
   "metadata": {
    "execution": {
     "iopub.execute_input": "2021-09-07T18:21:42.975162Z",
     "iopub.status.busy": "2021-09-07T18:21:42.973716Z",
     "iopub.status.idle": "2021-09-07T18:21:43.036079Z",
     "shell.execute_reply": "2021-09-07T18:21:43.034801Z"
    }
   },
   "outputs": [],
   "source": [
    "filenames = sorted(list(glob('npzfiles/*.npz')))"
   ]
  },
  {
   "cell_type": "code",
   "execution_count": 4,
   "id": "3b328135-f5f2-4d03-bddf-73763b0d6dad",
   "metadata": {
    "execution": {
     "iopub.execute_input": "2021-09-07T18:21:43.045469Z",
     "iopub.status.busy": "2021-09-07T18:21:43.044053Z",
     "iopub.status.idle": "2021-09-07T18:26:31.216773Z",
     "shell.execute_reply": "2021-09-07T18:26:31.217963Z"
    }
   },
   "outputs": [
    {
     "name": "stdout",
     "output_type": "stream",
     "text": [
      "CPU times: user 335 ms, sys: 761 ms, total: 1.1 s\n",
      "Wall time: 4min 48s\n"
     ]
    }
   ],
   "source": [
    "%%time\n",
    "with mp.get_context(\"spawn\").Pool(40) as pool:\n",
    "    pool.map(get_DM_MLE, filenames, chunksize=1)\n",
    "    pool.close()\n",
    "    pool.join()"
   ]
  }
 ],
 "metadata": {
  "kernelspec": {
   "display_name": "Python 3",
   "language": "python",
   "name": "python3"
  },
  "language_info": {
   "codemirror_mode": {
    "name": "ipython",
    "version": 3
   },
   "file_extension": ".py",
   "mimetype": "text/x-python",
   "name": "python",
   "nbconvert_exporter": "python",
   "pygments_lexer": "ipython3",
   "version": "3.9.2"
  }
 },
 "nbformat": 4,
 "nbformat_minor": 5
}
