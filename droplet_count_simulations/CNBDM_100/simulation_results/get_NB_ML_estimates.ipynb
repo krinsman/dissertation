{
 "cells": [
  {
   "cell_type": "code",
   "execution_count": 1,
   "id": "93d74bf9-eb90-43f4-8d82-cb1032034c0e",
   "metadata": {
    "execution": {
     "iopub.execute_input": "2021-09-09T20:40:48.275133Z",
     "iopub.status.busy": "2021-09-09T20:40:48.273469Z",
     "iopub.status.idle": "2021-09-09T20:40:48.491035Z",
     "shell.execute_reply": "2021-09-09T20:40:48.489971Z"
    },
    "tags": []
   },
   "outputs": [],
   "source": [
    "import numpy as np\n",
    "import multiprocessing as mp"
   ]
  },
  {
   "cell_type": "code",
   "execution_count": 2,
   "id": "4e1c88d9-5cd2-4b92-a40c-f82587653879",
   "metadata": {
    "execution": {
     "iopub.execute_input": "2021-09-09T20:40:48.497931Z",
     "iopub.status.busy": "2021-09-09T20:40:48.496957Z",
     "iopub.status.idle": "2021-09-09T20:40:50.550869Z",
     "shell.execute_reply": "2021-09-09T20:40:50.549875Z"
    }
   },
   "outputs": [],
   "source": [
    "from glob import glob\n",
    "from analysis_utils.concentrations_MLE import get_NB_MLE"
   ]
  },
  {
   "cell_type": "code",
   "execution_count": 3,
   "id": "bc7fe0d1-e9c5-4bc4-9508-547824a3bba3",
   "metadata": {
    "execution": {
     "iopub.execute_input": "2021-09-09T20:40:50.556852Z",
     "iopub.status.busy": "2021-09-09T20:40:50.555890Z",
     "iopub.status.idle": "2021-09-09T20:40:50.562787Z",
     "shell.execute_reply": "2021-09-09T20:40:50.561967Z"
    }
   },
   "outputs": [],
   "source": [
    "filenames = sorted(list(glob('npzfiles/*.npz')))"
   ]
  },
  {
   "cell_type": "code",
   "execution_count": 4,
   "id": "3b328135-f5f2-4d03-bddf-73763b0d6dad",
   "metadata": {
    "execution": {
     "iopub.execute_input": "2021-09-09T20:40:50.569242Z",
     "iopub.status.busy": "2021-09-09T20:40:50.568283Z",
     "iopub.status.idle": "2021-09-09T21:12:20.468408Z",
     "shell.execute_reply": "2021-09-09T21:12:20.469500Z"
    }
   },
   "outputs": [
    {
     "name": "stdout",
     "output_type": "stream",
     "text": [
      "CPU times: user 1.07 s, sys: 1.08 s, total: 2.14 s\n",
      "Wall time: 31min 29s\n"
     ]
    }
   ],
   "source": [
    "%%time\n",
    "with mp.get_context(\"spawn\").Pool(25) as pool:\n",
    "    pool.map(get_NB_MLE, filenames, chunksize=1)\n",
    "    pool.close()\n",
    "    pool.join()"
   ]
  }
 ],
 "metadata": {
  "kernelspec": {
   "display_name": "Python 3",
   "language": "python",
   "name": "python3"
  },
  "language_info": {
   "codemirror_mode": {
    "name": "ipython",
    "version": 3
   },
   "file_extension": ".py",
   "mimetype": "text/x-python",
   "name": "python",
   "nbconvert_exporter": "python",
   "pygments_lexer": "ipython3",
   "version": "3.9.2"
  }
 },
 "nbformat": 4,
 "nbformat_minor": 5
}
