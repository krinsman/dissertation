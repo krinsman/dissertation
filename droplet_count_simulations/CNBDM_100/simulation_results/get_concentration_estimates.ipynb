{
 "cells": [
  {
   "cell_type": "code",
   "execution_count": 1,
   "id": "cc10e185-c68e-4a89-88d3-40cef10ef127",
   "metadata": {},
   "outputs": [],
   "source": [
    "import numpy as np\n",
    "import multiprocessing as mp"
   ]
  },
  {
   "cell_type": "code",
   "execution_count": 2,
   "id": "c4c62701-e392-4e4c-942c-cf0a8b44d45b",
   "metadata": {},
   "outputs": [],
   "source": [
    "from glob import glob\n",
    "from analysis_utils.estimated_concentrations import get_concentration_estimates"
   ]
  },
  {
   "cell_type": "code",
   "execution_count": 3,
   "id": "c11691ce-73e8-491a-9ebd-ee2e899c9444",
   "metadata": {},
   "outputs": [],
   "source": [
    "filenames = sorted(list(glob('npzfiles/*.npz')))"
   ]
  },
  {
   "cell_type": "code",
   "execution_count": 4,
   "id": "47d9d6e0-1454-438b-9bf3-6aae60395c2a",
   "metadata": {},
   "outputs": [
    {
     "name": "stdout",
     "output_type": "stream",
     "text": [
      "CPU times: user 251 ms, sys: 244 ms, total: 495 ms\n",
      "Wall time: 4min 35s\n"
     ]
    }
   ],
   "source": [
    "%%time\n",
    "with mp.get_context(\"spawn\").Pool(5) as pool:\n",
    "    pool.map(get_concentration_estimates, filenames, chunksize=1)\n",
    "    pool.close()\n",
    "    pool.join()"
   ]
  }
 ],
 "metadata": {
  "kernelspec": {
   "display_name": "Python 3",
   "language": "python",
   "name": "python3"
  },
  "language_info": {
   "codemirror_mode": {
    "name": "ipython",
    "version": 3
   },
   "file_extension": ".py",
   "mimetype": "text/x-python",
   "name": "python",
   "nbconvert_exporter": "python",
   "pygments_lexer": "ipython3",
   "version": "3.9.2"
  }
 },
 "nbformat": 4,
 "nbformat_minor": 5
}
