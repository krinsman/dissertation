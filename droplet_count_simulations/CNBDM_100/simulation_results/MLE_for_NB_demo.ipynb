{
 "cells": [
  {
   "cell_type": "code",
   "execution_count": 1,
   "id": "0a57ea4e-3585-4d9b-826f-c9ccaa4de389",
   "metadata": {},
   "outputs": [],
   "source": [
    "from glob import glob\n",
    "\n",
    "filenames = sorted(list(glob('npzfiles/*.npz')))"
   ]
  },
  {
   "cell_type": "code",
   "execution_count": 2,
   "id": "94572c18-6571-42d1-bac6-201df7773c70",
   "metadata": {},
   "outputs": [],
   "source": [
    "import numpy as np\n",
    "from simulations.concentrations.MLE import get_NB_score_function\n",
    "\n",
    "from scipy.optimize import root_scalar"
   ]
  },
  {
   "cell_type": "code",
   "execution_count": 3,
   "id": "27350a86-30e9-4742-9b53-23351a2a1c07",
   "metadata": {},
   "outputs": [],
   "source": [
    "from analysis_utils.concentrations_MLE import get_NB_MLE"
   ]
  },
  {
   "cell_type": "code",
   "execution_count": 4,
   "id": "b430b84f-b33e-45e6-866f-a34207d01933",
   "metadata": {},
   "outputs": [
    {
     "data": {
      "text/plain": [
       "0"
      ]
     },
     "execution_count": 4,
     "metadata": {},
     "output_type": "execute_result"
    }
   ],
   "source": [
    "get_NB_MLE(filenames[0])"
   ]
  },
  {
   "cell_type": "code",
   "execution_count": 5,
   "id": "98c17117-a548-4f0a-9c8d-de10a2646ad9",
   "metadata": {},
   "outputs": [],
   "source": [
    "npzfile = np.load('concentration_ML_estimates/simulation.001.density.npz')"
   ]
  },
  {
   "cell_type": "code",
   "execution_count": 6,
   "id": "0173c2d7-50c9-4bc1-b5d1-b183289a0d2d",
   "metadata": {},
   "outputs": [
    {
     "data": {
      "text/plain": [
       "array([126.74787036])"
      ]
     },
     "execution_count": 6,
     "metadata": {},
     "output_type": "execute_result"
    }
   ],
   "source": [
    "npzfile['whole_sim']"
   ]
  },
  {
   "cell_type": "code",
   "execution_count": 7,
   "id": "c2e37a81-105c-4bb0-8828-c4137d455944",
   "metadata": {},
   "outputs": [
    {
     "data": {
      "text/plain": [
       "array([186.79630488,   9.12992535,          inf,          inf,\n",
       "                inf,   8.30082266,  12.43585769,  34.05391735,\n",
       "        42.08646906,          inf,          inf,          inf,\n",
       "                inf, 162.52222691,   9.18283852,          inf,\n",
       "         6.93175344,          inf,  27.23539741,   5.39385777,\n",
       "         6.44678786,          inf,          inf,  10.85755463,\n",
       "         6.16239744,          inf,   7.80802758,  64.44637611,\n",
       "                inf,          inf])"
      ]
     },
     "execution_count": 7,
     "metadata": {},
     "output_type": "execute_result"
    }
   ],
   "source": [
    "npzfile['medium_batches']"
   ]
  },
  {
   "cell_type": "code",
   "execution_count": 8,
   "id": "c6a546e5-6e1d-4943-b000-8c71720bb430",
   "metadata": {},
   "outputs": [
    {
     "data": {
      "text/plain": [
       "array([ 3.44956953,  1.06134458,         inf, ..., 18.23784568,\n",
       "               inf,         inf])"
      ]
     },
     "execution_count": 8,
     "metadata": {},
     "output_type": "execute_result"
    }
   ],
   "source": [
    "npzfile['small_batches']"
   ]
  },
  {
   "cell_type": "markdown",
   "id": "c6d694e0-2416-44d0-bd32-66cc78f0aa12",
   "metadata": {},
   "source": [
    "## Example"
   ]
  },
  {
   "cell_type": "code",
   "execution_count": 9,
   "id": "a374df66-6893-451a-88cf-0333a90f3c75",
   "metadata": {},
   "outputs": [],
   "source": [
    "npzfile = np.load(filenames[0])\n",
    "droplets = npzfile['droplets']\n",
    "\n",
    "counts = np.sum(droplets, axis=1)\n",
    "mean_count = np.mean(counts)\n",
    "number_droplets, number_strains = droplets.shape\n",
    "\n",
    "score_function = get_NB_score_function(counts, mean_count, number_droplets, number_strains)"
   ]
  },
  {
   "cell_type": "code",
   "execution_count": 10,
   "id": "cc78b843-c18c-41e5-b600-6ddeed76d708",
   "metadata": {},
   "outputs": [],
   "source": [
    "from scipy.optimize import fsolve"
   ]
  },
  {
   "cell_type": "markdown",
   "id": "994e363c-16ce-4d12-a029-f356a333e54d",
   "metadata": {},
   "source": [
    "`fsolve` more general framework/wrapper, but seem to get better results using more 'targeted' options"
   ]
  },
  {
   "cell_type": "code",
   "execution_count": 11,
   "id": "5f5e4451-10ac-42ea-a8c7-402f85b304c3",
   "metadata": {},
   "outputs": [
    {
     "data": {
      "text/plain": [
       "(array([200.00545969]),\n",
       " {'nfev': 14,\n",
       "  'fjac': array([[-1.]]),\n",
       "  'r': array([1.05772255e-05]),\n",
       "  'qtf': array([2.87526132e-06]),\n",
       "  'fvec': array([-2.87526132e-06])},\n",
       " 5,\n",
       " 'The iteration is not making good progress, as measured by the \\n  improvement from the last ten iterations.')"
      ]
     },
     "execution_count": 11,
     "metadata": {},
     "output_type": "execute_result"
    }
   ],
   "source": [
    "fsolve(score_function, 200, full_output=True)"
   ]
  },
  {
   "cell_type": "code",
   "execution_count": 12,
   "id": "a980154f-65e4-4309-9c9f-b97f20e944ba",
   "metadata": {},
   "outputs": [
    {
     "data": {
      "text/plain": [
       "      converged: True\n",
       "           flag: 'converged'\n",
       " function_calls: 6\n",
       "     iterations: 5\n",
       "           root: 99999.99996164694"
      ]
     },
     "execution_count": 12,
     "metadata": {},
     "output_type": "execute_result"
    }
   ],
   "source": [
    "root_scalar(f=score_function, x0=200, bracket=(0.00001,100000))"
   ]
  },
  {
   "cell_type": "code",
   "execution_count": 13,
   "id": "4d995dac-8850-4954-bd07-09b2486cb23e",
   "metadata": {},
   "outputs": [
    {
     "data": {
      "text/plain": [
       "(array([126.74064385]),\n",
       " {'nfev': 22,\n",
       "  'fjac': array([[-1.]]),\n",
       "  'r': array([20.5390162]),\n",
       "  'qtf': array([-1.58706825e-10]),\n",
       "  'fvec': array([0.])},\n",
       " 1,\n",
       " 'The solution converged.')"
      ]
     },
     "execution_count": 13,
     "metadata": {},
     "output_type": "execute_result"
    }
   ],
   "source": [
    "fsolve(score_function, 100, full_output=True)"
   ]
  },
  {
   "cell_type": "code",
   "execution_count": 14,
   "id": "6e8f0fd1-7a78-4c04-b22e-ccc93b154e9d",
   "metadata": {},
   "outputs": [
    {
     "data": {
      "text/plain": [
       "(array([126.75049318]),\n",
       " {'nfev': 43,\n",
       "  'fjac': array([[-1.]]),\n",
       "  'r': array([6.53390215]),\n",
       "  'qtf': array([-4.10636858e-10]),\n",
       "  'fvec': array([4.10636858e-10])},\n",
       " 5,\n",
       " 'The iteration is not making good progress, as measured by the \\n  improvement from the last ten iterations.')"
      ]
     },
     "execution_count": 14,
     "metadata": {},
     "output_type": "execute_result"
    }
   ],
   "source": [
    "fsolve(score_function, 50, full_output=True)"
   ]
  },
  {
   "cell_type": "code",
   "execution_count": 15,
   "id": "01e707a4-d40f-445d-962d-c45b6f769217",
   "metadata": {},
   "outputs": [
    {
     "data": {
      "text/plain": [
       "(array([150.00643944]),\n",
       " {'nfev': 16,\n",
       "  'fjac': array([[-1.]]),\n",
       "  'r': array([0.00036213]),\n",
       "  'qtf': array([2.16380749e-06]),\n",
       "  'fvec': array([-2.16380749e-06])},\n",
       " 5,\n",
       " 'The iteration is not making good progress, as measured by the \\n  improvement from the last ten iterations.')"
      ]
     },
     "execution_count": 15,
     "metadata": {},
     "output_type": "execute_result"
    }
   ],
   "source": [
    "fsolve(score_function, 150, full_output=True)"
   ]
  },
  {
   "cell_type": "code",
   "execution_count": 16,
   "id": "3dfc9cb2-ceca-440e-a4bf-595674fc8c5e",
   "metadata": {},
   "outputs": [
    {
     "data": {
      "text/plain": [
       "(array([126.73480219]),\n",
       " {'nfev': 21,\n",
       "  'fjac': array([[-1.]]),\n",
       "  'r': array([20.52486078]),\n",
       "  'qtf': array([-4.45652404e-11]),\n",
       "  'fvec': array([4.54747351e-13])},\n",
       " 1,\n",
       " 'The solution converged.')"
      ]
     },
     "execution_count": 16,
     "metadata": {},
     "output_type": "execute_result"
    }
   ],
   "source": [
    "fsolve(score_function, 175, full_output=True)"
   ]
  },
  {
   "cell_type": "code",
   "execution_count": 17,
   "id": "7744b548-ad6d-4b15-a3e5-1f95cea93ddd",
   "metadata": {},
   "outputs": [
    {
     "data": {
      "text/plain": [
       "      converged: True\n",
       "           flag: 'converged'\n",
       " function_calls: 47\n",
       "     iterations: 46\n",
       "           root: 126.74787035600554"
      ]
     },
     "execution_count": 17,
     "metadata": {},
     "output_type": "execute_result"
    }
   ],
   "source": [
    "root_scalar(f=score_function, x0=175, bracket=(0.0001,10000))"
   ]
  },
  {
   "cell_type": "code",
   "execution_count": 18,
   "id": "e2f1e0e5-abcf-4337-9686-01f1cb7ab4eb",
   "metadata": {},
   "outputs": [
    {
     "data": {
      "text/plain": [
       "(array([159.96490917]),\n",
       " {'nfev': 14,\n",
       "  'fjac': array([[-1.]]),\n",
       "  'r': array([8.53543945e-06]),\n",
       "  'qtf': array([2.5480922e-06]),\n",
       "  'fvec': array([-2.5480922e-06])},\n",
       " 5,\n",
       " 'The iteration is not making good progress, as measured by the \\n  improvement from the last ten iterations.')"
      ]
     },
     "execution_count": 18,
     "metadata": {},
     "output_type": "execute_result"
    }
   ],
   "source": [
    "fsolve(score_function, 160, full_output=True)"
   ]
  },
  {
   "cell_type": "code",
   "execution_count": 19,
   "id": "4d31b7ff-37b1-435e-8bbe-21f6518ca79f",
   "metadata": {},
   "outputs": [
    {
     "data": {
      "text/plain": [
       "      converged: True\n",
       "           flag: 'converged'\n",
       " function_calls: 47\n",
       "     iterations: 46\n",
       "           root: 126.74787035600554"
      ]
     },
     "execution_count": 19,
     "metadata": {},
     "output_type": "execute_result"
    }
   ],
   "source": [
    "root_scalar(f=score_function, x0=160, bracket=(0.0001,10000))"
   ]
  },
  {
   "cell_type": "code",
   "execution_count": 20,
   "id": "f2a6da0b-1a9e-4d42-801c-c28e4d6a77e7",
   "metadata": {},
   "outputs": [
    {
     "data": {
      "text/plain": [
       "(array([155.00149942]),\n",
       " {'nfev': 14,\n",
       "  'fjac': array([[-1.]]),\n",
       "  'r': array([0.00056231]),\n",
       "  'qtf': array([2.38226039e-06]),\n",
       "  'fvec': array([-2.38226039e-06])},\n",
       " 5,\n",
       " 'The iteration is not making good progress, as measured by the \\n  improvement from the last ten iterations.')"
      ]
     },
     "execution_count": 20,
     "metadata": {},
     "output_type": "execute_result"
    }
   ],
   "source": [
    "fsolve(score_function, 155, full_output=True)"
   ]
  },
  {
   "cell_type": "code",
   "execution_count": 21,
   "id": "489d2090-fa26-4b5f-b2e8-c562ede9c5c4",
   "metadata": {},
   "outputs": [
    {
     "data": {
      "text/plain": [
       "      converged: True\n",
       "           flag: 'converged'\n",
       " function_calls: 47\n",
       "     iterations: 46\n",
       "           root: 126.74787035600554"
      ]
     },
     "execution_count": 21,
     "metadata": {},
     "output_type": "execute_result"
    }
   ],
   "source": [
    "root_scalar(f=score_function, x0=155, bracket=(0.0001,10000))"
   ]
  },
  {
   "cell_type": "code",
   "execution_count": 22,
   "id": "5a2877a1-54cc-483d-8df4-6ccd18e9226f",
   "metadata": {},
   "outputs": [
    {
     "data": {
      "text/plain": [
       "(array([150.00643944]),\n",
       " {'nfev': 16,\n",
       "  'fjac': array([[-1.]]),\n",
       "  'r': array([0.00036213]),\n",
       "  'qtf': array([2.16380749e-06]),\n",
       "  'fvec': array([-2.16380749e-06])},\n",
       " 5,\n",
       " 'The iteration is not making good progress, as measured by the \\n  improvement from the last ten iterations.')"
      ]
     },
     "execution_count": 22,
     "metadata": {},
     "output_type": "execute_result"
    }
   ],
   "source": [
    "fsolve(score_function, 150, full_output=True)"
   ]
  },
  {
   "cell_type": "markdown",
   "id": "6b26de58-f8f4-4643-83c3-da19b1061fc7",
   "metadata": {},
   "source": [
    "#### score function evaluated at some values"
   ]
  },
  {
   "cell_type": "code",
   "execution_count": 23,
   "id": "24e96159-2ee5-4e97-942b-c6fc1e8ea974",
   "metadata": {},
   "outputs": [
    {
     "data": {
      "text/plain": [
       "0.00019269783661002293"
      ]
     },
     "execution_count": 23,
     "metadata": {},
     "output_type": "execute_result"
    }
   ],
   "source": [
    "score_function(50)"
   ]
  },
  {
   "cell_type": "code",
   "execution_count": 24,
   "id": "c8e2f314-5e1c-4fff-ac48-92376241cfc8",
   "metadata": {},
   "outputs": [
    {
     "data": {
      "text/plain": [
       "3.851083056360949e-05"
      ]
     },
     "execution_count": 24,
     "metadata": {},
     "output_type": "execute_result"
    }
   ],
   "source": [
    "score_function(75)"
   ]
  },
  {
   "cell_type": "code",
   "execution_count": 25,
   "id": "2c622aec-86dd-4b06-bf90-bf2c6db0ba4d",
   "metadata": {},
   "outputs": [
    {
     "data": {
      "text/plain": [
       "2.8667676815530285e-05"
      ]
     },
     "execution_count": 25,
     "metadata": {},
     "output_type": "execute_result"
    }
   ],
   "source": [
    "score_function(80)"
   ]
  },
  {
   "cell_type": "code",
   "execution_count": 26,
   "id": "fb3f311e-3f2f-4461-88cf-895f96c85e2f",
   "metadata": {},
   "outputs": [
    {
     "data": {
      "text/plain": [
       "1.5826149137865286e-05"
      ]
     },
     "execution_count": 26,
     "metadata": {},
     "output_type": "execute_result"
    }
   ],
   "source": [
    "score_function(90)"
   ]
  },
  {
   "cell_type": "code",
   "execution_count": 27,
   "id": "2b2728d8-7069-4a87-9882-1ae301f3efcb",
   "metadata": {},
   "outputs": [
    {
     "data": {
      "text/plain": [
       "1.1626661944319494e-05"
      ]
     },
     "execution_count": 27,
     "metadata": {},
     "output_type": "execute_result"
    }
   ],
   "source": [
    "score_function(95)"
   ]
  },
  {
   "cell_type": "code",
   "execution_count": 28,
   "id": "f998b246-85f3-4de9-9aa3-45121ef49433",
   "metadata": {},
   "outputs": [
    {
     "data": {
      "text/plain": [
       "9.906954346661223e-06"
      ]
     },
     "execution_count": 28,
     "metadata": {},
     "output_type": "execute_result"
    }
   ],
   "source": [
    "score_function(97.5)"
   ]
  },
  {
   "cell_type": "code",
   "execution_count": 29,
   "id": "d1dd3fb3-6c20-4105-886f-67a144a90d3f",
   "metadata": {},
   "outputs": [
    {
     "data": {
      "text/plain": [
       "8.397984856856056e-06"
      ]
     },
     "execution_count": 29,
     "metadata": {},
     "output_type": "execute_result"
    }
   ],
   "source": [
    "score_function(100)"
   ]
  },
  {
   "cell_type": "code",
   "execution_count": 30,
   "id": "53c4ca83-46dc-4ed0-ab5e-30d06acde3df",
   "metadata": {},
   "outputs": [
    {
     "data": {
      "text/plain": [
       "8.33876720207627e-06"
      ]
     },
     "execution_count": 30,
     "metadata": {},
     "output_type": "execute_result"
    }
   ],
   "source": [
    "score_function(100.10625)"
   ]
  },
  {
   "cell_type": "code",
   "execution_count": 31,
   "id": "2c40483a-5bc6-4974-a485-50c180ebaac1",
   "metadata": {},
   "outputs": [
    {
     "data": {
      "text/plain": [
       "8.223453278333182e-06"
      ]
     },
     "execution_count": 31,
     "metadata": {},
     "output_type": "execute_result"
    }
   ],
   "source": [
    "score_function(100.3125)"
   ]
  },
  {
   "cell_type": "code",
   "execution_count": 32,
   "id": "4c55ceb2-b8d9-45d2-85c8-3e757c84aebf",
   "metadata": {},
   "outputs": [
    {
     "data": {
      "text/plain": [
       "8.049932148423977e-06"
      ]
     },
     "execution_count": 32,
     "metadata": {},
     "output_type": "execute_result"
    }
   ],
   "source": [
    "score_function(100.625)"
   ]
  },
  {
   "cell_type": "code",
   "execution_count": 33,
   "id": "1f070d68-386d-4b18-9a1e-c571baf501c0",
   "metadata": {},
   "outputs": [
    {
     "data": {
      "text/plain": [
       "7.712331807852024e-06"
      ]
     },
     "execution_count": 33,
     "metadata": {},
     "output_type": "execute_result"
    }
   ],
   "source": [
    "score_function(101.25)"
   ]
  },
  {
   "cell_type": "code",
   "execution_count": 34,
   "id": "b6f92d89-af4f-4170-87d2-88fc84503cdf",
   "metadata": {},
   "outputs": [
    {
     "data": {
      "text/plain": [
       "7.0697092269256245e-06"
      ]
     },
     "execution_count": 34,
     "metadata": {},
     "output_type": "execute_result"
    }
   ],
   "source": [
    "score_function(102.5)"
   ]
  },
  {
   "cell_type": "code",
   "execution_count": 35,
   "id": "224ed888-beda-41e5-b511-d4c64e9e2922",
   "metadata": {},
   "outputs": [
    {
     "data": {
      "text/plain": [
       "5.899938514630776e-06"
      ]
     },
     "execution_count": 35,
     "metadata": {},
     "output_type": "execute_result"
    }
   ],
   "source": [
    "score_function(105)"
   ]
  },
  {
   "cell_type": "code",
   "execution_count": 36,
   "id": "9687ce30-6212-4758-a4be-9e347eb4fd2c",
   "metadata": {},
   "outputs": [
    {
     "data": {
      "text/plain": [
       "3.951710823457688e-06"
      ]
     },
     "execution_count": 36,
     "metadata": {},
     "output_type": "execute_result"
    }
   ],
   "source": [
    "score_function(110)"
   ]
  },
  {
   "cell_type": "code",
   "execution_count": 37,
   "id": "c4836503-2e31-4cee-884c-d02960aac0c4",
   "metadata": {},
   "outputs": [
    {
     "data": {
      "text/plain": [
       "1.2262821655895095e-06"
      ]
     },
     "execution_count": 37,
     "metadata": {},
     "output_type": "execute_result"
    }
   ],
   "source": [
    "score_function(120)"
   ]
  },
  {
   "cell_type": "code",
   "execution_count": 38,
   "id": "983c0ae4-89b2-496f-8a4f-0289e81d68f1",
   "metadata": {},
   "outputs": [
    {
     "data": {
      "text/plain": [
       "-2.8767808544216678e-06"
      ]
     },
     "execution_count": 38,
     "metadata": {},
     "output_type": "execute_result"
    }
   ],
   "source": [
    "score_function(200)"
   ]
  },
  {
   "cell_type": "code",
   "execution_count": 39,
   "id": "a75c5228-c3bf-4643-b57d-cc5b6656fa6a",
   "metadata": {},
   "outputs": [
    {
     "data": {
      "text/plain": [
       "-7.193975193331426e-08"
      ]
     },
     "execution_count": 39,
     "metadata": {},
     "output_type": "execute_result"
    }
   ],
   "source": [
    "score_function(2000)"
   ]
  },
  {
   "cell_type": "code",
   "execution_count": 40,
   "id": "4084842d-ad1a-4c39-bb0d-0ed792e8d20c",
   "metadata": {},
   "outputs": [
    {
     "data": {
      "text/plain": [
       "-2.8414959274414286e-10"
      ]
     },
     "execution_count": 40,
     "metadata": {},
     "output_type": "execute_result"
    }
   ],
   "source": [
    "score_function(20000)"
   ]
  },
  {
   "cell_type": "code",
   "execution_count": 41,
   "id": "de4215d2-8734-4e6b-a9ce-9312ad80f46f",
   "metadata": {},
   "outputs": [
    {
     "data": {
      "text/plain": [
       "-6.243441319497833e-10"
      ]
     },
     "execution_count": 41,
     "metadata": {},
     "output_type": "execute_result"
    }
   ],
   "source": [
    "score_function(200000)"
   ]
  },
  {
   "cell_type": "code",
   "execution_count": 42,
   "id": "799da92c-152b-428c-9a4a-58261b53e074",
   "metadata": {},
   "outputs": [
    {
     "data": {
      "text/plain": [
       "1.603606580857786e-09"
      ]
     },
     "execution_count": 42,
     "metadata": {},
     "output_type": "execute_result"
    }
   ],
   "source": [
    "score_function(2000000)"
   ]
  },
  {
   "cell_type": "markdown",
   "id": "28e76327-25c3-46d9-9620-dceb05759268",
   "metadata": {},
   "source": [
    "## Does this really work in general?"
   ]
  },
  {
   "cell_type": "code",
   "execution_count": 43,
   "id": "341ccdba-9fd7-421a-a51d-a6eac8c61bcd",
   "metadata": {},
   "outputs": [
    {
     "data": {
      "text/plain": [
       "0"
      ]
     },
     "execution_count": 43,
     "metadata": {},
     "output_type": "execute_result"
    }
   ],
   "source": [
    "get_NB_MLE(filenames[17])"
   ]
  },
  {
   "cell_type": "code",
   "execution_count": 44,
   "id": "56126cec-6499-4a12-abc6-0c592a723492",
   "metadata": {},
   "outputs": [],
   "source": [
    "npzfile = np.load('concentration_ML_estimates/simulation.018.density.npz')"
   ]
  },
  {
   "cell_type": "code",
   "execution_count": 45,
   "id": "db5e9b0a-27f8-4e0f-ab7b-be5616547fb4",
   "metadata": {},
   "outputs": [
    {
     "data": {
      "text/plain": [
       "array([545.35721689])"
      ]
     },
     "execution_count": 45,
     "metadata": {},
     "output_type": "execute_result"
    }
   ],
   "source": [
    "npzfile['whole_sim']"
   ]
  },
  {
   "cell_type": "code",
   "execution_count": 46,
   "id": "3ccdd510-dc6c-44b3-9d74-2de42b6f080a",
   "metadata": {},
   "outputs": [
    {
     "data": {
      "text/plain": [
       "array([         inf,  26.43459425,          inf,  21.57508205,\n",
       "                inf, 523.90618372,  12.24311747,          inf,\n",
       "         6.00458604,  50.26284676,   9.23863498,          inf,\n",
       "         5.89499579,  14.8264288 ,          inf,          inf,\n",
       "        39.67272374,          inf,  27.99066335,          inf,\n",
       "                inf,  43.73626434,   7.3122151 ,          inf,\n",
       "        16.0064103 ,  10.93401719,          inf,          inf,\n",
       "                inf,          inf])"
      ]
     },
     "execution_count": 46,
     "metadata": {},
     "output_type": "execute_result"
    }
   ],
   "source": [
    "npzfile['medium_batches']"
   ]
  },
  {
   "cell_type": "code",
   "execution_count": 47,
   "id": "517127a6-3c0c-4341-b8e6-aa817b66b62b",
   "metadata": {},
   "outputs": [
    {
     "data": {
      "text/plain": [
       "array([2.25665464, 1.64237855,        inf, ..., 2.59803526, 1.30982057,\n",
       "              inf])"
      ]
     },
     "execution_count": 47,
     "metadata": {},
     "output_type": "execute_result"
    }
   ],
   "source": [
    "npzfile['small_batches']"
   ]
  }
 ],
 "metadata": {
  "kernelspec": {
   "display_name": "Python 3",
   "language": "python",
   "name": "python3"
  },
  "language_info": {
   "codemirror_mode": {
    "name": "ipython",
    "version": 3
   },
   "file_extension": ".py",
   "mimetype": "text/x-python",
   "name": "python",
   "nbconvert_exporter": "python",
   "pygments_lexer": "ipython3",
   "version": "3.9.2"
  }
 },
 "nbformat": 4,
 "nbformat_minor": 5
}
