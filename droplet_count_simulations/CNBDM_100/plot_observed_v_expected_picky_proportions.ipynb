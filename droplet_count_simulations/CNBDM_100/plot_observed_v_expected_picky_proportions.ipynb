{
 "cells": [
  {
   "cell_type": "code",
   "execution_count": 1,
   "id": "ef5fac3b-771f-4145-9e65-af0885264877",
   "metadata": {},
   "outputs": [
    {
     "name": "stderr",
     "output_type": "stream",
     "text": [
      "Warning message:\n",
      "“package ‘microbiome’ was built under R version 4.0.3”\n",
      "Loading required package: phyloseq\n",
      "\n",
      "Warning message:\n",
      "“package ‘phyloseq’ was built under R version 4.0.3”\n",
      "Loading required package: ggplot2\n",
      "\n",
      "Warning message:\n",
      "“package ‘ggplot2’ was built under R version 4.0.5”\n",
      "\n",
      "microbiome R package (microbiome.github.com)\n",
      "    \n",
      "\n",
      "\n",
      " Copyright (C) 2011-2020 Leo Lahti, \n",
      "    Sudarshan Shetty et al. <microbiome.github.io>\n",
      "\n",
      "\n",
      "\n",
      "Attaching package: ‘microbiome’\n",
      "\n",
      "\n",
      "The following object is masked from ‘package:ggplot2’:\n",
      "\n",
      "    alpha\n",
      "\n",
      "\n",
      "The following object is masked from ‘package:base’:\n",
      "\n",
      "    transform\n",
      "\n",
      "\n",
      "Warning message:\n",
      "“package ‘dplyr’ was built under R version 4.0.5”\n",
      "\n",
      "Attaching package: ‘dplyr’\n",
      "\n",
      "\n",
      "The following objects are masked from ‘package:stats’:\n",
      "\n",
      "    filter, lag\n",
      "\n",
      "\n",
      "The following objects are masked from ‘package:base’:\n",
      "\n",
      "    intersect, setdiff, setequal, union\n",
      "\n",
      "\n",
      "Warning message:\n",
      "“package ‘readr’ was built under R version 4.0.5”\n",
      "Warning message:\n",
      "“package ‘latex2exp’ was built under R version 4.0.3”\n",
      "Warning message:\n",
      "“package ‘patchwork’ was built under R version 4.0.3”\n"
     ]
    }
   ],
   "source": [
    "library(\"microbiome\")\n",
    "library(\"dplyr\")\n",
    "library(\"readr\")\n",
    "library(\"latex2exp\")\n",
    "library(\"patchwork\")\n",
    "library(\"phyloseq\")"
   ]
  },
  {
   "cell_type": "code",
   "execution_count": 2,
   "id": "54da01de-9883-4e79-9f87-5ba1560a7b5b",
   "metadata": {},
   "outputs": [
    {
     "name": "stderr",
     "output_type": "stream",
     "text": [
      "\n",
      "\u001b[36m──\u001b[39m \u001b[1m\u001b[1mColumn specification\u001b[1m\u001b[22m \u001b[36m─────────────────────────────────────────────────────────────────────────────────\u001b[39m\n",
      "cols(\n",
      "  `0 strains` = \u001b[32mcol_double()\u001b[39m,\n",
      "  `1 strain` = \u001b[32mcol_double()\u001b[39m,\n",
      "  `2 strains` = \u001b[32mcol_double()\u001b[39m,\n",
      "  `3 or more strains` = \u001b[32mcol_double()\u001b[39m\n",
      ")\n",
      "\n",
      "\n"
     ]
    }
   ],
   "source": [
    "hNBDM <- read_csv(\"hNBDM.csv\")"
   ]
  },
  {
   "cell_type": "code",
   "execution_count": 3,
   "id": "5fdc5eb7-cd31-4803-93f9-3dfb41104161",
   "metadata": {},
   "outputs": [
    {
     "name": "stderr",
     "output_type": "stream",
     "text": [
      "Scale for 'x' is already present. Adding another scale for 'x', which will\n",
      "replace the existing scale.\n",
      "\n"
     ]
    }
   ],
   "source": [
    "hNBDM <- plot_composition(microbiome::transform(phyloseq(otu_table(hNBDM, taxa_are_rows=FALSE), sample_data(hNBDM)), \"compositional\"), \n",
    "                 plot.type=\"barplot\") + scale_fill_brewer(palette = \"Paired\") + scale_x_discrete( breaks=NULL) +xlab(\"Simulations\") + \n",
    "theme(panel.background = element_rect(fill = \"transparent\")) + labs(fill=\"\", x=TeX(\"Simulations, hNBDM  $\\\\zeta =100$\"), y=\"\")"
   ]
  },
  {
   "cell_type": "code",
   "execution_count": 4,
   "id": "ae580495-9584-4fb5-b0e9-77a3d1d12988",
   "metadata": {},
   "outputs": [
    {
     "name": "stderr",
     "output_type": "stream",
     "text": [
      "\n",
      "\u001b[36m──\u001b[39m \u001b[1m\u001b[1mColumn specification\u001b[1m\u001b[22m \u001b[36m─────────────────────────────────────────────────────────────────────────────────\u001b[39m\n",
      "cols(\n",
      "  `0 strains` = \u001b[32mcol_double()\u001b[39m,\n",
      "  `1 strain` = \u001b[32mcol_double()\u001b[39m,\n",
      "  `2 strains` = \u001b[32mcol_double()\u001b[39m,\n",
      "  `3 or more strains` = \u001b[32mcol_double()\u001b[39m\n",
      ")\n",
      "\n",
      "\n",
      "Warning message in all(sample(round(prod(dim(abundances(x)))/10))):\n",
      "“coercing argument of type 'double' to logical”\n",
      "Scale for 'x' is already present. Adding another scale for 'x', which will\n",
      "replace the existing scale.\n",
      "\n"
     ]
    }
   ],
   "source": [
    "expected_counts <- read_csv(\"expected_counts.csv\")\n",
    "\n",
    "expected_counts <- plot_composition(microbiome::transform(phyloseq(otu_table(expected_counts, taxa_are_rows=FALSE), sample_data(expected_counts)), \"compositional\"), \n",
    "                 plot.type=\"barplot\") + scale_fill_brewer(palette = \"Paired\") + scale_x_discrete( breaks=NULL) +xlab(\"Expected Counts under hPoMu\") + \n",
    "theme(panel.background = element_rect(fill = \"transparent\"), legend.position=\"none\") + labs(fill=\"\", y=\"Fraction of droplets having...\") "
   ]
  },
  {
   "cell_type": "code",
   "execution_count": 5,
   "id": "622cdae2-9851-489c-b246-5b8c16e04088",
   "metadata": {},
   "outputs": [
    {
     "data": {
      "image/png": "[encoded data removed]",
      "text/plain": [
       "plot without title"
      ]
     },
     "metadata": {
      "image/png": {
       "height": 420,
       "width": 420
      }
     },
     "output_type": "display_data"
    }
   ],
   "source": [
    "expected_counts + hNBDM + plot_layout(ncol=2, widths=c(10,90), heights=c(50,50))"
   ]
  },
  {
   "cell_type": "code",
   "execution_count": 6,
   "id": "39412e8f-ab3a-413c-9775-a68d090b253e",
   "metadata": {},
   "outputs": [],
   "source": [
    "ggsave(expected_counts + hNBDM + plot_layout(ncol=2, widths=c(10,90)), filename=\"picky_observed_v_expected.png\", device=\"png\", height=5, width=25)"
   ]
  }
 ],
 "metadata": {
  "kernelspec": {
   "display_name": "R",
   "language": "R",
   "name": "ir"
  },
  "language_info": {
   "codemirror_mode": "r",
   "file_extension": ".r",
   "mimetype": "text/x-r-source",
   "name": "R",
   "pygments_lexer": "r",
   "version": "4.0.2"
  }
 },
 "nbformat": 4,
 "nbformat_minor": 5
}
