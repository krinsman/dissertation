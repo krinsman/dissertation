{
 "cells": [
  {
   "cell_type": "code",
   "execution_count": 1,
   "id": "6d6a55fe-dc81-417e-b6c2-e05d5017832d",
   "metadata": {
    "execution": {
     "iopub.execute_input": "2021-05-26T22:11:43.844123Z",
     "iopub.status.busy": "2021-05-26T22:11:43.842666Z",
     "iopub.status.idle": "2021-05-26T22:11:45.133863Z",
     "shell.execute_reply": "2021-05-26T22:11:45.132662Z"
    }
   },
   "outputs": [],
   "source": [
    "import numpy as np\n",
    "import multiprocessing as mp\n",
    "\n",
    "import traceback\n",
    "\n",
    "from datetime import datetime\n",
    "from glob import glob\n",
    "from simulations.global_chi2_cpm import get_chi_squared_statistic"
   ]
  },
  {
   "cell_type": "code",
   "execution_count": 2,
   "id": "78ab8bff-bcc6-4ade-80c1-73f35a91c29b",
   "metadata": {
    "execution": {
     "iopub.execute_input": "2021-05-26T22:11:45.141533Z",
     "iopub.status.busy": "2021-05-26T22:11:45.140569Z",
     "iopub.status.idle": "2021-05-26T22:11:45.144529Z",
     "shell.execute_reply": "2021-05-26T22:11:45.143714Z"
    }
   },
   "outputs": [],
   "source": [
    "base_relative_abundances = [1e-4, 1e-3, 1e-2]\n",
    "\n",
    "relative_abundances = [relative_abundance * number\n",
    "                       for relative_abundance \n",
    "                       in base_relative_abundances\n",
    "                       for number in (1,2,5) \n",
    "                       for repeat in range(10)]\n",
    "\n",
    "relative_abundances += [1-sum(relative_abundances)]\n",
    "frequencies = np.array(relative_abundances)"
   ]
  },
  {
   "cell_type": "markdown",
   "id": "8e1c1165-fe30-491f-be9a-24d04996dc3b",
   "metadata": {},
   "source": [
    "You can't pickle a lambda for some reason that has the variables inside of it, but you can do the following and pass it to multiprocessing... ugh ew. Again for anyone who ever reads this, I am lazy and don't copy this -- making too many assumptions about state (e.g. by attempting to transfer global variables) is dangerous and usually a very bad no good idea, and now is probably not an exception to that rule of thumb either."
   ]
  },
  {
   "cell_type": "code",
   "execution_count": 3,
   "id": "44f1c664-8a13-4324-95d0-7aa12258616f",
   "metadata": {
    "execution": {
     "iopub.execute_input": "2021-05-26T22:11:45.151831Z",
     "iopub.status.busy": "2021-05-26T22:11:45.150869Z",
     "iopub.status.idle": "2021-05-26T22:11:45.154716Z",
     "shell.execute_reply": "2021-05-26T22:11:45.153930Z"
    }
   },
   "outputs": [],
   "source": [
    "def abuse_globals_to_get_chi2(filename):\n",
    "    npzfile = np.load(filename)\n",
    "    batch = npzfile['sample_sizes']\n",
    "    try:\n",
    "        assert batch.shape[1] == frequencies.shape[0]\n",
    "    except AssertionError:\n",
    "        batch = batch.T\n",
    "        assert batch.shape[1] == frequencies.shape[0]\n",
    "    return get_chi_squared_statistic(batch, frequencies, rate=2)"
   ]
  },
  {
   "cell_type": "code",
   "execution_count": 4,
   "id": "46958cf4-739a-4080-88e6-2732ecc2d329",
   "metadata": {
    "execution": {
     "iopub.execute_input": "2021-05-26T22:11:45.160185Z",
     "iopub.status.busy": "2021-05-26T22:11:45.159243Z",
     "iopub.status.idle": "2021-05-26T22:11:45.165950Z",
     "shell.execute_reply": "2021-05-26T22:11:45.164978Z"
    }
   },
   "outputs": [],
   "source": [
    "filenames = sorted(list(glob('simulation_results/npzfiles/*.npz')))"
   ]
  },
  {
   "cell_type": "markdown",
   "id": "1904806c-c49c-4813-8610-f09c63407775",
   "metadata": {},
   "source": [
    "We are going to open/load the results from each of the CTPMHg simulations, compute the Pearson Categorical Divergence Statistics (usually called Pearson $\\chi^2$ statistics, but that is a confusing/misleading name, especially in this context), also compute the approximate p-values assuming that the sampling distribution of the Pearson Categorical Divergence Statistic under the null multinomial distribution is approximately $\\chi^2$-distributed (hint: in this case it's not)."
   ]
  },
  {
   "cell_type": "code",
   "execution_count": 5,
   "id": "5e88e233-e529-4154-a1b9-b40309717876",
   "metadata": {
    "execution": {
     "iopub.execute_input": "2021-05-26T22:11:45.173844Z",
     "iopub.status.busy": "2021-05-26T22:11:45.172862Z",
     "iopub.status.idle": "2021-05-27T02:22:08.931072Z",
     "shell.execute_reply": "2021-05-27T02:22:08.932408Z"
    }
   },
   "outputs": [
    {
     "name": "stdout",
     "output_type": "stream",
     "text": [
      "CPU times: user 2.75 s, sys: 8.14 s, total: 10.9 s\n",
      "Wall time: 4h 10min 23s\n"
     ]
    }
   ],
   "source": [
    "%%time\n",
    "try:\n",
    "    pool = mp.Pool(50)\n",
    "    results = pool.map(abuse_globals_to_get_chi2, filenames)\n",
    "    pool.close()\n",
    "    pool.join()\n",
    "except Exception as error_message:\n",
    "    timestamp_filename = datetime.now().strftime('%m-%d-%Y.at.%H_%M_%S.log')\n",
    "    with open('error_logs/{}'.format(timestamp_filename), 'a') as file_pointer:\n",
    "        file_pointer.write(str(error_message))\n",
    "        file_pointer.write(traceback.format_exc())"
   ]
  },
  {
   "cell_type": "markdown",
   "id": "d90c78c2-b39d-4880-b7ec-8857b4a71b21",
   "metadata": {},
   "source": [
    "Then we save the results to disk, so we can load the Pearson Categorical Divergences later and compute their Monte Carlo approximate p values from an empirical sample of 1 Billion draws from the sampling distribution of the Pearson Categorical Divergence Statistic under the null multinomial distribution."
   ]
  },
  {
   "cell_type": "code",
   "execution_count": 6,
   "id": "6576c21f-0118-4e07-8d8c-fcd1c9cc739a",
   "metadata": {
    "execution": {
     "iopub.execute_input": "2021-05-27T02:22:08.947769Z",
     "iopub.status.busy": "2021-05-27T02:22:08.946107Z",
     "iopub.status.idle": "2021-05-27T02:22:08.964859Z",
     "shell.execute_reply": "2021-05-27T02:22:08.963617Z"
    }
   },
   "outputs": [],
   "source": [
    "pearson_categorical_divergences, chi2_approx_pvals = list(zip(*results))\n",
    "pearson_categorical_divergences = np.asarray(pearson_categorical_divergences)\n",
    "chi2_approx_pvals = np.asarray(chi2_approx_pvals)\n",
    "\n",
    "np.savez_compressed('categorical_divergences_and_chi2_approx_pvals.npz',\n",
    "                   pearson_categorical_divergences=pearson_categorical_divergences,\n",
    "                   chi2_approx_pvals=chi2_approx_pvals)"
   ]
  }
 ],
 "metadata": {
  "kernelspec": {
   "display_name": "Python 3",
   "language": "python",
   "name": "python3"
  },
  "language_info": {
   "codemirror_mode": {
    "name": "ipython",
    "version": 3
   },
   "file_extension": ".py",
   "mimetype": "text/x-python",
   "name": "python",
   "nbconvert_exporter": "python",
   "pygments_lexer": "ipython3",
   "version": "3.9.2"
  }
 },
 "nbformat": 4,
 "nbformat_minor": 5
}
