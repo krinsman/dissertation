{
 "cells": [
  {
   "cell_type": "code",
   "execution_count": 1,
   "id": "93d74bf9-eb90-43f4-8d82-cb1032034c0e",
   "metadata": {
    "execution": {
     "iopub.execute_input": "2021-09-09T18:53:07.847539Z",
     "iopub.status.busy": "2021-09-09T18:53:07.843737Z",
     "iopub.status.idle": "2021-09-09T18:53:08.076736Z",
     "shell.execute_reply": "2021-09-09T18:53:08.077441Z"
    },
    "tags": []
   },
   "outputs": [],
   "source": [
    "import numpy as np\n",
    "import multiprocessing as mp"
   ]
  },
  {
   "cell_type": "code",
   "execution_count": 2,
   "id": "4e1c88d9-5cd2-4b92-a40c-f82587653879",
   "metadata": {
    "execution": {
     "iopub.execute_input": "2021-09-09T18:53:08.084289Z",
     "iopub.status.busy": "2021-09-09T18:53:08.083523Z",
     "iopub.status.idle": "2021-09-09T18:53:09.859468Z",
     "shell.execute_reply": "2021-09-09T18:53:09.858881Z"
    }
   },
   "outputs": [],
   "source": [
    "from glob import glob\n",
    "from analysis_utils.concentrations_MLE import get_NB_MLE"
   ]
  },
  {
   "cell_type": "code",
   "execution_count": 3,
   "id": "bc7fe0d1-e9c5-4bc4-9508-547824a3bba3",
   "metadata": {
    "execution": {
     "iopub.execute_input": "2021-09-09T18:53:09.865116Z",
     "iopub.status.busy": "2021-09-09T18:53:09.864459Z",
     "iopub.status.idle": "2021-09-09T18:53:09.870175Z",
     "shell.execute_reply": "2021-09-09T18:53:09.870723Z"
    }
   },
   "outputs": [],
   "source": [
    "filenames = sorted(list(glob('npzfiles/*.npz')))\n",
    "\n",
    "parallel_input = [[filename, \"sample_sizes\"] for filename in filenames]"
   ]
  },
  {
   "cell_type": "code",
   "execution_count": 4,
   "id": "3b328135-f5f2-4d03-bddf-73763b0d6dad",
   "metadata": {
    "execution": {
     "iopub.execute_input": "2021-09-09T18:53:09.876908Z",
     "iopub.status.busy": "2021-09-09T18:53:09.876280Z",
     "iopub.status.idle": "2021-09-09T19:04:13.781294Z",
     "shell.execute_reply": "2021-09-09T19:04:13.780264Z"
    },
    "tags": []
   },
   "outputs": [
    {
     "name": "stdout",
     "output_type": "stream",
     "text": [
      "CPU times: user 563 ms, sys: 722 ms, total: 1.29 s\n",
      "Wall time: 11min 3s\n"
     ]
    }
   ],
   "source": [
    "%%time\n",
    "with mp.get_context(\"spawn\").Pool(30) as pool:\n",
    "    pool.starmap(get_NB_MLE, parallel_input, chunksize=1)\n",
    "    pool.close()\n",
    "    pool.join()"
   ]
  }
 ],
 "metadata": {
  "kernelspec": {
   "display_name": "Python 3",
   "language": "python",
   "name": "python3"
  },
  "language_info": {
   "codemirror_mode": {
    "name": "ipython",
    "version": 3
   },
   "file_extension": ".py",
   "mimetype": "text/x-python",
   "name": "python",
   "nbconvert_exporter": "python",
   "pygments_lexer": "ipython3",
   "version": "3.9.2"
  }
 },
 "nbformat": 4,
 "nbformat_minor": 5
}
