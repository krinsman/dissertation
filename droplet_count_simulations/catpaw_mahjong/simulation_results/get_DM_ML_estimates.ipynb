{
 "cells": [
  {
   "cell_type": "code",
   "execution_count": 1,
   "id": "93d74bf9-eb90-43f4-8d82-cb1032034c0e",
   "metadata": {
    "execution": {
     "iopub.execute_input": "2021-09-09T01:19:55.607540Z",
     "iopub.status.busy": "2021-09-09T01:19:55.603290Z",
     "iopub.status.idle": "2021-09-09T01:19:55.857905Z",
     "shell.execute_reply": "2021-09-09T01:19:55.856782Z"
    },
    "tags": []
   },
   "outputs": [],
   "source": [
    "import numpy as np\n",
    "import multiprocessing as mp"
   ]
  },
  {
   "cell_type": "code",
   "execution_count": 2,
   "id": "4e1c88d9-5cd2-4b92-a40c-f82587653879",
   "metadata": {
    "execution": {
     "iopub.execute_input": "2021-09-09T01:19:55.863900Z",
     "iopub.status.busy": "2021-09-09T01:19:55.862920Z",
     "iopub.status.idle": "2021-09-09T01:19:57.474994Z",
     "shell.execute_reply": "2021-09-09T01:19:57.474363Z"
    }
   },
   "outputs": [],
   "source": [
    "from glob import glob\n",
    "from analysis_utils.concentrations_MLE import get_DM_MLE"
   ]
  },
  {
   "cell_type": "code",
   "execution_count": 3,
   "id": "bc7fe0d1-e9c5-4bc4-9508-547824a3bba3",
   "metadata": {
    "execution": {
     "iopub.execute_input": "2021-09-09T01:19:57.480952Z",
     "iopub.status.busy": "2021-09-09T01:19:57.480328Z",
     "iopub.status.idle": "2021-09-09T01:19:57.487338Z",
     "shell.execute_reply": "2021-09-09T01:19:57.486759Z"
    }
   },
   "outputs": [],
   "source": [
    "filenames = sorted(list(glob('npzfiles/*.npz')))\n",
    "\n",
    "parallel_input = [[filename, \"sample_sizes\"] for filename in filenames]"
   ]
  },
  {
   "cell_type": "code",
   "execution_count": 4,
   "id": "3b328135-f5f2-4d03-bddf-73763b0d6dad",
   "metadata": {
    "execution": {
     "iopub.execute_input": "2021-09-09T01:19:57.493536Z",
     "iopub.status.busy": "2021-09-09T01:19:57.492898Z",
     "iopub.status.idle": "2021-09-09T02:54:10.374185Z",
     "shell.execute_reply": "2021-09-09T02:54:10.375732Z"
    },
    "tags": []
   },
   "outputs": [
    {
     "name": "stdout",
     "output_type": "stream",
     "text": [
      "CPU times: user 1.72 s, sys: 4.16 s, total: 5.88 s\n",
      "Wall time: 1h 34min 12s\n"
     ]
    }
   ],
   "source": [
    "%%time\n",
    "with mp.get_context(\"spawn\").Pool(50) as pool:\n",
    "    pool.starmap(get_DM_MLE, parallel_input, chunksize=1)\n",
    "    pool.close()\n",
    "    pool.join()"
   ]
  }
 ],
 "metadata": {
  "kernelspec": {
   "display_name": "Python 3",
   "language": "python",
   "name": "python3"
  },
  "language_info": {
   "codemirror_mode": {
    "name": "ipython",
    "version": 3
   },
   "file_extension": ".py",
   "mimetype": "text/x-python",
   "name": "python",
   "nbconvert_exporter": "python",
   "pygments_lexer": "ipython3",
   "version": "3.9.2"
  }
 },
 "nbformat": 4,
 "nbformat_minor": 5
}
