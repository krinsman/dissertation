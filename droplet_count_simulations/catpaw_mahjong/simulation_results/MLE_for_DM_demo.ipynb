{
 "cells": [
  {
   "cell_type": "code",
   "execution_count": 1,
   "id": "0a57ea4e-3585-4d9b-826f-c9ccaa4de389",
   "metadata": {
    "tags": []
   },
   "outputs": [],
   "source": [
    "from glob import glob\n",
    "\n",
    "filenames = sorted(list(glob('npzfiles/*.npz')))"
   ]
  },
  {
   "cell_type": "code",
   "execution_count": 2,
   "id": "94572c18-6571-42d1-bac6-201df7773c70",
   "metadata": {},
   "outputs": [],
   "source": [
    "import numpy as np\n",
    "from simulations.concentrations.MLE import get_DM_score_function\n",
    "\n",
    "from scipy.optimize import root_scalar, fsolve"
   ]
  },
  {
   "cell_type": "code",
   "execution_count": 3,
   "id": "baf9b268-180b-4c2d-b1cb-480d12cdf570",
   "metadata": {},
   "outputs": [],
   "source": [
    "import re\n",
    "from zipfile import BadZipfile\n",
    "\n",
    "base_relative_abundances = [1e-4, 1e-3, 1e-2]\n",
    "\n",
    "relative_abundances = [relative_abundance * number\n",
    "                       for relative_abundance \n",
    "                       in base_relative_abundances\n",
    "                       for number in (1,2,5) \n",
    "                       for repeat in range(10)]\n",
    "\n",
    "relative_abundances += [1-sum(relative_abundances)]\n",
    "frequencies = np.array(relative_abundances)\n",
    "\n",
    "sim_num = re.findall(r'.*\\.([0-9]+)\\.npz', filenames[0])[0]\n",
    "\n",
    "npzfile = np.load(filenames[0])\n",
    "droplets = npzfile['sample_sizes'].T\n"
   ]
  },
  {
   "cell_type": "code",
   "execution_count": 4,
   "id": "be742550-0e47-4327-9118-770801224ed8",
   "metadata": {},
   "outputs": [
    {
     "data": {
      "text/plain": [
       "7"
      ]
     },
     "execution_count": 4,
     "metadata": {},
     "output_type": "execute_result"
    }
   ],
   "source": [
    "np.max(droplets)"
   ]
  },
  {
   "cell_type": "code",
   "execution_count": 5,
   "id": "099a7c52-9890-4536-85b6-0c86741147ec",
   "metadata": {},
   "outputs": [],
   "source": [
    "number_droplets, number_strains = droplets.shape\n",
    "max_guess_value = 10000\n",
    "\n",
    "small_val_size = 10000\n",
    "small_val_iterations = number_droplets // small_val_size\n",
    "small_val_results = np.zeros(small_val_iterations)"
   ]
  },
  {
   "cell_type": "code",
   "execution_count": 6,
   "id": "d6e0813c-011c-47c4-af8b-32b5df82ebfe",
   "metadata": {},
   "outputs": [],
   "source": [
    "batch = droplets[18*small_val_size:(18+1)*small_val_size,:]\n",
    "score_function = get_DM_score_function(batch, frequencies)"
   ]
  },
  {
   "cell_type": "code",
   "execution_count": 7,
   "id": "f26c9bf2-03e0-4196-bae8-7abf6b892b54",
   "metadata": {},
   "outputs": [
    {
     "data": {
      "text/plain": [
       "4.296417957920404"
      ]
     },
     "execution_count": 7,
     "metadata": {},
     "output_type": "execute_result"
    }
   ],
   "source": [
    "from simulations.concentrations import get_plugin_categorical_concentration\n",
    "guess_value = get_plugin_categorical_concentration(batch)\n",
    "guess_value"
   ]
  },
  {
   "cell_type": "code",
   "execution_count": 8,
   "id": "5f75d49f-8f60-48b6-9208-f0bed36d6ca6",
   "metadata": {},
   "outputs": [
    {
     "data": {
      "text/plain": [
       "105737431.19639316"
      ]
     },
     "execution_count": 8,
     "metadata": {},
     "output_type": "execute_result"
    }
   ],
   "source": [
    "score_function(0.0001)"
   ]
  },
  {
   "cell_type": "code",
   "execution_count": 9,
   "id": "3d448c4e-b65f-4f77-91d4-5e8110caf1ab",
   "metadata": {},
   "outputs": [
    {
     "data": {
      "text/plain": [
       "-1.0173600317742171e-07"
      ]
     },
     "execution_count": 9,
     "metadata": {},
     "output_type": "execute_result"
    }
   ],
   "source": [
    "score_function(10000)"
   ]
  },
  {
   "cell_type": "code",
   "execution_count": 10,
   "id": "671afd63-a6f3-4e85-a52a-15276fb65bbd",
   "metadata": {},
   "outputs": [
    {
     "data": {
      "text/plain": [
       "      converged: True\n",
       "           flag: 'converged'\n",
       " function_calls: 22\n",
       "     iterations: 21\n",
       "           root: 11.917356700752798"
      ]
     },
     "execution_count": 10,
     "metadata": {},
     "output_type": "execute_result"
    }
   ],
   "source": [
    "result = root_scalar(f=score_function, x0=guess_value, bracket=(1./max_guess_value,max_guess_value))\n",
    "result"
   ]
  },
  {
   "cell_type": "code",
   "execution_count": 11,
   "id": "d8680ce0-a9ad-4f95-98fe-61db4fe11f4a",
   "metadata": {},
   "outputs": [
    {
     "data": {
      "text/plain": [
       "11.917356700752798"
      ]
     },
     "execution_count": 11,
     "metadata": {},
     "output_type": "execute_result"
    }
   ],
   "source": [
    "result.root"
   ]
  },
  {
   "cell_type": "code",
   "execution_count": 12,
   "id": "feb292ac-03d0-49f7-a81b-eefea6512440",
   "metadata": {},
   "outputs": [],
   "source": [
    "from analysis_utils.concentrations_MLE import get_DM_MLE"
   ]
  },
  {
   "cell_type": "code",
   "execution_count": 13,
   "id": "c2cf193f-d647-482c-bd0b-bea78b2c4a43",
   "metadata": {},
   "outputs": [
    {
     "data": {
      "text/plain": [
       "0"
      ]
     },
     "execution_count": 13,
     "metadata": {},
     "output_type": "execute_result"
    }
   ],
   "source": [
    "get_DM_MLE(filenames[0], \"sample_sizes\")\n"
   ]
  },
  {
   "cell_type": "code",
   "execution_count": 14,
   "id": "98c17117-a548-4f0a-9c8d-de10a2646ad9",
   "metadata": {},
   "outputs": [],
   "source": [
    "npzfile = np.load('concentration_ML_estimates/simulation.001.compositional.npz')"
   ]
  },
  {
   "cell_type": "code",
   "execution_count": 15,
   "id": "0173c2d7-50c9-4bc1-b5d1-b183289a0d2d",
   "metadata": {},
   "outputs": [
    {
     "data": {
      "text/plain": [
       "array([516.73282709])"
      ]
     },
     "execution_count": 15,
     "metadata": {},
     "output_type": "execute_result"
    }
   ],
   "source": [
    "npzfile['whole_sim']"
   ]
  },
  {
   "cell_type": "code",
   "execution_count": 16,
   "id": "c2e37a81-105c-4bb0-8828-c4137d455944",
   "metadata": {},
   "outputs": [
    {
     "data": {
      "text/plain": [
       "array([           inf,            inf, 7.30162476e+01, 3.39161045e+02,\n",
       "       8.36430875e+01, 9.95365691e+01,            inf, 4.23788645e+03,\n",
       "       9.50128027e+01, 8.78253214e+02,            inf,            inf,\n",
       "       4.85575955e+02,            inf, 1.34697076e+02,            inf,\n",
       "       6.52615399e+01, 9.62728190e+01, 4.53917698e+01, 7.76616515e+10,\n",
       "       1.15793190e+03, 8.59041842e+01,            inf,            inf,\n",
       "                  inf, 1.28350615e+02,            inf, 0.00000000e+00,\n",
       "       6.89646165e+01, 2.03302457e+02])"
      ]
     },
     "execution_count": 16,
     "metadata": {},
     "output_type": "execute_result"
    }
   ],
   "source": [
    "npzfile['medium_batches']"
   ]
  },
  {
   "cell_type": "code",
   "execution_count": 17,
   "id": "c6a546e5-6e1d-4943-b000-8c71720bb430",
   "metadata": {},
   "outputs": [
    {
     "data": {
      "text/plain": [
       "array([           inf, 1.25681735e+01,            inf, ...,\n",
       "                  inf, 2.31381190e+02, 2.30570308e+12])"
      ]
     },
     "execution_count": 17,
     "metadata": {},
     "output_type": "execute_result"
    }
   ],
   "source": [
    "npzfile['small_batches']"
   ]
  },
  {
   "cell_type": "markdown",
   "id": "c6d694e0-2416-44d0-bd32-66cc78f0aa12",
   "metadata": {},
   "source": [
    "## Example"
   ]
  },
  {
   "cell_type": "code",
   "execution_count": 18,
   "id": "a374df66-6893-451a-88cf-0333a90f3c75",
   "metadata": {},
   "outputs": [],
   "source": [
    "score_function = get_DM_score_function(droplets, frequencies)"
   ]
  },
  {
   "cell_type": "code",
   "execution_count": 19,
   "id": "cc78b843-c18c-41e5-b600-6ddeed76d708",
   "metadata": {},
   "outputs": [],
   "source": [
    "from scipy.optimize import fsolve"
   ]
  },
  {
   "cell_type": "markdown",
   "id": "994e363c-16ce-4d12-a029-f356a333e54d",
   "metadata": {},
   "source": [
    "`fsolve` more general framework/wrapper, but seem to get better results using more 'targeted' options"
   ]
  },
  {
   "cell_type": "code",
   "execution_count": 20,
   "id": "5f5e4451-10ac-42ea-a8c7-402f85b304c3",
   "metadata": {},
   "outputs": [
    {
     "data": {
      "text/plain": [
       "(array([516.73282891]),\n",
       " {'nfev': 36,\n",
       "  'fjac': array([[-1.]]),\n",
       "  'r': array([4.31996076e-06]),\n",
       "  'qtf': array([-3.27418093e-10]),\n",
       "  'fvec': 0.0},\n",
       " 1,\n",
       " 'The solution converged.')"
      ]
     },
     "execution_count": 20,
     "metadata": {},
     "output_type": "execute_result"
    }
   ],
   "source": [
    "fsolve(score_function, 2, full_output=True)"
   ]
  },
  {
   "cell_type": "code",
   "execution_count": 21,
   "id": "a980154f-65e4-4309-9c9f-b97f20e944ba",
   "metadata": {},
   "outputs": [
    {
     "data": {
      "text/plain": [
       "      converged: True\n",
       "           flag: 'converged'\n",
       " function_calls: 20\n",
       "     iterations: 19\n",
       "           root: 516.7328278430621"
      ]
     },
     "execution_count": 21,
     "metadata": {},
     "output_type": "execute_result"
    }
   ],
   "source": [
    "root_scalar(f=score_function, x0=2, bracket=(0.000001,1000000))"
   ]
  },
  {
   "cell_type": "code",
   "execution_count": 22,
   "id": "4d995dac-8850-4954-bd07-09b2486cb23e",
   "metadata": {},
   "outputs": [
    {
     "data": {
      "text/plain": [
       "(array([516.73282705]),\n",
       " {'nfev': 39,\n",
       "  'fjac': array([[-1.]]),\n",
       "  'r': array([4.32005953e-06]),\n",
       "  'qtf': array([-4.29281499e-10]),\n",
       "  'fvec': 0.0},\n",
       " 1,\n",
       " 'The solution converged.')"
      ]
     },
     "execution_count": 22,
     "metadata": {},
     "output_type": "execute_result"
    }
   ],
   "source": [
    "fsolve(score_function, 1, full_output=True)"
   ]
  },
  {
   "cell_type": "code",
   "execution_count": 23,
   "id": "6e8f0fd1-7a78-4c04-b22e-ccc93b154e9d",
   "metadata": {},
   "outputs": [
    {
     "data": {
      "text/plain": [
       "(array([516.73282958]),\n",
       " {'nfev': 43,\n",
       "  'fjac': array([[-1.]]),\n",
       "  'r': array([3.90306789e-06]),\n",
       "  'qtf': array([-2.18278728e-11]),\n",
       "  'fvec': 0.0},\n",
       " 1,\n",
       " 'The solution converged.')"
      ]
     },
     "execution_count": 23,
     "metadata": {},
     "output_type": "execute_result"
    }
   ],
   "source": [
    "fsolve(score_function, 0.5, full_output=True)"
   ]
  },
  {
   "cell_type": "code",
   "execution_count": 24,
   "id": "01e707a4-d40f-445d-962d-c45b6f769217",
   "metadata": {},
   "outputs": [
    {
     "data": {
      "text/plain": [
       "(array([516.73282711]),\n",
       " {'nfev': 39,\n",
       "  'fjac': array([[-1.]]),\n",
       "  'r': array([8.67419388e-06]),\n",
       "  'qtf': array([7.27595761e-12]),\n",
       "  'fvec': 0.0},\n",
       " 1,\n",
       " 'The solution converged.')"
      ]
     },
     "execution_count": 24,
     "metadata": {},
     "output_type": "execute_result"
    }
   ],
   "source": [
    "fsolve(score_function, 1.5, full_output=True)"
   ]
  },
  {
   "cell_type": "code",
   "execution_count": 25,
   "id": "3dfc9cb2-ceca-440e-a4bf-595674fc8c5e",
   "metadata": {},
   "outputs": [
    {
     "data": {
      "text/plain": [
       "(array([516.73282741]),\n",
       " {'nfev': 38,\n",
       "  'fjac': array([[-1.]]),\n",
       "  'r': array([5.39308824e-06]),\n",
       "  'qtf': array([7.27595761e-12]),\n",
       "  'fvec': -7.275957614183426e-12},\n",
       " 1,\n",
       " 'The solution converged.')"
      ]
     },
     "execution_count": 25,
     "metadata": {},
     "output_type": "execute_result"
    }
   ],
   "source": [
    "fsolve(score_function, 1.75, full_output=True)"
   ]
  },
  {
   "cell_type": "code",
   "execution_count": 26,
   "id": "7744b548-ad6d-4b15-a3e5-1f95cea93ddd",
   "metadata": {},
   "outputs": [
    {
     "data": {
      "text/plain": [
       "      converged: True\n",
       "           flag: 'converged'\n",
       " function_calls: 20\n",
       "     iterations: 19\n",
       "           root: 516.7328278430621"
      ]
     },
     "execution_count": 26,
     "metadata": {},
     "output_type": "execute_result"
    }
   ],
   "source": [
    "root_scalar(f=score_function, x0=1.75, bracket=(0.000001,1000000))"
   ]
  },
  {
   "cell_type": "markdown",
   "id": "6b26de58-f8f4-4643-83c3-da19b1061fc7",
   "metadata": {},
   "source": [
    "#### score function evaluated at some values"
   ]
  },
  {
   "cell_type": "code",
   "execution_count": 27,
   "id": "24e96159-2ee5-4e97-942b-c6fc1e8ea974",
   "metadata": {},
   "outputs": [
    {
     "data": {
      "text/plain": [
       "501713.9220613763"
      ]
     },
     "execution_count": 27,
     "metadata": {},
     "output_type": "execute_result"
    }
   ],
   "source": [
    "score_function(0.5)"
   ]
  },
  {
   "cell_type": "code",
   "execution_count": 28,
   "id": "d1dd3fb3-6c20-4105-886f-67a144a90d3f",
   "metadata": {},
   "outputs": [
    {
     "data": {
      "text/plain": [
       "89800.38233843818"
      ]
     },
     "execution_count": 28,
     "metadata": {},
     "output_type": "execute_result"
    }
   ],
   "source": [
    "score_function(1)"
   ]
  },
  {
   "cell_type": "code",
   "execution_count": 29,
   "id": "983c0ae4-89b2-496f-8a4f-0289e81d68f1",
   "metadata": {},
   "outputs": [
    {
     "data": {
      "text/plain": [
       "14911.596816314384"
      ]
     },
     "execution_count": 29,
     "metadata": {},
     "output_type": "execute_result"
    }
   ],
   "source": [
    "score_function(2)"
   ]
  },
  {
   "cell_type": "code",
   "execution_count": 30,
   "id": "cdc83aea-a42a-48e0-9eca-4514967ffb4f",
   "metadata": {},
   "outputs": [
    {
     "data": {
      "text/plain": [
       "0.02254055555386003"
      ]
     },
     "execution_count": 30,
     "metadata": {},
     "output_type": "execute_result"
    }
   ],
   "source": [
    "score_function(200)"
   ]
  },
  {
   "cell_type": "code",
   "execution_count": 31,
   "id": "979e6511-20ce-4aee-b708-f2917764f13a",
   "metadata": {},
   "outputs": [
    {
     "data": {
      "text/plain": [
       "-0.00011345713573973626"
      ]
     },
     "execution_count": 31,
     "metadata": {},
     "output_type": "execute_result"
    }
   ],
   "source": [
    "score_function(2000)"
   ]
  },
  {
   "cell_type": "code",
   "execution_count": 32,
   "id": "009f074e-3aaf-4213-8f20-3a2b767c684a",
   "metadata": {},
   "outputs": [
    {
     "data": {
      "text/plain": [
       "-1.5040113794384524e-06"
      ]
     },
     "execution_count": 32,
     "metadata": {},
     "output_type": "execute_result"
    }
   ],
   "source": [
    "score_function(20000)"
   ]
  },
  {
   "cell_type": "markdown",
   "id": "28e76327-25c3-46d9-9620-dceb05759268",
   "metadata": {},
   "source": [
    "## Does this really work in general?"
   ]
  },
  {
   "cell_type": "code",
   "execution_count": 56,
   "id": "341ccdba-9fd7-421a-a51d-a6eac8c61bcd",
   "metadata": {},
   "outputs": [
    {
     "data": {
      "text/plain": [
       "0"
      ]
     },
     "execution_count": 56,
     "metadata": {},
     "output_type": "execute_result"
    }
   ],
   "source": [
    "get_DM_MLE(filenames[17], \"sample_sizes\")"
   ]
  },
  {
   "cell_type": "code",
   "execution_count": 57,
   "id": "56126cec-6499-4a12-abc6-0c592a723492",
   "metadata": {},
   "outputs": [],
   "source": [
    "npzfile = np.load('concentration_ML_estimates/simulation.018.compositional.npz')"
   ]
  },
  {
   "cell_type": "code",
   "execution_count": 58,
   "id": "db5e9b0a-27f8-4e0f-ab7b-be5616547fb4",
   "metadata": {},
   "outputs": [
    {
     "data": {
      "text/plain": [
       "array([5.49790962e+10])"
      ]
     },
     "execution_count": 58,
     "metadata": {},
     "output_type": "execute_result"
    }
   ],
   "source": [
    "npzfile['whole_sim']"
   ]
  },
  {
   "cell_type": "code",
   "execution_count": 59,
   "id": "3ccdd510-dc6c-44b3-9d74-2de42b6f080a",
   "metadata": {},
   "outputs": [
    {
     "data": {
      "text/plain": [
       "array([           inf, 1.37297613e+02,            inf, 3.59550503e+02,\n",
       "       0.00000000e+00,            inf, 1.44956133e+02,            inf,\n",
       "       8.96158657e+01, 8.57715529e+01, 0.00000000e+00,            inf,\n",
       "       1.33210143e+12, 6.71730089e+02, 1.14303504e+12, 1.11053861e+02,\n",
       "       4.25871259e+11, 7.29490928e+01,            inf, 7.01992844e+02,\n",
       "                  inf,            inf, 1.15167369e+02, 1.27123324e+02,\n",
       "                  inf, 2.68243936e+11, 1.27234571e+03,            inf,\n",
       "                  inf, 1.72830468e+02])"
      ]
     },
     "execution_count": 59,
     "metadata": {},
     "output_type": "execute_result"
    }
   ],
   "source": [
    "npzfile['medium_batches']"
   ]
  },
  {
   "cell_type": "code",
   "execution_count": 60,
   "id": "517127a6-3c0c-4341-b8e6-aa817b66b62b",
   "metadata": {},
   "outputs": [
    {
     "data": {
      "text/plain": [
       "array([           inf, 8.21552552e+11,            inf, ...,\n",
       "       1.07830623e+01, 6.67634277e+01, 8.47030922e+00])"
      ]
     },
     "execution_count": 60,
     "metadata": {},
     "output_type": "execute_result"
    }
   ],
   "source": [
    "npzfile['small_batches']"
   ]
  },
  {
   "cell_type": "markdown",
   "id": "dda9f657-d8ed-4ed7-b60e-e9915ca54d3a",
   "metadata": {},
   "source": [
    "hmmm why is it $0$ for the whole batch? (because `fsolve` is terrible and gives a negative \"root\" and the one that isn't terrible requires the sign of the function to be different at both boundaries)"
   ]
  },
  {
   "cell_type": "code",
   "execution_count": 61,
   "id": "a141b244-a7a8-4401-9e32-b74c4f6575ef",
   "metadata": {},
   "outputs": [],
   "source": [
    "npzfile = np.load(filenames[17])\n",
    "droplets = npzfile['sample_sizes'].T\n",
    "score_function = get_DM_score_function(droplets, frequencies)"
   ]
  },
  {
   "cell_type": "markdown",
   "id": "637cca19-f12e-424e-9344-5a9d393d1bc9",
   "metadata": {},
   "source": [
    "#### score function evaluated at some values"
   ]
  },
  {
   "cell_type": "code",
   "execution_count": 62,
   "id": "bff7b087-9c0b-4ba3-a3e0-5b5cf157dadd",
   "metadata": {},
   "outputs": [
    {
     "data": {
      "text/plain": [
       "502566.6229038462"
      ]
     },
     "execution_count": 62,
     "metadata": {},
     "output_type": "execute_result"
    }
   ],
   "source": [
    "score_function(0.5)"
   ]
  },
  {
   "cell_type": "code",
   "execution_count": 63,
   "id": "4dd1341d-500c-49b1-abd1-14957073a237",
   "metadata": {},
   "outputs": [
    {
     "data": {
      "text/plain": [
       "90152.2530817017"
      ]
     },
     "execution_count": 63,
     "metadata": {},
     "output_type": "execute_result"
    }
   ],
   "source": [
    "score_function(1)"
   ]
  },
  {
   "cell_type": "code",
   "execution_count": 64,
   "id": "43efa9b5-36f5-47a2-96c9-cf8934ca88af",
   "metadata": {},
   "outputs": [
    {
     "data": {
      "text/plain": [
       "15036.54386350885"
      ]
     },
     "execution_count": 64,
     "metadata": {},
     "output_type": "execute_result"
    }
   ],
   "source": [
    "score_function(2)"
   ]
  },
  {
   "cell_type": "code",
   "execution_count": 65,
   "id": "22e5e84c-7b91-4eba-9028-586c91a3c567",
   "metadata": {},
   "outputs": [
    {
     "data": {
      "text/plain": [
       "0.05804844376689289"
      ]
     },
     "execution_count": 65,
     "metadata": {},
     "output_type": "execute_result"
    }
   ],
   "source": [
    "score_function(200)"
   ]
  },
  {
   "cell_type": "code",
   "execution_count": 66,
   "id": "a0e62136-0c44-4fe9-8bac-9a2f2187341e",
   "metadata": {},
   "outputs": [
    {
     "data": {
      "text/plain": [
       "0.00026503884328121785"
      ]
     },
     "execution_count": 66,
     "metadata": {},
     "output_type": "execute_result"
    }
   ],
   "source": [
    "score_function(2000)"
   ]
  },
  {
   "cell_type": "code",
   "execution_count": 67,
   "id": "11dd1c2f-fc1f-4c35-bde0-44d7529b2849",
   "metadata": {},
   "outputs": [
    {
     "data": {
      "text/plain": [
       "2.3087261524779024e-06"
      ]
     },
     "execution_count": 67,
     "metadata": {},
     "output_type": "execute_result"
    }
   ],
   "source": [
    "score_function(20000)"
   ]
  },
  {
   "cell_type": "code",
   "execution_count": 68,
   "id": "f4d3df07-fc99-40f1-bbfd-adb9709e1965",
   "metadata": {},
   "outputs": [
    {
     "data": {
      "text/plain": [
       "2.2742028704669792e-08"
      ]
     },
     "execution_count": 68,
     "metadata": {},
     "output_type": "execute_result"
    }
   ],
   "source": [
    "score_function(200000)"
   ]
  },
  {
   "cell_type": "code",
   "execution_count": 69,
   "id": "00c67ab1-9017-49f4-978a-eb96131f0ebf",
   "metadata": {},
   "outputs": [
    {
     "data": {
      "text/plain": [
       "2.2707524749421282e-10"
      ]
     },
     "execution_count": 69,
     "metadata": {},
     "output_type": "execute_result"
    }
   ],
   "source": [
    "score_function(2000000)"
   ]
  },
  {
   "cell_type": "code",
   "execution_count": 70,
   "id": "9ae5ae70-db5b-40a4-aa1a-9b7dffdb3621",
   "metadata": {},
   "outputs": [
    {
     "data": {
      "text/plain": [
       "2.270406085358445e-12"
      ]
     },
     "execution_count": 70,
     "metadata": {},
     "output_type": "execute_result"
    }
   ],
   "source": [
    "score_function(20000000)"
   ]
  },
  {
   "cell_type": "code",
   "execution_count": 71,
   "id": "5257bb30-66de-4b9b-b194-8af62ac890e6",
   "metadata": {},
   "outputs": [
    {
     "data": {
      "text/plain": [
       "2.2676305277968822e-14"
      ]
     },
     "execution_count": 71,
     "metadata": {},
     "output_type": "execute_result"
    }
   ],
   "source": [
    "score_function(200000000)"
   ]
  },
  {
   "cell_type": "code",
   "execution_count": 72,
   "id": "4128ded2-847b-42b2-a3b6-f4db3ad11cb7",
   "metadata": {},
   "outputs": [
    {
     "data": {
      "text/plain": [
       "2.2724877535296173e-16"
      ]
     },
     "execution_count": 72,
     "metadata": {},
     "output_type": "execute_result"
    }
   ],
   "source": [
    "score_function(2000000000)"
   ]
  },
  {
   "cell_type": "code",
   "execution_count": 73,
   "id": "fd68e2ca-533f-4a19-9f10-092c80fdb8e2",
   "metadata": {},
   "outputs": [
    {
     "data": {
      "text/plain": [
       "2.168404344971009e-18"
      ]
     },
     "execution_count": 73,
     "metadata": {},
     "output_type": "execute_result"
    }
   ],
   "source": [
    "score_function(20000000000)"
   ]
  },
  {
   "cell_type": "markdown",
   "id": "dbbbcfe5-f465-4209-a499-d5a462d29c38",
   "metadata": {},
   "source": [
    "OK yeah this MLE really does seem to be basically exactly $\\infty$. So why doesn't `fsolve` give that?"
   ]
  },
  {
   "cell_type": "code",
   "execution_count": 74,
   "id": "bb3f7ef7-89f4-40a1-95eb-4624a73a1de2",
   "metadata": {},
   "outputs": [
    {
     "data": {
      "text/plain": [
       "array([8.50405281e+10])"
      ]
     },
     "execution_count": 74,
     "metadata": {},
     "output_type": "execute_result"
    }
   ],
   "source": [
    "fsolve(score_function, x0=200000)"
   ]
  },
  {
   "cell_type": "code",
   "execution_count": 75,
   "id": "b78ff9bf-ec1f-4ff1-a138-2422ffa01327",
   "metadata": {},
   "outputs": [
    {
     "data": {
      "text/plain": [
       "array([2.00693122e+11])"
      ]
     },
     "execution_count": 75,
     "metadata": {},
     "output_type": "execute_result"
    }
   ],
   "source": [
    "fsolve(score_function, x0=2000000)"
   ]
  },
  {
   "cell_type": "code",
   "execution_count": 76,
   "id": "2baae485-e922-4c41-95e0-5d6fbb86d368",
   "metadata": {},
   "outputs": [
    {
     "data": {
      "text/plain": [
       "array([3.89442521e+10])"
      ]
     },
     "execution_count": 76,
     "metadata": {},
     "output_type": "execute_result"
    }
   ],
   "source": [
    "fsolve(score_function, x0=20000000)"
   ]
  },
  {
   "cell_type": "code",
   "execution_count": 77,
   "id": "ac33b4d5-fc71-4a94-a05e-3631e257f518",
   "metadata": {},
   "outputs": [
    {
     "data": {
      "text/plain": [
       "92315.60025907237"
      ]
     },
     "execution_count": 77,
     "metadata": {},
     "output_type": "execute_result"
    }
   ],
   "source": [
    "get_plugin_categorical_concentration(droplets)"
   ]
  },
  {
   "cell_type": "code",
   "execution_count": 78,
   "id": "9183ffd0-fd8e-4586-89a8-7632aa7b9b7b",
   "metadata": {},
   "outputs": [
    {
     "data": {
      "text/plain": [
       "(array([5.49790962e+10]),\n",
       " {'nfev': 81,\n",
       "  'fjac': array([[-1.]]),\n",
       "  'r': array([0.]),\n",
       "  'qtf': array([-2.71050543e-19]),\n",
       "  'fvec': 2.710505431213761e-19},\n",
       " 1,\n",
       " 'The solution converged.')"
      ]
     },
     "execution_count": 78,
     "metadata": {},
     "output_type": "execute_result"
    }
   ],
   "source": [
    "fsolve(score_function, x0=92315.60025907237, full_output=True)"
   ]
  },
  {
   "cell_type": "code",
   "execution_count": 79,
   "id": "de77920a-dc3d-4104-b20e-47536069c9e1",
   "metadata": {},
   "outputs": [
    {
     "data": {
      "text/plain": [
       "(array([-9.35724194e+10]),\n",
       " {'nfev': 56,\n",
       "  'fjac': array([[-1.]]),\n",
       "  'r': array([-1.55515005e-22]),\n",
       "  'qtf': array([-5.42101086e-20]),\n",
       "  'fvec': 0.0},\n",
       " 1,\n",
       " 'The solution converged.')"
      ]
     },
     "execution_count": 79,
     "metadata": {},
     "output_type": "execute_result"
    }
   ],
   "source": [
    "fsolve(score_function, x0=5000, full_output=True)"
   ]
  },
  {
   "cell_type": "markdown",
   "id": "3c0fabfa-fb0a-4280-b66f-73aa3a8ccf43",
   "metadata": {},
   "source": [
    "^ OK, so the above is what happened when the maximum guess value was set to $10,000$. I really wish there was a way to force these root solvers to consider e.g. only non-negative solutions. At least the plugin estimator turned out to be a more useful initial guess. \n",
    "\n",
    "Anyway we know that something definitely went wrong whenever $0$ is returned as a value, so we can I guess at this point just exclude those results in the analysis (pending a determination of how common such problems are in the first place) rather than rewriting the procedure for deciding whether to use `fsolve` or `root_scalar` and/or determining `guess_value` and proposed brackets for `root_scalar`... (for now)"
   ]
  }
 ],
 "metadata": {
  "kernelspec": {
   "display_name": "Python 3",
   "language": "python",
   "name": "python3"
  },
  "language_info": {
   "codemirror_mode": {
    "name": "ipython",
    "version": 3
   },
   "file_extension": ".py",
   "mimetype": "text/x-python",
   "name": "python",
   "nbconvert_exporter": "python",
   "pygments_lexer": "ipython3",
   "version": "3.9.2"
  }
 },
 "nbformat": 4,
 "nbformat_minor": 5
}
