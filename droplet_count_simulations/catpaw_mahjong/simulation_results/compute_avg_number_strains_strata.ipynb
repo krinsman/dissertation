{
 "cells": [
  {
   "cell_type": "code",
   "execution_count": 1,
   "id": "d6e8e8e8-c23e-4911-abdd-e1be4a25433a",
   "metadata": {},
   "outputs": [],
   "source": [
    "import json\n",
    "import numpy as np\n",
    "\n",
    "from collections import defaultdict\n",
    "from glob import glob"
   ]
  },
  {
   "cell_type": "code",
   "execution_count": 2,
   "id": "e6f61850-21e4-4a0a-9350-d6cda87ed229",
   "metadata": {},
   "outputs": [],
   "source": [
    "number_strain_strata = defaultdict(list)"
   ]
  },
  {
   "cell_type": "code",
   "execution_count": 3,
   "id": "d7cb3433-51d7-4387-b828-fbfc4cc0f683",
   "metadata": {},
   "outputs": [],
   "source": [
    "filenames = sorted(list(glob('number_strain_strata/*.json')))"
   ]
  },
  {
   "cell_type": "code",
   "execution_count": 4,
   "id": "408ec7db-a5a5-4604-99f1-be347937e67b",
   "metadata": {},
   "outputs": [
    {
     "data": {
      "text/plain": [
       "500"
      ]
     },
     "execution_count": 4,
     "metadata": {},
     "output_type": "execute_result"
    }
   ],
   "source": [
    "len(filenames)"
   ]
  },
  {
   "cell_type": "code",
   "execution_count": 5,
   "id": "7d2d6f1a-446a-4762-85e5-fbddfdc024c7",
   "metadata": {},
   "outputs": [],
   "source": [
    "for filename in filenames:\n",
    "    with open(filename, 'r') as file_pointer:\n",
    "        simulation_results = json.load(file_pointer)\n",
    "        \n",
    "    for key, value in simulation_results.items():\n",
    "        if int(key) < 6:\n",
    "            number_strain_strata[key].append(int(value))\n",
    "        elif int(key) >= 6:\n",
    "            number_strain_strata['temp'].append(int(value))\n",
    "    number_strain_strata['6'].append(sum(number_strain_strata.pop('temp')))"
   ]
  },
  {
   "cell_type": "code",
   "execution_count": 6,
   "id": "97a54ee7-f6a7-4d3c-a2f6-2e929f4aef2b",
   "metadata": {},
   "outputs": [
    {
     "name": "stdout",
     "output_type": "stream",
     "text": [
      "500\n",
      "500\n",
      "500\n",
      "500\n",
      "500\n",
      "500\n",
      "500\n"
     ]
    }
   ],
   "source": [
    "for key, value in number_strain_strata.items():\n",
    "    number_strain_strata[key] = np.asarray(value)\n",
    "    print(len(value))"
   ]
  },
  {
   "cell_type": "code",
   "execution_count": 7,
   "id": "45f5641d-0881-4bd7-acb5-6b457da4225e",
   "metadata": {},
   "outputs": [
    {
     "data": {
      "text/plain": [
       "{'0': 0.1353319184,\n",
       " '1': 0.2827983452,\n",
       " '2': 0.2821988632,\n",
       " '3': 0.17938818106666668,\n",
       " '4': 0.0817260316,\n",
       " '5': 0.02846809226666667,\n",
       " '6': 0.010088568266666667}"
      ]
     },
     "execution_count": 7,
     "metadata": {},
     "output_type": "execute_result"
    }
   ],
   "source": [
    "empirical_strain_probabilities = {}\n",
    "\n",
    "number_droplets = 15e6\n",
    "\n",
    "for key, value in number_strain_strata.items():\n",
    "    empirical_strain_probabilities[key] = np.mean(value)/number_droplets\n",
    "    \n",
    "empirical_strain_probabilities"
   ]
  },
  {
   "cell_type": "code",
   "execution_count": 8,
   "id": "a0fa0111-578b-4f9e-b57a-ce26dd383d26",
   "metadata": {},
   "outputs": [
    {
     "name": "stdout",
     "output_type": "stream",
     "text": [
      "1.0\n"
     ]
    }
   ],
   "source": [
    "check_result = 0.\n",
    "for value in empirical_strain_probabilities.values():\n",
    "    check_result += value\n",
    "print(check_result)"
   ]
  },
  {
   "cell_type": "code",
   "execution_count": 9,
   "id": "955f2b54-de4e-4ac4-9cb3-b9016da0e12a",
   "metadata": {},
   "outputs": [],
   "source": [
    "with open('multi_strain_probabilities.json', 'w') as file_pointer:\n",
    "    json.dump(empirical_strain_probabilities, file_pointer)"
   ]
  }
 ],
 "metadata": {
  "kernelspec": {
   "display_name": "Python 3",
   "language": "python",
   "name": "python3"
  },
  "language_info": {
   "codemirror_mode": {
    "name": "ipython",
    "version": 3
   },
   "file_extension": ".py",
   "mimetype": "text/x-python",
   "name": "python",
   "nbconvert_exporter": "python",
   "pygments_lexer": "ipython3",
   "version": "3.9.2"
  }
 },
 "nbformat": 4,
 "nbformat_minor": 5
}
