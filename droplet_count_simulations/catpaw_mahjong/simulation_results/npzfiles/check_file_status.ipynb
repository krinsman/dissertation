{
 "cells": [
  {
   "cell_type": "code",
   "execution_count": 1,
   "id": "33127ca2-0066-4963-afb1-cfb2052aab3a",
   "metadata": {
    "execution": {
     "iopub.execute_input": "2021-05-24T13:51:46.519558Z",
     "iopub.status.busy": "2021-05-24T13:51:46.508560Z",
     "iopub.status.idle": "2021-05-24T13:51:46.768385Z",
     "shell.execute_reply": "2021-05-24T13:51:46.767288Z"
    }
   },
   "outputs": [],
   "source": [
    "from glob import glob\n",
    "from datetime import datetime\n",
    "import numpy as np\n",
    "import traceback\n",
    "\n",
    "npzfiles = list(glob('*.npz'))\n",
    "npzfiles.sort()"
   ]
  },
  {
   "cell_type": "code",
   "execution_count": 2,
   "id": "37024319-fa3a-4504-bce0-484c737badd8",
   "metadata": {
    "execution": {
     "iopub.execute_input": "2021-05-24T13:51:46.783836Z",
     "iopub.status.busy": "2021-05-24T13:51:46.773046Z",
     "iopub.status.idle": "2021-05-24T13:51:46.795894Z",
     "shell.execute_reply": "2021-05-24T13:51:46.794830Z"
    }
   },
   "outputs": [],
   "source": [
    "import multiprocessing as mp\n",
    "import re\n",
    "\n",
    "def check_file_status(filename):\n",
    "    filenumber = re.findall(r'CTPMHg_results\\.([0-9]+)\\.npz', filename)[0]\n",
    "    npzfile = np.load(filename)\n",
    "    \n",
    "    with open('../notebook_logs/file_status.{}.log'.format(filenumber), 'a') as file_pointer:\n",
    "        try:\n",
    "            assert npzfile.files == ['pop_sizes', 'sample_sizes']\n",
    "            file_pointer.write('File #{} has the expected variables.\\n'.format(filenumber))\n",
    "            pop_sizes = npzfile['pop_sizes']\n",
    "            sample_sizes = npzfile['sample_sizes']\n",
    "            try:\n",
    "                assert pop_sizes.shape == (91, 15000000)\n",
    "                file_pointer.write('Variable `pop_sizes` has expected shape for file #{}.\\n'.format(filenumber))\n",
    "                try:\n",
    "                    assert sample_sizes.shape == (91, 15000000)\n",
    "                    file_pointer.write('Variable `sample_sizes` has expected shape for file #{}.\\n'.format(filenumber))\n",
    "                    file_pointer.write('All checks for file #{} passed.\\n'.format(filenumber))\n",
    "                except AssertionError:\n",
    "                    file_pointer.write('Variable `sample_sizes` does NOT have expected shape for file #{}.\\n'.format(filenumber))\n",
    "                    file_pointer.write('Checks for file #{} failed.\\n'.format(filenumber))\n",
    "            except AssertionError:\n",
    "                file_pointer.write('Variable `pop_sizes` does NOT have expected shape for file #{}.\\n'.format(filenumber))\n",
    "                file_pointer.write('Checks for file #{} failed.\\n'.format(filenumber))\n",
    "                try:\n",
    "                    assert sample_sizes.shape == (91, 15000000)\n",
    "                    file_pointer.write('Variable `sample_sizes` has expected shape for file #{}.\\n'.format(filenumber))\n",
    "                except AssertionError:\n",
    "                    file_pointer.write('Variable `sample_sizes` does NOT have expected shape for file #{}.\\n'.format(filenumber))\n",
    "                    file_pointer.write('Checks for file #{} failed.\\n'.format(filenumber))                \n",
    "        except AssertionError:\n",
    "            file_pointer.write('File #{} does NOT have the expected variables.\\n'.format(filenumber))\n",
    "            file_pointer.write('Checks for file #{} failed.\\n'.format(filenumber))"
   ]
  },
  {
   "cell_type": "code",
   "execution_count": 3,
   "id": "28fea8a4-9faf-4a19-ba32-7c2fccebcd50",
   "metadata": {
    "execution": {
     "iopub.execute_input": "2021-05-24T13:51:46.805472Z",
     "iopub.status.busy": "2021-05-24T13:51:46.804331Z",
     "iopub.status.idle": "2021-05-24T14:19:28.697819Z",
     "shell.execute_reply": "2021-05-24T14:19:28.696305Z"
    }
   },
   "outputs": [
    {
     "name": "stdout",
     "output_type": "stream",
     "text": [
      "CPU times: user 360 ms, sys: 991 ms, total: 1.35 s\n",
      "Wall time: 27min 41s\n"
     ]
    }
   ],
   "source": [
    "%%time\n",
    "try:\n",
    "    pool = mp.Pool(40)\n",
    "    pool.map(check_file_status, npzfiles)\n",
    "    pool.close()\n",
    "    pool.join()\n",
    "except RuntimeError as error_message:\n",
    "    timestamp_filename = datetime.now().strftime('%m-%d-%Y.at.%H_%M_%S.log')\n",
    "    with open('../error_logs/{}'.format(timestamp_filename), 'a') as file_pointer:\n",
    "        file_pointer.write(str(error_message))\n",
    "        file_pointer.write(traceback.format_exc())"
   ]
  }
 ],
 "metadata": {
  "kernelspec": {
   "display_name": "Python 3",
   "language": "python",
   "name": "python3"
  },
  "language_info": {
   "codemirror_mode": {
    "name": "ipython",
    "version": 3
   },
   "file_extension": ".py",
   "mimetype": "text/x-python",
   "name": "python",
   "nbconvert_exporter": "python",
   "pygments_lexer": "ipython3",
   "version": "3.9.2"
  }
 },
 "nbformat": 4,
 "nbformat_minor": 5
}
