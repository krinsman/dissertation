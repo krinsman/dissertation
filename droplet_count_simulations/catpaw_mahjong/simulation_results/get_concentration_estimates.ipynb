{
 "cells": [
  {
   "cell_type": "code",
   "execution_count": 1,
   "id": "2de2f481-66d1-4d4d-a7aa-a3640fff7e85",
   "metadata": {
    "execution": {
     "iopub.execute_input": "2021-06-19T16:39:34.336744Z",
     "iopub.status.busy": "2021-06-19T16:39:34.335443Z",
     "iopub.status.idle": "2021-06-19T16:39:36.233390Z",
     "shell.execute_reply": "2021-06-19T16:39:36.231930Z"
    }
   },
   "outputs": [],
   "source": [
    "import numpy as np\n",
    "import multiprocessing as mp"
   ]
  },
  {
   "cell_type": "code",
   "execution_count": 2,
   "id": "334d3dbd-c8e4-4f49-a9ea-95ddf50a6c74",
   "metadata": {
    "execution": {
     "iopub.execute_input": "2021-06-19T16:39:36.241878Z",
     "iopub.status.busy": "2021-06-19T16:39:36.240931Z",
     "iopub.status.idle": "2021-06-19T16:39:42.950804Z",
     "shell.execute_reply": "2021-06-19T16:39:42.949505Z"
    }
   },
   "outputs": [],
   "source": [
    "from glob import glob\n",
    "from simulations.concentrations import get_plugin_categorical_concentration, get_plugin_density_concentration"
   ]
  },
  {
   "cell_type": "code",
   "execution_count": 3,
   "id": "c40614cb-27ac-4434-bfd6-5a2dee41d317",
   "metadata": {
    "execution": {
     "iopub.execute_input": "2021-06-19T16:39:42.973767Z",
     "iopub.status.busy": "2021-06-19T16:39:42.963026Z",
     "iopub.status.idle": "2021-06-19T16:39:42.983358Z",
     "shell.execute_reply": "2021-06-19T16:39:42.982141Z"
    }
   },
   "outputs": [],
   "source": [
    "import re\n",
    "\n",
    "def get_concentration_estimates(filename):\n",
    "    \n",
    "    sim_num = re.findall(r'.*\\.([0-9]+)\\.npz', filename)[0]\n",
    "    \n",
    "    npzfile = np.load(filename)\n",
    "    droplets = npzfile['sample_sizes'].T\n",
    "    \n",
    "    number_droplets, number_strains = droplets.shape\n",
    "    \n",
    "    small_val_size = 10000\n",
    "    small_val_iterations = number_droplets // small_val_size\n",
    "    small_val_results = np.zeros((2, small_val_iterations))\n",
    "    \n",
    "    for iter_num in range(small_val_iterations):\n",
    "        batch = droplets[iter_num*small_val_size:(iter_num+1)*small_val_size,:]\n",
    "        small_val_results[0,iter_num] = get_plugin_density_concentration(batch)\n",
    "        small_val_results[1,iter_num] = get_plugin_categorical_concentration(batch)\n",
    "        \n",
    "    med_val_size = 500000\n",
    "    med_val_iterations = number_droplets // med_val_size\n",
    "    med_val_results = np.zeros((2, med_val_iterations))\n",
    "    \n",
    "    for iter_num in range(med_val_iterations):\n",
    "        batch = droplets[iter_num*med_val_size:(iter_num+1)*med_val_size,:]\n",
    "        med_val_results[0,iter_num] = get_plugin_density_concentration(batch)\n",
    "        med_val_results[1,iter_num] = get_plugin_categorical_concentration(batch)\n",
    "        \n",
    "    whole_sim_results = np.zeros(2)\n",
    "    whole_sim_results[0] = get_plugin_density_concentration(droplets)\n",
    "    whole_sim_results[1] = get_plugin_categorical_concentration(droplets)\n",
    "    \n",
    "    results = {\"small_batches\":small_val_results, \"medium_batches\":med_val_results, \"whole_sim\":whole_sim_results}\n",
    "    np.savez_compressed('concentration_estimates/simulation.{}.npz'.format(sim_num), **results)"
   ]
  },
  {
   "cell_type": "code",
   "execution_count": 4,
   "id": "e9abb720-2e4c-462e-9b1d-f65fb3a6bf43",
   "metadata": {
    "execution": {
     "iopub.execute_input": "2021-06-19T16:39:42.992984Z",
     "iopub.status.busy": "2021-06-19T16:39:42.991539Z",
     "iopub.status.idle": "2021-06-19T16:39:43.060426Z",
     "shell.execute_reply": "2021-06-19T16:39:43.059008Z"
    }
   },
   "outputs": [],
   "source": [
    "filenames = sorted(list(glob('npzfiles/*.npz')))"
   ]
  },
  {
   "cell_type": "code",
   "execution_count": 5,
   "id": "2dd896cf-b8e4-4c13-b126-e0b901b868b9",
   "metadata": {
    "execution": {
     "iopub.execute_input": "2021-06-19T16:39:43.072567Z",
     "iopub.status.busy": "2021-06-19T16:39:43.071137Z",
     "iopub.status.idle": "2021-06-19T17:52:58.145231Z",
     "shell.execute_reply": "2021-06-19T17:52:58.144010Z"
    }
   },
   "outputs": [
    {
     "name": "stdout",
     "output_type": "stream",
     "text": [
      "CPU times: user 1.31 s, sys: 2.58 s, total: 3.89 s\n",
      "Wall time: 1h 13min 15s\n"
     ]
    }
   ],
   "source": [
    "%%time\n",
    "with mp.get_context(\"fork\").Pool(50) as pool:\n",
    "    pool.map(get_concentration_estimates, filenames, chunksize=1)\n",
    "    pool.close()\n",
    "    pool.join()"
   ]
  }
 ],
 "metadata": {
  "kernelspec": {
   "display_name": "Python 3",
   "language": "python",
   "name": "python3"
  },
  "language_info": {
   "codemirror_mode": {
    "name": "ipython",
    "version": 3
   },
   "file_extension": ".py",
   "mimetype": "text/x-python",
   "name": "python",
   "nbconvert_exporter": "python",
   "pygments_lexer": "ipython3",
   "version": "3.9.2"
  }
 },
 "nbformat": 4,
 "nbformat_minor": 5
}
