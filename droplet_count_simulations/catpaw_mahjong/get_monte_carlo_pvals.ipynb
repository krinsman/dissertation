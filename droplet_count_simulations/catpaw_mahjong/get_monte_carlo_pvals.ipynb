{
 "cells": [
  {
   "cell_type": "code",
   "execution_count": 1,
   "id": "7f4e987a",
   "metadata": {
    "execution": {
     "iopub.execute_input": "2021-05-27T02:49:33.842475Z",
     "iopub.status.busy": "2021-05-27T02:49:33.840816Z",
     "iopub.status.idle": "2021-05-27T02:49:35.324927Z",
     "shell.execute_reply": "2021-05-27T02:49:35.324256Z"
    }
   },
   "outputs": [],
   "source": [
    "import numpy as np\n",
    "from statsmodels.distributions.empirical_distribution import ECDF"
   ]
  },
  {
   "cell_type": "markdown",
   "id": "b52cb305-1e26-497c-9d74-ba7c616ba218",
   "metadata": {},
   "source": [
    "Get our results for the Pearson categorical divergences for the CTPMHg simulations."
   ]
  },
  {
   "cell_type": "code",
   "execution_count": 2,
   "id": "ef5102b8-444f-41f8-b234-b67068da904d",
   "metadata": {
    "execution": {
     "iopub.execute_input": "2021-05-27T02:49:35.330118Z",
     "iopub.status.busy": "2021-05-27T02:49:35.329474Z",
     "iopub.status.idle": "2021-05-27T02:49:35.335272Z",
     "shell.execute_reply": "2021-05-27T02:49:35.335770Z"
    }
   },
   "outputs": [],
   "source": [
    "npzfile = np.load('categorical_divergences_and_chi2_approx_pvals.npz')\n",
    "pearson_categorical_divergences = npzfile['pearson_categorical_divergences']"
   ]
  },
  {
   "cell_type": "markdown",
   "id": "746a36bf-7440-4957-a21c-e4fc939798f5",
   "metadata": {},
   "source": [
    "Load our simulated empirical distribution of the Pearson categorical divergence statistic under the null multinomial distribution. (So basically a \"Monte Carlo approximation to an exact Multinomial test for Pearson's $\\chi^2$ statistic\", using more standard terminology)."
   ]
  },
  {
   "cell_type": "code",
   "execution_count": 3,
   "id": "5e131988",
   "metadata": {
    "execution": {
     "iopub.execute_input": "2021-05-27T02:49:35.340865Z",
     "iopub.status.busy": "2021-05-27T02:49:35.340219Z",
     "iopub.status.idle": "2021-05-27T02:50:52.374678Z",
     "shell.execute_reply": "2021-05-27T02:50:52.375912Z"
    }
   },
   "outputs": [
    {
     "data": {
      "text/plain": [
       "(1000000000,)"
      ]
     },
     "execution_count": 1,
     "metadata": {},
     "output_type": "execute_result"
    }
   ],
   "source": [
    "mc_npzfile = np.load('../monte_carlo_results/complete_chi2_simulation.npz')\n",
    "monte_carlo_vals = mc_npzfile['chi2_stats']\n",
    "monte_carlo_vals.shape"
   ]
  },
  {
   "cell_type": "code",
   "execution_count": 4,
   "id": "182de89b-f4a2-43cb-a365-0260fa419fbf",
   "metadata": {
    "execution": {
     "iopub.execute_input": "2021-05-27T02:50:52.385351Z",
     "iopub.status.busy": "2021-05-27T02:50:52.383909Z",
     "iopub.status.idle": "2021-05-27T02:54:14.726648Z",
     "shell.execute_reply": "2021-05-27T02:54:14.725305Z"
    }
   },
   "outputs": [],
   "source": [
    "monte_carlo_ecdf = ECDF(monte_carlo_vals)"
   ]
  },
  {
   "cell_type": "markdown",
   "id": "a6b5f752-b4e7-4d52-aa82-78cc1b171c95",
   "metadata": {},
   "source": [
    "The $p$-values correspond to the survival function (probability of being _more_ extreme, rather than CDF=no more extreme than), i.e. $1 - CDF$."
   ]
  },
  {
   "cell_type": "code",
   "execution_count": 5,
   "id": "40013257",
   "metadata": {
    "execution": {
     "iopub.execute_input": "2021-05-27T02:54:14.735822Z",
     "iopub.status.busy": "2021-05-27T02:54:14.734382Z",
     "iopub.status.idle": "2021-05-27T02:54:14.740454Z",
     "shell.execute_reply": "2021-05-27T02:54:14.739175Z"
    }
   },
   "outputs": [],
   "source": [
    "monte_carlo_pvals = 1. - monte_carlo_ecdf(pearson_categorical_divergences)"
   ]
  },
  {
   "cell_type": "markdown",
   "id": "6f649186-ad86-4652-8f84-b16ebc575d1c",
   "metadata": {},
   "source": [
    "For easy/quick reference/use later"
   ]
  },
  {
   "cell_type": "code",
   "execution_count": 6,
   "id": "774d6948",
   "metadata": {
    "execution": {
     "iopub.execute_input": "2021-05-27T02:54:14.749098Z",
     "iopub.status.busy": "2021-05-27T02:54:14.747640Z",
     "iopub.status.idle": "2021-05-27T02:54:14.760031Z",
     "shell.execute_reply": "2021-05-27T02:54:14.758566Z"
    }
   },
   "outputs": [],
   "source": [
    "np.savez_compressed('monte_carlo_pvals.npz', monte_carlo_pvals=monte_carlo_pvals)"
   ]
  }
 ],
 "metadata": {
  "kernelspec": {
   "display_name": "Python 3",
   "language": "python",
   "name": "python3"
  },
  "language_info": {
   "codemirror_mode": {
    "name": "ipython",
    "version": 3
   },
   "file_extension": ".py",
   "mimetype": "text/x-python",
   "name": "python",
   "nbconvert_exporter": "python",
   "pygments_lexer": "ipython3",
   "version": "3.9.2"
  }
 },
 "nbformat": 4,
 "nbformat_minor": 5
}
