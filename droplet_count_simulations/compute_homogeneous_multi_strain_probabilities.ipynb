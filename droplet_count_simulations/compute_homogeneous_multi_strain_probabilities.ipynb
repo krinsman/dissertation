{
 "cells": [
  {
   "cell_type": "code",
   "execution_count": 1,
   "id": "5824d08b",
   "metadata": {},
   "outputs": [],
   "source": [
    "import numpy as np\n",
    "from itertools import combinations\n",
    "\n",
    "base_relative_abundances = [1e-4, 1e-3, 1e-2]\n",
    "\n",
    "relative_abundances = [relative_abundance * number\n",
    "                       for relative_abundance \n",
    "                       in base_relative_abundances\n",
    "                       for number in (1,2,5) \n",
    "                       for repeat in range(10)]\n",
    "\n",
    "relative_abundances += [1-sum(relative_abundances)]\n",
    "frequencies = np.array(relative_abundances)\n",
    "\n",
    "rate = 2"
   ]
  },
  {
   "cell_type": "markdown",
   "id": "26ae7e1e-2101-48a3-b08a-02fbbc1038b4",
   "metadata": {},
   "source": [
    "**WARNING:** what follows is horrible, brute-force code, that makes almost no attempt to utilize all of the symmetries available to simplify the calculations. (The products over the strains not in the droplets are simplified though.) This is NOT recommended as a way to compute these probabilities, and is only used because it was a straightforward implementation for a one-time computation and I could let it run while eating lunch or doing other work. This does not even remotely scale, is not even remotely a good algorithm, etc. Don't take inspiration from this."
   ]
  },
  {
   "cell_type": "code",
   "execution_count": 2,
   "id": "3b04acbe-501f-441e-9c4b-1698ec24a366",
   "metadata": {},
   "outputs": [
    {
     "name": "stdout",
     "output_type": "stream",
     "text": [
      "CPU times: user 19 µs, sys: 22 µs, total: 41 µs\n",
      "Wall time: 51.5 µs\n"
     ]
    }
   ],
   "source": [
    "%%time\n",
    "zero_strain_probability = np.exp(-rate)"
   ]
  },
  {
   "cell_type": "code",
   "execution_count": 3,
   "id": "b6c3ffc2-01c6-450f-8b3b-eccfc057749c",
   "metadata": {},
   "outputs": [
    {
     "name": "stdout",
     "output_type": "stream",
     "text": [
      "CPU times: user 1.53 ms, sys: 0 ns, total: 1.53 ms\n",
      "Wall time: 1.54 ms\n"
     ]
    }
   ],
   "source": [
    "%%time\n",
    "one_strain_probability = 0.\n",
    "\n",
    "for frequency in frequencies:\n",
    "    one_strain_probability += (1. - np.exp(-rate*frequency))*np.exp(-rate*(1. - frequency))"
   ]
  },
  {
   "cell_type": "code",
   "execution_count": 4,
   "id": "b13665a2-08e7-4df9-a5e4-1fa2abb5e1c2",
   "metadata": {},
   "outputs": [
    {
     "name": "stdout",
     "output_type": "stream",
     "text": [
      "CPU times: user 87.9 ms, sys: 0 ns, total: 87.9 ms\n",
      "Wall time: 87.4 ms\n"
     ]
    }
   ],
   "source": [
    "%%time\n",
    "two_strain_probability = 0.\n",
    "\n",
    "for duple in combinations(frequencies, 2):\n",
    "    freq_1, freq_2 = duple\n",
    "    two_strain_probability += (1. - np.exp(-rate*freq_1))*(1. - np.exp(-rate*freq_2))*np.exp(-rate*(1. - freq_1 - freq_2))"
   ]
  },
  {
   "cell_type": "code",
   "execution_count": 5,
   "id": "516bb00e",
   "metadata": {},
   "outputs": [
    {
     "name": "stdout",
     "output_type": "stream",
     "text": [
      "CPU times: user 2.62 s, sys: 0 ns, total: 2.62 s\n",
      "Wall time: 2.62 s\n"
     ]
    }
   ],
   "source": [
    "%%time\n",
    "three_strain_probability = 0.\n",
    "\n",
    "for triple in combinations(frequencies, 3):\n",
    "    freq_1, freq_2, freq_3 = triple\n",
    "    three_strain_probability += (1. - np.exp(-rate*freq_1))*(1. - np.exp(-rate*freq_2))*(1. - np.exp(-rate*freq_3))*np.exp(-rate*(1. - freq_1 - freq_2 - freq_3))"
   ]
  },
  {
   "cell_type": "code",
   "execution_count": 6,
   "id": "c71fd472",
   "metadata": {},
   "outputs": [
    {
     "data": {
      "text/plain": [
       "0.1793916362847235"
      ]
     },
     "execution_count": 6,
     "metadata": {},
     "output_type": "execute_result"
    }
   ],
   "source": [
    "three_strain_probability"
   ]
  },
  {
   "cell_type": "code",
   "execution_count": 7,
   "id": "cb4f2832",
   "metadata": {},
   "outputs": [
    {
     "name": "stdout",
     "output_type": "stream",
     "text": [
      "CPU times: user 1min 13s, sys: 0 ns, total: 1min 13s\n",
      "Wall time: 1min 13s\n"
     ]
    }
   ],
   "source": [
    "%%time\n",
    "four_strain_probability = 0.\n",
    "\n",
    "for quartuple in combinations(frequencies, 4):\n",
    "    freq_1, freq_2, freq_3, freq_4 = quartuple\n",
    "    four_strain_probability += (1. - np.exp(-rate*freq_1))*(1. - np.exp(-rate*freq_2))*(1. - np.exp(-rate*freq_3))*(1. - np.exp(-rate*freq_4))*np.exp(-rate*(1. - freq_1 - freq_2 - freq_3 - freq_4))"
   ]
  },
  {
   "cell_type": "code",
   "execution_count": 8,
   "id": "2eea78c1",
   "metadata": {},
   "outputs": [
    {
     "data": {
      "text/plain": [
       "0.08172909563542519"
      ]
     },
     "execution_count": 8,
     "metadata": {},
     "output_type": "execute_result"
    }
   ],
   "source": [
    "four_strain_probability"
   ]
  },
  {
   "cell_type": "code",
   "execution_count": 9,
   "id": "c3acde07",
   "metadata": {},
   "outputs": [
    {
     "name": "stdout",
     "output_type": "stream",
     "text": [
      "CPU times: user 25min 46s, sys: 0 ns, total: 25min 46s\n",
      "Wall time: 25min 50s\n"
     ]
    }
   ],
   "source": [
    "%%time\n",
    "five_strain_probability = 0.\n",
    "\n",
    "for quintuple in combinations(frequencies, 5):\n",
    "    freq_1, freq_2, freq_3, freq_4, freq_5 = quintuple\n",
    "    five_strain_probability += (1. - np.exp(-rate*freq_1))*(1. - np.exp(-rate*freq_2))*(1. - np.exp(-rate*freq_3))*(1. - np.exp(-rate*freq_4))*(1. - np.exp(-rate*freq_5))*np.exp(-rate*(1 - freq_1 - freq_2 - freq_3 - freq_4 - freq_5))"
   ]
  },
  {
   "cell_type": "code",
   "execution_count": 10,
   "id": "9358356a-142b-42a9-abe6-5558d4c33279",
   "metadata": {},
   "outputs": [
    {
     "data": {
      "text/plain": [
       "0.028465155323010822"
      ]
     },
     "execution_count": 10,
     "metadata": {},
     "output_type": "execute_result"
    }
   ],
   "source": [
    "five_strain_probability"
   ]
  },
  {
   "cell_type": "code",
   "execution_count": 11,
   "id": "aa4eeef0-5140-41f9-b297-8660c729cca1",
   "metadata": {},
   "outputs": [],
   "source": [
    "more_strains_probability = 1. - zero_strain_probability - one_strain_probability - two_strain_probability - three_strain_probability - four_strain_probability - five_strain_probability"
   ]
  },
  {
   "cell_type": "code",
   "execution_count": 12,
   "id": "0f0cb8bc-8c40-4cf1-8457-bf62fbef18d1",
   "metadata": {},
   "outputs": [],
   "source": [
    "import json\n",
    "\n",
    "results = {'zero_strain':zero_strain_probability,\n",
    "           'one_strain':one_strain_probability, 'two_strain': two_strain_probability,\n",
    "           'three_strain': three_strain_probability, 'four_strain': four_strain_probability,\n",
    "           'five_strain': five_strain_probability, 'more_strains': more_strains_probability}\n",
    "\n",
    "with open('multi_strain_probabilities.json', 'w') as file_pointer:\n",
    "    json.dump(results, file_pointer)"
   ]
  }
 ],
 "metadata": {
  "kernelspec": {
   "display_name": "Python 3",
   "language": "python",
   "name": "python3"
  },
  "language_info": {
   "codemirror_mode": {
    "name": "ipython",
    "version": 3
   },
   "file_extension": ".py",
   "mimetype": "text/x-python",
   "name": "python",
   "nbconvert_exporter": "python",
   "pygments_lexer": "ipython3",
   "version": "3.9.2"
  }
 },
 "nbformat": 4,
 "nbformat_minor": 5
}
