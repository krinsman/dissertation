{
 "cells": [
  {
   "cell_type": "code",
   "execution_count": 1,
   "id": "d3120826-d432-481a-9007-64217ea8cfe0",
   "metadata": {
    "execution": {
     "iopub.execute_input": "2021-06-05T23:19:59.984757Z",
     "iopub.status.busy": "2021-06-05T23:19:59.983102Z",
     "iopub.status.idle": "2021-06-05T23:20:01.079397Z",
     "shell.execute_reply": "2021-06-05T23:20:01.078281Z"
    }
   },
   "outputs": [],
   "source": [
    "from simulations.local_chi2_cpm import get_all_pairwise_pearson_categorical_divergences_and_p_values\n",
    "import time\n",
    "import datetime\n",
    "import numpy as np\n",
    "from pathlib import Path"
   ]
  },
  {
   "cell_type": "code",
   "execution_count": 2,
   "id": "52a2a303-b398-401e-939f-df94f170d898",
   "metadata": {
    "execution": {
     "iopub.execute_input": "2021-06-05T23:20:01.101990Z",
     "iopub.status.busy": "2021-06-05T23:20:01.100149Z",
     "iopub.status.idle": "2021-06-05T23:20:01.109550Z",
     "shell.execute_reply": "2021-06-05T23:20:01.110916Z"
    }
   },
   "outputs": [],
   "source": [
    "base_relative_abundances = [1e-4, 1e-3, 1e-2]\n",
    "\n",
    "relative_abundances = [relative_abundance * number\n",
    "                       for relative_abundance \n",
    "                       in base_relative_abundances\n",
    "                       for number in (1,2,5) \n",
    "                       for repeat in range(10)]\n",
    "\n",
    "relative_abundances += [1-sum(relative_abundances)]\n",
    "frequencies = np.array(relative_abundances)\n",
    "\n",
    "rate = 2"
   ]
  },
  {
   "cell_type": "code",
   "execution_count": 3,
   "id": "95469b66-4806-4b31-bf5f-db8bdf6ed75a",
   "metadata": {
    "execution": {
     "iopub.execute_input": "2021-06-05T23:20:01.125727Z",
     "iopub.status.busy": "2021-06-05T23:20:01.123946Z",
     "iopub.status.idle": "2021-06-05T23:21:32.006145Z",
     "shell.execute_reply": "2021-06-05T23:21:32.005035Z"
    }
   },
   "outputs": [],
   "source": [
    "npzfile = np.load('CPIDM_results.npz')\n",
    "droplets = npzfile['droplets']"
   ]
  },
  {
   "cell_type": "code",
   "execution_count": 4,
   "id": "f1a944c6-4942-4a15-883d-87e91bdc59fe",
   "metadata": {
    "execution": {
     "iopub.execute_input": "2021-06-05T23:21:32.016796Z",
     "iopub.status.busy": "2021-06-05T23:21:32.014589Z",
     "iopub.status.idle": "2021-06-06T01:23:39.030922Z",
     "shell.execute_reply": "2021-06-06T01:23:39.031919Z"
    }
   },
   "outputs": [],
   "source": [
    "results_filename = 'pairwise_results.npz'\n",
    "results_file = Path(results_filename)\n",
    "\n",
    "start_time = time.time()\n",
    "divergences, pvals, sign_vectors = get_all_pairwise_pearson_categorical_divergences_and_p_values(droplets, frequencies, rate=rate, signs=True)\n",
    "runtime = time.time() - start_time\n",
    "\n",
    "with open('runtime.log', 'a') as file_pointer:\n",
    "    # https://stackoverflow.com/a/775095/10634604\n",
    "    runtime_string = str(datetime.timedelta(seconds=runtime))\n",
    "    file_pointer.write('\\nRuntime for the pairwise/local hypothesis tests was {} in Hours:Minutes:Seconds.\\n'.format(runtime_string))\n",
    "\n",
    "results_file.parent.mkdir(parents=True, exist_ok=True)\n",
    "np.savez_compressed(results_filename, divergences=divergences, pvals=pvals, \n",
    "                   sign_vectors=sign_vectors)"
   ]
  }
 ],
 "metadata": {
  "kernelspec": {
   "display_name": "Python 3",
   "language": "python",
   "name": "python3"
  },
  "language_info": {
   "codemirror_mode": {
    "name": "ipython",
    "version": 3
   },
   "file_extension": ".py",
   "mimetype": "text/x-python",
   "name": "python",
   "nbconvert_exporter": "python",
   "pygments_lexer": "ipython3",
   "version": "3.9.2"
  }
 },
 "nbformat": 4,
 "nbformat_minor": 5
}
