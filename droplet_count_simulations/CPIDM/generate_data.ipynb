{
 "cells": [
  {
   "cell_type": "code",
   "execution_count": 1,
   "id": "f9b6c356-f95d-45c7-8373-5c0ebd152a01",
   "metadata": {
    "execution": {
     "iopub.execute_input": "2021-06-05T16:35:16.858974Z",
     "iopub.status.busy": "2021-06-05T16:35:16.854827Z",
     "iopub.status.idle": "2021-06-05T16:35:17.154186Z",
     "shell.execute_reply": "2021-06-05T16:35:17.155631Z"
    }
   },
   "outputs": [],
   "source": [
    "import numpy as np\n",
    "import time\n",
    "import datetime\n",
    "from pathlib import Path"
   ]
  },
  {
   "cell_type": "code",
   "execution_count": 2,
   "id": "ec078c86-b8c8-4557-b30a-fbfd389f2aa8",
   "metadata": {
    "execution": {
     "iopub.execute_input": "2021-06-05T16:35:17.165372Z",
     "iopub.status.busy": "2021-06-05T16:35:17.163503Z",
     "iopub.status.idle": "2021-06-05T16:35:18.030252Z",
     "shell.execute_reply": "2021-06-05T16:35:18.028590Z"
    }
   },
   "outputs": [],
   "source": [
    "from simulations.distributions import CPIDM"
   ]
  },
  {
   "cell_type": "code",
   "execution_count": 3,
   "id": "68fc5211-476c-459d-a214-201f1397c0a3",
   "metadata": {
    "execution": {
     "iopub.execute_input": "2021-06-05T16:35:18.044360Z",
     "iopub.status.busy": "2021-06-05T16:35:18.042181Z",
     "iopub.status.idle": "2021-06-05T16:35:18.046441Z",
     "shell.execute_reply": "2021-06-05T16:35:18.047942Z"
    },
    "tags": [
     "parameters"
    ]
   },
   "outputs": [],
   "source": [
    "rate = 2\n",
    "entropy = 42\n",
    "concentration = 1.0\n",
    "number_samples = int(15e6)"
   ]
  },
  {
   "cell_type": "code",
   "execution_count": 4,
   "id": "f6020439-5650-4000-9e2e-52e63e514e37",
   "metadata": {
    "execution": {
     "iopub.execute_input": "2021-06-05T16:35:18.059805Z",
     "iopub.status.busy": "2021-06-05T16:35:18.058023Z",
     "iopub.status.idle": "2021-06-05T16:35:18.061734Z",
     "shell.execute_reply": "2021-06-05T16:35:18.063159Z"
    }
   },
   "outputs": [],
   "source": [
    "seed = np.random.SeedSequence(entropy)"
   ]
  },
  {
   "cell_type": "code",
   "execution_count": 5,
   "id": "ba10b7c3-3e4e-4e30-9642-29779fe4af49",
   "metadata": {
    "execution": {
     "iopub.execute_input": "2021-06-05T16:35:18.075666Z",
     "iopub.status.busy": "2021-06-05T16:35:18.074526Z",
     "iopub.status.idle": "2021-06-05T16:35:18.078834Z",
     "shell.execute_reply": "2021-06-05T16:35:18.077663Z"
    }
   },
   "outputs": [],
   "source": [
    "base_relative_abundances = [1e-4, 1e-3, 1e-2]\n",
    "\n",
    "relative_abundances = [relative_abundance * number\n",
    "                       for relative_abundance \n",
    "                       in base_relative_abundances\n",
    "                       for number in (1,2,5) \n",
    "                       for repeat in range(10)]\n",
    "\n",
    "relative_abundances += [1-sum(relative_abundances)]\n",
    "frequencies = np.array(relative_abundances)"
   ]
  },
  {
   "cell_type": "code",
   "execution_count": 6,
   "id": "6ffcdf1b-0b31-49b7-9337-17bd0647b902",
   "metadata": {
    "execution": {
     "iopub.execute_input": "2021-06-05T16:35:18.089860Z",
     "iopub.status.busy": "2021-06-05T16:35:18.088609Z",
     "iopub.status.idle": "2021-06-05T16:35:18.094317Z",
     "shell.execute_reply": "2021-06-05T16:35:18.093303Z"
    }
   },
   "outputs": [],
   "source": [
    "rng = np.random.default_rng(seed)\n",
    "interaction_matrix = 2*(rng.random(size=(frequencies.size, frequencies.size)) - 0.5)\n",
    "# https://numpy.org/devdocs/reference/random/generated/numpy.random.Generator.integers.html\n",
    "interaction_matrix *= rng.integers(low=0, high=2, size=(frequencies.size, frequencies.size))"
   ]
  },
  {
   "cell_type": "markdown",
   "id": "6f959b0e-b76c-4fc0-8657-1d094d4934b9",
   "metadata": {},
   "source": [
    "## CPIDM - Compound Poisson Interaction Dirichlet-Multinomial (concentration 1)"
   ]
  },
  {
   "cell_type": "code",
   "execution_count": 7,
   "id": "c3b9fc22-1460-48b6-b08e-b25890166a98",
   "metadata": {
    "execution": {
     "iopub.execute_input": "2021-06-05T16:35:18.107037Z",
     "iopub.status.busy": "2021-06-05T16:35:18.105825Z",
     "iopub.status.idle": "2021-06-05T16:35:18.108138Z",
     "shell.execute_reply": "2021-06-05T16:35:18.109131Z"
    }
   },
   "outputs": [],
   "source": [
    "def CPIDM_simulation(concentration, frequencies, interaction_matrix, rate, \n",
    "                      seed, number_samples):\n",
    "    rng = np.random.default_rng(seed)\n",
    "\n",
    "    results = [CPIDM(concentration, frequencies, interaction_matrix, rate, rng) for sample in range(number_samples)]\n",
    "    \n",
    "    results = [result.reshape((1,-1)) for result in results]\n",
    "    results = np.concatenate(results, axis=0)\n",
    "    # shape of results is now (number_droplets, number_strains)\n",
    "    return results"
   ]
  },
  {
   "cell_type": "code",
   "execution_count": 8,
   "id": "1c0c9096-8f8d-46eb-9e43-ed430f457441",
   "metadata": {
    "execution": {
     "iopub.execute_input": "2021-06-05T16:35:18.123318Z",
     "iopub.status.busy": "2021-06-05T16:35:18.122016Z",
     "iopub.status.idle": "2021-06-05T17:31:41.858771Z",
     "shell.execute_reply": "2021-06-05T17:31:41.857169Z"
    },
    "tags": []
   },
   "outputs": [],
   "source": [
    "results_filename = 'CPIDM_results.npz'\n",
    "results_file = Path(results_filename)\n",
    "\n",
    "if results_file.is_file():\n",
    "    # simulation already ran successfully on previous attempt\n",
    "    pass\n",
    "else:\n",
    "    start_time = time.time()\n",
    "    results = CPIDM_simulation(concentration=concentration,\n",
    "                    interaction_matrix=interaction_matrix,\n",
    "                    rate=rate, seed=seed, \n",
    "                    number_samples=number_samples,\n",
    "                    frequencies=frequencies)\n",
    "    runtime = time.time() - start_time\n",
    "    \n",
    "    with open('runtime.log', 'a') as file_pointer:\n",
    "        # https://stackoverflow.com/a/775095/10634604\n",
    "        runtime_string = str(datetime.timedelta(seconds=runtime))\n",
    "        file_pointer.write('\\nRuntime was {} in Hours:Minutes:Seconds.\\n'.format(runtime_string))\n",
    "\n",
    "    np.savez_compressed(results_filename, droplets=results)"
   ]
  }
 ],
 "metadata": {
  "kernelspec": {
   "display_name": "Python 3",
   "language": "python",
   "name": "python3"
  },
  "language_info": {
   "codemirror_mode": {
    "name": "ipython",
    "version": 3
   },
   "file_extension": ".py",
   "mimetype": "text/x-python",
   "name": "python",
   "nbconvert_exporter": "python",
   "pygments_lexer": "ipython3",
   "version": "3.9.2"
  }
 },
 "nbformat": 4,
 "nbformat_minor": 5
}
