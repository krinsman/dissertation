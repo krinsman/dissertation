{
 "cells": [
  {
   "cell_type": "code",
   "execution_count": 1,
   "id": "f9b6c356-f95d-45c7-8373-5c0ebd152a01",
   "metadata": {},
   "outputs": [],
   "source": [
    "import numpy as np\n",
    "import time\n",
    "import datetime\n",
    "\n",
    "from pathlib import Path\n",
    "from seaborn import heatmap"
   ]
  },
  {
   "cell_type": "code",
   "execution_count": 2,
   "id": "ec078c86-b8c8-4557-b30a-fbfd389f2aa8",
   "metadata": {},
   "outputs": [],
   "source": [
    "from simulations.distributions import interaction_dirichlet_multinomial"
   ]
  },
  {
   "cell_type": "code",
   "execution_count": 3,
   "id": "68fc5211-476c-459d-a214-201f1397c0a3",
   "metadata": {
    "tags": [
     "parameters"
    ]
   },
   "outputs": [],
   "source": [
    "rate = 2\n",
    "entropy = 42\n",
    "concentration = 1.0\n",
    "number_samples = int(1e5)\n",
    "D = number_samples"
   ]
  },
  {
   "cell_type": "code",
   "execution_count": 4,
   "id": "f6020439-5650-4000-9e2e-52e63e514e37",
   "metadata": {},
   "outputs": [],
   "source": [
    "seed = np.random.SeedSequence(entropy)"
   ]
  },
  {
   "cell_type": "code",
   "execution_count": 5,
   "id": "ba10b7c3-3e4e-4e30-9642-29779fe4af49",
   "metadata": {},
   "outputs": [],
   "source": [
    "frequencies = np.ones(3)/3.\n",
    "S = frequencies.size"
   ]
  },
  {
   "cell_type": "code",
   "execution_count": 6,
   "id": "6ffcdf1b-0b31-49b7-9337-17bd0647b902",
   "metadata": {},
   "outputs": [],
   "source": [
    "interaction_matrix = np.array([[1,0.1,-0.1],[0.1,1,0.1],[-0.1,-0.1,1]])"
   ]
  },
  {
   "cell_type": "markdown",
   "id": "6f959b0e-b76c-4fc0-8657-1d094d4934b9",
   "metadata": {},
   "source": [
    "## IDM - Interaction Dirichlet-Multinomial (concentration 1)"
   ]
  },
  {
   "cell_type": "code",
   "execution_count": 7,
   "id": "c3b9fc22-1460-48b6-b08e-b25890166a98",
   "metadata": {},
   "outputs": [],
   "source": [
    "def IDM_simulation(concentration, frequencies, interaction_matrix, number_cells, \n",
    "                      seed, number_samples):\n",
    "    rng = np.random.default_rng(seed)\n",
    "\n",
    "    results = [interaction_dirichlet_multinomial(concentration, frequencies, interaction_matrix, number_cells, rng) for sample in range(number_samples)]\n",
    "    \n",
    "    results = [result.reshape((1,-1)) for result in results]\n",
    "    results = np.concatenate(results, axis=0)\n",
    "    # shape of results is now (number_droplets, number_strains)\n",
    "    return results"
   ]
  },
  {
   "cell_type": "code",
   "execution_count": 8,
   "id": "1c0c9096-8f8d-46eb-9e43-ed430f457441",
   "metadata": {
    "tags": []
   },
   "outputs": [
    {
     "name": "stdout",
     "output_type": "stream",
     "text": [
      "Runtime was 0:00:14.716621 in Hours:Minutes:Seconds.\n"
     ]
    }
   ],
   "source": [
    "start_time = time.time()\n",
    "results = IDM_simulation(concentration=concentration,\n",
    "                interaction_matrix=interaction_matrix,\n",
    "                number_cells=2, seed=seed, \n",
    "                number_samples=number_samples,\n",
    "                frequencies=frequencies)\n",
    "runtime = time.time() - start_time\n",
    "\n",
    "runtime_string = str(datetime.timedelta(seconds=runtime))\n",
    "print('Runtime was {} in Hours:Minutes:Seconds.'.format(runtime_string))"
   ]
  },
  {
   "cell_type": "code",
   "execution_count": 9,
   "id": "b7ebb8c7-9e84-4244-8d7a-135285908eb6",
   "metadata": {},
   "outputs": [
    {
     "data": {
      "text/plain": [
       "array([[0.15868, 0.17811, 0.1671 ],\n",
       "       [0.     , 0.15271, 0.1724 ],\n",
       "       [0.     , 0.     , 0.171  ]])"
      ]
     },
     "execution_count": 9,
     "metadata": {},
     "output_type": "execute_result"
    }
   ],
   "source": [
    "idm_nonzero = (results > 0).T\n",
    "\n",
    "idm_cooccurrence = np.zeros((S,S))\n",
    "\n",
    "idm_cooccurrence[0,0] = np.sum(idm_nonzero[0,:] & ~idm_nonzero[1,:] & ~idm_nonzero[2,:])\n",
    "idm_cooccurrence[1,1] = np.sum(~idm_nonzero[0,:] & idm_nonzero[1,:] & ~idm_nonzero[2,:])\n",
    "idm_cooccurrence[2,2] = np.sum(~idm_nonzero[0,:] & ~idm_nonzero[1,:] & idm_nonzero[2,:])\n",
    "\n",
    "idm_cooccurrence[0,1] = np.sum(idm_nonzero[0,:] & idm_nonzero[1,:] & ~idm_nonzero[2,:])\n",
    "idm_cooccurrence[0,2] = np.sum(idm_nonzero[0,:] & ~idm_nonzero[1,:] & idm_nonzero[2,:])\n",
    "\n",
    "idm_cooccurrence[1,2] = np.sum(~idm_nonzero[0,:] & idm_nonzero[1,:] & idm_nonzero[2,:])\n",
    "\n",
    "idm_cooccurrence /= D\n",
    "idm_cooccurrence"
   ]
  },
  {
   "cell_type": "code",
   "execution_count": 10,
   "id": "eda17db5-ecca-4270-bc05-c28be56ce1f4",
   "metadata": {},
   "outputs": [
    {
     "data": {
      "text/plain": [
       "<AxesSubplot:>"
      ]
     },
     "execution_count": 10,
     "metadata": {},
     "output_type": "execute_result"
    },
    {
     "data": {
      "image/png": "[encoded data removed]",
      "text/plain": [
       "<Figure size 432x288 with 2 Axes>"
      ]
     },
     "metadata": {
      "needs_background": "light"
     },
     "output_type": "display_data"
    }
   ],
   "source": [
    "mask = ~np.triu(np.ones_like(idm_cooccurrence, dtype=bool))\n",
    "heatmap(idm_cooccurrence, mask=mask, vmin=0., vmax=1.)"
   ]
  },
  {
   "cell_type": "markdown",
   "id": "adf52a4e-bc3a-45c3-be05-7cdce1ed9176",
   "metadata": {},
   "source": [
    "## Stronger interactions"
   ]
  },
  {
   "cell_type": "code",
   "execution_count": 11,
   "id": "2c6d9e21-63ff-4f17-bca2-928c4fee4d87",
   "metadata": {},
   "outputs": [
    {
     "data": {
      "text/plain": [
       "array([[ 1.  ,  0.25, -0.25],\n",
       "       [ 0.25,  1.  ,  0.25],\n",
       "       [-0.25, -0.25,  1.  ]])"
      ]
     },
     "execution_count": 11,
     "metadata": {},
     "output_type": "execute_result"
    }
   ],
   "source": [
    "interaction_matrix = np.array([[1,0.25,-0.25],[0.25,1,0.25],[-0.25,-0.25,1]])\n",
    "interaction_matrix"
   ]
  },
  {
   "cell_type": "code",
   "execution_count": 12,
   "id": "874f245d-478d-435f-94f5-7fe1daea2e37",
   "metadata": {
    "tags": []
   },
   "outputs": [
    {
     "name": "stdout",
     "output_type": "stream",
     "text": [
      "Runtime was 0:00:14.738187 in Hours:Minutes:Seconds.\n"
     ]
    }
   ],
   "source": [
    "start_time = time.time()\n",
    "results = IDM_simulation(concentration=concentration,\n",
    "                interaction_matrix=interaction_matrix,\n",
    "                number_cells=2, seed=seed, \n",
    "                number_samples=number_samples,\n",
    "                frequencies=frequencies)\n",
    "runtime = time.time() - start_time\n",
    "\n",
    "runtime_string = str(datetime.timedelta(seconds=runtime))\n",
    "print('Runtime was {} in Hours:Minutes:Seconds.'.format(runtime_string))"
   ]
  },
  {
   "cell_type": "code",
   "execution_count": 13,
   "id": "d4bf3d3e-3bb5-44ea-8adb-56d0cd8f3c09",
   "metadata": {},
   "outputs": [
    {
     "data": {
      "text/plain": [
       "array([[0.1562 , 0.18867, 0.15903],\n",
       "       [0.     , 0.13851, 0.17009],\n",
       "       [0.     , 0.     , 0.1875 ]])"
      ]
     },
     "execution_count": 13,
     "metadata": {},
     "output_type": "execute_result"
    }
   ],
   "source": [
    "idm_nonzero = (results > 0).T\n",
    "\n",
    "idm_cooccurrence = np.zeros((S,S))\n",
    "\n",
    "idm_cooccurrence[0,0] = np.sum(idm_nonzero[0,:] & ~idm_nonzero[1,:] & ~idm_nonzero[2,:])\n",
    "idm_cooccurrence[1,1] = np.sum(~idm_nonzero[0,:] & idm_nonzero[1,:] & ~idm_nonzero[2,:])\n",
    "idm_cooccurrence[2,2] = np.sum(~idm_nonzero[0,:] & ~idm_nonzero[1,:] & idm_nonzero[2,:])\n",
    "\n",
    "idm_cooccurrence[0,1] = np.sum(idm_nonzero[0,:] & idm_nonzero[1,:] & ~idm_nonzero[2,:])\n",
    "idm_cooccurrence[0,2] = np.sum(idm_nonzero[0,:] & ~idm_nonzero[1,:] & idm_nonzero[2,:])\n",
    "\n",
    "idm_cooccurrence[1,2] = np.sum(~idm_nonzero[0,:] & idm_nonzero[1,:] & idm_nonzero[2,:])\n",
    "\n",
    "idm_cooccurrence /= D\n",
    "idm_cooccurrence"
   ]
  },
  {
   "cell_type": "code",
   "execution_count": 14,
   "id": "9f7b41a0-b518-4b83-8a09-65c158a5c75f",
   "metadata": {},
   "outputs": [
    {
     "data": {
      "text/plain": [
       "<AxesSubplot:>"
      ]
     },
     "execution_count": 14,
     "metadata": {},
     "output_type": "execute_result"
    },
    {
     "data": {
      "image/png": "[encoded data removed]",
      "text/plain": [
       "<Figure size 432x288 with 2 Axes>"
      ]
     },
     "metadata": {
      "needs_background": "light"
     },
     "output_type": "display_data"
    }
   ],
   "source": [
    "mask = ~np.triu(np.ones_like(idm_cooccurrence, dtype=bool))\n",
    "heatmap(idm_cooccurrence, mask=mask, vmin=0., vmax=1.)"
   ]
  },
  {
   "cell_type": "markdown",
   "id": "69cf4b12-cc35-4baf-8556-c776fc9ec3e6",
   "metadata": {},
   "source": [
    "## Crank up the interactions further"
   ]
  },
  {
   "cell_type": "code",
   "execution_count": 15,
   "id": "5094756c-98c7-488a-8158-90ce6470b34b",
   "metadata": {},
   "outputs": [
    {
     "data": {
      "text/plain": [
       "array([[ 1. ,  0.5, -0.5],\n",
       "       [ 0.5,  1. ,  0.5],\n",
       "       [-0.5, -0.5,  1. ]])"
      ]
     },
     "execution_count": 15,
     "metadata": {},
     "output_type": "execute_result"
    }
   ],
   "source": [
    "interaction_matrix = np.array([[1,0.5,-0.5],[0.5,1,0.5],[-0.5,-0.5,1]])\n",
    "interaction_matrix"
   ]
  },
  {
   "cell_type": "code",
   "execution_count": 16,
   "id": "fcec8d94-a42c-4862-b8b0-bdfe7c43b061",
   "metadata": {
    "tags": []
   },
   "outputs": [
    {
     "name": "stdout",
     "output_type": "stream",
     "text": [
      "Runtime was 0:00:15.959388 in Hours:Minutes:Seconds.\n"
     ]
    }
   ],
   "source": [
    "start_time = time.time()\n",
    "results = IDM_simulation(concentration=concentration,\n",
    "                interaction_matrix=interaction_matrix,\n",
    "                number_cells=2, seed=seed, \n",
    "                number_samples=number_samples,\n",
    "                frequencies=frequencies)\n",
    "runtime = time.time() - start_time\n",
    "\n",
    "runtime_string = str(datetime.timedelta(seconds=runtime))\n",
    "print('Runtime was {} in Hours:Minutes:Seconds.'.format(runtime_string))"
   ]
  },
  {
   "cell_type": "code",
   "execution_count": 17,
   "id": "aa4c6b60-4da0-4d92-91e1-56a038f12ad8",
   "metadata": {},
   "outputs": [
    {
     "data": {
      "text/plain": [
       "array([[0.14488, 0.20811, 0.14767],\n",
       "       [0.     , 0.1206 , 0.1637 ],\n",
       "       [0.     , 0.     , 0.21504]])"
      ]
     },
     "execution_count": 17,
     "metadata": {},
     "output_type": "execute_result"
    }
   ],
   "source": [
    "idm_nonzero = (results > 0).T\n",
    "\n",
    "idm_cooccurrence = np.zeros((S,S))\n",
    "\n",
    "idm_cooccurrence[0,0] = np.sum(idm_nonzero[0,:] & ~idm_nonzero[1,:] & ~idm_nonzero[2,:])\n",
    "idm_cooccurrence[1,1] = np.sum(~idm_nonzero[0,:] & idm_nonzero[1,:] & ~idm_nonzero[2,:])\n",
    "idm_cooccurrence[2,2] = np.sum(~idm_nonzero[0,:] & ~idm_nonzero[1,:] & idm_nonzero[2,:])\n",
    "\n",
    "idm_cooccurrence[0,1] = np.sum(idm_nonzero[0,:] & idm_nonzero[1,:] & ~idm_nonzero[2,:])\n",
    "idm_cooccurrence[0,2] = np.sum(idm_nonzero[0,:] & ~idm_nonzero[1,:] & idm_nonzero[2,:])\n",
    "\n",
    "idm_cooccurrence[1,2] = np.sum(~idm_nonzero[0,:] & idm_nonzero[1,:] & idm_nonzero[2,:])\n",
    "\n",
    "idm_cooccurrence /= D\n",
    "idm_cooccurrence"
   ]
  },
  {
   "cell_type": "code",
   "execution_count": 18,
   "id": "6e4512cb-3f6a-4853-8025-31ebc944fa7f",
   "metadata": {},
   "outputs": [
    {
     "data": {
      "text/plain": [
       "<AxesSubplot:>"
      ]
     },
     "execution_count": 18,
     "metadata": {},
     "output_type": "execute_result"
    },
    {
     "data": {
      "image/png": "[encoded data removed]",
      "text/plain": [
       "<Figure size 432x288 with 2 Axes>"
      ]
     },
     "metadata": {
      "needs_background": "light"
     },
     "output_type": "display_data"
    }
   ],
   "source": [
    "mask = ~np.triu(np.ones_like(idm_cooccurrence, dtype=bool))\n",
    "heatmap(idm_cooccurrence, mask=mask, vmin=0., vmax=1.)"
   ]
  },
  {
   "cell_type": "markdown",
   "id": "62200943-ddd3-4e99-8756-536668247d4c",
   "metadata": {},
   "source": [
    "## Now at ridiculously high level"
   ]
  },
  {
   "cell_type": "code",
   "execution_count": 19,
   "id": "7c06c4cc-5735-4e9f-9bdd-55c42bb14dfc",
   "metadata": {},
   "outputs": [
    {
     "data": {
      "text/plain": [
       "array([[ 1,  1, -1],\n",
       "       [ 1,  1,  1],\n",
       "       [-1, -1,  1]])"
      ]
     },
     "execution_count": 19,
     "metadata": {},
     "output_type": "execute_result"
    }
   ],
   "source": [
    "interaction_matrix = np.array([[1,1,-1],[1,1,1],[-1,-1,1]])\n",
    "interaction_matrix"
   ]
  },
  {
   "cell_type": "code",
   "execution_count": 20,
   "id": "d616515c-5e29-4f09-bc81-c8cf9dba358c",
   "metadata": {
    "tags": []
   },
   "outputs": [
    {
     "name": "stdout",
     "output_type": "stream",
     "text": [
      "Runtime was 0:00:13.696941 in Hours:Minutes:Seconds.\n"
     ]
    }
   ],
   "source": [
    "start_time = time.time()\n",
    "results = IDM_simulation(concentration=concentration,\n",
    "                interaction_matrix=interaction_matrix,\n",
    "                number_cells=2, seed=seed, \n",
    "                number_samples=number_samples,\n",
    "                frequencies=frequencies)\n",
    "runtime = time.time() - start_time\n",
    "\n",
    "runtime_string = str(datetime.timedelta(seconds=runtime))\n",
    "print('Runtime was {} in Hours:Minutes:Seconds.'.format(runtime_string))"
   ]
  },
  {
   "cell_type": "code",
   "execution_count": 21,
   "id": "d8d4d422-6018-4126-b754-b9370b6e8d36",
   "metadata": {},
   "outputs": [
    {
     "data": {
      "text/plain": [
       "array([[0.11477, 0.22983, 0.13619],\n",
       "       [0.     , 0.11512, 0.13807],\n",
       "       [0.     , 0.     , 0.26602]])"
      ]
     },
     "execution_count": 21,
     "metadata": {},
     "output_type": "execute_result"
    }
   ],
   "source": [
    "idm_nonzero = (results > 0).T\n",
    "\n",
    "idm_cooccurrence = np.zeros((S,S))\n",
    "\n",
    "idm_cooccurrence[0,0] = np.sum(idm_nonzero[0,:] & ~idm_nonzero[1,:] & ~idm_nonzero[2,:])\n",
    "idm_cooccurrence[1,1] = np.sum(~idm_nonzero[0,:] & idm_nonzero[1,:] & ~idm_nonzero[2,:])\n",
    "idm_cooccurrence[2,2] = np.sum(~idm_nonzero[0,:] & ~idm_nonzero[1,:] & idm_nonzero[2,:])\n",
    "\n",
    "idm_cooccurrence[0,1] = np.sum(idm_nonzero[0,:] & idm_nonzero[1,:] & ~idm_nonzero[2,:])\n",
    "idm_cooccurrence[0,2] = np.sum(idm_nonzero[0,:] & ~idm_nonzero[1,:] & idm_nonzero[2,:])\n",
    "\n",
    "idm_cooccurrence[1,2] = np.sum(~idm_nonzero[0,:] & idm_nonzero[1,:] & idm_nonzero[2,:])\n",
    "\n",
    "idm_cooccurrence /= D\n",
    "idm_cooccurrence"
   ]
  },
  {
   "cell_type": "code",
   "execution_count": 22,
   "id": "bfbcde80-24d8-4cd4-8fae-c8de3d406a2c",
   "metadata": {},
   "outputs": [
    {
     "data": {
      "text/plain": [
       "<AxesSubplot:>"
      ]
     },
     "execution_count": 22,
     "metadata": {},
     "output_type": "execute_result"
    },
    {
     "data": {
      "image/png": "[encoded data removed]",
      "text/plain": [
       "<Figure size 432x288 with 2 Axes>"
      ]
     },
     "metadata": {
      "needs_background": "light"
     },
     "output_type": "display_data"
    }
   ],
   "source": [
    "mask = ~np.triu(np.ones_like(idm_cooccurrence, dtype=bool))\n",
    "heatmap(idm_cooccurrence, mask=mask, vmin=0., vmax=1.)"
   ]
  }
 ],
 "metadata": {
  "kernelspec": {
   "display_name": "Python 3",
   "language": "python",
   "name": "python3"
  },
  "language_info": {
   "codemirror_mode": {
    "name": "ipython",
    "version": 3
   },
   "file_extension": ".py",
   "mimetype": "text/x-python",
   "name": "python",
   "nbconvert_exporter": "python",
   "pygments_lexer": "ipython3",
   "version": "3.9.2"
  }
 },
 "nbformat": 4,
 "nbformat_minor": 5
}
