{
 "cells": [
  {
   "cell_type": "code",
   "execution_count": 1,
   "id": "93d74bf9-eb90-43f4-8d82-cb1032034c0e",
   "metadata": {
    "execution": {
     "iopub.execute_input": "2021-09-07T17:58:34.536945Z",
     "iopub.status.busy": "2021-09-07T17:58:34.534898Z",
     "iopub.status.idle": "2021-09-07T17:58:34.868587Z",
     "shell.execute_reply": "2021-09-07T17:58:34.867332Z"
    }
   },
   "outputs": [],
   "source": [
    "import numpy as np\n",
    "import multiprocessing as mp"
   ]
  },
  {
   "cell_type": "code",
   "execution_count": 2,
   "id": "4e1c88d9-5cd2-4b92-a40c-f82587653879",
   "metadata": {
    "execution": {
     "iopub.execute_input": "2021-09-07T17:58:34.875297Z",
     "iopub.status.busy": "2021-09-07T17:58:34.874344Z",
     "iopub.status.idle": "2021-09-07T17:58:37.597975Z",
     "shell.execute_reply": "2021-09-07T17:58:37.596975Z"
    }
   },
   "outputs": [],
   "source": [
    "from glob import glob\n",
    "from analysis_utils.concentrations_MLE import get_DM_MLE"
   ]
  },
  {
   "cell_type": "code",
   "execution_count": 3,
   "id": "bc7fe0d1-e9c5-4bc4-9508-547824a3bba3",
   "metadata": {
    "execution": {
     "iopub.execute_input": "2021-09-07T17:58:37.607101Z",
     "iopub.status.busy": "2021-09-07T17:58:37.605844Z",
     "iopub.status.idle": "2021-09-07T17:58:37.664470Z",
     "shell.execute_reply": "2021-09-07T17:58:37.663513Z"
    }
   },
   "outputs": [],
   "source": [
    "filenames = sorted(list(glob('npzfiles/*.npz')))"
   ]
  },
  {
   "cell_type": "code",
   "execution_count": 4,
   "id": "3b328135-f5f2-4d03-bddf-73763b0d6dad",
   "metadata": {
    "execution": {
     "iopub.execute_input": "2021-09-07T17:58:37.675013Z",
     "iopub.status.busy": "2021-09-07T17:58:37.673908Z",
     "iopub.status.idle": "2021-09-07T18:03:37.245182Z",
     "shell.execute_reply": "2021-09-07T18:03:37.246363Z"
    }
   },
   "outputs": [
    {
     "name": "stdout",
     "output_type": "stream",
     "text": [
      "CPU times: user 325 ms, sys: 821 ms, total: 1.15 s\n",
      "Wall time: 4min 59s\n"
     ]
    }
   ],
   "source": [
    "%%time\n",
    "with mp.get_context(\"spawn\").Pool(40) as pool:\n",
    "    pool.map(get_DM_MLE, filenames, chunksize=1)\n",
    "    pool.close()\n",
    "    pool.join()"
   ]
  }
 ],
 "metadata": {
  "kernelspec": {
   "display_name": "Python 3",
   "language": "python",
   "name": "python3"
  },
  "language_info": {
   "codemirror_mode": {
    "name": "ipython",
    "version": 3
   },
   "file_extension": ".py",
   "mimetype": "text/x-python",
   "name": "python",
   "nbconvert_exporter": "python",
   "pygments_lexer": "ipython3",
   "version": "3.9.2"
  }
 },
 "nbformat": 4,
 "nbformat_minor": 5
}
