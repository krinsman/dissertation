{
 "cells": [
  {
   "cell_type": "code",
   "execution_count": 1,
   "id": "0a57ea4e-3585-4d9b-826f-c9ccaa4de389",
   "metadata": {},
   "outputs": [],
   "source": [
    "from glob import glob\n",
    "\n",
    "filenames = sorted(list(glob('npzfiles/*.npz')))"
   ]
  },
  {
   "cell_type": "code",
   "execution_count": 2,
   "id": "94572c18-6571-42d1-bac6-201df7773c70",
   "metadata": {},
   "outputs": [],
   "source": [
    "import numpy as np\n",
    "from simulations.concentrations.MLE import get_DM_score_function\n",
    "from scipy.optimize import fsolve\n",
    "from scipy.optimize import root_scalar"
   ]
  },
  {
   "cell_type": "code",
   "execution_count": 3,
   "id": "27350a86-30e9-4742-9b53-23351a2a1c07",
   "metadata": {},
   "outputs": [],
   "source": [
    "from analysis_utils.concentrations_MLE import get_DM_MLE"
   ]
  },
  {
   "cell_type": "code",
   "execution_count": 4,
   "id": "b430b84f-b33e-45e6-866f-a34207d01933",
   "metadata": {},
   "outputs": [
    {
     "data": {
      "text/plain": [
       "0"
      ]
     },
     "execution_count": 4,
     "metadata": {},
     "output_type": "execute_result"
    }
   ],
   "source": [
    "get_DM_MLE(filenames[0])"
   ]
  },
  {
   "cell_type": "code",
   "execution_count": 5,
   "id": "98c17117-a548-4f0a-9c8d-de10a2646ad9",
   "metadata": {},
   "outputs": [],
   "source": [
    "npzfile = np.load('concentration_ML_estimates/simulation.001.compositional.npz')"
   ]
  },
  {
   "cell_type": "code",
   "execution_count": 6,
   "id": "0173c2d7-50c9-4bc1-b5d1-b183289a0d2d",
   "metadata": {},
   "outputs": [
    {
     "data": {
      "text/plain": [
       "array([91.49459202])"
      ]
     },
     "execution_count": 6,
     "metadata": {},
     "output_type": "execute_result"
    }
   ],
   "source": [
    "npzfile['whole_sim']"
   ]
  },
  {
   "cell_type": "code",
   "execution_count": 7,
   "id": "c2e37a81-105c-4bb0-8828-c4137d455944",
   "metadata": {},
   "outputs": [
    {
     "data": {
      "text/plain": [
       "array([1.04587561e+02, 3.00658184e+02, 5.94903659e+01, 5.92911795e+01,\n",
       "       4.99736840e+01, 1.45886079e+02, 1.42220010e+02, 1.49163979e+02,\n",
       "       1.07527125e+02, 3.65026691e+01, 1.57513108e+02, 3.93334741e+02,\n",
       "       4.55642228e+01, 4.24522196e+11, 5.47745675e+01, 6.53147027e+01,\n",
       "       0.00000000e+00, 4.05926582e+01, 1.31952548e+11, 7.75473988e+01,\n",
       "       1.25263798e+02, 1.01572081e+02, 2.33643258e+02, 4.13022921e+01,\n",
       "       3.40567524e+01, 1.37069741e+02, 5.28896889e+01, 1.20397866e+02,\n",
       "       4.32745908e+02, 3.84747688e+02])"
      ]
     },
     "execution_count": 7,
     "metadata": {},
     "output_type": "execute_result"
    }
   ],
   "source": [
    "npzfile['medium_batches']"
   ]
  },
  {
   "cell_type": "code",
   "execution_count": 8,
   "id": "c6a546e5-6e1d-4943-b000-8c71720bb430",
   "metadata": {},
   "outputs": [
    {
     "data": {
      "text/plain": [
       "array([           inf,            inf, 4.52850503e+01, ...,\n",
       "       7.86032890e+00,            inf, 2.59201845e+12])"
      ]
     },
     "execution_count": 8,
     "metadata": {},
     "output_type": "execute_result"
    }
   ],
   "source": [
    "npzfile['small_batches']"
   ]
  },
  {
   "cell_type": "markdown",
   "id": "c6d694e0-2416-44d0-bd32-66cc78f0aa12",
   "metadata": {},
   "source": [
    "## Example"
   ]
  },
  {
   "cell_type": "code",
   "execution_count": 9,
   "id": "a374df66-6893-451a-88cf-0333a90f3c75",
   "metadata": {},
   "outputs": [],
   "source": [
    "base_relative_abundances = [1e-4, 1e-3, 1e-2]\n",
    "\n",
    "relative_abundances = [relative_abundance * number\n",
    "                       for relative_abundance \n",
    "                       in base_relative_abundances\n",
    "                       for number in (1,2,5) \n",
    "                       for repeat in range(10)]\n",
    "\n",
    "relative_abundances += [1-sum(relative_abundances)]\n",
    "frequencies = np.array(relative_abundances)\n",
    "\n",
    "npzfile = np.load(filenames[0])\n",
    "droplets = npzfile['droplets']\n",
    "\n",
    "score_function = get_DM_score_function(droplets, frequencies)"
   ]
  },
  {
   "cell_type": "markdown",
   "id": "994e363c-16ce-4d12-a029-f356a333e54d",
   "metadata": {},
   "source": [
    "`fsolve` more general framework/wrapper, but seemed to get better results using more 'targeted' options with `root_scalar` when possible"
   ]
  },
  {
   "cell_type": "code",
   "execution_count": 10,
   "id": "5f5e4451-10ac-42ea-a8c7-402f85b304c3",
   "metadata": {},
   "outputs": [
    {
     "data": {
      "text/plain": [
       "(array([1.57366337e+11]),\n",
       " {'nfev': 84,\n",
       "  'fjac': array([[-1.]]),\n",
       "  'r': array([-5.70812279e-24]),\n",
       "  'qtf': array([8.13151629e-20]),\n",
       "  'fvec': -8.131516293641283e-20},\n",
       " 5,\n",
       " 'The iteration is not making good progress, as measured by the \\n  improvement from the last ten iterations.')"
      ]
     },
     "execution_count": 10,
     "metadata": {},
     "output_type": "execute_result"
    }
   ],
   "source": [
    "fsolve(score_function, 200, full_output=True)"
   ]
  },
  {
   "cell_type": "code",
   "execution_count": 11,
   "id": "a980154f-65e4-4309-9c9f-b97f20e944ba",
   "metadata": {},
   "outputs": [
    {
     "data": {
      "text/plain": [
       "      converged: True\n",
       "           flag: 'converged'\n",
       " function_calls: 17\n",
       "     iterations: 16\n",
       "           root: 91.49459202124932"
      ]
     },
     "execution_count": 11,
     "metadata": {},
     "output_type": "execute_result"
    }
   ],
   "source": [
    "root_scalar(f=score_function, x0=200, bracket=(0.0001,10000))"
   ]
  },
  {
   "cell_type": "code",
   "execution_count": 12,
   "id": "4d995dac-8850-4954-bd07-09b2486cb23e",
   "metadata": {},
   "outputs": [
    {
     "data": {
      "text/plain": [
       "(array([91.49459203]),\n",
       " {'nfev': 10,\n",
       "  'fjac': array([[-1.]]),\n",
       "  'r': array([0.00750787]),\n",
       "  'qtf': array([5.82076609e-11]),\n",
       "  'fvec': 0.0},\n",
       " 1,\n",
       " 'The solution converged.')"
      ]
     },
     "execution_count": 12,
     "metadata": {},
     "output_type": "execute_result"
    }
   ],
   "source": [
    "fsolve(score_function, 100, full_output=True)"
   ]
  },
  {
   "cell_type": "code",
   "execution_count": 13,
   "id": "6e8f0fd1-7a78-4c04-b22e-ccc93b154e9d",
   "metadata": {},
   "outputs": [
    {
     "data": {
      "text/plain": [
       "(array([91.49459203]),\n",
       " {'nfev': 12,\n",
       "  'fjac': array([[-1.]]),\n",
       "  'r': array([0.00376258]),\n",
       "  'qtf': array([-1.80443749e-09]),\n",
       "  'fvec': 0.0},\n",
       " 1,\n",
       " 'The solution converged.')"
      ]
     },
     "execution_count": 13,
     "metadata": {},
     "output_type": "execute_result"
    }
   ],
   "source": [
    "fsolve(score_function, 50, full_output=True)"
   ]
  },
  {
   "cell_type": "code",
   "execution_count": 14,
   "id": "01e707a4-d40f-445d-962d-c45b6f769217",
   "metadata": {},
   "outputs": [
    {
     "data": {
      "text/plain": [
       "(array([1.59367819e+11]),\n",
       " {'nfev': 83,\n",
       "  'fjac': array([[-1.]]),\n",
       "  'r': array([0.]),\n",
       "  'qtf': array([1.08420217e-19]),\n",
       "  'fvec': -1.0842021724855044e-19},\n",
       " 5,\n",
       " 'The iteration is not making good progress, as measured by the \\n  improvement from the last ten iterations.')"
      ]
     },
     "execution_count": 14,
     "metadata": {},
     "output_type": "execute_result"
    }
   ],
   "source": [
    "fsolve(score_function, 150, full_output=True)"
   ]
  },
  {
   "cell_type": "code",
   "execution_count": 39,
   "id": "894a33ba-7917-4ace-a8af-f9190fbae370",
   "metadata": {},
   "outputs": [
    {
     "data": {
      "text/plain": [
       "      converged: True\n",
       "           flag: 'converged'\n",
       " function_calls: 17\n",
       "     iterations: 16\n",
       "           root: 91.49459202124932"
      ]
     },
     "execution_count": 39,
     "metadata": {},
     "output_type": "execute_result"
    }
   ],
   "source": [
    "root_scalar(f=score_function, x0=150, bracket=(0.0001,10000))"
   ]
  },
  {
   "cell_type": "code",
   "execution_count": 15,
   "id": "3dfc9cb2-ceca-440e-a4bf-595674fc8c5e",
   "metadata": {},
   "outputs": [
    {
     "data": {
      "text/plain": [
       "(array([1.07352155e+11]),\n",
       " {'nfev': 89,\n",
       "  'fjac': array([[-1.]]),\n",
       "  'r': array([-1.04711528e-26]),\n",
       "  'qtf': array([2.16840434e-19]),\n",
       "  'fvec': -2.168404344971009e-19},\n",
       " 5,\n",
       " 'The iteration is not making good progress, as measured by the \\n  improvement from the last ten iterations.')"
      ]
     },
     "execution_count": 15,
     "metadata": {},
     "output_type": "execute_result"
    }
   ],
   "source": [
    "fsolve(score_function, 175, full_output=True)"
   ]
  },
  {
   "cell_type": "code",
   "execution_count": 16,
   "id": "7744b548-ad6d-4b15-a3e5-1f95cea93ddd",
   "metadata": {},
   "outputs": [
    {
     "data": {
      "text/plain": [
       "      converged: True\n",
       "           flag: 'converged'\n",
       " function_calls: 17\n",
       "     iterations: 16\n",
       "           root: 91.49459202124932"
      ]
     },
     "execution_count": 16,
     "metadata": {},
     "output_type": "execute_result"
    }
   ],
   "source": [
    "root_scalar(f=score_function, x0=175, bracket=(0.0001,10000))"
   ]
  },
  {
   "cell_type": "code",
   "execution_count": 17,
   "id": "e2f1e0e5-abcf-4337-9686-01f1cb7ab4eb",
   "metadata": {},
   "outputs": [
    {
     "data": {
      "text/plain": [
       "(array([3.62569712e+11]),\n",
       " {'nfev': 75,\n",
       "  'fjac': array([[-1.]]),\n",
       "  'r': array([-6.8601629e-31]),\n",
       "  'qtf': array([8.13151629e-20]),\n",
       "  'fvec': 0.0},\n",
       " 1,\n",
       " 'The solution converged.')"
      ]
     },
     "execution_count": 17,
     "metadata": {},
     "output_type": "execute_result"
    }
   ],
   "source": [
    "fsolve(score_function, 160, full_output=True)"
   ]
  },
  {
   "cell_type": "code",
   "execution_count": 18,
   "id": "4d31b7ff-37b1-435e-8bbe-21f6518ca79f",
   "metadata": {},
   "outputs": [
    {
     "data": {
      "text/plain": [
       "      converged: True\n",
       "           flag: 'converged'\n",
       " function_calls: 17\n",
       "     iterations: 16\n",
       "           root: 91.49459202124932"
      ]
     },
     "execution_count": 18,
     "metadata": {},
     "output_type": "execute_result"
    }
   ],
   "source": [
    "root_scalar(f=score_function, x0=160, bracket=(0.0001,10000))"
   ]
  },
  {
   "cell_type": "code",
   "execution_count": 19,
   "id": "f2a6da0b-1a9e-4d42-801c-c28e4d6a77e7",
   "metadata": {},
   "outputs": [
    {
     "data": {
      "text/plain": [
       "(array([2.31858051e+11]),\n",
       " {'nfev': 89,\n",
       "  'fjac': array([[-1.]]),\n",
       "  'r': array([-9.92917198e-23]),\n",
       "  'qtf': array([2.71050543e-20]),\n",
       "  'fvec': -2.710505431213761e-20},\n",
       " 5,\n",
       " 'The iteration is not making good progress, as measured by the \\n  improvement from the last ten iterations.')"
      ]
     },
     "execution_count": 19,
     "metadata": {},
     "output_type": "execute_result"
    }
   ],
   "source": [
    "fsolve(score_function, 155, full_output=True)"
   ]
  },
  {
   "cell_type": "code",
   "execution_count": 20,
   "id": "489d2090-fa26-4b5f-b2e8-c562ede9c5c4",
   "metadata": {},
   "outputs": [
    {
     "data": {
      "text/plain": [
       "      converged: True\n",
       "           flag: 'converged'\n",
       " function_calls: 17\n",
       "     iterations: 16\n",
       "           root: 91.49459202124932"
      ]
     },
     "execution_count": 20,
     "metadata": {},
     "output_type": "execute_result"
    }
   ],
   "source": [
    "root_scalar(f=score_function, x0=155, bracket=(0.0001,10000))"
   ]
  },
  {
   "cell_type": "markdown",
   "id": "6b26de58-f8f4-4643-83c3-da19b1061fc7",
   "metadata": {},
   "source": [
    "#### score function evaluated at some values"
   ]
  },
  {
   "cell_type": "code",
   "execution_count": 22,
   "id": "24e96159-2ee5-4e97-942b-c6fc1e8ea974",
   "metadata": {},
   "outputs": [
    {
     "data": {
      "text/plain": [
       "0.8972832314902917"
      ]
     },
     "execution_count": 22,
     "metadata": {},
     "output_type": "execute_result"
    }
   ],
   "source": [
    "score_function(50)"
   ]
  },
  {
   "cell_type": "code",
   "execution_count": 23,
   "id": "d1dd3fb3-6c20-4105-886f-67a144a90d3f",
   "metadata": {},
   "outputs": [
    {
     "data": {
      "text/plain": [
       "-0.024706540018087253"
      ]
     },
     "execution_count": 23,
     "metadata": {},
     "output_type": "execute_result"
    }
   ],
   "source": [
    "score_function(100)"
   ]
  },
  {
   "cell_type": "code",
   "execution_count": 24,
   "id": "53c4ca83-46dc-4ed0-ab5e-30d06acde3df",
   "metadata": {},
   "outputs": [
    {
     "data": {
      "text/plain": [
       "-0.02493790560401976"
      ]
     },
     "execution_count": 24,
     "metadata": {},
     "output_type": "execute_result"
    }
   ],
   "source": [
    "score_function(100.10625)"
   ]
  },
  {
   "cell_type": "code",
   "execution_count": 25,
   "id": "2c40483a-5bc6-4974-a485-50c180ebaac1",
   "metadata": {},
   "outputs": [
    {
     "data": {
      "text/plain": [
       "-0.025382514810189605"
      ]
     },
     "execution_count": 25,
     "metadata": {},
     "output_type": "execute_result"
    }
   ],
   "source": [
    "score_function(100.3125)"
   ]
  },
  {
   "cell_type": "code",
   "execution_count": 26,
   "id": "4c55ceb2-b8d9-45d2-85c8-3e757c84aebf",
   "metadata": {},
   "outputs": [
    {
     "data": {
      "text/plain": [
       "-0.02604495780542493"
      ]
     },
     "execution_count": 26,
     "metadata": {},
     "output_type": "execute_result"
    }
   ],
   "source": [
    "score_function(100.625)"
   ]
  },
  {
   "cell_type": "code",
   "execution_count": 27,
   "id": "1f070d68-386d-4b18-9a1e-c571baf501c0",
   "metadata": {},
   "outputs": [
    {
     "data": {
      "text/plain": [
       "-0.027330252050887793"
      ]
     },
     "execution_count": 27,
     "metadata": {},
     "output_type": "execute_result"
    }
   ],
   "source": [
    "score_function(101.25)"
   ]
  },
  {
   "cell_type": "code",
   "execution_count": 28,
   "id": "b6f92d89-af4f-4170-87d2-88fc84503cdf",
   "metadata": {},
   "outputs": [
    {
     "data": {
      "text/plain": [
       "-0.029749218316283077"
      ]
     },
     "execution_count": 28,
     "metadata": {},
     "output_type": "execute_result"
    }
   ],
   "source": [
    "score_function(102.5)"
   ]
  },
  {
   "cell_type": "code",
   "execution_count": 29,
   "id": "224ed888-beda-41e5-b511-d4c64e9e2922",
   "metadata": {},
   "outputs": [
    {
     "data": {
      "text/plain": [
       "-0.034030697657726705"
      ]
     },
     "execution_count": 29,
     "metadata": {},
     "output_type": "execute_result"
    }
   ],
   "source": [
    "score_function(105)"
   ]
  },
  {
   "cell_type": "code",
   "execution_count": 30,
   "id": "9687ce30-6212-4758-a4be-9e347eb4fd2c",
   "metadata": {},
   "outputs": [
    {
     "data": {
      "text/plain": [
       "-0.040713346359552816"
      ]
     },
     "execution_count": 30,
     "metadata": {},
     "output_type": "execute_result"
    }
   ],
   "source": [
    "score_function(110)"
   ]
  },
  {
   "cell_type": "code",
   "execution_count": 31,
   "id": "c4836503-2e31-4cee-884c-d02960aac0c4",
   "metadata": {},
   "outputs": [
    {
     "data": {
      "text/plain": [
       "-0.04864478114177473"
      ]
     },
     "execution_count": 31,
     "metadata": {},
     "output_type": "execute_result"
    }
   ],
   "source": [
    "score_function(120)"
   ]
  },
  {
   "cell_type": "code",
   "execution_count": 32,
   "id": "983c0ae4-89b2-496f-8a4f-0289e81d68f1",
   "metadata": {},
   "outputs": [
    {
     "data": {
      "text/plain": [
       "-0.04139854936511256"
      ]
     },
     "execution_count": 32,
     "metadata": {},
     "output_type": "execute_result"
    }
   ],
   "source": [
    "score_function(200)"
   ]
  },
  {
   "cell_type": "code",
   "execution_count": 33,
   "id": "cdc83aea-a42a-48e0-9eca-4514967ffb4f",
   "metadata": {},
   "outputs": [
    {
     "data": {
      "text/plain": [
       "-8.14231771073537e-06"
      ]
     },
     "execution_count": 33,
     "metadata": {},
     "output_type": "execute_result"
    }
   ],
   "source": [
    "score_function(20000)"
   ]
  },
  {
   "cell_type": "markdown",
   "id": "8f09c03f-0a68-4511-a27a-9b1d67ec8a59",
   "metadata": {},
   "source": [
    "hm so this seems to have the same shape as when $\\zeta_C=1$, except that the curve/whatever is much less steep/shallower (I guess), which presumably reflects how much more difficult it is to circle in on the correct value"
   ]
  },
  {
   "cell_type": "markdown",
   "id": "28e76327-25c3-46d9-9620-dceb05759268",
   "metadata": {},
   "source": [
    "## Does this really work in general?"
   ]
  },
  {
   "cell_type": "code",
   "execution_count": 34,
   "id": "341ccdba-9fd7-421a-a51d-a6eac8c61bcd",
   "metadata": {},
   "outputs": [
    {
     "data": {
      "text/plain": [
       "0"
      ]
     },
     "execution_count": 34,
     "metadata": {},
     "output_type": "execute_result"
    }
   ],
   "source": [
    "get_DM_MLE(filenames[17])"
   ]
  },
  {
   "cell_type": "code",
   "execution_count": 35,
   "id": "56126cec-6499-4a12-abc6-0c592a723492",
   "metadata": {},
   "outputs": [],
   "source": [
    "npzfile = np.load('concentration_ML_estimates/simulation.018.compositional.npz')"
   ]
  },
  {
   "cell_type": "code",
   "execution_count": 36,
   "id": "db5e9b0a-27f8-4e0f-ab7b-be5616547fb4",
   "metadata": {},
   "outputs": [
    {
     "data": {
      "text/plain": [
       "array([102.41137757])"
      ]
     },
     "execution_count": 36,
     "metadata": {},
     "output_type": "execute_result"
    }
   ],
   "source": [
    "npzfile['whole_sim']"
   ]
  },
  {
   "cell_type": "code",
   "execution_count": 37,
   "id": "3ccdd510-dc6c-44b3-9d74-2de42b6f080a",
   "metadata": {},
   "outputs": [
    {
     "data": {
      "text/plain": [
       "array([           inf, 1.00404512e+02, 2.36957313e+10,            inf,\n",
       "       1.01065302e+02, 1.39049554e+02, 3.93718979e+01, 5.30393926e+01,\n",
       "       8.79323611e+11, 1.96092853e+02, 1.90109334e+02, 1.19229740e+02,\n",
       "       1.21026909e+02, 8.06011844e+01, 5.38672243e+01, 7.94434926e+01,\n",
       "       3.25675627e+01, 1.17135019e+02, 7.68533608e+01, 6.38216894e+01,\n",
       "       2.54083098e+02, 4.87343768e+01, 1.03115993e+02, 8.79596094e+01,\n",
       "       5.51119041e+01, 6.25290278e+01, 1.96075000e+02, 1.29371506e+02,\n",
       "       4.81058600e+02, 6.03377721e+01])"
      ]
     },
     "execution_count": 37,
     "metadata": {},
     "output_type": "execute_result"
    }
   ],
   "source": [
    "npzfile['medium_batches']"
   ]
  },
  {
   "cell_type": "code",
   "execution_count": 38,
   "id": "517127a6-3c0c-4341-b8e6-aa817b66b62b",
   "metadata": {},
   "outputs": [
    {
     "data": {
      "text/plain": [
       "array([22.57935542,         inf,         inf, ..., 24.78715696,\n",
       "       21.06964914, 20.87074693])"
      ]
     },
     "execution_count": 38,
     "metadata": {},
     "output_type": "execute_result"
    }
   ],
   "source": [
    "npzfile['small_batches']"
   ]
  }
 ],
 "metadata": {
  "kernelspec": {
   "display_name": "Python 3",
   "language": "python",
   "name": "python3"
  },
  "language_info": {
   "codemirror_mode": {
    "name": "ipython",
    "version": 3
   },
   "file_extension": ".py",
   "mimetype": "text/x-python",
   "name": "python",
   "nbconvert_exporter": "python",
   "pygments_lexer": "ipython3",
   "version": "3.9.2"
  }
 },
 "nbformat": 4,
 "nbformat_minor": 5
}
