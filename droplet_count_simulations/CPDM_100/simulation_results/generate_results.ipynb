{
 "cells": [
  {
   "cell_type": "code",
   "execution_count": 1,
   "id": "irish-crowd",
   "metadata": {
    "execution": {
     "iopub.execute_input": "2021-06-02T11:49:29.563593Z",
     "iopub.status.busy": "2021-06-02T11:49:29.561935Z",
     "iopub.status.idle": "2021-06-02T11:49:30.734598Z",
     "shell.execute_reply": "2021-06-02T11:49:30.733107Z"
    }
   },
   "outputs": [],
   "source": [
    "from simulations.utils.smart_execute_notebook import smart_execute_notebook\n",
    "import multiprocessing as mp\n",
    "from datetime import datetime\n",
    "import traceback"
   ]
  },
  {
   "cell_type": "code",
   "execution_count": 2,
   "id": "experimental-punishment",
   "metadata": {
    "execution": {
     "iopub.execute_input": "2021-06-02T11:49:30.743313Z",
     "iopub.status.busy": "2021-06-02T11:49:30.741864Z",
     "iopub.status.idle": "2021-06-02T11:49:30.744836Z",
     "shell.execute_reply": "2021-06-02T11:49:30.746034Z"
    }
   },
   "outputs": [],
   "source": [
    "number_simulations = 500\n",
    "number_samples = int(15e6)\n",
    "rate = 2\n",
    "entropy = 42\n",
    "concentration = 100.0"
   ]
  },
  {
   "cell_type": "code",
   "execution_count": 3,
   "id": "progressive-giant",
   "metadata": {
    "execution": {
     "iopub.execute_input": "2021-06-02T11:49:30.753949Z",
     "iopub.status.busy": "2021-06-02T11:49:30.752519Z",
     "iopub.status.idle": "2021-06-02T11:49:30.755473Z",
     "shell.execute_reply": "2021-06-02T11:49:30.756646Z"
    }
   },
   "outputs": [],
   "source": [
    "simulation_numbers = list(range(1, number_simulations+1))"
   ]
  },
  {
   "cell_type": "code",
   "execution_count": 4,
   "id": "industrial-blade",
   "metadata": {
    "execution": {
     "iopub.execute_input": "2021-06-02T11:49:30.764638Z",
     "iopub.status.busy": "2021-06-02T11:49:30.763207Z",
     "iopub.status.idle": "2021-06-02T11:49:30.767496Z",
     "shell.execute_reply": "2021-06-02T11:49:30.766258Z"
    }
   },
   "outputs": [],
   "source": [
    "prettify = lambda integer: str(integer).zfill(len(str(number_simulations)))"
   ]
  },
  {
   "cell_type": "code",
   "execution_count": 5,
   "id": "coupled-brooklyn",
   "metadata": {
    "execution": {
     "iopub.execute_input": "2021-06-02T11:49:30.778976Z",
     "iopub.status.busy": "2021-06-02T11:49:30.777506Z",
     "iopub.status.idle": "2021-06-02T11:49:30.780506Z",
     "shell.execute_reply": "2021-06-02T11:49:30.781682Z"
    },
    "tags": []
   },
   "outputs": [],
   "source": [
    "input_notebook_names = ['notebook_template.ipynb' for simulation_number in simulation_numbers]\n",
    "\n",
    "output_notebook_names = ['notebook_logs/results_log.{}.ag.ipynb'.format(prettify(simulation_number))\n",
    "                        for simulation_number in simulation_numbers]\n",
    "\n",
    "parameter_dicts = [{'number_simulations':number_simulations, 'simulation_number':simulation_number,\n",
    "                   'number_samples':number_samples, 'rate':rate, 'entropy':entropy, \n",
    "                    'concentration': concentration}\n",
    "                  for simulation_number in simulation_numbers]"
   ]
  },
  {
   "cell_type": "code",
   "execution_count": 6,
   "id": "endless-jungle",
   "metadata": {
    "execution": {
     "iopub.execute_input": "2021-06-02T11:49:30.789942Z",
     "iopub.status.busy": "2021-06-02T11:49:30.788499Z",
     "iopub.status.idle": "2021-06-02T11:49:30.791467Z",
     "shell.execute_reply": "2021-06-02T11:49:30.792637Z"
    }
   },
   "outputs": [],
   "source": [
    "parallel_input = [[input_notebook_name, output_notebook_name, parameter_dict]\n",
    "                 for input_notebook_name, output_notebook_name, parameter_dict\n",
    "                 in zip(input_notebook_names, output_notebook_names, parameter_dicts)]"
   ]
  },
  {
   "cell_type": "code",
   "execution_count": 7,
   "id": "artificial-perception",
   "metadata": {
    "execution": {
     "iopub.execute_input": "2021-06-02T11:49:30.803946Z",
     "iopub.status.busy": "2021-06-02T11:49:30.802481Z",
     "iopub.status.idle": "2021-06-02T11:51:27.917207Z",
     "shell.execute_reply": "2021-06-02T11:51:27.916086Z"
    },
    "tags": []
   },
   "outputs": [
    {
     "name": "stdout",
     "output_type": "stream",
     "text": [
      "CPU times: user 1.18 s, sys: 765 ms, total: 1.95 s\n",
      "Wall time: 1min 57s\n"
     ]
    }
   ],
   "source": [
    "%%time\n",
    "try:\n",
    "    with mp.get_context(\"spawn\").Pool(40) as pool:\n",
    "        pool.starmap(smart_execute_notebook, parallel_input, chunksize=1)\n",
    "        pool.close()\n",
    "        pool.join()\n",
    "# These errors usually don't seem to actually matter. All of the results still get produced\n",
    "# and I'm not sure what the cause is, and I don't really care. Maybe it's the %%time.\n",
    "# I just want some record of how slow this is, is that so much to ask? yes I get that a\n",
    "# Jupyter cell magic probably is not the correct way to do it, but I'm a small person who\n",
    "# wants to stick what they're familiar and comfortable with sometimes, OK? Sorry...\n",
    "except RuntimeError as error_message:\n",
    "    timestamp_filename = datetime.now().strftime('%m-%d-%Y.at.%H_%M_%S.log')\n",
    "    with open('error_logs/{}'.format(timestamp_filename), 'a') as file_pointer:\n",
    "        file_pointer.write(str(error_message))\n",
    "        file_pointer.write(traceback.format_exc())"
   ]
  }
 ],
 "metadata": {
  "kernelspec": {
   "display_name": "Python 3",
   "language": "python",
   "name": "python3"
  },
  "language_info": {
   "codemirror_mode": {
    "name": "ipython",
    "version": 3
   },
   "file_extension": ".py",
   "mimetype": "text/x-python",
   "name": "python",
   "nbconvert_exporter": "python",
   "pygments_lexer": "ipython3",
   "version": "3.9.2"
  }
 },
 "nbformat": 4,
 "nbformat_minor": 5
}
