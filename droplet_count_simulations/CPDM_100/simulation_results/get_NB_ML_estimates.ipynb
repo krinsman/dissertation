{
 "cells": [
  {
   "cell_type": "code",
   "execution_count": 1,
   "id": "93d74bf9-eb90-43f4-8d82-cb1032034c0e",
   "metadata": {
    "execution": {
     "iopub.execute_input": "2021-09-09T19:36:35.563818Z",
     "iopub.status.busy": "2021-09-09T19:36:35.562390Z",
     "iopub.status.idle": "2021-09-09T19:36:35.848044Z",
     "shell.execute_reply": "2021-09-09T19:36:35.848831Z"
    }
   },
   "outputs": [],
   "source": [
    "import numpy as np\n",
    "import multiprocessing as mp"
   ]
  },
  {
   "cell_type": "code",
   "execution_count": 2,
   "id": "4e1c88d9-5cd2-4b92-a40c-f82587653879",
   "metadata": {
    "execution": {
     "iopub.execute_input": "2021-09-09T19:36:35.854926Z",
     "iopub.status.busy": "2021-09-09T19:36:35.854308Z",
     "iopub.status.idle": "2021-09-09T19:36:38.188494Z",
     "shell.execute_reply": "2021-09-09T19:36:38.187945Z"
    },
    "tags": []
   },
   "outputs": [],
   "source": [
    "from glob import glob\n",
    "from analysis_utils.concentrations_MLE import get_NB_MLE"
   ]
  },
  {
   "cell_type": "code",
   "execution_count": 3,
   "id": "bc7fe0d1-e9c5-4bc4-9508-547824a3bba3",
   "metadata": {
    "execution": {
     "iopub.execute_input": "2021-09-09T19:36:38.193835Z",
     "iopub.status.busy": "2021-09-09T19:36:38.193222Z",
     "iopub.status.idle": "2021-09-09T19:36:38.198852Z",
     "shell.execute_reply": "2021-09-09T19:36:38.199372Z"
    }
   },
   "outputs": [],
   "source": [
    "filenames = sorted(list(glob('npzfiles/*.npz')))"
   ]
  },
  {
   "cell_type": "code",
   "execution_count": 4,
   "id": "3b328135-f5f2-4d03-bddf-73763b0d6dad",
   "metadata": {
    "execution": {
     "iopub.execute_input": "2021-09-09T19:36:38.205471Z",
     "iopub.status.busy": "2021-09-09T19:36:38.204834Z",
     "iopub.status.idle": "2021-09-09T20:08:27.479030Z",
     "shell.execute_reply": "2021-09-09T20:08:27.480494Z"
    }
   },
   "outputs": [
    {
     "name": "stdout",
     "output_type": "stream",
     "text": [
      "CPU times: user 1.18 s, sys: 1.02 s, total: 2.2 s\n",
      "Wall time: 31min 49s\n"
     ]
    }
   ],
   "source": [
    "%%time\n",
    "with mp.get_context(\"spawn\").Pool(25) as pool:\n",
    "    pool.map(get_NB_MLE, filenames, chunksize=1)\n",
    "    pool.close()\n",
    "    pool.join()"
   ]
  }
 ],
 "metadata": {
  "kernelspec": {
   "display_name": "Python 3",
   "language": "python",
   "name": "python3"
  },
  "language_info": {
   "codemirror_mode": {
    "name": "ipython",
    "version": 3
   },
   "file_extension": ".py",
   "mimetype": "text/x-python",
   "name": "python",
   "nbconvert_exporter": "python",
   "pygments_lexer": "ipython3",
   "version": "3.9.2"
  }
 },
 "nbformat": 4,
 "nbformat_minor": 5
}
