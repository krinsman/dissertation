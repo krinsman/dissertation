{
 "cells": [
  {
   "cell_type": "code",
   "execution_count": 1,
   "id": "2de2f481-66d1-4d4d-a7aa-a3640fff7e85",
   "metadata": {},
   "outputs": [],
   "source": [
    "import numpy as np\n",
    "import multiprocessing as mp"
   ]
  },
  {
   "cell_type": "code",
   "execution_count": 2,
   "id": "334d3dbd-c8e4-4f49-a9ea-95ddf50a6c74",
   "metadata": {},
   "outputs": [],
   "source": [
    "from glob import glob\n",
    "from analysis_utils.estimated_concentrations import get_concentration_estimates"
   ]
  },
  {
   "cell_type": "code",
   "execution_count": 3,
   "id": "e9abb720-2e4c-462e-9b1d-f65fb3a6bf43",
   "metadata": {},
   "outputs": [],
   "source": [
    "filenames = sorted(list(glob('npzfiles/*.npz')))"
   ]
  },
  {
   "cell_type": "code",
   "execution_count": 4,
   "id": "2dd896cf-b8e4-4c13-b126-e0b901b868b9",
   "metadata": {},
   "outputs": [
    {
     "name": "stdout",
     "output_type": "stream",
     "text": [
      "CPU times: user 209 ms, sys: 239 ms, total: 448 ms\n",
      "Wall time: 6min 46s\n"
     ]
    }
   ],
   "source": [
    "%%time\n",
    "with mp.get_context(\"spawn\").Pool(5) as pool:\n",
    "    pool.map(get_concentration_estimates, filenames, chunksize=1)\n",
    "    pool.close()\n",
    "    pool.join()"
   ]
  }
 ],
 "metadata": {
  "kernelspec": {
   "display_name": "Python 3",
   "language": "python",
   "name": "python3"
  },
  "language_info": {
   "codemirror_mode": {
    "name": "ipython",
    "version": 3
   },
   "file_extension": ".py",
   "mimetype": "text/x-python",
   "name": "python",
   "nbconvert_exporter": "python",
   "pygments_lexer": "ipython3",
   "version": "3.9.2"
  }
 },
 "nbformat": 4,
 "nbformat_minor": 5
}
