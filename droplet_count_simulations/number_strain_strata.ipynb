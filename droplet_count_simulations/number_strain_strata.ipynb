{
 "cells": [
  {
   "cell_type": "code",
   "execution_count": 1,
   "id": "95663e3e-4857-48a1-8053-83fa31e3e8d9",
   "metadata": {},
   "outputs": [],
   "source": [
    "import matplotlib.ticker as mtick\n",
    "import matplotlib.pyplot as plt\n",
    "import seaborn as sns\n",
    "import pandas as pd\n",
    "import numpy as np\n",
    "import json"
   ]
  },
  {
   "cell_type": "code",
   "execution_count": 2,
   "id": "c4f5ac3c-8441-49dd-9a7d-e328c8ea08d7",
   "metadata": {},
   "outputs": [
    {
     "data": {
      "text/plain": [
       "{'zero_strain': 0.1353352832366127,\n",
       " 'one_strain': 0.28278431062674836,\n",
       " 'two_strain': 0.28220408451571094,\n",
       " 'three_strain': 0.1793916362847235,\n",
       " 'four_strain': 0.08172909563542519,\n",
       " 'five_strain': 0.028465155323010822,\n",
       " 'more_strains': 0.010090434377768503}"
      ]
     },
     "execution_count": 2,
     "metadata": {},
     "output_type": "execute_result"
    }
   ],
   "source": [
    "with open('multi_strain_probabilities.json', 'r') as file_pointer:\n",
    "    expected_probs = json.load(file_pointer)\n",
    "expected_probs"
   ]
  },
  {
   "cell_type": "code",
   "execution_count": 3,
   "id": "9345294a-505a-4651-aa6b-9ab0b1312db0",
   "metadata": {},
   "outputs": [
    {
     "data": {
      "text/plain": [
       "float"
      ]
     },
     "execution_count": 3,
     "metadata": {},
     "output_type": "execute_result"
    }
   ],
   "source": [
    "type(expected_probs['zero_strain'])"
   ]
  },
  {
   "cell_type": "code",
   "execution_count": 4,
   "id": "3b0be125-0381-49a3-aa02-2bb1ea0b0768",
   "metadata": {},
   "outputs": [
    {
     "data": {
      "text/plain": [
       "{'0': 0.1353319184,\n",
       " '1': 0.2827983452,\n",
       " '2': 0.2821988632,\n",
       " '3': 0.17938818106666668,\n",
       " '4': 0.0817260316,\n",
       " '5': 0.02846809226666667,\n",
       " '6': 0.010088568266666667}"
      ]
     },
     "execution_count": 4,
     "metadata": {},
     "output_type": "execute_result"
    }
   ],
   "source": [
    "with open('catpaw_mahjong/simulation_results/multi_strain_probabilities.json', 'r') as file_pointer:\n",
    "    hTPMH_probs = json.load(file_pointer)\n",
    "hTPMH_probs"
   ]
  },
  {
   "cell_type": "code",
   "execution_count": 5,
   "id": "a3536db5-5fb6-442f-a461-78c338414408",
   "metadata": {},
   "outputs": [
    {
     "data": {
      "text/plain": [
       "{'0': 0.150190624,\n",
       " '1': 0.29242028600000003,\n",
       " '2': 0.2782545630666667,\n",
       " '3': 0.17017038666666665,\n",
       " '4': 0.07496654186666667,\n",
       " '5': 0.025327604,\n",
       " '6': 0.0086699944}"
      ]
     },
     "execution_count": 5,
     "metadata": {},
     "output_type": "execute_result"
    }
   ],
   "source": [
    "with open('CECNBDM/simulation_results/multi_strain_probabilities.json', 'r') as file_pointer:\n",
    "    hExhNBDM_probs = json.load(file_pointer)\n",
    "hExhNBDM_probs"
   ]
  },
  {
   "cell_type": "code",
   "execution_count": 6,
   "id": "9a4b7a37-5067-4560-98d5-7382fa3bd06f",
   "metadata": {},
   "outputs": [
    {
     "data": {
      "text/plain": [
       "{'0': 0.13533756786666667,\n",
       " '1': 0.298749422,\n",
       " '2': 0.28853486079999996,\n",
       " '3': 0.1731596712,\n",
       " '4': 0.07332233493333333,\n",
       " '5': 0.02348675373333333,\n",
       " '6': 0.007409389466666667}"
      ]
     },
     "execution_count": 6,
     "metadata": {},
     "output_type": "execute_result"
    }
   ],
   "source": [
    "with open('CECPDM/simulation_results/multi_strain_probabilities.json', 'r') as file_pointer:\n",
    "    hExhPoDM_probs = json.load(file_pointer)\n",
    "hExhPoDM_probs"
   ]
  },
  {
   "cell_type": "code",
   "execution_count": 7,
   "id": "bfe01ea0-3120-4fbe-8f91-4bacefd3c1f7",
   "metadata": {},
   "outputs": [
    {
     "data": {
      "text/plain": [
       "{'0': 0.13830266493333332,\n",
       " '1': 0.28571542986666665,\n",
       " '2': 0.2818987233333333,\n",
       " '3': 0.17718011213333335,\n",
       " '4': 0.07981210173333333,\n",
       " '5': 0.027484619999999998,\n",
       " '6': 0.009606348}"
      ]
     },
     "execution_count": 7,
     "metadata": {},
     "output_type": "execute_result"
    }
   ],
   "source": [
    "with open('CNBDM/simulation_results/multi_strain_probabilities.json', 'r') as file_pointer:\n",
    "    hNBDM_1_probs = json.load(file_pointer)\n",
    "hNBDM_1_probs"
   ]
  },
  {
   "cell_type": "code",
   "execution_count": 8,
   "id": "f8dbd5e8-33b8-49f6-b2b9-94a461182901",
   "metadata": {},
   "outputs": [
    {
     "data": {
      "text/plain": [
       "{'0': 0.13534243973333332,\n",
       " '1': 0.28589002360000004,\n",
       " '2': 0.2849583806666667,\n",
       " '3': 0.17878480466666666,\n",
       " '4': 0.07945546413333333,\n",
       " '5': 0.026689391200000002,\n",
       " '6': 0.008879496}"
      ]
     },
     "execution_count": 8,
     "metadata": {},
     "output_type": "execute_result"
    }
   ],
   "source": [
    "with open('CPDM/simulation_results/multi_strain_probabilities.json', 'r') as file_pointer:\n",
    "    hPoDM_1_probs = json.load(file_pointer)\n",
    "hPoDM_1_probs"
   ]
  },
  {
   "cell_type": "code",
   "execution_count": 9,
   "id": "ea73a13d-46dc-4bf4-b240-73a8b6def4bd",
   "metadata": {},
   "outputs": [
    {
     "data": {
      "text/plain": [
       "{'0': 0.13536060413333334,\n",
       " '1': 0.28282506413333336,\n",
       " '2': 0.28219629293333337,\n",
       " '3': 0.17936617373333336,\n",
       " '4': 0.08171282693333334,\n",
       " '5': 0.02845379586666667,\n",
       " '6': 0.010085242266666666}"
      ]
     },
     "execution_count": 9,
     "metadata": {},
     "output_type": "execute_result"
    }
   ],
   "source": [
    "with open('CNBDM_100/simulation_results/multi_strain_probabilities.json', 'r') as file_pointer:\n",
    "    hNBDM_100_probs = json.load(file_pointer)\n",
    "hNBDM_100_probs"
   ]
  },
  {
   "cell_type": "code",
   "execution_count": 10,
   "id": "1f92ecbf-7ecd-49d0-b473-d0cf7888ad87",
   "metadata": {},
   "outputs": [
    {
     "data": {
      "text/plain": [
       "{'0': 0.13533884906666666,\n",
       " '1': 0.2828169401333333,\n",
       " '2': 0.2822337612,\n",
       " '3': 0.17938802173333332,\n",
       " '4': 0.081700774,\n",
       " '5': 0.028446397999999998,\n",
       " '6': 0.010075255866666665}"
      ]
     },
     "execution_count": 10,
     "metadata": {},
     "output_type": "execute_result"
    }
   ],
   "source": [
    "with open('CPDM_100/simulation_results/multi_strain_probabilities.json', 'r') as file_pointer:\n",
    "    hPoDM_100_probs = json.load(file_pointer)\n",
    "hPoDM_100_probs"
   ]
  },
  {
   "cell_type": "code",
   "execution_count": 11,
   "id": "16cedb2d-3a57-40e3-ae2a-9f0a97ce9c7e",
   "metadata": {},
   "outputs": [],
   "source": [
    "index = ['hTPMH', 'hPoDM, $\\zeta_C=100$', 'hPoDM, $\\zeta_C=1$', 'hExhPoDM, $\\mathbb{E}[\\zeta_C]=1$',  'hNBDM, $\\zeta=100$', 'hNBDM, $\\zeta=1$', 'hExhNBDM, $\\mathbb{E}[\\zeta]=1$']\n",
    "columns = ['0 strains', '1 strain', '2 strains', '3 strains', '4 strains', '5 strains', '6+ strains']"
   ]
  },
  {
   "cell_type": "code",
   "execution_count": 12,
   "id": "2dde03b9-54e5-49b0-ad7d-af6e8862104b",
   "metadata": {},
   "outputs": [
    {
     "data": {
      "text/html": [
       "<div>\n",
       "<style scoped>\n",
       "    .dataframe tbody tr th:only-of-type {\n",
       "        vertical-align: middle;\n",
       "    }\n",
       "\n",
       "    .dataframe tbody tr th {\n",
       "        vertical-align: top;\n",
       "    }\n",
       "\n",
       "    .dataframe thead th {\n",
       "        text-align: right;\n",
       "    }\n",
       "</style>\n",
       "<table border=\"1\" class=\"dataframe\">\n",
       "  <thead>\n",
       "    <tr style=\"text-align: right;\">\n",
       "      <th></th>\n",
       "      <th>0 strains</th>\n",
       "      <th>1 strain</th>\n",
       "      <th>2 strains</th>\n",
       "      <th>3 strains</th>\n",
       "      <th>4 strains</th>\n",
       "      <th>5 strains</th>\n",
       "      <th>6+ strains</th>\n",
       "    </tr>\n",
       "  </thead>\n",
       "  <tbody>\n",
       "    <tr>\n",
       "      <th>hTPMH</th>\n",
       "      <td>0.135332</td>\n",
       "      <td>0.282798</td>\n",
       "      <td>0.282199</td>\n",
       "      <td>0.179388</td>\n",
       "      <td>0.081726</td>\n",
       "      <td>0.028468</td>\n",
       "      <td>0.010089</td>\n",
       "    </tr>\n",
       "    <tr>\n",
       "      <th>hPoDM, $\\zeta_C=100$</th>\n",
       "      <td>0.135339</td>\n",
       "      <td>0.282817</td>\n",
       "      <td>0.282234</td>\n",
       "      <td>0.179388</td>\n",
       "      <td>0.081701</td>\n",
       "      <td>0.028446</td>\n",
       "      <td>0.010075</td>\n",
       "    </tr>\n",
       "    <tr>\n",
       "      <th>hPoDM, $\\zeta_C=1$</th>\n",
       "      <td>0.135342</td>\n",
       "      <td>0.285890</td>\n",
       "      <td>0.284958</td>\n",
       "      <td>0.178785</td>\n",
       "      <td>0.079455</td>\n",
       "      <td>0.026689</td>\n",
       "      <td>0.008879</td>\n",
       "    </tr>\n",
       "    <tr>\n",
       "      <th>hExhPoDM, $\\mathbb{E}[\\zeta_C]=1$</th>\n",
       "      <td>0.135338</td>\n",
       "      <td>0.298749</td>\n",
       "      <td>0.288535</td>\n",
       "      <td>0.173160</td>\n",
       "      <td>0.073322</td>\n",
       "      <td>0.023487</td>\n",
       "      <td>0.007409</td>\n",
       "    </tr>\n",
       "    <tr>\n",
       "      <th>hNBDM, $\\zeta=100$</th>\n",
       "      <td>0.135361</td>\n",
       "      <td>0.282825</td>\n",
       "      <td>0.282196</td>\n",
       "      <td>0.179366</td>\n",
       "      <td>0.081713</td>\n",
       "      <td>0.028454</td>\n",
       "      <td>0.010085</td>\n",
       "    </tr>\n",
       "    <tr>\n",
       "      <th>hNBDM, $\\zeta=1$</th>\n",
       "      <td>0.138303</td>\n",
       "      <td>0.285715</td>\n",
       "      <td>0.281899</td>\n",
       "      <td>0.177180</td>\n",
       "      <td>0.079812</td>\n",
       "      <td>0.027485</td>\n",
       "      <td>0.009606</td>\n",
       "    </tr>\n",
       "    <tr>\n",
       "      <th>hExhNBDM, $\\mathbb{E}[\\zeta]=1$</th>\n",
       "      <td>0.150191</td>\n",
       "      <td>0.292420</td>\n",
       "      <td>0.278255</td>\n",
       "      <td>0.170170</td>\n",
       "      <td>0.074967</td>\n",
       "      <td>0.025328</td>\n",
       "      <td>0.008670</td>\n",
       "    </tr>\n",
       "  </tbody>\n",
       "</table>\n",
       "</div>"
      ],
      "text/plain": [
       "                                   0 strains  1 strain  2 strains  3 strains  \\\n",
       "hTPMH                               0.135332  0.282798   0.282199   0.179388   \n",
       "hPoDM, $\\zeta_C=100$                0.135339  0.282817   0.282234   0.179388   \n",
       "hPoDM, $\\zeta_C=1$                  0.135342  0.285890   0.284958   0.178785   \n",
       "hExhPoDM, $\\mathbb{E}[\\zeta_C]=1$   0.135338  0.298749   0.288535   0.173160   \n",
       "hNBDM, $\\zeta=100$                  0.135361  0.282825   0.282196   0.179366   \n",
       "hNBDM, $\\zeta=1$                    0.138303  0.285715   0.281899   0.177180   \n",
       "hExhNBDM, $\\mathbb{E}[\\zeta]=1$     0.150191  0.292420   0.278255   0.170170   \n",
       "\n",
       "                                   4 strains  5 strains  6+ strains  \n",
       "hTPMH                               0.081726   0.028468    0.010089  \n",
       "hPoDM, $\\zeta_C=100$                0.081701   0.028446    0.010075  \n",
       "hPoDM, $\\zeta_C=1$                  0.079455   0.026689    0.008879  \n",
       "hExhPoDM, $\\mathbb{E}[\\zeta_C]=1$   0.073322   0.023487    0.007409  \n",
       "hNBDM, $\\zeta=100$                  0.081713   0.028454    0.010085  \n",
       "hNBDM, $\\zeta=1$                    0.079812   0.027485    0.009606  \n",
       "hExhNBDM, $\\mathbb{E}[\\zeta]=1$     0.074967   0.025328    0.008670  "
      ]
     },
     "execution_count": 12,
     "metadata": {},
     "output_type": "execute_result"
    }
   ],
   "source": [
    "dataframe = pd.DataFrame([hTPMH_probs, hPoDM_100_probs, hPoDM_1_probs, hExhPoDM_probs, hNBDM_100_probs, hNBDM_1_probs,  hExhNBDM_probs],\n",
    "            index=index)\n",
    "dataframe.columns = columns\n",
    "dataframe"
   ]
  },
  {
   "cell_type": "code",
   "execution_count": 13,
   "id": "9b1df978-5504-413e-a15f-1d33dfa61a9e",
   "metadata": {},
   "outputs": [
    {
     "data": {
      "text/plain": [
       "array([0.13533528, 0.28278431, 0.28220408, 0.17939164, 0.0817291 ,\n",
       "       0.02846516, 0.01009043])"
      ]
     },
     "execution_count": 13,
     "metadata": {},
     "output_type": "execute_result"
    }
   ],
   "source": [
    "expected_probs = np.array([expected_probs['zero_strain'], expected_probs['one_strain'],\n",
    "                          expected_probs['two_strain'], expected_probs['three_strain'],\n",
    "                          expected_probs['four_strain'], expected_probs['five_strain'],\n",
    "                          expected_probs['more_strains']])\n",
    "expected_probs"
   ]
  },
  {
   "cell_type": "code",
   "execution_count": 14,
   "id": "518e9e63-cdb8-45b0-925c-c927d11f6189",
   "metadata": {},
   "outputs": [],
   "source": [
    "avg_percent_changes = (np.array(dataframe) - np.reshape(expected_probs, (1,-1))) / np.reshape(expected_probs, (1,-1))"
   ]
  },
  {
   "cell_type": "code",
   "execution_count": 15,
   "id": "00b37ccd-6af3-4399-ba8f-095be9609211",
   "metadata": {},
   "outputs": [
    {
     "data": {
      "text/html": [
       "<div>\n",
       "<style scoped>\n",
       "    .dataframe tbody tr th:only-of-type {\n",
       "        vertical-align: middle;\n",
       "    }\n",
       "\n",
       "    .dataframe tbody tr th {\n",
       "        vertical-align: top;\n",
       "    }\n",
       "\n",
       "    .dataframe thead th {\n",
       "        text-align: right;\n",
       "    }\n",
       "</style>\n",
       "<table border=\"1\" class=\"dataframe\">\n",
       "  <thead>\n",
       "    <tr style=\"text-align: right;\">\n",
       "      <th></th>\n",
       "      <th>0 strains</th>\n",
       "      <th>1 strain</th>\n",
       "      <th>2 strains</th>\n",
       "      <th>3 strains</th>\n",
       "      <th>4 strains</th>\n",
       "      <th>5 strains</th>\n",
       "      <th>6+ strains</th>\n",
       "    </tr>\n",
       "  </thead>\n",
       "  <tbody>\n",
       "    <tr>\n",
       "      <th>hTPMH</th>\n",
       "      <td>-0.000025</td>\n",
       "      <td>0.000050</td>\n",
       "      <td>-0.000019</td>\n",
       "      <td>-0.000019</td>\n",
       "      <td>-0.000037</td>\n",
       "      <td>0.000103</td>\n",
       "      <td>-0.000185</td>\n",
       "    </tr>\n",
       "    <tr>\n",
       "      <th>hPoDM, $\\zeta_C=100$</th>\n",
       "      <td>0.000026</td>\n",
       "      <td>0.000115</td>\n",
       "      <td>0.000105</td>\n",
       "      <td>-0.000020</td>\n",
       "      <td>-0.000347</td>\n",
       "      <td>-0.000659</td>\n",
       "      <td>-0.001504</td>\n",
       "    </tr>\n",
       "    <tr>\n",
       "      <th>hPoDM, $\\zeta_C=1$</th>\n",
       "      <td>0.000053</td>\n",
       "      <td>0.010983</td>\n",
       "      <td>0.009760</td>\n",
       "      <td>-0.003383</td>\n",
       "      <td>-0.027819</td>\n",
       "      <td>-0.062384</td>\n",
       "      <td>-0.120009</td>\n",
       "    </tr>\n",
       "    <tr>\n",
       "      <th>hExhPoDM, $\\mathbb{E}[\\zeta_C]=1$</th>\n",
       "      <td>0.000017</td>\n",
       "      <td>0.056457</td>\n",
       "      <td>0.022433</td>\n",
       "      <td>-0.034739</td>\n",
       "      <td>-0.102861</td>\n",
       "      <td>-0.174895</td>\n",
       "      <td>-0.265702</td>\n",
       "    </tr>\n",
       "    <tr>\n",
       "      <th>hNBDM, $\\zeta=100$</th>\n",
       "      <td>0.000187</td>\n",
       "      <td>0.000144</td>\n",
       "      <td>-0.000028</td>\n",
       "      <td>-0.000142</td>\n",
       "      <td>-0.000199</td>\n",
       "      <td>-0.000399</td>\n",
       "      <td>-0.000515</td>\n",
       "    </tr>\n",
       "    <tr>\n",
       "      <th>hNBDM, $\\zeta=1$</th>\n",
       "      <td>0.021926</td>\n",
       "      <td>0.010365</td>\n",
       "      <td>-0.001082</td>\n",
       "      <td>-0.012328</td>\n",
       "      <td>-0.023455</td>\n",
       "      <td>-0.034447</td>\n",
       "      <td>-0.047975</td>\n",
       "    </tr>\n",
       "    <tr>\n",
       "      <th>hExhNBDM, $\\mathbb{E}[\\zeta]=1$</th>\n",
       "      <td>0.109767</td>\n",
       "      <td>0.034075</td>\n",
       "      <td>-0.013995</td>\n",
       "      <td>-0.051403</td>\n",
       "      <td>-0.082744</td>\n",
       "      <td>-0.110224</td>\n",
       "      <td>-0.140771</td>\n",
       "    </tr>\n",
       "  </tbody>\n",
       "</table>\n",
       "</div>"
      ],
      "text/plain": [
       "                                   0 strains  1 strain  2 strains  3 strains  \\\n",
       "hTPMH                              -0.000025  0.000050  -0.000019  -0.000019   \n",
       "hPoDM, $\\zeta_C=100$                0.000026  0.000115   0.000105  -0.000020   \n",
       "hPoDM, $\\zeta_C=1$                  0.000053  0.010983   0.009760  -0.003383   \n",
       "hExhPoDM, $\\mathbb{E}[\\zeta_C]=1$   0.000017  0.056457   0.022433  -0.034739   \n",
       "hNBDM, $\\zeta=100$                  0.000187  0.000144  -0.000028  -0.000142   \n",
       "hNBDM, $\\zeta=1$                    0.021926  0.010365  -0.001082  -0.012328   \n",
       "hExhNBDM, $\\mathbb{E}[\\zeta]=1$     0.109767  0.034075  -0.013995  -0.051403   \n",
       "\n",
       "                                   4 strains  5 strains  6+ strains  \n",
       "hTPMH                              -0.000037   0.000103   -0.000185  \n",
       "hPoDM, $\\zeta_C=100$               -0.000347  -0.000659   -0.001504  \n",
       "hPoDM, $\\zeta_C=1$                 -0.027819  -0.062384   -0.120009  \n",
       "hExhPoDM, $\\mathbb{E}[\\zeta_C]=1$  -0.102861  -0.174895   -0.265702  \n",
       "hNBDM, $\\zeta=100$                 -0.000199  -0.000399   -0.000515  \n",
       "hNBDM, $\\zeta=1$                   -0.023455  -0.034447   -0.047975  \n",
       "hExhNBDM, $\\mathbb{E}[\\zeta]=1$    -0.082744  -0.110224   -0.140771  "
      ]
     },
     "execution_count": 15,
     "metadata": {},
     "output_type": "execute_result"
    }
   ],
   "source": [
    "avg_percent_changes_fancy = pd.DataFrame(avg_percent_changes, index=index)\n",
    "avg_percent_changes_fancy.columns = columns\n",
    "avg_percent_changes_fancy"
   ]
  },
  {
   "cell_type": "code",
   "execution_count": 16,
   "id": "ccfac386-9d5f-4aa6-8917-8e031f4a2c6d",
   "metadata": {},
   "outputs": [
    {
     "data": {
      "image/png": "[encoded data removed]",
      "text/plain": [
       "<Figure size 864x720 with 2 Axes>"
      ]
     },
     "metadata": {
      "needs_background": "light"
     },
     "output_type": "display_data"
    }
   ],
   "source": [
    "with sns.plotting_context(\"notebook\", font_scale=1.15):\n",
    "    plt.figure(figsize=(12,10))\n",
    "    ax = sns.heatmap(data=avg_percent_changes_fancy, vmin=-.27, vmax=.27, \n",
    "                square=True, cmap=\"icefire_r\", linewidths=1.5, linecolor='gray')\n",
    "    ax.xaxis.tick_top()\n",
    "    cbar = ax.collections[0].colorbar\n",
    "    cbar.ax.yaxis.set_major_formatter(mtick.PercentFormatter(1, 0))\n",
    "    ax.tick_params(axis='y', labelsize=14)\n",
    "    plt.suptitle(\"Average Change in # of Droplets with $n$ Strains Relative to hPoMu\", fontsize=24, y=.96, x=.4)\n",
    "    plt.savefig('avg_relative_change_strain_strata.png', bbox_inches = \"tight\")"
   ]
  },
  {
   "cell_type": "code",
   "execution_count": 17,
   "id": "a5066d0b-adbf-4f9c-b454-61c090da693e",
   "metadata": {},
   "outputs": [
    {
     "data": {
      "text/html": [
       "<div>\n",
       "<style scoped>\n",
       "    .dataframe tbody tr th:only-of-type {\n",
       "        vertical-align: middle;\n",
       "    }\n",
       "\n",
       "    .dataframe tbody tr th {\n",
       "        vertical-align: top;\n",
       "    }\n",
       "\n",
       "    .dataframe thead th {\n",
       "        text-align: right;\n",
       "    }\n",
       "</style>\n",
       "<table border=\"1\" class=\"dataframe\">\n",
       "  <thead>\n",
       "    <tr style=\"text-align: right;\">\n",
       "      <th></th>\n",
       "      <th>0 types</th>\n",
       "      <th>1 type</th>\n",
       "      <th>2 types</th>\n",
       "      <th>3 types</th>\n",
       "      <th>4 types</th>\n",
       "      <th>5 types</th>\n",
       "      <th>6+ types</th>\n",
       "    </tr>\n",
       "  </thead>\n",
       "  <tbody>\n",
       "    <tr>\n",
       "      <th>CH only</th>\n",
       "      <td>0.000017</td>\n",
       "      <td>0.056457</td>\n",
       "      <td>0.022433</td>\n",
       "      <td>-0.034739</td>\n",
       "      <td>-0.102861</td>\n",
       "      <td>-0.174895</td>\n",
       "      <td>-0.265702</td>\n",
       "    </tr>\n",
       "    <tr>\n",
       "      <th>CH + DH</th>\n",
       "      <td>0.109767</td>\n",
       "      <td>0.034075</td>\n",
       "      <td>-0.013995</td>\n",
       "      <td>-0.051403</td>\n",
       "      <td>-0.082744</td>\n",
       "      <td>-0.110224</td>\n",
       "      <td>-0.140771</td>\n",
       "    </tr>\n",
       "  </tbody>\n",
       "</table>\n",
       "</div>"
      ],
      "text/plain": [
       "          0 types    1 type   2 types   3 types   4 types   5 types  6+ types\n",
       "CH only  0.000017  0.056457  0.022433 -0.034739 -0.102861 -0.174895 -0.265702\n",
       "CH + DH  0.109767  0.034075 -0.013995 -0.051403 -0.082744 -0.110224 -0.140771"
      ]
     },
     "execution_count": 17,
     "metadata": {},
     "output_type": "execute_result"
    }
   ],
   "source": [
    "avg_percent_changes_fancy_limited = avg_percent_changes_fancy.loc[['hExhPoDM, $\\mathbb{E}[\\zeta_C]=1$', 'hExhNBDM, $\\mathbb{E}[\\zeta]=1$']]\n",
    "new_names = [\"CH only\", \"CH + DH\"]\n",
    "avg_percent_changes_fancy_limited.index = new_names\n",
    "new_columns = ['0 types', '1 type', '2 types', '3 types', '4 types', '5 types', '6+ types']\n",
    "avg_percent_changes_fancy_limited.columns = new_columns\n",
    "avg_percent_changes_fancy_limited"
   ]
  },
  {
   "cell_type": "code",
   "execution_count": 18,
   "id": "d44b1544-666d-42ee-a497-e390d79aa633",
   "metadata": {},
   "outputs": [
    {
     "data": {
      "image/png": "[encoded data removed]",
      "text/plain": [
       "<Figure size 1296x720 with 2 Axes>"
      ]
     },
     "metadata": {
      "needs_background": "light"
     },
     "output_type": "display_data"
    }
   ],
   "source": [
    "with sns.plotting_context(\"notebook\", font_scale=1.15):\n",
    "    plt.figure(figsize=(18,10))\n",
    "    ax = sns.heatmap(data=avg_percent_changes_fancy_limited, vmin=-.27, vmax=.27, \n",
    "                square=False, cmap=\"icefire_r\", linewidths=1.5, linecolor='gray')\n",
    "    ax.xaxis.tick_top()\n",
    "    cbar = ax.collections[0].colorbar\n",
    "    cbar.ax.yaxis.set_major_formatter(mtick.PercentFormatter(1, 0))\n",
    "    ax.tick_params(axis='x', labelsize=20)\n",
    "    ax.set_yticklabels([\"Comp. Het. Only\", \"Comp. + Dens. Het.\"], va=\"center\", fontsize=24)\n",
    "    plt.suptitle(\"Average Change in # of Droplets with $n$ Types Relative to hPoMu\", fontsize=24, y=.98, x=.44)\n",
    "    plt.savefig('avg_relative_change_strain_strata_limited.png', bbox_inches = \"tight\")"
   ]
  },
  {
   "cell_type": "code",
   "execution_count": 19,
   "id": "01121325-445e-4b5d-87fc-3560299a1c23",
   "metadata": {},
   "outputs": [
    {
     "data": {
      "text/html": [
       "<div>\n",
       "<style scoped>\n",
       "    .dataframe tbody tr th:only-of-type {\n",
       "        vertical-align: middle;\n",
       "    }\n",
       "\n",
       "    .dataframe tbody tr th {\n",
       "        vertical-align: top;\n",
       "    }\n",
       "\n",
       "    .dataframe thead th {\n",
       "        text-align: right;\n",
       "    }\n",
       "</style>\n",
       "<table border=\"1\" class=\"dataframe\">\n",
       "  <thead>\n",
       "    <tr style=\"text-align: right;\">\n",
       "      <th></th>\n",
       "      <th>0 strains</th>\n",
       "      <th>1 strain</th>\n",
       "      <th>2 strains</th>\n",
       "      <th>3 strains</th>\n",
       "      <th>4 strains</th>\n",
       "      <th>5 strains</th>\n",
       "      <th>6+ strains</th>\n",
       "    </tr>\n",
       "  </thead>\n",
       "  <tbody>\n",
       "    <tr>\n",
       "      <th>hPoMu</th>\n",
       "      <td>0.135335</td>\n",
       "      <td>0.282784</td>\n",
       "      <td>0.282204</td>\n",
       "      <td>0.179392</td>\n",
       "      <td>0.081729</td>\n",
       "      <td>0.028465</td>\n",
       "      <td>0.010090</td>\n",
       "    </tr>\n",
       "    <tr>\n",
       "      <th>hTPMH</th>\n",
       "      <td>0.135332</td>\n",
       "      <td>0.282798</td>\n",
       "      <td>0.282199</td>\n",
       "      <td>0.179388</td>\n",
       "      <td>0.081726</td>\n",
       "      <td>0.028468</td>\n",
       "      <td>0.010089</td>\n",
       "    </tr>\n",
       "    <tr>\n",
       "      <th>hPoDM, $\\zeta_C=100$</th>\n",
       "      <td>0.135339</td>\n",
       "      <td>0.282817</td>\n",
       "      <td>0.282234</td>\n",
       "      <td>0.179388</td>\n",
       "      <td>0.081701</td>\n",
       "      <td>0.028446</td>\n",
       "      <td>0.010075</td>\n",
       "    </tr>\n",
       "    <tr>\n",
       "      <th>hPoDM, $\\zeta_C=1$</th>\n",
       "      <td>0.135342</td>\n",
       "      <td>0.285890</td>\n",
       "      <td>0.284958</td>\n",
       "      <td>0.178785</td>\n",
       "      <td>0.079455</td>\n",
       "      <td>0.026689</td>\n",
       "      <td>0.008879</td>\n",
       "    </tr>\n",
       "    <tr>\n",
       "      <th>hExhPoDM, $\\mathbb{E}[\\zeta_C]=1$</th>\n",
       "      <td>0.135338</td>\n",
       "      <td>0.298749</td>\n",
       "      <td>0.288535</td>\n",
       "      <td>0.173160</td>\n",
       "      <td>0.073322</td>\n",
       "      <td>0.023487</td>\n",
       "      <td>0.007409</td>\n",
       "    </tr>\n",
       "    <tr>\n",
       "      <th>hNBDM, $\\zeta=100$</th>\n",
       "      <td>0.135361</td>\n",
       "      <td>0.282825</td>\n",
       "      <td>0.282196</td>\n",
       "      <td>0.179366</td>\n",
       "      <td>0.081713</td>\n",
       "      <td>0.028454</td>\n",
       "      <td>0.010085</td>\n",
       "    </tr>\n",
       "    <tr>\n",
       "      <th>hNBDM, $\\zeta=1$</th>\n",
       "      <td>0.138303</td>\n",
       "      <td>0.285715</td>\n",
       "      <td>0.281899</td>\n",
       "      <td>0.177180</td>\n",
       "      <td>0.079812</td>\n",
       "      <td>0.027485</td>\n",
       "      <td>0.009606</td>\n",
       "    </tr>\n",
       "    <tr>\n",
       "      <th>hExhNBDM, $\\mathbb{E}[\\zeta]=1$</th>\n",
       "      <td>0.150191</td>\n",
       "      <td>0.292420</td>\n",
       "      <td>0.278255</td>\n",
       "      <td>0.170170</td>\n",
       "      <td>0.074967</td>\n",
       "      <td>0.025328</td>\n",
       "      <td>0.008670</td>\n",
       "    </tr>\n",
       "  </tbody>\n",
       "</table>\n",
       "</div>"
      ],
      "text/plain": [
       "                                   0 strains  1 strain  2 strains  3 strains  \\\n",
       "hPoMu                               0.135335  0.282784   0.282204   0.179392   \n",
       "hTPMH                               0.135332  0.282798   0.282199   0.179388   \n",
       "hPoDM, $\\zeta_C=100$                0.135339  0.282817   0.282234   0.179388   \n",
       "hPoDM, $\\zeta_C=1$                  0.135342  0.285890   0.284958   0.178785   \n",
       "hExhPoDM, $\\mathbb{E}[\\zeta_C]=1$   0.135338  0.298749   0.288535   0.173160   \n",
       "hNBDM, $\\zeta=100$                  0.135361  0.282825   0.282196   0.179366   \n",
       "hNBDM, $\\zeta=1$                    0.138303  0.285715   0.281899   0.177180   \n",
       "hExhNBDM, $\\mathbb{E}[\\zeta]=1$     0.150191  0.292420   0.278255   0.170170   \n",
       "\n",
       "                                   4 strains  5 strains  6+ strains  \n",
       "hPoMu                               0.081729   0.028465    0.010090  \n",
       "hTPMH                               0.081726   0.028468    0.010089  \n",
       "hPoDM, $\\zeta_C=100$                0.081701   0.028446    0.010075  \n",
       "hPoDM, $\\zeta_C=1$                  0.079455   0.026689    0.008879  \n",
       "hExhPoDM, $\\mathbb{E}[\\zeta_C]=1$   0.073322   0.023487    0.007409  \n",
       "hNBDM, $\\zeta=100$                  0.081713   0.028454    0.010085  \n",
       "hNBDM, $\\zeta=1$                    0.079812   0.027485    0.009606  \n",
       "hExhNBDM, $\\mathbb{E}[\\zeta]=1$     0.074967   0.025328    0.008670  "
      ]
     },
     "execution_count": 19,
     "metadata": {},
     "output_type": "execute_result"
    }
   ],
   "source": [
    "average_probs = pd.DataFrame(np.reshape(expected_probs, (1,-1)), index=['hPoMu'])\n",
    "average_probs.columns = columns\n",
    "average_probs = average_probs.append(dataframe)\n",
    "average_probs"
   ]
  },
  {
   "cell_type": "code",
   "execution_count": 20,
   "id": "ffe095af-0257-42db-b49b-6d5e854ee36d",
   "metadata": {},
   "outputs": [
    {
     "data": {
      "text/plain": [
       "<AxesSubplot:>"
      ]
     },
     "execution_count": 20,
     "metadata": {},
     "output_type": "execute_result"
    },
    {
     "data": {
      "image/png": "[encoded data removed]",
      "text/plain": [
       "<Figure size 432x288 with 2 Axes>"
      ]
     },
     "metadata": {
      "needs_background": "light"
     },
     "output_type": "display_data"
    }
   ],
   "source": [
    "sns.heatmap(average_probs, square=True, linewidths=1, linecolor='white')"
   ]
  },
  {
   "cell_type": "code",
   "execution_count": 21,
   "id": "9c88015b-ba62-418a-9f61-2543628633ba",
   "metadata": {},
   "outputs": [
    {
     "data": {
      "text/plain": [
       "<AxesSubplot:>"
      ]
     },
     "execution_count": 21,
     "metadata": {},
     "output_type": "execute_result"
    },
    {
     "data": {
      "image/png": "[encoded data removed]",
      "text/plain": [
       "<Figure size 432x288 with 2 Axes>"
      ]
     },
     "metadata": {
      "needs_background": "light"
     },
     "output_type": "display_data"
    }
   ],
   "source": [
    "alt_index = ['hPoMu', 'hTPMH', 'hPoDM, $\\zeta_C=100$', 'hNBDM, $\\zeta=100$', 'hPoDM, $\\zeta_C=1$', 'hNBDM, $\\zeta=1$', 'hExhPoDM, $\\mathbb{E}[\\zeta_C]=1$', 'hExhNBDM, $\\mathbb{E}[\\zeta]=1$']\n",
    "sns.heatmap(average_probs.reindex(alt_index), square=True, linewidths=1)"
   ]
  },
  {
   "cell_type": "code",
   "execution_count": 22,
   "id": "87e9855a-6ce9-4223-812f-bf13efc84062",
   "metadata": {},
   "outputs": [],
   "source": [
    "average_probs.to_csv('average_compositions.csv', index=False)\n",
    "#average_probs.reindex(alt_index).to_csv('order2.csv', index=False)"
   ]
  }
 ],
 "metadata": {
  "kernelspec": {
   "display_name": "Python 3",
   "language": "python",
   "name": "python3"
  },
  "language_info": {
   "codemirror_mode": {
    "name": "ipython",
    "version": 3
   },
   "file_extension": ".py",
   "mimetype": "text/x-python",
   "name": "python",
   "nbconvert_exporter": "python",
   "pygments_lexer": "ipython3",
   "version": "3.9.2"
  }
 },
 "nbformat": 4,
 "nbformat_minor": 5
}
