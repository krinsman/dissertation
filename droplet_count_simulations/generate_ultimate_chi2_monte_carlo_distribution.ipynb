{
 "cells": [
  {
   "cell_type": "code",
   "execution_count": 1,
   "id": "cc392eef-f213-4ce5-8f3c-559db5fab660",
   "metadata": {
    "execution": {
     "iopub.execute_input": "2021-05-25T21:03:00.360261Z",
     "iopub.status.busy": "2021-05-25T21:03:00.358583Z",
     "iopub.status.idle": "2021-05-25T21:03:00.644489Z",
     "shell.execute_reply": "2021-05-25T21:03:00.643319Z"
    },
    "tags": []
   },
   "outputs": [],
   "source": [
    "import numpy as np\n",
    "import multiprocessing as mp\n",
    "\n",
    "import traceback\n",
    "import time"
   ]
  },
  {
   "cell_type": "code",
   "execution_count": 2,
   "id": "47de00ca-a9bc-4e4b-8ef0-0a12254636e9",
   "metadata": {
    "execution": {
     "iopub.execute_input": "2021-05-25T21:03:00.651312Z",
     "iopub.status.busy": "2021-05-25T21:03:00.650318Z",
     "iopub.status.idle": "2021-05-25T21:03:02.017153Z",
     "shell.execute_reply": "2021-05-25T21:03:02.016523Z"
    }
   },
   "outputs": [],
   "source": [
    "from simulations.global_chi2_cpm import get_expected_probs\n",
    "from pathlib import Path\n",
    "from datetime import datetime, timedelta"
   ]
  },
  {
   "cell_type": "code",
   "execution_count": 3,
   "id": "99f8afbc-adaf-47d4-a8d3-3ebcc8146792",
   "metadata": {
    "execution": {
     "iopub.execute_input": "2021-05-25T21:03:02.027456Z",
     "iopub.status.busy": "2021-05-25T21:03:02.026808Z",
     "iopub.status.idle": "2021-05-25T21:03:02.031798Z",
     "shell.execute_reply": "2021-05-25T21:03:02.032934Z"
    }
   },
   "outputs": [],
   "source": [
    "base_relative_abundances = [1e-4, 1e-3, 1e-2]\n",
    "\n",
    "relative_abundances = [relative_abundance * number\n",
    "                       for relative_abundance \n",
    "                       in base_relative_abundances\n",
    "                       for number in (1,2,5) \n",
    "                       for repeat in range(10)]\n",
    "\n",
    "relative_abundances += [1-sum(relative_abundances)]\n",
    "frequencies = np.array(relative_abundances)"
   ]
  },
  {
   "cell_type": "code",
   "execution_count": 4,
   "id": "08802d78-3c41-4a5f-befc-5dd105892699",
   "metadata": {
    "execution": {
     "iopub.execute_input": "2021-05-25T21:03:02.043238Z",
     "iopub.status.busy": "2021-05-25T21:03:02.041790Z",
     "iopub.status.idle": "2021-05-25T21:03:02.045131Z",
     "shell.execute_reply": "2021-05-25T21:03:02.046248Z"
    },
    "tags": [
     "parameters"
    ]
   },
   "outputs": [],
   "source": [
    "number_droplets = int(15e6)\n",
    "rate = 2\n",
    "monte_carlo_entropy = 42\n",
    "trials_per_chunk = int(1e7)\n",
    "number_processes = 40\n",
    "number_chunks = 100"
   ]
  },
  {
   "cell_type": "code",
   "execution_count": 5,
   "id": "2d0ae717-22c0-43b1-97ee-4d93172817c2",
   "metadata": {
    "execution": {
     "iopub.execute_input": "2021-05-25T21:03:02.067242Z",
     "iopub.status.busy": "2021-05-25T21:03:02.065805Z",
     "iopub.status.idle": "2021-05-25T21:03:02.070405Z",
     "shell.execute_reply": "2021-05-25T21:03:02.068946Z"
    }
   },
   "outputs": [],
   "source": [
    "seed_sequence = np.random.SeedSequence(monte_carlo_entropy)\n",
    "seeds = seed_sequence.spawn(number_chunks)\n",
    "\n",
    "# https://stackoverflow.com/a/23590097/10634604\n",
    "trials_per_process = (trials_per_chunk // number_processes) + (trials_per_chunk % number_processes > 0)"
   ]
  },
  {
   "cell_type": "markdown",
   "id": "6f90fc25-dc10-4e2c-9506-24ae81dbdc03",
   "metadata": {},
   "source": [
    "below I do naughty things with global variables and expecting multiprocessing to copy global variable definitions (`frequencies`, `trials_per_process`, `rate`, `number_droplets`) and the like because I don't like having to use `starmap` if I can avoid it.\n",
    "\n",
    "I am a bad role model/example, do not copy me"
   ]
  },
  {
   "cell_type": "code",
   "execution_count": 6,
   "id": "14fb0ac2-2c15-4ebb-94dc-602b7d829110",
   "metadata": {
    "execution": {
     "iopub.execute_input": "2021-05-25T21:03:02.085205Z",
     "iopub.status.busy": "2021-05-25T21:03:02.081309Z",
     "iopub.status.idle": "2021-05-25T21:03:02.090014Z",
     "shell.execute_reply": "2021-05-25T21:03:02.088806Z"
    }
   },
   "outputs": [],
   "source": [
    "def monte_carlo_sim(seed):\n",
    "\n",
    "    probs_to_flatten = get_expected_probs(frequencies, rate=rate)\n",
    "    probs = np.array(\n",
    "        [probs_to_flatten[0]]\n",
    "        + list(probs_to_flatten[1].ravel()[np.flatnonzero(probs_to_flatten[1])])\n",
    "        + [probs_to_flatten[2]]\n",
    "    )\n",
    "\n",
    "    rng = np.random.default_rng(seed)\n",
    "    multinomial_trials = rng.multinomial(\n",
    "        n=number_droplets, pvals=probs, size=trials_per_process\n",
    "    )\n",
    "\n",
    "    expected_counts = number_droplets * probs\n",
    "\n",
    "    monte_carlo_chi2_stats = np.sum(\n",
    "        ((multinomial_trials - expected_counts) ** 2 / expected_counts), axis=1\n",
    "    )\n",
    "    \n",
    "    return monte_carlo_chi2_stats"
   ]
  },
  {
   "cell_type": "markdown",
   "id": "03799152-1515-4cd8-9aeb-68ceaccd1de1",
   "metadata": {},
   "source": [
    "`map` has the courtesy to return a list for us, so easy to use as input to `np.concatenate`"
   ]
  },
  {
   "cell_type": "code",
   "execution_count": 7,
   "id": "c4d09791-8532-42c8-9054-8ef9cc7aceb1",
   "metadata": {
    "execution": {
     "iopub.execute_input": "2021-05-25T21:03:02.099815Z",
     "iopub.status.busy": "2021-05-25T21:03:02.098407Z",
     "iopub.status.idle": "2021-05-25T21:03:02.101918Z",
     "shell.execute_reply": "2021-05-25T21:03:02.103100Z"
    }
   },
   "outputs": [],
   "source": [
    "prettify = lambda integer: str(integer).zfill(len(str(number_chunks)))"
   ]
  },
  {
   "cell_type": "code",
   "execution_count": 8,
   "id": "7bbe7144-9c2f-47a0-86cf-12c3a5a493fe",
   "metadata": {
    "execution": {
     "iopub.execute_input": "2021-05-25T21:03:02.134697Z",
     "iopub.status.busy": "2021-05-25T21:03:02.125701Z",
     "iopub.status.idle": "2021-05-26T06:20:48.313446Z",
     "shell.execute_reply": "2021-05-26T06:20:48.311820Z"
    }
   },
   "outputs": [],
   "source": [
    "for chunk in range(number_chunks):\n",
    "    results_filename = 'monte_carlo_results/simulated_chi2.{}.npz'.format(prettify(chunk))  \n",
    "    results_file = Path(results_filename)\n",
    "\n",
    "    if results_file.is_file():\n",
    "        # simulation already ran successfully on previous attempt\n",
    "        pass\n",
    "    else:\n",
    "        subseed = seeds[chunk]\n",
    "        subseeds = subseed.spawn(number_processes)\n",
    "\n",
    "        try:\n",
    "            start_time = time.time()\n",
    "            pool = mp.Pool(number_processes)\n",
    "            chi2_stats = pool.map(monte_carlo_sim, subseeds)\n",
    "            pool.close()\n",
    "            pool.join()\n",
    "\n",
    "            chi2_stats = np.concatenate(chi2_stats)\n",
    "            runtime = time.time() - start_time\n",
    "            np.savez_compressed(results_filename, chi2_stats=chi2_stats)\n",
    "            \n",
    "            # Maybe this will help prevent memory leaks? \n",
    "            del(chi2_stats)\n",
    "            \n",
    "            with open('monte_carlo_results/logs/runtime.{}.log'.format(prettify(chunk)), 'a') as file_pointer:\n",
    "                # https://stackoverflow.com/a/775095/10634604\n",
    "                runtime_string = str(timedelta(seconds=runtime))\n",
    "                file_pointer.write('Runtime was {} in Hours:Minutes:Seconds.'.format(runtime_string))\n",
    "            \n",
    "        except Exception as error_message:\n",
    "            timestamp_filename = datetime.now().strftime('%m-%d-%Y.at.%H_%M_%S.log')\n",
    "            with open('monte_carlo_results/logs/{}'.format(timestamp_filename), 'a') as file_pointer:\n",
    "                file_pointer.write(str(error_message))\n",
    "                file_pointer.write(traceback.format_exc())            "
   ]
  }
 ],
 "metadata": {
  "kernelspec": {
   "display_name": "Python 3",
   "language": "python",
   "name": "python3"
  },
  "language_info": {
   "codemirror_mode": {
    "name": "ipython",
    "version": 3
   },
   "file_extension": ".py",
   "mimetype": "text/x-python",
   "name": "python",
   "nbconvert_exporter": "python",
   "pygments_lexer": "ipython3",
   "version": "3.9.2"
  }
 },
 "nbformat": 4,
 "nbformat_minor": 5
}
