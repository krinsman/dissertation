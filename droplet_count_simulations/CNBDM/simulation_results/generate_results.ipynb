{
 "cells": [
  {
   "cell_type": "code",
   "execution_count": 1,
   "id": "b2e40103-5046-435c-af70-956af7ebbc41",
   "metadata": {
    "execution": {
     "iopub.execute_input": "2021-06-01T16:57:32.280061Z",
     "iopub.status.busy": "2021-06-01T16:57:32.278361Z",
     "iopub.status.idle": "2021-06-01T16:57:32.782826Z",
     "shell.execute_reply": "2021-06-01T16:57:32.781331Z"
    },
    "tags": []
   },
   "outputs": [],
   "source": [
    "import papermill as pm\n",
    "import multiprocessing as mp\n",
    "from datetime import datetime\n",
    "import traceback"
   ]
  },
  {
   "cell_type": "code",
   "execution_count": 2,
   "id": "534d6c59-63dd-4712-b372-3c422d833383",
   "metadata": {
    "execution": {
     "iopub.execute_input": "2021-06-01T16:57:32.793099Z",
     "iopub.status.busy": "2021-06-01T16:57:32.791661Z",
     "iopub.status.idle": "2021-06-01T16:57:32.795645Z",
     "shell.execute_reply": "2021-06-01T16:57:32.796769Z"
    }
   },
   "outputs": [],
   "source": [
    "number_simulations = 500\n",
    "number_samples = int(15e6)\n",
    "rate = 2\n",
    "entropy = 42\n",
    "concentration = 1.0"
   ]
  },
  {
   "cell_type": "code",
   "execution_count": 3,
   "id": "36041697-c821-4bf8-aee9-b0d006f47371",
   "metadata": {
    "execution": {
     "iopub.execute_input": "2021-06-01T16:57:32.806276Z",
     "iopub.status.busy": "2021-06-01T16:57:32.804849Z",
     "iopub.status.idle": "2021-06-01T16:57:32.809756Z",
     "shell.execute_reply": "2021-06-01T16:57:32.808500Z"
    }
   },
   "outputs": [],
   "source": [
    "simulation_numbers = list(range(1, number_simulations+1))"
   ]
  },
  {
   "cell_type": "code",
   "execution_count": 4,
   "id": "9b82147d-c53a-4134-9502-b3ec2d880f12",
   "metadata": {
    "execution": {
     "iopub.execute_input": "2021-06-01T16:57:32.819152Z",
     "iopub.status.busy": "2021-06-01T16:57:32.817681Z",
     "iopub.status.idle": "2021-06-01T16:57:32.822557Z",
     "shell.execute_reply": "2021-06-01T16:57:32.821303Z"
    }
   },
   "outputs": [],
   "source": [
    "prettify = lambda integer: str(integer).zfill(len(str(number_simulations)))"
   ]
  },
  {
   "cell_type": "code",
   "execution_count": 5,
   "id": "e57b030c-b0a9-4c97-93ec-6823e146faee",
   "metadata": {
    "execution": {
     "iopub.execute_input": "2021-06-01T16:57:32.836363Z",
     "iopub.status.busy": "2021-06-01T16:57:32.833250Z",
     "iopub.status.idle": "2021-06-01T16:57:32.841553Z",
     "shell.execute_reply": "2021-06-01T16:57:32.840363Z"
    },
    "tags": []
   },
   "outputs": [],
   "source": [
    "input_notebook_names = ['notebook_template.ipynb' for simulation_number in simulation_numbers]\n",
    "\n",
    "output_notebook_names = ['notebook_logs/results_log.{}.ag.ipynb'.format(prettify(simulation_number))\n",
    "                        for simulation_number in simulation_numbers]\n",
    "\n",
    "parameter_dicts = [{'number_simulations':number_simulations, 'simulation_number':simulation_number,\n",
    "                   'number_samples':number_samples, 'rate':rate, 'entropy':entropy, \n",
    "                    'concentration': concentration}\n",
    "                  for simulation_number in simulation_numbers]"
   ]
  },
  {
   "cell_type": "code",
   "execution_count": 6,
   "id": "b2c893ec-bd52-41eb-bb8b-4b8076ccf34b",
   "metadata": {
    "execution": {
     "iopub.execute_input": "2021-06-01T16:57:32.852970Z",
     "iopub.status.busy": "2021-06-01T16:57:32.851541Z",
     "iopub.status.idle": "2021-06-01T16:57:32.855670Z",
     "shell.execute_reply": "2021-06-01T16:57:32.856786Z"
    }
   },
   "outputs": [],
   "source": [
    "parallel_input = [[input_notebook_name, output_notebook_name, parameter_dict]\n",
    "                 for input_notebook_name, output_notebook_name, parameter_dict\n",
    "                 in zip(input_notebook_names, output_notebook_names, parameter_dicts)]"
   ]
  },
  {
   "cell_type": "code",
   "execution_count": 7,
   "id": "2d73f940-274e-4c03-965e-a9fd3ddf6430",
   "metadata": {
    "execution": {
     "iopub.execute_input": "2021-06-01T16:57:32.869521Z",
     "iopub.status.busy": "2021-06-01T16:57:32.867668Z",
     "iopub.status.idle": "2021-06-01T16:59:21.185060Z",
     "shell.execute_reply": "2021-06-01T16:59:21.183811Z"
    }
   },
   "outputs": [
    {
     "name": "stdout",
     "output_type": "stream",
     "text": [
      "CPU times: user 803 ms, sys: 401 ms, total: 1.2 s\n",
      "Wall time: 1min 48s\n"
     ]
    }
   ],
   "source": [
    "%%time\n",
    "try:\n",
    "    with mp.get_context(\"spawn\").Pool(35) as pool:\n",
    "        pool.starmap(pm.execute_notebook, parallel_input)\n",
    "        pool.close()\n",
    "        pool.join()\n",
    "# These errors usually don't seem to actually matter. All of the results still get produced\n",
    "# and I'm not sure what the cause is, and I don't really care. Maybe it's the %%time.\n",
    "# I just want some record of how slow this is, is that so much to ask? yes I get that a\n",
    "# Jupyter cell magic probably is not the correct way to do it, but I'm a small person who\n",
    "# wants to stick what they're familiar and comfortable with sometimes, OK? Sorry...\n",
    "except RuntimeError as error_message:\n",
    "    timestamp_filename = datetime.now().strftime('%m-%d-%Y.at.%H_%M_%S.log')\n",
    "    with open('error_logs/{}'.format(timestamp_filename), 'a') as file_pointer:\n",
    "        file_pointer.write(str(error_message))\n",
    "        file_pointer.write(traceback.format_exc())"
   ]
  }
 ],
 "metadata": {
  "kernelspec": {
   "display_name": "Python 3",
   "language": "python",
   "name": "python3"
  },
  "language_info": {
   "codemirror_mode": {
    "name": "ipython",
    "version": 3
   },
   "file_extension": ".py",
   "mimetype": "text/x-python",
   "name": "python",
   "nbconvert_exporter": "python",
   "pygments_lexer": "ipython3",
   "version": "3.9.2"
  }
 },
 "nbformat": 4,
 "nbformat_minor": 5
}
