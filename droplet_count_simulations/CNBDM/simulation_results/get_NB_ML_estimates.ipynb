{
 "cells": [
  {
   "cell_type": "code",
   "execution_count": 1,
   "id": "93d74bf9-eb90-43f4-8d82-cb1032034c0e",
   "metadata": {
    "execution": {
     "iopub.execute_input": "2021-09-09T20:08:34.216818Z",
     "iopub.status.busy": "2021-09-09T20:08:34.215135Z",
     "iopub.status.idle": "2021-09-09T20:08:34.449820Z",
     "shell.execute_reply": "2021-09-09T20:08:34.448569Z"
    },
    "tags": []
   },
   "outputs": [],
   "source": [
    "import numpy as np\n",
    "import multiprocessing as mp"
   ]
  },
  {
   "cell_type": "code",
   "execution_count": 2,
   "id": "4e1c88d9-5cd2-4b92-a40c-f82587653879",
   "metadata": {
    "execution": {
     "iopub.execute_input": "2021-09-09T20:08:34.455730Z",
     "iopub.status.busy": "2021-09-09T20:08:34.454761Z",
     "iopub.status.idle": "2021-09-09T20:08:36.350168Z",
     "shell.execute_reply": "2021-09-09T20:08:36.348879Z"
    }
   },
   "outputs": [],
   "source": [
    "from glob import glob\n",
    "from analysis_utils.concentrations_MLE import get_NB_MLE"
   ]
  },
  {
   "cell_type": "code",
   "execution_count": 3,
   "id": "bc7fe0d1-e9c5-4bc4-9508-547824a3bba3",
   "metadata": {
    "execution": {
     "iopub.execute_input": "2021-09-09T20:08:36.357936Z",
     "iopub.status.busy": "2021-09-09T20:08:36.357310Z",
     "iopub.status.idle": "2021-09-09T20:08:36.367243Z",
     "shell.execute_reply": "2021-09-09T20:08:36.366578Z"
    }
   },
   "outputs": [],
   "source": [
    "filenames = sorted(list(glob('npzfiles/*.npz')))"
   ]
  },
  {
   "cell_type": "code",
   "execution_count": 4,
   "id": "3b328135-f5f2-4d03-bddf-73763b0d6dad",
   "metadata": {
    "execution": {
     "iopub.execute_input": "2021-09-09T20:08:36.376220Z",
     "iopub.status.busy": "2021-09-09T20:08:36.375243Z",
     "iopub.status.idle": "2021-09-09T20:40:41.805628Z",
     "shell.execute_reply": "2021-09-09T20:40:41.807135Z"
    }
   },
   "outputs": [
    {
     "name": "stdout",
     "output_type": "stream",
     "text": [
      "CPU times: user 1.03 s, sys: 1.07 s, total: 2.09 s\n",
      "Wall time: 32min 5s\n"
     ]
    }
   ],
   "source": [
    "%%time\n",
    "with mp.get_context(\"spawn\").Pool(25) as pool:\n",
    "    pool.map(get_NB_MLE, filenames, chunksize=1)\n",
    "    pool.close()\n",
    "    pool.join()"
   ]
  }
 ],
 "metadata": {
  "kernelspec": {
   "display_name": "Python 3",
   "language": "python",
   "name": "python3"
  },
  "language_info": {
   "codemirror_mode": {
    "name": "ipython",
    "version": 3
   },
   "file_extension": ".py",
   "mimetype": "text/x-python",
   "name": "python",
   "nbconvert_exporter": "python",
   "pygments_lexer": "ipython3",
   "version": "3.9.2"
  }
 },
 "nbformat": 4,
 "nbformat_minor": 5
}
