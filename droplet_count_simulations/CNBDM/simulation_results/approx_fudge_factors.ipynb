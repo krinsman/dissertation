{
 "cells": [
  {
   "cell_type": "code",
   "execution_count": 1,
   "id": "c22e7abd-69ae-47ee-823f-27622f2126c6",
   "metadata": {},
   "outputs": [],
   "source": [
    "import numpy as np\n",
    "import seaborn as sns\n",
    "import matplotlib.pyplot as plt\n",
    "import matplotlib.ticker as mtick"
   ]
  },
  {
   "cell_type": "code",
   "execution_count": 2,
   "id": "8122f082-572b-4301-9aae-70aa3d1e37cf",
   "metadata": {},
   "outputs": [],
   "source": [
    "simulation_results = np.load('npzfiles/CNBDM_results.018.npz')\n",
    "droplets = simulation_results['droplets']\n",
    "batch = droplets[0:10000, :]"
   ]
  },
  {
   "cell_type": "code",
   "execution_count": 3,
   "id": "80995a28-4722-4d67-b16b-9b12cac2ffe5",
   "metadata": {},
   "outputs": [],
   "source": [
    "def fudge_func(x,y,z): return (x+z)*(np.log(x+y) - np.log(x))"
   ]
  },
  {
   "cell_type": "code",
   "execution_count": 4,
   "id": "be26c5c4-657a-43f4-8333-646eb0770f97",
   "metadata": {},
   "outputs": [],
   "source": [
    "zeta = 1"
   ]
  },
  {
   "cell_type": "code",
   "execution_count": 5,
   "id": "f726253c-ebc8-4a63-9bf9-a9bb67ce37c3",
   "metadata": {},
   "outputs": [],
   "source": [
    "base_relative_abundances = [1e-4, 1e-3, 1e-2]\n",
    "\n",
    "relative_abundances = [relative_abundance * number\n",
    "                       for relative_abundance \n",
    "                       in base_relative_abundances\n",
    "                       for number in (1,2,5) \n",
    "                       for repeat in range(10)]\n",
    "\n",
    "relative_abundances += [1-sum(relative_abundances)]\n",
    "frequencies = np.array(relative_abundances)"
   ]
  },
  {
   "cell_type": "code",
   "execution_count": 6,
   "id": "08a58981-b443-4476-8e8a-1e5827e58350",
   "metadata": {},
   "outputs": [],
   "source": [
    "S = frequencies.size\n",
    "rate = 2"
   ]
  },
  {
   "cell_type": "code",
   "execution_count": 7,
   "id": "c27565ef-6e33-4773-815f-5d6e3cf9e2e2",
   "metadata": {},
   "outputs": [],
   "source": [
    "droplets_log_fudge_factor_uncorrected = rate - np.sum(droplets, axis=1) + np.sum(fudge_func(zeta*S*frequencies, droplets, droplets - 0.5), axis=1) - \\\n",
    "                                        np.sum(fudge_func(zeta*S*frequencies, frequencies*rate, droplets), axis=1)"
   ]
  },
  {
   "cell_type": "code",
   "execution_count": 8,
   "id": "b2c0b310-7189-4c8c-991b-3c279c910270",
   "metadata": {},
   "outputs": [
    {
     "data": {
      "image/png": "[encoded data removed]",
      "text/plain": [
       "<Figure size 432x288 with 1 Axes>"
      ]
     },
     "metadata": {
      "needs_background": "light"
     },
     "output_type": "display_data"
    }
   ],
   "source": [
    "axis = sns.histplot(droplets_log_fudge_factor_uncorrected, bins=30)\n",
    "axis.set_yscale(\"log\")"
   ]
  },
  {
   "cell_type": "code",
   "execution_count": 9,
   "id": "7ce74c50-44e4-41b2-96f1-5a492a7df6ad",
   "metadata": {},
   "outputs": [],
   "source": [
    "def lower_robbins(vector1, vector2, **kwargs):\n",
    "    result = 1. / (12 * vector1 + 1)\n",
    "    result -= (1. / (12 * vector2))\n",
    "    result = np.sum(result, **kwargs)\n",
    "    return result"
   ]
  },
  {
   "cell_type": "code",
   "execution_count": 10,
   "id": "42006197-96ff-4bd3-9d32-44b8944d5965",
   "metadata": {},
   "outputs": [],
   "source": [
    "def upper_robbins(vector1, vector2, **kwargs):\n",
    "    result = 1. / (12 * vector1)\n",
    "    result -= (1. / (12 * vector2 + 1))\n",
    "    result = np.sum(result, **kwargs)\n",
    "    return result"
   ]
  },
  {
   "cell_type": "code",
   "execution_count": 11,
   "id": "9c6793a2-c642-4f65-9a55-3c3b2d34f9cf",
   "metadata": {},
   "outputs": [],
   "source": [
    "lower_robbins_corrections = lower_robbins(zeta*S*frequencies + droplets, zeta*S*frequencies, axis=1)\n",
    "upper_robbins_corrections = upper_robbins(zeta*S*frequencies + droplets, zeta*S*frequencies, axis=1)"
   ]
  },
  {
   "cell_type": "code",
   "execution_count": 12,
   "id": "a3cb3e7a-afa0-4e72-966d-66dbfd607922",
   "metadata": {},
   "outputs": [],
   "source": [
    "midpoint_robbins_corrections = np.mean([lower_robbins_corrections, upper_robbins_corrections], axis=0)\n",
    "droplets_log_fudge_factor_corrected = droplets_log_fudge_factor_uncorrected + midpoint_robbins_corrections"
   ]
  },
  {
   "cell_type": "code",
   "execution_count": 13,
   "id": "ecb806b5-5ace-49d5-848c-efa2bdd2e2cb",
   "metadata": {},
   "outputs": [
    {
     "data": {
      "image/png": "[encoded data removed]",
      "text/plain": [
       "<Figure size 432x288 with 1 Axes>"
      ]
     },
     "metadata": {
      "needs_background": "light"
     },
     "output_type": "display_data"
    }
   ],
   "source": [
    "axis = sns.histplot(droplets_log_fudge_factor_corrected, bins=30)\n",
    "axis.set_yscale(\"log\")"
   ]
  },
  {
   "cell_type": "code",
   "execution_count": 14,
   "id": "4b90b5fe-7399-4196-b637-18bbb71651a7",
   "metadata": {},
   "outputs": [],
   "source": [
    "droplets_log_fudge_factor_lower = droplets_log_fudge_factor_uncorrected + lower_robbins_corrections\n",
    "droplets_log_fudge_factor_upper = droplets_log_fudge_factor_uncorrected + upper_robbins_corrections"
   ]
  },
  {
   "cell_type": "code",
   "execution_count": 15,
   "id": "fc365353-da81-4fd2-9ac0-d4d1f435421c",
   "metadata": {},
   "outputs": [
    {
     "data": {
      "image/png": "[encoded data removed]",
      "text/plain": [
       "<Figure size 432x288 with 1 Axes>"
      ]
     },
     "metadata": {
      "needs_background": "light"
     },
     "output_type": "display_data"
    }
   ],
   "source": [
    "axis = sns.histplot(droplets_log_fudge_factor_lower, bins=30)\n",
    "axis.set_yscale(\"log\")"
   ]
  },
  {
   "cell_type": "code",
   "execution_count": 16,
   "id": "c3f165b7-a10b-4a33-9632-ce9e094d2abe",
   "metadata": {},
   "outputs": [
    {
     "data": {
      "image/png": "[encoded data removed]",
      "text/plain": [
       "<Figure size 432x288 with 1 Axes>"
      ]
     },
     "metadata": {
      "needs_background": "light"
     },
     "output_type": "display_data"
    }
   ],
   "source": [
    "axis = sns.histplot(droplets_log_fudge_factor_upper, bins=30)\n",
    "axis.set_yscale(\"log\")"
   ]
  },
  {
   "cell_type": "markdown",
   "id": "8c25e392-856b-4597-adb7-87081162f6c8",
   "metadata": {},
   "source": [
    "## Grouping Droplets"
   ]
  },
  {
   "cell_type": "code",
   "execution_count": 17,
   "id": "097ea6c8-f3da-49d9-afe6-5082e10d4836",
   "metadata": {},
   "outputs": [
    {
     "data": {
      "text/plain": [
       "(10000, 91)"
      ]
     },
     "execution_count": 17,
     "metadata": {},
     "output_type": "execute_result"
    }
   ],
   "source": [
    "batch.shape"
   ]
  },
  {
   "cell_type": "code",
   "execution_count": 18,
   "id": "61b3a78d-b9ba-41fd-8962-ddcbe25a7a6f",
   "metadata": {},
   "outputs": [
    {
     "data": {
      "text/plain": [
       "array([0., 0., 0., ..., 0., 0., 0.])"
      ]
     },
     "execution_count": 18,
     "metadata": {},
     "output_type": "execute_result"
    }
   ],
   "source": [
    "all_zero_indices = np.all(batch == 0, axis=1)\n",
    "all_zero_droplets = batch[all_zero_indices,:]\n",
    "\n",
    "uncorrected_fudge = np.sum(fudge_func(zeta*S*frequencies, all_zero_droplets, all_zero_droplets - 0.5), axis=1) - fudge_func(zeta*S, np.sum(all_zero_droplets, axis=1), np.sum(all_zero_droplets, axis=1) - 0.5)\n",
    "uncorrected_fudge"
   ]
  },
  {
   "cell_type": "markdown",
   "id": "3f72eb01-d85b-49ff-b0d4-1db1d28fc99e",
   "metadata": {},
   "source": [
    "log likelihood ratio (even when including Robbins terms) for all zero droplets is 0, i.e. they are equally likely under both models -- this makes since, both HPM and HPDM are hierarchical Poisson, so the number of all zero droplets should correspond to an indicator RV of the same Poisson"
   ]
  },
  {
   "cell_type": "code",
   "execution_count": 20,
   "id": "342799e0-e8f3-45d5-99bf-53c20587bd45",
   "metadata": {},
   "outputs": [],
   "source": [
    "nonzero_counts = {}\n",
    "for i in range(9):\n",
    "    nonzero_counts[i] = np.any((droplets[:,i*10:(i+1)*10] > 0), axis=1)\n",
    "\n",
    "group_median_values_uncorrected = np.zeros((9,9))\n",
    "group_median_values = np.zeros((9,9))\n",
    "group_min_values = np.zeros((9,9))\n",
    "group_max_values = np.zeros((9,9))\n",
    "    \n",
    "for i in range(9):\n",
    "    for j in range(i,9):\n",
    "        relevant_droplet_indices = nonzero_counts[i] & nonzero_counts[j]\n",
    "        \n",
    "        uncorrected_fudge = droplets_log_fudge_factor_uncorrected[relevant_droplet_indices]\n",
    "        corrected_fudge = droplets_log_fudge_factor_corrected[relevant_droplet_indices]\n",
    "        lower_fudge = droplets_log_fudge_factor_lower[relevant_droplet_indices]\n",
    "        upper_fudge = droplets_log_fudge_factor_upper[relevant_droplet_indices]\n",
    "        \n",
    "        group_median_values_uncorrected[i,j] = np.median(uncorrected_fudge)\n",
    "        group_median_values[i,j] = np.median(corrected_fudge)\n",
    "        try:\n",
    "            group_min_values[i,j] = np.min(lower_fudge)\n",
    "        except ValueError:\n",
    "            group_min_values[i,j] = np.nan\n",
    "        try:\n",
    "            group_max_values[i,j] = np.max(upper_fudge)\n",
    "        except ValueError:\n",
    "            group_max_values[i,j] = np.nan"
   ]
  },
  {
   "cell_type": "code",
   "execution_count": 21,
   "id": "fffc9e64-481d-41bf-a42a-fca700ff9e8c",
   "metadata": {},
   "outputs": [],
   "source": [
    "def add_ticks(axes_axis):\n",
    "    axes_axis.set_ticks([0, 1, 2, 3, 4, 5, 6, 7, 8, 9])\n",
    "    axes_axis.set_minor_locator(mtick.FixedLocator([0.5, 1.5, 2.5, 3.5, 4.5, 5.5, 6.5, 7.5, 8.5]))\n",
    "    axes_axis.set_minor_formatter(mtick.FixedFormatter(['.01%', '.02%', '.05%', '0.1%', '0.2%', '0.5%', '1.0%', '2.0%', '5.0%']))"
   ]
  },
  {
   "cell_type": "code",
   "execution_count": 22,
   "id": "c2e8f89d-7c20-43d5-8171-4c51f0912c57",
   "metadata": {},
   "outputs": [
    {
     "data": {
      "image/png": "[encoded data removed]",
      "text/plain": [
       "<Figure size 432x288 with 2 Axes>"
      ]
     },
     "metadata": {
      "needs_background": "light"
     },
     "output_type": "display_data"
    }
   ],
   "source": [
    "ax = sns.heatmap(group_median_values_uncorrected, cmap=\"viridis\",\n",
    "                 mask=np.tril(np.ones((9,9)).astype(bool), k=-1), cbar_kws={'pad':0.15})\n",
    "ax.yaxis.tick_right()\n",
    "ax.xaxis.tick_top()\n",
    "add_ticks(ax.xaxis)\n",
    "add_ticks(ax.yaxis)"
   ]
  },
  {
   "cell_type": "code",
   "execution_count": 23,
   "id": "5f2c5b20-a66e-497b-92dc-ec377f5480ae",
   "metadata": {},
   "outputs": [
    {
     "data": {
      "image/png": "[encoded data removed]",
      "text/plain": [
       "<Figure size 432x288 with 2 Axes>"
      ]
     },
     "metadata": {
      "needs_background": "light"
     },
     "output_type": "display_data"
    }
   ],
   "source": [
    "ax = sns.heatmap(group_median_values, cmap=\"viridis\",\n",
    "                 mask=np.tril(np.ones((9,9)).astype(bool), k=-1), cbar_kws={'pad':0.15})\n",
    "ax.yaxis.tick_right()\n",
    "ax.xaxis.tick_top()\n",
    "add_ticks(ax.xaxis)\n",
    "add_ticks(ax.yaxis)"
   ]
  },
  {
   "cell_type": "code",
   "execution_count": 24,
   "id": "69928dc4-3cec-42dc-bf52-1c38e5d8d036",
   "metadata": {},
   "outputs": [
    {
     "data": {
      "image/png": "[encoded data removed]",
      "text/plain": [
       "<Figure size 432x288 with 2 Axes>"
      ]
     },
     "metadata": {
      "needs_background": "light"
     },
     "output_type": "display_data"
    }
   ],
   "source": [
    "ax = sns.heatmap(group_min_values, cmap=\"mako\",\n",
    "                 mask=np.tril(np.ones((9,9)).astype(bool), k=-1), cbar_kws={'pad':0.15})\n",
    "ax.yaxis.tick_right()\n",
    "ax.xaxis.tick_top()\n",
    "add_ticks(ax.xaxis)\n",
    "add_ticks(ax.yaxis)"
   ]
  },
  {
   "cell_type": "code",
   "execution_count": 25,
   "id": "6d8911df-f50f-4302-be4d-45b4e9bb4c88",
   "metadata": {},
   "outputs": [
    {
     "data": {
      "image/png": "[encoded data removed]",
      "text/plain": [
       "<Figure size 432x288 with 2 Axes>"
      ]
     },
     "metadata": {
      "needs_background": "light"
     },
     "output_type": "display_data"
    }
   ],
   "source": [
    "ax = sns.heatmap(group_max_values, cmap=\"flare_r\", \n",
    "                 mask=np.tril(np.ones((9,9)).astype(bool), k=-1), cbar_kws={'pad':0.15})\n",
    "ax.yaxis.tick_right()\n",
    "ax.xaxis.tick_top()\n",
    "add_ticks(ax.xaxis)\n",
    "add_ticks(ax.yaxis)"
   ]
  }
 ],
 "metadata": {
  "kernelspec": {
   "display_name": "Python 3",
   "language": "python",
   "name": "python3"
  },
  "language_info": {
   "codemirror_mode": {
    "name": "ipython",
    "version": 3
   },
   "file_extension": ".py",
   "mimetype": "text/x-python",
   "name": "python",
   "nbconvert_exporter": "python",
   "pygments_lexer": "ipython3",
   "version": "3.9.2"
  }
 },
 "nbformat": 4,
 "nbformat_minor": 5
}
