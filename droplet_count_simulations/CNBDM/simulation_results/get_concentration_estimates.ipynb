{
 "cells": [
  {
   "cell_type": "code",
   "execution_count": 1,
   "id": "d3a37fcc-42c5-427b-92e3-958986935b5b",
   "metadata": {},
   "outputs": [],
   "source": [
    "import numpy as np\n",
    "import multiprocessing as mp"
   ]
  },
  {
   "cell_type": "code",
   "execution_count": 2,
   "id": "b11cdf15-0246-4b91-b7f3-27966a9b93e6",
   "metadata": {},
   "outputs": [],
   "source": [
    "from glob import glob\n",
    "from analysis_utils.estimated_concentrations import get_concentration_estimates"
   ]
  },
  {
   "cell_type": "code",
   "execution_count": 3,
   "id": "05358a84-c353-4802-b61b-dead6f3aee4a",
   "metadata": {},
   "outputs": [],
   "source": [
    "filenames = sorted(list(glob('npzfiles/*.npz')))"
   ]
  },
  {
   "cell_type": "code",
   "execution_count": 4,
   "id": "646e0d28-28b5-4944-8c3f-c3b1c465e5b3",
   "metadata": {},
   "outputs": [
    {
     "name": "stdout",
     "output_type": "stream",
     "text": [
      "CPU times: user 219 ms, sys: 236 ms, total: 455 ms\n",
      "Wall time: 4min 1s\n"
     ]
    }
   ],
   "source": [
    "%%time\n",
    "with mp.get_context(\"spawn\").Pool(5) as pool:\n",
    "    pool.map(get_concentration_estimates, filenames, chunksize=1)\n",
    "    pool.close()\n",
    "    pool.join()"
   ]
  }
 ],
 "metadata": {
  "kernelspec": {
   "display_name": "Python 3",
   "language": "python",
   "name": "python3"
  },
  "language_info": {
   "codemirror_mode": {
    "name": "ipython",
    "version": 3
   },
   "file_extension": ".py",
   "mimetype": "text/x-python",
   "name": "python",
   "nbconvert_exporter": "python",
   "pygments_lexer": "ipython3",
   "version": "3.9.2"
  }
 },
 "nbformat": 4,
 "nbformat_minor": 5
}
