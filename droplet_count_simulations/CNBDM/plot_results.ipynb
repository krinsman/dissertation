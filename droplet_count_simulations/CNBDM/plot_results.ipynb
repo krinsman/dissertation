{
 "cells": [
  {
   "cell_type": "code",
   "execution_count": 1,
   "id": "cfdab493-afd0-4806-bd33-f4e49e1fb105",
   "metadata": {},
   "outputs": [],
   "source": [
    "import numpy as np\n",
    "import seaborn as sns\n",
    "import matplotlib.pyplot as plt"
   ]
  },
  {
   "cell_type": "code",
   "execution_count": 2,
   "id": "5a6f27c4-94fb-4a24-bef4-ce36e35e0190",
   "metadata": {},
   "outputs": [],
   "source": [
    "npzfile = np.load('monte_carlo_pvals.npz')\n",
    "pvals = npzfile['monte_carlo_pvals']"
   ]
  },
  {
   "cell_type": "code",
   "execution_count": 3,
   "id": "795ae7bb-d8c9-4d7b-b4ab-39fb3f25d528",
   "metadata": {},
   "outputs": [
    {
     "data": {
      "text/plain": [
       "(array([  0.,   0.,   0.,   0.,   0., 500.,   0.,   0.,   0.,   0.]),\n",
       " array([-0.5, -0.4, -0.3, -0.2, -0.1,  0. ,  0.1,  0.2,  0.3,  0.4,  0.5]),\n",
       " <BarContainer object of 10 artists>)"
      ]
     },
     "execution_count": 3,
     "metadata": {},
     "output_type": "execute_result"
    },
    {
     "data": {
      "image/png": "[encoded data removed]",
      "text/plain": [
       "<Figure size 432x288 with 1 Axes>"
      ]
     },
     "metadata": {
      "needs_background": "light"
     },
     "output_type": "display_data"
    }
   ],
   "source": [
    "plt.hist(pvals)"
   ]
  },
  {
   "cell_type": "code",
   "execution_count": 4,
   "id": "c5231b6a-8704-4e64-bbd0-147882e1c801",
   "metadata": {},
   "outputs": [
    {
     "data": {
      "text/plain": [
       "array([0., 0., 0., 0., 0., 0., 0., 0., 0., 0., 0., 0., 0., 0., 0., 0., 0.,\n",
       "       0., 0., 0., 0., 0., 0., 0., 0., 0., 0., 0., 0., 0., 0., 0., 0., 0.,\n",
       "       0., 0., 0., 0., 0., 0., 0., 0., 0., 0., 0., 0., 0., 0., 0., 0., 0.,\n",
       "       0., 0., 0., 0., 0., 0., 0., 0., 0., 0., 0., 0., 0., 0., 0., 0., 0.,\n",
       "       0., 0., 0., 0., 0., 0., 0., 0., 0., 0., 0., 0., 0., 0., 0., 0., 0.,\n",
       "       0., 0., 0., 0., 0., 0., 0., 0., 0., 0., 0., 0., 0., 0., 0., 0., 0.,\n",
       "       0., 0., 0., 0., 0., 0., 0., 0., 0., 0., 0., 0., 0., 0., 0., 0., 0.,\n",
       "       0., 0., 0., 0., 0., 0., 0., 0., 0., 0., 0., 0., 0., 0., 0., 0., 0.,\n",
       "       0., 0., 0., 0., 0., 0., 0., 0., 0., 0., 0., 0., 0., 0., 0., 0., 0.,\n",
       "       0., 0., 0., 0., 0., 0., 0., 0., 0., 0., 0., 0., 0., 0., 0., 0., 0.,\n",
       "       0., 0., 0., 0., 0., 0., 0., 0., 0., 0., 0., 0., 0., 0., 0., 0., 0.,\n",
       "       0., 0., 0., 0., 0., 0., 0., 0., 0., 0., 0., 0., 0., 0., 0., 0., 0.,\n",
       "       0., 0., 0., 0., 0., 0., 0., 0., 0., 0., 0., 0., 0., 0., 0., 0., 0.,\n",
       "       0., 0., 0., 0., 0., 0., 0., 0., 0., 0., 0., 0., 0., 0., 0., 0., 0.,\n",
       "       0., 0., 0., 0., 0., 0., 0., 0., 0., 0., 0., 0., 0., 0., 0., 0., 0.,\n",
       "       0., 0., 0., 0., 0., 0., 0., 0., 0., 0., 0., 0., 0., 0., 0., 0., 0.,\n",
       "       0., 0., 0., 0., 0., 0., 0., 0., 0., 0., 0., 0., 0., 0., 0., 0., 0.,\n",
       "       0., 0., 0., 0., 0., 0., 0., 0., 0., 0., 0., 0., 0., 0., 0., 0., 0.,\n",
       "       0., 0., 0., 0., 0., 0., 0., 0., 0., 0., 0., 0., 0., 0., 0., 0., 0.,\n",
       "       0., 0., 0., 0., 0., 0., 0., 0., 0., 0., 0., 0., 0., 0., 0., 0., 0.,\n",
       "       0., 0., 0., 0., 0., 0., 0., 0., 0., 0., 0., 0., 0., 0., 0., 0., 0.,\n",
       "       0., 0., 0., 0., 0., 0., 0., 0., 0., 0., 0., 0., 0., 0., 0., 0., 0.,\n",
       "       0., 0., 0., 0., 0., 0., 0., 0., 0., 0., 0., 0., 0., 0., 0., 0., 0.,\n",
       "       0., 0., 0., 0., 0., 0., 0., 0., 0., 0., 0., 0., 0., 0., 0., 0., 0.,\n",
       "       0., 0., 0., 0., 0., 0., 0., 0., 0., 0., 0., 0., 0., 0., 0., 0., 0.,\n",
       "       0., 0., 0., 0., 0., 0., 0., 0., 0., 0., 0., 0., 0., 0., 0., 0., 0.,\n",
       "       0., 0., 0., 0., 0., 0., 0., 0., 0., 0., 0., 0., 0., 0., 0., 0., 0.,\n",
       "       0., 0., 0., 0., 0., 0., 0., 0., 0., 0., 0., 0., 0., 0., 0., 0., 0.,\n",
       "       0., 0., 0., 0., 0., 0., 0., 0., 0., 0., 0., 0., 0., 0., 0., 0., 0.,\n",
       "       0., 0., 0., 0., 0., 0., 0.])"
      ]
     },
     "execution_count": 4,
     "metadata": {},
     "output_type": "execute_result"
    }
   ],
   "source": [
    "pvals"
   ]
  },
  {
   "cell_type": "markdown",
   "id": "ac022455-f7a4-45fa-a220-7f8832978aac",
   "metadata": {},
   "source": [
    "OK great, even at this fairly \"moderate\" level of over-dispersion, it doesn't look like CPM."
   ]
  },
  {
   "cell_type": "code",
   "execution_count": 5,
   "id": "8a1e189e-76bd-42d3-84ee-e9fad90912c1",
   "metadata": {},
   "outputs": [],
   "source": [
    "npzfile = np.load('categorical_divergences_and_chi2_approx_pvals.npz')\n",
    "categorical_divergences = npzfile['pearson_categorical_divergences']\n",
    "approx_pvals = npzfile['chi2_approx_pvals']"
   ]
  },
  {
   "cell_type": "code",
   "execution_count": 6,
   "id": "fa8c1bfc-409b-4ac2-ad2f-3f7b4c30b0a8",
   "metadata": {},
   "outputs": [
    {
     "data": {
      "text/plain": [
       "(array([499.,   0.,   0.,   0.,   0.,   0.,   0.,   0.,   0.,   1.]),\n",
       " array([8.44886314e-209, 7.29641769e-123, 1.45928354e-122, 2.18892531e-122,\n",
       "        2.91856707e-122, 3.64820884e-122, 4.37785061e-122, 5.10749238e-122,\n",
       "        5.83713415e-122, 6.56677592e-122, 7.29641769e-122]),\n",
       " <BarContainer object of 10 artists>)"
      ]
     },
     "execution_count": 6,
     "metadata": {},
     "output_type": "execute_result"
    },
    {
     "data": {
      "image/png": "[encoded data removed]",
      "text/plain": [
       "<Figure size 432x288 with 1 Axes>"
      ]
     },
     "metadata": {
      "needs_background": "light"
     },
     "output_type": "display_data"
    }
   ],
   "source": [
    "plt.hist(approx_pvals)"
   ]
  },
  {
   "cell_type": "markdown",
   "id": "a1eb3de7-179a-4ae3-bbd8-b514d3b5f3ed",
   "metadata": {},
   "source": [
    "oh wow. I guess kind of interesting though that only around one was within range to get a p-value that wasn't rounded down to exactly zero."
   ]
  },
  {
   "cell_type": "code",
   "execution_count": 7,
   "id": "5695b054-3615-433a-bd39-8fd2dd41dbe9",
   "metadata": {},
   "outputs": [
    {
     "data": {
      "text/plain": [
       "(array([  2.,  14.,  42.,  84., 135.,  95.,  75.,  35.,  15.,   3.]),\n",
       " array([6712.73287111, 6808.59576106, 6904.458651  , 7000.32154095,\n",
       "        7096.1844309 , 7192.04732085, 7287.91021079, 7383.77310074,\n",
       "        7479.63599069, 7575.49888063, 7671.36177058]),\n",
       " <BarContainer object of 10 artists>)"
      ]
     },
     "execution_count": 7,
     "metadata": {},
     "output_type": "execute_result"
    },
    {
     "data": {
      "image/png": "[encoded data removed]",
      "text/plain": [
       "<Figure size 432x288 with 1 Axes>"
      ]
     },
     "metadata": {
      "needs_background": "light"
     },
     "output_type": "display_data"
    }
   ],
   "source": [
    "plt.hist(categorical_divergences)"
   ]
  },
  {
   "cell_type": "markdown",
   "id": "0d66426a-f4c0-4c59-ad77-4fd114942a67",
   "metadata": {},
   "source": [
    "oh woah, _wow_ these values are a LOT higher than those for the CECNBDM. So it seems that even with more than 60% of those sampled from over-dispersion greater than the concentration of 1, the remaining 40% was sufficient to moderate it enough to move it beyond the realm of plausibility.\n",
    "\n",
    "But yeah I really do need to find some explanation for why/how the difference is so stark..."
   ]
  },
  {
   "cell_type": "code",
   "execution_count": null,
   "id": "b2b688d7-c7f0-43b4-86c4-7e54d57d7447",
   "metadata": {},
   "outputs": [],
   "source": []
  }
 ],
 "metadata": {
  "kernelspec": {
   "display_name": "Python 3",
   "language": "python",
   "name": "python3"
  },
  "language_info": {
   "codemirror_mode": {
    "name": "ipython",
    "version": 3
   },
   "file_extension": ".py",
   "mimetype": "text/x-python",
   "name": "python",
   "nbconvert_exporter": "python",
   "pygments_lexer": "ipython3",
   "version": "3.9.2"
  }
 },
 "nbformat": 4,
 "nbformat_minor": 5
}
