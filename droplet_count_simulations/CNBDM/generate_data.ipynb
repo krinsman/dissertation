{
 "cells": [
  {
   "cell_type": "code",
   "execution_count": 1,
   "id": "f9b6c356-f95d-45c7-8373-5c0ebd152a01",
   "metadata": {
    "execution": {
     "iopub.execute_input": "2021-05-31T13:10:19.239677Z",
     "iopub.status.busy": "2021-05-31T13:10:19.235372Z",
     "iopub.status.idle": "2021-05-31T13:10:19.465705Z",
     "shell.execute_reply": "2021-05-31T13:10:19.464770Z"
    }
   },
   "outputs": [],
   "source": [
    "import numpy as np\n",
    "import time\n",
    "import datetime\n",
    "from pathlib import Path"
   ]
  },
  {
   "cell_type": "code",
   "execution_count": 2,
   "id": "ec078c86-b8c8-4557-b30a-fbfd389f2aa8",
   "metadata": {
    "execution": {
     "iopub.execute_input": "2021-05-31T13:10:19.472146Z",
     "iopub.status.busy": "2021-05-31T13:10:19.471017Z",
     "iopub.status.idle": "2021-05-31T13:10:20.048455Z",
     "shell.execute_reply": "2021-05-31T13:10:20.047619Z"
    }
   },
   "outputs": [],
   "source": [
    "from simulations.distributions import CNBDM"
   ]
  },
  {
   "cell_type": "code",
   "execution_count": 3,
   "id": "68fc5211-476c-459d-a214-201f1397c0a3",
   "metadata": {
    "execution": {
     "iopub.execute_input": "2021-05-31T13:10:20.054943Z",
     "iopub.status.busy": "2021-05-31T13:10:20.053978Z",
     "iopub.status.idle": "2021-05-31T13:10:20.057146Z",
     "shell.execute_reply": "2021-05-31T13:10:20.056192Z"
    },
    "tags": [
     "parameters"
    ]
   },
   "outputs": [],
   "source": [
    "rate = 2\n",
    "entropy = 42\n",
    "concentration = 1.0\n",
    "number_samples = int(15e6)"
   ]
  },
  {
   "cell_type": "code",
   "execution_count": 4,
   "id": "f6020439-5650-4000-9e2e-52e63e514e37",
   "metadata": {
    "execution": {
     "iopub.execute_input": "2021-05-31T13:10:20.062977Z",
     "iopub.status.busy": "2021-05-31T13:10:20.062032Z",
     "iopub.status.idle": "2021-05-31T13:10:20.065176Z",
     "shell.execute_reply": "2021-05-31T13:10:20.064221Z"
    }
   },
   "outputs": [],
   "source": [
    "seed = np.random.SeedSequence(entropy)"
   ]
  },
  {
   "cell_type": "code",
   "execution_count": 5,
   "id": "ba10b7c3-3e4e-4e30-9642-29779fe4af49",
   "metadata": {
    "execution": {
     "iopub.execute_input": "2021-05-31T13:10:20.071978Z",
     "iopub.status.busy": "2021-05-31T13:10:20.071005Z",
     "iopub.status.idle": "2021-05-31T13:10:20.074199Z",
     "shell.execute_reply": "2021-05-31T13:10:20.073237Z"
    }
   },
   "outputs": [],
   "source": [
    "base_relative_abundances = [1e-4, 1e-3, 1e-2]\n",
    "\n",
    "relative_abundances = [relative_abundance * number\n",
    "                       for relative_abundance \n",
    "                       in base_relative_abundances\n",
    "                       for number in (1,2,5) \n",
    "                       for repeat in range(10)]\n",
    "\n",
    "relative_abundances += [1-sum(relative_abundances)]\n",
    "frequencies = np.array(relative_abundances)"
   ]
  },
  {
   "cell_type": "markdown",
   "id": "b07ceb88-2ea0-4034-b599-5ea10fc016dd",
   "metadata": {},
   "source": [
    "yes I am not vectorizing as much as I could here (I had an excuse for the CTPMHg but not now) but this code is easier to write/understand and ensure correctness.\n",
    "\n",
    "if I were to create production code that I knew/expected people would use downstream (as well as receive any credit or compensation for effort spent improving the code) I would look into better algorithms for vectorizing this."
   ]
  },
  {
   "cell_type": "markdown",
   "id": "6f959b0e-b76c-4fc0-8657-1d094d4934b9",
   "metadata": {},
   "source": [
    "## CNBDM - Compound Negative Binomial Dirichlet-Multinomial (concentration 1)"
   ]
  },
  {
   "cell_type": "code",
   "execution_count": 6,
   "id": "c3b9fc22-1460-48b6-b08e-b25890166a98",
   "metadata": {
    "execution": {
     "iopub.execute_input": "2021-05-31T13:10:20.082073Z",
     "iopub.status.busy": "2021-05-31T13:10:20.081117Z",
     "iopub.status.idle": "2021-05-31T13:10:20.084249Z",
     "shell.execute_reply": "2021-05-31T13:10:20.083276Z"
    }
   },
   "outputs": [],
   "source": [
    "def CNBDM_simulation(concentration, frequencies, rate, \n",
    "                      seed, number_samples):\n",
    "    rng = np.random.default_rng(seed)\n",
    "\n",
    "    results = [CNBDM(concentration, frequencies, rate, rng) for sample in range(number_samples)]\n",
    "    \n",
    "    results = [result.reshape((1,-1)) for result in results]\n",
    "    results = np.concatenate(results, axis=0)\n",
    "    # shape of results is now (number_droplets, number_strains)\n",
    "    return results"
   ]
  },
  {
   "cell_type": "code",
   "execution_count": 7,
   "id": "1c0c9096-8f8d-46eb-9e43-ed430f457441",
   "metadata": {
    "execution": {
     "iopub.execute_input": "2021-05-31T13:10:20.093689Z",
     "iopub.status.busy": "2021-05-31T13:10:20.092318Z",
     "iopub.status.idle": "2021-05-31T13:38:00.595281Z",
     "shell.execute_reply": "2021-05-31T13:38:00.597284Z"
    }
   },
   "outputs": [],
   "source": [
    "results_filename = 'CNBDM_results.npz'\n",
    "results_file = Path(results_filename)\n",
    "\n",
    "if results_file.is_file():\n",
    "    # simulation already ran successfully on previous attempt\n",
    "    pass\n",
    "else:\n",
    "    start_time = time.time()\n",
    "    results = CNBDM_simulation(concentration=concentration,\n",
    "                    rate=rate, seed=seed, \n",
    "                    number_samples=number_samples,\n",
    "                    frequencies=frequencies)\n",
    "    runtime = time.time() - start_time\n",
    "    \n",
    "    with open('runtime.log', 'a') as file_pointer:\n",
    "        # https://stackoverflow.com/a/775095/10634604\n",
    "        runtime_string = str(datetime.timedelta(seconds=runtime))\n",
    "        file_pointer.write('\\nRuntime was {} in Hours:Minutes:Seconds.\\n'.format(runtime_string))\n",
    "\n",
    "    np.savez_compressed(results_filename, droplets=results)"
   ]
  }
 ],
 "metadata": {
  "kernelspec": {
   "display_name": "Python 3",
   "language": "python",
   "name": "python3"
  },
  "language_info": {
   "codemirror_mode": {
    "name": "ipython",
    "version": 3
   },
   "file_extension": ".py",
   "mimetype": "text/x-python",
   "name": "python",
   "nbconvert_exporter": "python",
   "pygments_lexer": "ipython3",
   "version": "3.9.2"
  }
 },
 "nbformat": 4,
 "nbformat_minor": 5
}
