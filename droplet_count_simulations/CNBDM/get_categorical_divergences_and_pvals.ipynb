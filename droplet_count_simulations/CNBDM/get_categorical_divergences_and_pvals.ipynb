{
 "cells": [
  {
   "cell_type": "code",
   "execution_count": 1,
   "id": "6d6a55fe-dc81-417e-b6c2-e05d5017832d",
   "metadata": {
    "execution": {
     "iopub.execute_input": "2021-06-01T21:00:40.008348Z",
     "iopub.status.busy": "2021-06-01T21:00:40.000875Z",
     "iopub.status.idle": "2021-06-01T21:00:42.867343Z",
     "shell.execute_reply": "2021-06-01T21:00:42.866480Z"
    }
   },
   "outputs": [],
   "source": [
    "import numpy as np\n",
    "import multiprocessing as mp\n",
    "\n",
    "import traceback\n",
    "\n",
    "from datetime import datetime\n",
    "from glob import glob\n",
    "from simulations.global_chi2_cpm import get_chi_squared_statistic"
   ]
  },
  {
   "cell_type": "code",
   "execution_count": 2,
   "id": "78ab8bff-bcc6-4ade-80c1-73f35a91c29b",
   "metadata": {
    "execution": {
     "iopub.execute_input": "2021-06-01T21:00:42.875844Z",
     "iopub.status.busy": "2021-06-01T21:00:42.875117Z",
     "iopub.status.idle": "2021-06-01T21:00:42.878302Z",
     "shell.execute_reply": "2021-06-01T21:00:42.877489Z"
    }
   },
   "outputs": [],
   "source": [
    "base_relative_abundances = [1e-4, 1e-3, 1e-2]\n",
    "\n",
    "relative_abundances = [relative_abundance * number\n",
    "                       for relative_abundance \n",
    "                       in base_relative_abundances\n",
    "                       for number in (1,2,5) \n",
    "                       for repeat in range(10)]\n",
    "\n",
    "relative_abundances += [1-sum(relative_abundances)]\n",
    "frequencies = np.array(relative_abundances)"
   ]
  },
  {
   "cell_type": "markdown",
   "id": "8e1c1165-fe30-491f-be9a-24d04996dc3b",
   "metadata": {},
   "source": [
    "You can't pickle a lambda for some reason that has the variables inside of it, but you can do the following and pass it to multiprocessing... ugh ew. Again for anyone who ever reads this, I am lazy and don't copy this -- making too many assumptions about state (e.g. by attempting to transfer global variables) is dangerous and usually a very bad no good idea, and now is probably not an exception to that rule of thumb either."
   ]
  },
  {
   "cell_type": "code",
   "execution_count": 3,
   "id": "44f1c664-8a13-4324-95d0-7aa12258616f",
   "metadata": {
    "execution": {
     "iopub.execute_input": "2021-06-01T21:00:42.887337Z",
     "iopub.status.busy": "2021-06-01T21:00:42.886608Z",
     "iopub.status.idle": "2021-06-01T21:00:42.890040Z",
     "shell.execute_reply": "2021-06-01T21:00:42.889362Z"
    }
   },
   "outputs": [],
   "source": [
    "def abuse_globals_to_get_chi2(filename):\n",
    "    npzfile = np.load(filename)\n",
    "    batch = npzfile['droplets']\n",
    "    try:\n",
    "        assert batch.shape[1] == frequencies.shape[0]\n",
    "    except AssertionError:\n",
    "        batch = batch.T\n",
    "        assert batch.shape[1] == frequencies.shape[0]\n",
    "    results = get_chi_squared_statistic(batch, frequencies, rate=2)\n",
    "    del(batch) # Maybe help with memory management???\n",
    "    return results"
   ]
  },
  {
   "cell_type": "code",
   "execution_count": 4,
   "id": "46958cf4-739a-4080-88e6-2732ecc2d329",
   "metadata": {
    "execution": {
     "iopub.execute_input": "2021-06-01T21:00:42.901021Z",
     "iopub.status.busy": "2021-06-01T21:00:42.900044Z",
     "iopub.status.idle": "2021-06-01T21:00:43.626953Z",
     "shell.execute_reply": "2021-06-01T21:00:43.627528Z"
    }
   },
   "outputs": [],
   "source": [
    "filenames = sorted(list(glob('simulation_results/npzfiles/*.npz')))\n",
    "# make sure all files are actually valid and not corrupted\n",
    "for filename in filenames:\n",
    "    try:\n",
    "        np.load(filename) # np.load is quick, even if accessing 'attribute' of npzfile can be slow\n",
    "    except Exception as error_message:\n",
    "        timestamp_filename = datetime.now().strftime('%m-%d-%Y.at.%H_%M_%S.log')\n",
    "        with open('error_logs/{}'.format(timestamp_filename), 'a') as file_pointer:\n",
    "            file_pointer.write('Problem with file `{}`.'.format(filename))\n",
    "            file_pointer.write(str(error_message))\n",
    "            file_pointer.write(traceback.format_exc())        "
   ]
  },
  {
   "cell_type": "markdown",
   "id": "1904806c-c49c-4813-8610-f09c63407775",
   "metadata": {},
   "source": [
    "We are going to open/load the results from each of the CNBDM simulations, compute the Pearson Categorical Divergence Statistics (usually called Pearson $\\chi^2$ statistics, but that is a confusing/misleading name, especially in this context), also compute the approximate p-values assuming that the sampling distribution of the Pearson Categorical Divergence Statistic under the null multinomial distribution is approximately $\\chi^2$-distributed (hint: in this case it's not)."
   ]
  },
  {
   "cell_type": "code",
   "execution_count": 5,
   "id": "5e88e233-e529-4154-a1b9-b40309717876",
   "metadata": {
    "execution": {
     "iopub.execute_input": "2021-06-01T21:00:43.639681Z",
     "iopub.status.busy": "2021-06-01T21:00:43.639045Z",
     "iopub.status.idle": "2021-06-02T00:55:31.665437Z",
     "shell.execute_reply": "2021-06-02T00:55:31.666974Z"
    }
   },
   "outputs": [
    {
     "name": "stdout",
     "output_type": "stream",
     "text": [
      "CPU times: user 2.49 s, sys: 7.34 s, total: 9.83 s\n",
      "Wall time: 3h 54min 48s\n"
     ]
    }
   ],
   "source": [
    "%%time\n",
    "try:\n",
    "    pool = mp.Pool(35)\n",
    "    # fairly clear argument on why chunksize = 1 makes sense for tasks with super small input\n",
    "    # in this case a filename, and really slow tasks, https://stackoverflow.com/a/56337662/10634604\n",
    "    results = pool.map(abuse_globals_to_get_chi2, filenames, chunksize=1)\n",
    "    pool.close()\n",
    "    pool.join()\n",
    "except Exception as error_message:\n",
    "    timestamp_filename = datetime.now().strftime('%m-%d-%Y.at.%H_%M_%S.log')\n",
    "    with open('error_logs/{}'.format(timestamp_filename), 'a') as file_pointer:\n",
    "        file_pointer.write(str(error_message))\n",
    "        file_pointer.write(traceback.format_exc())"
   ]
  },
  {
   "cell_type": "markdown",
   "id": "d90c78c2-b39d-4880-b7ec-8857b4a71b21",
   "metadata": {},
   "source": [
    "Then we save the results to disk, so we can load the Pearson Categorical Divergences later and compute their Monte Carlo approximate p values from an empirical sample of 1 Billion draws from the sampling distribution of the Pearson Categorical Divergence Statistic under the null multinomial distribution."
   ]
  },
  {
   "cell_type": "code",
   "execution_count": 6,
   "id": "6576c21f-0118-4e07-8d8c-fcd1c9cc739a",
   "metadata": {
    "execution": {
     "iopub.execute_input": "2021-06-02T00:55:31.682771Z",
     "iopub.status.busy": "2021-06-02T00:55:31.681300Z",
     "iopub.status.idle": "2021-06-02T00:55:31.704295Z",
     "shell.execute_reply": "2021-06-02T00:55:31.705464Z"
    }
   },
   "outputs": [],
   "source": [
    "pearson_categorical_divergences, chi2_approx_pvals = list(zip(*results))\n",
    "pearson_categorical_divergences = np.asarray(pearson_categorical_divergences)\n",
    "chi2_approx_pvals = np.asarray(chi2_approx_pvals)\n",
    "\n",
    "np.savez_compressed('categorical_divergences_and_chi2_approx_pvals.npz',\n",
    "                   pearson_categorical_divergences=pearson_categorical_divergences,\n",
    "                   chi2_approx_pvals=chi2_approx_pvals)"
   ]
  },
  {
   "cell_type": "markdown",
   "id": "b90f0a09-8176-4c3a-8783-942a1fab4735",
   "metadata": {},
   "source": [
    "## Get Monte Carlo p values"
   ]
  },
  {
   "cell_type": "code",
   "execution_count": 7,
   "id": "829edbcc-9770-4e88-bdb1-559ccfc708a2",
   "metadata": {
    "execution": {
     "iopub.execute_input": "2021-06-02T00:55:31.715608Z",
     "iopub.status.busy": "2021-06-02T00:55:31.714191Z",
     "iopub.status.idle": "2021-06-02T00:55:31.718065Z",
     "shell.execute_reply": "2021-06-02T00:55:31.719381Z"
    }
   },
   "outputs": [],
   "source": [
    "from statsmodels.distributions.empirical_distribution import ECDF"
   ]
  },
  {
   "cell_type": "markdown",
   "id": "8b915bc7-2e68-4cb6-badb-74c43c07a790",
   "metadata": {},
   "source": [
    "Load our simulated empirical distribution of the Pearson categorical divergence statistic under the null multinomial distribution. (So basically a \"Monte Carlo approximation to an exact Multinomial test for Pearson's $\\chi^2$ statistic\", using more standard terminology.)"
   ]
  },
  {
   "cell_type": "code",
   "execution_count": 8,
   "id": "dc821d65-8620-46c7-8a4d-9f8c93f9f93f",
   "metadata": {
    "execution": {
     "iopub.execute_input": "2021-06-02T00:55:31.728971Z",
     "iopub.status.busy": "2021-06-02T00:55:31.727492Z",
     "iopub.status.idle": "2021-06-02T00:56:50.141206Z",
     "shell.execute_reply": "2021-06-02T00:56:50.142214Z"
    }
   },
   "outputs": [
    {
     "data": {
      "text/plain": [
       "(1000000000,)"
      ]
     },
     "execution_count": 1,
     "metadata": {},
     "output_type": "execute_result"
    }
   ],
   "source": [
    "mc_npzfile = np.load('../monte_carlo_results/complete_chi2_simulation.npz')\n",
    "monte_carlo_vals = mc_npzfile['chi2_stats']\n",
    "monte_carlo_vals.shape"
   ]
  },
  {
   "cell_type": "code",
   "execution_count": 9,
   "id": "6f73df26-cb63-441f-b670-6c6f4b69a949",
   "metadata": {
    "execution": {
     "iopub.execute_input": "2021-06-02T00:56:50.150465Z",
     "iopub.status.busy": "2021-06-02T00:56:50.149043Z",
     "iopub.status.idle": "2021-06-02T01:00:18.806642Z",
     "shell.execute_reply": "2021-06-02T01:00:18.805115Z"
    }
   },
   "outputs": [],
   "source": [
    "monte_carlo_ecdf = ECDF(monte_carlo_vals)"
   ]
  },
  {
   "cell_type": "markdown",
   "id": "9e14e498-4b2a-4560-a2cb-164c51b99243",
   "metadata": {},
   "source": [
    "The $p$-values correspond to the survival function (probability of being _more_ extreme, rather than CDF=no more extreme than), i.e. $1 - CDF$."
   ]
  },
  {
   "cell_type": "code",
   "execution_count": 10,
   "id": "042df704-8930-4c96-96dd-24638b387ce9",
   "metadata": {
    "execution": {
     "iopub.execute_input": "2021-06-02T01:00:18.818770Z",
     "iopub.status.busy": "2021-06-02T01:00:18.818158Z",
     "iopub.status.idle": "2021-06-02T01:00:18.822028Z",
     "shell.execute_reply": "2021-06-02T01:00:18.822519Z"
    }
   },
   "outputs": [],
   "source": [
    "monte_carlo_pvals = 1. - monte_carlo_ecdf(pearson_categorical_divergences)"
   ]
  },
  {
   "cell_type": "markdown",
   "id": "d16c1072-664e-4bdf-ba1a-3c6072a70516",
   "metadata": {},
   "source": [
    "For easy/quick reference/use later"
   ]
  },
  {
   "cell_type": "code",
   "execution_count": 11,
   "id": "31177cf3-8954-4132-9f8e-6a4764e9fcd7",
   "metadata": {
    "execution": {
     "iopub.execute_input": "2021-06-02T01:00:18.829890Z",
     "iopub.status.busy": "2021-06-02T01:00:18.829252Z",
     "iopub.status.idle": "2021-06-02T01:00:18.840300Z",
     "shell.execute_reply": "2021-06-02T01:00:18.839658Z"
    }
   },
   "outputs": [],
   "source": [
    "np.savez_compressed('monte_carlo_pvals.npz', monte_carlo_pvals=monte_carlo_pvals)"
   ]
  }
 ],
 "metadata": {
  "kernelspec": {
   "display_name": "Python 3",
   "language": "python",
   "name": "python3"
  },
  "language_info": {
   "codemirror_mode": {
    "name": "ipython",
    "version": 3
   },
   "file_extension": ".py",
   "mimetype": "text/x-python",
   "name": "python",
   "nbconvert_exporter": "python",
   "pygments_lexer": "ipython3",
   "version": "3.9.2"
  }
 },
 "nbformat": 4,
 "nbformat_minor": 5
}
