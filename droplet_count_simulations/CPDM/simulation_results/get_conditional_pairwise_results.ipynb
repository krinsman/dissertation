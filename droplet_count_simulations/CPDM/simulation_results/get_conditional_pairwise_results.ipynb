{
 "cells": [
  {
   "cell_type": "code",
   "execution_count": 1,
   "id": "b4503fd0",
   "metadata": {
    "execution": {
     "iopub.execute_input": "2021-07-09T09:17:29.159266Z",
     "iopub.status.busy": "2021-07-09T09:17:29.157767Z",
     "iopub.status.idle": "2021-07-09T09:17:32.804465Z",
     "shell.execute_reply": "2021-07-09T09:17:32.802660Z"
    }
   },
   "outputs": [],
   "source": [
    "from datetime import datetime\n",
    "import traceback\n",
    "import numpy as np\n",
    "from pathlib import Path\n",
    "from glob import glob\n",
    "import multiprocessing as mp\n",
    "\n",
    "from zipfile import BadZipfile\n",
    "\n",
    "from analysis_utils.generate_conditional_pairwise_hypothesis_test_results import get_conditional_pairwise_results"
   ]
  },
  {
   "cell_type": "code",
   "execution_count": 2,
   "id": "c7bfb66b-dd59-4328-8011-65e335db84ca",
   "metadata": {
    "execution": {
     "iopub.execute_input": "2021-07-09T09:17:32.813765Z",
     "iopub.status.busy": "2021-07-09T09:17:32.812326Z",
     "iopub.status.idle": "2021-07-09T09:17:32.816396Z",
     "shell.execute_reply": "2021-07-09T09:17:32.817529Z"
    },
    "tags": [
     "parameters"
    ]
   },
   "outputs": [],
   "source": [
    "simulation_basename = 'CPDM'\n",
    "number_simulations = 500"
   ]
  },
  {
   "cell_type": "markdown",
   "id": "544b1474-31fe-4ebb-a650-8c6194822a91",
   "metadata": {},
   "source": [
    "Check to see whether all filenames actually exist already and are what we expect"
   ]
  },
  {
   "cell_type": "code",
   "execution_count": 3,
   "id": "bf0ebed7-cefc-4235-b35f-03e5bc2b87b7",
   "metadata": {
    "execution": {
     "iopub.execute_input": "2021-07-09T09:17:32.834096Z",
     "iopub.status.busy": "2021-07-09T09:17:32.828646Z",
     "iopub.status.idle": "2021-07-09T09:17:32.883096Z",
     "shell.execute_reply": "2021-07-09T09:17:32.884234Z"
    }
   },
   "outputs": [],
   "source": [
    "prettify = lambda integer: str(integer).zfill(len(str(number_simulations)))\n",
    "filenames = sorted(list(glob('npzfiles/*.npz')))[0:number_simulations]\n",
    "\n",
    "simulation_numbers = list(range(1, number_simulations+1))\n",
    "expected_filenames = ['npzfiles/{}_results.{}.npz'.format(simulation_basename, prettify(simulation_number))\n",
    "                      for simulation_number in simulation_numbers]\n",
    "\n",
    "try:\n",
    "    assert filenames == expected_filenames\n",
    "except AssertionError as error_message:\n",
    "    timestamp_filename = datetime.now().strftime('%m-%d-%Y.at.%H_%M_%S.log')\n",
    "    with open('error_logs/{}'.format(timestamp_filename), 'a') as file_pointer:\n",
    "        file_pointer.write('The expected filenames did not match the actual filenames.')\n",
    "        file_pointer.write(' Some files may be missing, or something else may be wrong\\n')\n",
    "        file_pointer.write(str(error_message))\n",
    "        file_pointer.write(traceback.format_exc())\n",
    "    raise error_message"
   ]
  },
  {
   "cell_type": "markdown",
   "id": "1802eb87-7c82-4e02-a632-a76909c08f3b",
   "metadata": {},
   "source": [
    "make sure all files are actually valid and not corrupted"
   ]
  },
  {
   "cell_type": "code",
   "execution_count": 4,
   "id": "ed8b3119-e91f-4447-af32-85cba04a88d6",
   "metadata": {
    "execution": {
     "iopub.execute_input": "2021-07-09T09:17:32.896660Z",
     "iopub.status.busy": "2021-07-09T09:17:32.895214Z",
     "iopub.status.idle": "2021-07-09T09:18:19.127327Z",
     "shell.execute_reply": "2021-07-09T09:18:19.125745Z"
    }
   },
   "outputs": [],
   "source": [
    "for filename in filenames:\n",
    "    try:\n",
    "        np.load(filename) # np.load is quick, even if accessing 'attribute' of npzfile can be slow\n",
    "    except (FileNotFoundError, BadZipfile) as error_message:\n",
    "        timestamp_filename = datetime.now().strftime('%m-%d-%Y.at.%H_%M_%S.log')\n",
    "        with open('error_logs/{}'.format(timestamp_filename), 'a') as file_pointer:\n",
    "            file_pointer.write('Problem with file `{}`.'.format(filename))\n",
    "            file_pointer.write(str(error_message))\n",
    "            file_pointer.write(traceback.format_exc())  \n",
    "        raise error_message"
   ]
  },
  {
   "cell_type": "markdown",
   "id": "f87beee9-c9ff-4742-b820-1535eaad2108",
   "metadata": {},
   "source": [
    "Actually generate the results -- this will be slow"
   ]
  },
  {
   "cell_type": "code",
   "execution_count": 5,
   "id": "58d4a34d-a0e8-409f-9754-59d693f60fe1",
   "metadata": {
    "execution": {
     "iopub.execute_input": "2021-07-09T09:18:19.138794Z",
     "iopub.status.busy": "2021-07-09T09:18:19.137344Z",
     "iopub.status.idle": "2021-07-09T09:18:19.142345Z",
     "shell.execute_reply": "2021-07-09T09:18:19.141076Z"
    }
   },
   "outputs": [],
   "source": [
    "parallel_input = [[filename, simulation_basename, number_simulations]\n",
    "                 for filename in filenames]"
   ]
  },
  {
   "cell_type": "code",
   "execution_count": 6,
   "id": "951efe6a",
   "metadata": {
    "execution": {
     "iopub.execute_input": "2021-07-09T09:18:19.154571Z",
     "iopub.status.busy": "2021-07-09T09:18:19.153139Z",
     "iopub.status.idle": "2021-07-10T14:58:47.853869Z",
     "shell.execute_reply": "2021-07-10T14:58:47.855261Z"
    }
   },
   "outputs": [
    {
     "name": "stdout",
     "output_type": "stream",
     "text": [
      "CPU times: user 44.6 s, sys: 1min 16s, total: 2min\n",
      "Wall time: 1d 5h 40min 28s\n"
     ]
    }
   ],
   "source": [
    "%%time\n",
    "with mp.get_context(\"spawn\").Pool(30) as pool:\n",
    "    pool.starmap(get_conditional_pairwise_results, parallel_input, chunksize=1)\n",
    "    pool.close()\n",
    "    pool.join()"
   ]
  },
  {
   "cell_type": "markdown",
   "id": "322d6c62-e414-4bae-9eff-ea4db3cf5360",
   "metadata": {},
   "source": [
    "Combine results into one file"
   ]
  },
  {
   "cell_type": "code",
   "execution_count": 7,
   "id": "42ba0011-5fe1-40d5-b215-1c54de5e4450",
   "metadata": {
    "execution": {
     "iopub.execute_input": "2021-07-10T14:58:47.870112Z",
     "iopub.status.busy": "2021-07-10T14:58:47.868570Z",
     "iopub.status.idle": "2021-07-10T14:58:47.896429Z",
     "shell.execute_reply": "2021-07-10T14:58:47.894879Z"
    }
   },
   "outputs": [],
   "source": [
    "results_filenames = sorted(list(glob('conditional_pairwise_results/{}_*.npz'.format(simulation_basename))))"
   ]
  },
  {
   "cell_type": "markdown",
   "id": "69d95a62-c0db-47dd-89aa-ccd9cef171a5",
   "metadata": {},
   "source": [
    "make sure combined results actually completed correctly"
   ]
  },
  {
   "cell_type": "code",
   "execution_count": 8,
   "id": "a998de26-27cb-4ef8-b4ca-562f1f59e96b",
   "metadata": {
    "execution": {
     "iopub.execute_input": "2021-07-10T14:58:47.912817Z",
     "iopub.status.busy": "2021-07-10T14:58:47.911503Z",
     "iopub.status.idle": "2021-07-10T14:58:49.933208Z",
     "shell.execute_reply": "2021-07-10T14:58:49.931736Z"
    },
    "tags": []
   },
   "outputs": [],
   "source": [
    "for results_filename in results_filenames:\n",
    "    try:\n",
    "        npzfile = np.load(results_filename)\n",
    "        # don't care about the order, list comparison can fail based on order\n",
    "        assert set(npzfile.files) == {'divergences', 'pvals', 'difference_vectors'}\n",
    "    except (FileNotFoundError, BadZipfile) as error_message:\n",
    "        results_file = Path(results_filename)\n",
    "        results_file.unlink(missing_ok=True) # delete corrupted file if it exists\n",
    "        timestamp_filename = datetime.now().strftime('%m-%d-%Y.at.%H_%M_%S.log')\n",
    "        with open('error_logs/{}'.format(timestamp_filename), 'a') as file_pointer:\n",
    "            file_pointer.write('Problem with file `{}`.'.format(results_filename))\n",
    "            file_pointer.write(str(error_message))\n",
    "            file_pointer.write(traceback.format_exc())   \n",
    "        raise error_message"
   ]
  },
  {
   "cell_type": "markdown",
   "id": "91b733ff-d799-4e8b-a29e-e80628e11398",
   "metadata": {},
   "source": [
    "get the correct dimensions"
   ]
  },
  {
   "cell_type": "code",
   "execution_count": 9,
   "id": "42d4a9ad-8efd-4e24-a121-693803bab6b5",
   "metadata": {
    "execution": {
     "iopub.execute_input": "2021-07-10T14:58:49.947499Z",
     "iopub.status.busy": "2021-07-10T14:58:49.945479Z",
     "iopub.status.idle": "2021-07-10T14:58:49.963500Z",
     "shell.execute_reply": "2021-07-10T14:58:49.962268Z"
    }
   },
   "outputs": [],
   "source": [
    "test_npzfile = np.load(results_filenames[0])\n",
    "divergence_shape = test_npzfile['divergences'].shape\n",
    "pvals_shape = test_npzfile['pvals'].shape\n",
    "difference_vectors_shape = test_npzfile['difference_vectors'].shape\n",
    "\n",
    "divergences = np.zeros((*divergence_shape, number_simulations))\n",
    "pvals = np.zeros((*pvals_shape, number_simulations))\n",
    "difference_vectors = np.zeros((*difference_vectors_shape, number_simulations))"
   ]
  },
  {
   "cell_type": "markdown",
   "id": "d464bd37-3461-40fb-b471-b39f49bfee56",
   "metadata": {},
   "source": [
    "open and load them all and add their values"
   ]
  },
  {
   "cell_type": "code",
   "execution_count": 10,
   "id": "286b6ce0-16df-4871-8d9f-c0d8c8e777e5",
   "metadata": {
    "execution": {
     "iopub.execute_input": "2021-07-10T14:58:49.977720Z",
     "iopub.status.busy": "2021-07-10T14:58:49.974945Z",
     "iopub.status.idle": "2021-07-10T14:59:03.330278Z",
     "shell.execute_reply": "2021-07-10T14:59:03.328999Z"
    }
   },
   "outputs": [],
   "source": [
    "for counter, results_filename in enumerate(results_filenames):\n",
    "    npzfile = np.load(results_filename)\n",
    "    \n",
    "    divergences[..., counter] = npzfile['divergences']\n",
    "    pvals[..., counter] = npzfile['pvals']\n",
    "    difference_vectors[..., counter] = npzfile['difference_vectors']\n",
    "    \n",
    "all_results_filename = 'conditional_pairwise_results/all_results.npz'\n",
    "all_results_file = Path(all_results_filename)\n",
    "# if somehow `conditional_pairwise_results` directory got deleted but everything was somehow still saved in memory?\n",
    "all_results_file.parent.mkdir(parents=True, exist_ok=True)\n",
    "np.savez_compressed(all_results_filename, divergences=divergences,\n",
    "                   pvals=pvals, difference_vectors=difference_vectors)"
   ]
  }
 ],
 "metadata": {
  "kernelspec": {
   "display_name": "Python 3",
   "language": "python",
   "name": "python3"
  },
  "language_info": {
   "codemirror_mode": {
    "name": "ipython",
    "version": 3
   },
   "file_extension": ".py",
   "mimetype": "text/x-python",
   "name": "python",
   "nbconvert_exporter": "python",
   "pygments_lexer": "ipython3",
   "version": "3.9.2"
  }
 },
 "nbformat": 4,
 "nbformat_minor": 5
}
