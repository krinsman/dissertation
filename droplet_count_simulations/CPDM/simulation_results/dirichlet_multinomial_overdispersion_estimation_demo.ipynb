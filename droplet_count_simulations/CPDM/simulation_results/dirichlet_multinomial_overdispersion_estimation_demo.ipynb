{
 "cells": [
  {
   "cell_type": "code",
   "execution_count": 1,
   "id": "978be306",
   "metadata": {},
   "outputs": [],
   "source": [
    "import numpy as np\n",
    "npzfile = np.load('npzfiles/CPDM_results.001.npz')"
   ]
  },
  {
   "cell_type": "code",
   "execution_count": 32,
   "id": "53d1668c-839e-4d50-9b5f-1a26f20396de",
   "metadata": {},
   "outputs": [],
   "source": [
    "base_relative_abundances = [1e-4, 1e-3, 1e-2]\n",
    "\n",
    "relative_abundances = [relative_abundance * number\n",
    "                       for relative_abundance \n",
    "                       in base_relative_abundances\n",
    "                       for number in (1,2,5) \n",
    "                       for repeat in range(10)]\n",
    "\n",
    "relative_abundances += [1-sum(relative_abundances)]\n",
    "frequencies = np.array(relative_abundances)"
   ]
  },
  {
   "cell_type": "code",
   "execution_count": 2,
   "id": "f5a88642",
   "metadata": {},
   "outputs": [],
   "source": [
    "droplets = npzfile['droplets']"
   ]
  },
  {
   "cell_type": "code",
   "execution_count": 3,
   "id": "0b24b53e-9f93-4fe5-aff8-d80a10e2d6a4",
   "metadata": {},
   "outputs": [
    {
     "data": {
      "text/plain": [
       "(15000000, 91)"
      ]
     },
     "execution_count": 3,
     "metadata": {},
     "output_type": "execute_result"
    }
   ],
   "source": [
    "droplets.shape"
   ]
  },
  {
   "cell_type": "code",
   "execution_count": 4,
   "id": "6ea9abf3-6cf8-4d51-8c15-8bf4f4274db3",
   "metadata": {},
   "outputs": [
    {
     "data": {
      "text/plain": [
       "array([ 0,  1,  2,  3,  4,  5,  6,  7,  8,  9, 10])"
      ]
     },
     "execution_count": 4,
     "metadata": {},
     "output_type": "execute_result"
    }
   ],
   "source": [
    "test_batch = droplets[0:10000,...]\n",
    "counts = np.sum(test_batch, axis=1)\n",
    "cell_num_levels = np.unique(counts)\n",
    "cell_num_levels"
   ]
  },
  {
   "cell_type": "code",
   "execution_count": 5,
   "id": "29a263a5-81a1-45c0-b3d5-f891445d3f61",
   "metadata": {},
   "outputs": [],
   "source": [
    "stratified_droplets = [test_batch[counts == cell_num_level, :] for cell_num_level in cell_num_levels]"
   ]
  },
  {
   "cell_type": "code",
   "execution_count": 7,
   "id": "b30560a8-827a-4d93-bb9f-ba9be4a9c599",
   "metadata": {},
   "outputs": [
    {
     "data": {
      "text/plain": [
       "[(1340, 91),\n",
       " (2704, 91),\n",
       " (2757, 91),\n",
       " (1772, 91),\n",
       " (883, 91),\n",
       " (372, 91),\n",
       " (119, 91),\n",
       " (36, 91),\n",
       " (12, 91),\n",
       " (4, 91),\n",
       " (1, 91)]"
      ]
     },
     "execution_count": 7,
     "metadata": {},
     "output_type": "execute_result"
    }
   ],
   "source": [
    "[stratum.shape for stratum in stratified_droplets]"
   ]
  },
  {
   "cell_type": "code",
   "execution_count": 8,
   "id": "9a8793f7-42aa-494a-bfe4-7fdffef35b53",
   "metadata": {},
   "outputs": [
    {
     "data": {
      "text/plain": [
       "8660"
      ]
     },
     "execution_count": 8,
     "metadata": {},
     "output_type": "execute_result"
    }
   ],
   "source": [
    "nonzero_droplets_count = np.sum([stratum.shape[0] for stratum in stratified_droplets[1:]])\n",
    "nonzero_droplets_count"
   ]
  },
  {
   "cell_type": "code",
   "execution_count": 9,
   "id": "a1f219c0-1de1-4cae-bb2c-8be20b4a05b9",
   "metadata": {},
   "outputs": [
    {
     "data": {
      "text/plain": [
       "8660"
      ]
     },
     "execution_count": 9,
     "metadata": {},
     "output_type": "execute_result"
    }
   ],
   "source": [
    "10000 - 1340"
   ]
  },
  {
   "cell_type": "code",
   "execution_count": 20,
   "id": "a5083d25-8cc6-4d65-8d86-8994ae072086",
   "metadata": {},
   "outputs": [
    {
     "data": {
      "text/plain": [
       "[0.31224018475750576,\n",
       " 0.31836027713625864,\n",
       " 0.2046189376443418,\n",
       " 0.10196304849884527,\n",
       " 0.04295612009237875,\n",
       " 0.01374133949191686,\n",
       " 0.004157043879907622,\n",
       " 0.0013856812933025404,\n",
       " 0.00046189376443418013,\n",
       " 0.00011547344110854503]"
      ]
     },
     "execution_count": 20,
     "metadata": {},
     "output_type": "execute_result"
    }
   ],
   "source": [
    "emp_freq_weights = [stratum.shape[0]/nonzero_droplets_count for stratum in stratified_droplets[1:]]\n",
    "emp_freq_weights"
   ]
  },
  {
   "cell_type": "code",
   "execution_count": 21,
   "id": "5c12ffc2-d245-4380-917a-7b75fd6b4547",
   "metadata": {},
   "outputs": [],
   "source": [
    "emp_means_strata = [np.mean(stratum, axis=0) for stratum in stratified_droplets[1:]]\n",
    "emp_freqs_strata = [emp_means_stratum/n for n, emp_means_stratum in enumerate(emp_means_strata, 1)]"
   ]
  },
  {
   "cell_type": "code",
   "execution_count": 23,
   "id": "240db16a-0ac4-4228-b3be-033f2d6a2909",
   "metadata": {},
   "outputs": [],
   "source": [
    "emp_freqs = np.sum([emp_freq_weight*emp_freqs_stratum \n",
    "        for emp_freq_weight, emp_freqs_stratum \n",
    "        in zip(emp_freq_weights, emp_freqs_strata)], axis=0)"
   ]
  },
  {
   "cell_type": "code",
   "execution_count": 24,
   "id": "2524ea93-d0d3-42e8-baa1-4661a9f1f242",
   "metadata": {},
   "outputs": [],
   "source": [
    "def get_plugin_mult_cov(n, emp_freqs):\n",
    "    plugin_mult_cov = -n*np.outer(emp_freqs, emp_freqs)\n",
    "    np.fill_diagonal(plugin_mult_cov, n*emp_freqs*(1.-emp_freqs))\n",
    "    return plugin_mult_cov"
   ]
  },
  {
   "cell_type": "markdown",
   "id": "ba904281-bbd9-4c10-8a3d-d4ebda58d7cb",
   "metadata": {},
   "source": [
    "no dirichlet-multinomial over-dispersion for $n=1$, so skip that level"
   ]
  },
  {
   "cell_type": "code",
   "execution_count": 36,
   "id": "c89033f9-1ff0-4af8-a7d9-b84807254b0c",
   "metadata": {},
   "outputs": [
    {
     "data": {
      "text/plain": [
       "[0.46289456010745467,\n",
       " 0.29751511081262594,\n",
       " 0.14825386165211552,\n",
       " 0.062458025520483546,\n",
       " 0.019979852249832102,\n",
       " 0.006044325050369375,\n",
       " 0.0020147750167897917,\n",
       " 0.000671591672263264,\n",
       " 0.000167897918065816]"
      ]
     },
     "execution_count": 36,
     "metadata": {},
     "output_type": "execute_result"
    }
   ],
   "source": [
    "multi_cell_droplets_count = np.sum([stratum.shape[0] for stratum in stratified_droplets[2:]])\n",
    "emp_overdisp_weights = [stratum.shape[0]/multi_cell_droplets_count for stratum in stratified_droplets[2:]]\n",
    "emp_overdisp_weights"
   ]
  },
  {
   "cell_type": "code",
   "execution_count": 26,
   "id": "b0f4a599-0fd4-4626-8fda-c81686aeaf08",
   "metadata": {},
   "outputs": [],
   "source": [
    "plugin_mult_covs = [get_plugin_mult_cov(n, emp_freqs) for n in range(2,11)]"
   ]
  },
  {
   "cell_type": "code",
   "execution_count": 29,
   "id": "557c1a83-a6d7-4c40-b8a1-6631fcc25ef1",
   "metadata": {},
   "outputs": [],
   "source": [
    "def get_emp_cov(droplets_stratum, frequencies):\n",
    "    try:\n",
    "        _, number_frequencies = droplets_stratum.shape\n",
    "        assert frequencies.size == number_frequencies\n",
    "    except AssertionError:\n",
    "        droplets_stratum = droplets_stratum.T # just makes a view, it should be cheap\n",
    "        _, number_frequencies = droplets_stratum.shape\n",
    "        assert frequencies.size == number_frequencies\n",
    "        \n",
    "    return np.cov(droplets_stratum.T, bias=True)"
   ]
  },
  {
   "cell_type": "code",
   "execution_count": 33,
   "id": "96c42ede-a023-4a2d-abbb-16ba6aed22d7",
   "metadata": {},
   "outputs": [],
   "source": [
    "emp_covs = [get_emp_cov(droplets_stratum, frequencies)\n",
    "           for droplets_stratum in stratified_droplets[2:]]"
   ]
  },
  {
   "cell_type": "code",
   "execution_count": 34,
   "id": "033919d3-5c74-459c-979b-441b08d0df11",
   "metadata": {},
   "outputs": [
    {
     "data": {
      "text/plain": [
       "9"
      ]
     },
     "execution_count": 34,
     "metadata": {},
     "output_type": "execute_result"
    }
   ],
   "source": [
    "len(emp_covs)"
   ]
  },
  {
   "cell_type": "code",
   "execution_count": 39,
   "id": "3fd7cdae-1467-4e51-ab4e-d5f307e100e6",
   "metadata": {},
   "outputs": [],
   "source": [
    "def get_emp_overdisp(emp_cov, plugin_mult_cov):\n",
    "    diff_matrix = emp_cov - plugin_mult_cov\n",
    "    emp_overdisp = diff_matrix / (plugin_mult_cov + (plugin_mult_cov == 0))\n",
    "    return emp_overdisp"
   ]
  },
  {
   "cell_type": "code",
   "execution_count": 40,
   "id": "81216f55-bb32-4706-953c-9ba42f6bb4b3",
   "metadata": {},
   "outputs": [],
   "source": [
    "emp_overdisp_mats = [get_emp_overdisp(emp_cov, plugin_mult_cov)\n",
    "                    for emp_cov, plugin_mult_cov\n",
    "                    in zip(emp_covs, plugin_mult_covs)]"
   ]
  },
  {
   "cell_type": "code",
   "execution_count": 41,
   "id": "6e944591-1dfa-4bd0-b8e0-e4902a407f99",
   "metadata": {},
   "outputs": [
    {
     "data": {
      "text/plain": [
       "array([[ 0.5318672 ,  0.        , -1.        , ...,  1.90661464,\n",
       "         2.2803652 ,  1.93509772],\n",
       "       [ 0.        ,  0.        ,  0.        , ...,  0.        ,\n",
       "         0.        ,  0.        ],\n",
       "       [-1.        ,  0.        , -1.        , ..., -1.        ,\n",
       "        -1.        , -1.        ],\n",
       "       ...,\n",
       "       [ 1.90661464,  0.        , -1.        , ..., -0.05099508,\n",
       "        -0.20445478,  0.01392072],\n",
       "       [ 2.2803652 ,  0.        , -1.        , ..., -0.20445478,\n",
       "         0.06047489, -0.31604295],\n",
       "       [ 1.93509772,  0.        , -1.        , ...,  0.01392072,\n",
       "        -0.31604295, -0.04033345]])"
      ]
     },
     "execution_count": 41,
     "metadata": {},
     "output_type": "execute_result"
    }
   ],
   "source": [
    "emp_overdisp_mats[0]"
   ]
  },
  {
   "cell_type": "code",
   "execution_count": 43,
   "id": "7efb0690-75ba-4c3e-a01b-d214234fc87b",
   "metadata": {},
   "outputs": [],
   "source": [
    "adjusted_emp_overdisp_mats = [emp_overdisp_mat/(n-1) \n",
    "                              for n, emp_overdisp_mat \n",
    "                              in enumerate(emp_overdisp_mats, 2)]"
   ]
  },
  {
   "cell_type": "code",
   "execution_count": 45,
   "id": "c9ccbcfa-b88b-4510-9423-e8f1a04a7d7f",
   "metadata": {},
   "outputs": [
    {
     "data": {
      "text/plain": [
       "array([[ 1.91344724e-01,  0.00000000e+00, -6.82078363e-01, ...,\n",
       "         1.58605902e+00,  2.84944545e-01,  1.63728002e+00],\n",
       "       [ 0.00000000e+00,  0.00000000e+00,  0.00000000e+00, ...,\n",
       "         0.00000000e+00,  0.00000000e+00,  0.00000000e+00],\n",
       "       [-6.82078363e-01,  0.00000000e+00, -6.82078363e-01, ...,\n",
       "        -6.82078363e-01, -6.82078363e-01, -6.82078363e-01],\n",
       "       ...,\n",
       "       [ 1.58605902e+00,  0.00000000e+00, -6.82078363e-01, ...,\n",
       "        -5.29395526e-04,  6.32561922e-02,  2.71811682e-02],\n",
       "       [ 2.84944545e-01,  0.00000000e+00, -6.82078363e-01, ...,\n",
       "         6.32561922e-02,  5.81525598e-02, -1.24067331e-01],\n",
       "       [ 1.63728002e+00,  0.00000000e+00, -6.82078363e-01, ...,\n",
       "         2.71811682e-02, -1.24067331e-01, -2.10756688e-02]])"
      ]
     },
     "execution_count": 45,
     "metadata": {},
     "output_type": "execute_result"
    }
   ],
   "source": [
    "adjusted_emp_overdisp_mat = np.sum([emp_overdisp_weight*adjusted_emp_overdisp_mat\n",
    "                                   for emp_overdisp_weight, adjusted_emp_overdisp_mat\n",
    "                                   in zip(emp_overdisp_weights, adjusted_emp_overdisp_mats)], axis=0)\n",
    "adjusted_emp_overdisp_mat"
   ]
  },
  {
   "cell_type": "code",
   "execution_count": 46,
   "id": "515bb906-8b61-4583-82b7-44f3dc0f1f3e",
   "metadata": {},
   "outputs": [
    {
     "data": {
      "text/plain": [
       "2442"
      ]
     },
     "execution_count": 46,
     "metadata": {},
     "output_type": "execute_result"
    }
   ],
   "source": [
    "np.sum(adjusted_emp_overdisp_mat <= 0)"
   ]
  },
  {
   "cell_type": "code",
   "execution_count": 49,
   "id": "d3ddbbc2-de47-4eb2-afc2-c7f813ee44a6",
   "metadata": {},
   "outputs": [
    {
     "data": {
      "text/plain": [
       "0.08889837439729358"
      ]
     },
     "execution_count": 49,
     "metadata": {},
     "output_type": "execute_result"
    }
   ],
   "source": [
    "val = np.mean(adjusted_emp_overdisp_mat)\n",
    "val"
   ]
  },
  {
   "cell_type": "code",
   "execution_count": 50,
   "id": "ead2961b-07a9-43d4-a8b5-e68d36373382",
   "metadata": {},
   "outputs": [
    {
     "data": {
      "text/plain": [
       "11.248799618437612"
      ]
     },
     "execution_count": 50,
     "metadata": {},
     "output_type": "execute_result"
    }
   ],
   "source": [
    "1. / val"
   ]
  },
  {
   "cell_type": "code",
   "execution_count": 51,
   "id": "01cabb6e-9eda-41da-b017-39d36866c885",
   "metadata": {},
   "outputs": [
    {
     "data": {
      "text/plain": [
       "10.248799618437612"
      ]
     },
     "execution_count": 51,
     "metadata": {},
     "output_type": "execute_result"
    }
   ],
   "source": [
    "(1. / val) - 1"
   ]
  },
  {
   "cell_type": "code",
   "execution_count": 52,
   "id": "cfc66d62-3de8-4ec1-b925-6819ae666ae6",
   "metadata": {},
   "outputs": [
    {
     "data": {
      "text/plain": [
       "0.11262417163118255"
      ]
     },
     "execution_count": 52,
     "metadata": {},
     "output_type": "execute_result"
    }
   ],
   "source": [
    "plugin_zeta = ((1. / val) - 1)/frequencies.size\n",
    "plugin_zeta"
   ]
  },
  {
   "cell_type": "markdown",
   "id": "d1b19f19-ca2b-4d79-b1ea-d479c13dd5a0",
   "metadata": {},
   "source": [
    "a little off from $1$, don't you think?\n",
    "\n",
    "still this arguably actually OK, since it over-estimates heterogeneity, which is the more conservative thing to do so yeah"
   ]
  },
  {
   "cell_type": "code",
   "execution_count": 53,
   "id": "6c762776-fa02-45fd-a107-aab3ceef77df",
   "metadata": {},
   "outputs": [
    {
     "data": {
      "text/plain": [
       "0.0004041411438299987"
      ]
     },
     "execution_count": 53,
     "metadata": {},
     "output_type": "execute_result"
    }
   ],
   "source": [
    "alt_val = np.mean(adjusted_emp_overdisp_mat[adjusted_emp_overdisp_mat > 0])\n",
    "alt_plugin_zeta = ((1. / alt_val) - 1)/frequencies.size\n",
    "alt_plugin_zeta"
   ]
  },
  {
   "cell_type": "markdown",
   "id": "eff6da07-ea77-418b-84ce-5cf439653a42",
   "metadata": {},
   "source": [
    "woah, that is way, way worse -- shouldn't it be better????????\n",
    "\n",
    "no, b/c to get zeta larger and thus better in this case, its reciprocal, roughly the adjusted_emp_mat average, needs to be smaller. but you just made it larger..."
   ]
  },
  {
   "cell_type": "code",
   "execution_count": 57,
   "id": "4efba235-d848-4ab6-b98f-ab7649f4fea8",
   "metadata": {},
   "outputs": [],
   "source": [
    "def get_plugin_zeta(test_batch, frequencies):\n",
    "    counts = np.sum(test_batch, axis=1)\n",
    "    cell_num_levels = np.unique(counts)\n",
    "    stratified_droplets = [test_batch[counts == cell_num_level, :] \n",
    "                           for cell_num_level in cell_num_levels]\n",
    "    nonzero_droplets_count = np.sum([stratum.shape[0] \n",
    "                                     for stratum in stratified_droplets[1:]])\n",
    "    emp_freq_weights = [stratum.shape[0]/nonzero_droplets_count \n",
    "                        for stratum in stratified_droplets[1:]]\n",
    "    emp_means_strata = [np.mean(stratum, axis=0) \n",
    "                        for stratum in stratified_droplets[1:]]\n",
    "    emp_freqs_strata = [emp_means_stratum/n \n",
    "                        for n, emp_means_stratum \n",
    "                        in enumerate(emp_means_strata, 1)]\n",
    "    emp_freqs = np.sum([emp_freq_weight*emp_freqs_stratum \n",
    "            for emp_freq_weight, emp_freqs_stratum \n",
    "            in zip(emp_freq_weights, emp_freqs_strata)], axis=0)\n",
    "    multi_cell_droplets_count = np.sum([stratum.shape[0] \n",
    "                                        for stratum \n",
    "                                        in stratified_droplets[2:]])\n",
    "    emp_overdisp_weights = [stratum.shape[0]/multi_cell_droplets_count \n",
    "                            for stratum in stratified_droplets[2:]]\n",
    "    plugin_mult_covs = [get_plugin_mult_cov(n, emp_freqs) for n \n",
    "                        in cell_num_levels if n >= 2]\n",
    "    emp_covs = [get_emp_cov(droplets_stratum, frequencies)\n",
    "           for droplets_stratum in stratified_droplets[2:]]\n",
    "    emp_overdisp_mats = [get_emp_overdisp(emp_cov, plugin_mult_cov)\n",
    "                        for emp_cov, plugin_mult_cov\n",
    "                        in zip(emp_covs, plugin_mult_covs)]\n",
    "    adjusted_emp_overdisp_mats = [emp_overdisp_mat/(n-1) \n",
    "                                  for n, emp_overdisp_mat \n",
    "                                  in enumerate(emp_overdisp_mats, 2)]\n",
    "    adjusted_emp_overdisp_mat = np.sum([emp_overdisp_weight*adjusted_emp_overdisp_mat\n",
    "                                       for emp_overdisp_weight, adjusted_emp_overdisp_mat\n",
    "                                       in zip(emp_overdisp_weights, adjusted_emp_overdisp_mats)], axis=0)\n",
    "    # mean is L2 projection onto space of matrices where all entries have same value\n",
    "    plugin_zeta = ((1. / np.mean(adjusted_emp_overdisp_mat)) - 1)/frequencies.size\n",
    "    return plugin_zeta"
   ]
  },
  {
   "cell_type": "code",
   "execution_count": 58,
   "id": "74058a00-0d80-4423-9762-da56341ceb1a",
   "metadata": {},
   "outputs": [
    {
     "data": {
      "text/plain": [
       "0.11262417163118255"
      ]
     },
     "execution_count": 58,
     "metadata": {},
     "output_type": "execute_result"
    }
   ],
   "source": [
    "get_plugin_zeta(test_batch, frequencies)"
   ]
  },
  {
   "cell_type": "code",
   "execution_count": 59,
   "id": "e5a7151b-977e-485b-bde0-1c70720ed046",
   "metadata": {},
   "outputs": [
    {
     "data": {
      "text/plain": [
       "0.18630815460288355"
      ]
     },
     "execution_count": 59,
     "metadata": {},
     "output_type": "execute_result"
    }
   ],
   "source": [
    "get_plugin_zeta(droplets[0:20000,:], frequencies)"
   ]
  },
  {
   "cell_type": "code",
   "execution_count": 60,
   "id": "e066f267-cb9b-4890-a7c2-1717af341aaf",
   "metadata": {},
   "outputs": [
    {
     "data": {
      "text/plain": [
       "0.11184831887804807"
      ]
     },
     "execution_count": 60,
     "metadata": {},
     "output_type": "execute_result"
    }
   ],
   "source": [
    "get_plugin_zeta(droplets[0:30000,:], frequencies)"
   ]
  },
  {
   "cell_type": "code",
   "execution_count": 61,
   "id": "bb204874-d3e1-4fe4-9e37-4d28ae3ac5ff",
   "metadata": {},
   "outputs": [
    {
     "data": {
      "text/plain": [
       "0.14694108244148066"
      ]
     },
     "execution_count": 61,
     "metadata": {},
     "output_type": "execute_result"
    }
   ],
   "source": [
    "get_plugin_zeta(droplets[0:40000,:], frequencies)"
   ]
  },
  {
   "cell_type": "code",
   "execution_count": 62,
   "id": "949c1522-9ecc-4c91-8e38-663117308fc5",
   "metadata": {},
   "outputs": [
    {
     "data": {
      "text/plain": [
       "0.14275609291093488"
      ]
     },
     "execution_count": 62,
     "metadata": {},
     "output_type": "execute_result"
    }
   ],
   "source": [
    "get_plugin_zeta(droplets[0:50000,:], frequencies)"
   ]
  },
  {
   "cell_type": "code",
   "execution_count": 63,
   "id": "49e6c290-2e61-44a6-b0a0-7bcf7cf7c84c",
   "metadata": {},
   "outputs": [
    {
     "data": {
      "text/plain": [
       "-0.4608528111563568"
      ]
     },
     "execution_count": 63,
     "metadata": {},
     "output_type": "execute_result"
    }
   ],
   "source": [
    "get_plugin_zeta(droplets[0:100000,:], frequencies)"
   ]
  },
  {
   "cell_type": "code",
   "execution_count": 64,
   "id": "2be04c6e-04fc-4b37-8296-55d28489245c",
   "metadata": {},
   "outputs": [
    {
     "data": {
      "text/plain": [
       "-0.17786879463194513"
      ]
     },
     "execution_count": 64,
     "metadata": {},
     "output_type": "execute_result"
    }
   ],
   "source": [
    "get_plugin_zeta(droplets[0:200000,:], frequencies)"
   ]
  },
  {
   "cell_type": "code",
   "execution_count": 65,
   "id": "93783ecb-0754-41a2-b793-6e918ed875e3",
   "metadata": {},
   "outputs": [
    {
     "data": {
      "text/plain": [
       "-0.2589818246618423"
      ]
     },
     "execution_count": 65,
     "metadata": {},
     "output_type": "execute_result"
    }
   ],
   "source": [
    "get_plugin_zeta(droplets[0:500000,:], frequencies)"
   ]
  },
  {
   "cell_type": "code",
   "execution_count": 66,
   "id": "e0f05268-ae80-4be6-aa46-8f3562072748",
   "metadata": {},
   "outputs": [
    {
     "data": {
      "text/plain": [
       "-0.17805259690774225"
      ]
     },
     "execution_count": 66,
     "metadata": {},
     "output_type": "execute_result"
    }
   ],
   "source": [
    "get_plugin_zeta(droplets[0:1000000,:], frequencies)"
   ]
  },
  {
   "cell_type": "code",
   "execution_count": 67,
   "id": "47b61103-9b04-42cd-a215-a3d5060e3acf",
   "metadata": {},
   "outputs": [
    {
     "data": {
      "text/plain": [
       "-0.1987654735787599"
      ]
     },
     "execution_count": 67,
     "metadata": {},
     "output_type": "execute_result"
    }
   ],
   "source": [
    "get_plugin_zeta(droplets[0:2000000,:], frequencies)"
   ]
  },
  {
   "cell_type": "code",
   "execution_count": 68,
   "id": "96312a9b-4b14-450b-b75e-989fd67464eb",
   "metadata": {},
   "outputs": [
    {
     "data": {
      "text/plain": [
       "-0.569726285551785"
      ]
     },
     "execution_count": 68,
     "metadata": {},
     "output_type": "execute_result"
    }
   ],
   "source": [
    "get_plugin_zeta(droplets[0:5000000,:], frequencies)"
   ]
  },
  {
   "cell_type": "code",
   "execution_count": 69,
   "id": "7b6e6c23-94a8-49f9-bdb7-f82300f39304",
   "metadata": {},
   "outputs": [
    {
     "data": {
      "text/plain": [
       "-2.994871085959598"
      ]
     },
     "execution_count": 69,
     "metadata": {},
     "output_type": "execute_result"
    }
   ],
   "source": [
    "get_plugin_zeta(droplets[0:10000000,:], frequencies)"
   ]
  },
  {
   "cell_type": "code",
   "execution_count": 70,
   "id": "69049488-dbc0-4820-963a-64820e52ebde",
   "metadata": {},
   "outputs": [
    {
     "data": {
      "text/plain": [
       "6.69671911220051"
      ]
     },
     "execution_count": 70,
     "metadata": {},
     "output_type": "execute_result"
    }
   ],
   "source": [
    "get_plugin_zeta(droplets[0:15000000,:], frequencies)"
   ]
  },
  {
   "cell_type": "markdown",
   "id": "35fc9925-ecbf-4507-ac71-b69513a697fa",
   "metadata": {},
   "source": [
    "hate to be the bearer of bad news here, but this is pretty obvious -- if this thing is consistent (which LOL it probably isn't, seriously 15 million droplets and it _still_ isn't close) it converges _really_ slowly."
   ]
  },
  {
   "cell_type": "code",
   "execution_count": 72,
   "id": "0ff425a2-a3d4-4a42-aeb6-6de111149272",
   "metadata": {},
   "outputs": [
    {
     "data": {
      "text/plain": [
       "1.0"
      ]
     },
     "execution_count": 72,
     "metadata": {},
     "output_type": "execute_result"
    }
   ],
   "source": [
    "np.sum(np.outer(emp_freqs, emp_freqs))"
   ]
  },
  {
   "cell_type": "markdown",
   "id": "d0420695-b14d-4452-9460-a00a969db08f",
   "metadata": {},
   "source": [
    "ok maybe the problem here is treating all entries of the empirical over-dispersion matrix as if they were all equally reliable, when in fact (e.g. especially in this case) most of them might be very unreliable. so like let's semi-arbitrarily weight the contribution of each entry to the average by the product of empirical frequencies, i.e. use a weighted average"
   ]
  },
  {
   "cell_type": "code",
   "execution_count": 73,
   "id": "429fe084-1996-4b8c-b0b7-25d4d6398861",
   "metadata": {},
   "outputs": [
    {
     "data": {
      "text/plain": [
       "(91, 91)"
      ]
     },
     "execution_count": 73,
     "metadata": {},
     "output_type": "execute_result"
    }
   ],
   "source": [
    "adjusted_emp_overdisp_mat.shape"
   ]
  },
  {
   "cell_type": "code",
   "execution_count": 74,
   "id": "ac3c8392-3018-4e12-8d41-6a3bd4aeb24f",
   "metadata": {},
   "outputs": [
    {
     "data": {
      "text/plain": [
       "(91, 91)"
      ]
     },
     "execution_count": 74,
     "metadata": {},
     "output_type": "execute_result"
    }
   ],
   "source": [
    "np.outer(emp_freqs, emp_freqs).shape"
   ]
  },
  {
   "cell_type": "code",
   "execution_count": 75,
   "id": "1d45f055-2712-47ce-ac73-eb3a90211739",
   "metadata": {},
   "outputs": [
    {
     "data": {
      "text/plain": [
       "array([[ 1.91344724e-01,  0.00000000e+00, -6.82078363e-01, ...,\n",
       "         1.58605902e+00,  2.84944545e-01,  1.63728002e+00],\n",
       "       [ 0.00000000e+00,  0.00000000e+00,  0.00000000e+00, ...,\n",
       "         0.00000000e+00,  0.00000000e+00,  0.00000000e+00],\n",
       "       [-6.82078363e-01,  0.00000000e+00, -6.82078363e-01, ...,\n",
       "        -6.82078363e-01, -6.82078363e-01, -6.82078363e-01],\n",
       "       ...,\n",
       "       [ 1.58605902e+00,  0.00000000e+00, -6.82078363e-01, ...,\n",
       "        -5.29395526e-04,  6.32561922e-02,  2.71811682e-02],\n",
       "       [ 2.84944545e-01,  0.00000000e+00, -6.82078363e-01, ...,\n",
       "         6.32561922e-02,  5.81525598e-02, -1.24067331e-01],\n",
       "       [ 1.63728002e+00,  0.00000000e+00, -6.82078363e-01, ...,\n",
       "         2.71811682e-02, -1.24067331e-01, -2.10756688e-02]])"
      ]
     },
     "execution_count": 75,
     "metadata": {},
     "output_type": "execute_result"
    }
   ],
   "source": [
    "adjusted_emp_overdisp_mat"
   ]
  },
  {
   "cell_type": "code",
   "execution_count": 76,
   "id": "637317e3-ef0a-49e4-92f5-2ffb10bf4459",
   "metadata": {},
   "outputs": [
    {
     "data": {
      "text/plain": [
       "array([[ 2.68057794e-09,  0.00000000e+00, -9.32228454e-09, ...,\n",
       "         9.44026332e-06,  1.67418036e-06,  2.17596328e-05],\n",
       "       [ 0.00000000e+00,  0.00000000e+00,  0.00000000e+00, ...,\n",
       "         0.00000000e+00,  0.00000000e+00,  0.00000000e+00],\n",
       "       [-9.32228454e-09,  0.00000000e+00, -9.09491174e-09, ...,\n",
       "        -3.96072940e-06, -3.90977985e-06, -8.84380195e-06],\n",
       "       ...,\n",
       "       [ 9.44026332e-06,  0.00000000e+00, -3.96072940e-06, ...,\n",
       "        -1.33874496e-06,  1.57905683e-04,  1.53479204e-04],\n",
       "       [ 1.67418036e-06,  0.00000000e+00, -3.90977985e-06, ...,\n",
       "         1.57905683e-04,  1.43298183e-04, -6.91537902e-04],\n",
       "       [ 2.17596328e-05,  0.00000000e+00, -8.84380195e-06, ...,\n",
       "         1.53479204e-04, -6.91537902e-04, -2.65721454e-04]])"
      ]
     },
     "execution_count": 76,
     "metadata": {},
     "output_type": "execute_result"
    }
   ],
   "source": [
    "adjusted_emp_overdisp_mat * np.outer(emp_freqs, emp_freqs)"
   ]
  },
  {
   "cell_type": "code",
   "execution_count": 77,
   "id": "d14bf68d-87c0-4a3d-b8dc-e7fc99d65e5d",
   "metadata": {},
   "outputs": [
    {
     "data": {
      "text/plain": [
       "0.009593672628945674"
      ]
     },
     "execution_count": 77,
     "metadata": {},
     "output_type": "execute_result"
    }
   ],
   "source": [
    "np.sum(adjusted_emp_overdisp_mat * np.outer(emp_freqs, emp_freqs))"
   ]
  },
  {
   "cell_type": "code",
   "execution_count": 78,
   "id": "c0705cd5-fdd1-44d6-af86-6544b364a88e",
   "metadata": {},
   "outputs": [
    {
     "data": {
      "text/plain": [
       "104.23536831795124"
      ]
     },
     "execution_count": 78,
     "metadata": {},
     "output_type": "execute_result"
    }
   ],
   "source": [
    "new_val = np.sum(adjusted_emp_overdisp_mat * np.outer(emp_freqs, emp_freqs))\n",
    "1. / new_val"
   ]
  },
  {
   "cell_type": "code",
   "execution_count": 79,
   "id": "cf67c757-873e-4d94-9968-da95dea3b43d",
   "metadata": {},
   "outputs": [
    {
     "data": {
      "text/plain": [
       "1.134454596900563"
      ]
     },
     "execution_count": 79,
     "metadata": {},
     "output_type": "execute_result"
    }
   ],
   "source": [
    "((1. / new_val) - 1) / frequencies.size"
   ]
  },
  {
   "cell_type": "markdown",
   "id": "f9f2704c-e2c6-4349-b3d6-094513346cb3",
   "metadata": {},
   "source": [
    "HAHA LOL WUT? that actually worked? SERIOUSLY?????\n",
    "\n",
    "this has to be a fluke or something..."
   ]
  },
  {
   "cell_type": "code",
   "execution_count": 80,
   "id": "590b69fe-86fc-4697-9991-0801685052ae",
   "metadata": {},
   "outputs": [],
   "source": [
    "def new_get_plugin_zeta(test_batch, frequencies):\n",
    "    counts = np.sum(test_batch, axis=1)\n",
    "    cell_num_levels = np.unique(counts)\n",
    "    stratified_droplets = [test_batch[counts == cell_num_level, :] \n",
    "                           for cell_num_level in cell_num_levels]\n",
    "    nonzero_droplets_count = np.sum([stratum.shape[0] \n",
    "                                     for stratum in stratified_droplets[1:]])\n",
    "    emp_freq_weights = [stratum.shape[0]/nonzero_droplets_count \n",
    "                        for stratum in stratified_droplets[1:]]\n",
    "    emp_means_strata = [np.mean(stratum, axis=0) \n",
    "                        for stratum in stratified_droplets[1:]]\n",
    "    emp_freqs_strata = [emp_means_stratum/n \n",
    "                        for n, emp_means_stratum \n",
    "                        in enumerate(emp_means_strata, 1)]\n",
    "    emp_freqs = np.sum([emp_freq_weight*emp_freqs_stratum \n",
    "            for emp_freq_weight, emp_freqs_stratum \n",
    "            in zip(emp_freq_weights, emp_freqs_strata)], axis=0)\n",
    "    multi_cell_droplets_count = np.sum([stratum.shape[0] \n",
    "                                        for stratum \n",
    "                                        in stratified_droplets[2:]])\n",
    "    emp_overdisp_weights = [stratum.shape[0]/multi_cell_droplets_count \n",
    "                            for stratum in stratified_droplets[2:]]\n",
    "    plugin_mult_covs = [get_plugin_mult_cov(n, emp_freqs) for n \n",
    "                        in cell_num_levels if n >= 2]\n",
    "    emp_covs = [get_emp_cov(droplets_stratum, frequencies)\n",
    "           for droplets_stratum in stratified_droplets[2:]]\n",
    "    emp_overdisp_mats = [get_emp_overdisp(emp_cov, plugin_mult_cov)\n",
    "                        for emp_cov, plugin_mult_cov\n",
    "                        in zip(emp_covs, plugin_mult_covs)]\n",
    "    adjusted_emp_overdisp_mats = [emp_overdisp_mat/(n-1) \n",
    "                                  for n, emp_overdisp_mat \n",
    "                                  in enumerate(emp_overdisp_mats, 2)]\n",
    "    adjusted_emp_overdisp_mat = np.sum([emp_overdisp_weight*adjusted_emp_overdisp_mat\n",
    "                                       for emp_overdisp_weight, adjusted_emp_overdisp_mat\n",
    "                                       in zip(emp_overdisp_weights, adjusted_emp_overdisp_mats)], axis=0)\n",
    "    # mean is L2 projection onto space of matrices where all entries have same value\n",
    "    # but use weighted mean since values estimated from more frequent strains/counts \n",
    "    # are more reliable. honestly don't know how to mathematically justify\n",
    "    emp_freq_weighted_AEOM = adjusted_emp_overdisp_mat * np.outer(emp_freqs, emp_freqs)\n",
    "    plugin_zeta = ((1. / np.sum(emp_freq_weighted_AEOM) ) - 1)/frequencies.size\n",
    "    return plugin_zeta"
   ]
  },
  {
   "cell_type": "code",
   "execution_count": 81,
   "id": "74717633-c7f9-4b59-8ccd-49909c0f89a6",
   "metadata": {},
   "outputs": [
    {
     "data": {
      "text/plain": [
       "1.134454596900563"
      ]
     },
     "execution_count": 81,
     "metadata": {},
     "output_type": "execute_result"
    }
   ],
   "source": [
    "new_get_plugin_zeta(droplets[0:10000,:], frequencies)"
   ]
  },
  {
   "cell_type": "markdown",
   "id": "59ed4242-daae-499d-af07-3492e3c63d58",
   "metadata": {},
   "source": [
    "ok that has to be a fluke though"
   ]
  },
  {
   "cell_type": "code",
   "execution_count": 82,
   "id": "b33cfdd7-5f13-433f-a474-97be958fd412",
   "metadata": {},
   "outputs": [
    {
     "data": {
      "text/plain": [
       "1.0822722165639544"
      ]
     },
     "execution_count": 82,
     "metadata": {},
     "output_type": "execute_result"
    }
   ],
   "source": [
    "new_get_plugin_zeta(droplets[0:20000,:], frequencies)"
   ]
  },
  {
   "cell_type": "code",
   "execution_count": 83,
   "id": "32bd32e9-f831-46f1-b31b-d273e8308109",
   "metadata": {},
   "outputs": [
    {
     "data": {
      "text/plain": [
       "1.1400827971528311"
      ]
     },
     "execution_count": 83,
     "metadata": {},
     "output_type": "execute_result"
    }
   ],
   "source": [
    "new_get_plugin_zeta(droplets[0:30000,:], frequencies)"
   ]
  },
  {
   "cell_type": "code",
   "execution_count": 84,
   "id": "d53d40b6-1cb8-495e-90db-416600f40de8",
   "metadata": {},
   "outputs": [
    {
     "data": {
      "text/plain": [
       "1.2709309199361232"
      ]
     },
     "execution_count": 84,
     "metadata": {},
     "output_type": "execute_result"
    }
   ],
   "source": [
    "new_get_plugin_zeta(droplets[0:40000,:], frequencies)"
   ]
  },
  {
   "cell_type": "code",
   "execution_count": 85,
   "id": "613d134e-3aa3-453f-baef-d6557798aec5",
   "metadata": {},
   "outputs": [
    {
     "data": {
      "text/plain": [
       "1.1896302567166346"
      ]
     },
     "execution_count": 85,
     "metadata": {},
     "output_type": "execute_result"
    }
   ],
   "source": [
    "new_get_plugin_zeta(droplets[0:50000,:], frequencies)"
   ]
  },
  {
   "cell_type": "code",
   "execution_count": 86,
   "id": "00596bca-b1a2-484b-b481-13c68b0be396",
   "metadata": {},
   "outputs": [
    {
     "data": {
      "text/plain": [
       "1.099037207934122"
      ]
     },
     "execution_count": 86,
     "metadata": {},
     "output_type": "execute_result"
    }
   ],
   "source": [
    "new_get_plugin_zeta(droplets[0:60000,:], frequencies)"
   ]
  },
  {
   "cell_type": "code",
   "execution_count": 87,
   "id": "c1b02a4f-e588-4caf-ba3f-879c21757bad",
   "metadata": {},
   "outputs": [
    {
     "data": {
      "text/plain": [
       "1.0417020636245855"
      ]
     },
     "execution_count": 87,
     "metadata": {},
     "output_type": "execute_result"
    }
   ],
   "source": [
    "new_get_plugin_zeta(droplets[0:70000,:], frequencies)"
   ]
  },
  {
   "cell_type": "code",
   "execution_count": 88,
   "id": "d7c424fe-1574-459e-a69a-01a343f59354",
   "metadata": {},
   "outputs": [
    {
     "data": {
      "text/plain": [
       "1.0664689724818865"
      ]
     },
     "execution_count": 88,
     "metadata": {},
     "output_type": "execute_result"
    }
   ],
   "source": [
    "new_get_plugin_zeta(droplets[0:80000,:], frequencies)"
   ]
  },
  {
   "cell_type": "code",
   "execution_count": 89,
   "id": "20f53561-7dcd-45d4-8272-76d89c00549d",
   "metadata": {},
   "outputs": [
    {
     "data": {
      "text/plain": [
       "1.1100359280808836"
      ]
     },
     "execution_count": 89,
     "metadata": {},
     "output_type": "execute_result"
    }
   ],
   "source": [
    "new_get_plugin_zeta(droplets[0:90000,:], frequencies)"
   ]
  },
  {
   "cell_type": "code",
   "execution_count": 90,
   "id": "34a1392d-5028-4dc8-b29b-9ab36b6170d0",
   "metadata": {},
   "outputs": [
    {
     "data": {
      "text/plain": [
       "1.0843299756802531"
      ]
     },
     "execution_count": 90,
     "metadata": {},
     "output_type": "execute_result"
    }
   ],
   "source": [
    "new_get_plugin_zeta(droplets[0:100000,:], frequencies)"
   ]
  },
  {
   "cell_type": "code",
   "execution_count": 91,
   "id": "a2184d00-a663-42e1-9d40-51b7ff144af2",
   "metadata": {},
   "outputs": [
    {
     "data": {
      "text/plain": [
       "1.1025012386263806"
      ]
     },
     "execution_count": 91,
     "metadata": {},
     "output_type": "execute_result"
    }
   ],
   "source": [
    "new_get_plugin_zeta(droplets[0:110000,:], frequencies)"
   ]
  },
  {
   "cell_type": "code",
   "execution_count": 92,
   "id": "b11d15d4-f51e-43bd-95e2-c2b629928da3",
   "metadata": {},
   "outputs": [
    {
     "data": {
      "text/plain": [
       "1.1215346883384962"
      ]
     },
     "execution_count": 92,
     "metadata": {},
     "output_type": "execute_result"
    }
   ],
   "source": [
    "new_get_plugin_zeta(droplets[0:120000,:], frequencies)"
   ]
  },
  {
   "cell_type": "code",
   "execution_count": 93,
   "id": "39789876-93e1-447d-a798-2776683add5d",
   "metadata": {},
   "outputs": [
    {
     "data": {
      "text/plain": [
       "1.1126846654191904"
      ]
     },
     "execution_count": 93,
     "metadata": {},
     "output_type": "execute_result"
    }
   ],
   "source": [
    "new_get_plugin_zeta(droplets[0:130000,:], frequencies)"
   ]
  },
  {
   "cell_type": "code",
   "execution_count": 94,
   "id": "923d359a-ab08-44d7-a7ad-7ca9df1ea168",
   "metadata": {},
   "outputs": [
    {
     "data": {
      "text/plain": [
       "1.1000062751658402"
      ]
     },
     "execution_count": 94,
     "metadata": {},
     "output_type": "execute_result"
    }
   ],
   "source": [
    "new_get_plugin_zeta(droplets[0:140000,:], frequencies)"
   ]
  },
  {
   "cell_type": "code",
   "execution_count": 95,
   "id": "51414cca-b399-438a-9fdd-ef6694cb0547",
   "metadata": {},
   "outputs": [
    {
     "data": {
      "text/plain": [
       "1.0964840616026892"
      ]
     },
     "execution_count": 95,
     "metadata": {},
     "output_type": "execute_result"
    }
   ],
   "source": [
    "new_get_plugin_zeta(droplets[0:150000,:], frequencies)"
   ]
  },
  {
   "cell_type": "code",
   "execution_count": 96,
   "id": "a4f283e7-0437-42d6-b00d-62a82c15d267",
   "metadata": {},
   "outputs": [
    {
     "data": {
      "text/plain": [
       "1.1044324316411567"
      ]
     },
     "execution_count": 96,
     "metadata": {},
     "output_type": "execute_result"
    }
   ],
   "source": [
    "new_get_plugin_zeta(droplets[0:160000,:], frequencies)"
   ]
  },
  {
   "cell_type": "code",
   "execution_count": 97,
   "id": "22019708-cb7e-4682-8793-78e39ab8e8e9",
   "metadata": {},
   "outputs": [
    {
     "data": {
      "text/plain": [
       "1.1245742792441331"
      ]
     },
     "execution_count": 97,
     "metadata": {},
     "output_type": "execute_result"
    }
   ],
   "source": [
    "new_get_plugin_zeta(droplets[0:170000,:], frequencies)"
   ]
  },
  {
   "cell_type": "code",
   "execution_count": 98,
   "id": "1e18a3cf-bd74-44ff-9ba5-85211c3ed1ea",
   "metadata": {},
   "outputs": [
    {
     "data": {
      "text/plain": [
       "1.1011614608901856"
      ]
     },
     "execution_count": 98,
     "metadata": {},
     "output_type": "execute_result"
    }
   ],
   "source": [
    "new_get_plugin_zeta(droplets[0:180000,:], frequencies)"
   ]
  },
  {
   "cell_type": "code",
   "execution_count": 99,
   "id": "57bdfd23-6906-4542-921d-49f41b67b141",
   "metadata": {},
   "outputs": [
    {
     "data": {
      "text/plain": [
       "1.0736718448656837"
      ]
     },
     "execution_count": 99,
     "metadata": {},
     "output_type": "execute_result"
    }
   ],
   "source": [
    "new_get_plugin_zeta(droplets[0:190000,:], frequencies)"
   ]
  },
  {
   "cell_type": "code",
   "execution_count": 100,
   "id": "98aec2ae-8299-49ee-a620-1234f1026748",
   "metadata": {},
   "outputs": [
    {
     "data": {
      "text/plain": [
       "1.0661400875725224"
      ]
     },
     "execution_count": 100,
     "metadata": {},
     "output_type": "execute_result"
    }
   ],
   "source": [
    "new_get_plugin_zeta(droplets[0:200000,:], frequencies)"
   ]
  },
  {
   "cell_type": "code",
   "execution_count": 101,
   "id": "263e5ea9-07f8-47f6-a29a-104eb9e7e648",
   "metadata": {},
   "outputs": [
    {
     "data": {
      "text/plain": [
       "1.0597069259387144"
      ]
     },
     "execution_count": 101,
     "metadata": {},
     "output_type": "execute_result"
    }
   ],
   "source": [
    "new_get_plugin_zeta(droplets[0:210000,:], frequencies)"
   ]
  },
  {
   "cell_type": "code",
   "execution_count": 102,
   "id": "15f4c27f-7382-4fb6-96d1-5ed749d5a93e",
   "metadata": {},
   "outputs": [
    {
     "data": {
      "text/plain": [
       "1.05862416830431"
      ]
     },
     "execution_count": 102,
     "metadata": {},
     "output_type": "execute_result"
    }
   ],
   "source": [
    "new_get_plugin_zeta(droplets[0:220000,:], frequencies)"
   ]
  },
  {
   "cell_type": "code",
   "execution_count": 103,
   "id": "ef8fad4e-e7a9-4d91-aafb-c253d4f6d9a5",
   "metadata": {},
   "outputs": [
    {
     "data": {
      "text/plain": [
       "1.0384137324689229"
      ]
     },
     "execution_count": 103,
     "metadata": {},
     "output_type": "execute_result"
    }
   ],
   "source": [
    "new_get_plugin_zeta(droplets[0:230000,:], frequencies)"
   ]
  },
  {
   "cell_type": "code",
   "execution_count": 104,
   "id": "0dcf63a6-7512-427f-af59-3a3637080c25",
   "metadata": {},
   "outputs": [
    {
     "data": {
      "text/plain": [
       "1.0390706721361922"
      ]
     },
     "execution_count": 104,
     "metadata": {},
     "output_type": "execute_result"
    }
   ],
   "source": [
    "new_get_plugin_zeta(droplets[0:240000,:], frequencies)"
   ]
  },
  {
   "cell_type": "code",
   "execution_count": 105,
   "id": "e9300ed4-3a5e-4e1d-b549-0b30134674f7",
   "metadata": {},
   "outputs": [
    {
     "data": {
      "text/plain": [
       "1.0606553241739383"
      ]
     },
     "execution_count": 105,
     "metadata": {},
     "output_type": "execute_result"
    }
   ],
   "source": [
    "new_get_plugin_zeta(droplets[0:250000,:], frequencies)"
   ]
  },
  {
   "cell_type": "code",
   "execution_count": 106,
   "id": "6c0095fc-b86c-4498-b060-a8e31b7852bd",
   "metadata": {},
   "outputs": [
    {
     "data": {
      "text/plain": [
       "1.0584646941252471"
      ]
     },
     "execution_count": 106,
     "metadata": {},
     "output_type": "execute_result"
    }
   ],
   "source": [
    "new_get_plugin_zeta(droplets[0:260000,:], frequencies)"
   ]
  },
  {
   "cell_type": "code",
   "execution_count": 107,
   "id": "996bd5f5-460c-4edb-befe-9c0d0241bdc6",
   "metadata": {},
   "outputs": [
    {
     "data": {
      "text/plain": [
       "1.0543655159286065"
      ]
     },
     "execution_count": 107,
     "metadata": {},
     "output_type": "execute_result"
    }
   ],
   "source": [
    "new_get_plugin_zeta(droplets[0:270000,:], frequencies)"
   ]
  },
  {
   "cell_type": "code",
   "execution_count": 108,
   "id": "b81eedf3-33b9-42b5-8857-1657f59818e8",
   "metadata": {},
   "outputs": [
    {
     "data": {
      "text/plain": [
       "1.0516140637626397"
      ]
     },
     "execution_count": 108,
     "metadata": {},
     "output_type": "execute_result"
    }
   ],
   "source": [
    "new_get_plugin_zeta(droplets[0:280000,:], frequencies)"
   ]
  },
  {
   "cell_type": "code",
   "execution_count": 109,
   "id": "af57b1c2-7afd-47f1-8df9-6a60966b04f9",
   "metadata": {},
   "outputs": [
    {
     "data": {
      "text/plain": [
       "1.0537099472424285"
      ]
     },
     "execution_count": 109,
     "metadata": {},
     "output_type": "execute_result"
    }
   ],
   "source": [
    "new_get_plugin_zeta(droplets[0:290000,:], frequencies)"
   ]
  },
  {
   "cell_type": "code",
   "execution_count": 110,
   "id": "dd959306-7639-4c90-9a87-9429a4270973",
   "metadata": {},
   "outputs": [
    {
     "data": {
      "text/plain": [
       "1.0426646899384917"
      ]
     },
     "execution_count": 110,
     "metadata": {},
     "output_type": "execute_result"
    }
   ],
   "source": [
    "new_get_plugin_zeta(droplets[0:300000,:], frequencies)"
   ]
  },
  {
   "cell_type": "code",
   "execution_count": 111,
   "id": "3c7f610a-c94d-4511-83c3-4ab637720f76",
   "metadata": {},
   "outputs": [
    {
     "data": {
      "text/plain": [
       "1.0523309971845445"
      ]
     },
     "execution_count": 111,
     "metadata": {},
     "output_type": "execute_result"
    }
   ],
   "source": [
    "new_get_plugin_zeta(droplets[0:310000,:], frequencies)"
   ]
  },
  {
   "cell_type": "code",
   "execution_count": 112,
   "id": "9b7e72af-00e8-4200-8930-c79467a5b8b7",
   "metadata": {},
   "outputs": [
    {
     "data": {
      "text/plain": [
       "1.0533969196483695"
      ]
     },
     "execution_count": 112,
     "metadata": {},
     "output_type": "execute_result"
    }
   ],
   "source": [
    "new_get_plugin_zeta(droplets[0:320000,:], frequencies)"
   ]
  },
  {
   "cell_type": "code",
   "execution_count": 113,
   "id": "9ca0aa0f-07bc-4c9c-a5f9-7655890fabd1",
   "metadata": {},
   "outputs": [
    {
     "data": {
      "text/plain": [
       "1.0637941010651364"
      ]
     },
     "execution_count": 113,
     "metadata": {},
     "output_type": "execute_result"
    }
   ],
   "source": [
    "new_get_plugin_zeta(droplets[0:330000,:], frequencies)"
   ]
  },
  {
   "cell_type": "code",
   "execution_count": 114,
   "id": "bb33d12b-018e-483a-8cce-0bf61f52d984",
   "metadata": {},
   "outputs": [
    {
     "data": {
      "text/plain": [
       "1.0678763570197385"
      ]
     },
     "execution_count": 114,
     "metadata": {},
     "output_type": "execute_result"
    }
   ],
   "source": [
    "new_get_plugin_zeta(droplets[0:340000,:], frequencies)"
   ]
  },
  {
   "cell_type": "code",
   "execution_count": 115,
   "id": "a83e42d4-8787-4003-8b93-4c8f15dcd060",
   "metadata": {},
   "outputs": [
    {
     "data": {
      "text/plain": [
       "1.0543655885214693"
      ]
     },
     "execution_count": 115,
     "metadata": {},
     "output_type": "execute_result"
    }
   ],
   "source": [
    "new_get_plugin_zeta(droplets[0:350000,:], frequencies)"
   ]
  },
  {
   "cell_type": "code",
   "execution_count": 116,
   "id": "77e81d9c-0c74-4701-971a-64c6992e0c8a",
   "metadata": {},
   "outputs": [
    {
     "data": {
      "text/plain": [
       "1.061391883228527"
      ]
     },
     "execution_count": 116,
     "metadata": {},
     "output_type": "execute_result"
    }
   ],
   "source": [
    "new_get_plugin_zeta(droplets[0:360000,:], frequencies)"
   ]
  },
  {
   "cell_type": "code",
   "execution_count": 117,
   "id": "5103ad51-2cda-4cbb-a1c9-ef2b39d15b54",
   "metadata": {},
   "outputs": [
    {
     "data": {
      "text/plain": [
       "1.0605208858608948"
      ]
     },
     "execution_count": 117,
     "metadata": {},
     "output_type": "execute_result"
    }
   ],
   "source": [
    "new_get_plugin_zeta(droplets[0:370000,:], frequencies)"
   ]
  },
  {
   "cell_type": "code",
   "execution_count": 118,
   "id": "2ae8e079-8e6d-42e1-bfe1-506080eda12f",
   "metadata": {},
   "outputs": [
    {
     "data": {
      "text/plain": [
       "1.059278932538394"
      ]
     },
     "execution_count": 118,
     "metadata": {},
     "output_type": "execute_result"
    }
   ],
   "source": [
    "new_get_plugin_zeta(droplets[0:380000,:], frequencies)"
   ]
  },
  {
   "cell_type": "code",
   "execution_count": 119,
   "id": "c0b84463-ba6b-4fef-a9bb-86855549e318",
   "metadata": {},
   "outputs": [
    {
     "data": {
      "text/plain": [
       "1.0565545167930046"
      ]
     },
     "execution_count": 119,
     "metadata": {},
     "output_type": "execute_result"
    }
   ],
   "source": [
    "new_get_plugin_zeta(droplets[0:390000,:], frequencies)"
   ]
  },
  {
   "cell_type": "code",
   "execution_count": 120,
   "id": "ef96d5fa-7a3d-4e1a-a4d0-7d0addaba54f",
   "metadata": {},
   "outputs": [
    {
     "data": {
      "text/plain": [
       "1.0595881998916592"
      ]
     },
     "execution_count": 120,
     "metadata": {},
     "output_type": "execute_result"
    }
   ],
   "source": [
    "new_get_plugin_zeta(droplets[0:400000,:], frequencies)"
   ]
  },
  {
   "cell_type": "code",
   "execution_count": 121,
   "id": "e21260e4-59b6-48a5-aa80-0c5ccd793ebd",
   "metadata": {},
   "outputs": [
    {
     "data": {
      "text/plain": [
       "1.06921679022446"
      ]
     },
     "execution_count": 121,
     "metadata": {},
     "output_type": "execute_result"
    }
   ],
   "source": [
    "new_get_plugin_zeta(droplets[0:410000,:], frequencies)"
   ]
  },
  {
   "cell_type": "code",
   "execution_count": 122,
   "id": "a8d2eac1-3bf3-436d-a0a9-ca954398b4dd",
   "metadata": {},
   "outputs": [
    {
     "data": {
      "text/plain": [
       "1.0610640932087763"
      ]
     },
     "execution_count": 122,
     "metadata": {},
     "output_type": "execute_result"
    }
   ],
   "source": [
    "new_get_plugin_zeta(droplets[0:420000,:], frequencies)"
   ]
  },
  {
   "cell_type": "code",
   "execution_count": 123,
   "id": "6f9aff63-01f1-4576-94dc-c261df3e740c",
   "metadata": {},
   "outputs": [
    {
     "data": {
      "text/plain": [
       "1.0548458919658756"
      ]
     },
     "execution_count": 123,
     "metadata": {},
     "output_type": "execute_result"
    }
   ],
   "source": [
    "new_get_plugin_zeta(droplets[0:430000,:], frequencies)"
   ]
  },
  {
   "cell_type": "code",
   "execution_count": 124,
   "id": "fd03d736-31f7-4bcb-9f8b-a147e1fbc867",
   "metadata": {},
   "outputs": [
    {
     "data": {
      "text/plain": [
       "1.04543974432081"
      ]
     },
     "execution_count": 124,
     "metadata": {},
     "output_type": "execute_result"
    }
   ],
   "source": [
    "new_get_plugin_zeta(droplets[0:440000,:], frequencies)"
   ]
  },
  {
   "cell_type": "code",
   "execution_count": 125,
   "id": "dafed657-51e3-4caf-bb8e-d58dd50233f2",
   "metadata": {},
   "outputs": [
    {
     "data": {
      "text/plain": [
       "1.0486746524273716"
      ]
     },
     "execution_count": 125,
     "metadata": {},
     "output_type": "execute_result"
    }
   ],
   "source": [
    "new_get_plugin_zeta(droplets[0:450000,:], frequencies)"
   ]
  },
  {
   "cell_type": "code",
   "execution_count": 126,
   "id": "cfa1f156-9b26-4e15-8123-07f57b8dd646",
   "metadata": {},
   "outputs": [
    {
     "data": {
      "text/plain": [
       "1.0550265412382527"
      ]
     },
     "execution_count": 126,
     "metadata": {},
     "output_type": "execute_result"
    }
   ],
   "source": [
    "new_get_plugin_zeta(droplets[0:460000,:], frequencies)"
   ]
  },
  {
   "cell_type": "code",
   "execution_count": 127,
   "id": "cd69d6fc-f3ff-4495-90ac-e5f187c72eb0",
   "metadata": {},
   "outputs": [
    {
     "data": {
      "text/plain": [
       "1.058702002729458"
      ]
     },
     "execution_count": 127,
     "metadata": {},
     "output_type": "execute_result"
    }
   ],
   "source": [
    "new_get_plugin_zeta(droplets[0:470000,:], frequencies)"
   ]
  },
  {
   "cell_type": "code",
   "execution_count": 128,
   "id": "68ef6794-c291-42b9-953f-8103f2b987e9",
   "metadata": {},
   "outputs": [
    {
     "data": {
      "text/plain": [
       "1.0503337318762345"
      ]
     },
     "execution_count": 128,
     "metadata": {},
     "output_type": "execute_result"
    }
   ],
   "source": [
    "new_get_plugin_zeta(droplets[0:480000,:], frequencies)"
   ]
  },
  {
   "cell_type": "code",
   "execution_count": 129,
   "id": "331b8973-9764-4b42-8c44-91739612ff13",
   "metadata": {},
   "outputs": [
    {
     "data": {
      "text/plain": [
       "1.0499050091827637"
      ]
     },
     "execution_count": 129,
     "metadata": {},
     "output_type": "execute_result"
    }
   ],
   "source": [
    "new_get_plugin_zeta(droplets[0:490000,:], frequencies)"
   ]
  },
  {
   "cell_type": "code",
   "execution_count": 130,
   "id": "fdbc58cb-cce3-478a-ab50-2d5dbecded00",
   "metadata": {},
   "outputs": [
    {
     "data": {
      "text/plain": [
       "1.0447044788701565"
      ]
     },
     "execution_count": 130,
     "metadata": {},
     "output_type": "execute_result"
    }
   ],
   "source": [
    "new_get_plugin_zeta(droplets[0:500000,:], frequencies)"
   ]
  },
  {
   "cell_type": "code",
   "execution_count": 131,
   "id": "167cdb6c-f92f-41ef-8728-c3bf370ad2c8",
   "metadata": {},
   "outputs": [
    {
     "data": {
      "text/plain": [
       "1.0169295407971528"
      ]
     },
     "execution_count": 131,
     "metadata": {},
     "output_type": "execute_result"
    }
   ],
   "source": [
    "new_get_plugin_zeta(droplets[0:600000,:], frequencies)"
   ]
  },
  {
   "cell_type": "code",
   "execution_count": 132,
   "id": "b5ef6965-2248-4748-b363-ab7dd3d4c205",
   "metadata": {},
   "outputs": [
    {
     "data": {
      "text/plain": [
       "1.000643759370765"
      ]
     },
     "execution_count": 132,
     "metadata": {},
     "output_type": "execute_result"
    }
   ],
   "source": [
    "new_get_plugin_zeta(droplets[0:700000,:], frequencies)"
   ]
  },
  {
   "cell_type": "code",
   "execution_count": 133,
   "id": "91aea97d-07a5-4795-b54a-150f07fe5491",
   "metadata": {},
   "outputs": [
    {
     "data": {
      "text/plain": [
       "1.0039641653694344"
      ]
     },
     "execution_count": 133,
     "metadata": {},
     "output_type": "execute_result"
    }
   ],
   "source": [
    "new_get_plugin_zeta(droplets[0:800000,:], frequencies)"
   ]
  },
  {
   "cell_type": "code",
   "execution_count": 134,
   "id": "4c38a97d-336f-4c82-bebf-8578e480111c",
   "metadata": {},
   "outputs": [
    {
     "data": {
      "text/plain": [
       "1.0195658492858672"
      ]
     },
     "execution_count": 134,
     "metadata": {},
     "output_type": "execute_result"
    }
   ],
   "source": [
    "new_get_plugin_zeta(droplets[0:900000,:], frequencies)"
   ]
  },
  {
   "cell_type": "code",
   "execution_count": 135,
   "id": "facb50e5-19d0-4940-983b-398ca1cad53a",
   "metadata": {},
   "outputs": [
    {
     "data": {
      "text/plain": [
       "1.0247449104358712"
      ]
     },
     "execution_count": 135,
     "metadata": {},
     "output_type": "execute_result"
    }
   ],
   "source": [
    "new_get_plugin_zeta(droplets[0:1000000,:], frequencies)"
   ]
  },
  {
   "cell_type": "code",
   "execution_count": 136,
   "id": "52af8dc1-5093-443a-b383-6d3b8dc68229",
   "metadata": {},
   "outputs": [
    {
     "data": {
      "text/plain": [
       "1.0008244990602349"
      ]
     },
     "execution_count": 136,
     "metadata": {},
     "output_type": "execute_result"
    }
   ],
   "source": [
    "new_get_plugin_zeta(droplets[0:2000000,:], frequencies)"
   ]
  },
  {
   "cell_type": "code",
   "execution_count": 137,
   "id": "061ebe65-edf8-4a3e-a943-a0a2edccb94b",
   "metadata": {},
   "outputs": [
    {
     "data": {
      "text/plain": [
       "1.0068004695684536"
      ]
     },
     "execution_count": 137,
     "metadata": {},
     "output_type": "execute_result"
    }
   ],
   "source": [
    "new_get_plugin_zeta(droplets[0:3000000,:], frequencies)"
   ]
  },
  {
   "cell_type": "code",
   "execution_count": 138,
   "id": "39452221-d811-48a9-8423-a8a225602a7d",
   "metadata": {},
   "outputs": [
    {
     "data": {
      "text/plain": [
       "1.0074033987731825"
      ]
     },
     "execution_count": 138,
     "metadata": {},
     "output_type": "execute_result"
    }
   ],
   "source": [
    "new_get_plugin_zeta(droplets[0:4000000,:], frequencies)"
   ]
  },
  {
   "cell_type": "code",
   "execution_count": 139,
   "id": "baec70cb-a990-4cc4-9f96-cf3cc081fff7",
   "metadata": {},
   "outputs": [
    {
     "data": {
      "text/plain": [
       "1.0021815908187313"
      ]
     },
     "execution_count": 139,
     "metadata": {},
     "output_type": "execute_result"
    }
   ],
   "source": [
    "new_get_plugin_zeta(droplets[0:5000000,:], frequencies)"
   ]
  },
  {
   "cell_type": "code",
   "execution_count": 140,
   "id": "7f6aad91-2143-4bc5-b81f-fb5af8ab98c2",
   "metadata": {},
   "outputs": [
    {
     "data": {
      "text/plain": [
       "0.9967495552654911"
      ]
     },
     "execution_count": 140,
     "metadata": {},
     "output_type": "execute_result"
    }
   ],
   "source": [
    "new_get_plugin_zeta(droplets[0:6000000,:], frequencies)"
   ]
  },
  {
   "cell_type": "code",
   "execution_count": 141,
   "id": "01965a81-b4c9-4f20-a679-002aeabc8314",
   "metadata": {},
   "outputs": [
    {
     "data": {
      "text/plain": [
       "0.9974630496849535"
      ]
     },
     "execution_count": 141,
     "metadata": {},
     "output_type": "execute_result"
    }
   ],
   "source": [
    "new_get_plugin_zeta(droplets[0:7000000,:], frequencies)"
   ]
  },
  {
   "cell_type": "code",
   "execution_count": 142,
   "id": "2296ee26-41c2-4e53-9673-fa6297991c5b",
   "metadata": {},
   "outputs": [
    {
     "data": {
      "text/plain": [
       "0.9968618267597446"
      ]
     },
     "execution_count": 142,
     "metadata": {},
     "output_type": "execute_result"
    }
   ],
   "source": [
    "new_get_plugin_zeta(droplets[0:8000000,:], frequencies)"
   ]
  },
  {
   "cell_type": "code",
   "execution_count": 143,
   "id": "2b67026f-395c-42b3-a945-8197d29f4a7f",
   "metadata": {},
   "outputs": [
    {
     "data": {
      "text/plain": [
       "0.9972672131120466"
      ]
     },
     "execution_count": 143,
     "metadata": {},
     "output_type": "execute_result"
    }
   ],
   "source": [
    "new_get_plugin_zeta(droplets[0:9000000,:], frequencies)"
   ]
  },
  {
   "cell_type": "code",
   "execution_count": 144,
   "id": "bedee610-ec2c-4646-a450-00de69289685",
   "metadata": {},
   "outputs": [
    {
     "data": {
      "text/plain": [
       "0.9932189106107836"
      ]
     },
     "execution_count": 144,
     "metadata": {},
     "output_type": "execute_result"
    }
   ],
   "source": [
    "new_get_plugin_zeta(droplets[0:10000000,:], frequencies)"
   ]
  },
  {
   "cell_type": "code",
   "execution_count": 145,
   "id": "19652ed7-89dc-4b45-9b1e-b4bd68eeec45",
   "metadata": {},
   "outputs": [
    {
     "data": {
      "text/plain": [
       "0.9939726543601701"
      ]
     },
     "execution_count": 145,
     "metadata": {},
     "output_type": "execute_result"
    }
   ],
   "source": [
    "new_get_plugin_zeta(droplets[0:11000000,:], frequencies)"
   ]
  },
  {
   "cell_type": "code",
   "execution_count": 146,
   "id": "b87046f3-3c8c-42b2-9bb9-b954d7bba54d",
   "metadata": {},
   "outputs": [
    {
     "data": {
      "text/plain": [
       "0.9968590105838143"
      ]
     },
     "execution_count": 146,
     "metadata": {},
     "output_type": "execute_result"
    }
   ],
   "source": [
    "new_get_plugin_zeta(droplets[0:12000000,:], frequencies)"
   ]
  },
  {
   "cell_type": "code",
   "execution_count": 147,
   "id": "8fe769a9-1ed5-44d0-a324-28f861f5cf9e",
   "metadata": {},
   "outputs": [
    {
     "data": {
      "text/plain": [
       "0.9966277654762601"
      ]
     },
     "execution_count": 147,
     "metadata": {},
     "output_type": "execute_result"
    }
   ],
   "source": [
    "new_get_plugin_zeta(droplets[0:13000000,:], frequencies)"
   ]
  },
  {
   "cell_type": "code",
   "execution_count": 148,
   "id": "6cc9cfe5-ac54-49cb-a61a-ae48efab92e7",
   "metadata": {},
   "outputs": [
    {
     "data": {
      "text/plain": [
       "0.9941224205527277"
      ]
     },
     "execution_count": 148,
     "metadata": {},
     "output_type": "execute_result"
    }
   ],
   "source": [
    "new_get_plugin_zeta(droplets[0:14000000,:], frequencies)"
   ]
  },
  {
   "cell_type": "code",
   "execution_count": 149,
   "id": "586dc8f3-24c9-44e6-b580-317e099de730",
   "metadata": {},
   "outputs": [
    {
     "data": {
      "text/plain": [
       "0.9945878639784164"
      ]
     },
     "execution_count": 149,
     "metadata": {},
     "output_type": "execute_result"
    }
   ],
   "source": [
    "new_get_plugin_zeta(droplets, frequencies)"
   ]
  },
  {
   "cell_type": "markdown",
   "id": "573d6654-cfc8-4d57-9a58-111a0c5e5a40",
   "metadata": {},
   "source": [
    "OK so wow this actually _does_ seem to be the genuine article. I don't know how to mathematically _prove_ why it works (assuming it does in fact work), but boy it sure does _seem_ like it works, doesn't it? you know.\n",
    "\n",
    "anyway from here, yeah let's just run this on all 500 simulations, and then also for each of the 500 simulations, run it on all contiguous subsets of 500,000 droplets (and maybe even just going in overkill for the heck of it, also all contiguous subsets of 10,000 droplets), and then plot those histograms. Hopefully we'll get good results!"
   ]
  },
  {
   "cell_type": "code",
   "execution_count": null,
   "id": "e3317e99-8fd1-4bc1-bb8a-5672399c5ab1",
   "metadata": {},
   "outputs": [],
   "source": []
  }
 ],
 "metadata": {
  "kernelspec": {
   "display_name": "Python 3",
   "language": "python",
   "name": "python3"
  },
  "language_info": {
   "codemirror_mode": {
    "name": "ipython",
    "version": 3
   },
   "file_extension": ".py",
   "mimetype": "text/x-python",
   "name": "python",
   "nbconvert_exporter": "python",
   "pygments_lexer": "ipython3",
   "version": "3.9.2"
  }
 },
 "nbformat": 4,
 "nbformat_minor": 5
}
