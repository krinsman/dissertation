{
 "cells": [
  {
   "cell_type": "code",
   "execution_count": 1,
   "id": "0a57ea4e-3585-4d9b-826f-c9ccaa4de389",
   "metadata": {},
   "outputs": [],
   "source": [
    "from glob import glob\n",
    "\n",
    "filenames = sorted(list(glob('npzfiles/*.npz')))"
   ]
  },
  {
   "cell_type": "code",
   "execution_count": 2,
   "id": "94572c18-6571-42d1-bac6-201df7773c70",
   "metadata": {},
   "outputs": [],
   "source": [
    "import numpy as np\n",
    "from simulations.concentrations.MLE import get_NB_score_function\n",
    "\n",
    "from scipy.optimize import root_scalar"
   ]
  },
  {
   "cell_type": "code",
   "execution_count": 3,
   "id": "27350a86-30e9-4742-9b53-23351a2a1c07",
   "metadata": {},
   "outputs": [],
   "source": [
    "from analysis_utils.concentrations_MLE import get_NB_MLE"
   ]
  },
  {
   "cell_type": "code",
   "execution_count": 4,
   "id": "b430b84f-b33e-45e6-866f-a34207d01933",
   "metadata": {},
   "outputs": [
    {
     "data": {
      "text/plain": [
       "0"
      ]
     },
     "execution_count": 4,
     "metadata": {},
     "output_type": "execute_result"
    }
   ],
   "source": [
    "get_NB_MLE(filenames[0])"
   ]
  },
  {
   "cell_type": "code",
   "execution_count": 5,
   "id": "98c17117-a548-4f0a-9c8d-de10a2646ad9",
   "metadata": {},
   "outputs": [],
   "source": [
    "npzfile = np.load('concentration_ML_estimates/simulation.001.density.npz')"
   ]
  },
  {
   "cell_type": "code",
   "execution_count": 6,
   "id": "0173c2d7-50c9-4bc1-b5d1-b183289a0d2d",
   "metadata": {},
   "outputs": [
    {
     "data": {
      "text/plain": [
       "array([inf])"
      ]
     },
     "execution_count": 6,
     "metadata": {},
     "output_type": "execute_result"
    }
   ],
   "source": [
    "npzfile['whole_sim']"
   ]
  },
  {
   "cell_type": "code",
   "execution_count": 7,
   "id": "c2e37a81-105c-4bb0-8828-c4137d455944",
   "metadata": {},
   "outputs": [
    {
     "data": {
      "text/plain": [
       "array([         inf,          inf,          inf,          inf,\n",
       "       182.72346924,  14.67143429,  18.30673344,          inf,\n",
       "                inf,  17.4506522 ,   9.30549054,          inf,\n",
       "                inf,          inf,  82.55733542,          inf,\n",
       "        27.22401464,          inf,  75.99396719,          inf,\n",
       "                inf,          inf,          inf,   8.60127762,\n",
       "        83.7868077 ,   7.59216147,  31.73649871,          inf,\n",
       "         6.65841731,   9.09388204])"
      ]
     },
     "execution_count": 7,
     "metadata": {},
     "output_type": "execute_result"
    }
   ],
   "source": [
    "npzfile['medium_batches']"
   ]
  },
  {
   "cell_type": "code",
   "execution_count": 8,
   "id": "c6a546e5-6e1d-4943-b000-8c71720bb430",
   "metadata": {},
   "outputs": [
    {
     "data": {
      "text/plain": [
       "array([2.53083655, 3.83356622, 3.02077732, ..., 1.3364964 ,        inf,\n",
       "       1.36372825])"
      ]
     },
     "execution_count": 8,
     "metadata": {},
     "output_type": "execute_result"
    }
   ],
   "source": [
    "npzfile['small_batches']"
   ]
  },
  {
   "cell_type": "markdown",
   "id": "c6d694e0-2416-44d0-bd32-66cc78f0aa12",
   "metadata": {},
   "source": [
    "## Example"
   ]
  },
  {
   "cell_type": "code",
   "execution_count": 9,
   "id": "a374df66-6893-451a-88cf-0333a90f3c75",
   "metadata": {},
   "outputs": [],
   "source": [
    "npzfile = np.load(filenames[0])\n",
    "droplets = npzfile['droplets']\n",
    "\n",
    "counts = np.sum(droplets, axis=1)\n",
    "mean_count = np.mean(counts)\n",
    "number_droplets, number_strains = droplets.shape\n",
    "\n",
    "score_function = get_NB_score_function(counts, mean_count, number_droplets, number_strains)"
   ]
  },
  {
   "cell_type": "code",
   "execution_count": 10,
   "id": "cc78b843-c18c-41e5-b600-6ddeed76d708",
   "metadata": {},
   "outputs": [],
   "source": [
    "from scipy.optimize import fsolve"
   ]
  },
  {
   "cell_type": "markdown",
   "id": "994e363c-16ce-4d12-a029-f356a333e54d",
   "metadata": {},
   "source": [
    "`fsolve` more general framework/wrapper, but seem to get better results using more 'targeted' options"
   ]
  },
  {
   "cell_type": "code",
   "execution_count": 11,
   "id": "5f5e4451-10ac-42ea-a8c7-402f85b304c3",
   "metadata": {},
   "outputs": [
    {
     "data": {
      "text/plain": [
       "(array([7718.34625062]),\n",
       " {'nfev': 52,\n",
       "  'fjac': array([[-1.]]),\n",
       "  'r': array([3.86724793e-10]),\n",
       "  'qtf': array([-4.48395099e-09]),\n",
       "  'fvec': array([4.48395099e-09])},\n",
       " 5,\n",
       " 'The iteration is not making good progress, as measured by the \\n  improvement from the last ten iterations.')"
      ]
     },
     "execution_count": 11,
     "metadata": {},
     "output_type": "execute_result"
    }
   ],
   "source": [
    "fsolve(score_function, 2, full_output=True)"
   ]
  },
  {
   "cell_type": "code",
   "execution_count": 12,
   "id": "a980154f-65e4-4309-9c9f-b97f20e944ba",
   "metadata": {},
   "outputs": [],
   "source": [
    "#root_scalar(f=score_function, x0=2, bracket=(0.000001,1000000))"
   ]
  },
  {
   "cell_type": "code",
   "execution_count": 13,
   "id": "4d995dac-8850-4954-bd07-09b2486cb23e",
   "metadata": {},
   "outputs": [
    {
     "data": {
      "text/plain": [
       "(array([11713.98005144]),\n",
       " {'nfev': 53,\n",
       "  'fjac': array([[-1.]]),\n",
       "  'r': array([7.34380711e-09]),\n",
       "  'qtf': array([-1.67418435e-09]),\n",
       "  'fvec': array([1.67418435e-09])},\n",
       " 5,\n",
       " 'The iteration is not making good progress, as measured by the \\n  improvement from the last ten iterations.')"
      ]
     },
     "execution_count": 13,
     "metadata": {},
     "output_type": "execute_result"
    }
   ],
   "source": [
    "fsolve(score_function, 1, full_output=True)"
   ]
  },
  {
   "cell_type": "code",
   "execution_count": 14,
   "id": "6e8f0fd1-7a78-4c04-b22e-ccc93b154e9d",
   "metadata": {},
   "outputs": [
    {
     "data": {
      "text/plain": [
       "(array([14315.03104674]),\n",
       " {'nfev': 69,\n",
       "  'fjac': array([[-1.]]),\n",
       "  'r': array([-0.02513898]),\n",
       "  'qtf': array([-2.00312655e-10]),\n",
       "  'fvec': array([2.00312655e-10])},\n",
       " 5,\n",
       " 'The iteration is not making good progress, as measured by the \\n  improvement from the last ten iterations.')"
      ]
     },
     "execution_count": 14,
     "metadata": {},
     "output_type": "execute_result"
    }
   ],
   "source": [
    "fsolve(score_function, 0.5, full_output=True)"
   ]
  },
  {
   "cell_type": "code",
   "execution_count": 15,
   "id": "1f2cc2b2-1ddc-4785-a176-767736382e9d",
   "metadata": {},
   "outputs": [
    {
     "data": {
      "text/plain": [
       "2.8560975806612987e-10"
      ]
     },
     "execution_count": 15,
     "metadata": {},
     "output_type": "execute_result"
    }
   ],
   "source": [
    "score_function(14315)"
   ]
  },
  {
   "cell_type": "code",
   "execution_count": 16,
   "id": "01e707a4-d40f-445d-962d-c45b6f769217",
   "metadata": {},
   "outputs": [
    {
     "data": {
      "text/plain": [
       "(array([20712.58675024]),\n",
       " {'nfev': 46,\n",
       "  'fjac': array([[-1.]]),\n",
       "  'r': array([2.19484032e-06]),\n",
       "  'qtf': array([-2.67299072e-10]),\n",
       "  'fvec': array([-5.16298115e-11])},\n",
       " 1,\n",
       " 'The solution converged.')"
      ]
     },
     "execution_count": 16,
     "metadata": {},
     "output_type": "execute_result"
    }
   ],
   "source": [
    "fsolve(score_function, 1.5, full_output=True)"
   ]
  },
  {
   "cell_type": "code",
   "execution_count": 17,
   "id": "76470461-0793-4e49-ad11-eec6f1780758",
   "metadata": {},
   "outputs": [
    {
     "data": {
      "text/plain": [
       "2.226968831564591e-09"
      ]
     },
     "execution_count": 17,
     "metadata": {},
     "output_type": "execute_result"
    }
   ],
   "source": [
    "score_function(20712)"
   ]
  },
  {
   "cell_type": "code",
   "execution_count": 18,
   "id": "3dfc9cb2-ceca-440e-a4bf-595674fc8c5e",
   "metadata": {},
   "outputs": [
    {
     "data": {
      "text/plain": [
       "(array([40376.27617048]),\n",
       " {'nfev': 47,\n",
       "  'fjac': array([[-1.]]),\n",
       "  'r': array([-7.49442344e-06]),\n",
       "  'qtf': array([7.07675696e-10]),\n",
       "  'fvec': array([1.82646787e-10])},\n",
       " 1,\n",
       " 'The solution converged.')"
      ]
     },
     "execution_count": 18,
     "metadata": {},
     "output_type": "execute_result"
    }
   ],
   "source": [
    "fsolve(score_function, 1.75, full_output=True)"
   ]
  },
  {
   "cell_type": "code",
   "execution_count": 19,
   "id": "7744b548-ad6d-4b15-a3e5-1f95cea93ddd",
   "metadata": {},
   "outputs": [],
   "source": [
    "#root_scalar(f=score_function, x0=1.75, bracket=(0.0001,10000))"
   ]
  },
  {
   "cell_type": "code",
   "execution_count": 20,
   "id": "e2f1e0e5-abcf-4337-9686-01f1cb7ab4eb",
   "metadata": {},
   "outputs": [
    {
     "data": {
      "text/plain": [
       "(array([15467.28055991]),\n",
       " {'nfev': 48,\n",
       "  'fjac': array([[-1.]]),\n",
       "  'r': array([0.00137733]),\n",
       "  'qtf': array([1.65119474e-10]),\n",
       "  'fvec': array([6.75015599e-14])},\n",
       " 1,\n",
       " 'The solution converged.')"
      ]
     },
     "execution_count": 20,
     "metadata": {},
     "output_type": "execute_result"
    }
   ],
   "source": [
    "fsolve(score_function, 1.6, full_output=True)"
   ]
  },
  {
   "cell_type": "code",
   "execution_count": 21,
   "id": "4d31b7ff-37b1-435e-8bbe-21f6518ca79f",
   "metadata": {},
   "outputs": [],
   "source": [
    "#root_scalar(f=score_function, x0=1.6, bracket=(0.0001,10000))"
   ]
  },
  {
   "cell_type": "code",
   "execution_count": 22,
   "id": "f2a6da0b-1a9e-4d42-801c-c28e4d6a77e7",
   "metadata": {},
   "outputs": [
    {
     "data": {
      "text/plain": [
       "(array([20472.24827151]),\n",
       " {'nfev': 55,\n",
       "  'fjac': array([[-1.]]),\n",
       "  'r': array([0.00078653]),\n",
       "  'qtf': array([-2.64186895e-10]),\n",
       "  'fvec': array([0.])},\n",
       " 1,\n",
       " 'The solution converged.')"
      ]
     },
     "execution_count": 22,
     "metadata": {},
     "output_type": "execute_result"
    }
   ],
   "source": [
    "fsolve(score_function, 1.55, full_output=True)"
   ]
  },
  {
   "cell_type": "code",
   "execution_count": 23,
   "id": "489d2090-fa26-4b5f-b2e8-c562ede9c5c4",
   "metadata": {},
   "outputs": [],
   "source": [
    "#root_scalar(f=score_function, x0=1.55, bracket=(0.0001,10000))"
   ]
  },
  {
   "cell_type": "code",
   "execution_count": 24,
   "id": "5a2877a1-54cc-483d-8df4-6ccd18e9226f",
   "metadata": {},
   "outputs": [
    {
     "data": {
      "text/plain": [
       "(array([20712.58675024]),\n",
       " {'nfev': 46,\n",
       "  'fjac': array([[-1.]]),\n",
       "  'r': array([2.19484032e-06]),\n",
       "  'qtf': array([-2.67299072e-10]),\n",
       "  'fvec': array([-5.16298115e-11])},\n",
       " 1,\n",
       " 'The solution converged.')"
      ]
     },
     "execution_count": 24,
     "metadata": {},
     "output_type": "execute_result"
    }
   ],
   "source": [
    "fsolve(score_function, 1.5, full_output=True)"
   ]
  },
  {
   "cell_type": "markdown",
   "id": "6b26de58-f8f4-4643-83c3-da19b1061fc7",
   "metadata": {},
   "source": [
    "#### score function evaluated at some values"
   ]
  },
  {
   "cell_type": "code",
   "execution_count": 25,
   "id": "24e96159-2ee5-4e97-942b-c6fc1e8ea974",
   "metadata": {},
   "outputs": [
    {
     "data": {
      "text/plain": [
       "287.7254638095619"
      ]
     },
     "execution_count": 25,
     "metadata": {},
     "output_type": "execute_result"
    }
   ],
   "source": [
    "score_function(0.5)"
   ]
  },
  {
   "cell_type": "code",
   "execution_count": 26,
   "id": "d1dd3fb3-6c20-4105-886f-67a144a90d3f",
   "metadata": {},
   "outputs": [
    {
     "data": {
      "text/plain": [
       "38.03719523217296"
      ]
     },
     "execution_count": 26,
     "metadata": {},
     "output_type": "execute_result"
    }
   ],
   "source": [
    "score_function(1)"
   ]
  },
  {
   "cell_type": "code",
   "execution_count": 27,
   "id": "53c4ca83-46dc-4ed0-ab5e-30d06acde3df",
   "metadata": {},
   "outputs": [
    {
     "data": {
      "text/plain": [
       "37.91867890051799"
      ]
     },
     "execution_count": 27,
     "metadata": {},
     "output_type": "execute_result"
    }
   ],
   "source": [
    "score_function(1.0010625)"
   ]
  },
  {
   "cell_type": "code",
   "execution_count": 28,
   "id": "2c40483a-5bc6-4974-a485-50c180ebaac1",
   "metadata": {},
   "outputs": [
    {
     "data": {
      "text/plain": [
       "37.690021776768845"
      ]
     },
     "execution_count": 28,
     "metadata": {},
     "output_type": "execute_result"
    }
   ],
   "source": [
    "score_function(1.003125)"
   ]
  },
  {
   "cell_type": "code",
   "execution_count": 29,
   "id": "4c55ceb2-b8d9-45d2-85c8-3e757c84aebf",
   "metadata": {},
   "outputs": [
    {
     "data": {
      "text/plain": [
       "37.3470670543029"
      ]
     },
     "execution_count": 29,
     "metadata": {},
     "output_type": "execute_result"
    }
   ],
   "source": [
    "score_function(1.00625)"
   ]
  },
  {
   "cell_type": "code",
   "execution_count": 30,
   "id": "1f070d68-386d-4b18-9a1e-c571baf501c0",
   "metadata": {},
   "outputs": [
    {
     "data": {
      "text/plain": [
       "36.67355923040304"
      ]
     },
     "execution_count": 30,
     "metadata": {},
     "output_type": "execute_result"
    }
   ],
   "source": [
    "score_function(1.0125)"
   ]
  },
  {
   "cell_type": "code",
   "execution_count": 31,
   "id": "b6f92d89-af4f-4170-87d2-88fc84503cdf",
   "metadata": {},
   "outputs": [
    {
     "data": {
      "text/plain": [
       "35.37443173659267"
      ]
     },
     "execution_count": 31,
     "metadata": {},
     "output_type": "execute_result"
    }
   ],
   "source": [
    "score_function(1.025)"
   ]
  },
  {
   "cell_type": "code",
   "execution_count": 32,
   "id": "224ed888-beda-41e5-b511-d4c64e9e2922",
   "metadata": {},
   "outputs": [
    {
     "data": {
      "text/plain": [
       "32.95487449277425"
      ]
     },
     "execution_count": 32,
     "metadata": {},
     "output_type": "execute_result"
    }
   ],
   "source": [
    "score_function(1.05)"
   ]
  },
  {
   "cell_type": "code",
   "execution_count": 33,
   "id": "9687ce30-6212-4758-a4be-9e347eb4fd2c",
   "metadata": {},
   "outputs": [
    {
     "data": {
      "text/plain": [
       "28.740293042035773"
      ]
     },
     "execution_count": 33,
     "metadata": {},
     "output_type": "execute_result"
    }
   ],
   "source": [
    "score_function(1.1)"
   ]
  },
  {
   "cell_type": "code",
   "execution_count": 34,
   "id": "c4836503-2e31-4cee-884c-d02960aac0c4",
   "metadata": {},
   "outputs": [
    {
     "data": {
      "text/plain": [
       "22.24562265118584"
      ]
     },
     "execution_count": 34,
     "metadata": {},
     "output_type": "execute_result"
    }
   ],
   "source": [
    "score_function(1.2)"
   ]
  },
  {
   "cell_type": "code",
   "execution_count": 35,
   "id": "983c0ae4-89b2-496f-8a4f-0289e81d68f1",
   "metadata": {},
   "outputs": [
    {
     "data": {
      "text/plain": [
       "4.925287718884647"
      ]
     },
     "execution_count": 35,
     "metadata": {},
     "output_type": "execute_result"
    }
   ],
   "source": [
    "score_function(2)"
   ]
  },
  {
   "cell_type": "code",
   "execution_count": 36,
   "id": "cdc83aea-a42a-48e0-9eca-4514967ffb4f",
   "metadata": {},
   "outputs": [
    {
     "data": {
      "text/plain": [
       "1.3687089222003124e-05"
      ]
     },
     "execution_count": 36,
     "metadata": {},
     "output_type": "execute_result"
    }
   ],
   "source": [
    "score_function(200)"
   ]
  },
  {
   "cell_type": "code",
   "execution_count": 37,
   "id": "a75c5228-c3bf-4643-b57d-cc5b6656fa6a",
   "metadata": {},
   "outputs": [
    {
     "data": {
      "text/plain": [
       "9.254483757104026e-08"
      ]
     },
     "execution_count": 37,
     "metadata": {},
     "output_type": "execute_result"
    }
   ],
   "source": [
    "score_function(2000)"
   ]
  },
  {
   "cell_type": "code",
   "execution_count": 38,
   "id": "4084842d-ad1a-4c39-bb0d-0ed792e8d20c",
   "metadata": {},
   "outputs": [
    {
     "data": {
      "text/plain": [
       "2.5155699745482707e-10"
      ]
     },
     "execution_count": 38,
     "metadata": {},
     "output_type": "execute_result"
    }
   ],
   "source": [
    "score_function(20000)"
   ]
  },
  {
   "cell_type": "code",
   "execution_count": 39,
   "id": "de4215d2-8734-4e6b-a9ce-9312ad80f46f",
   "metadata": {},
   "outputs": [
    {
     "data": {
      "text/plain": [
       "2.792834852272108e-10"
      ]
     },
     "execution_count": 39,
     "metadata": {},
     "output_type": "execute_result"
    }
   ],
   "source": [
    "score_function(200000)"
   ]
  },
  {
   "cell_type": "code",
   "execution_count": 40,
   "id": "799da92c-152b-428c-9a4a-58261b53e074",
   "metadata": {},
   "outputs": [
    {
     "data": {
      "text/plain": [
       "3.6021030602739756e-10"
      ]
     },
     "execution_count": 40,
     "metadata": {},
     "output_type": "execute_result"
    }
   ],
   "source": [
    "score_function(2000000)"
   ]
  },
  {
   "cell_type": "markdown",
   "id": "28e76327-25c3-46d9-9620-dceb05759268",
   "metadata": {},
   "source": [
    "## Does this really work in general?"
   ]
  },
  {
   "cell_type": "code",
   "execution_count": 41,
   "id": "341ccdba-9fd7-421a-a51d-a6eac8c61bcd",
   "metadata": {},
   "outputs": [
    {
     "data": {
      "text/plain": [
       "0"
      ]
     },
     "execution_count": 41,
     "metadata": {},
     "output_type": "execute_result"
    }
   ],
   "source": [
    "get_NB_MLE(filenames[17])"
   ]
  },
  {
   "cell_type": "code",
   "execution_count": 42,
   "id": "56126cec-6499-4a12-abc6-0c592a723492",
   "metadata": {},
   "outputs": [],
   "source": [
    "npzfile = np.load('concentration_ML_estimates/simulation.018.density.npz')"
   ]
  },
  {
   "cell_type": "code",
   "execution_count": 43,
   "id": "db5e9b0a-27f8-4e0f-ab7b-be5616547fb4",
   "metadata": {},
   "outputs": [
    {
     "data": {
      "text/plain": [
       "array([41.16664349])"
      ]
     },
     "execution_count": 43,
     "metadata": {},
     "output_type": "execute_result"
    }
   ],
   "source": [
    "npzfile['whole_sim']"
   ]
  },
  {
   "cell_type": "code",
   "execution_count": 44,
   "id": "3ccdd510-dc6c-44b3-9d74-2de42b6f080a",
   "metadata": {},
   "outputs": [
    {
     "data": {
      "text/plain": [
       "array([ 23.21907063, 101.91069849,  18.71498741,   6.68996023,\n",
       "                inf,          inf,   4.00084782,          inf,\n",
       "         7.73431189,          inf,   3.18218438,  11.75795288,\n",
       "                inf,   7.70825342,          inf,          inf,\n",
       "        50.01903226,  12.87785257,          inf,          inf,\n",
       "                inf,          inf,  14.81120338,   5.65988123,\n",
       "         9.13338503,          inf,          inf,          inf,\n",
       "                inf,   7.79158829])"
      ]
     },
     "execution_count": 44,
     "metadata": {},
     "output_type": "execute_result"
    }
   ],
   "source": [
    "npzfile['medium_batches']"
   ]
  },
  {
   "cell_type": "code",
   "execution_count": 45,
   "id": "517127a6-3c0c-4341-b8e6-aa817b66b62b",
   "metadata": {},
   "outputs": [
    {
     "data": {
      "text/plain": [
       "array([14.24871131, 11.67995124,         inf, ...,  1.52016366,\n",
       "        4.80585608,         inf])"
      ]
     },
     "execution_count": 45,
     "metadata": {},
     "output_type": "execute_result"
    }
   ],
   "source": [
    "npzfile['small_batches']"
   ]
  }
 ],
 "metadata": {
  "kernelspec": {
   "display_name": "Python 3",
   "language": "python",
   "name": "python3"
  },
  "language_info": {
   "codemirror_mode": {
    "name": "ipython",
    "version": 3
   },
   "file_extension": ".py",
   "mimetype": "text/x-python",
   "name": "python",
   "nbconvert_exporter": "python",
   "pygments_lexer": "ipython3",
   "version": "3.9.2"
  }
 },
 "nbformat": 4,
 "nbformat_minor": 5
}
