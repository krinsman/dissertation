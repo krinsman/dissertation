{
 "cells": [
  {
   "cell_type": "code",
   "execution_count": 1,
   "id": "0a57ea4e-3585-4d9b-826f-c9ccaa4de389",
   "metadata": {},
   "outputs": [],
   "source": [
    "from glob import glob\n",
    "\n",
    "filenames = sorted(list(glob('npzfiles/*.npz')))\n",
    "\n",
    "\n",
    "#batch_size = 10000\n",
    "\n",
    "#batch = droplets[0:batch_size,:]"
   ]
  },
  {
   "cell_type": "code",
   "execution_count": 2,
   "id": "94572c18-6571-42d1-bac6-201df7773c70",
   "metadata": {},
   "outputs": [],
   "source": [
    "import numpy as np\n",
    "from simulations.concentrations.MLE import get_DM_score_function\n",
    "from simulations.concentrations import get_plugin_categorical_concentration\n",
    "\n",
    "from scipy.optimize import root_scalar\n",
    "\n",
    "def get_DM_MLE(filename):\n",
    "\n",
    "    base_relative_abundances = [1e-4, 1e-3, 1e-2]\n",
    "\n",
    "    relative_abundances = [relative_abundance * number\n",
    "                           for relative_abundance \n",
    "                           in base_relative_abundances\n",
    "                           for number in (1,2,5) \n",
    "                           for repeat in range(10)]\n",
    "\n",
    "    relative_abundances += [1-sum(relative_abundances)]\n",
    "    frequencies = np.array(relative_abundances)\n",
    "    \n",
    "    npzfile = np.load(filename)\n",
    "    droplets = npzfile['droplets']\n",
    "    \n",
    "    # sim_num = re.findall(r'.*\\.([0-9]+)\\.npz', filename)[0]\n",
    "    \n",
    "    score_function = get_DM_score_function(droplets, frequencies)\n",
    "    # super inefficient b/c plugin also slow and would be better to\n",
    "    # read results from a file because we already have them. but i'm lazy\n",
    "    guess_value = get_plugin_categorical_concentration(droplets)\n",
    "    \n",
    "    result = root_scalar(f=score_function, x0=guess_value, bracket=(0.0001,10000))\n",
    "    return result.root # want result to be scalar, not `RootResults`"
   ]
  },
  {
   "cell_type": "code",
   "execution_count": 3,
   "id": "c2cf193f-d647-482c-bd0b-bea78b2c4a43",
   "metadata": {},
   "outputs": [
    {
     "data": {
      "text/plain": [
       "1.0023681401920805"
      ]
     },
     "execution_count": 3,
     "metadata": {},
     "output_type": "execute_result"
    }
   ],
   "source": [
    "result = get_DM_MLE(filenames[0])\n",
    "result"
   ]
  },
  {
   "cell_type": "code",
   "execution_count": 4,
   "id": "27350a86-30e9-4742-9b53-23351a2a1c07",
   "metadata": {},
   "outputs": [],
   "source": [
    "from analysis_utils.concentrations_MLE import get_DM_MLE as get_DM_MLE_test"
   ]
  },
  {
   "cell_type": "code",
   "execution_count": 5,
   "id": "b430b84f-b33e-45e6-866f-a34207d01933",
   "metadata": {},
   "outputs": [
    {
     "data": {
      "text/plain": [
       "0"
      ]
     },
     "execution_count": 5,
     "metadata": {},
     "output_type": "execute_result"
    }
   ],
   "source": [
    "get_DM_MLE_test(filenames[0])"
   ]
  },
  {
   "cell_type": "code",
   "execution_count": 6,
   "id": "98c17117-a548-4f0a-9c8d-de10a2646ad9",
   "metadata": {},
   "outputs": [],
   "source": [
    "npzfile = np.load('concentration_ML_estimates/simulation.001.compositional.npz')"
   ]
  },
  {
   "cell_type": "code",
   "execution_count": 7,
   "id": "0173c2d7-50c9-4bc1-b5d1-b183289a0d2d",
   "metadata": {},
   "outputs": [
    {
     "data": {
      "text/plain": [
       "array([1.00236814])"
      ]
     },
     "execution_count": 7,
     "metadata": {},
     "output_type": "execute_result"
    }
   ],
   "source": [
    "npzfile['whole_sim']"
   ]
  },
  {
   "cell_type": "code",
   "execution_count": 8,
   "id": "c2e37a81-105c-4bb0-8828-c4137d455944",
   "metadata": {},
   "outputs": [
    {
     "data": {
      "text/plain": [
       "array([1.02003509, 0.98730531, 0.98860759, 1.00630211, 1.01041494,\n",
       "       0.98960614, 0.98444663, 1.00385073, 0.98008344, 1.00067249,\n",
       "       1.00599713, 0.99745964, 1.00313882, 1.01786759, 0.97836378,\n",
       "       1.01731972, 1.03188787, 1.00777903, 0.98569626, 1.00735286,\n",
       "       0.99193475, 1.02334047, 1.05297176, 1.02796612, 0.96807831,\n",
       "       1.03114951, 1.01000441, 0.97286933, 0.97971741, 1.00048466])"
      ]
     },
     "execution_count": 8,
     "metadata": {},
     "output_type": "execute_result"
    }
   ],
   "source": [
    "npzfile['medium_batches']"
   ]
  },
  {
   "cell_type": "code",
   "execution_count": 9,
   "id": "c6a546e5-6e1d-4943-b000-8c71720bb430",
   "metadata": {},
   "outputs": [
    {
     "data": {
      "text/plain": [
       "array([0.89583724, 1.0700831 , 1.21351298, ..., 0.89227021, 1.10216439,\n",
       "       1.21770383])"
      ]
     },
     "execution_count": 9,
     "metadata": {},
     "output_type": "execute_result"
    }
   ],
   "source": [
    "npzfile['small_batches']"
   ]
  },
  {
   "cell_type": "markdown",
   "id": "dee2fe86-4747-4ad6-9362-bd3f814b604f",
   "metadata": {},
   "source": [
    "ok so this seems to have mostly avoided the dumb problems with estimates on the order of $10^{13}$ or whatever due to `fsolve` numerical instability, lack of brackets, possibly weird shape of score function, etc., we had before, so probably good?"
   ]
  },
  {
   "cell_type": "markdown",
   "id": "c6d694e0-2416-44d0-bd32-66cc78f0aa12",
   "metadata": {},
   "source": [
    "## Example"
   ]
  },
  {
   "cell_type": "code",
   "execution_count": 10,
   "id": "a374df66-6893-451a-88cf-0333a90f3c75",
   "metadata": {},
   "outputs": [],
   "source": [
    "base_relative_abundances = [1e-4, 1e-3, 1e-2]\n",
    "\n",
    "relative_abundances = [relative_abundance * number\n",
    "                       for relative_abundance \n",
    "                       in base_relative_abundances\n",
    "                       for number in (1,2,5) \n",
    "                       for repeat in range(10)]\n",
    "\n",
    "relative_abundances += [1-sum(relative_abundances)]\n",
    "frequencies = np.array(relative_abundances)\n",
    "\n",
    "npzfile = np.load(filenames[0])\n",
    "droplets = npzfile['droplets']\n",
    "\n",
    "score_function = get_DM_score_function(droplets, frequencies)"
   ]
  },
  {
   "cell_type": "code",
   "execution_count": 11,
   "id": "cc78b843-c18c-41e5-b600-6ddeed76d708",
   "metadata": {},
   "outputs": [],
   "source": [
    "from scipy.optimize import fsolve"
   ]
  },
  {
   "cell_type": "markdown",
   "id": "994e363c-16ce-4d12-a029-f356a333e54d",
   "metadata": {},
   "source": [
    "`fsolve` more general framework/wrapper, but seem to get better results using more 'targeted' options"
   ]
  },
  {
   "cell_type": "code",
   "execution_count": 12,
   "id": "5f5e4451-10ac-42ea-a8c7-402f85b304c3",
   "metadata": {},
   "outputs": [
    {
     "data": {
      "text/plain": [
       "(array([5.38201097e+13]),\n",
       " {'nfev': 108,\n",
       "  'fjac': array([[-1.]]),\n",
       "  'r': array([-1.66107607e-35]),\n",
       "  'qtf': array([2.11758237e-22]),\n",
       "  'fvec': 0.0},\n",
       " 1,\n",
       " 'The solution converged.')"
      ]
     },
     "execution_count": 12,
     "metadata": {},
     "output_type": "execute_result"
    }
   ],
   "source": [
    "fsolve(score_function, 2, full_output=True)"
   ]
  },
  {
   "cell_type": "code",
   "execution_count": 13,
   "id": "a980154f-65e4-4309-9c9f-b97f20e944ba",
   "metadata": {},
   "outputs": [
    {
     "data": {
      "text/plain": [
       "      converged: True\n",
       "           flag: 'converged'\n",
       " function_calls: 26\n",
       "     iterations: 25\n",
       "           root: 1.0023681401920805"
      ]
     },
     "execution_count": 13,
     "metadata": {},
     "output_type": "execute_result"
    }
   ],
   "source": [
    "root_scalar(f=score_function, x0=2, bracket=(0.0001,10000))"
   ]
  },
  {
   "cell_type": "code",
   "execution_count": 14,
   "id": "e8d523a7-b9c3-4358-b0c5-c802fe139f3e",
   "metadata": {},
   "outputs": [],
   "source": [
    "result = root_scalar(f=score_function, x0=2, bracket=(0.0001,10000))"
   ]
  },
  {
   "cell_type": "code",
   "execution_count": 15,
   "id": "d8014ad8-bc4c-4a7b-bf1d-43055ad205e4",
   "metadata": {},
   "outputs": [
    {
     "data": {
      "text/plain": [
       "1.0023681401920805"
      ]
     },
     "execution_count": 15,
     "metadata": {},
     "output_type": "execute_result"
    }
   ],
   "source": [
    "result.root"
   ]
  },
  {
   "cell_type": "code",
   "execution_count": 16,
   "id": "49ba6374-33e1-4274-9723-9c1af8ed7ba3",
   "metadata": {},
   "outputs": [
    {
     "data": {
      "text/plain": [
       "1.0023681401920805"
      ]
     },
     "execution_count": 16,
     "metadata": {},
     "output_type": "execute_result"
    }
   ],
   "source": [
    "float(result.root)"
   ]
  },
  {
   "cell_type": "code",
   "execution_count": 17,
   "id": "4f930906-751c-4ee6-8b3c-f14af4ba17ef",
   "metadata": {},
   "outputs": [
    {
     "data": {
      "text/plain": [
       "True"
      ]
     },
     "execution_count": 17,
     "metadata": {},
     "output_type": "execute_result"
    }
   ],
   "source": [
    "float(result.root) == result.root"
   ]
  },
  {
   "cell_type": "code",
   "execution_count": 18,
   "id": "4d995dac-8850-4954-bd07-09b2486cb23e",
   "metadata": {},
   "outputs": [
    {
     "data": {
      "text/plain": [
       "(array([1.00236814]),\n",
       " {'nfev': 6,\n",
       "  'fjac': array([[-1.]]),\n",
       "  'r': array([87633.45240267]),\n",
       "  'qtf': array([-2.71946192e-07]),\n",
       "  'fvec': 3.725290298461914e-09},\n",
       " 1,\n",
       " 'The solution converged.')"
      ]
     },
     "execution_count": 18,
     "metadata": {},
     "output_type": "execute_result"
    }
   ],
   "source": [
    "fsolve(score_function, 1, full_output=True)"
   ]
  },
  {
   "cell_type": "code",
   "execution_count": 19,
   "id": "6e8f0fd1-7a78-4c04-b22e-ccc93b154e9d",
   "metadata": {},
   "outputs": [
    {
     "data": {
      "text/plain": [
       "(array([1.00236814]),\n",
       " {'nfev': 12,\n",
       "  'fjac': array([[-1.]]),\n",
       "  'r': array([87634.48509771]),\n",
       "  'qtf': array([-0.00033464]),\n",
       "  'fvec': 0.0},\n",
       " 1,\n",
       " 'The solution converged.')"
      ]
     },
     "execution_count": 19,
     "metadata": {},
     "output_type": "execute_result"
    }
   ],
   "source": [
    "fsolve(score_function, 0.5, full_output=True)"
   ]
  },
  {
   "cell_type": "code",
   "execution_count": 20,
   "id": "01e707a4-d40f-445d-962d-c45b6f769217",
   "metadata": {},
   "outputs": [
    {
     "data": {
      "text/plain": [
       "(array([1.00236814]),\n",
       " {'nfev': 12,\n",
       "  'fjac': array([[-1.]]),\n",
       "  'r': array([87634.35139601]),\n",
       "  'qtf': array([0.0002916]),\n",
       "  'fvec': 3.725290298461914e-09},\n",
       " 1,\n",
       " 'The solution converged.')"
      ]
     },
     "execution_count": 20,
     "metadata": {},
     "output_type": "execute_result"
    }
   ],
   "source": [
    "fsolve(score_function, 1.5, full_output=True)"
   ]
  },
  {
   "cell_type": "code",
   "execution_count": 21,
   "id": "3dfc9cb2-ceca-440e-a4bf-595674fc8c5e",
   "metadata": {},
   "outputs": [
    {
     "data": {
      "text/plain": [
       "(array([5.21585152e+13]),\n",
       " {'nfev': 118,\n",
       "  'fjac': array([[1.]]),\n",
       "  'r': array([0.]),\n",
       "  'qtf': array([-1.05879118e-22]),\n",
       "  'fvec': -1.0587911840678754e-22},\n",
       " 5,\n",
       " 'The iteration is not making good progress, as measured by the \\n  improvement from the last ten iterations.')"
      ]
     },
     "execution_count": 21,
     "metadata": {},
     "output_type": "execute_result"
    }
   ],
   "source": [
    "fsolve(score_function, 1.75, full_output=True)"
   ]
  },
  {
   "cell_type": "code",
   "execution_count": 22,
   "id": "7744b548-ad6d-4b15-a3e5-1f95cea93ddd",
   "metadata": {},
   "outputs": [
    {
     "data": {
      "text/plain": [
       "      converged: True\n",
       "           flag: 'converged'\n",
       " function_calls: 26\n",
       "     iterations: 25\n",
       "           root: 1.0023681401920805"
      ]
     },
     "execution_count": 22,
     "metadata": {},
     "output_type": "execute_result"
    }
   ],
   "source": [
    "root_scalar(f=score_function, x0=1.75, bracket=(0.0001,10000))"
   ]
  },
  {
   "cell_type": "code",
   "execution_count": 23,
   "id": "e2f1e0e5-abcf-4337-9686-01f1cb7ab4eb",
   "metadata": {},
   "outputs": [
    {
     "data": {
      "text/plain": [
       "(array([-19.31114052]),\n",
       " {'nfev': 9,\n",
       "  'fjac': array([[-1.]]),\n",
       "  'r': array([334.31966175]),\n",
       "  'qtf': array([-2.72074249e-05]),\n",
       "  'fvec': 1.1641532182693481e-09},\n",
       " 1,\n",
       " 'The solution converged.')"
      ]
     },
     "execution_count": 23,
     "metadata": {},
     "output_type": "execute_result"
    }
   ],
   "source": [
    "fsolve(score_function, 1.6, full_output=True)"
   ]
  },
  {
   "cell_type": "code",
   "execution_count": 24,
   "id": "4d31b7ff-37b1-435e-8bbe-21f6518ca79f",
   "metadata": {},
   "outputs": [
    {
     "data": {
      "text/plain": [
       "      converged: True\n",
       "           flag: 'converged'\n",
       " function_calls: 26\n",
       "     iterations: 25\n",
       "           root: 1.0023681401920805"
      ]
     },
     "execution_count": 24,
     "metadata": {},
     "output_type": "execute_result"
    }
   ],
   "source": [
    "root_scalar(f=score_function, x0=1.6, bracket=(0.0001,10000))"
   ]
  },
  {
   "cell_type": "code",
   "execution_count": 25,
   "id": "f2a6da0b-1a9e-4d42-801c-c28e4d6a77e7",
   "metadata": {},
   "outputs": [
    {
     "data": {
      "text/plain": [
       "(array([1.07923004e+13]),\n",
       " {'nfev': 124,\n",
       "  'fjac': array([[-1.]]),\n",
       "  'r': array([-4.36868911e-29]),\n",
       "  'qtf': array([2.11758237e-21]),\n",
       "  'fvec': -2.117582368135751e-21},\n",
       " 5,\n",
       " 'The iteration is not making good progress, as measured by the \\n  improvement from the last ten iterations.')"
      ]
     },
     "execution_count": 25,
     "metadata": {},
     "output_type": "execute_result"
    }
   ],
   "source": [
    "fsolve(score_function, 1.55, full_output=True)"
   ]
  },
  {
   "cell_type": "code",
   "execution_count": 26,
   "id": "489d2090-fa26-4b5f-b2e8-c562ede9c5c4",
   "metadata": {},
   "outputs": [
    {
     "data": {
      "text/plain": [
       "      converged: True\n",
       "           flag: 'converged'\n",
       " function_calls: 26\n",
       "     iterations: 25\n",
       "           root: 1.0023681401920805"
      ]
     },
     "execution_count": 26,
     "metadata": {},
     "output_type": "execute_result"
    }
   ],
   "source": [
    "root_scalar(f=score_function, x0=1.55, bracket=(0.0001,10000))"
   ]
  },
  {
   "cell_type": "code",
   "execution_count": 27,
   "id": "5a2877a1-54cc-483d-8df4-6ccd18e9226f",
   "metadata": {},
   "outputs": [
    {
     "data": {
      "text/plain": [
       "(array([1.00236814]),\n",
       " {'nfev': 12,\n",
       "  'fjac': array([[-1.]]),\n",
       "  'r': array([87634.35139601]),\n",
       "  'qtf': array([0.0002916]),\n",
       "  'fvec': 3.725290298461914e-09},\n",
       " 1,\n",
       " 'The solution converged.')"
      ]
     },
     "execution_count": 27,
     "metadata": {},
     "output_type": "execute_result"
    }
   ],
   "source": [
    "fsolve(score_function, 1.5, full_output=True)"
   ]
  },
  {
   "cell_type": "markdown",
   "id": "25e1f04f-8509-4e9a-b1a6-e838ce7dc0a0",
   "metadata": {},
   "source": [
    "OK so for `fsolve` to work it seems it has to be initialized very close to the starting value? Which may or may not be useless, depending on what my plugin estimators can do to help...\n",
    "\n",
    "although using a better root-finding algorithm via `root_scalar` and the brackets seems to help, although adding the bracket sort of seems to be \"cheating\" but on the other hand we know it has to be greater than $0$, and $10,000$ is basically the same as $\\infty$ for this problem, so I guess it's fine..."
   ]
  },
  {
   "cell_type": "markdown",
   "id": "6b26de58-f8f4-4643-83c3-da19b1061fc7",
   "metadata": {},
   "source": [
    "#### score function evaluated at some values"
   ]
  },
  {
   "cell_type": "code",
   "execution_count": 28,
   "id": "24e96159-2ee5-4e97-942b-c6fc1e8ea974",
   "metadata": {},
   "outputs": [
    {
     "data": {
      "text/plain": [
       "246891.57295345515"
      ]
     },
     "execution_count": 28,
     "metadata": {},
     "output_type": "execute_result"
    }
   ],
   "source": [
    "score_function(0.5)"
   ]
  },
  {
   "cell_type": "code",
   "execution_count": 29,
   "id": "d1dd3fb3-6c20-4105-886f-67a144a90d3f",
   "metadata": {},
   "outputs": [
    {
     "data": {
      "text/plain": [
       "208.77755476534367"
      ]
     },
     "execution_count": 29,
     "metadata": {},
     "output_type": "execute_result"
    }
   ],
   "source": [
    "score_function(1)"
   ]
  },
  {
   "cell_type": "code",
   "execution_count": 30,
   "id": "53c4ca83-46dc-4ed0-ab5e-30d06acde3df",
   "metadata": {},
   "outputs": [
    {
     "data": {
      "text/plain": [
       "114.7968273088336"
      ]
     },
     "execution_count": 30,
     "metadata": {},
     "output_type": "execute_result"
    }
   ],
   "source": [
    "score_function(1.0010625)"
   ]
  },
  {
   "cell_type": "code",
   "execution_count": 31,
   "id": "2c40483a-5bc6-4974-a485-50c180ebaac1",
   "metadata": {},
   "outputs": [
    {
     "data": {
      "text/plain": [
       "-66.1993800252676"
      ]
     },
     "execution_count": 31,
     "metadata": {},
     "output_type": "execute_result"
    }
   ],
   "source": [
    "score_function(1.003125)"
   ]
  },
  {
   "cell_type": "code",
   "execution_count": 32,
   "id": "4c55ceb2-b8d9-45d2-85c8-3e757c84aebf",
   "metadata": {},
   "outputs": [
    {
     "data": {
      "text/plain": [
       "-336.8607820123434"
      ]
     },
     "execution_count": 32,
     "metadata": {},
     "output_type": "execute_result"
    }
   ],
   "source": [
    "score_function(1.00625)"
   ]
  },
  {
   "cell_type": "code",
   "execution_count": 33,
   "id": "1f070d68-386d-4b18-9a1e-c571baf501c0",
   "metadata": {},
   "outputs": [
    {
     "data": {
      "text/plain": [
       "-865.5136660858989"
      ]
     },
     "execution_count": 33,
     "metadata": {},
     "output_type": "execute_result"
    }
   ],
   "source": [
    "score_function(1.0125)"
   ]
  },
  {
   "cell_type": "code",
   "execution_count": 34,
   "id": "b6f92d89-af4f-4170-87d2-88fc84503cdf",
   "metadata": {},
   "outputs": [
    {
     "data": {
      "text/plain": [
       "-1874.0072534196079"
      ]
     },
     "execution_count": 34,
     "metadata": {},
     "output_type": "execute_result"
    }
   ],
   "source": [
    "score_function(1.025)"
   ]
  },
  {
   "cell_type": "code",
   "execution_count": 35,
   "id": "224ed888-beda-41e5-b511-d4c64e9e2922",
   "metadata": {},
   "outputs": [
    {
     "data": {
      "text/plain": [
       "-3709.712809994817"
      ]
     },
     "execution_count": 35,
     "metadata": {},
     "output_type": "execute_result"
    }
   ],
   "source": [
    "score_function(1.05)"
   ]
  },
  {
   "cell_type": "code",
   "execution_count": 36,
   "id": "9687ce30-6212-4758-a4be-9e347eb4fd2c",
   "metadata": {},
   "outputs": [
    {
     "data": {
      "text/plain": [
       "-6753.978840485215"
      ]
     },
     "execution_count": 36,
     "metadata": {},
     "output_type": "execute_result"
    }
   ],
   "source": [
    "score_function(1.1)"
   ]
  },
  {
   "cell_type": "code",
   "execution_count": 37,
   "id": "c4836503-2e31-4cee-884c-d02960aac0c4",
   "metadata": {},
   "outputs": [
    {
     "data": {
      "text/plain": [
       "-10943.925206318498"
      ]
     },
     "execution_count": 37,
     "metadata": {},
     "output_type": "execute_result"
    }
   ],
   "source": [
    "score_function(1.2)"
   ]
  },
  {
   "cell_type": "code",
   "execution_count": 38,
   "id": "983c0ae4-89b2-496f-8a4f-0289e81d68f1",
   "metadata": {},
   "outputs": [
    {
     "data": {
      "text/plain": [
       "-14649.352417433634"
      ]
     },
     "execution_count": 38,
     "metadata": {},
     "output_type": "execute_result"
    }
   ],
   "source": [
    "score_function(2)"
   ]
  },
  {
   "cell_type": "code",
   "execution_count": 39,
   "id": "cdc83aea-a42a-48e0-9eca-4514967ffb4f",
   "metadata": {},
   "outputs": [
    {
     "data": {
      "text/plain": [
       "-7.264701052787132"
      ]
     },
     "execution_count": 39,
     "metadata": {},
     "output_type": "execute_result"
    }
   ],
   "source": [
    "score_function(200)"
   ]
  },
  {
   "cell_type": "markdown",
   "id": "4e407fe0-e091-40c9-92e7-084f524239fe",
   "metadata": {},
   "source": [
    "it seems like the score function starts positive (asymptoting towards infinity perhaps as the values go towards 0), hits zero, goes negative, but then increases again, asymptoting towards zero (but never reaching in general?) from below\n",
    "\n",
    "so the \"second zero\" \"at infinity\" for the score would correspond to a \"local mininmum\" of the log likelihood I think, i.e. we should be justified in disregarding it as a candidate _maximum_ likelihood estimate"
   ]
  },
  {
   "cell_type": "markdown",
   "id": "28e76327-25c3-46d9-9620-dceb05759268",
   "metadata": {},
   "source": [
    "## Does this really work in general?"
   ]
  },
  {
   "cell_type": "code",
   "execution_count": 40,
   "id": "341ccdba-9fd7-421a-a51d-a6eac8c61bcd",
   "metadata": {},
   "outputs": [
    {
     "data": {
      "text/plain": [
       "0"
      ]
     },
     "execution_count": 40,
     "metadata": {},
     "output_type": "execute_result"
    }
   ],
   "source": [
    "get_DM_MLE_test(filenames[17])"
   ]
  },
  {
   "cell_type": "code",
   "execution_count": 41,
   "id": "56126cec-6499-4a12-abc6-0c592a723492",
   "metadata": {},
   "outputs": [],
   "source": [
    "npzfile = np.load('concentration_ML_estimates/simulation.018.compositional.npz')"
   ]
  },
  {
   "cell_type": "code",
   "execution_count": 42,
   "id": "db5e9b0a-27f8-4e0f-ab7b-be5616547fb4",
   "metadata": {},
   "outputs": [
    {
     "data": {
      "text/plain": [
       "array([1.00110548])"
      ]
     },
     "execution_count": 42,
     "metadata": {},
     "output_type": "execute_result"
    }
   ],
   "source": [
    "npzfile['whole_sim']"
   ]
  },
  {
   "cell_type": "code",
   "execution_count": 43,
   "id": "3ccdd510-dc6c-44b3-9d74-2de42b6f080a",
   "metadata": {},
   "outputs": [
    {
     "data": {
      "text/plain": [
       "array([0.99962166, 0.99854617, 1.00385132, 1.01783741, 0.99672208,\n",
       "       0.95983835, 1.03279495, 0.99124399, 0.98601127, 1.02110405,\n",
       "       1.0002341 , 1.00035244, 0.99896262, 1.011135  , 1.00671617,\n",
       "       0.98530922, 1.00510208, 1.0130035 , 0.97343806, 0.97354178,\n",
       "       1.02753314, 0.971739  , 0.99445856, 1.02418862, 1.01462571,\n",
       "       1.00462135, 1.01273396, 1.02186666, 0.99337153, 1.00144819])"
      ]
     },
     "execution_count": 43,
     "metadata": {},
     "output_type": "execute_result"
    }
   ],
   "source": [
    "npzfile['medium_batches']"
   ]
  },
  {
   "cell_type": "code",
   "execution_count": 44,
   "id": "517127a6-3c0c-4341-b8e6-aa817b66b62b",
   "metadata": {},
   "outputs": [
    {
     "data": {
      "text/plain": [
       "array([1.12011325, 1.04160977, 0.84260323, ..., 1.20838555, 0.96055808,\n",
       "       1.01696832])"
      ]
     },
     "execution_count": 44,
     "metadata": {},
     "output_type": "execute_result"
    }
   ],
   "source": [
    "npzfile['small_batches']"
   ]
  },
  {
   "cell_type": "markdown",
   "id": "619a5665-dba9-4ba1-aa75-e03913b4bc77",
   "metadata": {},
   "source": [
    "I guess so it seems.\n",
    "\n",
    "Also I could probably divide the score function by the number of species because it's a redundant factor and maybe leads to increased numerical instability, but I don't think it really matters, and the code is probably slightly easier to understand if it attempts to calculate the exact score, rather than up to a constant factor"
   ]
  }
 ],
 "metadata": {
  "kernelspec": {
   "display_name": "Python 3",
   "language": "python",
   "name": "python3"
  },
  "language_info": {
   "codemirror_mode": {
    "name": "ipython",
    "version": 3
   },
   "file_extension": ".py",
   "mimetype": "text/x-python",
   "name": "python",
   "nbconvert_exporter": "python",
   "pygments_lexer": "ipython3",
   "version": "3.9.2"
  }
 },
 "nbformat": 4,
 "nbformat_minor": 5
}
