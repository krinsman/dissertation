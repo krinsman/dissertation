{
 "cells": [
  {
   "cell_type": "code",
   "execution_count": 1,
   "id": "935aa067-641d-4b5f-9ad0-5feec9718a59",
   "metadata": {},
   "outputs": [],
   "source": [
    "import numpy as np\n",
    "\n",
    "def get_plugin_matrix(test):\n",
    "    empirical_frequencies = np.sum(test, axis=0)/np.sum(test, axis=None)\n",
    "    plugin_matrix = -10*np.outer(empirical_frequencies, empirical_frequencies)\n",
    "    np.fill_diagonal(plugin_matrix, 10*empirical_frequencies*(1.-empirical_frequencies))\n",
    "    return plugin_matrix"
   ]
  },
  {
   "cell_type": "code",
   "execution_count": 2,
   "id": "24e724a2-6581-4cf3-b68f-9bc71006766a",
   "metadata": {},
   "outputs": [],
   "source": [
    "def get_emp_cov(test):\n",
    "    return np.cov(test.T, bias=True)"
   ]
  },
  {
   "cell_type": "code",
   "execution_count": 3,
   "id": "e4cbae98-0011-4d9c-8756-ba91123d26ad",
   "metadata": {},
   "outputs": [],
   "source": [
    "base_relative_abundances = [1e-4, 1e-3, 1e-2]\n",
    "\n",
    "relative_abundances = [relative_abundance * number\n",
    "                       for relative_abundance \n",
    "                       in base_relative_abundances\n",
    "                       for number in (1,2,5) \n",
    "                       for repeat in range(10)]\n",
    "\n",
    "relative_abundances += [1-sum(relative_abundances)]\n",
    "frequencies = np.array(relative_abundances)"
   ]
  },
  {
   "cell_type": "code",
   "execution_count": 4,
   "id": "897f2bee-bb50-41e0-bfc8-21cd0d3c48ae",
   "metadata": {},
   "outputs": [],
   "source": [
    "rng = np.random.default_rng(42)"
   ]
  },
  {
   "cell_type": "code",
   "execution_count": 5,
   "id": "1b98032f-60c6-4240-a8c4-e5f5af88d770",
   "metadata": {},
   "outputs": [],
   "source": [
    "test = rng.multinomial(n=10, pvals=frequencies, size=200000)\n",
    "\n",
    "plugin_matrix = get_plugin_matrix(test)\n",
    "emp_cov = get_emp_cov(test)"
   ]
  },
  {
   "cell_type": "code",
   "execution_count": 6,
   "id": "0d281f8d-d10f-4060-9188-51dd0f0c037c",
   "metadata": {},
   "outputs": [
    {
     "data": {
      "text/plain": [
       "9.425226719599044e-05"
      ]
     },
     "execution_count": 6,
     "metadata": {},
     "output_type": "execute_result"
    }
   ],
   "source": [
    "np.sum(np.abs(plugin_matrix - emp_cov), axis=None)/(91**2)"
   ]
  },
  {
   "cell_type": "code",
   "execution_count": 7,
   "id": "53d32474-b530-4b95-ae29-f2cdeb68339d",
   "metadata": {},
   "outputs": [],
   "source": [
    "rng = np.random.default_rng(42)"
   ]
  },
  {
   "cell_type": "code",
   "execution_count": 8,
   "id": "42983984-e90f-4283-8378-bb8fa6a11ec2",
   "metadata": {},
   "outputs": [],
   "source": [
    "test = rng.multinomial(n=10, pvals=frequencies, size=300000)\n",
    "\n",
    "plugin_matrix = get_plugin_matrix(test)\n",
    "emp_cov = get_emp_cov(test)"
   ]
  },
  {
   "cell_type": "code",
   "execution_count": 9,
   "id": "8d313c65-05d2-469f-ae7a-58710eeac6f8",
   "metadata": {},
   "outputs": [
    {
     "data": {
      "text/plain": [
       "7.800834099182783e-05"
      ]
     },
     "execution_count": 9,
     "metadata": {},
     "output_type": "execute_result"
    }
   ],
   "source": [
    "np.sum(np.abs(plugin_matrix - emp_cov), axis=None)/(91**2)"
   ]
  },
  {
   "cell_type": "code",
   "execution_count": 10,
   "id": "d33df4b5-bbca-457e-93f4-a92b36f999e4",
   "metadata": {},
   "outputs": [],
   "source": [
    "test = rng.multinomial(n=10, pvals=frequencies, size=500000)\n",
    "\n",
    "plugin_matrix = get_plugin_matrix(test)\n",
    "emp_cov = get_emp_cov(test)"
   ]
  },
  {
   "cell_type": "code",
   "execution_count": 11,
   "id": "0e59a2bc-ef1b-4ddb-97be-988fd80fe940",
   "metadata": {},
   "outputs": [
    {
     "data": {
      "text/plain": [
       "6.240805895925285e-05"
      ]
     },
     "execution_count": 11,
     "metadata": {},
     "output_type": "execute_result"
    }
   ],
   "source": [
    "np.sum(np.abs(plugin_matrix - emp_cov), axis=None)/(91**2)"
   ]
  },
  {
   "cell_type": "code",
   "execution_count": 12,
   "id": "7152e5b6-582d-45e5-a466-ca172654b336",
   "metadata": {},
   "outputs": [],
   "source": [
    "test = rng.multinomial(n=10, pvals=frequencies, size=1000000)\n",
    "\n",
    "plugin_matrix = get_plugin_matrix(test)\n",
    "emp_cov = get_emp_cov(test)"
   ]
  },
  {
   "cell_type": "code",
   "execution_count": 13,
   "id": "18d081da-a0cc-467f-ac92-b94f76e8472e",
   "metadata": {},
   "outputs": [
    {
     "data": {
      "text/plain": [
       "4.435471336712547e-05"
      ]
     },
     "execution_count": 13,
     "metadata": {},
     "output_type": "execute_result"
    }
   ],
   "source": [
    "np.sum(np.abs(plugin_matrix - emp_cov), axis=None)/(91**2)"
   ]
  },
  {
   "cell_type": "markdown",
   "id": "c454591e-dd52-40b9-92f6-c6a45fefb013",
   "metadata": {},
   "source": [
    "ok yeah convergence is not very fast, but does appear to be occurring so OK good I guess..."
   ]
  },
  {
   "cell_type": "code",
   "execution_count": null,
   "id": "19753661-40c1-4fe4-90f8-1cc7f8043ba1",
   "metadata": {},
   "outputs": [],
   "source": []
  }
 ],
 "metadata": {
  "kernelspec": {
   "display_name": "Python 3",
   "language": "python",
   "name": "python3"
  },
  "language_info": {
   "codemirror_mode": {
    "name": "ipython",
    "version": 3
   },
   "file_extension": ".py",
   "mimetype": "text/x-python",
   "name": "python",
   "nbconvert_exporter": "python",
   "pygments_lexer": "ipython3",
   "version": "3.9.2"
  }
 },
 "nbformat": 4,
 "nbformat_minor": 5
}
