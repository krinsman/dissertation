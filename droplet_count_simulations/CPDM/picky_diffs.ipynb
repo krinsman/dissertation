{
 "cells": [
  {
   "cell_type": "code",
   "execution_count": 1,
   "id": "f262050d",
   "metadata": {},
   "outputs": [],
   "source": [
    "import numpy as np\n",
    "import matplotlib.pyplot as plt\n",
    "import seaborn as sns\n",
    "import matplotlib.ticker as mtick"
   ]
  },
  {
   "cell_type": "code",
   "execution_count": 2,
   "id": "068c7c69-0de8-4f43-b096-baf72604ab8d",
   "metadata": {},
   "outputs": [],
   "source": [
    "def add_ticks(axes_axis):\n",
    "    axes_axis.set_ticks([10, 20, 30, 40, 50, 60, 70., 80, 90.])\n",
    "    axes_axis.set_minor_locator(mtick.FixedLocator([5, 15, 25, 35, 45, 55, 65, 75, 85]))\n",
    "    axes_axis.set_minor_formatter(mtick.FixedFormatter(['.01%', '.02%', '.05%', '0.1%', '0.2%', '0.5%', '1.0%', '2.0%', '5.0%']))"
   ]
  },
  {
   "cell_type": "code",
   "execution_count": 3,
   "id": "e305fcbe",
   "metadata": {},
   "outputs": [],
   "source": [
    "npzfile = np.load('picky_observed_differences_from_expected.npz')"
   ]
  },
  {
   "cell_type": "code",
   "execution_count": 4,
   "id": "4563f4b2",
   "metadata": {},
   "outputs": [
    {
     "data": {
      "text/plain": [
       "['empty_droplet_diffs', 'picky_group_diffs', 'multi_strain_droplet_diffs']"
      ]
     },
     "execution_count": 4,
     "metadata": {},
     "output_type": "execute_result"
    }
   ],
   "source": [
    "npzfile.files"
   ]
  },
  {
   "cell_type": "code",
   "execution_count": 5,
   "id": "5e726516",
   "metadata": {},
   "outputs": [],
   "source": [
    "empty_droplet_diffs = npzfile['empty_droplet_diffs']"
   ]
  },
  {
   "cell_type": "code",
   "execution_count": 6,
   "id": "613610f5",
   "metadata": {},
   "outputs": [
    {
     "data": {
      "text/plain": [
       "(500,)"
      ]
     },
     "execution_count": 6,
     "metadata": {},
     "output_type": "execute_result"
    }
   ],
   "source": [
    "empty_droplet_diffs.shape"
   ]
  },
  {
   "cell_type": "code",
   "execution_count": 7,
   "id": "f14ea9f1",
   "metadata": {},
   "outputs": [],
   "source": [
    "multi_strain_droplet_diffs = npzfile['multi_strain_droplet_diffs']"
   ]
  },
  {
   "cell_type": "code",
   "execution_count": 8,
   "id": "4e144eb3",
   "metadata": {},
   "outputs": [
    {
     "data": {
      "text/plain": [
       "(500,)"
      ]
     },
     "execution_count": 8,
     "metadata": {},
     "output_type": "execute_result"
    }
   ],
   "source": [
    "multi_strain_droplet_diffs.shape"
   ]
  },
  {
   "cell_type": "code",
   "execution_count": 9,
   "id": "e8dfd2e7",
   "metadata": {},
   "outputs": [],
   "source": [
    "picky_group_diffs = npzfile['picky_group_diffs']"
   ]
  },
  {
   "cell_type": "code",
   "execution_count": 10,
   "id": "31036809",
   "metadata": {},
   "outputs": [
    {
     "data": {
      "text/plain": [
       "(500, 91, 91)"
      ]
     },
     "execution_count": 10,
     "metadata": {},
     "output_type": "execute_result"
    }
   ],
   "source": [
    "picky_group_diffs.shape"
   ]
  },
  {
   "cell_type": "code",
   "execution_count": 11,
   "id": "5714ce96",
   "metadata": {},
   "outputs": [],
   "source": [
    "base_relative_abundances = [1e-4, 1e-3, 1e-2]\n",
    "\n",
    "relative_abundances = [relative_abundance * number\n",
    "                       for relative_abundance \n",
    "                       in base_relative_abundances\n",
    "                       for number in (1,2,5) \n",
    "                       for repeat in range(10)]\n",
    "\n",
    "relative_abundances += [1-sum(relative_abundances)]\n",
    "frequencies = np.array(relative_abundances)\n",
    "\n",
    "rate = 2\n",
    "\n",
    "number_droplets = int(15e6)"
   ]
  },
  {
   "cell_type": "code",
   "execution_count": 12,
   "id": "f973b64c",
   "metadata": {},
   "outputs": [],
   "source": [
    "from simulations.global_chi2_cpm import get_expected_counts"
   ]
  },
  {
   "cell_type": "code",
   "execution_count": 13,
   "id": "41d2bcb5",
   "metadata": {},
   "outputs": [],
   "source": [
    "expected_counts = get_expected_counts(number_droplets=number_droplets, frequency_vector=frequencies, rate=rate)"
   ]
  },
  {
   "cell_type": "code",
   "execution_count": 14,
   "id": "7c75c1f7",
   "metadata": {},
   "outputs": [],
   "source": [
    "empty_droplets_expected = expected_counts[0]"
   ]
  },
  {
   "cell_type": "code",
   "execution_count": 15,
   "id": "f670c0d0",
   "metadata": {},
   "outputs": [
    {
     "data": {
      "text/plain": [
       "2030029.2485491906"
      ]
     },
     "execution_count": 15,
     "metadata": {},
     "output_type": "execute_result"
    }
   ],
   "source": [
    "empty_droplets_expected"
   ]
  },
  {
   "cell_type": "code",
   "execution_count": 16,
   "id": "873cf8a1",
   "metadata": {},
   "outputs": [],
   "source": [
    "multi_strain_droplets_expected = expected_counts[-1]"
   ]
  },
  {
   "cell_type": "code",
   "execution_count": 17,
   "id": "0b2e71d8",
   "metadata": {},
   "outputs": [
    {
     "data": {
      "text/plain": [
       "4495144.824313902"
      ]
     },
     "execution_count": 17,
     "metadata": {},
     "output_type": "execute_result"
    }
   ],
   "source": [
    "multi_strain_droplets_expected"
   ]
  },
  {
   "cell_type": "code",
   "execution_count": 18,
   "id": "e223a3cd",
   "metadata": {},
   "outputs": [],
   "source": [
    "picky_groups_expected = expected_counts[1]"
   ]
  },
  {
   "cell_type": "code",
   "execution_count": 19,
   "id": "877d083c",
   "metadata": {},
   "outputs": [
    {
     "data": {
      "text/plain": [
       "array([[4.06046453e+02, 8.12174121e-02, 8.12174121e-02, ...,\n",
       "        4.27042782e+01, 4.27042782e+01, 1.01946497e+02],\n",
       "       [0.00000000e+00, 4.06046453e+02, 8.12174121e-02, ...,\n",
       "        4.27042782e+01, 4.27042782e+01, 1.01946497e+02],\n",
       "       [0.00000000e+00, 0.00000000e+00, 4.06046453e+02, ...,\n",
       "        4.27042782e+01, 4.27042782e+01, 1.01946497e+02],\n",
       "       ...,\n",
       "       [0.00000000e+00, 0.00000000e+00, 0.00000000e+00, ...,\n",
       "        2.13500040e+05, 2.24539952e+04, 5.36036726e+04],\n",
       "       [0.00000000e+00, 0.00000000e+00, 0.00000000e+00, ...,\n",
       "        0.00000000e+00, 2.13500040e+05, 5.36036726e+04],\n",
       "       [0.00000000e+00, 0.00000000e+00, 0.00000000e+00, ...,\n",
       "        0.00000000e+00, 0.00000000e+00, 5.09681513e+05]])"
      ]
     },
     "execution_count": 19,
     "metadata": {},
     "output_type": "execute_result"
    }
   ],
   "source": [
    "picky_groups_expected"
   ]
  },
  {
   "cell_type": "code",
   "execution_count": 20,
   "id": "de2bf9b0-5a69-4146-8305-fcf0e20f09cf",
   "metadata": {},
   "outputs": [
    {
     "data": {
      "text/plain": [
       "(91, 91)"
      ]
     },
     "execution_count": 20,
     "metadata": {},
     "output_type": "execute_result"
    }
   ],
   "source": [
    "picky_groups_expected.shape"
   ]
  },
  {
   "cell_type": "code",
   "execution_count": 21,
   "id": "2c06c928",
   "metadata": {},
   "outputs": [
    {
     "data": {
      "text/plain": [
       "15000000.0"
      ]
     },
     "execution_count": 21,
     "metadata": {},
     "output_type": "execute_result"
    }
   ],
   "source": [
    "np.sum(picky_groups_expected) + empty_droplets_expected + multi_strain_droplets_expected"
   ]
  },
  {
   "cell_type": "code",
   "execution_count": 22,
   "id": "a233c778",
   "metadata": {},
   "outputs": [
    {
     "data": {
      "text/plain": [
       "(500, 91, 91)"
      ]
     },
     "execution_count": 22,
     "metadata": {},
     "output_type": "execute_result"
    }
   ],
   "source": [
    "picky_group_diffs.shape"
   ]
  },
  {
   "cell_type": "code",
   "execution_count": 23,
   "id": "3a26e2c0",
   "metadata": {},
   "outputs": [],
   "source": [
    "reshape_picky_groups_expected = picky_groups_expected.reshape((1,*picky_groups_expected.shape))"
   ]
  },
  {
   "cell_type": "code",
   "execution_count": 24,
   "id": "66386492",
   "metadata": {},
   "outputs": [
    {
     "data": {
      "text/plain": [
       "(1, 91, 91)"
      ]
     },
     "execution_count": 24,
     "metadata": {},
     "output_type": "execute_result"
    }
   ],
   "source": [
    "reshape_picky_groups_expected.shape"
   ]
  },
  {
   "cell_type": "code",
   "execution_count": 25,
   "id": "87c89a39",
   "metadata": {},
   "outputs": [],
   "source": [
    "pct_diffs = picky_group_diffs / (reshape_picky_groups_expected + (reshape_picky_groups_expected == 0))"
   ]
  },
  {
   "cell_type": "code",
   "execution_count": 26,
   "id": "15b23ab1",
   "metadata": {},
   "outputs": [
    {
     "data": {
      "text/plain": [
       "(500, 91, 91)"
      ]
     },
     "execution_count": 26,
     "metadata": {},
     "output_type": "execute_result"
    }
   ],
   "source": [
    "pct_diffs.shape"
   ]
  },
  {
   "cell_type": "code",
   "execution_count": 27,
   "id": "f0106d91",
   "metadata": {},
   "outputs": [],
   "source": [
    "avg_pct_diffs = np.mean(pct_diffs, axis=0)"
   ]
  },
  {
   "cell_type": "code",
   "execution_count": 28,
   "id": "224fe394-bc8c-42da-81f7-06eb10c80f7c",
   "metadata": {},
   "outputs": [],
   "source": [
    "median_pct_diffs = np.median(pct_diffs, axis=0)"
   ]
  },
  {
   "cell_type": "code",
   "execution_count": 29,
   "id": "9a0a95ae",
   "metadata": {},
   "outputs": [
    {
     "data": {
      "text/plain": [
       "(91, 91)"
      ]
     },
     "execution_count": 29,
     "metadata": {},
     "output_type": "execute_result"
    }
   ],
   "source": [
    "avg_pct_diffs.shape"
   ]
  },
  {
   "cell_type": "code",
   "execution_count": 30,
   "id": "afaf3b79",
   "metadata": {},
   "outputs": [
    {
     "data": {
      "text/plain": [
       "Text(0.5, 1.0, 'hPoDM, $\\\\zeta = 1$')"
      ]
     },
     "execution_count": 30,
     "metadata": {},
     "output_type": "execute_result"
    },
    {
     "data": {
      "image/png": "[encoded data removed]",
      "text/plain": [
       "<Figure size 921.6x691.2 with 2 Axes>"
      ]
     },
     "metadata": {
      "needs_background": "light"
     },
     "output_type": "display_data"
    }
   ],
   "source": [
    "plt.figure(figsize=(12.8,9.6))\n",
    "\n",
    "ax = sns.heatmap(avg_pct_diffs, \n",
    "                 mask=np.tril(np.ones((frequencies.size, frequencies.size)).astype(bool), k=0),\n",
    "                cmap='icefire_r', cbar_kws={'pad':0.1}, vmin=-0.5, vmax=0.5)\n",
    "ax.yaxis.tick_right()\n",
    "ax.xaxis.tick_top()\n",
    "\n",
    "cbar = ax.collections[0].colorbar\n",
    "cbar.ax.yaxis.set_major_formatter(mtick.PercentFormatter(1, 0))\n",
    "\n",
    "add_ticks(ax.xaxis)\n",
    "add_ticks(ax.yaxis)\n",
    "plt.title('hPoDM, $\\zeta = 1$', fontsize=24)"
   ]
  },
  {
   "cell_type": "code",
   "execution_count": 31,
   "id": "583ea603-f866-4a28-bd6c-359fb3530fe2",
   "metadata": {},
   "outputs": [
    {
     "data": {
      "text/plain": [
       "Text(0.5, 1.0, 'hPoDM, $\\\\zeta_C=1$')"
      ]
     },
     "execution_count": 31,
     "metadata": {},
     "output_type": "execute_result"
    },
    {
     "data": {
      "image/png": "[encoded data removed]",
      "text/plain": [
       "<Figure size 921.6x691.2 with 2 Axes>"
      ]
     },
     "metadata": {
      "needs_background": "light"
     },
     "output_type": "display_data"
    }
   ],
   "source": [
    "plt.figure(figsize=(12.8,9.6))\n",
    "\n",
    "ax = sns.heatmap(median_pct_diffs, \n",
    "                 mask=np.tril(np.ones((frequencies.size, frequencies.size)).astype(bool), k=0),\n",
    "                cmap='icefire_r', cbar_kws={'pad':0.1}, vmin=-0.15, vmax=0.15)\n",
    "ax.yaxis.tick_right()\n",
    "ax.xaxis.tick_top()\n",
    "\n",
    "cbar = ax.collections[0].colorbar\n",
    "cbar.ax.yaxis.set_major_formatter(mtick.PercentFormatter(1, 0))\n",
    "\n",
    "add_ticks(ax.xaxis)\n",
    "add_ticks(ax.yaxis)\n",
    "plt.title('hPoDM, $\\zeta_C=1$', fontsize=24)"
   ]
  },
  {
   "cell_type": "markdown",
   "id": "0ee61eef-1eba-45b9-8e7d-6f8b5fff150c",
   "metadata": {},
   "source": [
    "## grouping by abundance of strain, rather than strain itself per se"
   ]
  },
  {
   "cell_type": "code",
   "execution_count": 32,
   "id": "f313e8d1-9a82-48d6-bc38-cb25e26f55fc",
   "metadata": {},
   "outputs": [
    {
     "data": {
      "text/plain": [
       "(500, 91, 91)"
      ]
     },
     "execution_count": 32,
     "metadata": {},
     "output_type": "execute_result"
    }
   ],
   "source": [
    "pct_diffs.shape"
   ]
  },
  {
   "cell_type": "code",
   "execution_count": 33,
   "id": "c51c21ae-d642-4856-986d-ea04823ba0d9",
   "metadata": {},
   "outputs": [],
   "source": [
    "def get_grouped_pct_diffs(pct_diffs):\n",
    "    grouped_pct_diffs = {}\n",
    "    for i in range(9):\n",
    "        for j in range(i,9):\n",
    "            if i != j:\n",
    "                grouped_pct_diffs[i,j] = pct_diffs[:,i*10:(i+1)*10,j*10:(j+1)*10]\n",
    "            elif i == j:\n",
    "                grouped_pct_diffs[i,j] = np.array([])\n",
    "                for simulation_number in range(500):\n",
    "                    grouped_pct_diffs[i,j] = np.append(grouped_pct_diffs[i,j], pct_diffs[simulation_number,...][i*10:(i+1)*10,j*10:(j+1)*10][np.triu_indices(10, k=0)])\n",
    "    return grouped_pct_diffs"
   ]
  },
  {
   "cell_type": "code",
   "execution_count": 34,
   "id": "50e808d3-7073-4a15-9540-c3fbd37ee3ad",
   "metadata": {},
   "outputs": [],
   "source": [
    "grouped_pct_diffs = get_grouped_pct_diffs(pct_diffs)"
   ]
  },
  {
   "cell_type": "code",
   "execution_count": 35,
   "id": "7d5ada17-2a95-4052-b8de-a88e4ebeb923",
   "metadata": {},
   "outputs": [],
   "source": [
    "avg_pct_diffs_grouped = np.zeros((9,9))\n",
    "median_pct_diffs_grouped = np.zeros((9,9))\n",
    "\n",
    "for i in range(9):\n",
    "    for j in range(i,9):\n",
    "        avg_pct_diffs_grouped[i,j] = np.mean(grouped_pct_diffs[i,j])\n",
    "        \n",
    "for i in range(9):\n",
    "    for j in range(i,9):\n",
    "        median_pct_diffs_grouped[i,j] = np.median(grouped_pct_diffs[i,j])"
   ]
  },
  {
   "cell_type": "code",
   "execution_count": 36,
   "id": "43d855f4-0c49-4b28-ac0a-50945de67b27",
   "metadata": {},
   "outputs": [
    {
     "data": {
      "text/plain": [
       "Text(0.5, 1.0, 'average across strains with same abundances - hPoDM, $\\\\zeta_C=1$')"
      ]
     },
     "execution_count": 36,
     "metadata": {},
     "output_type": "execute_result"
    },
    {
     "data": {
      "image/png": "[encoded data removed]",
      "text/plain": [
       "<Figure size 921.6x691.2 with 2 Axes>"
      ]
     },
     "metadata": {
      "needs_background": "light"
     },
     "output_type": "display_data"
    }
   ],
   "source": [
    "plt.figure(figsize=(12.8,9.6))\n",
    "\n",
    "ax = sns.heatmap(avg_pct_diffs_grouped, \n",
    "                 mask=np.tril(np.ones((9,9)).astype(bool), k=-1),\n",
    "                cmap='icefire_r', cbar_kws={'pad':0.1}, vmin=-0.15, vmax=0.15)\n",
    "ax.yaxis.tick_right()\n",
    "ax.xaxis.tick_top()\n",
    "\n",
    "cbar = ax.collections[0].colorbar\n",
    "cbar.ax.yaxis.set_major_formatter(mtick.PercentFormatter(1, 0))\n",
    "\n",
    "#add_ticks(ax.xaxis)\n",
    "#add_ticks(ax.yaxis)\n",
    "plt.title('average across strains with same abundances - hPoDM, $\\zeta_C=1$', fontsize=24)"
   ]
  },
  {
   "cell_type": "code",
   "execution_count": 37,
   "id": "0effa8e2-cc08-46bf-aa00-7976f7d34fcd",
   "metadata": {},
   "outputs": [
    {
     "data": {
      "text/plain": [
       "Text(0.5, 1.0, 'average across strains with same abundances - hPoDM, $\\\\zeta_C=1$')"
      ]
     },
     "execution_count": 37,
     "metadata": {},
     "output_type": "execute_result"
    },
    {
     "data": {
      "image/png": "[encoded data removed]",
      "text/plain": [
       "<Figure size 921.6x691.2 with 2 Axes>"
      ]
     },
     "metadata": {
      "needs_background": "light"
     },
     "output_type": "display_data"
    }
   ],
   "source": [
    "plt.figure(figsize=(12.8,9.6))\n",
    "\n",
    "ax = sns.heatmap(avg_pct_diffs_grouped, \n",
    "                 mask=np.tril(np.ones((9,9)).astype(bool), k=-1),\n",
    "                cmap='icefire_r', cbar_kws={'pad':0.1}, vmin=-0.1, vmax=0.1)\n",
    "ax.yaxis.tick_right()\n",
    "ax.xaxis.tick_top()\n",
    "\n",
    "cbar = ax.collections[0].colorbar\n",
    "cbar.ax.yaxis.set_major_formatter(mtick.PercentFormatter(1, 0))\n",
    "\n",
    "#add_ticks(ax.xaxis)\n",
    "#add_ticks(ax.yaxis)\n",
    "plt.title('average across strains with same abundances - hPoDM, $\\zeta_C=1$', fontsize=24)"
   ]
  },
  {
   "cell_type": "code",
   "execution_count": 38,
   "id": "3bdf0611-ca24-4da0-ad90-e8884d838bc3",
   "metadata": {},
   "outputs": [
    {
     "data": {
      "text/plain": [
       "Text(0.5, 1.0, 'median across strains with same abundances - hPoDM, $\\\\zeta_C=1$')"
      ]
     },
     "execution_count": 38,
     "metadata": {},
     "output_type": "execute_result"
    },
    {
     "data": {
      "image/png": "[encoded data removed]",
      "text/plain": [
       "<Figure size 921.6x691.2 with 2 Axes>"
      ]
     },
     "metadata": {
      "needs_background": "light"
     },
     "output_type": "display_data"
    }
   ],
   "source": [
    "plt.figure(figsize=(12.8,9.6))\n",
    "\n",
    "ax = sns.heatmap(median_pct_diffs_grouped, \n",
    "                 mask=np.tril(np.ones((9,9)).astype(bool), k=-1),\n",
    "                cmap='icefire_r', cbar_kws={'pad':0.1}, vmin=-0.15, vmax=0.15)\n",
    "ax.yaxis.tick_right()\n",
    "ax.xaxis.tick_top()\n",
    "\n",
    "cbar = ax.collections[0].colorbar\n",
    "cbar.ax.yaxis.set_major_formatter(mtick.PercentFormatter(1, 0))\n",
    "\n",
    "#add_ticks(ax.xaxis)\n",
    "#add_ticks(ax.yaxis)\n",
    "plt.title('median across strains with same abundances - hPoDM, $\\zeta_C=1$', fontsize=24)"
   ]
  },
  {
   "cell_type": "code",
   "execution_count": 39,
   "id": "ea826765-ff45-44f1-a53e-697a1807bd54",
   "metadata": {},
   "outputs": [
    {
     "data": {
      "text/plain": [
       "Text(0.5, 1.0, 'median across strains with same abundances - hPoDM, $\\\\zeta_C=1$')"
      ]
     },
     "execution_count": 39,
     "metadata": {},
     "output_type": "execute_result"
    },
    {
     "data": {
      "image/png": "[encoded data removed]",
      "text/plain": [
       "<Figure size 921.6x691.2 with 2 Axes>"
      ]
     },
     "metadata": {
      "needs_background": "light"
     },
     "output_type": "display_data"
    }
   ],
   "source": [
    "plt.figure(figsize=(12.8,9.6))\n",
    "\n",
    "ax = sns.heatmap(median_pct_diffs_grouped, \n",
    "                 mask=np.tril(np.ones((9,9)).astype(bool), k=-1),\n",
    "                cmap='icefire_r', cbar_kws={'pad':0.1}, vmin=-0.1, vmax=0.1)\n",
    "ax.yaxis.tick_right()\n",
    "ax.xaxis.tick_top()\n",
    "\n",
    "cbar = ax.collections[0].colorbar\n",
    "cbar.ax.yaxis.set_major_formatter(mtick.PercentFormatter(1, 0))\n",
    "\n",
    "#add_ticks(ax.xaxis)\n",
    "#add_ticks(ax.yaxis)\n",
    "plt.title('median across strains with same abundances - hPoDM, $\\zeta_C=1$', fontsize=24)"
   ]
  },
  {
   "cell_type": "markdown",
   "id": "c5a7c059-0d4c-4cdf-9779-4ad7256e821c",
   "metadata": {},
   "source": [
    "### Other random things I don't honestly remember"
   ]
  },
  {
   "cell_type": "code",
   "execution_count": 40,
   "id": "8338c213-25e8-4387-a410-a5010da5d954",
   "metadata": {},
   "outputs": [],
   "source": [
    "expected_categories = np.zeros(4)"
   ]
  },
  {
   "cell_type": "code",
   "execution_count": 41,
   "id": "704e33ef-b3bc-4edf-8aea-53109f61d556",
   "metadata": {},
   "outputs": [],
   "source": [
    "expected_categories[1] = np.sum(np.diag(expected_counts[1]))"
   ]
  },
  {
   "cell_type": "code",
   "execution_count": 42,
   "id": "0a2bc6c3-a987-4999-b829-dc6f2af586ec",
   "metadata": {},
   "outputs": [],
   "source": [
    "expected_categories[2] = np.sum(expected_counts[1]) - expected_categories[1]"
   ]
  },
  {
   "cell_type": "code",
   "execution_count": 43,
   "id": "947d01c8-4003-43dd-aa82-6e4ee8df72ac",
   "metadata": {},
   "outputs": [
    {
     "data": {
      "text/plain": [
       "True"
      ]
     },
     "execution_count": 43,
     "metadata": {},
     "output_type": "execute_result"
    }
   ],
   "source": [
    "expected_categories[2] == np.sum(expected_counts[1]) - np.sum(np.diag(expected_counts[1]))"
   ]
  },
  {
   "cell_type": "code",
   "execution_count": 44,
   "id": "78b60432-7e16-45c5-b7c9-830a5fe7ba1b",
   "metadata": {},
   "outputs": [],
   "source": [
    "expected_categories[0] = expected_counts[0]\n",
    "expected_categories[3] = expected_counts[2]"
   ]
  },
  {
   "cell_type": "code",
   "execution_count": 45,
   "id": "d0a1df07-f1ac-4591-8ae6-d5b957b6a293",
   "metadata": {},
   "outputs": [
    {
     "data": {
      "text/plain": [
       "0.34059877000000005"
      ]
     },
     "execution_count": 45,
     "metadata": {},
     "output_type": "execute_result"
    }
   ],
   "source": [
    "1 - .65940123"
   ]
  },
  {
   "cell_type": "code",
   "execution_count": 46,
   "id": "bb6895f3-f69e-4a0d-9fdb-013d1f886c4d",
   "metadata": {},
   "outputs": [
    {
     "data": {
      "text/plain": [
       "array([2030029.24854919, 4241764.65940123, 4233061.26773568,\n",
       "       4495144.8243139 ])"
      ]
     },
     "execution_count": 46,
     "metadata": {},
     "output_type": "execute_result"
    }
   ],
   "source": [
    "expected_categories"
   ]
  },
  {
   "cell_type": "code",
   "execution_count": 47,
   "id": "2c91bcdc-2664-4437-92b3-0db42d7007c1",
   "metadata": {},
   "outputs": [
    {
     "data": {
      "text/plain": [
       "14999999.999999996"
      ]
     },
     "execution_count": 47,
     "metadata": {},
     "output_type": "execute_result"
    }
   ],
   "source": [
    "np.sum(expected_categories)"
   ]
  },
  {
   "cell_type": "code",
   "execution_count": 48,
   "id": "55db1233-9c65-4cdd-acee-ee9bf90b6dd1",
   "metadata": {},
   "outputs": [
    {
     "data": {
      "text/plain": [
       "array([0.13533528, 0.28278431, 0.28220408, 0.29967632])"
      ]
     },
     "execution_count": 48,
     "metadata": {},
     "output_type": "execute_result"
    }
   ],
   "source": [
    "expected_category_pcts = expected_categories/np.sum(expected_categories)\n",
    "expected_category_pcts"
   ]
  },
  {
   "cell_type": "code",
   "execution_count": 49,
   "id": "88e2468a-9168-41ce-a144-ee1147506da2",
   "metadata": {},
   "outputs": [],
   "source": [
    "observed_categories = np.zeros((500,4))"
   ]
  },
  {
   "cell_type": "code",
   "execution_count": 50,
   "id": "3e44bad9-e56e-482a-9ac7-c3f00f5edd1c",
   "metadata": {
    "tags": []
   },
   "outputs": [],
   "source": [
    "observed_diffs = np.zeros((500,4))"
   ]
  },
  {
   "cell_type": "code",
   "execution_count": 51,
   "id": "d16f5b23-80b4-4ea7-b572-f70aa76fb6ee",
   "metadata": {},
   "outputs": [],
   "source": [
    "observed_diffs[...,0] = empty_droplet_diffs"
   ]
  },
  {
   "cell_type": "code",
   "execution_count": 52,
   "id": "6dd6deb6-80b7-47c6-8443-bc8a52879783",
   "metadata": {},
   "outputs": [],
   "source": [
    "observed_diffs[...,3] = multi_strain_droplet_diffs"
   ]
  },
  {
   "cell_type": "code",
   "execution_count": 53,
   "id": "c0f09e71-085e-42cb-b0db-5ea0d3f60ed3",
   "metadata": {},
   "outputs": [],
   "source": [
    "for i in range(500):\n",
    "    total_1_or_2_strain_diffs = np.sum(picky_group_diffs[i,...])\n",
    "    single_strain_diffs = np.sum(np.diag(picky_group_diffs[i,...]))\n",
    "    double_strain_diffs = total_1_or_2_strain_diffs - single_strain_diffs\n",
    "    observed_diffs[...,1][i] = single_strain_diffs\n",
    "    observed_diffs[...,2][i] = double_strain_diffs"
   ]
  },
  {
   "cell_type": "code",
   "execution_count": 54,
   "id": "30ffe4f4-f3af-46d5-8c1f-0b98065f87e8",
   "metadata": {},
   "outputs": [
    {
     "data": {
      "text/plain": [
       "44589.340598774324"
      ]
     },
     "execution_count": 54,
     "metadata": {},
     "output_type": "execute_result"
    }
   ],
   "source": [
    "single_strain_diffs"
   ]
  },
  {
   "cell_type": "code",
   "execution_count": 55,
   "id": "9085f545-e7c9-4700-bbbd-7ed549633eec",
   "metadata": {},
   "outputs": [
    {
     "data": {
      "text/plain": [
       "array([2030029.24854919, 4241764.65940123, 4233061.26773568,\n",
       "       4495144.8243139 ])"
      ]
     },
     "execution_count": 55,
     "metadata": {},
     "output_type": "execute_result"
    }
   ],
   "source": [
    "expected_categories"
   ]
  },
  {
   "cell_type": "code",
   "execution_count": 56,
   "id": "31295c95-378e-4654-84b0-870069e38537",
   "metadata": {},
   "outputs": [
    {
     "data": {
      "text/plain": [
       "(500, 4)"
      ]
     },
     "execution_count": 56,
     "metadata": {},
     "output_type": "execute_result"
    }
   ],
   "source": [
    "observed_diffs.shape"
   ]
  },
  {
   "cell_type": "code",
   "execution_count": 57,
   "id": "af80cd00-272e-42f0-ada5-cc0fe5c0116b",
   "metadata": {},
   "outputs": [],
   "source": [
    "observed_counts = observed_diffs + expected_categories.reshape((1,-1))"
   ]
  },
  {
   "cell_type": "code",
   "execution_count": 58,
   "id": "3894463d-b937-4c65-8cdd-a31b8bb67d43",
   "metadata": {},
   "outputs": [
    {
     "data": {
      "text/plain": [
       "array([2030143., 4288510., 4275004., 4406343.])"
      ]
     },
     "execution_count": 58,
     "metadata": {},
     "output_type": "execute_result"
    }
   ],
   "source": [
    "observed_counts[1,...]"
   ]
  },
  {
   "cell_type": "code",
   "execution_count": 59,
   "id": "ab49dea8-9e5e-40b8-a8bc-1fbb69c3eb26",
   "metadata": {},
   "outputs": [
    {
     "data": {
      "text/plain": [
       "(500, 4)"
      ]
     },
     "execution_count": 59,
     "metadata": {},
     "output_type": "execute_result"
    }
   ],
   "source": [
    "observed_counts.shape"
   ]
  },
  {
   "cell_type": "code",
   "execution_count": 60,
   "id": "78500fb5-6bca-4c88-8395-925f305c4ef2",
   "metadata": {},
   "outputs": [],
   "source": [
    "import pandas as pd"
   ]
  },
  {
   "cell_type": "code",
   "execution_count": 61,
   "id": "611da016-57b6-4b8a-8046-813beb64c13c",
   "metadata": {},
   "outputs": [],
   "source": [
    "df = pd.DataFrame(observed_counts)"
   ]
  },
  {
   "cell_type": "code",
   "execution_count": 62,
   "id": "ee0dc66d-e8a8-48b2-bf91-67c442aa79e0",
   "metadata": {},
   "outputs": [],
   "source": [
    "df.columns = [\"0 strains\", \"1 strain\", \"2 strains\", \"3 or more strains\"]"
   ]
  },
  {
   "cell_type": "code",
   "execution_count": 63,
   "id": "162191f3-c312-4dd5-b7e7-a4e679938658",
   "metadata": {},
   "outputs": [],
   "source": [
    "df = df.astype(int)"
   ]
  },
  {
   "cell_type": "code",
   "execution_count": 64,
   "id": "13a8d016-ab60-43ff-9ba8-d4e36f194713",
   "metadata": {},
   "outputs": [
    {
     "data": {
      "text/html": [
       "<div>\n",
       "<style scoped>\n",
       "    .dataframe tbody tr th:only-of-type {\n",
       "        vertical-align: middle;\n",
       "    }\n",
       "\n",
       "    .dataframe tbody tr th {\n",
       "        vertical-align: top;\n",
       "    }\n",
       "\n",
       "    .dataframe thead th {\n",
       "        text-align: right;\n",
       "    }\n",
       "</style>\n",
       "<table border=\"1\" class=\"dataframe\">\n",
       "  <thead>\n",
       "    <tr style=\"text-align: right;\">\n",
       "      <th></th>\n",
       "      <th>0 strains</th>\n",
       "      <th>1 strain</th>\n",
       "      <th>2 strains</th>\n",
       "      <th>3 or more strains</th>\n",
       "    </tr>\n",
       "  </thead>\n",
       "  <tbody>\n",
       "    <tr>\n",
       "      <th>0</th>\n",
       "      <td>2031185</td>\n",
       "      <td>4287226</td>\n",
       "      <td>4274730</td>\n",
       "      <td>4406859</td>\n",
       "    </tr>\n",
       "    <tr>\n",
       "      <th>1</th>\n",
       "      <td>2030143</td>\n",
       "      <td>4288510</td>\n",
       "      <td>4275004</td>\n",
       "      <td>4406343</td>\n",
       "    </tr>\n",
       "    <tr>\n",
       "      <th>2</th>\n",
       "      <td>2029283</td>\n",
       "      <td>4290009</td>\n",
       "      <td>4272405</td>\n",
       "      <td>4408303</td>\n",
       "    </tr>\n",
       "    <tr>\n",
       "      <th>3</th>\n",
       "      <td>2030321</td>\n",
       "      <td>4284535</td>\n",
       "      <td>4276172</td>\n",
       "      <td>4408972</td>\n",
       "    </tr>\n",
       "    <tr>\n",
       "      <th>4</th>\n",
       "      <td>2030723</td>\n",
       "      <td>4288235</td>\n",
       "      <td>4274700</td>\n",
       "      <td>4406342</td>\n",
       "    </tr>\n",
       "    <tr>\n",
       "      <th>...</th>\n",
       "      <td>...</td>\n",
       "      <td>...</td>\n",
       "      <td>...</td>\n",
       "      <td>...</td>\n",
       "    </tr>\n",
       "    <tr>\n",
       "      <th>495</th>\n",
       "      <td>2032746</td>\n",
       "      <td>4285257</td>\n",
       "      <td>4274507</td>\n",
       "      <td>4407490</td>\n",
       "    </tr>\n",
       "    <tr>\n",
       "      <th>496</th>\n",
       "      <td>2028476</td>\n",
       "      <td>4289039</td>\n",
       "      <td>4275807</td>\n",
       "      <td>4406678</td>\n",
       "    </tr>\n",
       "    <tr>\n",
       "      <th>497</th>\n",
       "      <td>2030707</td>\n",
       "      <td>4288000</td>\n",
       "      <td>4276797</td>\n",
       "      <td>4404496</td>\n",
       "    </tr>\n",
       "    <tr>\n",
       "      <th>498</th>\n",
       "      <td>2030783</td>\n",
       "      <td>4285187</td>\n",
       "      <td>4275895</td>\n",
       "      <td>4408135</td>\n",
       "    </tr>\n",
       "    <tr>\n",
       "      <th>499</th>\n",
       "      <td>2031353</td>\n",
       "      <td>4286354</td>\n",
       "      <td>4275320</td>\n",
       "      <td>4406973</td>\n",
       "    </tr>\n",
       "  </tbody>\n",
       "</table>\n",
       "<p>500 rows × 4 columns</p>\n",
       "</div>"
      ],
      "text/plain": [
       "     0 strains  1 strain  2 strains  3 or more strains\n",
       "0      2031185   4287226    4274730            4406859\n",
       "1      2030143   4288510    4275004            4406343\n",
       "2      2029283   4290009    4272405            4408303\n",
       "3      2030321   4284535    4276172            4408972\n",
       "4      2030723   4288235    4274700            4406342\n",
       "..         ...       ...        ...                ...\n",
       "495    2032746   4285257    4274507            4407490\n",
       "496    2028476   4289039    4275807            4406678\n",
       "497    2030707   4288000    4276797            4404496\n",
       "498    2030783   4285187    4275895            4408135\n",
       "499    2031353   4286354    4275320            4406973\n",
       "\n",
       "[500 rows x 4 columns]"
      ]
     },
     "execution_count": 64,
     "metadata": {},
     "output_type": "execute_result"
    }
   ],
   "source": [
    "df"
   ]
  },
  {
   "cell_type": "code",
   "execution_count": 65,
   "id": "276ebde7-2a2b-474e-9e85-21652fe19e89",
   "metadata": {},
   "outputs": [],
   "source": [
    "df.to_csv('hPoDM.csv', index=False)"
   ]
  },
  {
   "cell_type": "code",
   "execution_count": 66,
   "id": "d843291d-f212-4621-a22d-68e05de4a2ed",
   "metadata": {},
   "outputs": [],
   "source": [
    "expected_df = pd.DataFrame(expected_categories.reshape((1,-1))).astype(int)\n",
    "expected_df.columns = [\"0 strains\", \"1 strain\", \"2 strains\", \"3 or more strains\"]\n",
    "expected_df.to_csv('expected_counts.csv', index=False)"
   ]
  },
  {
   "cell_type": "code",
   "execution_count": 67,
   "id": "27a4ad70-0c13-44be-828e-92e229e1462a",
   "metadata": {},
   "outputs": [
    {
     "data": {
      "text/html": [
       "<div>\n",
       "<style scoped>\n",
       "    .dataframe tbody tr th:only-of-type {\n",
       "        vertical-align: middle;\n",
       "    }\n",
       "\n",
       "    .dataframe tbody tr th {\n",
       "        vertical-align: top;\n",
       "    }\n",
       "\n",
       "    .dataframe thead th {\n",
       "        text-align: right;\n",
       "    }\n",
       "</style>\n",
       "<table border=\"1\" class=\"dataframe\">\n",
       "  <thead>\n",
       "    <tr style=\"text-align: right;\">\n",
       "      <th></th>\n",
       "      <th>0 strains</th>\n",
       "      <th>1 strain</th>\n",
       "      <th>2 strains</th>\n",
       "      <th>3 or more strains</th>\n",
       "    </tr>\n",
       "  </thead>\n",
       "  <tbody>\n",
       "    <tr>\n",
       "      <th>0</th>\n",
       "      <td>2030029</td>\n",
       "      <td>4241764</td>\n",
       "      <td>4233061</td>\n",
       "      <td>4495144</td>\n",
       "    </tr>\n",
       "  </tbody>\n",
       "</table>\n",
       "</div>"
      ],
      "text/plain": [
       "   0 strains  1 strain  2 strains  3 or more strains\n",
       "0    2030029   4241764    4233061            4495144"
      ]
     },
     "execution_count": 67,
     "metadata": {},
     "output_type": "execute_result"
    }
   ],
   "source": [
    "expected_df"
   ]
  }
 ],
 "metadata": {
  "kernelspec": {
   "display_name": "Python 3",
   "language": "python",
   "name": "python3"
  },
  "language_info": {
   "codemirror_mode": {
    "name": "ipython",
    "version": 3
   },
   "file_extension": ".py",
   "mimetype": "text/x-python",
   "name": "python",
   "nbconvert_exporter": "python",
   "pygments_lexer": "ipython3",
   "version": "3.9.2"
  }
 },
 "nbformat": 4,
 "nbformat_minor": 5
}
