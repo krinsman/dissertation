{
 "cells": [
  {
   "cell_type": "code",
   "execution_count": 1,
   "id": "832ae165",
   "metadata": {},
   "outputs": [],
   "source": [
    "import numpy as np"
   ]
  },
  {
   "cell_type": "code",
   "execution_count": 2,
   "id": "6f9f1227",
   "metadata": {},
   "outputs": [],
   "source": [
    "npzfile = np.load('CPDM_results.npz')\n",
    "droplets = npzfile['droplets']\n",
    "test_batch = droplets[0:10000,...]"
   ]
  },
  {
   "cell_type": "code",
   "execution_count": 3,
   "id": "cb541dff",
   "metadata": {},
   "outputs": [],
   "source": [
    "base_relative_abundances = [1e-4, 1e-3, 1e-2]\n",
    "\n",
    "relative_abundances = [relative_abundance * number\n",
    "                       for relative_abundance \n",
    "                       in base_relative_abundances\n",
    "                       for number in (1,2,5) \n",
    "                       for repeat in range(10)]\n",
    "\n",
    "relative_abundances += [1-sum(relative_abundances)]\n",
    "frequencies = np.array(relative_abundances)"
   ]
  },
  {
   "cell_type": "code",
   "execution_count": 4,
   "id": "73813ac2",
   "metadata": {},
   "outputs": [],
   "source": [
    "strain1 = 69\n",
    "strain2 = 72"
   ]
  },
  {
   "cell_type": "code",
   "execution_count": 5,
   "id": "d6562199",
   "metadata": {},
   "outputs": [],
   "source": [
    "test = np.outer(np.exp(-frequencies), np.exp(-frequencies))"
   ]
  },
  {
   "cell_type": "code",
   "execution_count": 6,
   "id": "b485665e",
   "metadata": {},
   "outputs": [
    {
     "data": {
      "text/plain": [
       "array([[0.99980002, 0.99980002, 0.99980002, ..., 0.95113431, 0.95113431,\n",
       "        0.89395486],\n",
       "       [0.99980002, 0.99980002, 0.99980002, ..., 0.95113431, 0.95113431,\n",
       "        0.89395486],\n",
       "       [0.99980002, 0.99980002, 0.99980002, ..., 0.95113431, 0.95113431,\n",
       "        0.89395486],\n",
       "       ...,\n",
       "       [0.95113431, 0.95113431, 0.95113431, ..., 0.90483742, 0.90483742,\n",
       "        0.8504412 ],\n",
       "       [0.95113431, 0.95113431, 0.95113431, ..., 0.90483742, 0.90483742,\n",
       "        0.8504412 ],\n",
       "       [0.89395486, 0.89395486, 0.89395486, ..., 0.8504412 , 0.8504412 ,\n",
       "        0.79931513]])"
      ]
     },
     "execution_count": 6,
     "metadata": {},
     "output_type": "execute_result"
    }
   ],
   "source": [
    "test"
   ]
  },
  {
   "cell_type": "code",
   "execution_count": 7,
   "id": "b454554c",
   "metadata": {},
   "outputs": [
    {
     "data": {
      "text/plain": [
       "0.9704455335485082"
      ]
     },
     "execution_count": 7,
     "metadata": {},
     "output_type": "execute_result"
    }
   ],
   "source": [
    "test[69,72]"
   ]
  },
  {
   "cell_type": "code",
   "execution_count": 8,
   "id": "68b3abf4",
   "metadata": {},
   "outputs": [
    {
     "data": {
      "text/plain": [
       "0.9704455335485082"
      ]
     },
     "execution_count": 8,
     "metadata": {},
     "output_type": "execute_result"
    }
   ],
   "source": [
    "np.exp(-(frequencies[strain1] + frequencies[strain2]))"
   ]
  },
  {
   "cell_type": "code",
   "execution_count": 9,
   "id": "62adac6c",
   "metadata": {},
   "outputs": [
    {
     "data": {
      "text/plain": [
       "0.9704455335485082"
      ]
     },
     "execution_count": 9,
     "metadata": {},
     "output_type": "execute_result"
    }
   ],
   "source": [
    "single_strain_0_probs = np.exp(-frequencies)\n",
    "double_strain_0_probs = np.outer(single_strain_0_probs, single_strain_0_probs)\n",
    "double_strain_0_probs[strain1, strain2]"
   ]
  },
  {
   "cell_type": "code",
   "execution_count": 10,
   "id": "e9cbba9e-aab3-4ce1-9345-0ae42c36aa77",
   "metadata": {},
   "outputs": [
    {
     "data": {
      "text/plain": [
       "0.9900498337491681"
      ]
     },
     "execution_count": 10,
     "metadata": {},
     "output_type": "execute_result"
    }
   ],
   "source": [
    "np.sqrt(double_strain_0_probs[strain1, strain1])"
   ]
  },
  {
   "cell_type": "code",
   "execution_count": 11,
   "id": "41aba7f3-0545-4910-8972-c6e7c8b775cd",
   "metadata": {},
   "outputs": [
    {
     "data": {
      "text/plain": [
       "0.9900498337491681"
      ]
     },
     "execution_count": 11,
     "metadata": {},
     "output_type": "execute_result"
    }
   ],
   "source": [
    "single_strain_0_probs[strain1]"
   ]
  },
  {
   "cell_type": "code",
   "execution_count": 12,
   "id": "ccc6fc9e",
   "metadata": {},
   "outputs": [],
   "source": [
    "single_strain_non0_probs = 1. - single_strain_0_probs\n",
    "double_strain_non0_probs = 1. - double_strain_0_probs"
   ]
  },
  {
   "cell_type": "code",
   "execution_count": 13,
   "id": "40fcd6c3",
   "metadata": {},
   "outputs": [
    {
     "data": {
      "text/plain": [
       "0.029554466451491845"
      ]
     },
     "execution_count": 13,
     "metadata": {},
     "output_type": "execute_result"
    }
   ],
   "source": [
    "double_strain_non0_probs[strain1, strain2]"
   ]
  },
  {
   "cell_type": "code",
   "execution_count": 14,
   "id": "201ef04c",
   "metadata": {
    "tags": []
   },
   "outputs": [],
   "source": [
    "conditional_strain1_non0_strain2_0_prob = 1. - (single_strain_non0_probs[strain2]/double_strain_non0_probs[strain1, strain2])"
   ]
  },
  {
   "cell_type": "code",
   "execution_count": 15,
   "id": "3de7d007",
   "metadata": {},
   "outputs": [
    {
     "data": {
      "text/plain": [
       "0.33000561097102066"
      ]
     },
     "execution_count": 15,
     "metadata": {},
     "output_type": "execute_result"
    }
   ],
   "source": [
    "conditional_strain1_non0_strain2_0_prob"
   ]
  },
  {
   "cell_type": "code",
   "execution_count": 16,
   "id": "8d23aea7",
   "metadata": {},
   "outputs": [],
   "source": [
    "conditional_strain2_non0_strain1_0_prob = 1. - (single_strain_non0_probs[strain1]/double_strain_non0_probs[strain1, strain2])"
   ]
  },
  {
   "cell_type": "code",
   "execution_count": 17,
   "id": "bd8abd8e",
   "metadata": {},
   "outputs": [
    {
     "data": {
      "text/plain": [
       "0.6633278334710173"
      ]
     },
     "execution_count": 17,
     "metadata": {},
     "output_type": "execute_result"
    }
   ],
   "source": [
    "conditional_strain2_non0_strain1_0_prob"
   ]
  },
  {
   "cell_type": "code",
   "execution_count": 18,
   "id": "ae9ff6cd",
   "metadata": {},
   "outputs": [
    {
     "data": {
      "text/plain": [
       "0.006666555557962028"
      ]
     },
     "execution_count": 18,
     "metadata": {},
     "output_type": "execute_result"
    }
   ],
   "source": [
    "1. - conditional_strain1_non0_strain2_0_prob - conditional_strain2_non0_strain1_0_prob"
   ]
  },
  {
   "cell_type": "markdown",
   "id": "40c01014-d7d9-46da-a022-61f96b8081b2",
   "metadata": {},
   "source": [
    "hm, is that probability really supposed to be _that_ small? that seems off somehow, idk"
   ]
  },
  {
   "cell_type": "code",
   "execution_count": 19,
   "id": "8517aca5",
   "metadata": {},
   "outputs": [
    {
     "data": {
      "text/plain": [
       "0.01"
      ]
     },
     "execution_count": 19,
     "metadata": {},
     "output_type": "execute_result"
    }
   ],
   "source": [
    "frequencies[strain1]"
   ]
  },
  {
   "cell_type": "code",
   "execution_count": 20,
   "id": "61243eea",
   "metadata": {},
   "outputs": [
    {
     "data": {
      "text/plain": [
       "0.02"
      ]
     },
     "execution_count": 20,
     "metadata": {},
     "output_type": "execute_result"
    }
   ],
   "source": [
    "frequencies[strain2]"
   ]
  },
  {
   "cell_type": "markdown",
   "id": "10fd2bef-c2b0-4bae-993a-314199c5b811",
   "metadata": {},
   "source": [
    "oof, geez though, even of the small subset that might be relevant, less than 1% has the interaction\n",
    "anyway that one probability is about twice as large as the other does kind of make intuitive sense? eh idk sort of maybe"
   ]
  },
  {
   "cell_type": "code",
   "execution_count": 21,
   "id": "14a3dfb1",
   "metadata": {},
   "outputs": [],
   "source": [
    "strain1_non0_boolean = test_batch[:, strain1] >= 1"
   ]
  },
  {
   "cell_type": "code",
   "execution_count": 22,
   "id": "03992f73",
   "metadata": {},
   "outputs": [
    {
     "data": {
      "text/plain": [
       "207"
      ]
     },
     "execution_count": 22,
     "metadata": {},
     "output_type": "execute_result"
    }
   ],
   "source": [
    "np.sum(strain1_non0_boolean)"
   ]
  },
  {
   "cell_type": "code",
   "execution_count": 23,
   "id": "b9899d5d",
   "metadata": {},
   "outputs": [],
   "source": [
    "strain2_non0_boolean = test_batch[:, strain2] >= 1"
   ]
  },
  {
   "cell_type": "code",
   "execution_count": 24,
   "id": "58ca75a8",
   "metadata": {},
   "outputs": [
    {
     "data": {
      "text/plain": [
       "377"
      ]
     },
     "execution_count": 24,
     "metadata": {},
     "output_type": "execute_result"
    }
   ],
   "source": [
    "np.sum(strain2_non0_boolean)"
   ]
  },
  {
   "cell_type": "code",
   "execution_count": 25,
   "id": "bf2f17b1",
   "metadata": {},
   "outputs": [],
   "source": [
    "double_strain_non0_boolean = strain1_non0_boolean | strain2_non0_boolean"
   ]
  },
  {
   "cell_type": "code",
   "execution_count": 26,
   "id": "a300173e",
   "metadata": {},
   "outputs": [
    {
     "data": {
      "text/plain": [
       "577"
      ]
     },
     "execution_count": 26,
     "metadata": {},
     "output_type": "execute_result"
    }
   ],
   "source": [
    "np.sum(double_strain_non0_boolean)"
   ]
  },
  {
   "cell_type": "code",
   "execution_count": 27,
   "id": "b14385b9",
   "metadata": {},
   "outputs": [],
   "source": [
    "double_strain_AND_non0_boolean = strain1_non0_boolean & strain2_non0_boolean"
   ]
  },
  {
   "cell_type": "code",
   "execution_count": 28,
   "id": "a359e0c5",
   "metadata": {},
   "outputs": [
    {
     "data": {
      "text/plain": [
       "7"
      ]
     },
     "execution_count": 28,
     "metadata": {},
     "output_type": "execute_result"
    }
   ],
   "source": [
    "np.sum(double_strain_AND_non0_boolean)"
   ]
  },
  {
   "cell_type": "code",
   "execution_count": 29,
   "id": "5deb03df",
   "metadata": {},
   "outputs": [],
   "source": [
    "not_double_strain_AND_non0_boolean = ~double_strain_AND_non0_boolean"
   ]
  },
  {
   "cell_type": "code",
   "execution_count": 30,
   "id": "dd31099b",
   "metadata": {},
   "outputs": [],
   "source": [
    "strain1_non0_only_boolean = strain1_non0_boolean & not_double_strain_AND_non0_boolean"
   ]
  },
  {
   "cell_type": "code",
   "execution_count": 31,
   "id": "986b5edd",
   "metadata": {},
   "outputs": [
    {
     "data": {
      "text/plain": [
       "200"
      ]
     },
     "execution_count": 31,
     "metadata": {},
     "output_type": "execute_result"
    }
   ],
   "source": [
    "np.sum(strain1_non0_only_boolean)"
   ]
  },
  {
   "cell_type": "markdown",
   "id": "7662fc10-c9b2-45bc-b6d5-d99cd204dda1",
   "metadata": {},
   "source": [
    "checks out, good\n",
    "taking the difference of such a small set seems like a waste though idk..."
   ]
  },
  {
   "cell_type": "code",
   "execution_count": 32,
   "id": "f92158e6",
   "metadata": {},
   "outputs": [],
   "source": [
    "strain2_non0_only_boolean = strain2_non0_boolean & not_double_strain_AND_non0_boolean"
   ]
  },
  {
   "cell_type": "code",
   "execution_count": 33,
   "id": "dcdeacca",
   "metadata": {},
   "outputs": [
    {
     "data": {
      "text/plain": [
       "370"
      ]
     },
     "execution_count": 33,
     "metadata": {},
     "output_type": "execute_result"
    }
   ],
   "source": [
    "np.sum(strain2_non0_only_boolean)"
   ]
  },
  {
   "cell_type": "markdown",
   "id": "78053563-eca1-40da-a9b0-dec62048afeb",
   "metadata": {},
   "source": [
    "ok great everything checks out, great, fantastic, yay"
   ]
  },
  {
   "cell_type": "code",
   "execution_count": 34,
   "id": "dcb1c455",
   "metadata": {},
   "outputs": [
    {
     "data": {
      "text/plain": [
       "(array([ 159, 1263, 6664, 6668, 7746, 8085, 9058]),)"
      ]
     },
     "execution_count": 34,
     "metadata": {},
     "output_type": "execute_result"
    }
   ],
   "source": [
    "np.where(double_strain_AND_non0_boolean)"
   ]
  },
  {
   "cell_type": "code",
   "execution_count": 35,
   "id": "806be4af",
   "metadata": {},
   "outputs": [
    {
     "data": {
      "text/plain": [
       "1"
      ]
     },
     "execution_count": 35,
     "metadata": {},
     "output_type": "execute_result"
    }
   ],
   "source": [
    "all_indices_backup = np.where(double_strain_non0_boolean)\n",
    "len(all_indices_backup)"
   ]
  },
  {
   "cell_type": "code",
   "execution_count": 36,
   "id": "32f8be78",
   "metadata": {},
   "outputs": [
    {
     "data": {
      "text/plain": [
       "577"
      ]
     },
     "execution_count": 36,
     "metadata": {},
     "output_type": "execute_result"
    }
   ],
   "source": [
    "all_indices_backup = np.where(double_strain_non0_boolean)[0]\n",
    "len(all_indices_backup)"
   ]
  },
  {
   "cell_type": "code",
   "execution_count": 37,
   "id": "9ced1702",
   "metadata": {},
   "outputs": [
    {
     "data": {
      "text/plain": [
       "7"
      ]
     },
     "execution_count": 37,
     "metadata": {},
     "output_type": "execute_result"
    }
   ],
   "source": [
    "indices_both_backup = np.where(double_strain_AND_non0_boolean)[0]\n",
    "len(indices_both_backup)"
   ]
  },
  {
   "cell_type": "code",
   "execution_count": 38,
   "id": "21e99493",
   "metadata": {},
   "outputs": [
    {
     "data": {
      "text/plain": [
       "200"
      ]
     },
     "execution_count": 38,
     "metadata": {},
     "output_type": "execute_result"
    }
   ],
   "source": [
    "strain1_only_indices_backup = np.where(strain1_non0_only_boolean)[0]\n",
    "len(strain1_only_indices_backup)"
   ]
  },
  {
   "cell_type": "code",
   "execution_count": 39,
   "id": "48e3071a",
   "metadata": {},
   "outputs": [
    {
     "data": {
      "text/plain": [
       "370"
      ]
     },
     "execution_count": 39,
     "metadata": {},
     "output_type": "execute_result"
    }
   ],
   "source": [
    "strain2_only_indices_backup = np.where(strain2_non0_only_boolean)[0]\n",
    "len(strain2_only_indices_backup)"
   ]
  },
  {
   "cell_type": "markdown",
   "id": "c4085155-26a5-4e18-90b8-0f3697c52377",
   "metadata": {},
   "source": [
    "test set approach"
   ]
  },
  {
   "cell_type": "code",
   "execution_count": 40,
   "id": "5cbe0f9b-5824-4c01-96cb-90d70b59941d",
   "metadata": {},
   "outputs": [
    {
     "data": {
      "text/plain": [
       "207"
      ]
     },
     "execution_count": 40,
     "metadata": {},
     "output_type": "execute_result"
    }
   ],
   "source": [
    "strain1_non0_indices = np.where(strain1_non0_boolean)[0]\n",
    "len(strain1_non0_indices)"
   ]
  },
  {
   "cell_type": "code",
   "execution_count": 41,
   "id": "42fcd124-d766-44ba-b59e-03fc334ecfd8",
   "metadata": {},
   "outputs": [
    {
     "data": {
      "text/plain": [
       "377"
      ]
     },
     "execution_count": 41,
     "metadata": {},
     "output_type": "execute_result"
    }
   ],
   "source": [
    "strain2_non0_indices = np.where(strain2_non0_boolean)[0]\n",
    "len(strain2_non0_indices)"
   ]
  },
  {
   "cell_type": "code",
   "execution_count": 42,
   "id": "bb0f62aa-55e5-4e98-8c5d-f08ecacb8aeb",
   "metadata": {},
   "outputs": [],
   "source": [
    "strain1_non0_indices = set(strain1_non0_indices)\n",
    "strain2_non0_indices = set(strain2_non0_indices)"
   ]
  },
  {
   "cell_type": "code",
   "execution_count": 43,
   "id": "63b394a3-b742-4290-af71-f9974686a3c9",
   "metadata": {},
   "outputs": [
    {
     "name": "stdout",
     "output_type": "stream",
     "text": [
      "7.92 µs ± 839 ns per loop (mean ± std. dev. of 7 runs, 100000 loops each)\n"
     ]
    }
   ],
   "source": [
    "%%timeit\n",
    "strain1_non0_indices.intersection(strain2_non0_indices)"
   ]
  },
  {
   "cell_type": "code",
   "execution_count": 44,
   "id": "74f0961d-0e8c-43e3-9921-58914d9f6e76",
   "metadata": {},
   "outputs": [
    {
     "name": "stdout",
     "output_type": "stream",
     "text": [
      "5.7 µs ± 596 ns per loop (mean ± std. dev. of 7 runs, 100000 loops each)\n"
     ]
    }
   ],
   "source": [
    "%%timeit\n",
    "strain1_non0_boolean & strain2_non0_boolean"
   ]
  },
  {
   "cell_type": "markdown",
   "id": "95c36cf6-4eb2-4223-a7e5-deedc229954e",
   "metadata": {},
   "source": [
    "dang wow, good for you NumPy, that's legit impressive imo"
   ]
  },
  {
   "cell_type": "code",
   "execution_count": 45,
   "id": "3e028c00-3f58-48b7-a265-2e0a6f8f0c20",
   "metadata": {},
   "outputs": [
    {
     "data": {
      "text/plain": [
       "{159, 1263, 6664, 6668, 7746, 8085, 9058}"
      ]
     },
     "execution_count": 45,
     "metadata": {},
     "output_type": "execute_result"
    }
   ],
   "source": [
    "strain1_non0_indices.intersection(strain2_non0_indices)"
   ]
  },
  {
   "cell_type": "code",
   "execution_count": 46,
   "id": "efd278d3-0687-4b08-8a8a-63f05bd19ad9",
   "metadata": {},
   "outputs": [
    {
     "data": {
      "text/plain": [
       "array([ 159, 1263, 6664, 6668, 7746, 8085, 9058])"
      ]
     },
     "execution_count": 46,
     "metadata": {},
     "output_type": "execute_result"
    }
   ],
   "source": [
    "indices_both_backup"
   ]
  },
  {
   "cell_type": "code",
   "execution_count": 47,
   "id": "21b7b515-faf0-427c-9e86-41cdd8fb477d",
   "metadata": {},
   "outputs": [],
   "source": [
    "indices_both_set = strain1_non0_indices.intersection(strain2_non0_indices)"
   ]
  },
  {
   "cell_type": "code",
   "execution_count": 48,
   "id": "ff7e5d8a-b4a8-4739-84e8-840a16aa0c31",
   "metadata": {},
   "outputs": [
    {
     "name": "stdout",
     "output_type": "stream",
     "text": [
      "33.9 µs ± 691 ns per loop (mean ± std. dev. of 7 runs, 10000 loops each)\n"
     ]
    }
   ],
   "source": [
    "%%timeit\n",
    "strain1_non0_indices - indices_both_set\n",
    "strain2_non0_indices - indices_both_set"
   ]
  },
  {
   "cell_type": "code",
   "execution_count": 49,
   "id": "61eb9ac5-e931-4243-b15f-5b528493f839",
   "metadata": {},
   "outputs": [
    {
     "name": "stdout",
     "output_type": "stream",
     "text": [
      "15.3 µs ± 2.37 µs per loop (mean ± std. dev. of 7 runs, 100000 loops each)\n"
     ]
    }
   ],
   "source": [
    "%%timeit\n",
    "temp = ~double_strain_AND_non0_boolean\n",
    "strain1_non0_boolean & temp\n",
    "strain2_non0_boolean & temp"
   ]
  },
  {
   "cell_type": "markdown",
   "id": "cfd86321-b473-47a5-a057-1d601b2c11fd",
   "metadata": {},
   "source": [
    "wow geez NumPy. yeah I vaguely remember testing/trying something like this with the log ratio coefficients, wanting to use the set approach, but that time too the NumPy Boolean vector appeared to prove faster.\n",
    "\n",
    "to the extent we are willing to suffer the extensive waiting, we can look into what happens vis a vis time on the full problem size..."
   ]
  },
  {
   "cell_type": "code",
   "execution_count": 50,
   "id": "7673fd38-2c57-4d94-b43f-5598aff4bbd1",
   "metadata": {},
   "outputs": [],
   "source": [
    "uber_strain1_non0_boolean = droplets[:,strain1] > 0\n",
    "uber_strain2_non0_boolean = droplets[:,strain2] > 0"
   ]
  },
  {
   "cell_type": "code",
   "execution_count": 51,
   "id": "c570ae25-1c19-4b10-b23c-1f893b8dc67d",
   "metadata": {},
   "outputs": [],
   "source": [
    "uber_strain1_non0_indices = set(np.where(uber_strain1_non0_boolean)[0])\n",
    "uber_strain2_non0_indices = set(np.where(uber_strain2_non0_boolean)[0])"
   ]
  },
  {
   "cell_type": "code",
   "execution_count": 52,
   "id": "e678ccd5-225f-4974-9e96-c30404f26700",
   "metadata": {},
   "outputs": [
    {
     "data": {
      "text/plain": [
       "293822"
      ]
     },
     "execution_count": 52,
     "metadata": {},
     "output_type": "execute_result"
    }
   ],
   "source": [
    "np.sum(uber_strain1_non0_boolean)"
   ]
  },
  {
   "cell_type": "code",
   "execution_count": 53,
   "id": "7fcf39fe-efe5-4046-95f6-8ea6540902ba",
   "metadata": {},
   "outputs": [
    {
     "data": {
      "text/plain": [
       "293822"
      ]
     },
     "execution_count": 53,
     "metadata": {},
     "output_type": "execute_result"
    }
   ],
   "source": [
    "len(uber_strain1_non0_indices)"
   ]
  },
  {
   "cell_type": "code",
   "execution_count": 54,
   "id": "fa56cd37-cbd6-460e-8ac4-e3c320c7ddd7",
   "metadata": {},
   "outputs": [
    {
     "data": {
      "text/plain": [
       "581664"
      ]
     },
     "execution_count": 54,
     "metadata": {},
     "output_type": "execute_result"
    }
   ],
   "source": [
    "np.sum(uber_strain2_non0_boolean)"
   ]
  },
  {
   "cell_type": "code",
   "execution_count": 55,
   "id": "77f394df-6926-4ad6-9468-285ecfaf10af",
   "metadata": {},
   "outputs": [
    {
     "data": {
      "text/plain": [
       "581664"
      ]
     },
     "execution_count": 55,
     "metadata": {},
     "output_type": "execute_result"
    }
   ],
   "source": [
    "len(uber_strain2_non0_indices)"
   ]
  },
  {
   "cell_type": "code",
   "execution_count": 56,
   "id": "2f5aa1e0-69f8-4534-a7ca-8bbe33dbae80",
   "metadata": {},
   "outputs": [
    {
     "name": "stdout",
     "output_type": "stream",
     "text": [
      "41.3 ms ± 1.56 ms per loop (mean ± std. dev. of 7 runs, 10 loops each)\n"
     ]
    }
   ],
   "source": [
    "%%timeit\n",
    "uber_strain1_non0_indices.intersection(uber_strain2_non0_indices)"
   ]
  },
  {
   "cell_type": "code",
   "execution_count": 57,
   "id": "2e72ca7e-e7ab-41ac-ae7a-5ab62cb12c8a",
   "metadata": {},
   "outputs": [
    {
     "name": "stdout",
     "output_type": "stream",
     "text": [
      "23.5 ms ± 1.75 ms per loop (mean ± std. dev. of 7 runs, 10 loops each)\n"
     ]
    }
   ],
   "source": [
    "%%timeit\n",
    "uber_strain1_non0_boolean & uber_strain2_non0_boolean"
   ]
  },
  {
   "cell_type": "markdown",
   "id": "52cf35fa-17dc-480a-aa40-2034cc5558b9",
   "metadata": {},
   "source": [
    "dang wow, once again NumPy emerges victorious. so much for hashing saving us time I guess. of course I would need a better reason to explain the difference, since it would seem like algorithmically the set approach should be better than the other... (because you reduce the problem size by ignoring elements that are irrelevant)"
   ]
  },
  {
   "cell_type": "code",
   "execution_count": 58,
   "id": "e03d96a6-4ead-46a9-a494-3cc221494666",
   "metadata": {},
   "outputs": [],
   "source": [
    "uber_indices_both_strains = uber_strain1_non0_indices.intersection(uber_strain2_non0_indices)\n",
    "uber_double_strain_AND_non0_boolean = uber_strain1_non0_boolean & uber_strain2_non0_boolean"
   ]
  },
  {
   "cell_type": "code",
   "execution_count": 59,
   "id": "b3f78b49-5416-4e4d-ad33-7f6554e2df55",
   "metadata": {},
   "outputs": [
    {
     "name": "stdout",
     "output_type": "stream",
     "text": [
      "212 ms ± 12.4 ms per loop (mean ± std. dev. of 7 runs, 10 loops each)\n"
     ]
    }
   ],
   "source": [
    "%%timeit\n",
    "uber_strain1_non0_indices - uber_indices_both_strains\n",
    "uber_strain2_non0_indices - uber_indices_both_strains"
   ]
  },
  {
   "cell_type": "code",
   "execution_count": 60,
   "id": "95f54a31-9c83-4d22-8085-8fe5003eccf3",
   "metadata": {},
   "outputs": [
    {
     "name": "stdout",
     "output_type": "stream",
     "text": [
      "58.5 ms ± 3.22 ms per loop (mean ± std. dev. of 7 runs, 10 loops each)\n"
     ]
    }
   ],
   "source": [
    "%%timeit\n",
    "uber_temp = ~uber_double_strain_AND_non0_boolean\n",
    "uber_strain1_non0_boolean & uber_temp\n",
    "uber_strain2_non0_boolean & uber_temp"
   ]
  },
  {
   "cell_type": "markdown",
   "id": "2ef03700-1ede-4f65-9f08-904433a6f0e8",
   "metadata": {},
   "source": [
    "welp, that's what I get for trying to beat NumPy I guess...\n",
    "I mean I guess I shouldn't be complaining but I am still nevertheless genuinely surprised"
   ]
  },
  {
   "cell_type": "code",
   "execution_count": 61,
   "id": "4934ea8d-4635-4e4f-8099-8a5a92fcd3e5",
   "metadata": {},
   "outputs": [],
   "source": [
    "uber_strain1_only_non0_indices = uber_strain1_non0_indices - uber_indices_both_strains\n",
    "uber_strain2_only_non0_indices = uber_strain2_non0_indices - uber_indices_both_strains"
   ]
  },
  {
   "cell_type": "code",
   "execution_count": 62,
   "id": "2a1368bb-0771-49ee-bc1e-086c48123f2b",
   "metadata": {},
   "outputs": [],
   "source": [
    "uber_temp = ~uber_double_strain_AND_non0_boolean\n",
    "uber_strain1_only_non0_boolean = uber_strain1_non0_boolean & uber_temp\n",
    "uber_strain2_only_non0_boolean = uber_strain2_non0_boolean & uber_temp"
   ]
  },
  {
   "cell_type": "code",
   "execution_count": 63,
   "id": "40859782-ba0b-4522-b118-a15d0d94f30d",
   "metadata": {},
   "outputs": [
    {
     "data": {
      "text/plain": [
       "282452"
      ]
     },
     "execution_count": 63,
     "metadata": {},
     "output_type": "execute_result"
    }
   ],
   "source": [
    "len(uber_strain1_only_non0_indices)"
   ]
  },
  {
   "cell_type": "code",
   "execution_count": 64,
   "id": "2298206c-54fd-4e2a-b1ca-9e50f5af3349",
   "metadata": {},
   "outputs": [
    {
     "data": {
      "text/plain": [
       "282452"
      ]
     },
     "execution_count": 64,
     "metadata": {},
     "output_type": "execute_result"
    }
   ],
   "source": [
    "np.sum(uber_strain1_only_non0_boolean)"
   ]
  },
  {
   "cell_type": "code",
   "execution_count": 65,
   "id": "a0c0902c-07f5-459b-9538-b15ef1252dd7",
   "metadata": {},
   "outputs": [
    {
     "data": {
      "text/plain": [
       "570294"
      ]
     },
     "execution_count": 65,
     "metadata": {},
     "output_type": "execute_result"
    }
   ],
   "source": [
    "len(uber_strain2_only_non0_indices)"
   ]
  },
  {
   "cell_type": "code",
   "execution_count": 66,
   "id": "499f2e18-6c31-486d-997b-a0a5ab6b8725",
   "metadata": {},
   "outputs": [
    {
     "data": {
      "text/plain": [
       "570294"
      ]
     },
     "execution_count": 66,
     "metadata": {},
     "output_type": "execute_result"
    }
   ],
   "source": [
    "np.sum(uber_strain2_only_non0_boolean)"
   ]
  },
  {
   "cell_type": "markdown",
   "id": "1daec064-9257-47b4-8a3f-6549cb324ca5",
   "metadata": {},
   "source": [
    "ok, good sanity checks..."
   ]
  },
  {
   "cell_type": "code",
   "execution_count": 67,
   "id": "09ff14de-8a0b-4bc5-8c3b-ecc982c9ee40",
   "metadata": {},
   "outputs": [],
   "source": [
    "def get_observed_counts(strain1, strain2, counts):\n",
    "    \"\"\"Return observed counts for a given interaction.\"\"\"\n",
    "    assert counts.shape[1] == frequencies.size\n",
    "    strain1_non0_boolean = counts[:,strain1] > 0\n",
    "    strain2_non0_boolean = counts[:,strain2] > 0\n",
    "    \n",
    "    both_strains_non0_boolean = strain1_non0_boolean & strain2_non0_boolean\n",
    "    not_both_strains_non0_boolean = ~both_strains_non0_boolean\n",
    "    \n",
    "    strain1_only_non0_boolean = strain1_non0_boolean & not_both_strains_non0_boolean\n",
    "    strain2_only_non0_boolean = strain2_non0_boolean & not_both_strains_non0_boolean\n",
    "    \n",
    "    return (np.sum(strain1_only_non0_boolean), np.sum(both_strains_non0_boolean), np.sum(strain2_only_non0_boolean))"
   ]
  },
  {
   "cell_type": "code",
   "execution_count": 68,
   "id": "1a2cdf14-1db4-437b-bdd1-c67b55ee1caf",
   "metadata": {},
   "outputs": [
    {
     "data": {
      "text/plain": [
       "(282452, 11370, 570294)"
      ]
     },
     "execution_count": 68,
     "metadata": {},
     "output_type": "execute_result"
    }
   ],
   "source": [
    "get_observed_counts(strain1, strain2, droplets)"
   ]
  },
  {
   "cell_type": "code",
   "execution_count": 69,
   "id": "ca9629d9-a6a6-498f-9ced-cc3d2a7cff18",
   "metadata": {},
   "outputs": [
    {
     "data": {
      "text/plain": [
       "11370"
      ]
     },
     "execution_count": 69,
     "metadata": {},
     "output_type": "execute_result"
    }
   ],
   "source": [
    "len(uber_indices_both_strains)"
   ]
  },
  {
   "cell_type": "markdown",
   "id": "1dc02607-9448-4872-840d-88fe44461a78",
   "metadata": {},
   "source": [
    "OK nice, the function checks out, good."
   ]
  },
  {
   "cell_type": "code",
   "execution_count": 70,
   "id": "c05657cf-1d35-4c0c-9b52-4029672b443b",
   "metadata": {},
   "outputs": [
    {
     "data": {
      "text/plain": [
       "(200, 7, 370)"
      ]
     },
     "execution_count": 70,
     "metadata": {},
     "output_type": "execute_result"
    }
   ],
   "source": [
    "get_observed_counts(strain1, strain2, test_batch)"
   ]
  },
  {
   "cell_type": "markdown",
   "id": "e6f053ea-831a-4b95-93ac-40e128da9b8c",
   "metadata": {},
   "source": [
    "nice/perfect/those are exactly the correct answers (afaict). OK great, so we have correct-functioning code for this it seems"
   ]
  },
  {
   "cell_type": "code",
   "execution_count": 71,
   "id": "17af9c10-85a8-4ce3-a02d-be57d3eed166",
   "metadata": {},
   "outputs": [],
   "source": [
    "def get_conditional_probabilities(strain1, strain2, single_strain_non0_probs, double_strain_non0_probs):\n",
    "    strain1_non0_strain2_0_conditional_prob = 1. - (single_strain_non0_probs[strain2]/double_strain_non0_probs[strain1, strain2])\n",
    "    strain2_non0_strain1_0_conditional_prob = 1. - (single_strain_non0_probs[strain1]/double_strain_non0_probs[strain1, strain2])\n",
    "    both_non0_conditional_prob = 1. - strain1_non0_strain2_0_conditional_prob - strain2_non0_strain1_0_conditional_prob\n",
    "    \n",
    "    return np.asarray([strain1_non0_strain2_0_conditional_prob, both_non0_conditional_prob, \n",
    "                       strain2_non0_strain1_0_conditional_prob])\n",
    "\n",
    "def get_conditional_expected_counts(strain1, strain2, single_strain_non0_probs, double_strain_non0_probs, total_number):\n",
    "    \n",
    "    conditional_probabilities = get_conditional_probabilities(strain1=strain1, strain2=strain2, \n",
    "                                                              single_strain_non0_probs=single_strain_non0_probs,\n",
    "                                                              double_strain_non0_probs=double_strain_non0_probs)\n",
    "    return total_number * conditional_probabilities"
   ]
  },
  {
   "cell_type": "code",
   "execution_count": 72,
   "id": "95cd3816-6113-4bf3-80bf-6ff955513398",
   "metadata": {},
   "outputs": [],
   "source": [
    "def get_single_and_double_strain_non0_probs(frequencies, rate=2.):\n",
    "    frequencies = np.asarray(frequencies)\n",
    "    single_strain_0_probs = np.exp(-(rate*frequencies))\n",
    "    double_strain_0_probs = np.outer(single_strain_0_probs, single_strain_0_probs)\n",
    "\n",
    "    single_strain_non0_probs = 1. - single_strain_0_probs\n",
    "    double_strain_non0_probs = 1. - double_strain_0_probs\n",
    "    return (single_strain_non0_probs, double_strain_non0_probs)"
   ]
  },
  {
   "cell_type": "code",
   "execution_count": 73,
   "id": "1ffee068-8ff0-4d22-a8dd-7a7da4265152",
   "metadata": {},
   "outputs": [],
   "source": [
    "test1, test2 = get_single_and_double_strain_non0_probs(frequencies, rate=2)"
   ]
  },
  {
   "cell_type": "code",
   "execution_count": 74,
   "id": "8c6fa726-fc0b-4bd2-89ec-8121ca0bdd22",
   "metadata": {},
   "outputs": [
    {
     "data": {
      "text/plain": [
       "0.019801326693244747"
      ]
     },
     "execution_count": 74,
     "metadata": {},
     "output_type": "execute_result"
    }
   ],
   "source": [
    "test1[strain1]"
   ]
  },
  {
   "cell_type": "code",
   "execution_count": 75,
   "id": "0836535b-d661-453c-b58f-8a174b2066fe",
   "metadata": {},
   "outputs": [
    {
     "data": {
      "text/plain": [
       "0.019801326693244747"
      ]
     },
     "execution_count": 75,
     "metadata": {},
     "output_type": "execute_result"
    }
   ],
   "source": [
    "1. - np.exp(-2*frequencies[strain1])"
   ]
  },
  {
   "cell_type": "code",
   "execution_count": 76,
   "id": "40623a80-4816-40d9-8eab-e01d1fac8b7e",
   "metadata": {},
   "outputs": [],
   "source": [
    "from scipy.stats import chi2"
   ]
  },
  {
   "cell_type": "code",
   "execution_count": 77,
   "id": "14cfb5fa-2f00-4fa4-becd-796b24d892bc",
   "metadata": {},
   "outputs": [
    {
     "data": {
      "text/plain": [
       "0.05823546641575128"
      ]
     },
     "execution_count": 77,
     "metadata": {},
     "output_type": "execute_result"
    }
   ],
   "source": [
    "1. - np.exp(-2*(frequencies[strain1] + frequencies[strain2]))"
   ]
  },
  {
   "cell_type": "code",
   "execution_count": 78,
   "id": "9955117c-827a-476b-aafa-27aab856fab5",
   "metadata": {},
   "outputs": [
    {
     "data": {
      "text/plain": [
       "0.05823546641575139"
      ]
     },
     "execution_count": 78,
     "metadata": {},
     "output_type": "execute_result"
    }
   ],
   "source": [
    "test2[strain1, strain2]"
   ]
  },
  {
   "cell_type": "code",
   "execution_count": 79,
   "id": "e1bc568a-ad68-426c-9194-0c94f9255b9d",
   "metadata": {},
   "outputs": [
    {
     "data": {
      "text/plain": [
       "0.05823546641575139"
      ]
     },
     "execution_count": 79,
     "metadata": {},
     "output_type": "execute_result"
    }
   ],
   "source": [
    "test2[strain2, strain1]"
   ]
  },
  {
   "cell_type": "code",
   "execution_count": 80,
   "id": "6497055d-7f57-48a9-9437-456f03e5c888",
   "metadata": {},
   "outputs": [
    {
     "data": {
      "text/plain": [
       "array([0.32668933, 0.01333244, 0.65997822])"
      ]
     },
     "execution_count": 80,
     "metadata": {},
     "output_type": "execute_result"
    }
   ],
   "source": [
    "get_conditional_probabilities(strain1, strain2, test1, test2)"
   ]
  },
  {
   "cell_type": "code",
   "execution_count": 81,
   "id": "632df3ce-bd7b-437e-a51e-fb61577aeea1",
   "metadata": {},
   "outputs": [
    {
     "data": {
      "text/plain": [
       "array([0.65997822, 0.01333244, 0.32668933])"
      ]
     },
     "execution_count": 81,
     "metadata": {},
     "output_type": "execute_result"
    }
   ],
   "source": [
    "get_conditional_probabilities(strain2, strain1, test1, test2)"
   ]
  },
  {
   "cell_type": "markdown",
   "id": "512f71c3-131c-4b11-9040-a1d8adfb3d79",
   "metadata": {},
   "source": [
    "OK the above values are slightly more reasonable than before. (specifically with reference to the both non0 probability, which was less than 1% last time.) \n",
    "\n",
    "let's double check we get the numbers from before if the rate = 1\n",
    "\n",
    "\n",
    "(also the rate being one would explain before why the probabilities were small)"
   ]
  },
  {
   "cell_type": "code",
   "execution_count": 82,
   "id": "a8d0a378-8182-4c32-a0c7-ebcd67a425c8",
   "metadata": {},
   "outputs": [
    {
     "data": {
      "text/plain": [
       "array([0.33000561, 0.00666656, 0.66332783])"
      ]
     },
     "execution_count": 82,
     "metadata": {},
     "output_type": "execute_result"
    }
   ],
   "source": [
    "get_conditional_probabilities(strain1, strain2, *get_single_and_double_strain_non0_probs(frequencies, rate=1))"
   ]
  },
  {
   "cell_type": "markdown",
   "id": "c5f7b03f-5150-403c-b118-13f67c97774e",
   "metadata": {},
   "source": [
    "ok great, these are effectively the exact same numbers as before\n",
    "\n",
    "and let me guess, the middle probability increases as the rate increases? which means that all of these hypothesis tests depend crucially on the assumed rate for the Poisson, which we don't _actually_ know?\n",
    "\n",
    "oh no"
   ]
  },
  {
   "cell_type": "code",
   "execution_count": 83,
   "id": "1b95f928-72c6-4fbd-b71c-1a5089c1f594",
   "metadata": {},
   "outputs": [
    {
     "data": {
      "text/plain": [
       "array([0.32338482, 0.019997  , 0.65661818])"
      ]
     },
     "execution_count": 83,
     "metadata": {},
     "output_type": "execute_result"
    }
   ],
   "source": [
    "get_conditional_probabilities(strain1, strain2, *get_single_and_double_strain_non0_probs(frequencies, rate=3))"
   ]
  },
  {
   "cell_type": "code",
   "execution_count": 84,
   "id": "0da7a2b9-0c72-485b-825a-b8d4592fda04",
   "metadata": {},
   "outputs": [
    {
     "data": {
      "text/plain": [
       "array([0.32009241, 0.02665956, 0.65324803])"
      ]
     },
     "execution_count": 84,
     "metadata": {},
     "output_type": "execute_result"
    }
   ],
   "source": [
    "get_conditional_probabilities(strain1, strain2, *get_single_and_double_strain_non0_probs(frequencies, rate=4))"
   ]
  },
  {
   "cell_type": "markdown",
   "id": "25886e93-3db9-4588-a6f1-0c6dfe386d7c",
   "metadata": {},
   "source": [
    "yes this is true, although arguably the probabilities at least in this case don't seem to depend _too_ strongly on the assumed Poisson rate (but they definitely _do_ depend on it, oh no)"
   ]
  },
  {
   "cell_type": "code",
   "execution_count": 85,
   "id": "eed881e8-ab50-42fc-b472-aa7e7f695972",
   "metadata": {},
   "outputs": [
    {
     "data": {
      "text/plain": [
       "array([188.49974403,   7.69282049, 380.80743548])"
      ]
     },
     "execution_count": 85,
     "metadata": {},
     "output_type": "execute_result"
    }
   ],
   "source": [
    "get_conditional_expected_counts(strain1, strain2, *get_single_and_double_strain_non0_probs(frequencies, rate=2),\n",
    "                             np.sum(get_observed_counts(strain1, strain2, test_batch)))"
   ]
  },
  {
   "cell_type": "code",
   "execution_count": 86,
   "id": "e065eb27-4609-49a9-9d63-1232eb8ecce6",
   "metadata": {},
   "outputs": [
    {
     "data": {
      "text/plain": [
       "array([282297.47800931,  11520.77863012, 570297.74336057])"
      ]
     },
     "execution_count": 86,
     "metadata": {},
     "output_type": "execute_result"
    }
   ],
   "source": [
    "get_conditional_expected_counts(strain1, strain2, *get_single_and_double_strain_non0_probs(frequencies, rate=2),\n",
    "                             np.sum(get_observed_counts(strain1, strain2, droplets)))"
   ]
  },
  {
   "cell_type": "markdown",
   "id": "996b0a1d-783e-44f3-9573-35b748c46004",
   "metadata": {},
   "source": [
    "wow, the oberved counts line up with those for the CPM way more than would be expected, this is actually legit kind of crazy (crazy awesome haha). So hm, maybe the difference between the CPM and these over-dispersed methods is for the picky groups only, but not for the gluttonous groups?\n",
    "\n",
    "this would be a questionable way to test fit, but you could like Holm-Bonferroni all of these and test fit based on that too maybe... not sure how to collapse all of that into a single statistic though..."
   ]
  },
  {
   "cell_type": "code",
   "execution_count": 87,
   "id": "8d8f5822-5ff2-4fe7-9131-4d68b1b0a9b7",
   "metadata": {},
   "outputs": [],
   "source": [
    "def get_conditional_pairwise_pearson_categorical_divergence(strain1, strain2, single_strain_non0_probs, double_strain_non0_probs, counts):\n",
    "    \n",
    "    observed_counts = get_observed_counts(strain1=strain1, strain2=strain2, counts=counts)\n",
    "    total_number = np.sum(observed_counts)\n",
    "    \n",
    "    if total_number == 0:\n",
    "        return np.nan\n",
    "    else:\n",
    "        expected_counts = get_conditional_expected_counts(strain1=strain1, strain2=strain2, \n",
    "                                                          single_strain_non0_probs=single_strain_non0_probs,\n",
    "                                                          double_strain_non0_probs=double_strain_non0_probs,\n",
    "                                                          total_number=total_number)\n",
    "\n",
    "        divergence = np.sum(((observed_counts - expected_counts)**2)/expected_counts, axis=None)\n",
    "        return divergence"
   ]
  },
  {
   "cell_type": "code",
   "execution_count": 88,
   "id": "71b13ffe-3b30-4af0-bf66-4b17b7eac02d",
   "metadata": {},
   "outputs": [],
   "source": [
    "expected_counts = get_conditional_expected_counts(strain1, strain2, *get_single_and_double_strain_non0_probs(frequencies, rate=2),\n",
    "                             np.sum(get_observed_counts(strain1, strain2, droplets)))"
   ]
  },
  {
   "cell_type": "code",
   "execution_count": 89,
   "id": "b52d2ef0-8d1a-47b3-8de2-c25e0469c288",
   "metadata": {},
   "outputs": [],
   "source": [
    "observed_counts = get_observed_counts(strain1, strain2, droplets)"
   ]
  },
  {
   "cell_type": "code",
   "execution_count": 90,
   "id": "3784bc40-d268-4a6e-975a-27e7180600a1",
   "metadata": {},
   "outputs": [
    {
     "data": {
      "text/plain": [
       "2.0579267994361095"
      ]
     },
     "execution_count": 90,
     "metadata": {},
     "output_type": "execute_result"
    }
   ],
   "source": [
    "np.sum(((observed_counts - expected_counts)**2)/expected_counts)"
   ]
  },
  {
   "cell_type": "code",
   "execution_count": 91,
   "id": "b6c5901b-9749-4ef7-bcd6-119b9f0dfec3",
   "metadata": {},
   "outputs": [
    {
     "data": {
      "text/plain": [
       "2.0579267994361095"
      ]
     },
     "execution_count": 91,
     "metadata": {},
     "output_type": "execute_result"
    }
   ],
   "source": [
    "get_conditional_pairwise_pearson_categorical_divergence(strain1, strain2,  *get_single_and_double_strain_non0_probs(frequencies, rate=2),\n",
    "                                           droplets)"
   ]
  },
  {
   "cell_type": "markdown",
   "id": "dc06d3e8-11ef-4ee1-9bfa-325770dbb936",
   "metadata": {},
   "source": [
    "OK, the code seems to work, that's good at least..."
   ]
  },
  {
   "cell_type": "code",
   "execution_count": 92,
   "id": "3fb3e5f1-9b4a-4416-b171-220776087d1d",
   "metadata": {},
   "outputs": [
    {
     "data": {
      "text/plain": [
       "0.35737722596057886"
      ]
     },
     "execution_count": 92,
     "metadata": {},
     "output_type": "execute_result"
    }
   ],
   "source": [
    "chi2.sf(2.0579267994361095, df=2)"
   ]
  },
  {
   "cell_type": "code",
   "execution_count": 93,
   "id": "c3bf4ed5-3182-4785-9248-561533cac2d4",
   "metadata": {},
   "outputs": [],
   "source": [
    "from scipy.stats import chisquare"
   ]
  },
  {
   "cell_type": "code",
   "execution_count": 94,
   "id": "a2992ec5-5e46-441b-8084-3fab9f7b0877",
   "metadata": {},
   "outputs": [
    {
     "data": {
      "text/plain": [
       "Power_divergenceResult(statistic=2.0579267994361095, pvalue=0.35737722596057886)"
      ]
     },
     "execution_count": 94,
     "metadata": {},
     "output_type": "execute_result"
    }
   ],
   "source": [
    "chisquare(observed_counts, expected_counts)"
   ]
  },
  {
   "cell_type": "markdown",
   "id": "3cb5dd99-669a-4449-bc17-38321da2f296",
   "metadata": {},
   "source": [
    "OK good, good sanity check, seems I got the right answers, yay!"
   ]
  },
  {
   "cell_type": "code",
   "execution_count": 95,
   "id": "146d7760-ccc0-4945-a818-d7a98483f39b",
   "metadata": {},
   "outputs": [],
   "source": [
    "def get_all_conditional_pairwise_pearson_categorical_divergences_and_p_values(counts, frequencies, rate=2.):\n",
    "    single_strain_non0_probs, double_strain_non0_probs = get_single_and_double_strain_non0_probs(frequencies=frequencies, rate=rate)\n",
    "    \n",
    "    divergences = np.zeros((frequencies.size, frequencies.size))\n",
    "    pvals = np.zeros((frequencies.size, frequencies.size))\n",
    "    \n",
    "    for strain1 in range(frequencies.size):\n",
    "        for strain2 in range(strain1+1, frequencies.size):\n",
    "            divergence = get_conditional_pairwise_pearson_categorical_divergence(strain1=strain1, strain2=strain2, \n",
    "                            single_strain_non0_probs=single_strain_non0_probs, \n",
    "                            double_strain_non0_probs=double_strain_non0_probs, counts=counts)\n",
    "            \n",
    "            pval = chi2.sf(divergence, df=2)\n",
    "            divergences[strain1, strain2] = divergence\n",
    "            pvals[strain1, strain2] = pval\n",
    "    return divergences, pvals"
   ]
  },
  {
   "cell_type": "code",
   "execution_count": 96,
   "id": "2672cc6e-46cc-41c1-b280-b12c0139f0b0",
   "metadata": {},
   "outputs": [],
   "source": [
    "test = get_all_conditional_pairwise_pearson_categorical_divergences_and_p_values(test_batch, frequencies, rate=2)"
   ]
  },
  {
   "cell_type": "code",
   "execution_count": 97,
   "id": "f9c65918-dc3a-4a77-9f89-56ffa2976941",
   "metadata": {},
   "outputs": [
    {
     "data": {
      "text/plain": [
       "(array([0, 0, 7]), array([7, 9, 9]))"
      ]
     },
     "execution_count": 97,
     "metadata": {},
     "output_type": "execute_result"
    }
   ],
   "source": [
    "np.where(np.isnan(test[0]))"
   ]
  },
  {
   "cell_type": "code",
   "execution_count": 98,
   "id": "f66df22f-197b-4001-ac38-73dc7865c8bf",
   "metadata": {},
   "outputs": [
    {
     "data": {
      "text/plain": [
       "nan"
      ]
     },
     "execution_count": 98,
     "metadata": {},
     "output_type": "execute_result"
    }
   ],
   "source": [
    "test[0][0,7]"
   ]
  },
  {
   "cell_type": "code",
   "execution_count": 99,
   "id": "1541b59f-692d-4173-8db8-33b3a12dd798",
   "metadata": {},
   "outputs": [
    {
     "data": {
      "text/plain": [
       "nan"
      ]
     },
     "execution_count": 99,
     "metadata": {},
     "output_type": "execute_result"
    }
   ],
   "source": [
    "test[0][0,9]"
   ]
  },
  {
   "cell_type": "code",
   "execution_count": 100,
   "id": "aaa69404-2a36-448c-9e2e-90bc2aa07935",
   "metadata": {},
   "outputs": [
    {
     "data": {
      "text/plain": [
       "nan"
      ]
     },
     "execution_count": 100,
     "metadata": {},
     "output_type": "execute_result"
    }
   ],
   "source": [
    "test[0][7,9]"
   ]
  },
  {
   "cell_type": "code",
   "execution_count": 101,
   "id": "81a41783-82de-4c59-bd5b-58c287d402e8",
   "metadata": {},
   "outputs": [
    {
     "data": {
      "text/plain": [
       "(2927, 1, 2938)"
      ]
     },
     "execution_count": 101,
     "metadata": {},
     "output_type": "execute_result"
    }
   ],
   "source": [
    "get_observed_counts(0,7, droplets)"
   ]
  },
  {
   "cell_type": "code",
   "execution_count": 102,
   "id": "dbffac45-f7b8-4242-826f-7e40ddc9fa65",
   "metadata": {
    "tags": []
   },
   "outputs": [
    {
     "data": {
      "text/plain": [
       "(2938, 1, 2927)"
      ]
     },
     "execution_count": 102,
     "metadata": {},
     "output_type": "execute_result"
    }
   ],
   "source": [
    "get_observed_counts(7,0, droplets)"
   ]
  },
  {
   "cell_type": "markdown",
   "id": "d9dde4b7-e469-47f1-9dbe-81878401bb5a",
   "metadata": {},
   "source": [
    "what none of these are 0? how could any of these be zero??? ugh...\n",
    "\n",
    "although admittedly returning NaN when the number of observations is 0 _is_ probably the correct answer. but still it doesn't seem to be happening here? what the heck????"
   ]
  },
  {
   "cell_type": "code",
   "execution_count": 103,
   "id": "3a832659-bec4-484d-802e-d4202306edd8",
   "metadata": {},
   "outputs": [
    {
     "data": {
      "text/plain": [
       "array([2.93270670e+03, 5.86599998e-01, 2.93270670e+03])"
      ]
     },
     "execution_count": 103,
     "metadata": {},
     "output_type": "execute_result"
    }
   ],
   "source": [
    "get_conditional_expected_counts(0,7,  *get_single_and_double_strain_non0_probs(frequencies, rate=2), 2938+1+2927)"
   ]
  },
  {
   "cell_type": "code",
   "execution_count": 104,
   "id": "0706be1f-9443-486d-8c28-6f6b988a4a06",
   "metadata": {},
   "outputs": [
    {
     "data": {
      "text/plain": [
       "0.3119977224264664"
      ]
     },
     "execution_count": 104,
     "metadata": {},
     "output_type": "execute_result"
    }
   ],
   "source": [
    "get_conditional_pairwise_pearson_categorical_divergence(0,7,  *get_single_and_double_strain_non0_probs(frequencies, rate=2), droplets)"
   ]
  },
  {
   "cell_type": "markdown",
   "id": "fb88cf15-89a7-4e29-91c7-f5bb6b9a3112",
   "metadata": {},
   "source": [
    "oh i'm dumb, it's because they were 0 for `test_batch`, right?"
   ]
  },
  {
   "cell_type": "code",
   "execution_count": 105,
   "id": "6885a613-9e8b-4d52-bfae-d6f99b35531e",
   "metadata": {},
   "outputs": [
    {
     "data": {
      "text/plain": [
       "(0, 0, 0)"
      ]
     },
     "execution_count": 105,
     "metadata": {},
     "output_type": "execute_result"
    }
   ],
   "source": [
    "get_observed_counts(0,7, test_batch)"
   ]
  },
  {
   "cell_type": "markdown",
   "id": "c5952377-bab2-4834-8eba-d22ca75ee00f",
   "metadata": {},
   "source": [
    "oof. ok that explains that "
   ]
  },
  {
   "cell_type": "code",
   "execution_count": 106,
   "id": "89ca512a-d1e1-4bfa-a8d8-1e0eeefe832c",
   "metadata": {},
   "outputs": [
    {
     "data": {
      "text/plain": [
       "(0, 0, 0)"
      ]
     },
     "execution_count": 106,
     "metadata": {},
     "output_type": "execute_result"
    }
   ],
   "source": [
    "get_observed_counts(0,9, test_batch)"
   ]
  },
  {
   "cell_type": "code",
   "execution_count": 107,
   "id": "f3ef4dec-5521-425c-8684-4842000c37f3",
   "metadata": {},
   "outputs": [
    {
     "data": {
      "text/plain": [
       "(0, 0, 0)"
      ]
     },
     "execution_count": 107,
     "metadata": {},
     "output_type": "execute_result"
    }
   ],
   "source": [
    "get_observed_counts(7,9, test_batch)"
   ]
  },
  {
   "cell_type": "markdown",
   "id": "d2ad9642-c11d-4244-812b-37abab52bb9e",
   "metadata": {},
   "source": [
    "basically there were zero observations of strains 0, 7, or 9, in `test_batch`. which hey makes sense given that this is only 10,000 droplets, and they are very low frequency"
   ]
  },
  {
   "cell_type": "code",
   "execution_count": 108,
   "id": "5264ba4f-02b2-41fb-8c6d-f19a941f12a8",
   "metadata": {},
   "outputs": [
    {
     "data": {
      "text/plain": [
       "1.0"
      ]
     },
     "execution_count": 108,
     "metadata": {},
     "output_type": "execute_result"
    }
   ],
   "source": [
    "frequencies[0] * 10000"
   ]
  },
  {
   "cell_type": "code",
   "execution_count": 109,
   "id": "b1951962-e833-42f9-94e7-a026f459ac82",
   "metadata": {},
   "outputs": [],
   "source": [
    "# uber_test = get_all_conditional_pairwise_pearson_categorical_divergences_and_p_values(droplets, frequencies, rate=2)"
   ]
  },
  {
   "cell_type": "markdown",
   "id": "fbfc903c-f9ce-4438-9338-23b37c09eb9b",
   "metadata": {},
   "source": [
    "ok I am not sure what to do now, even when seemingly having the code be correct... like where to go further from here. \n",
    "\n",
    "Anyway assuming that 22 milliseconds is an accurate estimate for each interaction, and there are about 10000 interactions, then that is `10*22 = 220` nearly four minutes for this to run, and I think the 22 milliseconds per interaction figure is an underestimate (although I'm not sure what the correct value is). Anyway this should at the very least make me glad I didn't insist on trying to use the set-based version, given that would have been more than twice as slow as this (which fyi is pretty darn slow...)"
   ]
  },
  {
   "cell_type": "markdown",
   "id": "bf9dd459-9aa0-4da2-9fb6-9d5133566182",
   "metadata": {},
   "source": [
    "I guess at the very least I could (or \"should\"?) use this to double-check the conclusion from the picky-groups test that the counts do not resemble those from a CPM distribution.\n",
    "\n",
    "and then we also \"need\" to use it on counts generated from the interaction-dirichlet distribution (to try to show that these pairwise tests could be used to detect interactions from censoring effects)\n",
    "\n",
    "in which case we would also need to modify the above code to also return the sign vector corresponding to `observed - expected` for every interaction -- which seems like it would be difficult or at least ugly to do. well yeah you just need to make a third order tensor/array, third mode stores the signs, first two just correspond to the entries of the p value matrix essentially, right? so yeah"
   ]
  },
  {
   "cell_type": "code",
   "execution_count": 110,
   "id": "c9e97e6a-3ede-445b-801c-e465352b613c",
   "metadata": {},
   "outputs": [],
   "source": [
    "# uber_test[0]"
   ]
  },
  {
   "cell_type": "code",
   "execution_count": 111,
   "id": "e4d7d642-d11d-4ea5-8c08-7a6ec073fd37",
   "metadata": {},
   "outputs": [],
   "source": [
    "# uber_test[1]"
   ]
  },
  {
   "cell_type": "markdown",
   "id": "3dca1af9-993a-46ec-ab34-70250557edc7",
   "metadata": {},
   "source": [
    "OK that's not great, even though there weren't any interactions, some of these are getting rejected, seemingly mostly for the high frequency strains. sort of not surprising, since more data, more power to reject, at least ostensibly. and it's not rejecting the null because there are interactions, but because the ratios are not characteristic of the CPM distribution (as opposed to a more over-dispersed variant)."
   ]
  },
  {
   "cell_type": "code",
   "execution_count": 112,
   "id": "1644176c-481e-4179-857c-e780e6c71c89",
   "metadata": {},
   "outputs": [],
   "source": [
    "# np.savez_compressed('conditional_pairwise_tests_demo.npz', divergences=uber_test[0], chi2_approx_pvals=uber_test[1])"
   ]
  },
  {
   "cell_type": "code",
   "execution_count": 113,
   "id": "922e53e2-3fbf-45fe-9692-d88c3f7f5c6e",
   "metadata": {},
   "outputs": [],
   "source": [
    "# npzfile = np.load('conditional_pairwise_tests_demo.npz')"
   ]
  },
  {
   "cell_type": "code",
   "execution_count": 114,
   "id": "19b59e1f-0348-4baf-bced-0ced1132b772",
   "metadata": {},
   "outputs": [],
   "source": [
    "# assert np.all(uber_test[0] == npzfile['divergences'])\n",
    "# assert np.all(uber_test[1] == npzfile['chi2_approx_pvals'])"
   ]
  },
  {
   "cell_type": "markdown",
   "id": "c430f4bf-18bb-4522-8aa5-e7aeb75ff052",
   "metadata": {},
   "source": [
    "ok good, so I never have to run the above cell again -- will now comment it out"
   ]
  },
  {
   "cell_type": "code",
   "execution_count": 115,
   "id": "c363cae7-a0bb-4060-a655-133d2bf1232d",
   "metadata": {},
   "outputs": [],
   "source": [
    "def get_conditional_pairwise_pearson_categorical_divergence(strain1, strain2, single_strain_non0_probs, double_strain_non0_probs, counts, signs=False):\n",
    "    \n",
    "    observed_counts = get_observed_counts(strain1=strain1, strain2=strain2, counts=counts)\n",
    "    total_number = np.sum(observed_counts)\n",
    "    \n",
    "    if total_number == 0:\n",
    "        return np.nan if signs == False else (np.nan, np.array([np.nan, np.nan, np.nan]))\n",
    "    else:\n",
    "        expected_counts = get_conditional_expected_counts(strain1=strain1, strain2=strain2, \n",
    "                                                          single_strain_non0_probs=single_strain_non0_probs,\n",
    "                                                          double_strain_non0_probs=double_strain_non0_probs,\n",
    "                                                          total_number=total_number)\n",
    "\n",
    "        divergence = np.sum(((observed_counts - expected_counts)**2)/expected_counts, axis=None)\n",
    "        return divergence if signs == False else (divergence, np.sign(observed_counts - expected_counts))\n",
    "    \n",
    "def get_all_conditional_pairwise_pearson_categorical_divergences_and_p_values(counts, frequencies, rate=2., signs=False):\n",
    "    single_strain_non0_probs, double_strain_non0_probs = get_single_and_double_strain_non0_probs(frequencies=frequencies, rate=rate)\n",
    "    \n",
    "    divergences = np.zeros((frequencies.size, frequencies.size))\n",
    "    pvals = np.zeros((frequencies.size, frequencies.size))\n",
    "    if signs == True:\n",
    "        sign_vectors = np.zeros((frequencies.size, frequencies.size, 3))\n",
    "    \n",
    "    for strain1 in range(frequencies.size):\n",
    "        for strain2 in range(strain1+1, frequencies.size):\n",
    "            result = get_conditional_pairwise_pearson_categorical_divergence(strain1=strain1, strain2=strain2, \n",
    "                            single_strain_non0_probs=single_strain_non0_probs, \n",
    "                            double_strain_non0_probs=double_strain_non0_probs, counts=counts, signs=signs)\n",
    "            if signs == False:\n",
    "                divergence = result\n",
    "            else:\n",
    "                divergence, sign_vector = result\n",
    "            \n",
    "            pval = chi2.sf(divergence, df=2)\n",
    "            divergences[strain1, strain2] = divergence\n",
    "            pvals[strain1, strain2] = pval\n",
    "            \n",
    "            if signs == True:\n",
    "                sign_vectors[strain1, strain2, :] = sign_vector\n",
    "    return (divergences, pvals) if signs == False else (divergences, pvals, sign_vectors)"
   ]
  },
  {
   "cell_type": "code",
   "execution_count": 116,
   "id": "6a031efa-a884-4d5c-b144-1fbfdde700ec",
   "metadata": {},
   "outputs": [],
   "source": [
    "newtest1, newtest2 = get_all_conditional_pairwise_pearson_categorical_divergences_and_p_values(test_batch, frequencies, rate=2)"
   ]
  },
  {
   "cell_type": "code",
   "execution_count": 117,
   "id": "f32e6f6e-7e56-4898-9b42-2b052f10a654",
   "metadata": {},
   "outputs": [],
   "source": [
    "np.testing.assert_array_equal(newtest1, test[0])\n",
    "np.testing.assert_array_equal(newtest2, test[1])"
   ]
  },
  {
   "cell_type": "markdown",
   "id": "8bc52b36-307b-4b77-947e-fb66c0678d7a",
   "metadata": {},
   "source": [
    "looking good so far"
   ]
  },
  {
   "cell_type": "code",
   "execution_count": 118,
   "id": "7275ae9b-97ea-4120-9992-f1f9c3362ca6",
   "metadata": {},
   "outputs": [],
   "source": [
    "newtest3, newtest4, newtest5 = get_all_conditional_pairwise_pearson_categorical_divergences_and_p_values(test_batch, frequencies, rate=2, signs=True)"
   ]
  },
  {
   "cell_type": "code",
   "execution_count": 119,
   "id": "826945fc-ab51-406a-b573-fdc065b3075d",
   "metadata": {},
   "outputs": [],
   "source": [
    "np.testing.assert_array_equal(newtest3, test[0])\n",
    "np.testing.assert_array_equal(newtest4, test[1])"
   ]
  },
  {
   "cell_type": "code",
   "execution_count": 120,
   "id": "0de237ab-6dd8-406e-acce-03e9cdb31322",
   "metadata": {},
   "outputs": [
    {
     "data": {
      "text/plain": [
       "array([nan, nan, nan])"
      ]
     },
     "execution_count": 120,
     "metadata": {},
     "output_type": "execute_result"
    }
   ],
   "source": [
    "newtest5[0,7,:]"
   ]
  },
  {
   "cell_type": "code",
   "execution_count": 121,
   "id": "38249b5a-c57b-4842-ade0-f418a77b9be3",
   "metadata": {},
   "outputs": [
    {
     "data": {
      "text/plain": [
       "array([nan, nan, nan])"
      ]
     },
     "execution_count": 121,
     "metadata": {},
     "output_type": "execute_result"
    }
   ],
   "source": [
    "newtest5[0,9,:]"
   ]
  },
  {
   "cell_type": "code",
   "execution_count": 122,
   "id": "6f1fc107-22a0-48be-a5f8-16b2ec3a38d7",
   "metadata": {},
   "outputs": [
    {
     "data": {
      "text/plain": [
       "array([nan, nan, nan])"
      ]
     },
     "execution_count": 122,
     "metadata": {},
     "output_type": "execute_result"
    }
   ],
   "source": [
    "newtest5[7,9,:]"
   ]
  },
  {
   "cell_type": "code",
   "execution_count": 123,
   "id": "e67965a6-0e03-4fa8-9e24-b6d57890cad9",
   "metadata": {},
   "outputs": [
    {
     "data": {
      "text/plain": [
       "array([[[ 0.,  0.,  0.],\n",
       "        [-1., -1.,  1.],\n",
       "        [-1., -1.,  1.],\n",
       "        ...,\n",
       "        [-1., -1.,  1.],\n",
       "        [-1., -1.,  1.],\n",
       "        [-1., -1.,  1.]],\n",
       "\n",
       "       [[ 0.,  0.,  0.],\n",
       "        [ 0.,  0.,  0.],\n",
       "        [-1., -1.,  1.],\n",
       "        ...,\n",
       "        [-1.,  1.,  1.],\n",
       "        [-1., -1.,  1.],\n",
       "        [-1., -1.,  1.]],\n",
       "\n",
       "       [[ 0.,  0.,  0.],\n",
       "        [ 0.,  0.,  0.],\n",
       "        [ 0.,  0.,  0.],\n",
       "        ...,\n",
       "        [ 1., -1.,  1.],\n",
       "        [ 1., -1.,  1.],\n",
       "        [ 1., -1., -1.]],\n",
       "\n",
       "       ...,\n",
       "\n",
       "       [[ 0.,  0.,  0.],\n",
       "        [ 0.,  0.,  0.],\n",
       "        [ 0.,  0.,  0.],\n",
       "        ...,\n",
       "        [ 0.,  0.,  0.],\n",
       "        [ 1., -1., -1.],\n",
       "        [ 1.,  1., -1.]],\n",
       "\n",
       "       [[ 0.,  0.,  0.],\n",
       "        [ 0.,  0.,  0.],\n",
       "        [ 0.,  0.,  0.],\n",
       "        ...,\n",
       "        [ 0.,  0.,  0.],\n",
       "        [ 0.,  0.,  0.],\n",
       "        [ 1.,  1., -1.]],\n",
       "\n",
       "       [[ 0.,  0.,  0.],\n",
       "        [ 0.,  0.,  0.],\n",
       "        [ 0.,  0.,  0.],\n",
       "        ...,\n",
       "        [ 0.,  0.,  0.],\n",
       "        [ 0.,  0.,  0.],\n",
       "        [ 0.,  0.,  0.]]])"
      ]
     },
     "execution_count": 123,
     "metadata": {},
     "output_type": "execute_result"
    }
   ],
   "source": [
    "newtest5"
   ]
  },
  {
   "cell_type": "markdown",
   "id": "3febfd56-8fb1-4bbc-9656-610a48c36e37",
   "metadata": {},
   "source": [
    "OK sweet, looks good to me."
   ]
  },
  {
   "cell_type": "code",
   "execution_count": 124,
   "id": "fd3d503a-83a4-437c-923d-f9c9bb2be7e4",
   "metadata": {},
   "outputs": [],
   "source": [
    "from simulations.local_chi2_cpm import get_all_conditional_pairwise_pearson_categorical_divergences_and_p_values as external_version"
   ]
  },
  {
   "cell_type": "code",
   "execution_count": 125,
   "id": "70ade574-4262-4dd8-9b92-a1edb8602887",
   "metadata": {},
   "outputs": [],
   "source": [
    "newtest6, newtest7, newtest8 = external_version(test_batch, frequencies, rate=2, signs=True)"
   ]
  },
  {
   "cell_type": "code",
   "execution_count": 126,
   "id": "c42077dd-d8f3-4498-b9ae-f34479d4100a",
   "metadata": {},
   "outputs": [],
   "source": [
    "np.testing.assert_array_equal(newtest6, test[0])\n",
    "np.testing.assert_array_equal(newtest7, test[1])\n",
    "np.testing.assert_array_equal(newtest5, newtest8)"
   ]
  }
 ],
 "metadata": {
  "kernelspec": {
   "display_name": "Python 3",
   "language": "python",
   "name": "python3"
  },
  "language_info": {
   "codemirror_mode": {
    "name": "ipython",
    "version": 3
   },
   "file_extension": ".py",
   "mimetype": "text/x-python",
   "name": "python",
   "nbconvert_exporter": "python",
   "pygments_lexer": "ipython3",
   "version": "3.9.2"
  }
 },
 "nbformat": 4,
 "nbformat_minor": 5
}
