{
 "cells": [
  {
   "cell_type": "code",
   "execution_count": 1,
   "id": "df602657",
   "metadata": {},
   "outputs": [],
   "source": [
    "import numpy as np\n",
    "\n",
    "from glob import glob"
   ]
  },
  {
   "cell_type": "code",
   "execution_count": 2,
   "id": "8f95eca5-7e76-450b-9a93-d4a24e23528e",
   "metadata": {},
   "outputs": [],
   "source": [
    "filenames = sorted(list(glob('*.npz')))"
   ]
  },
  {
   "cell_type": "code",
   "execution_count": 3,
   "id": "5a8ec8ba",
   "metadata": {},
   "outputs": [],
   "source": [
    "results = []"
   ]
  },
  {
   "cell_type": "code",
   "execution_count": 4,
   "id": "ba5ed499",
   "metadata": {},
   "outputs": [],
   "source": [
    "for filename in filenames:\n",
    "    npzfile = np.load(filename)\n",
    "    assert npzfile.files == ['chi2_stats']\n",
    "    chi2_stats = npzfile['chi2_stats']\n",
    "    assert chi2_stats.shape == (10000000,)\n",
    "    results.append(chi2_stats)"
   ]
  },
  {
   "cell_type": "code",
   "execution_count": 5,
   "id": "c5437044",
   "metadata": {},
   "outputs": [
    {
     "data": {
      "text/plain": [
       "100"
      ]
     },
     "execution_count": 5,
     "metadata": {},
     "output_type": "execute_result"
    }
   ],
   "source": [
    "len(results)"
   ]
  },
  {
   "cell_type": "code",
   "execution_count": 7,
   "id": "f7d87414-039f-4fc0-bbf6-06abe2cabdbc",
   "metadata": {},
   "outputs": [],
   "source": [
    "results = np.concatenate(results)"
   ]
  },
  {
   "cell_type": "code",
   "execution_count": 8,
   "id": "9a7a1fb2-5cf0-49ec-a60c-7ceed90d13c3",
   "metadata": {},
   "outputs": [
    {
     "data": {
      "text/plain": [
       "(1000000000,)"
      ]
     },
     "execution_count": 8,
     "metadata": {},
     "output_type": "execute_result"
    }
   ],
   "source": [
    "results.shape"
   ]
  },
  {
   "cell_type": "code",
   "execution_count": 10,
   "id": "db963333-ffbd-4c4f-b9a8-b49713f0f23d",
   "metadata": {},
   "outputs": [
    {
     "data": {
      "text/plain": [
       "999998584"
      ]
     },
     "execution_count": 10,
     "metadata": {},
     "output_type": "execute_result"
    }
   ],
   "source": [
    "len(np.unique(results))"
   ]
  },
  {
   "cell_type": "code",
   "execution_count": 11,
   "id": "61edfc54-b1db-4e0d-82e4-9b55325c8def",
   "metadata": {},
   "outputs": [
    {
     "data": {
      "text/plain": [
       "True"
      ]
     },
     "execution_count": 11,
     "metadata": {},
     "output_type": "execute_result"
    }
   ],
   "source": [
    "999998584 < 1000000000"
   ]
  },
  {
   "cell_type": "code",
   "execution_count": 12,
   "id": "09890597-755a-480e-925e-b525a010570a",
   "metadata": {},
   "outputs": [
    {
     "data": {
      "text/plain": [
       "1416"
      ]
     },
     "execution_count": 12,
     "metadata": {},
     "output_type": "execute_result"
    }
   ],
   "source": [
    "1000000000 - 999998584"
   ]
  },
  {
   "cell_type": "markdown",
   "id": "013929ba-d0af-456d-b8d2-6dffdf0a15b1",
   "metadata": {},
   "source": [
    "OK so yeah by Pigeonhole principle the results from all of the simulations must have been distinct, good, that's what I wanted to know/confirm. Think it's even enough to confirm the results from each chunk were distinct -- yeah b/c 10 million divided by forty is 250 thousand, which is obviously much larger than this, so even if two chunks shared this many elements in common, which is the largest possible number they could have had in common, they still would have been distinct. OK, good sanity check, yay, phew"
   ]
  },
  {
   "cell_type": "code",
   "execution_count": 13,
   "id": "6aaaf277-1b52-4efa-8fc9-16af1a196ce7",
   "metadata": {},
   "outputs": [],
   "source": [
    "np.savez_compressed('complete_chi2_simulation.npz', chi2_stats=results)"
   ]
  },
  {
   "cell_type": "code",
   "execution_count": 14,
   "id": "97294648-4b28-4865-9718-9c2d39f26358",
   "metadata": {},
   "outputs": [],
   "source": [
    "npzfile = np.load('complete_chi2_simulation.npz')"
   ]
  },
  {
   "cell_type": "code",
   "execution_count": 15,
   "id": "116f956c-8f37-4069-a93b-3b72032f4cf3",
   "metadata": {},
   "outputs": [],
   "source": [
    "test = npzfile['chi2_stats']"
   ]
  },
  {
   "cell_type": "code",
   "execution_count": 16,
   "id": "1dcebca4-bcae-44c2-a5ba-57c74463131f",
   "metadata": {},
   "outputs": [
    {
     "data": {
      "text/plain": [
       "(1000000000,)"
      ]
     },
     "execution_count": 16,
     "metadata": {},
     "output_type": "execute_result"
    }
   ],
   "source": [
    "test.shape"
   ]
  },
  {
   "cell_type": "code",
   "execution_count": 17,
   "id": "ea690b25-833e-4392-b511-edc6f1f85d5d",
   "metadata": {},
   "outputs": [
    {
     "data": {
      "text/plain": [
       "True"
      ]
     },
     "execution_count": 17,
     "metadata": {},
     "output_type": "execute_result"
    }
   ],
   "source": [
    "np.all(results == test)"
   ]
  },
  {
   "cell_type": "markdown",
   "id": "f40b63f2-eb71-4257-8107-ce737fca209b",
   "metadata": {},
   "source": [
    "OK, great, fantastic, great. yay. we're done now"
   ]
  }
 ],
 "metadata": {
  "kernelspec": {
   "display_name": "Python 3",
   "language": "python",
   "name": "python3"
  },
  "language_info": {
   "codemirror_mode": {
    "name": "ipython",
    "version": 3
   },
   "file_extension": ".py",
   "mimetype": "text/x-python",
   "name": "python",
   "nbconvert_exporter": "python",
   "pygments_lexer": "ipython3",
   "version": "3.9.2"
  }
 },
 "nbformat": 4,
 "nbformat_minor": 5
}
