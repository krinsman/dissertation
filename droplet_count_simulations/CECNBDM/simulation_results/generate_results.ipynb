{
 "cells": [
  {
   "cell_type": "code",
   "execution_count": 1,
   "id": "b2e40103-5046-435c-af70-956af7ebbc41",
   "metadata": {
    "execution": {
     "iopub.execute_input": "2021-05-30T02:49:40.244879Z",
     "iopub.status.busy": "2021-05-30T02:49:40.243349Z",
     "iopub.status.idle": "2021-05-30T02:49:40.896838Z",
     "shell.execute_reply": "2021-05-30T02:49:40.895239Z"
    },
    "tags": []
   },
   "outputs": [],
   "source": [
    "import papermill as pm\n",
    "import multiprocessing as mp\n",
    "from datetime import datetime\n",
    "import traceback"
   ]
  },
  {
   "cell_type": "code",
   "execution_count": 2,
   "id": "534d6c59-63dd-4712-b372-3c422d833383",
   "metadata": {
    "execution": {
     "iopub.execute_input": "2021-05-30T02:49:40.907325Z",
     "iopub.status.busy": "2021-05-30T02:49:40.905869Z",
     "iopub.status.idle": "2021-05-30T02:49:40.909624Z",
     "shell.execute_reply": "2021-05-30T02:49:40.910816Z"
    }
   },
   "outputs": [],
   "source": [
    "number_simulations = 500\n",
    "number_samples = int(15e6)\n",
    "rate = 2\n",
    "entropy = 42\n",
    "mean_concentration = 1"
   ]
  },
  {
   "cell_type": "code",
   "execution_count": 3,
   "id": "36041697-c821-4bf8-aee9-b0d006f47371",
   "metadata": {
    "execution": {
     "iopub.execute_input": "2021-05-30T02:49:40.920251Z",
     "iopub.status.busy": "2021-05-30T02:49:40.918791Z",
     "iopub.status.idle": "2021-05-30T02:49:40.923807Z",
     "shell.execute_reply": "2021-05-30T02:49:40.922358Z"
    }
   },
   "outputs": [],
   "source": [
    "simulation_numbers = list(range(1, number_simulations+1))"
   ]
  },
  {
   "cell_type": "code",
   "execution_count": 4,
   "id": "9b82147d-c53a-4134-9502-b3ec2d880f12",
   "metadata": {
    "execution": {
     "iopub.execute_input": "2021-05-30T02:49:40.933262Z",
     "iopub.status.busy": "2021-05-30T02:49:40.931792Z",
     "iopub.status.idle": "2021-05-30T02:49:40.936987Z",
     "shell.execute_reply": "2021-05-30T02:49:40.935521Z"
    }
   },
   "outputs": [],
   "source": [
    "prettify = lambda integer: str(integer).zfill(len(str(number_simulations)))"
   ]
  },
  {
   "cell_type": "code",
   "execution_count": 5,
   "id": "e57b030c-b0a9-4c97-93ec-6823e146faee",
   "metadata": {
    "execution": {
     "iopub.execute_input": "2021-05-30T02:49:40.950819Z",
     "iopub.status.busy": "2021-05-30T02:49:40.947634Z",
     "iopub.status.idle": "2021-05-30T02:49:40.954740Z",
     "shell.execute_reply": "2021-05-30T02:49:40.955892Z"
    },
    "tags": []
   },
   "outputs": [],
   "source": [
    "input_notebook_names = ['notebook_template.ipynb' for simulation_number in simulation_numbers]\n",
    "\n",
    "output_notebook_names = ['notebook_logs/results_log.{}.ag.ipynb'.format(prettify(simulation_number))\n",
    "                        for simulation_number in simulation_numbers]\n",
    "\n",
    "parameter_dicts = [{'number_simulations':number_simulations, 'simulation_number':simulation_number,\n",
    "                   'number_samples':number_samples, 'rate':rate, 'entropy':entropy, \n",
    "                    'mean_concentration': mean_concentration}\n",
    "                  for simulation_number in simulation_numbers]"
   ]
  },
  {
   "cell_type": "code",
   "execution_count": 6,
   "id": "b2c893ec-bd52-41eb-bb8b-4b8076ccf34b",
   "metadata": {
    "execution": {
     "iopub.execute_input": "2021-05-30T02:49:40.967585Z",
     "iopub.status.busy": "2021-05-30T02:49:40.966109Z",
     "iopub.status.idle": "2021-05-30T02:49:40.969869Z",
     "shell.execute_reply": "2021-05-30T02:49:40.971076Z"
    }
   },
   "outputs": [],
   "source": [
    "parallel_input = [[input_notebook_name, output_notebook_name, parameter_dict]\n",
    "                 for input_notebook_name, output_notebook_name, parameter_dict\n",
    "                 in zip(input_notebook_names, output_notebook_names, parameter_dicts)]"
   ]
  },
  {
   "cell_type": "code",
   "execution_count": 7,
   "id": "2d73f940-274e-4c03-965e-a9fd3ddf6430",
   "metadata": {
    "execution": {
     "iopub.execute_input": "2021-05-30T02:49:40.985205Z",
     "iopub.status.busy": "2021-05-30T02:49:40.983705Z",
     "iopub.status.idle": "2021-05-30T03:49:01.167832Z",
     "shell.execute_reply": "2021-05-30T03:49:01.169338Z"
    }
   },
   "outputs": [
    {
     "name": "stdout",
     "output_type": "stream",
     "text": [
      "CPU times: user 1.27 s, sys: 1.83 s, total: 3.1 s\n",
      "Wall time: 59min 20s\n"
     ]
    }
   ],
   "source": [
    "%%time\n",
    "try:\n",
    "    with mp.get_context(\"spawn\").Pool(35) as pool:\n",
    "        pool.starmap(pm.execute_notebook, parallel_input)\n",
    "        pool.close()\n",
    "        pool.join()\n",
    "# These errors usually don't seem to actually matter. All of the results still get produced\n",
    "# and I'm not sure what the cause is, and I don't really care. Maybe it's the %%time.\n",
    "# I just want some record of how slow this is, is that so much to ask? yes I get that a\n",
    "# Jupyter cell magic probably is not the correct way to do it, but I'm a small person who\n",
    "# wants to stick what they're familiar and comfortable with sometimes, OK? Sorry...\n",
    "except RuntimeError as error_message:\n",
    "    timestamp_filename = datetime.now().strftime('%m-%d-%Y.at.%H_%M_%S.log')\n",
    "    with open('error_logs/{}'.format(timestamp_filename), 'a') as file_pointer:\n",
    "        file_pointer.write(str(error_message))\n",
    "        file_pointer.write(traceback.format_exc())"
   ]
  }
 ],
 "metadata": {
  "kernelspec": {
   "display_name": "Python 3",
   "language": "python",
   "name": "python3"
  },
  "language_info": {
   "codemirror_mode": {
    "name": "ipython",
    "version": 3
   },
   "file_extension": ".py",
   "mimetype": "text/x-python",
   "name": "python",
   "nbconvert_exporter": "python",
   "pygments_lexer": "ipython3",
   "version": "3.9.2"
  }
 },
 "nbformat": 4,
 "nbformat_minor": 5
}
