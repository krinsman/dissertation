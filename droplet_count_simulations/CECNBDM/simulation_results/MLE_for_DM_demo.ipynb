{
 "cells": [
  {
   "cell_type": "code",
   "execution_count": 1,
   "id": "0a57ea4e-3585-4d9b-826f-c9ccaa4de389",
   "metadata": {
    "execution": {
     "iopub.execute_input": "2021-09-08T00:45:11.933093Z",
     "iopub.status.busy": "2021-09-08T00:45:11.922451Z",
     "iopub.status.idle": "2021-09-08T00:45:11.945712Z",
     "shell.execute_reply": "2021-09-08T00:45:11.944460Z"
    }
   },
   "outputs": [],
   "source": [
    "from glob import glob\n",
    "\n",
    "filenames = sorted(list(glob('npzfiles/*.npz')))"
   ]
  },
  {
   "cell_type": "code",
   "execution_count": 2,
   "id": "94572c18-6571-42d1-bac6-201df7773c70",
   "metadata": {
    "execution": {
     "iopub.execute_input": "2021-09-08T00:45:11.954123Z",
     "iopub.status.busy": "2021-09-08T00:45:11.953010Z",
     "iopub.status.idle": "2021-09-08T00:45:13.505403Z",
     "shell.execute_reply": "2021-09-08T00:45:13.504434Z"
    }
   },
   "outputs": [],
   "source": [
    "import numpy as np\n",
    "from simulations.concentrations.MLE import get_DM_score_function\n",
    "\n",
    "from scipy.optimize import root_scalar, fsolve"
   ]
  },
  {
   "cell_type": "code",
   "execution_count": 3,
   "id": "baf9b268-180b-4c2d-b1cb-480d12cdf570",
   "metadata": {
    "execution": {
     "iopub.execute_input": "2021-09-08T00:45:13.519092Z",
     "iopub.status.busy": "2021-09-08T00:45:13.518122Z",
     "iopub.status.idle": "2021-09-08T00:45:56.711389Z",
     "shell.execute_reply": "2021-09-08T00:45:56.710135Z"
    }
   },
   "outputs": [],
   "source": [
    "import re\n",
    "from zipfile import BadZipfile\n",
    "\n",
    "base_relative_abundances = [1e-4, 1e-3, 1e-2]\n",
    "\n",
    "relative_abundances = [relative_abundance * number\n",
    "                       for relative_abundance \n",
    "                       in base_relative_abundances\n",
    "                       for number in (1,2,5) \n",
    "                       for repeat in range(10)]\n",
    "\n",
    "relative_abundances += [1-sum(relative_abundances)]\n",
    "frequencies = np.array(relative_abundances)\n",
    "\n",
    "sim_num = re.findall(r'.*\\.([0-9]+)\\.npz', filenames[0])[0]\n",
    "\n",
    "npzfile = np.load(filenames[0])\n",
    "droplets = npzfile['droplets']\n"
   ]
  },
  {
   "cell_type": "code",
   "execution_count": 4,
   "id": "be742550-0e47-4327-9118-770801224ed8",
   "metadata": {
    "execution": {
     "iopub.execute_input": "2021-09-08T00:45:56.719676Z",
     "iopub.status.busy": "2021-09-08T00:45:56.718245Z",
     "iopub.status.idle": "2021-09-08T00:45:59.281646Z",
     "shell.execute_reply": "2021-09-08T00:45:59.282188Z"
    }
   },
   "outputs": [
    {
     "data": {
      "text/plain": [
       "942"
      ]
     },
     "execution_count": 1,
     "metadata": {},
     "output_type": "execute_result"
    }
   ],
   "source": [
    "np.max(droplets)"
   ]
  },
  {
   "cell_type": "markdown",
   "id": "9004a4fc-c248-4617-bb82-95a28bf0566a",
   "metadata": {},
   "source": [
    "^ OK so that explains why the code is messed up/doesn't work well -- the process of trying to compute the weights creates a dictionary where each entry is a huge boolean corresponding to each observed strain specific number. I was thinking that `strain_specific_M` would be at most like 10, but if it's 942 as in this case -- well obviously it works out poorly.\n",
    "\n",
    "like imagine trying to store $942$ boolean arrays of size 15 million by 91 or whatever in memory -- of course there would be a memory leak..."
   ]
  },
  {
   "cell_type": "code",
   "execution_count": 5,
   "id": "099a7c52-9890-4536-85b6-0c86741147ec",
   "metadata": {
    "execution": {
     "iopub.execute_input": "2021-09-08T00:45:59.288298Z",
     "iopub.status.busy": "2021-09-08T00:45:59.287659Z",
     "iopub.status.idle": "2021-09-08T00:45:59.291111Z",
     "shell.execute_reply": "2021-09-08T00:45:59.290585Z"
    }
   },
   "outputs": [],
   "source": [
    "number_droplets, number_strains = droplets.shape\n",
    "max_guess_value = 10000\n",
    "\n",
    "small_val_size = 10000\n",
    "small_val_iterations = number_droplets // small_val_size\n",
    "small_val_results = np.zeros(small_val_iterations)"
   ]
  },
  {
   "cell_type": "code",
   "execution_count": 6,
   "id": "d6e0813c-011c-47c4-af8b-32b5df82ebfe",
   "metadata": {
    "execution": {
     "iopub.execute_input": "2021-09-08T00:45:59.295952Z",
     "iopub.status.busy": "2021-09-08T00:45:59.295333Z",
     "iopub.status.idle": "2021-09-08T00:45:59.322502Z",
     "shell.execute_reply": "2021-09-08T00:45:59.321900Z"
    }
   },
   "outputs": [],
   "source": [
    "batch = droplets[18*small_val_size:(18+1)*small_val_size,:]\n",
    "score_function = get_DM_score_function(batch, frequencies)"
   ]
  },
  {
   "cell_type": "code",
   "execution_count": 7,
   "id": "f26c9bf2-03e0-4196-bae8-7abf6b892b54",
   "metadata": {
    "execution": {
     "iopub.execute_input": "2021-09-08T00:45:59.327732Z",
     "iopub.status.busy": "2021-09-08T00:45:59.327089Z",
     "iopub.status.idle": "2021-09-08T00:45:59.359891Z",
     "shell.execute_reply": "2021-09-08T00:45:59.358931Z"
    }
   },
   "outputs": [
    {
     "data": {
      "text/plain": [
       "0.28940260440232574"
      ]
     },
     "execution_count": 1,
     "metadata": {},
     "output_type": "execute_result"
    }
   ],
   "source": [
    "from simulations.concentrations import get_plugin_categorical_concentration\n",
    "guess_value = get_plugin_categorical_concentration(batch)\n",
    "guess_value"
   ]
  },
  {
   "cell_type": "code",
   "execution_count": 8,
   "id": "5f75d49f-8f60-48b6-9208-f0bed36d6ca6",
   "metadata": {
    "execution": {
     "iopub.execute_input": "2021-09-08T00:45:59.366253Z",
     "iopub.status.busy": "2021-09-08T00:45:59.365303Z",
     "iopub.status.idle": "2021-09-08T00:45:59.369526Z",
     "shell.execute_reply": "2021-09-08T00:45:59.370277Z"
    }
   },
   "outputs": [
    {
     "data": {
      "text/plain": [
       "97660422.36644673"
      ]
     },
     "execution_count": 1,
     "metadata": {},
     "output_type": "execute_result"
    }
   ],
   "source": [
    "score_function(0.0001)"
   ]
  },
  {
   "cell_type": "code",
   "execution_count": 9,
   "id": "3d448c4e-b65f-4f77-91d4-5e8110caf1ab",
   "metadata": {
    "execution": {
     "iopub.execute_input": "2021-09-08T00:45:59.376266Z",
     "iopub.status.busy": "2021-09-08T00:45:59.375301Z",
     "iopub.status.idle": "2021-09-08T00:45:59.380247Z",
     "shell.execute_reply": "2021-09-08T00:45:59.379445Z"
    }
   },
   "outputs": [
    {
     "data": {
      "text/plain": [
       "-8.178975656747411e-06"
      ]
     },
     "execution_count": 1,
     "metadata": {},
     "output_type": "execute_result"
    }
   ],
   "source": [
    "score_function(10000)"
   ]
  },
  {
   "cell_type": "code",
   "execution_count": 10,
   "id": "671afd63-a6f3-4e85-a52a-15276fb65bbd",
   "metadata": {
    "execution": {
     "iopub.execute_input": "2021-09-08T00:45:59.386183Z",
     "iopub.status.busy": "2021-09-08T00:45:59.385254Z",
     "iopub.status.idle": "2021-09-08T00:45:59.392567Z",
     "shell.execute_reply": "2021-09-08T00:45:59.393321Z"
    }
   },
   "outputs": [
    {
     "data": {
      "text/plain": [
       "      converged: True\n",
       "           flag: 'converged'\n",
       " function_calls: 27\n",
       "     iterations: 26\n",
       "           root: 0.2597639822868309"
      ]
     },
     "execution_count": 1,
     "metadata": {},
     "output_type": "execute_result"
    }
   ],
   "source": [
    "result = root_scalar(f=score_function, x0=guess_value, bracket=(1./max_guess_value,max_guess_value))\n",
    "result"
   ]
  },
  {
   "cell_type": "code",
   "execution_count": 11,
   "id": "d8680ce0-a9ad-4f95-98fe-61db4fe11f4a",
   "metadata": {
    "execution": {
     "iopub.execute_input": "2021-09-08T00:45:59.399129Z",
     "iopub.status.busy": "2021-09-08T00:45:59.398158Z",
     "iopub.status.idle": "2021-09-08T00:45:59.402451Z",
     "shell.execute_reply": "2021-09-08T00:45:59.403205Z"
    }
   },
   "outputs": [
    {
     "data": {
      "text/plain": [
       "0.2597639822868309"
      ]
     },
     "execution_count": 1,
     "metadata": {},
     "output_type": "execute_result"
    }
   ],
   "source": [
    "result.root"
   ]
  },
  {
   "cell_type": "code",
   "execution_count": 12,
   "id": "3a26ca82-178a-45a4-9ada-a3775709908d",
   "metadata": {
    "execution": {
     "iopub.execute_input": "2021-09-08T00:45:59.431663Z",
     "iopub.status.busy": "2021-09-08T00:45:59.428537Z",
     "iopub.status.idle": "2021-09-08T00:45:59.435460Z",
     "shell.execute_reply": "2021-09-08T00:45:59.434626Z"
    }
   },
   "outputs": [],
   "source": [
    "import re\n",
    "\n",
    "from zipfile import BadZipfile\n",
    "\n",
    "import numpy as np\n",
    "from simulations.concentrations.MLE import get_DM_score_function\n",
    "from simulations.concentrations import get_plugin_categorical_concentration\n",
    "\n",
    "from scipy.optimize import root_scalar, fsolve\n",
    "\n",
    "def get_DM_MLE(filename):\n",
    "\n",
    "    base_relative_abundances = [1e-4, 1e-3, 1e-2]\n",
    "\n",
    "    relative_abundances = [relative_abundance * number\n",
    "                           for relative_abundance \n",
    "                           in base_relative_abundances\n",
    "                           for number in (1,2,5) \n",
    "                           for repeat in range(10)]\n",
    "\n",
    "    relative_abundances += [1-sum(relative_abundances)]\n",
    "    frequencies = np.array(relative_abundances)\n",
    "\n",
    "    sim_num = re.findall(r'.*\\.([0-9]+)\\.npz', filename)[0]\n",
    "    try:\n",
    "        results_file = np.load('concentration_ML_estimates/simulation.{}.compositional.npz'.format(sim_num))\n",
    "        assert set(results_file.files) == {\"small_batches\", \"medium_batches\", \"whole_sim\"}\n",
    "    except (BadZipfile, FileNotFoundError, AssertionError):\n",
    "        npzfile = np.load(filename)\n",
    "        droplets = npzfile['droplets']\n",
    "\n",
    "        number_droplets, number_strains = droplets.shape\n",
    "        max_guess_value = 10000\n",
    "\n",
    "        small_val_size = 10000\n",
    "        small_val_iterations = number_droplets // small_val_size\n",
    "        small_val_results = np.zeros(small_val_iterations)\n",
    "\n",
    "        print(\"beginning small batches\")\n",
    "        \n",
    "        for iter_num in range(small_val_iterations):\n",
    "            print(\"small batch #{}\".format(iter_num+1))\n",
    "            batch = droplets[iter_num*small_val_size:(iter_num+1)*small_val_size,:]\n",
    "            score_function = get_DM_score_function(batch, frequencies)\n",
    "            # super inefficient b/c plugin also slow and would be better to\n",
    "            # read results from a file because we already have them. but i'm lazy\n",
    "            guess_value = get_plugin_categorical_concentration(batch)\n",
    "            if guess_value >= max_guess_value:\n",
    "                guess_value = max_guess_value/2.\n",
    "            # do f(a) and f(b) have the same signs? if so then scipy won't let\n",
    "            # you use bracketed method. kind of dumb, like a root might still exist\n",
    "            if (score_function(1./max_guess_value) > 0) == (score_function(max_guess_value) > 0):\n",
    "                result = fsolve(func=score_function, x0=guess_value, full_output=True)\n",
    "                # if exit code is not 1 (successful) then usually means it failed to converge\n",
    "                # after many steps because \"root\" is at infinity (usually, but you know sometimes \n",
    "                # there's numerical instability and yadda yadda). so if the root-finding algorithm \n",
    "                # exited unsuccessfully and the value is large, assume that's what happened.\n",
    "                # https://docs.scipy.org/doc/scipy/reference/generated/scipy.optimize.fsolve.html\n",
    "                if result[2] != 1 and result[0] > max_guess_value:\n",
    "                    result = np.inf\n",
    "                else:\n",
    "                    result = result[0]\n",
    "            else:\n",
    "                result = root_scalar(f=score_function, x0=guess_value, bracket=(1./max_guess_value,max_guess_value))\n",
    "                result = result.root # want result to be scalar, not `RootResults`\n",
    "            small_val_results[iter_num] = max(result, 0) # negative results obviously nonsensical\n",
    "\n",
    "        print(\"beginning medium batches\")\n",
    "            \n",
    "        med_val_size = 500000\n",
    "        med_val_iterations = number_droplets // med_val_size\n",
    "        med_val_results = np.zeros(med_val_iterations)\n",
    "\n",
    "        for iter_num in range(med_val_iterations):\n",
    "            print(\"medium batch #{}\".format(iter_num+1))\n",
    "            batch = droplets[iter_num*med_val_size:(iter_num+1)*med_val_size,:]\n",
    "            score_function = get_DM_score_function(batch, frequencies)\n",
    "            # super inefficient b/c plugin also slow and would be better to\n",
    "            # read results from a file because we already have them. but i'm lazy\n",
    "            guess_value = get_plugin_categorical_concentration(batch)\n",
    "            ### see analogous comments above for small batches\n",
    "            if guess_value >= max_guess_value:\n",
    "                guess_value = max_guess_value/2.\n",
    "            if (score_function(1./max_guess_value) > 0) == (score_function(max_guess_value) > 0):\n",
    "                result = fsolve(func=score_function, x0=guess_value, full_output=True)\n",
    "                if result[2] != 1 and result[0] > max_guess_value:\n",
    "                    result = np.inf\n",
    "                else:\n",
    "                    result = result[0]\n",
    "            else:\n",
    "                result = root_scalar(f=score_function, x0=guess_value, bracket=(1./max_guess_value,max_guess_value))\n",
    "                result = result.root # want result to be scalar, not `RootResults`\n",
    "            ###\n",
    "            med_val_results[iter_num] = max(result, 0)\n",
    "\n",
    "        print(\"beginning whole batch\")\n",
    "        whole_sim_results = np.zeros(1)\n",
    "        score_function = get_DM_score_function(droplets, frequencies)\n",
    "        # super inefficient b/c plugin also slow and would be better to\n",
    "        # read results from a file because we already have them. but i'm lazy\n",
    "        guess_value = get_plugin_categorical_concentration(droplets)\n",
    "        ### see analogous comments above for small batches\n",
    "        if guess_value >= max_guess_value:\n",
    "            guess_value = max_guess_value/2.\n",
    "        if (score_function(1./max_guess_value) > 0) == (score_function(max_guess_value) > 0):\n",
    "            result = fsolve(func=score_function, x0=guess_value, full_output=True)\n",
    "            if result[2] != 1 and result[0] > max_guess_value:\n",
    "                result = np.inf\n",
    "            else:\n",
    "                result = result[0]\n",
    "        else:\n",
    "            result = root_scalar(f=score_function, x0=guess_value, bracket=(1./max_guess_value,max_guess_value))\n",
    "            result = result.root # want result to be scalar, not `RootResults`\n",
    "        ###\n",
    "        whole_sim_results[0] = max(result, 0)\n",
    "\n",
    "        results = {\"small_batches\":small_val_results, \"medium_batches\":med_val_results, \"whole_sim\":whole_sim_results}\n",
    "        np.savez_compressed('concentration_ML_estimates/simulation.{}.compositional.npz'.format(sim_num), **results)\n",
    "        \n",
    "    # give map/starmap something to chew on\n",
    "    return 0"
   ]
  },
  {
   "cell_type": "code",
   "execution_count": 13,
   "id": "c2cf193f-d647-482c-bd0b-bea78b2c4a43",
   "metadata": {
    "execution": {
     "iopub.execute_input": "2021-09-08T00:45:59.440890Z",
     "iopub.status.busy": "2021-09-08T00:45:59.439947Z",
     "iopub.status.idle": "2021-09-08T00:45:59.446783Z",
     "shell.execute_reply": "2021-09-08T00:45:59.445980Z"
    }
   },
   "outputs": [
    {
     "data": {
      "text/plain": [
       "0"
      ]
     },
     "execution_count": 1,
     "metadata": {},
     "output_type": "execute_result"
    }
   ],
   "source": [
    "get_DM_MLE(filenames[0])\n"
   ]
  },
  {
   "cell_type": "code",
   "execution_count": 14,
   "id": "98c17117-a548-4f0a-9c8d-de10a2646ad9",
   "metadata": {
    "execution": {
     "iopub.execute_input": "2021-09-08T00:45:59.452172Z",
     "iopub.status.busy": "2021-09-08T00:45:59.451242Z",
     "iopub.status.idle": "2021-09-08T00:45:59.455500Z",
     "shell.execute_reply": "2021-09-08T00:45:59.454527Z"
    }
   },
   "outputs": [],
   "source": [
    "npzfile = np.load('concentration_ML_estimates/simulation.001.compositional.npz')"
   ]
  },
  {
   "cell_type": "code",
   "execution_count": 15,
   "id": "0173c2d7-50c9-4bc1-b5d1-b183289a0d2d",
   "metadata": {
    "execution": {
     "iopub.execute_input": "2021-09-08T00:45:59.462471Z",
     "iopub.status.busy": "2021-09-08T00:45:59.461519Z",
     "iopub.status.idle": "2021-09-08T00:45:59.466795Z",
     "shell.execute_reply": "2021-09-08T00:45:59.465853Z"
    }
   },
   "outputs": [
    {
     "data": {
      "text/plain": [
       "array([0.23840612])"
      ]
     },
     "execution_count": 1,
     "metadata": {},
     "output_type": "execute_result"
    }
   ],
   "source": [
    "npzfile['whole_sim']"
   ]
  },
  {
   "cell_type": "code",
   "execution_count": 16,
   "id": "c2e37a81-105c-4bb0-8828-c4137d455944",
   "metadata": {
    "execution": {
     "iopub.execute_input": "2021-09-08T00:45:59.473740Z",
     "iopub.status.busy": "2021-09-08T00:45:59.472803Z",
     "iopub.status.idle": "2021-09-08T00:45:59.477871Z",
     "shell.execute_reply": "2021-09-08T00:45:59.477079Z"
    }
   },
   "outputs": [
    {
     "data": {
      "text/plain": [
       "array([0.23592181, 0.23631105, 0.23843325, 0.23893931, 0.24396309,\n",
       "       0.23973328, 0.23492486, 0.23879237, 0.23860313, 0.2418561 ,\n",
       "       0.24000792, 0.23553467, 0.23662264, 0.237833  , 0.23748663,\n",
       "       0.23936216, 0.23710567, 0.23920434, 0.23791687, 0.23909062,\n",
       "       0.23958914, 0.23989035, 0.23860835, 0.2346297 , 0.23635453,\n",
       "       0.24029144, 0.23928228, 0.23977637, 0.23839106, 0.2383543 ])"
      ]
     },
     "execution_count": 1,
     "metadata": {},
     "output_type": "execute_result"
    }
   ],
   "source": [
    "npzfile['medium_batches']"
   ]
  },
  {
   "cell_type": "code",
   "execution_count": 17,
   "id": "c6a546e5-6e1d-4943-b000-8c71720bb430",
   "metadata": {
    "execution": {
     "iopub.execute_input": "2021-09-08T00:45:59.482898Z",
     "iopub.status.busy": "2021-09-08T00:45:59.481963Z",
     "iopub.status.idle": "2021-09-08T00:45:59.488691Z",
     "shell.execute_reply": "2021-09-08T00:45:59.487801Z"
    }
   },
   "outputs": [
    {
     "data": {
      "text/plain": [
       "array([0.21355107, 0.23044241, 0.23757938, ..., 0.20770413, 0.24851112,\n",
       "       0.21896893])"
      ]
     },
     "execution_count": 1,
     "metadata": {},
     "output_type": "execute_result"
    }
   ],
   "source": [
    "npzfile['small_batches']"
   ]
  },
  {
   "cell_type": "markdown",
   "id": "c6d694e0-2416-44d0-bd32-66cc78f0aa12",
   "metadata": {},
   "source": [
    "## Example"
   ]
  },
  {
   "cell_type": "code",
   "execution_count": 18,
   "id": "a374df66-6893-451a-88cf-0333a90f3c75",
   "metadata": {
    "execution": {
     "iopub.execute_input": "2021-09-08T00:45:59.494101Z",
     "iopub.status.busy": "2021-09-08T00:45:59.493168Z",
     "iopub.status.idle": "2021-09-08T01:49:04.657636Z",
     "shell.execute_reply": "2021-09-08T01:49:04.655941Z"
    }
   },
   "outputs": [],
   "source": [
    "score_function = get_DM_score_function(droplets, frequencies)"
   ]
  },
  {
   "cell_type": "code",
   "execution_count": 19,
   "id": "cc78b843-c18c-41e5-b600-6ddeed76d708",
   "metadata": {
    "execution": {
     "iopub.execute_input": "2021-09-08T01:49:04.669219Z",
     "iopub.status.busy": "2021-09-08T01:49:04.667745Z",
     "iopub.status.idle": "2021-09-08T01:49:04.670647Z",
     "shell.execute_reply": "2021-09-08T01:49:04.671684Z"
    }
   },
   "outputs": [],
   "source": [
    "from scipy.optimize import fsolve"
   ]
  },
  {
   "cell_type": "markdown",
   "id": "994e363c-16ce-4d12-a029-f356a333e54d",
   "metadata": {},
   "source": [
    "`fsolve` more general framework/wrapper, but seem to get better results using more 'targeted' options"
   ]
  },
  {
   "cell_type": "code",
   "execution_count": 20,
   "id": "5f5e4451-10ac-42ea-a8c7-402f85b304c3",
   "metadata": {
    "execution": {
     "iopub.execute_input": "2021-09-08T01:49:04.681549Z",
     "iopub.status.busy": "2021-09-08T01:49:04.680145Z",
     "iopub.status.idle": "2021-09-08T01:49:04.837380Z",
     "shell.execute_reply": "2021-09-08T01:49:04.838549Z"
    }
   },
   "outputs": [
    {
     "data": {
      "text/plain": [
       "(array([7.84515051e+13]),\n",
       " {'nfev': 121,\n",
       "  'fjac': array([[-1.]]),\n",
       "  'r': array([5.9387686e-32]),\n",
       "  'qtf': array([3.70576914e-22]),\n",
       "  'fvec': -3.705769144237564e-22},\n",
       " 5,\n",
       " 'The iteration is not making good progress, as measured by the \\n  improvement from the last ten iterations.')"
      ]
     },
     "execution_count": 1,
     "metadata": {},
     "output_type": "execute_result"
    }
   ],
   "source": [
    "fsolve(score_function, 2, full_output=True)"
   ]
  },
  {
   "cell_type": "code",
   "execution_count": 21,
   "id": "a980154f-65e4-4309-9c9f-b97f20e944ba",
   "metadata": {
    "execution": {
     "iopub.execute_input": "2021-09-08T01:49:04.847644Z",
     "iopub.status.busy": "2021-09-08T01:49:04.846150Z",
     "iopub.status.idle": "2021-09-08T01:49:04.876485Z",
     "shell.execute_reply": "2021-09-08T01:49:04.877421Z"
    }
   },
   "outputs": [
    {
     "data": {
      "text/plain": [
       "      converged: True\n",
       "           flag: 'converged'\n",
       " function_calls: 28\n",
       "     iterations: 27\n",
       "           root: 0.23840612199479064"
      ]
     },
     "execution_count": 1,
     "metadata": {},
     "output_type": "execute_result"
    }
   ],
   "source": [
    "root_scalar(f=score_function, x0=2, bracket=(0.0001,10000))"
   ]
  },
  {
   "cell_type": "code",
   "execution_count": 22,
   "id": "e8d523a7-b9c3-4358-b0c5-c802fe139f3e",
   "metadata": {
    "execution": {
     "iopub.execute_input": "2021-09-08T01:49:04.885346Z",
     "iopub.status.busy": "2021-09-08T01:49:04.884305Z",
     "iopub.status.idle": "2021-09-08T01:49:04.915528Z",
     "shell.execute_reply": "2021-09-08T01:49:04.914066Z"
    }
   },
   "outputs": [],
   "source": [
    "result = root_scalar(f=score_function, x0=2, bracket=(0.0001,10000))"
   ]
  },
  {
   "cell_type": "code",
   "execution_count": 23,
   "id": "d8014ad8-bc4c-4a7b-bf1d-43055ad205e4",
   "metadata": {
    "execution": {
     "iopub.execute_input": "2021-09-08T01:49:04.924784Z",
     "iopub.status.busy": "2021-09-08T01:49:04.923328Z",
     "iopub.status.idle": "2021-09-08T01:49:04.928590Z",
     "shell.execute_reply": "2021-09-08T01:49:04.929701Z"
    }
   },
   "outputs": [
    {
     "data": {
      "text/plain": [
       "0.23840612199479064"
      ]
     },
     "execution_count": 1,
     "metadata": {},
     "output_type": "execute_result"
    }
   ],
   "source": [
    "result.root"
   ]
  },
  {
   "cell_type": "code",
   "execution_count": 24,
   "id": "49ba6374-33e1-4274-9723-9c1af8ed7ba3",
   "metadata": {
    "execution": {
     "iopub.execute_input": "2021-09-08T01:49:04.938724Z",
     "iopub.status.busy": "2021-09-08T01:49:04.937181Z",
     "iopub.status.idle": "2021-09-08T01:49:04.943476Z",
     "shell.execute_reply": "2021-09-08T01:49:04.942295Z"
    }
   },
   "outputs": [
    {
     "data": {
      "text/plain": [
       "0.23840612199479064"
      ]
     },
     "execution_count": 1,
     "metadata": {},
     "output_type": "execute_result"
    }
   ],
   "source": [
    "float(result.root)"
   ]
  },
  {
   "cell_type": "code",
   "execution_count": 25,
   "id": "4f930906-751c-4ee6-8b3c-f14af4ba17ef",
   "metadata": {
    "execution": {
     "iopub.execute_input": "2021-09-08T01:49:04.952543Z",
     "iopub.status.busy": "2021-09-08T01:49:04.951149Z",
     "iopub.status.idle": "2021-09-08T01:49:04.956160Z",
     "shell.execute_reply": "2021-09-08T01:49:04.957425Z"
    }
   },
   "outputs": [
    {
     "data": {
      "text/plain": [
       "True"
      ]
     },
     "execution_count": 1,
     "metadata": {},
     "output_type": "execute_result"
    }
   ],
   "source": [
    "float(result.root) == result.root"
   ]
  },
  {
   "cell_type": "code",
   "execution_count": 26,
   "id": "4d995dac-8850-4954-bd07-09b2486cb23e",
   "metadata": {
    "execution": {
     "iopub.execute_input": "2021-09-08T01:49:04.965942Z",
     "iopub.status.busy": "2021-09-08T01:49:04.964571Z",
     "iopub.status.idle": "2021-09-08T01:49:05.087947Z",
     "shell.execute_reply": "2021-09-08T01:49:05.089265Z"
    }
   },
   "outputs": [
    {
     "data": {
      "text/plain": [
       "(array([4.7868244e+13]),\n",
       " {'nfev': 121,\n",
       "  'fjac': array([[-1.]]),\n",
       "  'r': array([0.]),\n",
       "  'qtf': array([9.52912066e-22]),\n",
       "  'fvec': -9.529120656610879e-22},\n",
       " 5,\n",
       " 'The iteration is not making good progress, as measured by the \\n  improvement from the last ten iterations.')"
      ]
     },
     "execution_count": 1,
     "metadata": {},
     "output_type": "execute_result"
    }
   ],
   "source": [
    "fsolve(score_function, 1, full_output=True)"
   ]
  },
  {
   "cell_type": "code",
   "execution_count": 27,
   "id": "6e8f0fd1-7a78-4c04-b22e-ccc93b154e9d",
   "metadata": {
    "execution": {
     "iopub.execute_input": "2021-09-08T01:49:05.098241Z",
     "iopub.status.busy": "2021-09-08T01:49:05.096745Z",
     "iopub.status.idle": "2021-09-08T01:49:05.222763Z",
     "shell.execute_reply": "2021-09-08T01:49:05.223814Z"
    }
   },
   "outputs": [
    {
     "data": {
      "text/plain": [
       "(array([9.60615871e+13]),\n",
       " {'nfev': 124,\n",
       "  'fjac': array([[-1.]]),\n",
       "  'r': array([0.]),\n",
       "  'qtf': array([1.58818678e-22]),\n",
       "  'fvec': -1.5881867761018131e-22},\n",
       " 5,\n",
       " 'The iteration is not making good progress, as measured by the \\n  improvement from the last ten iterations.')"
      ]
     },
     "execution_count": 1,
     "metadata": {},
     "output_type": "execute_result"
    }
   ],
   "source": [
    "fsolve(score_function, 0.5, full_output=True)"
   ]
  },
  {
   "cell_type": "code",
   "execution_count": 28,
   "id": "01e707a4-d40f-445d-962d-c45b6f769217",
   "metadata": {
    "execution": {
     "iopub.execute_input": "2021-09-08T01:49:05.232539Z",
     "iopub.status.busy": "2021-09-08T01:49:05.231024Z",
     "iopub.status.idle": "2021-09-08T01:49:05.359044Z",
     "shell.execute_reply": "2021-09-08T01:49:05.360087Z"
    }
   },
   "outputs": [
    {
     "data": {
      "text/plain": [
       "(array([1.9400321e+14]),\n",
       " {'nfev': 126,\n",
       "  'fjac': array([[1.]]),\n",
       "  'r': array([0.]),\n",
       "  'qtf': array([-2.64697796e-23]),\n",
       "  'fvec': -2.6469779601696886e-23},\n",
       " 5,\n",
       " 'The iteration is not making good progress, as measured by the \\n  improvement from the last ten iterations.')"
      ]
     },
     "execution_count": 1,
     "metadata": {},
     "output_type": "execute_result"
    }
   ],
   "source": [
    "fsolve(score_function, 1.5, full_output=True)"
   ]
  },
  {
   "cell_type": "code",
   "execution_count": 29,
   "id": "3dfc9cb2-ceca-440e-a4bf-595674fc8c5e",
   "metadata": {
    "execution": {
     "iopub.execute_input": "2021-09-08T01:49:05.368626Z",
     "iopub.status.busy": "2021-09-08T01:49:05.367305Z",
     "iopub.status.idle": "2021-09-08T01:49:05.492700Z",
     "shell.execute_reply": "2021-09-08T01:49:05.493816Z"
    }
   },
   "outputs": [
    {
     "data": {
      "text/plain": [
       "(array([1.04371265e+14]),\n",
       " {'nfev': 123,\n",
       "  'fjac': array([[-1.]]),\n",
       "  'r': array([-5.67319893e-29]),\n",
       "  'qtf': array([1.58818678e-22]),\n",
       "  'fvec': -1.5881867761018131e-22},\n",
       " 5,\n",
       " 'The iteration is not making good progress, as measured by the \\n  improvement from the last ten iterations.')"
      ]
     },
     "execution_count": 1,
     "metadata": {},
     "output_type": "execute_result"
    }
   ],
   "source": [
    "fsolve(score_function, 1.75, full_output=True)"
   ]
  },
  {
   "cell_type": "code",
   "execution_count": 30,
   "id": "7744b548-ad6d-4b15-a3e5-1f95cea93ddd",
   "metadata": {
    "execution": {
     "iopub.execute_input": "2021-09-08T01:49:05.502708Z",
     "iopub.status.busy": "2021-09-08T01:49:05.501190Z",
     "iopub.status.idle": "2021-09-08T01:49:05.532176Z",
     "shell.execute_reply": "2021-09-08T01:49:05.533005Z"
    }
   },
   "outputs": [
    {
     "data": {
      "text/plain": [
       "      converged: True\n",
       "           flag: 'converged'\n",
       " function_calls: 28\n",
       "     iterations: 27\n",
       "           root: 0.23840612199479064"
      ]
     },
     "execution_count": 1,
     "metadata": {},
     "output_type": "execute_result"
    }
   ],
   "source": [
    "root_scalar(f=score_function, x0=1.75, bracket=(0.0001,10000))"
   ]
  },
  {
   "cell_type": "code",
   "execution_count": 31,
   "id": "e2f1e0e5-abcf-4337-9686-01f1cb7ab4eb",
   "metadata": {
    "execution": {
     "iopub.execute_input": "2021-09-08T01:49:05.540732Z",
     "iopub.status.busy": "2021-09-08T01:49:05.539721Z",
     "iopub.status.idle": "2021-09-08T01:49:05.663839Z",
     "shell.execute_reply": "2021-09-08T01:49:05.664652Z"
    }
   },
   "outputs": [
    {
     "data": {
      "text/plain": [
       "(array([9.29088973e+13]),\n",
       " {'nfev': 122,\n",
       "  'fjac': array([[1.]]),\n",
       "  'r': array([0.]),\n",
       "  'qtf': array([-2.64697796e-22]),\n",
       "  'fvec': -2.6469779601696886e-22},\n",
       " 5,\n",
       " 'The iteration is not making good progress, as measured by the \\n  improvement from the last ten iterations.')"
      ]
     },
     "execution_count": 1,
     "metadata": {},
     "output_type": "execute_result"
    }
   ],
   "source": [
    "fsolve(score_function, 1.6, full_output=True)"
   ]
  },
  {
   "cell_type": "code",
   "execution_count": 32,
   "id": "4d31b7ff-37b1-435e-8bbe-21f6518ca79f",
   "metadata": {
    "execution": {
     "iopub.execute_input": "2021-09-08T01:49:05.672735Z",
     "iopub.status.busy": "2021-09-08T01:49:05.671613Z",
     "iopub.status.idle": "2021-09-08T01:49:05.703937Z",
     "shell.execute_reply": "2021-09-08T01:49:05.705005Z"
    }
   },
   "outputs": [
    {
     "data": {
      "text/plain": [
       "      converged: True\n",
       "           flag: 'converged'\n",
       " function_calls: 28\n",
       "     iterations: 27\n",
       "           root: 0.23840612199479064"
      ]
     },
     "execution_count": 1,
     "metadata": {},
     "output_type": "execute_result"
    }
   ],
   "source": [
    "root_scalar(f=score_function, x0=1.6, bracket=(0.0001,10000))"
   ]
  },
  {
   "cell_type": "code",
   "execution_count": 33,
   "id": "f2a6da0b-1a9e-4d42-801c-c28e4d6a77e7",
   "metadata": {
    "execution": {
     "iopub.execute_input": "2021-09-08T01:49:05.713192Z",
     "iopub.status.busy": "2021-09-08T01:49:05.711863Z",
     "iopub.status.idle": "2021-09-08T01:49:05.835861Z",
     "shell.execute_reply": "2021-09-08T01:49:05.836932Z"
    }
   },
   "outputs": [
    {
     "data": {
      "text/plain": [
       "(array([5.89054998e+13]),\n",
       " {'nfev': 121,\n",
       "  'fjac': array([[-1.]]),\n",
       "  'r': array([-7.91777131e-32]),\n",
       "  'qtf': array([6.3527471e-22]),\n",
       "  'fvec': -6.352747104407253e-22},\n",
       " 5,\n",
       " 'The iteration is not making good progress, as measured by the \\n  improvement from the last ten iterations.')"
      ]
     },
     "execution_count": 1,
     "metadata": {},
     "output_type": "execute_result"
    }
   ],
   "source": [
    "fsolve(score_function, 1.55, full_output=True)"
   ]
  },
  {
   "cell_type": "code",
   "execution_count": 34,
   "id": "489d2090-fa26-4b5f-b2e8-c562ede9c5c4",
   "metadata": {
    "execution": {
     "iopub.execute_input": "2021-09-08T01:49:05.845854Z",
     "iopub.status.busy": "2021-09-08T01:49:05.844487Z",
     "iopub.status.idle": "2021-09-08T01:49:05.876518Z",
     "shell.execute_reply": "2021-09-08T01:49:05.877380Z"
    }
   },
   "outputs": [
    {
     "data": {
      "text/plain": [
       "      converged: True\n",
       "           flag: 'converged'\n",
       " function_calls: 28\n",
       "     iterations: 27\n",
       "           root: 0.23840612199479064"
      ]
     },
     "execution_count": 1,
     "metadata": {},
     "output_type": "execute_result"
    }
   ],
   "source": [
    "root_scalar(f=score_function, x0=1.55, bracket=(0.0001,10000))"
   ]
  },
  {
   "cell_type": "code",
   "execution_count": 35,
   "id": "5a2877a1-54cc-483d-8df4-6ccd18e9226f",
   "metadata": {
    "execution": {
     "iopub.execute_input": "2021-09-08T01:49:05.885511Z",
     "iopub.status.busy": "2021-09-08T01:49:05.884424Z",
     "iopub.status.idle": "2021-09-08T01:49:06.015292Z",
     "shell.execute_reply": "2021-09-08T01:49:06.014424Z"
    }
   },
   "outputs": [
    {
     "data": {
      "text/plain": [
       "(array([1.9400321e+14]),\n",
       " {'nfev': 126,\n",
       "  'fjac': array([[1.]]),\n",
       "  'r': array([0.]),\n",
       "  'qtf': array([-2.64697796e-23]),\n",
       "  'fvec': -2.6469779601696886e-23},\n",
       " 5,\n",
       " 'The iteration is not making good progress, as measured by the \\n  improvement from the last ten iterations.')"
      ]
     },
     "execution_count": 1,
     "metadata": {},
     "output_type": "execute_result"
    }
   ],
   "source": [
    "fsolve(score_function, 1.5, full_output=True)"
   ]
  },
  {
   "cell_type": "markdown",
   "id": "6b26de58-f8f4-4643-83c3-da19b1061fc7",
   "metadata": {},
   "source": [
    "#### score function evaluated at some values"
   ]
  },
  {
   "cell_type": "code",
   "execution_count": 36,
   "id": "24e96159-2ee5-4e97-942b-c6fc1e8ea974",
   "metadata": {
    "execution": {
     "iopub.execute_input": "2021-09-08T01:49:06.022425Z",
     "iopub.status.busy": "2021-09-08T01:49:06.021463Z",
     "iopub.status.idle": "2021-09-08T01:49:06.027950Z",
     "shell.execute_reply": "2021-09-08T01:49:06.028770Z"
    }
   },
   "outputs": [
    {
     "data": {
      "text/plain": [
       "-580011.5045608133"
      ]
     },
     "execution_count": 1,
     "metadata": {},
     "output_type": "execute_result"
    }
   ],
   "source": [
    "score_function(0.5)"
   ]
  },
  {
   "cell_type": "code",
   "execution_count": 37,
   "id": "d1dd3fb3-6c20-4105-886f-67a144a90d3f",
   "metadata": {
    "execution": {
     "iopub.execute_input": "2021-09-08T01:49:06.036782Z",
     "iopub.status.busy": "2021-09-08T01:49:06.035359Z",
     "iopub.status.idle": "2021-09-08T01:49:06.041850Z",
     "shell.execute_reply": "2021-09-08T01:49:06.042941Z"
    }
   },
   "outputs": [
    {
     "data": {
      "text/plain": [
       "-316397.2286059186"
      ]
     },
     "execution_count": 1,
     "metadata": {},
     "output_type": "execute_result"
    }
   ],
   "source": [
    "score_function(1)"
   ]
  },
  {
   "cell_type": "code",
   "execution_count": 38,
   "id": "53c4ca83-46dc-4ed0-ab5e-30d06acde3df",
   "metadata": {
    "execution": {
     "iopub.execute_input": "2021-09-08T01:49:06.051210Z",
     "iopub.status.busy": "2021-09-08T01:49:06.049657Z",
     "iopub.status.idle": "2021-09-08T01:49:06.056309Z",
     "shell.execute_reply": "2021-09-08T01:49:06.057514Z"
    }
   },
   "outputs": [
    {
     "data": {
      "text/plain": [
       "-316009.0543329306"
      ]
     },
     "execution_count": 1,
     "metadata": {},
     "output_type": "execute_result"
    }
   ],
   "source": [
    "score_function(1.0010625)"
   ]
  },
  {
   "cell_type": "code",
   "execution_count": 39,
   "id": "2c40483a-5bc6-4974-a485-50c180ebaac1",
   "metadata": {
    "execution": {
     "iopub.execute_input": "2021-09-08T01:49:06.065911Z",
     "iopub.status.busy": "2021-09-08T01:49:06.064541Z",
     "iopub.status.idle": "2021-09-08T01:49:06.071029Z",
     "shell.execute_reply": "2021-09-08T01:49:06.072052Z"
    }
   },
   "outputs": [
    {
     "data": {
      "text/plain": [
       "-315257.51304878294"
      ]
     },
     "execution_count": 1,
     "metadata": {},
     "output_type": "execute_result"
    }
   ],
   "source": [
    "score_function(1.003125)"
   ]
  },
  {
   "cell_type": "code",
   "execution_count": 40,
   "id": "4c55ceb2-b8d9-45d2-85c8-3e757c84aebf",
   "metadata": {
    "execution": {
     "iopub.execute_input": "2021-09-08T01:49:06.081133Z",
     "iopub.status.busy": "2021-09-08T01:49:06.079692Z",
     "iopub.status.idle": "2021-09-08T01:49:06.085889Z",
     "shell.execute_reply": "2021-09-08T01:49:06.086896Z"
    }
   },
   "outputs": [
    {
     "data": {
      "text/plain": [
       "-314123.7586482689"
      ]
     },
     "execution_count": 1,
     "metadata": {},
     "output_type": "execute_result"
    }
   ],
   "source": [
    "score_function(1.00625)"
   ]
  },
  {
   "cell_type": "code",
   "execution_count": 41,
   "id": "1f070d68-386d-4b18-9a1e-c571baf501c0",
   "metadata": {
    "execution": {
     "iopub.execute_input": "2021-09-08T01:49:06.094689Z",
     "iopub.status.busy": "2021-09-08T01:49:06.093409Z",
     "iopub.status.idle": "2021-09-08T01:49:06.099499Z",
     "shell.execute_reply": "2021-09-08T01:49:06.100389Z"
    }
   },
   "outputs": [
    {
     "data": {
      "text/plain": [
       "-311873.99563478306"
      ]
     },
     "execution_count": 1,
     "metadata": {},
     "output_type": "execute_result"
    }
   ],
   "source": [
    "score_function(1.0125)"
   ]
  },
  {
   "cell_type": "code",
   "execution_count": 42,
   "id": "b6f92d89-af4f-4170-87d2-88fc84503cdf",
   "metadata": {
    "execution": {
     "iopub.execute_input": "2021-09-08T01:49:06.107847Z",
     "iopub.status.busy": "2021-09-08T01:49:06.106756Z",
     "iopub.status.idle": "2021-09-08T01:49:06.113114Z",
     "shell.execute_reply": "2021-09-08T01:49:06.114017Z"
    }
   },
   "outputs": [
    {
     "data": {
      "text/plain": [
       "-307444.4941312745"
      ]
     },
     "execution_count": 1,
     "metadata": {},
     "output_type": "execute_result"
    }
   ],
   "source": [
    "score_function(1.025)"
   ]
  },
  {
   "cell_type": "code",
   "execution_count": 43,
   "id": "224ed888-beda-41e5-b511-d4c64e9e2922",
   "metadata": {
    "execution": {
     "iopub.execute_input": "2021-09-08T01:49:06.121587Z",
     "iopub.status.busy": "2021-09-08T01:49:06.120569Z",
     "iopub.status.idle": "2021-09-08T01:49:06.126809Z",
     "shell.execute_reply": "2021-09-08T01:49:06.127684Z"
    }
   },
   "outputs": [
    {
     "data": {
      "text/plain": [
       "-298858.0084988624"
      ]
     },
     "execution_count": 1,
     "metadata": {},
     "output_type": "execute_result"
    }
   ],
   "source": [
    "score_function(1.05)"
   ]
  },
  {
   "cell_type": "code",
   "execution_count": 44,
   "id": "9687ce30-6212-4758-a4be-9e347eb4fd2c",
   "metadata": {
    "execution": {
     "iopub.execute_input": "2021-09-08T01:49:06.134969Z",
     "iopub.status.busy": "2021-09-08T01:49:06.133915Z",
     "iopub.status.idle": "2021-09-08T01:49:06.140538Z",
     "shell.execute_reply": "2021-09-08T01:49:06.141340Z"
    }
   },
   "outputs": [
    {
     "data": {
      "text/plain": [
       "-282716.14265051484"
      ]
     },
     "execution_count": 1,
     "metadata": {},
     "output_type": "execute_result"
    }
   ],
   "source": [
    "score_function(1.1)"
   ]
  },
  {
   "cell_type": "code",
   "execution_count": 45,
   "id": "c4836503-2e31-4cee-884c-d02960aac0c4",
   "metadata": {
    "execution": {
     "iopub.execute_input": "2021-09-08T01:49:06.148516Z",
     "iopub.status.busy": "2021-09-08T01:49:06.147546Z",
     "iopub.status.idle": "2021-09-08T01:49:06.154422Z",
     "shell.execute_reply": "2021-09-08T01:49:06.155416Z"
    }
   },
   "outputs": [
    {
     "data": {
      "text/plain": [
       "-254117.16782980412"
      ]
     },
     "execution_count": 1,
     "metadata": {},
     "output_type": "execute_result"
    }
   ],
   "source": [
    "score_function(1.2)"
   ]
  },
  {
   "cell_type": "code",
   "execution_count": 46,
   "id": "983c0ae4-89b2-496f-8a4f-0289e81d68f1",
   "metadata": {
    "execution": {
     "iopub.execute_input": "2021-09-08T01:49:06.170081Z",
     "iopub.status.busy": "2021-09-08T01:49:06.162509Z",
     "iopub.status.idle": "2021-09-08T01:49:06.185240Z",
     "shell.execute_reply": "2021-09-08T01:49:06.183306Z"
    }
   },
   "outputs": [
    {
     "data": {
      "text/plain": [
       "-128182.58794686198"
      ]
     },
     "execution_count": 1,
     "metadata": {},
     "output_type": "execute_result"
    }
   ],
   "source": [
    "score_function(2)"
   ]
  },
  {
   "cell_type": "code",
   "execution_count": 47,
   "id": "cdc83aea-a42a-48e0-9eca-4514967ffb4f",
   "metadata": {
    "execution": {
     "iopub.execute_input": "2021-09-08T01:49:06.195185Z",
     "iopub.status.busy": "2021-09-08T01:49:06.194101Z",
     "iopub.status.idle": "2021-09-08T01:49:06.203038Z",
     "shell.execute_reply": "2021-09-08T01:49:06.202026Z"
    }
   },
   "outputs": [
    {
     "data": {
      "text/plain": [
       "-53.10248191781284"
      ]
     },
     "execution_count": 1,
     "metadata": {},
     "output_type": "execute_result"
    }
   ],
   "source": [
    "score_function(200)"
   ]
  },
  {
   "cell_type": "markdown",
   "id": "28e76327-25c3-46d9-9620-dceb05759268",
   "metadata": {},
   "source": [
    "## Does this really work in general?"
   ]
  },
  {
   "cell_type": "code",
   "execution_count": 48,
   "id": "341ccdba-9fd7-421a-a51d-a6eac8c61bcd",
   "metadata": {
    "execution": {
     "iopub.execute_input": "2021-09-08T01:49:06.210866Z",
     "iopub.status.busy": "2021-09-08T01:49:06.209822Z",
     "iopub.status.idle": "2021-09-08T01:49:06.218161Z",
     "shell.execute_reply": "2021-09-08T01:49:06.217284Z"
    }
   },
   "outputs": [
    {
     "data": {
      "text/plain": [
       "0"
      ]
     },
     "execution_count": 1,
     "metadata": {},
     "output_type": "execute_result"
    }
   ],
   "source": [
    "get_DM_MLE(filenames[17])"
   ]
  },
  {
   "cell_type": "code",
   "execution_count": 49,
   "id": "56126cec-6499-4a12-abc6-0c592a723492",
   "metadata": {
    "execution": {
     "iopub.execute_input": "2021-09-08T01:49:06.225936Z",
     "iopub.status.busy": "2021-09-08T01:49:06.224929Z",
     "iopub.status.idle": "2021-09-08T01:49:06.229948Z",
     "shell.execute_reply": "2021-09-08T01:49:06.228859Z"
    }
   },
   "outputs": [],
   "source": [
    "npzfile = np.load('concentration_ML_estimates/simulation.018.compositional.npz')"
   ]
  },
  {
   "cell_type": "code",
   "execution_count": 50,
   "id": "db5e9b0a-27f8-4e0f-ab7b-be5616547fb4",
   "metadata": {
    "execution": {
     "iopub.execute_input": "2021-09-08T01:49:06.239482Z",
     "iopub.status.busy": "2021-09-08T01:49:06.236715Z",
     "iopub.status.idle": "2021-09-08T01:49:06.244906Z",
     "shell.execute_reply": "2021-09-08T01:49:06.243904Z"
    }
   },
   "outputs": [
    {
     "data": {
      "text/plain": [
       "array([0.23898442])"
      ]
     },
     "execution_count": 1,
     "metadata": {},
     "output_type": "execute_result"
    }
   ],
   "source": [
    "npzfile['whole_sim']"
   ]
  },
  {
   "cell_type": "code",
   "execution_count": 51,
   "id": "3ccdd510-dc6c-44b3-9d74-2de42b6f080a",
   "metadata": {
    "execution": {
     "iopub.execute_input": "2021-09-08T01:49:06.252173Z",
     "iopub.status.busy": "2021-09-08T01:49:06.251210Z",
     "iopub.status.idle": "2021-09-08T01:49:06.261079Z",
     "shell.execute_reply": "2021-09-08T01:49:06.260031Z"
    }
   },
   "outputs": [
    {
     "data": {
      "text/plain": [
       "array([0.24057111, 0.24144063, 0.23588789, 0.24084832, 0.23695048,\n",
       "       0.23572823, 0.23643363, 0.2422181 , 0.23788786, 0.23618437,\n",
       "       0.24225318, 0.24059861, 0.24241563, 0.23512794, 0.23625867,\n",
       "       0.24018598, 0.23920259, 0.23759581, 0.23793983, 0.23969552,\n",
       "       0.2433667 , 0.24258299, 0.2398957 , 0.23620528, 0.24051825,\n",
       "       0.23606208, 0.23798365, 0.24368035, 0.23657092, 0.23819963])"
      ]
     },
     "execution_count": 1,
     "metadata": {},
     "output_type": "execute_result"
    }
   ],
   "source": [
    "npzfile['medium_batches']"
   ]
  },
  {
   "cell_type": "code",
   "execution_count": 52,
   "id": "517127a6-3c0c-4341-b8e6-aa817b66b62b",
   "metadata": {
    "execution": {
     "iopub.execute_input": "2021-09-08T01:49:06.268484Z",
     "iopub.status.busy": "2021-09-08T01:49:06.267504Z",
     "iopub.status.idle": "2021-09-08T01:49:06.276771Z",
     "shell.execute_reply": "2021-09-08T01:49:06.275873Z"
    }
   },
   "outputs": [
    {
     "data": {
      "text/plain": [
       "array([0.21706371, 0.2549846 , 0.2149824 , ..., 0.24986367, 0.23579221,\n",
       "       0.23774658])"
      ]
     },
     "execution_count": 1,
     "metadata": {},
     "output_type": "execute_result"
    }
   ],
   "source": [
    "npzfile['small_batches']"
   ]
  }
 ],
 "metadata": {
  "kernelspec": {
   "display_name": "Python 3",
   "language": "python",
   "name": "python3"
  },
  "language_info": {
   "codemirror_mode": {
    "name": "ipython",
    "version": 3
   },
   "file_extension": ".py",
   "mimetype": "text/x-python",
   "name": "python",
   "nbconvert_exporter": "python",
   "pygments_lexer": "ipython3",
   "version": "3.9.2"
  }
 },
 "nbformat": 4,
 "nbformat_minor": 5
}
