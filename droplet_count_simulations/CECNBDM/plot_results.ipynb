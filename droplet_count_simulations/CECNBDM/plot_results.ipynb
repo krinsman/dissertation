{
 "cells": [
  {
   "cell_type": "code",
   "execution_count": 1,
   "id": "b5ea054f-17e8-455f-853e-16a0e48c6377",
   "metadata": {},
   "outputs": [],
   "source": [
    "import matplotlib.pyplot as plt\n",
    "import seaborn as sns\n",
    "import numpy as np"
   ]
  },
  {
   "cell_type": "code",
   "execution_count": 3,
   "id": "0ae38ce5-9102-4413-94ff-4ce37c29eff3",
   "metadata": {},
   "outputs": [],
   "source": [
    "npzfile = np.load('monte_carlo_pvals.npz')"
   ]
  },
  {
   "cell_type": "code",
   "execution_count": 5,
   "id": "feeebbf8-61f7-4279-83b1-34ee8bd874d3",
   "metadata": {},
   "outputs": [],
   "source": [
    "pvals = npzfile['monte_carlo_pvals']"
   ]
  },
  {
   "cell_type": "code",
   "execution_count": 6,
   "id": "844c7280-d471-43d1-853d-56652b87bcf2",
   "metadata": {},
   "outputs": [
    {
     "data": {
      "text/plain": [
       "(array([  0.,   0.,   0.,   0.,   0., 500.,   0.,   0.,   0.,   0.]),\n",
       " array([-0.5, -0.4, -0.3, -0.2, -0.1,  0. ,  0.1,  0.2,  0.3,  0.4,  0.5]),\n",
       " <BarContainer object of 10 artists>)"
      ]
     },
     "execution_count": 6,
     "metadata": {},
     "output_type": "execute_result"
    },
    {
     "data": {
      "image/png": "[encoded data removed]",
      "text/plain": [
       "<Figure size 432x288 with 1 Axes>"
      ]
     },
     "metadata": {
      "needs_background": "light"
     },
     "output_type": "display_data"
    }
   ],
   "source": [
    "plt.hist(pvals)"
   ]
  },
  {
   "cell_type": "code",
   "execution_count": 7,
   "id": "ed2475d5-1a28-4e53-8619-a4b1c6f72fde",
   "metadata": {},
   "outputs": [
    {
     "data": {
      "text/plain": [
       "array([0., 0., 0., 0., 0., 0., 0., 0., 0., 0., 0., 0., 0., 0., 0., 0., 0.,\n",
       "       0., 0., 0., 0., 0., 0., 0., 0., 0., 0., 0., 0., 0., 0., 0., 0., 0.,\n",
       "       0., 0., 0., 0., 0., 0., 0., 0., 0., 0., 0., 0., 0., 0., 0., 0., 0.,\n",
       "       0., 0., 0., 0., 0., 0., 0., 0., 0., 0., 0., 0., 0., 0., 0., 0., 0.,\n",
       "       0., 0., 0., 0., 0., 0., 0., 0., 0., 0., 0., 0., 0., 0., 0., 0., 0.,\n",
       "       0., 0., 0., 0., 0., 0., 0., 0., 0., 0., 0., 0., 0., 0., 0., 0., 0.,\n",
       "       0., 0., 0., 0., 0., 0., 0., 0., 0., 0., 0., 0., 0., 0., 0., 0., 0.,\n",
       "       0., 0., 0., 0., 0., 0., 0., 0., 0., 0., 0., 0., 0., 0., 0., 0., 0.,\n",
       "       0., 0., 0., 0., 0., 0., 0., 0., 0., 0., 0., 0., 0., 0., 0., 0., 0.,\n",
       "       0., 0., 0., 0., 0., 0., 0., 0., 0., 0., 0., 0., 0., 0., 0., 0., 0.,\n",
       "       0., 0., 0., 0., 0., 0., 0., 0., 0., 0., 0., 0., 0., 0., 0., 0., 0.,\n",
       "       0., 0., 0., 0., 0., 0., 0., 0., 0., 0., 0., 0., 0., 0., 0., 0., 0.,\n",
       "       0., 0., 0., 0., 0., 0., 0., 0., 0., 0., 0., 0., 0., 0., 0., 0., 0.,\n",
       "       0., 0., 0., 0., 0., 0., 0., 0., 0., 0., 0., 0., 0., 0., 0., 0., 0.,\n",
       "       0., 0., 0., 0., 0., 0., 0., 0., 0., 0., 0., 0., 0., 0., 0., 0., 0.,\n",
       "       0., 0., 0., 0., 0., 0., 0., 0., 0., 0., 0., 0., 0., 0., 0., 0., 0.,\n",
       "       0., 0., 0., 0., 0., 0., 0., 0., 0., 0., 0., 0., 0., 0., 0., 0., 0.,\n",
       "       0., 0., 0., 0., 0., 0., 0., 0., 0., 0., 0., 0., 0., 0., 0., 0., 0.,\n",
       "       0., 0., 0., 0., 0., 0., 0., 0., 0., 0., 0., 0., 0., 0., 0., 0., 0.,\n",
       "       0., 0., 0., 0., 0., 0., 0., 0., 0., 0., 0., 0., 0., 0., 0., 0., 0.,\n",
       "       0., 0., 0., 0., 0., 0., 0., 0., 0., 0., 0., 0., 0., 0., 0., 0., 0.,\n",
       "       0., 0., 0., 0., 0., 0., 0., 0., 0., 0., 0., 0., 0., 0., 0., 0., 0.,\n",
       "       0., 0., 0., 0., 0., 0., 0., 0., 0., 0., 0., 0., 0., 0., 0., 0., 0.,\n",
       "       0., 0., 0., 0., 0., 0., 0., 0., 0., 0., 0., 0., 0., 0., 0., 0., 0.,\n",
       "       0., 0., 0., 0., 0., 0., 0., 0., 0., 0., 0., 0., 0., 0., 0., 0., 0.,\n",
       "       0., 0., 0., 0., 0., 0., 0., 0., 0., 0., 0., 0., 0., 0., 0., 0., 0.,\n",
       "       0., 0., 0., 0., 0., 0., 0., 0., 0., 0., 0., 0., 0., 0., 0., 0., 0.,\n",
       "       0., 0., 0., 0., 0., 0., 0., 0., 0., 0., 0., 0., 0., 0., 0., 0., 0.,\n",
       "       0., 0., 0., 0., 0., 0., 0., 0., 0., 0., 0., 0., 0., 0., 0., 0., 0.,\n",
       "       0., 0., 0., 0., 0., 0., 0.])"
      ]
     },
     "execution_count": 7,
     "metadata": {},
     "output_type": "execute_result"
    }
   ],
   "source": [
    "pvals"
   ]
  },
  {
   "cell_type": "code",
   "execution_count": 8,
   "id": "04262fcb-8d16-4dbf-8d82-a21c6ad0ef49",
   "metadata": {},
   "outputs": [],
   "source": [
    "npzfile = np.load('categorical_divergences_and_chi2_approx_pvals.npz')"
   ]
  },
  {
   "cell_type": "code",
   "execution_count": 10,
   "id": "8673b833-db40-4d20-8b4d-d705862ff074",
   "metadata": {},
   "outputs": [],
   "source": [
    "approx_pvals = npzfile['chi2_approx_pvals']"
   ]
  },
  {
   "cell_type": "code",
   "execution_count": 11,
   "id": "2273caff-2dd5-4b8f-a759-bb81fc2cafd5",
   "metadata": {},
   "outputs": [
    {
     "data": {
      "text/plain": [
       "array([0., 0., 0., 0., 0., 0., 0., 0., 0., 0., 0., 0., 0., 0., 0., 0., 0.,\n",
       "       0., 0., 0., 0., 0., 0., 0., 0., 0., 0., 0., 0., 0., 0., 0., 0., 0.,\n",
       "       0., 0., 0., 0., 0., 0., 0., 0., 0., 0., 0., 0., 0., 0., 0., 0., 0.,\n",
       "       0., 0., 0., 0., 0., 0., 0., 0., 0., 0., 0., 0., 0., 0., 0., 0., 0.,\n",
       "       0., 0., 0., 0., 0., 0., 0., 0., 0., 0., 0., 0., 0., 0., 0., 0., 0.,\n",
       "       0., 0., 0., 0., 0., 0., 0., 0., 0., 0., 0., 0., 0., 0., 0., 0., 0.,\n",
       "       0., 0., 0., 0., 0., 0., 0., 0., 0., 0., 0., 0., 0., 0., 0., 0., 0.,\n",
       "       0., 0., 0., 0., 0., 0., 0., 0., 0., 0., 0., 0., 0., 0., 0., 0., 0.,\n",
       "       0., 0., 0., 0., 0., 0., 0., 0., 0., 0., 0., 0., 0., 0., 0., 0., 0.,\n",
       "       0., 0., 0., 0., 0., 0., 0., 0., 0., 0., 0., 0., 0., 0., 0., 0., 0.,\n",
       "       0., 0., 0., 0., 0., 0., 0., 0., 0., 0., 0., 0., 0., 0., 0., 0., 0.,\n",
       "       0., 0., 0., 0., 0., 0., 0., 0., 0., 0., 0., 0., 0., 0., 0., 0., 0.,\n",
       "       0., 0., 0., 0., 0., 0., 0., 0., 0., 0., 0., 0., 0., 0., 0., 0., 0.,\n",
       "       0., 0., 0., 0., 0., 0., 0., 0., 0., 0., 0., 0., 0., 0., 0., 0., 0.,\n",
       "       0., 0., 0., 0., 0., 0., 0., 0., 0., 0., 0., 0., 0., 0., 0., 0., 0.,\n",
       "       0., 0., 0., 0., 0., 0., 0., 0., 0., 0., 0., 0., 0., 0., 0., 0., 0.,\n",
       "       0., 0., 0., 0., 0., 0., 0., 0., 0., 0., 0., 0., 0., 0., 0., 0., 0.,\n",
       "       0., 0., 0., 0., 0., 0., 0., 0., 0., 0., 0., 0., 0., 0., 0., 0., 0.,\n",
       "       0., 0., 0., 0., 0., 0., 0., 0., 0., 0., 0., 0., 0., 0., 0., 0., 0.,\n",
       "       0., 0., 0., 0., 0., 0., 0., 0., 0., 0., 0., 0., 0., 0., 0., 0., 0.,\n",
       "       0., 0., 0., 0., 0., 0., 0., 0., 0., 0., 0., 0., 0., 0., 0., 0., 0.,\n",
       "       0., 0., 0., 0., 0., 0., 0., 0., 0., 0., 0., 0., 0., 0., 0., 0., 0.,\n",
       "       0., 0., 0., 0., 0., 0., 0., 0., 0., 0., 0., 0., 0., 0., 0., 0., 0.,\n",
       "       0., 0., 0., 0., 0., 0., 0., 0., 0., 0., 0., 0., 0., 0., 0., 0., 0.,\n",
       "       0., 0., 0., 0., 0., 0., 0., 0., 0., 0., 0., 0., 0., 0., 0., 0., 0.,\n",
       "       0., 0., 0., 0., 0., 0., 0., 0., 0., 0., 0., 0., 0., 0., 0., 0., 0.,\n",
       "       0., 0., 0., 0., 0., 0., 0., 0., 0., 0., 0., 0., 0., 0., 0., 0., 0.,\n",
       "       0., 0., 0., 0., 0., 0., 0., 0., 0., 0., 0., 0., 0., 0., 0., 0., 0.,\n",
       "       0., 0., 0., 0., 0., 0., 0., 0., 0., 0., 0., 0., 0., 0., 0., 0., 0.,\n",
       "       0., 0., 0., 0., 0., 0., 0.])"
      ]
     },
     "execution_count": 11,
     "metadata": {},
     "output_type": "execute_result"
    }
   ],
   "source": [
    "approx_pvals"
   ]
  },
  {
   "cell_type": "code",
   "execution_count": 13,
   "id": "9fffa116-281a-47be-83e4-9168bff4e216",
   "metadata": {},
   "outputs": [],
   "source": [
    "categorical_divergences = npzfile['pearson_categorical_divergences']"
   ]
  },
  {
   "cell_type": "code",
   "execution_count": 14,
   "id": "6c1a238f-ef42-4fc2-95e7-e9111528335c",
   "metadata": {},
   "outputs": [
    {
     "data": {
      "text/plain": [
       "(array([  2.,  12.,  35.,  68.,  93., 112.,  92.,  57.,  22.,   7.]),\n",
       " array([54147.58855894, 54401.85941456, 54656.13027018, 54910.40112581,\n",
       "        55164.67198143, 55418.94283706, 55673.21369268, 55927.48454831,\n",
       "        56181.75540393, 56436.02625956, 56690.29711518]),\n",
       " <BarContainer object of 10 artists>)"
      ]
     },
     "execution_count": 14,
     "metadata": {},
     "output_type": "execute_result"
    },
    {
     "data": {
      "image/png": "[encoded data removed]",
      "text/plain": [
       "<Figure size 432x288 with 1 Axes>"
      ]
     },
     "metadata": {
      "needs_background": "light"
     },
     "output_type": "display_data"
    }
   ],
   "source": [
    "plt.hist(categorical_divergences)"
   ]
  },
  {
   "cell_type": "code",
   "execution_count": 16,
   "id": "a208f763-4f84-41ae-919c-eecddfb2e0af",
   "metadata": {},
   "outputs": [
    {
     "data": {
      "text/plain": [
       "array([55562.36665607, 56050.96741031, 55071.32049369, 55224.46731357,\n",
       "       54700.57641925, 55878.36500467, 56065.27834683, 55516.70682628,\n",
       "       56052.33726659, 55514.98926893, 55479.03263617, 54852.56432899,\n",
       "       56017.98011136, 55888.73519264, 55403.30696026, 55843.53588866,\n",
       "       55862.00568847, 55621.31813882, 55704.74201888, 56189.62748737,\n",
       "       55510.07433849, 56254.69064344, 55003.05514517, 56071.80366421,\n",
       "       55800.75594975, 55382.20329094, 55927.32688666, 54777.01722577,\n",
       "       56130.22920921, 55835.21492757, 56084.91568405, 54985.4380962 ,\n",
       "       55241.78743751, 55469.73996822, 55475.57703991, 54832.61969206,\n",
       "       55790.97610114, 55935.39863667, 56326.27665118, 54647.3361849 ,\n",
       "       54147.58855894, 54764.29600166, 55682.03982325, 54598.46397601,\n",
       "       55210.59711966, 55827.16069262, 56494.005705  , 55233.60689615,\n",
       "       55501.27265465, 55574.25065868, 55373.53910266, 56075.87953022,\n",
       "       55424.9356533 , 54819.77392905, 55855.90859274, 55825.64835261,\n",
       "       54955.50751237, 55277.51292764, 55975.03837422, 55491.80947024,\n",
       "       55494.60989887, 55909.25922116, 55189.07051746, 55982.38395598,\n",
       "       55543.72913346, 54927.57166264, 55501.15346762, 55598.85576844,\n",
       "       55059.26988377, 55921.27038816, 56199.38670269, 55535.53130017,\n",
       "       56218.79856906, 55803.51623915, 55443.11894083, 55120.95169238,\n",
       "       55568.49598879, 55363.67397654, 55449.24472281, 55548.05482995,\n",
       "       54994.18554371, 55114.65214759, 55771.08895666, 55909.94782287,\n",
       "       55973.91802354, 55614.71013414, 54884.82938813, 55269.83618916,\n",
       "       55716.98456884, 55556.46678748, 54472.41914862, 55636.1630561 ,\n",
       "       55675.99754241, 55812.49182216, 55228.28190604, 55858.39135904,\n",
       "       55818.15372936, 55564.28175878, 55269.15461544, 55508.62015099,\n",
       "       55177.46566544, 55688.52656668, 55705.23755436, 56104.56200471,\n",
       "       55349.1419603 , 55354.34649072, 55147.00556029, 55197.02476141,\n",
       "       55714.99512783, 56134.39181818, 55705.20851012, 55841.00994607,\n",
       "       55341.11202492, 55887.47735737, 55109.49086049, 55793.47841885,\n",
       "       55722.57544365, 55235.68550991, 55137.02934668, 54934.9804392 ,\n",
       "       56421.58400849, 55296.77034489, 55491.840557  , 56290.28010689,\n",
       "       54882.22662832, 55879.8027552 , 55031.74997175, 54811.73864452,\n",
       "       55700.97152827, 55279.03986664, 55275.45202397, 55788.26383691,\n",
       "       56138.24406673, 55405.71890551, 55552.83797312, 54805.99845881,\n",
       "       55592.58157148, 54606.95094957, 55544.00074731, 55122.59559656,\n",
       "       55635.42476341, 55057.95503039, 55484.70962522, 56067.30353652,\n",
       "       55420.07045246, 55132.65395225, 55254.50669986, 55518.89190378,\n",
       "       56187.2582644 , 56302.4543982 , 55709.14607558, 55474.69556142,\n",
       "       56130.75224226, 55366.0585427 , 54890.06494235, 55747.19695111,\n",
       "       56645.17599725, 55777.83985382, 55536.4054088 , 56095.52120312,\n",
       "       55601.26613453, 54842.57626489, 55223.96886745, 56301.16524583,\n",
       "       55039.19746163, 55984.90616974, 55503.35519601, 55909.40739519,\n",
       "       55260.31222443, 55448.77785188, 55644.1353396 , 55015.27234678,\n",
       "       56046.14498358, 55327.13546561, 55517.39087056, 55184.7568423 ,\n",
       "       55735.90190667, 54927.27390078, 56578.26429888, 55765.346381  ,\n",
       "       55483.15968826, 55851.19093202, 54907.97710753, 55809.7468892 ,\n",
       "       55746.51814539, 55512.30454705, 55815.64140363, 56096.59916633,\n",
       "       55628.54447339, 55057.00582728, 55909.91960263, 55824.40721177,\n",
       "       55409.64425738, 54756.53271367, 55720.09450398, 54927.93631046,\n",
       "       56072.74089492, 55582.52873054, 54926.70227851, 54419.29564333,\n",
       "       55068.12592007, 56048.86124981, 55100.66124807, 56205.9295221 ,\n",
       "       55730.207945  , 56451.32111518, 56070.21085622, 56087.60067254,\n",
       "       55604.09672567, 55586.86709116, 56004.93668142, 55097.03201008,\n",
       "       56303.90916466, 55121.0586697 , 55095.90427548, 55342.44056029,\n",
       "       55639.4379013 , 55918.54611872, 55606.12326274, 55471.9278755 ,\n",
       "       55342.90848772, 55345.99897004, 56043.34394104, 54455.17322686,\n",
       "       56345.10349442, 55394.25154958, 55563.90378624, 55064.56645258,\n",
       "       55175.6194293 , 54797.48691239, 55903.97050878, 55366.9721706 ,\n",
       "       56039.42120567, 55184.94658149, 56116.65250762, 54970.63251092,\n",
       "       55552.06883717, 56036.53013422, 55499.61231194, 55333.33450209,\n",
       "       55652.69037362, 54894.02255754, 55360.22790094, 55398.94313762,\n",
       "       55899.6304367 , 55435.94379838, 55678.1011178 , 54957.1027211 ,\n",
       "       55689.06121275, 55619.85623153, 55680.69391075, 55349.06082731,\n",
       "       55496.77027146, 55428.89551743, 55519.16983588, 55628.41711166,\n",
       "       56264.74727611, 55200.81689983, 55586.6473064 , 55760.49982574,\n",
       "       55735.0757311 , 54822.3538851 , 56091.31420281, 55046.4419797 ,\n",
       "       54799.82624194, 55256.13452165, 55360.87411526, 55625.5051125 ,\n",
       "       55809.82065141, 55128.29824949, 55018.83606391, 55898.73168211,\n",
       "       55174.45622855, 55201.59656029, 55094.82499434, 55277.17970415,\n",
       "       55209.15495625, 56279.62491855, 55529.74063282, 55616.666227  ,\n",
       "       55196.48319454, 54250.47183605, 54773.08151454, 55574.92132054,\n",
       "       55080.3656171 , 55202.92853771, 55038.40122161, 55318.46434753,\n",
       "       55287.6689737 , 55110.59374437, 55326.71977618, 56332.12838633,\n",
       "       55769.58044502, 55724.93452843, 54609.91335454, 55310.32053579,\n",
       "       55803.71148594, 55034.11863811, 55617.91114477, 55647.77700082,\n",
       "       55050.54174705, 56022.6190704 , 55641.7920432 , 55573.39516834,\n",
       "       55219.37265592, 55168.21516382, 55264.28770606, 56257.25504754,\n",
       "       55646.75569063, 54813.1041026 , 54833.16780099, 55511.64400479,\n",
       "       55103.69808597, 55640.49834909, 55698.15613502, 56168.20486203,\n",
       "       55505.30172395, 55267.08349722, 54680.64149512, 56061.81238684,\n",
       "       56071.44055072, 55970.29671975, 55876.12795436, 55087.01996025,\n",
       "       56100.39232985, 55695.99277019, 55638.54487056, 55836.64409265,\n",
       "       55258.24536341, 55694.53269102, 54860.61859684, 56001.16672636,\n",
       "       54826.87995202, 55097.06807202, 54711.68008105, 55517.42540261,\n",
       "       55450.99689192, 55142.39837744, 55609.95583969, 55303.59048271,\n",
       "       56089.71576732, 55932.2415672 , 55437.19345327, 55956.34408037,\n",
       "       55821.04575687, 55739.0013275 , 55768.21421698, 56034.57325018,\n",
       "       55174.53920024, 56118.51646624, 54997.19565052, 55454.70035892,\n",
       "       55781.18955893, 55323.77915107, 55373.1837836 , 54958.55353006,\n",
       "       55161.91002287, 55650.21197134, 54808.35071303, 55649.8613322 ,\n",
       "       56069.98403055, 55726.32044943, 55853.53995594, 55449.25858279,\n",
       "       55314.96300455, 55359.64713009, 55682.91178524, 55536.10513041,\n",
       "       55457.83762035, 55456.68004523, 56034.18428003, 55419.81647643,\n",
       "       55640.58869122, 55511.62618282, 55334.7823216 , 56437.17182519,\n",
       "       55533.05438541, 54748.33698503, 55292.63594629, 56129.95210588,\n",
       "       55704.65168124, 56268.11042693, 55647.43741276, 54917.85034935,\n",
       "       54598.3655999 , 55336.11792262, 56181.12260709, 55169.13109334,\n",
       "       54789.04475888, 55571.86281066, 56690.29711518, 54854.90620215,\n",
       "       55008.02310287, 56036.54461841, 55107.27014004, 55493.27717095,\n",
       "       55071.01634009, 54949.68869434, 55860.97456914, 55712.26286052,\n",
       "       55987.09735414, 55189.9787457 , 55271.56064391, 55201.78209871,\n",
       "       55173.33024824, 54479.38183252, 55897.40051355, 55926.02910192,\n",
       "       55546.34494953, 55039.47609398, 56353.91403327, 56134.58515913,\n",
       "       55513.55768782, 55386.98861256, 54615.36188276, 55377.9589899 ,\n",
       "       55775.05306842, 55266.28199153, 55840.36999245, 55331.13422584,\n",
       "       55494.60320792, 55289.72913399, 55020.38647222, 55216.56413747,\n",
       "       56277.9703762 , 55127.9125814 , 55653.45784651, 56275.84903505,\n",
       "       55295.07855995, 55651.81868867, 55490.96424917, 55370.86828799,\n",
       "       55060.76698033, 55796.43505894, 55817.54467163, 55980.36162454,\n",
       "       55238.97971586, 55118.47037727, 55304.02197293, 55439.45431654,\n",
       "       55690.12095838, 54937.33447065, 54869.30908287, 55197.82209147,\n",
       "       55347.50669915, 54887.73878959, 55624.99169158, 55712.24869918,\n",
       "       56566.62485023, 55537.1738473 , 54773.1009888 , 55608.05999047,\n",
       "       55133.7690681 , 55250.91137119, 55866.39706689, 55619.16539655,\n",
       "       55073.54592058, 55378.56784562, 55826.9144954 , 55455.41924927,\n",
       "       55009.16155491, 54811.97430655, 55893.93584601, 55062.2499315 ,\n",
       "       54722.40761893, 55693.20414062, 56064.43119695, 55477.11643922,\n",
       "       55447.86467573, 54810.93925488, 55902.39415361, 55346.87694611,\n",
       "       55042.42802844, 56191.19887389, 55469.75293079, 55647.19972914,\n",
       "       56118.66982351, 54588.47924528, 55390.02182807, 55319.15494136,\n",
       "       55672.64040793, 55707.06746444, 55506.30579858, 55377.35817907,\n",
       "       55723.34075559, 55118.49348861, 55552.02721636, 55107.24444226,\n",
       "       55033.30622409, 55427.35906734, 55966.88018419, 55889.55260237,\n",
       "       56018.60950504, 54625.106241  , 55351.66821906, 55038.86496452,\n",
       "       56143.95351029, 56088.56378624, 55218.74978454, 55022.26302144])"
      ]
     },
     "execution_count": 16,
     "metadata": {},
     "output_type": "execute_result"
    }
   ],
   "source": [
    "categorical_divergences"
   ]
  },
  {
   "cell_type": "code",
   "execution_count": null,
   "id": "7d21bff6-f064-4da7-a7e1-9cb6b410b579",
   "metadata": {},
   "outputs": [],
   "source": []
  }
 ],
 "metadata": {
  "kernelspec": {
   "display_name": "Python 3",
   "language": "python",
   "name": "python3"
  },
  "language_info": {
   "codemirror_mode": {
    "name": "ipython",
    "version": 3
   },
   "file_extension": ".py",
   "mimetype": "text/x-python",
   "name": "python",
   "nbconvert_exporter": "python",
   "pygments_lexer": "ipython3",
   "version": "3.9.2"
  }
 },
 "nbformat": 4,
 "nbformat_minor": 5
}
