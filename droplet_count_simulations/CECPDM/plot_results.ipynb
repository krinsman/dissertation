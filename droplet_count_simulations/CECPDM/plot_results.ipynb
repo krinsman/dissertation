{
 "cells": [
  {
   "cell_type": "code",
   "execution_count": 1,
   "id": "c9705127-2504-4b63-91ff-abb7276ca141",
   "metadata": {},
   "outputs": [],
   "source": [
    "import matplotlib.pyplot as plt\n",
    "import seaborn as sns\n",
    "import numpy as np"
   ]
  },
  {
   "cell_type": "code",
   "execution_count": 2,
   "id": "bf94876c-a27c-4b44-bd34-97b0a244422c",
   "metadata": {},
   "outputs": [],
   "source": [
    "npzfile = np.load('monte_carlo_pvals.npz')"
   ]
  },
  {
   "cell_type": "code",
   "execution_count": 4,
   "id": "103ad588-c768-4417-ac90-2aaaff83f49f",
   "metadata": {},
   "outputs": [],
   "source": [
    "pvals = npzfile['monte_carlo_pvals']"
   ]
  },
  {
   "cell_type": "code",
   "execution_count": 6,
   "id": "52690af8-3638-47b3-8464-fd86207ff7a8",
   "metadata": {},
   "outputs": [
    {
     "data": {
      "text/plain": [
       "array([0., 0., 0., 0., 0., 0., 0., 0., 0., 0., 0., 0., 0., 0., 0., 0., 0.,\n",
       "       0., 0., 0., 0., 0., 0., 0., 0., 0., 0., 0., 0., 0., 0., 0., 0., 0.,\n",
       "       0., 0., 0., 0., 0., 0., 0., 0., 0., 0., 0., 0., 0., 0., 0., 0., 0.,\n",
       "       0., 0., 0., 0., 0., 0., 0., 0., 0., 0., 0., 0., 0., 0., 0., 0., 0.,\n",
       "       0., 0., 0., 0., 0., 0., 0., 0., 0., 0., 0., 0., 0., 0., 0., 0., 0.,\n",
       "       0., 0., 0., 0., 0., 0., 0., 0., 0., 0., 0., 0., 0., 0., 0., 0., 0.,\n",
       "       0., 0., 0., 0., 0., 0., 0., 0., 0., 0., 0., 0., 0., 0., 0., 0., 0.,\n",
       "       0., 0., 0., 0., 0., 0., 0., 0., 0., 0., 0., 0., 0., 0., 0., 0., 0.,\n",
       "       0., 0., 0., 0., 0., 0., 0., 0., 0., 0., 0., 0., 0., 0., 0., 0., 0.,\n",
       "       0., 0., 0., 0., 0., 0., 0., 0., 0., 0., 0., 0., 0., 0., 0., 0., 0.,\n",
       "       0., 0., 0., 0., 0., 0., 0., 0., 0., 0., 0., 0., 0., 0., 0., 0., 0.,\n",
       "       0., 0., 0., 0., 0., 0., 0., 0., 0., 0., 0., 0., 0., 0., 0., 0., 0.,\n",
       "       0., 0., 0., 0., 0., 0., 0., 0., 0., 0., 0., 0., 0., 0., 0., 0., 0.,\n",
       "       0., 0., 0., 0., 0., 0., 0., 0., 0., 0., 0., 0., 0., 0., 0., 0., 0.,\n",
       "       0., 0., 0., 0., 0., 0., 0., 0., 0., 0., 0., 0., 0., 0., 0., 0., 0.,\n",
       "       0., 0., 0., 0., 0., 0., 0., 0., 0., 0., 0., 0., 0., 0., 0., 0., 0.,\n",
       "       0., 0., 0., 0., 0., 0., 0., 0., 0., 0., 0., 0., 0., 0., 0., 0., 0.,\n",
       "       0., 0., 0., 0., 0., 0., 0., 0., 0., 0., 0., 0., 0., 0., 0., 0., 0.,\n",
       "       0., 0., 0., 0., 0., 0., 0., 0., 0., 0., 0., 0., 0., 0., 0., 0., 0.,\n",
       "       0., 0., 0., 0., 0., 0., 0., 0., 0., 0., 0., 0., 0., 0., 0., 0., 0.,\n",
       "       0., 0., 0., 0., 0., 0., 0., 0., 0., 0., 0., 0., 0., 0., 0., 0., 0.,\n",
       "       0., 0., 0., 0., 0., 0., 0., 0., 0., 0., 0., 0., 0., 0., 0., 0., 0.,\n",
       "       0., 0., 0., 0., 0., 0., 0., 0., 0., 0., 0., 0., 0., 0., 0., 0., 0.,\n",
       "       0., 0., 0., 0., 0., 0., 0., 0., 0., 0., 0., 0., 0., 0., 0., 0., 0.,\n",
       "       0., 0., 0., 0., 0., 0., 0., 0., 0., 0., 0., 0., 0., 0., 0., 0., 0.,\n",
       "       0., 0., 0., 0., 0., 0., 0., 0., 0., 0., 0., 0., 0., 0., 0., 0., 0.,\n",
       "       0., 0., 0., 0., 0., 0., 0., 0., 0., 0., 0., 0., 0., 0., 0., 0., 0.,\n",
       "       0., 0., 0., 0., 0., 0., 0., 0., 0., 0., 0., 0., 0., 0., 0., 0., 0.,\n",
       "       0., 0., 0., 0., 0., 0., 0., 0., 0., 0., 0., 0., 0., 0., 0., 0., 0.,\n",
       "       0., 0., 0., 0., 0., 0., 0.])"
      ]
     },
     "execution_count": 6,
     "metadata": {},
     "output_type": "execute_result"
    }
   ],
   "source": [
    "pvals"
   ]
  },
  {
   "cell_type": "code",
   "execution_count": 7,
   "id": "f9e4152a-895a-4451-a376-85fee83b32bf",
   "metadata": {},
   "outputs": [],
   "source": [
    "npzfile = np.load('categorical_divergences_and_chi2_approx_pvals.npz')"
   ]
  },
  {
   "cell_type": "code",
   "execution_count": 8,
   "id": "ea2ab11d-a393-417f-9ec2-aa0ca1d88b67",
   "metadata": {},
   "outputs": [],
   "source": [
    "approx_pvals = npzfile['chi2_approx_pvals']"
   ]
  },
  {
   "cell_type": "code",
   "execution_count": 9,
   "id": "aefd5d4a-c038-4a1a-aac0-d16bc7ce6586",
   "metadata": {},
   "outputs": [
    {
     "data": {
      "text/plain": [
       "(array([  0.,   0.,   0.,   0.,   0., 500.,   0.,   0.,   0.,   0.]),\n",
       " array([-0.5, -0.4, -0.3, -0.2, -0.1,  0. ,  0.1,  0.2,  0.3,  0.4,  0.5]),\n",
       " <BarContainer object of 10 artists>)"
      ]
     },
     "execution_count": 9,
     "metadata": {},
     "output_type": "execute_result"
    },
    {
     "data": {
      "image/png": "[encoded data removed]",
      "text/plain": [
       "<Figure size 432x288 with 1 Axes>"
      ]
     },
     "metadata": {
      "needs_background": "light"
     },
     "output_type": "display_data"
    }
   ],
   "source": [
    "plt.hist(approx_pvals)"
   ]
  },
  {
   "cell_type": "code",
   "execution_count": 10,
   "id": "26eee066-4ed3-4783-9b70-9047efc3386e",
   "metadata": {},
   "outputs": [
    {
     "data": {
      "text/plain": [
       "array([0., 0., 0., 0., 0., 0., 0., 0., 0., 0., 0., 0., 0., 0., 0., 0., 0.,\n",
       "       0., 0., 0., 0., 0., 0., 0., 0., 0., 0., 0., 0., 0., 0., 0., 0., 0.,\n",
       "       0., 0., 0., 0., 0., 0., 0., 0., 0., 0., 0., 0., 0., 0., 0., 0., 0.,\n",
       "       0., 0., 0., 0., 0., 0., 0., 0., 0., 0., 0., 0., 0., 0., 0., 0., 0.,\n",
       "       0., 0., 0., 0., 0., 0., 0., 0., 0., 0., 0., 0., 0., 0., 0., 0., 0.,\n",
       "       0., 0., 0., 0., 0., 0., 0., 0., 0., 0., 0., 0., 0., 0., 0., 0., 0.,\n",
       "       0., 0., 0., 0., 0., 0., 0., 0., 0., 0., 0., 0., 0., 0., 0., 0., 0.,\n",
       "       0., 0., 0., 0., 0., 0., 0., 0., 0., 0., 0., 0., 0., 0., 0., 0., 0.,\n",
       "       0., 0., 0., 0., 0., 0., 0., 0., 0., 0., 0., 0., 0., 0., 0., 0., 0.,\n",
       "       0., 0., 0., 0., 0., 0., 0., 0., 0., 0., 0., 0., 0., 0., 0., 0., 0.,\n",
       "       0., 0., 0., 0., 0., 0., 0., 0., 0., 0., 0., 0., 0., 0., 0., 0., 0.,\n",
       "       0., 0., 0., 0., 0., 0., 0., 0., 0., 0., 0., 0., 0., 0., 0., 0., 0.,\n",
       "       0., 0., 0., 0., 0., 0., 0., 0., 0., 0., 0., 0., 0., 0., 0., 0., 0.,\n",
       "       0., 0., 0., 0., 0., 0., 0., 0., 0., 0., 0., 0., 0., 0., 0., 0., 0.,\n",
       "       0., 0., 0., 0., 0., 0., 0., 0., 0., 0., 0., 0., 0., 0., 0., 0., 0.,\n",
       "       0., 0., 0., 0., 0., 0., 0., 0., 0., 0., 0., 0., 0., 0., 0., 0., 0.,\n",
       "       0., 0., 0., 0., 0., 0., 0., 0., 0., 0., 0., 0., 0., 0., 0., 0., 0.,\n",
       "       0., 0., 0., 0., 0., 0., 0., 0., 0., 0., 0., 0., 0., 0., 0., 0., 0.,\n",
       "       0., 0., 0., 0., 0., 0., 0., 0., 0., 0., 0., 0., 0., 0., 0., 0., 0.,\n",
       "       0., 0., 0., 0., 0., 0., 0., 0., 0., 0., 0., 0., 0., 0., 0., 0., 0.,\n",
       "       0., 0., 0., 0., 0., 0., 0., 0., 0., 0., 0., 0., 0., 0., 0., 0., 0.,\n",
       "       0., 0., 0., 0., 0., 0., 0., 0., 0., 0., 0., 0., 0., 0., 0., 0., 0.,\n",
       "       0., 0., 0., 0., 0., 0., 0., 0., 0., 0., 0., 0., 0., 0., 0., 0., 0.,\n",
       "       0., 0., 0., 0., 0., 0., 0., 0., 0., 0., 0., 0., 0., 0., 0., 0., 0.,\n",
       "       0., 0., 0., 0., 0., 0., 0., 0., 0., 0., 0., 0., 0., 0., 0., 0., 0.,\n",
       "       0., 0., 0., 0., 0., 0., 0., 0., 0., 0., 0., 0., 0., 0., 0., 0., 0.,\n",
       "       0., 0., 0., 0., 0., 0., 0., 0., 0., 0., 0., 0., 0., 0., 0., 0., 0.,\n",
       "       0., 0., 0., 0., 0., 0., 0., 0., 0., 0., 0., 0., 0., 0., 0., 0., 0.,\n",
       "       0., 0., 0., 0., 0., 0., 0., 0., 0., 0., 0., 0., 0., 0., 0., 0., 0.,\n",
       "       0., 0., 0., 0., 0., 0., 0.])"
      ]
     },
     "execution_count": 10,
     "metadata": {},
     "output_type": "execute_result"
    }
   ],
   "source": [
    "approx_pvals"
   ]
  },
  {
   "cell_type": "code",
   "execution_count": 11,
   "id": "aad24126-a8dc-4da1-b627-d2e4861eba67",
   "metadata": {},
   "outputs": [],
   "source": [
    "categorical_divergences = npzfile['pearson_categorical_divergences']"
   ]
  },
  {
   "cell_type": "code",
   "execution_count": 12,
   "id": "87a01084-0184-4337-83e4-c234c8ed8afd",
   "metadata": {},
   "outputs": [
    {
     "data": {
      "text/plain": [
       "array([44563.68407381, 45112.9206183 , 45050.90127629, 44613.22180642,\n",
       "       45401.1596762 , 44651.34732318, 44757.6457854 , 44863.61417684,\n",
       "       44385.86165947, 45133.98198307, 44320.79842413, 45446.07746474,\n",
       "       44498.08535202, 44694.66543885, 44891.77718369, 44763.83130143,\n",
       "       44802.54717098, 45274.24477435, 45082.33919091, 44356.91543109,\n",
       "       45439.90780002, 45479.70644625, 45038.83513391, 45289.96767465,\n",
       "       43929.75071991, 43914.23482304, 45359.88083644, 45235.3862312 ,\n",
       "       44441.81851355, 45057.3880113 , 44473.49153126, 44147.99369846,\n",
       "       44795.95117032, 45327.39882306, 44803.89202179, 44554.77684906,\n",
       "       45385.19571367, 44421.54074538, 44985.71812333, 45016.61865153,\n",
       "       45199.656204  , 44235.27781367, 45155.16041998, 44787.30668747,\n",
       "       45010.52229688, 45174.27281572, 45434.25468781, 44634.70441898,\n",
       "       44826.46931251, 45043.03837426, 45076.90675203, 44476.43102898,\n",
       "       45429.48099768, 44721.48831202, 44435.56660571, 44971.64228883,\n",
       "       45666.59631097, 45604.65669022, 44983.39800744, 45348.56750653,\n",
       "       44371.57464074, 44988.59245477, 44619.57351948, 45108.33121469,\n",
       "       44574.44433953, 44871.04114067, 44815.91471326, 45392.59839538,\n",
       "       44522.91027053, 44125.52573057, 45074.76908306, 44615.94903612,\n",
       "       44784.6736151 , 44949.91892402, 44089.90016734, 45275.88983749,\n",
       "       45217.07339281, 44245.24833152, 44740.4814579 , 45275.23423302,\n",
       "       44429.83923337, 45251.70086953, 44356.22570929, 45223.8773808 ,\n",
       "       45246.04074637, 44716.02965058, 44025.61896559, 44497.31868018,\n",
       "       44547.63565117, 44928.42717139, 44343.62949644, 45250.94074733,\n",
       "       44281.43048118, 44476.09880911, 45444.13848267, 44786.09339364,\n",
       "       45046.4499643 , 44924.63229553, 45031.42189364, 44135.51344186,\n",
       "       45427.11424515, 44853.99645171, 44395.81923683, 44858.23019825,\n",
       "       44041.59777211, 45252.08131522, 44540.07567909, 44844.40008976,\n",
       "       45228.86686847, 44674.67408961, 44346.96772813, 44702.79604838,\n",
       "       44289.97370288, 44604.05473   , 44740.71418808, 44687.5267973 ,\n",
       "       45094.8771377 , 44977.94553522, 44247.18785428, 45225.04294398,\n",
       "       45448.99817621, 45030.238193  , 44138.83158779, 44729.04599221,\n",
       "       45200.82946911, 44966.99102079, 44207.88814967, 44467.82805672,\n",
       "       44972.10343574, 44980.94072461, 44615.91623469, 45531.19298176,\n",
       "       44699.61446383, 44642.52545098, 44849.99934117, 44410.76927346,\n",
       "       44917.98848272, 44284.41366823, 45158.38949642, 45301.1927124 ,\n",
       "       45246.22391118, 44118.77325402, 44608.36453837, 44219.66902938,\n",
       "       44511.38254209, 44343.14356168, 44161.73566781, 44559.41214068,\n",
       "       44106.76401089, 44071.40338979, 44776.87729559, 44395.01251819,\n",
       "       44022.94926039, 45145.93275272, 45636.66276199, 45777.90495714,\n",
       "       44650.00002943, 45134.11374876, 45054.6265576 , 44655.77638562,\n",
       "       44616.67686312, 44536.10413278, 44735.97497952, 44675.4616602 ,\n",
       "       44779.38159624, 44690.71439163, 45372.0378024 , 45814.43711048,\n",
       "       45202.93858183, 45804.72920146, 44909.18315043, 44681.14821221,\n",
       "       44789.16812442, 45277.55211304, 44884.37060662, 44584.31041494,\n",
       "       44812.29922336, 45658.69666722, 44816.96386949, 44868.35820305,\n",
       "       45023.85664888, 44801.24853776, 45099.32109351, 44848.70889417,\n",
       "       44514.64560115, 44634.6581791 , 44961.24182674, 44155.3956479 ,\n",
       "       45372.21221508, 45822.64845497, 45174.05456588, 44253.16495773,\n",
       "       44243.2496031 , 45222.50786435, 45235.5872536 , 44538.91261711,\n",
       "       45140.45220792, 44564.84910308, 44057.64595955, 45020.42076012,\n",
       "       45059.54537651, 45282.27299105, 44661.83086854, 44834.57382271,\n",
       "       45583.64186323, 45573.58310437, 45644.40969339, 45051.47322117,\n",
       "       44638.50235417, 44789.00483511, 45566.11467753, 45276.93771178,\n",
       "       44494.95007274, 44975.15234881, 45071.28485811, 45024.2752228 ,\n",
       "       44869.30752771, 45265.58931921, 44512.32470983, 45342.55563099,\n",
       "       44776.08804242, 44631.62310137, 45438.68024329, 44654.46465972,\n",
       "       44774.30534123, 45421.75871657, 44119.00581603, 44597.12263689,\n",
       "       44599.86927347, 44447.17955714, 45088.34394935, 44923.42792004,\n",
       "       43575.48524409, 44628.34812839, 44989.9940195 , 44379.00045037,\n",
       "       45062.39715556, 44705.13197813, 45682.46236323, 44916.13784423,\n",
       "       45163.82164597, 44836.92108971, 44492.69526224, 44517.70095147,\n",
       "       44414.75760981, 44393.67083812, 45194.66832463, 44431.1866683 ,\n",
       "       45273.52129707, 45094.39562508, 44274.96594155, 44493.70704022,\n",
       "       45039.81364706, 45645.23640628, 45281.5659203 , 44958.41676474,\n",
       "       44444.26469319, 45473.5831334 , 44496.23799872, 45292.28347475,\n",
       "       44747.52513898, 44603.3391816 , 45671.00433788, 44962.90375364,\n",
       "       44838.24551372, 44858.24943882, 45533.29448782, 44821.49239992,\n",
       "       44620.55731851, 44446.37038876, 45648.54260952, 45607.71805136,\n",
       "       44728.55599487, 45426.89613303, 45094.1242403 , 44321.79617184,\n",
       "       43943.05659579, 45224.94112467, 45078.67966613, 45289.33945019,\n",
       "       44613.15598134, 44029.39083839, 44873.67675629, 44887.45292827,\n",
       "       44361.18793586, 44915.79825072, 45656.7374846 , 45269.66658201,\n",
       "       44552.01956359, 45407.30147982, 44986.12203485, 44802.36698069,\n",
       "       45160.12198888, 44918.41966551, 44971.82494083, 45133.65863304,\n",
       "       45674.23498769, 44665.17744995, 44632.51498996, 44462.79081665,\n",
       "       44427.5795897 , 43813.09952979, 45144.89761445, 44390.40349335,\n",
       "       44454.5957429 , 44579.00661475, 45814.34054035, 45465.50357911,\n",
       "       44712.09261096, 45352.66675649, 45878.98872776, 45674.45704845,\n",
       "       45305.64525237, 45438.66099456, 44868.84819529, 45000.77375052,\n",
       "       44976.51037332, 44862.82730505, 44905.55360604, 44347.60919201,\n",
       "       44403.1933298 , 44861.82618155, 44137.21401582, 45068.53492398,\n",
       "       45065.61192503, 44466.63482304, 45403.97591694, 44352.57251164,\n",
       "       45003.7500507 , 44818.15176041, 45299.60449264, 44984.8390454 ,\n",
       "       45285.66725842, 45446.8802823 , 44962.36535697, 45039.08214017,\n",
       "       44908.85836712, 44164.58991903, 44583.89956009, 45116.25249825,\n",
       "       44988.35963384, 45215.45693053, 44612.39700397, 44629.94705372,\n",
       "       45272.75006265, 44833.61412849, 45210.99211337, 45402.38774797,\n",
       "       44744.47894833, 44516.4995383 , 44998.65857471, 44794.96638471,\n",
       "       45127.67293006, 45220.55863838, 43931.31017399, 45182.47180714,\n",
       "       45263.12492107, 45028.0798696 , 45013.89112363, 44423.29894277,\n",
       "       45458.53812184, 44553.47199244, 44931.48127401, 44676.50670173,\n",
       "       44449.70682715, 45109.15216627, 44833.07099197, 45184.57373617,\n",
       "       44395.03077978, 44392.71157863, 44674.45341341, 45326.36935284,\n",
       "       44709.90036538, 43622.67014293, 43940.12889457, 45769.65208401,\n",
       "       45013.19595597, 45022.47725254, 44704.88220092, 44481.90406858,\n",
       "       44761.57636529, 45154.6914622 , 44603.95351729, 45142.13827532,\n",
       "       45301.09894546, 45002.43625061, 44804.62602659, 44685.30466687,\n",
       "       44791.92351629, 45195.17281388, 45426.39595119, 44267.43910644,\n",
       "       45080.71989322, 44167.13966089, 44733.7886942 , 44724.85752285,\n",
       "       45269.89658322, 45205.28249428, 44433.08923329, 44540.76864003,\n",
       "       44937.02892679, 44896.24727197, 44986.54516059, 45158.95634679,\n",
       "       45618.74236332, 44386.71853294, 44238.23175055, 44258.15820684,\n",
       "       44911.24897273, 44230.53741016, 45112.21144252, 45209.97207428,\n",
       "       44417.1200518 , 45271.93339746, 45113.05018796, 44210.07261329,\n",
       "       45451.53015874, 44972.95495921, 45182.29038251, 44856.49681448,\n",
       "       45321.52705224, 44909.38571921, 44865.43328948, 44261.11966877,\n",
       "       44761.93602083, 45070.97211404, 45159.30898117, 44786.28878244,\n",
       "       44801.68756297, 44881.8385186 , 44748.18874633, 44991.54971661,\n",
       "       45483.563668  , 45071.49100093, 44877.17475241, 45484.32932992,\n",
       "       45724.14607412, 44518.01785962, 45092.93776483, 44914.80999609,\n",
       "       44946.86032214, 45203.56522698, 44700.75989654, 44282.04003863,\n",
       "       44235.67799363, 45856.07685309, 45429.45651182, 44301.48804605,\n",
       "       44728.6673976 , 44787.05604777, 44941.49921682, 44886.20004409,\n",
       "       44881.38939335, 44364.31188728, 44907.66411767, 45360.38446432,\n",
       "       44346.93917936, 44921.23667899, 44629.70336487, 45348.91717003,\n",
       "       44817.05256979, 44630.83494715, 44322.41149359, 44782.55492673,\n",
       "       44164.97800427, 44743.95448574, 44041.9347216 , 44984.82888908,\n",
       "       44458.47965861, 44117.09538422, 44664.36580117, 44735.62212622,\n",
       "       45308.9020321 , 45116.11344572, 45078.76061218, 44510.72151531,\n",
       "       44770.23619646, 44818.95457122, 45178.00343841, 45619.7435396 ,\n",
       "       45182.11551263, 45411.33161399, 45201.64969925, 44737.73078758,\n",
       "       44810.06006549, 44973.702507  , 44492.76643587, 45074.0765225 ,\n",
       "       45810.25525852, 44432.66298047, 44891.55943399, 45191.24623782,\n",
       "       44693.5532668 , 45221.17779436, 44790.52793645, 44977.19204937,\n",
       "       44867.12765729, 45183.84730084, 44841.63503647, 44866.63530159])"
      ]
     },
     "execution_count": 12,
     "metadata": {},
     "output_type": "execute_result"
    }
   ],
   "source": [
    "categorical_divergences"
   ]
  },
  {
   "cell_type": "code",
   "execution_count": 13,
   "id": "a7d388db-b0a0-4de9-af1c-ac774680fde1",
   "metadata": {},
   "outputs": [
    {
     "data": {
      "text/plain": [
       "(array([  2.,   9.,  32.,  61.,  76., 102.,  99.,  68.,  34.,  17.]),\n",
       " array([43575.48524409, 43805.83559246, 44036.18594083, 44266.53628919,\n",
       "        44496.88663756, 44727.23698593, 44957.58733429, 45187.93768266,\n",
       "        45418.28803103, 45648.6383794 , 45878.98872776]),\n",
       " <BarContainer object of 10 artists>)"
      ]
     },
     "execution_count": 13,
     "metadata": {},
     "output_type": "execute_result"
    },
    {
     "data": {
      "image/png": "[encoded data removed]",
      "text/plain": [
       "<Figure size 432x288 with 1 Axes>"
      ]
     },
     "metadata": {
      "needs_background": "light"
     },
     "output_type": "display_data"
    }
   ],
   "source": [
    "plt.hist(categorical_divergences)"
   ]
  },
  {
   "cell_type": "code",
   "execution_count": null,
   "id": "6a138bce-0c0f-4267-a292-e96f2922d309",
   "metadata": {},
   "outputs": [],
   "source": []
  }
 ],
 "metadata": {
  "kernelspec": {
   "display_name": "Python 3",
   "language": "python",
   "name": "python3"
  },
  "language_info": {
   "codemirror_mode": {
    "name": "ipython",
    "version": 3
   },
   "file_extension": ".py",
   "mimetype": "text/x-python",
   "name": "python",
   "nbconvert_exporter": "python",
   "pygments_lexer": "ipython3",
   "version": "3.9.2"
  }
 },
 "nbformat": 4,
 "nbformat_minor": 5
}
