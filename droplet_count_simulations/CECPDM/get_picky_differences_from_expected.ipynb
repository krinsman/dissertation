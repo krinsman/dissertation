{
 "cells": [
  {
   "cell_type": "code",
   "execution_count": 1,
   "id": "6d6a55fe-dc81-417e-b6c2-e05d5017832d",
   "metadata": {
    "execution": {
     "iopub.execute_input": "2021-06-25T15:53:11.277568Z",
     "iopub.status.busy": "2021-06-25T15:53:11.272022Z",
     "iopub.status.idle": "2021-06-25T15:53:15.951622Z",
     "shell.execute_reply": "2021-06-25T15:53:15.950577Z"
    }
   },
   "outputs": [],
   "source": [
    "import numpy as np\n",
    "import multiprocessing as mp\n",
    "\n",
    "import traceback\n",
    "\n",
    "from datetime import datetime\n",
    "from glob import glob\n",
    "from simulations.global_chi2_cpm import get_differences_from_expected"
   ]
  },
  {
   "cell_type": "code",
   "execution_count": 2,
   "id": "78ab8bff-bcc6-4ade-80c1-73f35a91c29b",
   "metadata": {
    "execution": {
     "iopub.execute_input": "2021-06-25T15:53:15.961830Z",
     "iopub.status.busy": "2021-06-25T15:53:15.960866Z",
     "iopub.status.idle": "2021-06-25T15:53:15.965404Z",
     "shell.execute_reply": "2021-06-25T15:53:15.964428Z"
    }
   },
   "outputs": [],
   "source": [
    "base_relative_abundances = [1e-4, 1e-3, 1e-2]\n",
    "\n",
    "relative_abundances = [relative_abundance * number\n",
    "                       for relative_abundance \n",
    "                       in base_relative_abundances\n",
    "                       for number in (1,2,5) \n",
    "                       for repeat in range(10)]\n",
    "\n",
    "relative_abundances += [1-sum(relative_abundances)]\n",
    "frequencies = np.array(relative_abundances)"
   ]
  },
  {
   "cell_type": "markdown",
   "id": "8e1c1165-fe30-491f-be9a-24d04996dc3b",
   "metadata": {},
   "source": [
    "You can't pickle a lambda for some reason that has the variables inside of it, but you can do the following and pass it to multiprocessing... ugh ew. Again for anyone who ever reads this, I am lazy and don't copy this -- making too many assumptions about state (e.g. by attempting to transfer global variables) is dangerous and usually a very bad no good idea, and now is probably not an exception to that rule of thumb either."
   ]
  },
  {
   "cell_type": "code",
   "execution_count": 3,
   "id": "44f1c664-8a13-4324-95d0-7aa12258616f",
   "metadata": {
    "execution": {
     "iopub.execute_input": "2021-06-25T15:53:15.980362Z",
     "iopub.status.busy": "2021-06-25T15:53:15.979398Z",
     "iopub.status.idle": "2021-06-25T15:53:15.984234Z",
     "shell.execute_reply": "2021-06-25T15:53:15.983424Z"
    }
   },
   "outputs": [],
   "source": [
    "def abuse_globals(filename):\n",
    "    npzfile = np.load(filename)\n",
    "    batch = npzfile['droplets']\n",
    "    try:\n",
    "        assert batch.shape[1] == frequencies.shape[0]\n",
    "    except AssertionError:\n",
    "        batch = batch.T\n",
    "        assert batch.shape[1] == frequencies.shape[0]\n",
    "    results = get_differences_from_expected(batch, frequencies, rate=2)\n",
    "    del(batch) # Maybe help with memory management???\n",
    "    return results"
   ]
  },
  {
   "cell_type": "code",
   "execution_count": 4,
   "id": "46958cf4-739a-4080-88e6-2732ecc2d329",
   "metadata": {
    "execution": {
     "iopub.execute_input": "2021-06-25T15:53:15.995429Z",
     "iopub.status.busy": "2021-06-25T15:53:15.994468Z",
     "iopub.status.idle": "2021-06-25T15:54:00.939875Z",
     "shell.execute_reply": "2021-06-25T15:54:00.938577Z"
    }
   },
   "outputs": [],
   "source": [
    "filenames = sorted(list(glob('simulation_results/npzfiles/*.npz')))\n",
    "# make sure all files are actually valid and not corrupted\n",
    "for filename in filenames:\n",
    "    try:\n",
    "        np.load(filename) # np.load is quick, even if accessing 'attribute' of npzfile can be slow\n",
    "    except Exception as error_message:\n",
    "        timestamp_filename = datetime.now().strftime('%m-%d-%Y.at.%H_%M_%S.log')\n",
    "        with open('error_logs/{}'.format(timestamp_filename), 'a') as file_pointer:\n",
    "            file_pointer.write('Problem with file `{}`.'.format(filename))\n",
    "            file_pointer.write(str(error_message))\n",
    "            file_pointer.write(traceback.format_exc())        "
   ]
  },
  {
   "cell_type": "markdown",
   "id": "1904806c-c49c-4813-8610-f09c63407775",
   "metadata": {},
   "source": [
    "We are going to open/load the results from each of the simulations, compute the observed and expected numbers of droplets belonging to picky groups (treatments and controls) and the differences of the observed from the expected."
   ]
  },
  {
   "cell_type": "code",
   "execution_count": 5,
   "id": "5e88e233-e529-4154-a1b9-b40309717876",
   "metadata": {
    "execution": {
     "iopub.execute_input": "2021-06-25T15:54:00.961225Z",
     "iopub.status.busy": "2021-06-25T15:54:00.959765Z",
     "iopub.status.idle": "2021-06-25T20:05:53.944254Z",
     "shell.execute_reply": "2021-06-25T20:05:53.945404Z"
    }
   },
   "outputs": [
    {
     "name": "stdout",
     "output_type": "stream",
     "text": [
      "CPU times: user 2.95 s, sys: 8.45 s, total: 11.4 s\n",
      "Wall time: 4h 11min 52s\n"
     ]
    }
   ],
   "source": [
    "%%time\n",
    "try:\n",
    "    pool = mp.Pool(40)\n",
    "    results = pool.map(abuse_globals, filenames, chunksize=1)\n",
    "    pool.close()\n",
    "    pool.join()\n",
    "except Exception as error_message:\n",
    "    timestamp_filename = datetime.now().strftime('%m-%d-%Y.at.%H_%M_%S.log')\n",
    "    with open('error_logs/{}'.format(timestamp_filename), 'a') as file_pointer:\n",
    "        file_pointer.write(str(error_message))\n",
    "        file_pointer.write(traceback.format_exc())"
   ]
  },
  {
   "cell_type": "markdown",
   "id": "d90c78c2-b39d-4880-b7ec-8857b4a71b21",
   "metadata": {},
   "source": [
    "Then we save the results to disk."
   ]
  },
  {
   "cell_type": "code",
   "execution_count": 6,
   "id": "6576c21f-0118-4e07-8d8c-fcd1c9cc739a",
   "metadata": {
    "execution": {
     "iopub.execute_input": "2021-06-25T20:05:53.960906Z",
     "iopub.status.busy": "2021-06-25T20:05:53.958057Z",
     "iopub.status.idle": "2021-06-25T20:05:55.173954Z",
     "shell.execute_reply": "2021-06-25T20:05:55.172937Z"
    }
   },
   "outputs": [],
   "source": [
    "empty_droplet_diffs, picky_group_diffs, multi_strain_droplet_diffs = list(zip(*results))\n",
    "empty_droplet_diffs = np.asarray(empty_droplet_diffs)\n",
    "picky_group_diffs = np.asarray(picky_group_diffs)\n",
    "multi_strain_droplet_diffs = np.asarray(multi_strain_droplet_diffs)\n",
    "\n",
    "np.savez_compressed('picky_observed_differences_from_expected.npz',\n",
    "empty_droplet_diffs=empty_droplet_diffs,\n",
    "picky_group_diffs=picky_group_diffs,\n",
    "multi_strain_droplet_diffs=multi_strain_droplet_diffs                    \n",
    ")"
   ]
  }
 ],
 "metadata": {
  "kernelspec": {
   "display_name": "Python 3",
   "language": "python",
   "name": "python3"
  },
  "language_info": {
   "codemirror_mode": {
    "name": "ipython",
    "version": 3
   },
   "file_extension": ".py",
   "mimetype": "text/x-python",
   "name": "python",
   "nbconvert_exporter": "python",
   "pygments_lexer": "ipython3",
   "version": "3.9.2"
  }
 },
 "nbformat": 4,
 "nbformat_minor": 5
}
