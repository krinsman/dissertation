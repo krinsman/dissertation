{
 "cells": [
  {
   "cell_type": "code",
   "execution_count": 1,
   "id": "678028b4-0fde-48fa-abe7-9e93eed8f58b",
   "metadata": {
    "execution": {
     "iopub.execute_input": "2021-05-30T20:12:37.314541Z",
     "iopub.status.busy": "2021-05-30T20:12:37.311395Z",
     "iopub.status.idle": "2021-05-30T20:12:37.570642Z",
     "shell.execute_reply": "2021-05-30T20:12:37.569511Z"
    }
   },
   "outputs": [],
   "source": [
    "import numpy as np\n",
    "import multiprocessing as mp\n",
    "import re\n",
    "import traceback\n",
    "\n",
    "from glob import glob\n",
    "from datetime import datetime\n",
    "from zipfile import BadZipfile"
   ]
  },
  {
   "cell_type": "code",
   "execution_count": 2,
   "id": "20cf6709-4a23-460f-888a-0b003450bb97",
   "metadata": {
    "execution": {
     "iopub.execute_input": "2021-05-30T20:12:37.577310Z",
     "iopub.status.busy": "2021-05-30T20:12:37.576201Z",
     "iopub.status.idle": "2021-05-30T20:12:37.581516Z",
     "shell.execute_reply": "2021-05-30T20:12:37.580509Z"
    }
   },
   "outputs": [],
   "source": [
    "filenames = sorted(list(glob('*.npz')))"
   ]
  },
  {
   "cell_type": "code",
   "execution_count": 3,
   "id": "60d460a1-b0f6-4e69-bd9e-02b63fe78cf2",
   "metadata": {
    "execution": {
     "iopub.execute_input": "2021-05-30T20:12:37.591066Z",
     "iopub.status.busy": "2021-05-30T20:12:37.589942Z",
     "iopub.status.idle": "2021-05-30T20:12:37.592258Z",
     "shell.execute_reply": "2021-05-30T20:12:37.593168Z"
    }
   },
   "outputs": [],
   "source": [
    "number_simulations = 500\n",
    "\n",
    "prettify = lambda integer: str(integer).zfill(len(str(number_simulations)))\n",
    "simulation_numbers = list(range(1, number_simulations+1))\n",
    "\n",
    "intended_filenames = ['CECPDM_results.{}.npz'.format(prettify(simulation_number))\n",
    "                      for simulation_number in simulation_numbers]\n",
    "\n",
    "try:\n",
    "    assert filenames == intended_filenames\n",
    "except AssertionError:\n",
    "    with open('../error_logs/file_status.log', 'a') as file_pointer:\n",
    "        timestamp = datetime.now().strftime('%m-%d-%Y.at.%H_%M_%S')\n",
    "        file_pointer.write('Some simulations are missing. timestamp={}\\n'.format(timestamp))"
   ]
  },
  {
   "cell_type": "code",
   "execution_count": 4,
   "id": "d6eb4367-f4ed-4f86-9917-5e3a0e59888b",
   "metadata": {
    "execution": {
     "iopub.execute_input": "2021-05-30T20:12:37.605229Z",
     "iopub.status.busy": "2021-05-30T20:12:37.602283Z",
     "iopub.status.idle": "2021-05-30T20:12:37.608718Z",
     "shell.execute_reply": "2021-05-30T20:12:37.607730Z"
    }
   },
   "outputs": [],
   "source": [
    "def check_file_status(filename):\n",
    "    filenumber = re.findall(r'CECPDM_results\\.([0-9]+)\\.npz', filename)[0]\n",
    "    \n",
    "    with open('../notebook_logs/file_status.{}.log'.format(filenumber), 'a') as file_pointer:\n",
    "        try:\n",
    "            npzfile = np.load(filename)\n",
    "            assert npzfile.files == ['droplets'], 'File does not have expected variables.'\n",
    "            file_pointer.write('File #{} has expected variables.'.format(filenumber))\n",
    "            droplets = npzfile['droplets']\n",
    "            assert droplets.shape == (15000000, 91)\n",
    "            file_pointer.write('Contents of file #{} have expected shape.'.format(filenumber))\n",
    "            file_pointer.write('All checks for file #{} passed.'.format(filenumber))\n",
    "            timestamp = datetime.now().strftime('%m-%d-%Y.at.%H_%M_%S')\n",
    "            file_pointer.write('timestamp={}\\n'.format(timestamp))\n",
    "            \n",
    "        except (FileNotFoundError, BadZipFile) as error_message: # file does not exist or is corrupted\n",
    "            file_pointer.write('File #{} does not exist or is corrupted.\\n'.format(filenumber))\n",
    "            file_pointer.write(str(error_message))\n",
    "            file_pointer.write(traceback.format_exc())\n",
    "            timestamp = datetime.now().strftime('%m-%d-%Y.at.%H_%M_%S')\n",
    "            file_pointer.write('timestamp={}\\n'.format(timestamp))\n",
    "            \n",
    "        except AssertionError as error_message:\n",
    "            file_pointer.write('File #{} has failed some checks.\\n'.format(filenumber))\n",
    "            file_pointer.write(str(error_message))\n",
    "            file_pointer.write(traceback.format_exc())\n",
    "            timestamp = datetime.now().strftime('%m-%d-%Y.at.%H_%M_%S')\n",
    "            file_pointer.write('timestamp={}\\n'.format(timestamp))"
   ]
  },
  {
   "cell_type": "code",
   "execution_count": 5,
   "id": "c66272f8-04fd-407c-bf30-e8ba294c6e6f",
   "metadata": {
    "execution": {
     "iopub.execute_input": "2021-05-30T20:12:37.616212Z",
     "iopub.status.busy": "2021-05-30T20:12:37.615094Z",
     "iopub.status.idle": "2021-05-30T20:27:59.386719Z",
     "shell.execute_reply": "2021-05-30T20:27:59.388168Z"
    }
   },
   "outputs": [
    {
     "name": "stdout",
     "output_type": "stream",
     "text": [
      "CPU times: user 245 ms, sys: 615 ms, total: 860 ms\n",
      "Wall time: 15min 21s\n"
     ]
    }
   ],
   "source": [
    "%%time\n",
    "try:\n",
    "    pool = mp.Pool(40)\n",
    "    pool.map(check_file_status, filenames)\n",
    "    pool.close()\n",
    "    pool.join()\n",
    "except RuntimeError as error_message:\n",
    "    timestamp_filename = datetime.now().strftime('%m-%d-%Y.at.%H_%M_%S.log')\n",
    "    with open('../error_logs/{}'.format(timestamp_filename), 'a') as file_pointer:\n",
    "        file_pointer.write(str(error_message))\n",
    "        file_pointer.write(traceback.format_exc())"
   ]
  }
 ],
 "metadata": {
  "kernelspec": {
   "display_name": "Python 3",
   "language": "python",
   "name": "python3"
  },
  "language_info": {
   "codemirror_mode": {
    "name": "ipython",
    "version": 3
   },
   "file_extension": ".py",
   "mimetype": "text/x-python",
   "name": "python",
   "nbconvert_exporter": "python",
   "pygments_lexer": "ipython3",
   "version": "3.9.2"
  }
 },
 "nbformat": 4,
 "nbformat_minor": 5
}
