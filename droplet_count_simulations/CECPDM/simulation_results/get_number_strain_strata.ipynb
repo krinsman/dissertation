{
 "cells": [
  {
   "cell_type": "code",
   "execution_count": null,
   "id": "5c7b2517-d21c-4f3c-bdf3-be2c5f6f9288",
   "metadata": {},
   "outputs": [],
   "source": [
    "import multiprocessing as mp\n",
    "\n",
    "from glob import glob\n",
    "from analysis_utils.get_number_strain_strata import get_strata_counts"
   ]
  },
  {
   "cell_type": "code",
   "execution_count": null,
   "id": "8e9293a8-6ced-4d28-993f-57cc434e02fc",
   "metadata": {},
   "outputs": [],
   "source": [
    "filenames = sorted(list(glob('npzfiles/*.npz')))"
   ]
  },
  {
   "cell_type": "code",
   "execution_count": null,
   "id": "a7730135-4f1f-4124-afac-dedf5e71d895",
   "metadata": {
    "tags": []
   },
   "outputs": [],
   "source": [
    "with mp.get_context('spawn').Pool(processes=50) as pool:\n",
    "    pool.map(get_strata_counts, filenames, chunksize=1)"
   ]
  }
 ],
 "metadata": {
  "kernelspec": {
   "display_name": "Python 3",
   "language": "python",
   "name": "python3"
  },
  "language_info": {
   "codemirror_mode": {
    "name": "ipython",
    "version": 3
   },
   "file_extension": ".py",
   "mimetype": "text/x-python",
   "name": "python",
   "nbconvert_exporter": "python",
   "pygments_lexer": "ipython3",
   "version": "3.9.2"
  }
 },
 "nbformat": 4,
 "nbformat_minor": 5
}
