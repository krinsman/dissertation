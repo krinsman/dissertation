{
 "cells": [
  {
   "cell_type": "code",
   "execution_count": 1,
   "id": "93d74bf9-eb90-43f4-8d82-cb1032034c0e",
   "metadata": {
    "execution": {
     "iopub.execute_input": "2021-09-07T18:26:36.770315Z",
     "iopub.status.busy": "2021-09-07T18:26:36.768208Z",
     "iopub.status.idle": "2021-09-07T18:26:37.052628Z",
     "shell.execute_reply": "2021-09-07T18:26:37.051546Z"
    }
   },
   "outputs": [],
   "source": [
    "import numpy as np\n",
    "import multiprocessing as mp"
   ]
  },
  {
   "cell_type": "code",
   "execution_count": 2,
   "id": "4e1c88d9-5cd2-4b92-a40c-f82587653879",
   "metadata": {
    "execution": {
     "iopub.execute_input": "2021-09-07T18:26:37.059328Z",
     "iopub.status.busy": "2021-09-07T18:26:37.058372Z",
     "iopub.status.idle": "2021-09-07T18:26:38.966446Z",
     "shell.execute_reply": "2021-09-07T18:26:38.965287Z"
    }
   },
   "outputs": [],
   "source": [
    "from glob import glob\n",
    "from analysis_utils.concentrations_MLE import get_DM_MLE"
   ]
  },
  {
   "cell_type": "code",
   "execution_count": 3,
   "id": "bc7fe0d1-e9c5-4bc4-9508-547824a3bba3",
   "metadata": {
    "execution": {
     "iopub.execute_input": "2021-09-07T18:26:38.975379Z",
     "iopub.status.busy": "2021-09-07T18:26:38.974145Z",
     "iopub.status.idle": "2021-09-07T18:26:39.124611Z",
     "shell.execute_reply": "2021-09-07T18:26:39.125741Z"
    }
   },
   "outputs": [],
   "source": [
    "filenames = sorted(list(glob('npzfiles/*.npz')))"
   ]
  },
  {
   "cell_type": "code",
   "execution_count": 4,
   "id": "3b328135-f5f2-4d03-bddf-73763b0d6dad",
   "metadata": {
    "execution": {
     "iopub.execute_input": "2021-09-07T18:26:39.137383Z",
     "iopub.status.busy": "2021-09-07T18:26:39.135959Z",
     "iopub.status.idle": "2021-09-07T18:33:30.996902Z",
     "shell.execute_reply": "2021-09-07T18:33:30.995928Z"
    }
   },
   "outputs": [
    {
     "name": "stdout",
     "output_type": "stream",
     "text": [
      "CPU times: user 334 ms, sys: 852 ms, total: 1.19 s\n",
      "Wall time: 6min 51s\n"
     ]
    }
   ],
   "source": [
    "%%time\n",
    "with mp.get_context(\"spawn\").Pool(40) as pool:\n",
    "    pool.map(get_DM_MLE, filenames, chunksize=1)\n",
    "    pool.close()\n",
    "    pool.join()"
   ]
  }
 ],
 "metadata": {
  "kernelspec": {
   "display_name": "Python 3",
   "language": "python",
   "name": "python3"
  },
  "language_info": {
   "codemirror_mode": {
    "name": "ipython",
    "version": 3
   },
   "file_extension": ".py",
   "mimetype": "text/x-python",
   "name": "python",
   "nbconvert_exporter": "python",
   "pygments_lexer": "ipython3",
   "version": "3.9.2"
  }
 },
 "nbformat": 4,
 "nbformat_minor": 5
}
