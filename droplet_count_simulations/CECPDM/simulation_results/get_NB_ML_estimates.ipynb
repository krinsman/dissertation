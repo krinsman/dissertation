{
 "cells": [
  {
   "cell_type": "code",
   "execution_count": 1,
   "id": "93d74bf9-eb90-43f4-8d82-cb1032034c0e",
   "metadata": {
    "execution": {
     "iopub.execute_input": "2021-09-09T21:12:26.289607Z",
     "iopub.status.busy": "2021-09-09T21:12:26.284177Z",
     "iopub.status.idle": "2021-09-09T21:12:26.588430Z",
     "shell.execute_reply": "2021-09-09T21:12:26.587084Z"
    },
    "tags": []
   },
   "outputs": [],
   "source": [
    "import numpy as np\n",
    "import multiprocessing as mp"
   ]
  },
  {
   "cell_type": "code",
   "execution_count": 2,
   "id": "4e1c88d9-5cd2-4b92-a40c-f82587653879",
   "metadata": {
    "execution": {
     "iopub.execute_input": "2021-09-09T21:12:26.596615Z",
     "iopub.status.busy": "2021-09-09T21:12:26.595345Z",
     "iopub.status.idle": "2021-09-09T21:12:28.559361Z",
     "shell.execute_reply": "2021-09-09T21:12:28.557981Z"
    }
   },
   "outputs": [],
   "source": [
    "from glob import glob\n",
    "from analysis_utils.concentrations_MLE import get_NB_MLE"
   ]
  },
  {
   "cell_type": "code",
   "execution_count": 3,
   "id": "bc7fe0d1-e9c5-4bc4-9508-547824a3bba3",
   "metadata": {
    "execution": {
     "iopub.execute_input": "2021-09-09T21:12:28.566909Z",
     "iopub.status.busy": "2021-09-09T21:12:28.565443Z",
     "iopub.status.idle": "2021-09-09T21:12:28.572537Z",
     "shell.execute_reply": "2021-09-09T21:12:28.571145Z"
    }
   },
   "outputs": [],
   "source": [
    "filenames = sorted(list(glob('npzfiles/*.npz')))"
   ]
  },
  {
   "cell_type": "code",
   "execution_count": 4,
   "id": "3b328135-f5f2-4d03-bddf-73763b0d6dad",
   "metadata": {
    "execution": {
     "iopub.execute_input": "2021-09-09T21:12:28.580820Z",
     "iopub.status.busy": "2021-09-09T21:12:28.579352Z",
     "iopub.status.idle": "2021-09-09T21:44:09.669760Z",
     "shell.execute_reply": "2021-09-09T21:44:09.671071Z"
    }
   },
   "outputs": [
    {
     "name": "stdout",
     "output_type": "stream",
     "text": [
      "CPU times: user 1.12 s, sys: 1.1 s, total: 2.22 s\n",
      "Wall time: 31min 41s\n"
     ]
    }
   ],
   "source": [
    "%%time\n",
    "with mp.get_context(\"spawn\").Pool(25) as pool:\n",
    "    pool.map(get_NB_MLE, filenames, chunksize=1)\n",
    "    pool.close()\n",
    "    pool.join()"
   ]
  }
 ],
 "metadata": {
  "kernelspec": {
   "display_name": "Python 3",
   "language": "python",
   "name": "python3"
  },
  "language_info": {
   "codemirror_mode": {
    "name": "ipython",
    "version": 3
   },
   "file_extension": ".py",
   "mimetype": "text/x-python",
   "name": "python",
   "nbconvert_exporter": "python",
   "pygments_lexer": "ipython3",
   "version": "3.9.2"
  }
 },
 "nbformat": 4,
 "nbformat_minor": 5
}
