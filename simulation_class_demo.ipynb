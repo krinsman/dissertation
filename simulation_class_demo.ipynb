{
 "cells": [
  {
   "cell_type": "code",
   "execution_count": 1,
   "metadata": {},
   "outputs": [],
   "source": [
    "import numpy as np\n",
    "from simulations import dropletSimulation\n"
   ]
  },
  {
   "cell_type": "code",
   "execution_count": 2,
   "metadata": {},
   "outputs": [],
   "source": [
    "def random_frequency_vector(length):\n",
    "    unnormalized = np.random.randint(low=0, high=370, size=length)\n",
    "    return unnormalized / sum(unnormalized)\n",
    "\n",
    "def random_copy_numbers(length):\n",
    "    return np.random.randint(low=1, high=16, size=length)\n",
    "\n",
    "A = 2*(np.random.random((100,100)) - 0.5)\n",
    "beta = np.random.random(100)\n",
    "\n",
    "simulation = dropletSimulation(number_species=100, number_droplets=1000, number_batches=5, \n",
    "             copy_numbers=random_copy_numbers(100), frequency_vector=random_frequency_vector(100),\n",
    "             glv_interaction_coefficients=A, glv_baserate_coefficients=beta, noise_scale=2, seed=42)"
   ]
  },
  {
   "cell_type": "code",
   "execution_count": 3,
   "metadata": {},
   "outputs": [
    {
     "data": {
      "text/plain": [
       "10000.0"
      ]
     },
     "execution_count": 3,
     "metadata": {},
     "output_type": "execute_result"
    }
   ],
   "source": [
    "simulation.carrying_capacity"
   ]
  },
  {
   "cell_type": "code",
   "execution_count": 4,
   "metadata": {},
   "outputs": [
    {
     "data": {
      "text/plain": [
       "2.0"
      ]
     },
     "execution_count": 4,
     "metadata": {},
     "output_type": "execute_result"
    }
   ],
   "source": [
    "simulation.poisson_rate"
   ]
  },
  {
   "cell_type": "code",
   "execution_count": 5,
   "metadata": {},
   "outputs": [
    {
     "data": {
      "text/plain": [
       "SeedSequence(\n",
       "    entropy=42,\n",
       ")"
      ]
     },
     "execution_count": 5,
     "metadata": {},
     "output_type": "execute_result"
    }
   ],
   "source": [
    "simulation.seed"
   ]
  },
  {
   "cell_type": "code",
   "execution_count": 6,
   "metadata": {},
   "outputs": [
    {
     "data": {
      "text/plain": [
       "0.01"
      ]
     },
     "execution_count": 6,
     "metadata": {},
     "output_type": "execute_result"
    }
   ],
   "source": [
    "simulation.timestep"
   ]
  },
  {
   "cell_type": "code",
   "execution_count": 7,
   "metadata": {},
   "outputs": [
    {
     "ename": "AttributeError",
     "evalue": "Please first use the `run_simulation` method in order to access the `cells` attribute",
     "output_type": "error",
     "traceback": [
      "\u001b[0;31m---------------------------------------------------------------------------\u001b[0m",
      "\u001b[0;31mAttributeError\u001b[0m                            Traceback (most recent call last)",
      "\u001b[0;32m<ipython-input-7-fbc24fb33a82>\u001b[0m in \u001b[0;36m<module>\u001b[0;34m\u001b[0m\n\u001b[0;32m----> 1\u001b[0;31m \u001b[0msimulation\u001b[0m\u001b[0;34m.\u001b[0m\u001b[0mcells\u001b[0m\u001b[0;34m\u001b[0m\u001b[0;34m\u001b[0m\u001b[0m\n\u001b[0m",
      "\u001b[0;32m~/Career/Microbial Interactome/simulations/simulations/simulation_classes.py\u001b[0m in \u001b[0;36m__getattr__\u001b[0;34m(self, name)\u001b[0m\n\u001b[1;32m    267\u001b[0m     \u001b[0;32mdef\u001b[0m \u001b[0m__getattr__\u001b[0m\u001b[0;34m(\u001b[0m\u001b[0mself\u001b[0m\u001b[0;34m,\u001b[0m \u001b[0mname\u001b[0m\u001b[0;34m)\u001b[0m\u001b[0;34m:\u001b[0m\u001b[0;34m\u001b[0m\u001b[0;34m\u001b[0m\u001b[0m\n\u001b[1;32m    268\u001b[0m         \u001b[0;32mif\u001b[0m \u001b[0;34m(\u001b[0m\u001b[0mname\u001b[0m \u001b[0;34m==\u001b[0m \u001b[0;34m\"reads\"\u001b[0m\u001b[0;34m)\u001b[0m \u001b[0;32mor\u001b[0m \u001b[0;34m(\u001b[0m\u001b[0mname\u001b[0m \u001b[0;34m==\u001b[0m \u001b[0;34m\"cells\"\u001b[0m\u001b[0;34m)\u001b[0m\u001b[0;34m:\u001b[0m\u001b[0;34m\u001b[0m\u001b[0;34m\u001b[0m\u001b[0m\n\u001b[0;32m--> 269\u001b[0;31m             raise AttributeError(\n\u001b[0m\u001b[1;32m    270\u001b[0m                 \"Please first use the `run_simulation` method in order to access the `{}` attribute\".format(\n\u001b[1;32m    271\u001b[0m                     \u001b[0mname\u001b[0m\u001b[0;34m\u001b[0m\u001b[0;34m\u001b[0m\u001b[0m\n",
      "\u001b[0;31mAttributeError\u001b[0m: Please first use the `run_simulation` method in order to access the `cells` attribute"
     ]
    }
   ],
   "source": [
    "simulation.cells"
   ]
  },
  {
   "cell_type": "code",
   "execution_count": 8,
   "metadata": {},
   "outputs": [
    {
     "ename": "AttributeError",
     "evalue": "Please first use the `run_simulation` method in order to access the `reads` attribute",
     "output_type": "error",
     "traceback": [
      "\u001b[0;31m---------------------------------------------------------------------------\u001b[0m",
      "\u001b[0;31mAttributeError\u001b[0m                            Traceback (most recent call last)",
      "\u001b[0;32m<ipython-input-8-8cddab96872c>\u001b[0m in \u001b[0;36m<module>\u001b[0;34m\u001b[0m\n\u001b[0;32m----> 1\u001b[0;31m \u001b[0msimulation\u001b[0m\u001b[0;34m.\u001b[0m\u001b[0mreads\u001b[0m\u001b[0;34m\u001b[0m\u001b[0;34m\u001b[0m\u001b[0m\n\u001b[0m",
      "\u001b[0;32m~/Career/Microbial Interactome/simulations/simulations/simulation_classes.py\u001b[0m in \u001b[0;36m__getattr__\u001b[0;34m(self, name)\u001b[0m\n\u001b[1;32m    267\u001b[0m     \u001b[0;32mdef\u001b[0m \u001b[0m__getattr__\u001b[0m\u001b[0;34m(\u001b[0m\u001b[0mself\u001b[0m\u001b[0;34m,\u001b[0m \u001b[0mname\u001b[0m\u001b[0;34m)\u001b[0m\u001b[0;34m:\u001b[0m\u001b[0;34m\u001b[0m\u001b[0;34m\u001b[0m\u001b[0m\n\u001b[1;32m    268\u001b[0m         \u001b[0;32mif\u001b[0m \u001b[0;34m(\u001b[0m\u001b[0mname\u001b[0m \u001b[0;34m==\u001b[0m \u001b[0;34m\"reads\"\u001b[0m\u001b[0;34m)\u001b[0m \u001b[0;32mor\u001b[0m \u001b[0;34m(\u001b[0m\u001b[0mname\u001b[0m \u001b[0;34m==\u001b[0m \u001b[0;34m\"cells\"\u001b[0m\u001b[0;34m)\u001b[0m\u001b[0;34m:\u001b[0m\u001b[0;34m\u001b[0m\u001b[0;34m\u001b[0m\u001b[0m\n\u001b[0;32m--> 269\u001b[0;31m             raise AttributeError(\n\u001b[0m\u001b[1;32m    270\u001b[0m                 \"Please first use the `run_simulation` method in order to access the `{}` attribute\".format(\n\u001b[1;32m    271\u001b[0m                     \u001b[0mname\u001b[0m\u001b[0;34m\u001b[0m\u001b[0;34m\u001b[0m\u001b[0m\n",
      "\u001b[0;31mAttributeError\u001b[0m: Please first use the `run_simulation` method in order to access the `reads` attribute"
     ]
    }
   ],
   "source": [
    "simulation.reads"
   ]
  },
  {
   "cell_type": "code",
   "execution_count": 9,
   "metadata": {},
   "outputs": [],
   "source": [
    "simulation2 = dropletSimulation(number_species=100, number_droplets=1000, number_batches=5, \n",
    "             copy_numbers=random_copy_numbers(100), frequency_vector=random_frequency_vector(100),\n",
    "             glv_interaction_coefficients=A, glv_baserate_coefficients=beta, noise_scale=2,\n",
    "                               timestep = 0.001, batch_window=20)"
   ]
  },
  {
   "cell_type": "code",
   "execution_count": 10,
   "metadata": {},
   "outputs": [
    {
     "name": "stdout",
     "output_type": "stream",
     "text": [
      "CPU times: user 1.28 s, sys: 528 ms, total: 1.81 s\n",
      "Wall time: 2.28 s\n"
     ]
    }
   ],
   "source": [
    "%%time\n",
    "simulation.run_simulation()"
   ]
  },
  {
   "cell_type": "code",
   "execution_count": 11,
   "metadata": {},
   "outputs": [
    {
     "name": "stdout",
     "output_type": "stream",
     "text": [
      "CPU times: user 1.24 s, sys: 515 ms, total: 1.76 s\n",
      "Wall time: 7.41 s\n"
     ]
    }
   ],
   "source": [
    "%%time\n",
    "simulation2.run_simulation()"
   ]
  },
  {
   "cell_type": "code",
   "execution_count": 12,
   "metadata": {},
   "outputs": [
    {
     "data": {
      "text/plain": [
       "61566.61296742062"
      ]
     },
     "execution_count": 12,
     "metadata": {},
     "output_type": "execute_result"
    }
   ],
   "source": [
    "np.max(simulation2.cells.counts)"
   ]
  },
  {
   "cell_type": "code",
   "execution_count": 13,
   "metadata": {},
   "outputs": [
    {
     "data": {
      "text/plain": [
       "59888213951256.84"
      ]
     },
     "execution_count": 13,
     "metadata": {},
     "output_type": "execute_result"
    }
   ],
   "source": [
    "np.max(simulation.cells.counts)"
   ]
  },
  {
   "cell_type": "code",
   "execution_count": 14,
   "metadata": {},
   "outputs": [],
   "source": [
    "simulation3 = dropletSimulation(number_species=100, number_droplets=1000, number_batches=5, \n",
    "             copy_numbers=random_copy_numbers(100), frequency_vector=random_frequency_vector(100),\n",
    "             glv_interaction_coefficients=A, glv_baserate_coefficients=beta, noise_scale=2,\n",
    "                               timestep = 0.0001, batch_window=200)"
   ]
  },
  {
   "cell_type": "code",
   "execution_count": 15,
   "metadata": {},
   "outputs": [
    {
     "name": "stdout",
     "output_type": "stream",
     "text": [
      "CPU times: user 1.23 s, sys: 529 ms, total: 1.76 s\n",
      "Wall time: 1min 1s\n"
     ]
    }
   ],
   "source": [
    "%%time\n",
    "simulation3.run_simulation()"
   ]
  },
  {
   "cell_type": "code",
   "execution_count": 16,
   "metadata": {},
   "outputs": [
    {
     "data": {
      "text/plain": [
       "1725"
      ]
     },
     "execution_count": 16,
     "metadata": {},
     "output_type": "execute_result"
    }
   ],
   "source": [
    "np.sum(simulation.reads.counts >= 10000)"
   ]
  },
  {
   "cell_type": "code",
   "execution_count": 17,
   "metadata": {},
   "outputs": [
    {
     "data": {
      "text/plain": [
       "927"
      ]
     },
     "execution_count": 17,
     "metadata": {},
     "output_type": "execute_result"
    }
   ],
   "source": [
    "np.sum(simulation.reads.counts >= 100000)"
   ]
  },
  {
   "cell_type": "code",
   "execution_count": 18,
   "metadata": {},
   "outputs": [
    {
     "data": {
      "text/plain": [
       "397"
      ]
     },
     "execution_count": 18,
     "metadata": {},
     "output_type": "execute_result"
    }
   ],
   "source": [
    "np.sum(simulation.cells.counts >= 10000)"
   ]
  },
  {
   "cell_type": "code",
   "execution_count": 19,
   "metadata": {},
   "outputs": [
    {
     "data": {
      "text/plain": [
       "200"
      ]
     },
     "execution_count": 19,
     "metadata": {},
     "output_type": "execute_result"
    }
   ],
   "source": [
    "np.sum(simulation.cells.counts >= 100000)"
   ]
  },
  {
   "cell_type": "code",
   "execution_count": 20,
   "metadata": {},
   "outputs": [
    {
     "data": {
      "text/plain": [
       "107"
      ]
     },
     "execution_count": 20,
     "metadata": {},
     "output_type": "execute_result"
    }
   ],
   "source": [
    "np.sum(simulation.cells.counts >= 1000000)"
   ]
  },
  {
   "cell_type": "code",
   "execution_count": 21,
   "metadata": {},
   "outputs": [
    {
     "data": {
      "text/plain": [
       "31"
      ]
     },
     "execution_count": 21,
     "metadata": {},
     "output_type": "execute_result"
    }
   ],
   "source": [
    "np.sum(simulation.cells.counts >= 100000000)"
   ]
  },
  {
   "cell_type": "code",
   "execution_count": 22,
   "metadata": {},
   "outputs": [
    {
     "data": {
      "text/plain": [
       "6"
      ]
     },
     "execution_count": 22,
     "metadata": {},
     "output_type": "execute_result"
    }
   ],
   "source": [
    "np.sum(simulation.cells.counts >= 100000000000)"
   ]
  },
  {
   "cell_type": "code",
   "execution_count": 23,
   "metadata": {},
   "outputs": [
    {
     "data": {
      "text/plain": [
       "500000"
      ]
     },
     "execution_count": 23,
     "metadata": {},
     "output_type": "execute_result"
    }
   ],
   "source": [
    "np.sum(simulation.cells.counts < np.inf)"
   ]
  },
  {
   "cell_type": "code",
   "execution_count": 24,
   "metadata": {},
   "outputs": [
    {
     "data": {
      "text/plain": [
       "287"
      ]
     },
     "execution_count": 24,
     "metadata": {},
     "output_type": "execute_result"
    }
   ],
   "source": [
    "np.sum(simulation.cells[...,2] >= 10000)"
   ]
  },
  {
   "cell_type": "code",
   "execution_count": 25,
   "metadata": {},
   "outputs": [
    {
     "data": {
      "text/plain": [
       "0"
      ]
     },
     "execution_count": 25,
     "metadata": {},
     "output_type": "execute_result"
    }
   ],
   "source": [
    "np.sum(simulation.cells[...,0] >= 10000)"
   ]
  },
  {
   "cell_type": "code",
   "execution_count": 26,
   "metadata": {},
   "outputs": [
    {
     "data": {
      "text/plain": [
       "0"
      ]
     },
     "execution_count": 26,
     "metadata": {},
     "output_type": "execute_result"
    }
   ],
   "source": [
    "np.sum(simulation.cells[...,1] >= 10000)"
   ]
  },
  {
   "cell_type": "code",
   "execution_count": 27,
   "metadata": {},
   "outputs": [
    {
     "data": {
      "text/plain": [
       "287"
      ]
     },
     "execution_count": 27,
     "metadata": {},
     "output_type": "execute_result"
    }
   ],
   "source": [
    "np.sum(simulation.cells[...,2] >= 10000)"
   ]
  },
  {
   "cell_type": "code",
   "execution_count": 28,
   "metadata": {},
   "outputs": [
    {
     "data": {
      "text/plain": [
       "91"
      ]
     },
     "execution_count": 28,
     "metadata": {},
     "output_type": "execute_result"
    }
   ],
   "source": [
    "np.sum(simulation.cells[...,3] >= 10000)"
   ]
  },
  {
   "cell_type": "code",
   "execution_count": 29,
   "metadata": {},
   "outputs": [
    {
     "data": {
      "text/plain": [
       "19"
      ]
     },
     "execution_count": 29,
     "metadata": {},
     "output_type": "execute_result"
    }
   ],
   "source": [
    "np.sum(simulation.cells[...,4] >= 10000)"
   ]
  },
  {
   "cell_type": "markdown",
   "metadata": {},
   "source": [
    "ok kind of looks like things are getting smaller"
   ]
  },
  {
   "cell_type": "code",
   "execution_count": 30,
   "metadata": {},
   "outputs": [
    {
     "data": {
      "text/plain": [
       "0"
      ]
     },
     "execution_count": 30,
     "metadata": {},
     "output_type": "execute_result"
    }
   ],
   "source": [
    "np.sum(simulation.reads[...,0] >= 10000)"
   ]
  },
  {
   "cell_type": "code",
   "execution_count": 31,
   "metadata": {},
   "outputs": [
    {
     "data": {
      "text/plain": [
       "0"
      ]
     },
     "execution_count": 31,
     "metadata": {},
     "output_type": "execute_result"
    }
   ],
   "source": [
    "np.sum(simulation.reads[...,1] >= 10000)"
   ]
  },
  {
   "cell_type": "code",
   "execution_count": 32,
   "metadata": {},
   "outputs": [
    {
     "data": {
      "text/plain": [
       "289"
      ]
     },
     "execution_count": 32,
     "metadata": {},
     "output_type": "execute_result"
    }
   ],
   "source": [
    "np.sum(simulation.reads[...,2] >= 10000)"
   ]
  },
  {
   "cell_type": "code",
   "execution_count": 33,
   "metadata": {},
   "outputs": [
    {
     "data": {
      "text/plain": [
       "665"
      ]
     },
     "execution_count": 33,
     "metadata": {},
     "output_type": "execute_result"
    }
   ],
   "source": [
    "np.sum(simulation.reads[...,3] >= 10000)"
   ]
  },
  {
   "cell_type": "code",
   "execution_count": 34,
   "metadata": {},
   "outputs": [
    {
     "data": {
      "text/plain": [
       "771"
      ]
     },
     "execution_count": 34,
     "metadata": {},
     "output_type": "execute_result"
    }
   ],
   "source": [
    "np.sum(simulation.reads[...,4] >= 10000)"
   ]
  },
  {
   "cell_type": "markdown",
   "metadata": {},
   "source": [
    "yeah number gets larger with each batch, for reads, again, makes sense"
   ]
  },
  {
   "cell_type": "code",
   "execution_count": 35,
   "metadata": {},
   "outputs": [
    {
     "data": {
      "text/plain": [
       "500000"
      ]
     },
     "execution_count": 35,
     "metadata": {},
     "output_type": "execute_result"
    }
   ],
   "source": [
    "np.sum(simulation.reads.counts >= simulation.cells.counts)"
   ]
  },
  {
   "cell_type": "markdown",
   "metadata": {},
   "source": [
    "also perfect yay"
   ]
  },
  {
   "cell_type": "code",
   "execution_count": 36,
   "metadata": {},
   "outputs": [
    {
     "name": "stdout",
     "output_type": "stream",
     "text": [
      "CPU times: user 913 ms, sys: 28.1 ms, total: 941 ms\n",
      "Wall time: 1.08 s\n"
     ]
    }
   ],
   "source": [
    "%%time\n",
    "simulation.reads.group_droplets()"
   ]
  },
  {
   "cell_type": "code",
   "execution_count": 37,
   "metadata": {},
   "outputs": [
    {
     "data": {
      "text/plain": [
       "array([[[0.        , 0.        , 0.        , 0.        , 0.        ],\n",
       "        [       nan,        nan,        nan,        nan,        nan],\n",
       "        [       nan,        nan,        nan,        nan,        nan],\n",
       "        ...,\n",
       "        [       nan,        nan,        nan,        nan,        nan],\n",
       "        [       nan,        nan,        nan,        nan,        nan],\n",
       "        [       nan,        nan,        nan,        nan,        nan]],\n",
       "\n",
       "       [[       nan,        nan,        nan,        nan,        nan],\n",
       "        [0.        , 0.        , 0.        , 0.        , 0.        ],\n",
       "        [       nan,        nan,        nan,        nan,        nan],\n",
       "        ...,\n",
       "        [       nan,        nan,        nan,        nan,        nan],\n",
       "        [       nan,        nan,        nan,        nan,        nan],\n",
       "        [       nan,        nan,        nan,        nan,        nan]],\n",
       "\n",
       "       [[       nan,        nan,        nan,        nan,        nan],\n",
       "        [       nan,        nan,        nan,        nan,        nan],\n",
       "        [0.        , 0.        , 0.        , 0.        , 0.        ],\n",
       "        ...,\n",
       "        [       nan,        nan,        nan,        nan,        nan],\n",
       "        [       nan, 0.14483099,        nan,        nan,        nan],\n",
       "        [       nan,        nan,        nan,        nan,        nan]],\n",
       "\n",
       "       ...,\n",
       "\n",
       "       [[       nan,        nan,        nan,        nan,        nan],\n",
       "        [       nan,        nan,        nan,        nan,        nan],\n",
       "        [       nan,        nan,        nan,        nan,        nan],\n",
       "        ...,\n",
       "        [0.        , 0.        , 0.        , 0.        , 0.        ],\n",
       "        [       nan,        nan,        nan,        nan,        nan],\n",
       "        [       nan,        nan,        nan,        nan,        nan]],\n",
       "\n",
       "       [[       nan,        nan,        nan,        nan,        nan],\n",
       "        [       nan,        nan,        nan,        nan,        nan],\n",
       "        [       nan, 0.22765651,        nan,        nan,        nan],\n",
       "        ...,\n",
       "        [       nan,        nan,        nan,        nan,        nan],\n",
       "        [0.        , 0.        , 0.        , 0.        , 0.        ],\n",
       "        [       nan,        nan,        nan,        nan,        nan]],\n",
       "\n",
       "       [[       nan,        nan,        nan,        nan,        nan],\n",
       "        [       nan,        nan, 0.17856491,        nan,        nan],\n",
       "        [       nan,        nan,        nan,        nan,        nan],\n",
       "        ...,\n",
       "        [       nan,        nan,        nan,        nan,        nan],\n",
       "        [       nan,        nan,        nan,        nan,        nan],\n",
       "        [0.        , 0.        , 0.        , 0.        , 0.        ]]])"
      ]
     },
     "execution_count": 37,
     "metadata": {},
     "output_type": "execute_result"
    }
   ],
   "source": [
    "simulation.reads.get_fitness_coefficients(experiment_type=\"picky\",\n",
    "                                           control_type=\"picky\")"
   ]
  },
  {
   "cell_type": "code",
   "execution_count": 38,
   "metadata": {},
   "outputs": [
    {
     "ename": "AttributeError",
     "evalue": "Please first use the `group_droplets` method in order to access the `experiments` attribute",
     "output_type": "error",
     "traceback": [
      "\u001b[0;31m---------------------------------------------------------------------------\u001b[0m",
      "\u001b[0;31mAttributeError\u001b[0m                            Traceback (most recent call last)",
      "\u001b[0;32m<ipython-input-38-afbaf206fe2f>\u001b[0m in \u001b[0;36m<module>\u001b[0;34m\u001b[0m\n\u001b[0;32m----> 1\u001b[0;31m simulation.cells.get_fitness_coefficients(experiment_type=\"picky\",\n\u001b[0m\u001b[1;32m      2\u001b[0m                                            control_type=\"picky\")\n",
      "\u001b[0;32m~/Career/Microbial Interactome/simulations/simulations/simulation_classes.py\u001b[0m in \u001b[0;36mget_fitness_coefficients\u001b[0;34m(self, method, experiment_type, control_type, mark_missing_as_zero)\u001b[0m\n\u001b[1;32m    324\u001b[0m         return get_fitness_coefficients(\n\u001b[1;32m    325\u001b[0m             \u001b[0mself\u001b[0m\u001b[0;34m.\u001b[0m\u001b[0mcounts\u001b[0m\u001b[0;34m,\u001b[0m\u001b[0;34m\u001b[0m\u001b[0;34m\u001b[0m\u001b[0m\n\u001b[0;32m--> 326\u001b[0;31m             \u001b[0mself\u001b[0m\u001b[0;34m.\u001b[0m\u001b[0mexperiments\u001b[0m\u001b[0;34m,\u001b[0m\u001b[0;34m\u001b[0m\u001b[0;34m\u001b[0m\u001b[0m\n\u001b[0m\u001b[1;32m    327\u001b[0m             \u001b[0mself\u001b[0m\u001b[0;34m.\u001b[0m\u001b[0mcontrols\u001b[0m\u001b[0;34m,\u001b[0m\u001b[0;34m\u001b[0m\u001b[0;34m\u001b[0m\u001b[0m\n\u001b[1;32m    328\u001b[0m             \u001b[0mmethod\u001b[0m\u001b[0;34m=\u001b[0m\u001b[0mmethod\u001b[0m\u001b[0;34m,\u001b[0m\u001b[0;34m\u001b[0m\u001b[0;34m\u001b[0m\u001b[0m\n",
      "\u001b[0;32m~/Career/Microbial Interactome/simulations/simulations/simulation_classes.py\u001b[0m in \u001b[0;36m__getattr__\u001b[0;34m(self, name)\u001b[0m\n\u001b[1;32m    290\u001b[0m     \u001b[0;32mdef\u001b[0m \u001b[0m__getattr__\u001b[0m\u001b[0;34m(\u001b[0m\u001b[0mself\u001b[0m\u001b[0;34m,\u001b[0m \u001b[0mname\u001b[0m\u001b[0;34m)\u001b[0m\u001b[0;34m:\u001b[0m\u001b[0;34m\u001b[0m\u001b[0;34m\u001b[0m\u001b[0m\n\u001b[1;32m    291\u001b[0m         \u001b[0;32mif\u001b[0m \u001b[0;34m(\u001b[0m\u001b[0mname\u001b[0m \u001b[0;34m==\u001b[0m \u001b[0;34m\"experiments\"\u001b[0m\u001b[0;34m)\u001b[0m \u001b[0;32mor\u001b[0m \u001b[0;34m(\u001b[0m\u001b[0mname\u001b[0m \u001b[0;34m==\u001b[0m \u001b[0;34m\"controls\"\u001b[0m\u001b[0;34m)\u001b[0m\u001b[0;34m:\u001b[0m\u001b[0;34m\u001b[0m\u001b[0;34m\u001b[0m\u001b[0m\n\u001b[0;32m--> 292\u001b[0;31m             raise AttributeError(\n\u001b[0m\u001b[1;32m    293\u001b[0m                 \"Please first use the `group_droplets` method in order to access the `{}` attribute\".format(\n\u001b[1;32m    294\u001b[0m                     \u001b[0mname\u001b[0m\u001b[0;34m\u001b[0m\u001b[0;34m\u001b[0m\u001b[0m\n",
      "\u001b[0;31mAttributeError\u001b[0m: Please first use the `group_droplets` method in order to access the `experiments` attribute"
     ]
    }
   ],
   "source": [
    "simulation.cells.get_fitness_coefficients(experiment_type=\"picky\",\n",
    "                                           control_type=\"picky\")"
   ]
  },
  {
   "cell_type": "code",
   "execution_count": 39,
   "metadata": {},
   "outputs": [
    {
     "name": "stdout",
     "output_type": "stream",
     "text": [
      "CPU times: user 445 ms, sys: 15.7 ms, total: 460 ms\n",
      "Wall time: 460 ms\n"
     ]
    }
   ],
   "source": [
    "%%time\n",
    "simulation.cells.group_droplets()"
   ]
  },
  {
   "cell_type": "code",
   "execution_count": 40,
   "metadata": {},
   "outputs": [
    {
     "data": {
      "text/plain": [
       "array([[[0.        , 0.        , 0.        , 0.        , 0.        ],\n",
       "        [       nan,        nan,        nan,        nan,        nan],\n",
       "        [       nan,        nan,        nan,        nan,        nan],\n",
       "        ...,\n",
       "        [       nan,        nan,        nan,        nan,        nan],\n",
       "        [       nan,        nan,        nan,        nan,        nan],\n",
       "        [       nan,        nan,        nan,        nan,        nan]],\n",
       "\n",
       "       [[       nan,        nan,        nan,        nan,        nan],\n",
       "        [0.        , 0.        , 0.        , 0.        , 0.        ],\n",
       "        [       nan,        nan,        nan,        nan,        nan],\n",
       "        ...,\n",
       "        [       nan,        nan,        nan,        nan,        nan],\n",
       "        [       nan,        nan,        nan,        nan,        nan],\n",
       "        [       nan,        nan,        nan,        nan,        nan]],\n",
       "\n",
       "       [[       nan,        nan,        nan,        nan,        nan],\n",
       "        [       nan,        nan,        nan,        nan,        nan],\n",
       "        [0.        , 0.        , 0.        , 0.        , 0.        ],\n",
       "        ...,\n",
       "        [       nan,        nan,        nan,        nan,        nan],\n",
       "        [       nan, 0.14483099,        nan,        nan,        nan],\n",
       "        [       nan,        nan,        nan,        nan,        nan]],\n",
       "\n",
       "       ...,\n",
       "\n",
       "       [[       nan,        nan,        nan,        nan,        nan],\n",
       "        [       nan,        nan,        nan,        nan,        nan],\n",
       "        [       nan,        nan,        nan,        nan,        nan],\n",
       "        ...,\n",
       "        [0.        , 0.        , 0.        , 0.        , 0.        ],\n",
       "        [       nan,        nan,        nan,        nan,        nan],\n",
       "        [       nan,        nan,        nan,        nan,        nan]],\n",
       "\n",
       "       [[       nan,        nan,        nan,        nan,        nan],\n",
       "        [       nan,        nan,        nan,        nan,        nan],\n",
       "        [       nan, 0.22765651,        nan,        nan,        nan],\n",
       "        ...,\n",
       "        [       nan,        nan,        nan,        nan,        nan],\n",
       "        [0.        , 0.        , 0.        , 0.        , 0.        ],\n",
       "        [       nan,        nan,        nan,        nan,        nan]],\n",
       "\n",
       "       [[       nan,        nan,        nan,        nan,        nan],\n",
       "        [       nan,        nan, 0.17856491,        nan,        nan],\n",
       "        [       nan,        nan,        nan,        nan,        nan],\n",
       "        ...,\n",
       "        [       nan,        nan,        nan,        nan,        nan],\n",
       "        [       nan,        nan,        nan,        nan,        nan],\n",
       "        [0.        , 0.        , 0.        , 0.        , 0.        ]]])"
      ]
     },
     "execution_count": 40,
     "metadata": {},
     "output_type": "execute_result"
    }
   ],
   "source": [
    "simulation.cells.get_fitness_coefficients(experiment_type=\"picky\",\n",
    "                                           control_type=\"picky\")"
   ]
  },
  {
   "cell_type": "code",
   "execution_count": 41,
   "metadata": {},
   "outputs": [
    {
     "data": {
      "text/plain": [
       "array([[[ 0.00000000e+00,  0.00000000e+00,  0.00000000e+00,\n",
       "          0.00000000e+00,  0.00000000e+00],\n",
       "        [            nan,             nan,             nan,\n",
       "                     nan,             nan],\n",
       "        [            nan,             nan,             nan,\n",
       "                     nan,             nan],\n",
       "        ...,\n",
       "        [            nan,             nan,             nan,\n",
       "                     nan,             nan],\n",
       "        [ 3.30028653e-02,             nan,             nan,\n",
       "                     nan,             nan],\n",
       "        [            nan,             nan,             nan,\n",
       "                     nan,             nan]],\n",
       "\n",
       "       [[            nan,             nan,             nan,\n",
       "                     nan,             nan],\n",
       "        [ 0.00000000e+00,  0.00000000e+00,  0.00000000e+00,\n",
       "          0.00000000e+00,  0.00000000e+00],\n",
       "        [            nan,  8.29583049e-02,             nan,\n",
       "                     nan,             nan],\n",
       "        ...,\n",
       "        [            nan,             nan,  4.34486013e+00,\n",
       "                     nan,             nan],\n",
       "        [            nan, -2.11292006e-01,             nan,\n",
       "                     nan,             nan],\n",
       "        [            nan,             nan,  1.61957255e-01,\n",
       "                     nan,             nan]],\n",
       "\n",
       "       [[            nan,             nan,             nan,\n",
       "                     nan,             nan],\n",
       "        [            nan, -2.05378258e-01,             nan,\n",
       "                     nan,             nan],\n",
       "        [ 0.00000000e+00,  0.00000000e+00,  0.00000000e+00,\n",
       "          0.00000000e+00,  0.00000000e+00],\n",
       "        ...,\n",
       "        [            nan,             nan,             nan,\n",
       "                     nan,             nan],\n",
       "        [ 8.45855822e-02,  3.64931332e-01, -1.69068122e-01,\n",
       "                     nan,             nan],\n",
       "        [-8.50037926e-04,             nan,             nan,\n",
       "                     nan, -2.44502989e+00]],\n",
       "\n",
       "       ...,\n",
       "\n",
       "       [[            nan,             nan,             nan,\n",
       "                     nan,             nan],\n",
       "        [            nan,             nan,  6.62770646e+00,\n",
       "                     nan,             nan],\n",
       "        [            nan,             nan,             nan,\n",
       "                     nan,             nan],\n",
       "        ...,\n",
       "        [ 0.00000000e+00,  0.00000000e+00,  0.00000000e+00,\n",
       "          0.00000000e+00,  0.00000000e+00],\n",
       "        [            nan,             nan,             nan,\n",
       "                     nan,             nan],\n",
       "        [            nan,             nan,             nan,\n",
       "                     nan,             nan]],\n",
       "\n",
       "       [[-7.53717114e-03,             nan,             nan,\n",
       "                     nan,             nan],\n",
       "        [            nan, -4.86226414e-02,             nan,\n",
       "                     nan,             nan],\n",
       "        [ 3.03436080e-04, -1.83817731e-02,  5.78222261e+00,\n",
       "                     nan,             nan],\n",
       "        ...,\n",
       "        [            nan,             nan,             nan,\n",
       "                     nan,             nan],\n",
       "        [ 0.00000000e+00,  0.00000000e+00,  0.00000000e+00,\n",
       "          0.00000000e+00,  0.00000000e+00],\n",
       "        [-3.68508118e-02,             nan,             nan,\n",
       "                     nan,             nan]],\n",
       "\n",
       "       [[            nan,             nan,             nan,\n",
       "                     nan,             nan],\n",
       "        [            nan,             nan,  1.42322719e+00,\n",
       "                     nan,             nan],\n",
       "        [ 2.21248265e-02,             nan,             nan,\n",
       "                     nan,  8.62154584e+00],\n",
       "        ...,\n",
       "        [            nan,             nan,             nan,\n",
       "                     nan,             nan],\n",
       "        [-8.15206236e-02,             nan,             nan,\n",
       "                     nan,             nan],\n",
       "        [ 0.00000000e+00,  0.00000000e+00,  0.00000000e+00,\n",
       "          0.00000000e+00,  0.00000000e+00]]])"
      ]
     },
     "execution_count": 41,
     "metadata": {},
     "output_type": "execute_result"
    }
   ],
   "source": [
    "simulation.cells.get_fitness_coefficients()"
   ]
  },
  {
   "cell_type": "code",
   "execution_count": 42,
   "metadata": {},
   "outputs": [
    {
     "data": {
      "text/plain": [
       "array([[[0.        , 0.        , 0.        , 0.        , 0.        ],\n",
       "        [       nan,        nan,        nan,        nan,        nan],\n",
       "        [       nan,        nan,        nan,        nan,        nan],\n",
       "        ...,\n",
       "        [       nan,        nan,        nan,        nan,        nan],\n",
       "        [       nan,        nan,        nan,        nan,        nan],\n",
       "        [       nan,        nan,        nan,        nan,        nan]],\n",
       "\n",
       "       [[       nan,        nan,        nan,        nan,        nan],\n",
       "        [0.        , 0.        , 0.        , 0.        , 0.        ],\n",
       "        [       nan,        nan,        nan,        nan,        nan],\n",
       "        ...,\n",
       "        [       nan,        nan,        nan,        nan,        nan],\n",
       "        [       nan,        nan,        nan,        nan,        nan],\n",
       "        [       nan,        nan,        nan,        nan,        nan]],\n",
       "\n",
       "       [[       nan,        nan,        nan,        nan,        nan],\n",
       "        [       nan,        nan,        nan,        nan,        nan],\n",
       "        [0.        , 0.        , 0.        , 0.        , 0.        ],\n",
       "        ...,\n",
       "        [       nan,        nan,        nan,        nan,        nan],\n",
       "        [       nan, 0.14409338,        nan,        nan,        nan],\n",
       "        [       nan,        nan,        nan,        nan,        nan]],\n",
       "\n",
       "       ...,\n",
       "\n",
       "       [[       nan,        nan,        nan,        nan,        nan],\n",
       "        [       nan,        nan,        nan,        nan,        nan],\n",
       "        [       nan,        nan,        nan,        nan,        nan],\n",
       "        ...,\n",
       "        [0.        , 0.        , 0.        , 0.        , 0.        ],\n",
       "        [       nan,        nan,        nan,        nan,        nan],\n",
       "        [       nan,        nan,        nan,        nan,        nan]],\n",
       "\n",
       "       [[       nan,        nan,        nan,        nan,        nan],\n",
       "        [       nan,        nan,        nan,        nan,        nan],\n",
       "        [       nan, 0.22630574,        nan,        nan,        nan],\n",
       "        ...,\n",
       "        [       nan,        nan,        nan,        nan,        nan],\n",
       "        [0.        , 0.        , 0.        , 0.        , 0.        ],\n",
       "        [       nan,        nan,        nan,        nan,        nan]],\n",
       "\n",
       "       [[       nan,        nan,        nan,        nan,        nan],\n",
       "        [       nan,        nan, 0.17842411,        nan,        nan],\n",
       "        [       nan,        nan,        nan,        nan,        nan],\n",
       "        ...,\n",
       "        [       nan,        nan,        nan,        nan,        nan],\n",
       "        [       nan,        nan,        nan,        nan,        nan],\n",
       "        [0.        , 0.        , 0.        , 0.        , 0.        ]]])"
      ]
     },
     "execution_count": 42,
     "metadata": {},
     "output_type": "execute_result"
    }
   ],
   "source": [
    "simulation.cells.get_fitness_coefficients(method=\"arithmetic\",\n",
    "                                           experiment_type=\"picky\",\n",
    "                                           control_type=\"picky\")"
   ]
  },
  {
   "cell_type": "code",
   "execution_count": 43,
   "metadata": {},
   "outputs": [
    {
     "data": {
      "text/plain": [
       "array([[[ 0.00000000e+00,  0.00000000e+00,  0.00000000e+00,\n",
       "          0.00000000e+00,  0.00000000e+00],\n",
       "        [            nan,             nan,             nan,\n",
       "                     nan,             nan],\n",
       "        [            nan,             nan,             nan,\n",
       "                     nan,             nan],\n",
       "        ...,\n",
       "        [            nan,             nan,             nan,\n",
       "                     nan,             nan],\n",
       "        [ 2.47209306e-02,             nan,             nan,\n",
       "                     nan,             nan],\n",
       "        [            nan,             nan,             nan,\n",
       "                     nan,             nan]],\n",
       "\n",
       "       [[            nan,             nan,             nan,\n",
       "                     nan,             nan],\n",
       "        [ 0.00000000e+00,  0.00000000e+00,  0.00000000e+00,\n",
       "          0.00000000e+00,  0.00000000e+00],\n",
       "        [            nan,  4.30438813e-02,             nan,\n",
       "                     nan,             nan],\n",
       "        ...,\n",
       "        [            nan,             nan,  4.32925340e+00,\n",
       "                     nan,             nan],\n",
       "        [            nan, -2.25859036e-01,             nan,\n",
       "                     nan,             nan],\n",
       "        [            nan,             nan, -1.40543392e-01,\n",
       "                     nan,             nan]],\n",
       "\n",
       "       [[            nan,             nan,             nan,\n",
       "                     nan,             nan],\n",
       "        [            nan, -2.38535622e-01,             nan,\n",
       "                     nan,             nan],\n",
       "        [ 0.00000000e+00,  0.00000000e+00,  0.00000000e+00,\n",
       "          0.00000000e+00,  0.00000000e+00],\n",
       "        ...,\n",
       "        [            nan,             nan,             nan,\n",
       "                     nan,             nan],\n",
       "        [ 7.63741764e-02,  4.01328982e-01, -9.66843729e-01,\n",
       "                     nan,             nan],\n",
       "        [-1.04657259e-03,             nan,             nan,\n",
       "                     nan, -3.82168087e+00]],\n",
       "\n",
       "       ...,\n",
       "\n",
       "       [[            nan,             nan,             nan,\n",
       "                     nan,             nan],\n",
       "        [            nan,             nan,  1.49259310e-01,\n",
       "                     nan,             nan],\n",
       "        [            nan,             nan,             nan,\n",
       "                     nan,             nan],\n",
       "        ...,\n",
       "        [ 0.00000000e+00,  0.00000000e+00,  0.00000000e+00,\n",
       "          0.00000000e+00,  0.00000000e+00],\n",
       "        [            nan,             nan,             nan,\n",
       "                     nan,             nan],\n",
       "        [            nan,             nan,             nan,\n",
       "                     nan,             nan]],\n",
       "\n",
       "       [[-8.11217998e-03,             nan,             nan,\n",
       "                     nan,             nan],\n",
       "        [            nan,  3.11359329e-02,             nan,\n",
       "                     nan,             nan],\n",
       "        [-7.08258037e-04,  3.50291433e-02,  2.80963580e+00,\n",
       "                     nan,             nan],\n",
       "        ...,\n",
       "        [            nan,             nan,             nan,\n",
       "                     nan,             nan],\n",
       "        [ 0.00000000e+00,  0.00000000e+00,  0.00000000e+00,\n",
       "          0.00000000e+00,  0.00000000e+00],\n",
       "        [-3.69346877e-02,             nan,             nan,\n",
       "                     nan,             nan]],\n",
       "\n",
       "       [[            nan,             nan,             nan,\n",
       "                     nan,             nan],\n",
       "        [            nan,             nan, -4.74650145e+00,\n",
       "                     nan,             nan],\n",
       "        [ 2.11255933e-02,             nan,             nan,\n",
       "                     nan, -5.63254982e+00],\n",
       "        ...,\n",
       "        [            nan,             nan,             nan,\n",
       "                     nan,             nan],\n",
       "        [-8.97077152e-02,             nan,             nan,\n",
       "                     nan,             nan],\n",
       "        [ 0.00000000e+00,  0.00000000e+00,  0.00000000e+00,\n",
       "          0.00000000e+00,  0.00000000e+00]]])"
      ]
     },
     "execution_count": 43,
     "metadata": {},
     "output_type": "execute_result"
    }
   ],
   "source": [
    "simulation.cells.get_fitness_coefficients(method=\"arithmetic\")"
   ]
  },
  {
   "cell_type": "code",
   "execution_count": 44,
   "metadata": {},
   "outputs": [
    {
     "data": {
      "text/plain": [
       "array([[[0.        , 0.        , 0.        , 0.        , 0.        ],\n",
       "        [       nan,        nan,        nan,        nan,        nan],\n",
       "        [       nan,        nan,        nan,        nan,        nan],\n",
       "        ...,\n",
       "        [       nan,        nan,        nan,        nan,        nan],\n",
       "        [       nan,        nan,        nan,        nan,        nan],\n",
       "        [       nan,        nan,        nan,        nan,        nan]],\n",
       "\n",
       "       [[       nan,        nan,        nan,        nan,        nan],\n",
       "        [0.        , 0.        , 0.        , 0.        , 0.        ],\n",
       "        [       nan,        nan,        nan,        nan,        nan],\n",
       "        ...,\n",
       "        [       nan,        nan,        nan,        nan,        nan],\n",
       "        [       nan,        nan,        nan,        nan,        nan],\n",
       "        [       nan,        nan,        nan,        nan,        nan]],\n",
       "\n",
       "       [[       nan,        nan,        nan,        nan,        nan],\n",
       "        [       nan,        nan,        nan,        nan,        nan],\n",
       "        [0.        , 0.        , 0.        , 0.        , 0.        ],\n",
       "        ...,\n",
       "        [       nan,        nan,        nan,        nan,        nan],\n",
       "        [       nan, 0.14409338,        nan,        nan,        nan],\n",
       "        [       nan,        nan,        nan,        nan,        nan]],\n",
       "\n",
       "       ...,\n",
       "\n",
       "       [[       nan,        nan,        nan,        nan,        nan],\n",
       "        [       nan,        nan,        nan,        nan,        nan],\n",
       "        [       nan,        nan,        nan,        nan,        nan],\n",
       "        ...,\n",
       "        [0.        , 0.        , 0.        , 0.        , 0.        ],\n",
       "        [       nan,        nan,        nan,        nan,        nan],\n",
       "        [       nan,        nan,        nan,        nan,        nan]],\n",
       "\n",
       "       [[       nan,        nan,        nan,        nan,        nan],\n",
       "        [       nan,        nan,        nan,        nan,        nan],\n",
       "        [       nan, 0.22630574,        nan,        nan,        nan],\n",
       "        ...,\n",
       "        [       nan,        nan,        nan,        nan,        nan],\n",
       "        [0.        , 0.        , 0.        , 0.        , 0.        ],\n",
       "        [       nan,        nan,        nan,        nan,        nan]],\n",
       "\n",
       "       [[       nan,        nan,        nan,        nan,        nan],\n",
       "        [       nan,        nan, 0.17842411,        nan,        nan],\n",
       "        [       nan,        nan,        nan,        nan,        nan],\n",
       "        ...,\n",
       "        [       nan,        nan,        nan,        nan,        nan],\n",
       "        [       nan,        nan,        nan,        nan,        nan],\n",
       "        [0.        , 0.        , 0.        , 0.        , 0.        ]]])"
      ]
     },
     "execution_count": 44,
     "metadata": {},
     "output_type": "execute_result"
    }
   ],
   "source": [
    "simulation.reads.get_fitness_coefficients(method=\"arithmetic\",\n",
    "                                           experiment_type=\"picky\",\n",
    "                                           control_type=\"picky\")"
   ]
  },
  {
   "cell_type": "code",
   "execution_count": 45,
   "metadata": {},
   "outputs": [
    {
     "data": {
      "text/plain": [
       "array([[[ 0.00000000e+00,  0.00000000e+00,  0.00000000e+00,\n",
       "          0.00000000e+00,  0.00000000e+00],\n",
       "        [            nan,             nan,             nan,\n",
       "                     nan,             nan],\n",
       "        [            nan,             nan,             nan,\n",
       "                     nan,             nan],\n",
       "        ...,\n",
       "        [            nan,             nan,             nan,\n",
       "                     nan,             nan],\n",
       "        [ 2.47209306e-02,             nan,             nan,\n",
       "                     nan,             nan],\n",
       "        [            nan,             nan,             nan,\n",
       "                     nan,             nan]],\n",
       "\n",
       "       [[            nan,             nan,             nan,\n",
       "                     nan,             nan],\n",
       "        [ 0.00000000e+00,  0.00000000e+00,  0.00000000e+00,\n",
       "          0.00000000e+00,  0.00000000e+00],\n",
       "        [            nan,  4.30438813e-02,             nan,\n",
       "                     nan,             nan],\n",
       "        ...,\n",
       "        [            nan,             nan,  4.32925340e+00,\n",
       "                     nan,             nan],\n",
       "        [            nan, -2.25859036e-01,             nan,\n",
       "         -5.44498816e+00,             nan],\n",
       "        [            nan,             nan, -1.52043683e-01,\n",
       "                     nan,             nan]],\n",
       "\n",
       "       [[            nan,             nan,             nan,\n",
       "                     nan,             nan],\n",
       "        [            nan, -2.38535622e-01,             nan,\n",
       "                     nan,             nan],\n",
       "        [ 0.00000000e+00,  0.00000000e+00,  0.00000000e+00,\n",
       "          0.00000000e+00,  0.00000000e+00],\n",
       "        ...,\n",
       "        [            nan,             nan,             nan,\n",
       "         -3.50476150e-02,             nan],\n",
       "        [ 7.63741764e-02,  4.01328982e-01, -9.62303025e-01,\n",
       "         -2.90911434e+00, -4.73828287e+00],\n",
       "        [-1.04657259e-03,             nan,             nan,\n",
       "                     nan,  4.07248331e-01]],\n",
       "\n",
       "       ...,\n",
       "\n",
       "       [[            nan,             nan,             nan,\n",
       "                     nan,             nan],\n",
       "        [            nan,             nan,  2.23770552e-01,\n",
       "                     nan,             nan],\n",
       "        [            nan,             nan,             nan,\n",
       "          1.38930198e+00,             nan],\n",
       "        ...,\n",
       "        [ 0.00000000e+00,  0.00000000e+00,  0.00000000e+00,\n",
       "          0.00000000e+00,  0.00000000e+00],\n",
       "        [            nan,             nan,             nan,\n",
       "                     nan,             nan],\n",
       "        [            nan,             nan,             nan,\n",
       "                     nan,             nan]],\n",
       "\n",
       "       [[-8.11217998e-03,             nan,             nan,\n",
       "                     nan,             nan],\n",
       "        [            nan,  3.11359329e-02,             nan,\n",
       "         -1.32382027e+01,             nan],\n",
       "        [-7.08258037e-04,  3.50291433e-02,  2.79545030e+00,\n",
       "         -5.73870090e+00, -4.14100865e+00],\n",
       "        ...,\n",
       "        [            nan,             nan,             nan,\n",
       "                     nan,             nan],\n",
       "        [ 0.00000000e+00,  0.00000000e+00,  0.00000000e+00,\n",
       "          0.00000000e+00,  0.00000000e+00],\n",
       "        [-3.69346877e-02,             nan,             nan,\n",
       "                     nan,             nan]],\n",
       "\n",
       "       [[            nan,             nan,             nan,\n",
       "                     nan,             nan],\n",
       "        [            nan,             nan, -4.67150712e+00,\n",
       "                     nan,             nan],\n",
       "        [ 2.11255933e-02,             nan,             nan,\n",
       "                     nan, -6.12124521e+00],\n",
       "        ...,\n",
       "        [            nan,             nan,             nan,\n",
       "                     nan,             nan],\n",
       "        [-8.97077152e-02,             nan,             nan,\n",
       "                     nan,             nan],\n",
       "        [ 0.00000000e+00,  0.00000000e+00,  0.00000000e+00,\n",
       "          0.00000000e+00,  0.00000000e+00]]])"
      ]
     },
     "execution_count": 45,
     "metadata": {},
     "output_type": "execute_result"
    }
   ],
   "source": [
    "simulation.reads.get_fitness_coefficients(method=\"arithmetic\")"
   ]
  },
  {
   "cell_type": "code",
   "execution_count": 46,
   "metadata": {},
   "outputs": [
    {
     "data": {
      "text/plain": [
       "array([[[ 0.00000000e+00,  0.00000000e+00,  0.00000000e+00,\n",
       "          0.00000000e+00,  0.00000000e+00],\n",
       "        [            nan,             nan,             nan,\n",
       "                     nan,             nan],\n",
       "        [            nan,             nan,             nan,\n",
       "                     nan,             nan],\n",
       "        ...,\n",
       "        [            nan,             nan,             nan,\n",
       "                     nan,             nan],\n",
       "        [ 3.30028653e-02,             nan,             nan,\n",
       "                     nan,             nan],\n",
       "        [            nan,             nan,             nan,\n",
       "                     nan,             nan]],\n",
       "\n",
       "       [[            nan,             nan,             nan,\n",
       "                     nan,             nan],\n",
       "        [ 0.00000000e+00,  0.00000000e+00,  0.00000000e+00,\n",
       "          0.00000000e+00,  0.00000000e+00],\n",
       "        [            nan,  8.29583049e-02,             nan,\n",
       "                     nan,             nan],\n",
       "        ...,\n",
       "        [            nan,             nan,  4.34486013e+00,\n",
       "                     nan,             nan],\n",
       "        [            nan, -2.11292006e-01,             nan,\n",
       "         -1.30362524e+00,             nan],\n",
       "        [            nan,             nan,  1.30499648e-01,\n",
       "                     nan,             nan]],\n",
       "\n",
       "       [[            nan,             nan,             nan,\n",
       "                     nan,             nan],\n",
       "        [            nan, -2.05378258e-01,             nan,\n",
       "                     nan,             nan],\n",
       "        [ 0.00000000e+00,  0.00000000e+00,  0.00000000e+00,\n",
       "          0.00000000e+00,  0.00000000e+00],\n",
       "        ...,\n",
       "        [            nan,             nan,             nan,\n",
       "          2.97757728e+00,             nan],\n",
       "        [ 8.45855822e-02,  3.64931332e-01, -2.45249210e-01,\n",
       "          1.30752713e+00, -2.36502877e+00],\n",
       "        [-8.50037926e-04,             nan,             nan,\n",
       "                     nan,  2.49360474e+00]],\n",
       "\n",
       "       ...,\n",
       "\n",
       "       [[            nan,             nan,             nan,\n",
       "                     nan,             nan],\n",
       "        [            nan,             nan,  4.53618312e+00,\n",
       "                     nan,             nan],\n",
       "        [            nan,             nan,             nan,\n",
       "          8.60563579e+00,             nan],\n",
       "        ...,\n",
       "        [ 0.00000000e+00,  0.00000000e+00,  0.00000000e+00,\n",
       "          0.00000000e+00,  0.00000000e+00],\n",
       "        [            nan,             nan,             nan,\n",
       "                     nan,             nan],\n",
       "        [            nan,             nan,             nan,\n",
       "                     nan,             nan]],\n",
       "\n",
       "       [[-7.53717114e-03,             nan,             nan,\n",
       "                     nan,             nan],\n",
       "        [            nan, -4.86226414e-02,             nan,\n",
       "         -6.98264799e+00,             nan],\n",
       "        [ 3.03436080e-04, -1.83817731e-02,  4.25905948e+00,\n",
       "          1.25502807e+00,  6.10001775e-01],\n",
       "        ...,\n",
       "        [            nan,             nan,             nan,\n",
       "                     nan,             nan],\n",
       "        [ 0.00000000e+00,  0.00000000e+00,  0.00000000e+00,\n",
       "          0.00000000e+00,  0.00000000e+00],\n",
       "        [-3.68508118e-02,             nan,             nan,\n",
       "                     nan,             nan]],\n",
       "\n",
       "       [[            nan,             nan,             nan,\n",
       "                     nan,             nan],\n",
       "        [            nan,             nan, -6.37500409e-01,\n",
       "                     nan,             nan],\n",
       "        [ 2.21248265e-02,             nan,             nan,\n",
       "                     nan, -1.46384806e+00],\n",
       "        ...,\n",
       "        [            nan,             nan,             nan,\n",
       "                     nan,             nan],\n",
       "        [-8.15206236e-02,             nan,             nan,\n",
       "                     nan,             nan],\n",
       "        [ 0.00000000e+00,  0.00000000e+00,  0.00000000e+00,\n",
       "          0.00000000e+00,  0.00000000e+00]]])"
      ]
     },
     "execution_count": 46,
     "metadata": {},
     "output_type": "execute_result"
    }
   ],
   "source": [
    "simulation.reads.get_fitness_coefficients()"
   ]
  },
  {
   "cell_type": "code",
   "execution_count": 47,
   "metadata": {},
   "outputs": [
    {
     "data": {
      "text/plain": [
       "{'interaction_estimates': array([[ 1.19798732e-01, -2.08826911e-17,  1.82769671e-16, ...,\n",
       "          7.66379377e-18,  4.82510378e-02,  4.11239726e-18],\n",
       "        [-2.63112254e-18,  5.72433542e-02, -3.11069888e-02, ...,\n",
       "         -7.39135603e-03, -1.99670442e-01, -2.47586403e-03],\n",
       "        [-8.94031530e-20, -7.22939395e-03,  1.44910523e-01, ...,\n",
       "         -1.82785457e-03, -1.03865774e-01,  3.24040415e-02],\n",
       "        ...,\n",
       "        [ 0.00000000e+00,  5.30745998e-07, -1.35225019e-07, ...,\n",
       "          1.10030275e-01,  0.00000000e+00,  0.00000000e+00],\n",
       "        [ 4.77540384e-02, -2.94774599e-02, -1.76452880e-01, ...,\n",
       "          0.00000000e+00,  1.40698263e-01,  2.95089595e-02],\n",
       "        [ 0.00000000e+00,  1.03914854e-08,  4.06438704e-02, ...,\n",
       "          0.00000000e+00,  4.55397383e-02,  1.48386675e-01]]),\n",
       " 'baserate_estimates': array([0.07476729, 0.08097157, 0.09201362, 0.02997802, 0.34648813,\n",
       "        0.09602626, 0.15349326, 0.0229557 ,        nan, 0.22031735,\n",
       "        0.30300994, 0.03924007, 0.12048203, 0.0801641 , 0.09903241,\n",
       "        0.07809221, 0.16837537, 0.36821393, 0.10473333, 0.0581349 ,\n",
       "        0.3121858 , 0.12126703, 0.20388518, 0.09748206, 0.18786282,\n",
       "        0.12549971, 0.36097539, 0.18102134, 0.02047628,        nan,\n",
       "        0.15904623,        nan, 0.20504457, 0.13876617, 0.2631241 ,\n",
       "        0.24066868, 0.28413552, 0.17536585, 0.06858298, 0.07930141,\n",
       "        0.10037087, 0.11087591, 0.29802856, 0.21960147, 0.16482269,\n",
       "        0.03490613, 0.10148809, 0.05173523, 0.27550397, 0.05626404,\n",
       "        0.23159317, 0.17999485, 0.02141274, 0.12415091, 0.17384702,\n",
       "        0.11177505,        nan, 0.0986209 , 0.13524788, 0.03335055,\n",
       "        0.03076556, 0.44236807, 0.06093635, 0.09288147, 0.19339819,\n",
       "        0.02423037, 0.24338294, 2.4139221 , 0.03818549, 0.02747654,\n",
       "        0.0882189 , 0.09547371, 0.12939249, 0.12826117, 0.25091377,\n",
       "        0.14214436, 0.21507654, 0.07557238, 0.17614528, 0.15988857,\n",
       "        0.04846777, 0.16173799, 0.20524888, 0.12280084, 0.00988025,\n",
       "        0.23290598, 0.21747054, 0.15612765, 0.15413851, 0.1547427 ,\n",
       "        0.27881908, 0.22184586, 0.07241452, 0.105591  , 0.26957521,\n",
       "        0.20981429, 0.1848041 , 0.04705666, 0.22133691, 0.02431298])}"
      ]
     },
     "execution_count": 47,
     "metadata": {},
     "output_type": "execute_result"
    }
   ],
   "source": [
    "simulation.reads.get_glv_coefficients()"
   ]
  },
  {
   "cell_type": "code",
   "execution_count": 48,
   "metadata": {},
   "outputs": [
    {
     "data": {
      "text/plain": [
       "(100,)"
      ]
     },
     "execution_count": 48,
     "metadata": {},
     "output_type": "execute_result"
    }
   ],
   "source": [
    "simulation.reads.get_glv_coefficients()[\"baserate_estimates\"].shape"
   ]
  },
  {
   "cell_type": "code",
   "execution_count": 49,
   "metadata": {},
   "outputs": [
    {
     "data": {
      "text/plain": [
       "(100, 100)"
      ]
     },
     "execution_count": 49,
     "metadata": {},
     "output_type": "execute_result"
    }
   ],
   "source": [
    "simulation.reads.get_glv_coefficients()[\"interaction_estimates\"].shape"
   ]
  },
  {
   "cell_type": "code",
   "execution_count": 50,
   "metadata": {},
   "outputs": [
    {
     "data": {
      "text/plain": [
       "array([0.07412994, 0.0779769 , 0.10083486, 0.02997802, 0.26970923,\n",
       "       0.09423176, 0.16638644, 0.07668644,        nan, 0.22697865,\n",
       "       0.13050376, 0.05338868, 0.12466896, 0.08423594, 0.16224147,\n",
       "       0.08170265, 0.19267174, 0.38341108, 0.10402755, 0.1046653 ,\n",
       "       0.16206862, 0.1303954 , 0.27633365, 0.10127224, 0.21284622,\n",
       "       0.14209093, 0.37701328, 0.18544763, 0.02017218,        nan,\n",
       "       0.17699887,        nan, 0.26580757, 0.14433066, 0.26509764,\n",
       "       0.19658563, 0.42886014, 0.077062  , 0.04082426, 0.07831543,\n",
       "       0.10495104, 0.12604122, 0.34890479, 0.21967299, 0.16779612,\n",
       "       0.05819449, 0.10684657, 0.02009897, 0.28287537, 0.05690489,\n",
       "       0.23158255, 0.18562026, 0.02980003, 0.10969699, 0.09839723,\n",
       "       0.11384071,        nan, 0.09842224, 0.14546998, 0.09575274,\n",
       "       0.0311396 , 0.44334193, 0.17908437, 0.11692139, 0.28106214,\n",
       "       0.01901531, 0.24379014, 2.41440295, 0.0403854 , 0.03046635,\n",
       "       0.09177906, 0.13553143, 0.14199556, 0.12359483, 0.18016284,\n",
       "       0.08244752, 0.27602875, 0.09317766, 0.1738319 , 0.17417055,\n",
       "       0.1079502 , 0.16208328, 0.21596312, 0.12597816, 0.00988752,\n",
       "       0.24510978, 0.30954701, 0.21842639, 0.26288605, 0.1468377 ,\n",
       "       0.27602987, 0.22434793, 0.072081  , 0.17992184, 0.2692421 ,\n",
       "       0.34482491, 0.18997638, 0.09646268, 0.26584078, 0.02415997])"
      ]
     },
     "execution_count": 50,
     "metadata": {},
     "output_type": "execute_result"
    }
   ],
   "source": [
    "simulation.cells.get_glv_coefficients()[\"baserate_estimates\"]"
   ]
  },
  {
   "cell_type": "code",
   "execution_count": 51,
   "metadata": {},
   "outputs": [
    {
     "data": {
      "text/plain": [
       "array([[ 1.17311296e-01,  5.50435205e-17,  2.09962819e-16, ...,\n",
       "        -1.62304019e-16,  5.58634878e-02,  3.20286999e-18],\n",
       "       [-3.12079070e-19,  6.51324327e-02, -3.53145693e-02, ...,\n",
       "         3.96982950e-03, -1.67390045e-01, -2.94304570e-03],\n",
       "       [ 6.25924993e-20, -9.56975704e-03,  1.37298560e-01, ...,\n",
       "        -1.19092403e-17, -7.10253615e-02,  3.22204284e-02],\n",
       "       ...,\n",
       "       [ 0.00000000e+00,  6.97869935e-07,  0.00000000e+00, ...,\n",
       "        -6.49727625e-02,  0.00000000e+00,  0.00000000e+00],\n",
       "       [ 4.72827916e-02, -3.90193072e-02, -2.01991422e-01, ...,\n",
       "         0.00000000e+00,  1.07595125e-01,  2.93417511e-02],\n",
       "       [ 0.00000000e+00,  1.36636080e-08,  4.47128186e-02, ...,\n",
       "         0.00000000e+00,  5.27244332e-02,  1.48789074e-01]])"
      ]
     },
     "execution_count": 51,
     "metadata": {},
     "output_type": "execute_result"
    }
   ],
   "source": [
    "simulation.cells.get_glv_coefficients()[\"interaction_estimates\"]"
   ]
  }
 ],
 "metadata": {
  "kernelspec": {
   "display_name": "Python 3",
   "language": "python",
   "name": "python3"
  },
  "language_info": {
   "codemirror_mode": {
    "name": "ipython",
    "version": 3
   },
   "file_extension": ".py",
   "mimetype": "text/x-python",
   "name": "python",
   "nbconvert_exporter": "python",
   "pygments_lexer": "ipython3",
   "version": "3.9.2"
  }
 },
 "nbformat": 4,
 "nbformat_minor": 4
}
