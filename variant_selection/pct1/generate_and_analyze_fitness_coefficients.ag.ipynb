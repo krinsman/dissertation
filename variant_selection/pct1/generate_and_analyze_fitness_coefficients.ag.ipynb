{
 "cells": [
  {
   "cell_type": "code",
   "execution_count": 1,
   "id": "useful-press",
   "metadata": {
    "execution": {
     "iopub.execute_input": "2021-04-16T20:51:02.221050Z",
     "iopub.status.busy": "2021-04-16T20:51:02.219010Z",
     "iopub.status.idle": "2021-04-16T20:51:02.233995Z",
     "shell.execute_reply": "2021-04-16T20:51:02.235517Z"
    },
    "papermill": {
     "duration": 0.044362,
     "end_time": "2021-04-16T20:51:02.236041",
     "exception": false,
     "start_time": "2021-04-16T20:51:02.191679",
     "status": "completed"
    },
    "tags": [
     "injected-parameters"
    ]
   },
   "outputs": [],
   "source": [
    "# Parameters\n",
    "percentage = \"1\"\n"
   ]
  },
  {
   "cell_type": "code",
   "execution_count": 2,
   "id": "organized-haven",
   "metadata": {
    "execution": {
     "iopub.execute_input": "2021-04-16T20:51:02.272478Z",
     "iopub.status.busy": "2021-04-16T20:51:02.270935Z",
     "iopub.status.idle": "2021-04-16T20:51:02.502931Z",
     "shell.execute_reply": "2021-04-16T20:51:02.504029Z"
    },
    "papermill": {
     "duration": 0.255089,
     "end_time": "2021-04-16T20:51:02.504344",
     "exception": false,
     "start_time": "2021-04-16T20:51:02.249255",
     "status": "completed"
    },
    "tags": []
   },
   "outputs": [],
   "source": [
    "import numpy as np\n",
    "from itertools import product"
   ]
  },
  {
   "cell_type": "code",
   "execution_count": 3,
   "id": "abstract-import",
   "metadata": {
    "execution": {
     "iopub.execute_input": "2021-04-16T20:51:02.539703Z",
     "iopub.status.busy": "2021-04-16T20:51:02.538348Z",
     "iopub.status.idle": "2021-04-16T20:51:04.655405Z",
     "shell.execute_reply": "2021-04-16T20:51:04.656370Z"
    },
    "papermill": {
     "duration": 2.139976,
     "end_time": "2021-04-16T20:51:04.656656",
     "exception": false,
     "start_time": "2021-04-16T20:51:02.516680",
     "status": "completed"
    },
    "tags": []
   },
   "outputs": [],
   "source": [
    "from analysis_utils import fitnessGenerator, Analyzer\n",
    "from plot_utils import fitnessVariantsPlotter"
   ]
  },
  {
   "cell_type": "code",
   "execution_count": 4,
   "id": "smaller-swiss",
   "metadata": {
    "execution": {
     "iopub.execute_input": "2021-04-16T20:51:04.691377Z",
     "iopub.status.busy": "2021-04-16T20:51:04.690079Z",
     "iopub.status.idle": "2021-04-16T20:51:04.695024Z",
     "shell.execute_reply": "2021-04-16T20:51:04.693866Z"
    },
    "papermill": {
     "duration": 0.0256,
     "end_time": "2021-04-16T20:51:04.695347",
     "exception": false,
     "start_time": "2021-04-16T20:51:04.669747",
     "status": "completed"
    },
    "tags": []
   },
   "outputs": [],
   "source": [
    "simulation_dir_name = 'results'\n",
    "output_dir_name = 'fitness_coefs'"
   ]
  },
  {
   "cell_type": "code",
   "execution_count": 5,
   "id": "traditional-peripheral",
   "metadata": {
    "execution": {
     "iopub.execute_input": "2021-04-16T20:51:04.741209Z",
     "iopub.status.busy": "2021-04-16T20:51:04.739783Z",
     "iopub.status.idle": "2021-04-16T20:51:04.743753Z",
     "shell.execute_reply": "2021-04-16T20:51:04.745109Z"
    },
    "papermill": {
     "duration": 0.033188,
     "end_time": "2021-04-16T20:51:04.745529",
     "exception": false,
     "start_time": "2021-04-16T20:51:04.712341",
     "status": "completed"
    },
    "tags": []
   },
   "outputs": [],
   "source": [
    "mode_definitions = fitnessVariantsPlotter.mode_definitions\n",
    "\n",
    "simulation_dir = 'pct{}/{}'.format(percentage, simulation_dir_name)\n",
    "output_dir = 'pct{}/{}'.format(percentage, output_dir_name)\n",
    "info = {'number_simulations': 100, 'simulation_dir': simulation_dir,\n",
    "        'size': 11, 'seed': 42, 'number_droplets': 100000,\n",
    "       'trimmed_strains':1, 'mode_definitions': mode_definitions,\n",
    "       'output_dir': output_dir,\n",
    "        'base_coefs_name': 'fitness_coefs_averaged_{}.npz',\n",
    "       }"
   ]
  },
  {
   "cell_type": "code",
   "execution_count": 6,
   "id": "excellent-notebook",
   "metadata": {
    "execution": {
     "iopub.execute_input": "2021-04-16T20:51:04.783451Z",
     "iopub.status.busy": "2021-04-16T20:51:04.782227Z",
     "iopub.status.idle": "2021-04-16T20:57:53.160085Z",
     "shell.execute_reply": "2021-04-16T20:57:53.160825Z"
    },
    "papermill": {
     "duration": 408.399444,
     "end_time": "2021-04-16T20:57:53.161046",
     "exception": false,
     "start_time": "2021-04-16T20:51:04.761602",
     "status": "completed"
    },
    "tags": []
   },
   "outputs": [],
   "source": [
    "fitnessGenerator(**info)()"
   ]
  },
  {
   "cell_type": "code",
   "execution_count": 7,
   "id": "based-crown",
   "metadata": {
    "execution": {
     "iopub.execute_input": "2021-04-16T20:57:53.195496Z",
     "iopub.status.busy": "2021-04-16T20:57:53.191527Z",
     "iopub.status.idle": "2021-04-16T20:57:53.200877Z",
     "shell.execute_reply": "2021-04-16T20:57:53.201749Z"
    },
    "papermill": {
     "duration": 0.028563,
     "end_time": "2021-04-16T20:57:53.202001",
     "exception": false,
     "start_time": "2021-04-16T20:57:53.173438",
     "status": "completed"
    },
    "tags": []
   },
   "outputs": [],
   "source": [
    "base_coefs_filepath = '{}/{}'.format(info[\"output_dir\"], info[\"base_coefs_name\"])\n",
    "\n",
    "base_coef_analysis_name = 'analyzed_fitness_coef_results_{}.npz'\n",
    "base_coef_analysis_filepath = '{}/{}'.format(info[\"output_dir\"], base_coef_analysis_name)"
   ]
  },
  {
   "cell_type": "code",
   "execution_count": 8,
   "id": "directed-support",
   "metadata": {
    "execution": {
     "iopub.execute_input": "2021-04-16T20:57:53.237591Z",
     "iopub.status.busy": "2021-04-16T20:57:53.236588Z",
     "iopub.status.idle": "2021-04-16T21:03:44.517905Z",
     "shell.execute_reply": "2021-04-16T21:03:44.518800Z"
    },
    "papermill": {
     "duration": 351.303398,
     "end_time": "2021-04-16T21:03:44.519065",
     "exception": false,
     "start_time": "2021-04-16T20:57:53.215667",
     "status": "completed"
    },
    "tags": []
   },
   "outputs": [],
   "source": [
    "for experiment_type, control_type in product(['gluttonous', 'picky'], repeat=2):\n",
    "    \n",
    "    shorthand = (experiment_type[0]+control_type[0])\n",
    "    coefs_filepath = base_coefs_filepath.format(shorthand)\n",
    "    coef_analysis_filepath = base_coef_analysis_filepath.format(shorthand)\n",
    "    \n",
    "    fitness_coef_values, analysis_results = Analyzer(coefs_filepath, **info)()\n",
    "    np.savez_compressed(coef_analysis_filepath, fitness_coef_values=fitness_coef_values, \n",
    "                        mode_definitions=mode_definitions, **analysis_results)"
   ]
  }
 ],
 "metadata": {
  "kernelspec": {
   "display_name": "Python 3",
   "language": "python",
   "name": "python3"
  },
  "language_info": {
   "codemirror_mode": {
    "name": "ipython",
    "version": 3
   },
   "file_extension": ".py",
   "mimetype": "text/x-python",
   "name": "python",
   "nbconvert_exporter": "python",
   "pygments_lexer": "ipython3",
   "version": "3.8.8"
  },
  "papermill": {
   "default_parameters": {},
   "duration": 765.653197,
   "end_time": "2021-04-16T21:03:45.998086",
   "environment_variables": {},
   "exception": null,
   "input_path": "templates/generate_and_analyze_fitness_coefficients.ipynb",
   "output_path": "pct1/generate_and_analyze_fitness_coefficients.ag.ipynb",
   "parameters": {
    "percentage": "1"
   },
   "start_time": "2021-04-16T20:51:00.344889",
   "version": "2.3.3"
  }
 },
 "nbformat": 4,
 "nbformat_minor": 5
}