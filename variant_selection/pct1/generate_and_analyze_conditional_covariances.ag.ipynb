{
 "cells": [
  {
   "cell_type": "code",
   "execution_count": 1,
   "id": "dangerous-medication",
   "metadata": {
    "execution": {
     "iopub.execute_input": "2021-04-16T18:31:57.808389Z",
     "iopub.status.busy": "2021-04-16T18:31:57.806800Z",
     "iopub.status.idle": "2021-04-16T18:31:57.816340Z",
     "shell.execute_reply": "2021-04-16T18:31:57.817331Z"
    },
    "papermill": {
     "duration": 0.035352,
     "end_time": "2021-04-16T18:31:57.817770",
     "exception": false,
     "start_time": "2021-04-16T18:31:57.782418",
     "status": "completed"
    },
    "tags": [
     "injected-parameters"
    ]
   },
   "outputs": [],
   "source": [
    "# Parameters\n",
    "percentage = \"1\"\n"
   ]
  },
  {
   "cell_type": "code",
   "execution_count": 2,
   "id": "recreational-geography",
   "metadata": {
    "execution": {
     "iopub.execute_input": "2021-04-16T18:31:58.118113Z",
     "iopub.status.busy": "2021-04-16T18:31:58.116461Z",
     "iopub.status.idle": "2021-04-16T18:31:58.552740Z",
     "shell.execute_reply": "2021-04-16T18:31:58.553657Z"
    },
    "papermill": {
     "duration": 0.452499,
     "end_time": "2021-04-16T18:31:58.553926",
     "exception": false,
     "start_time": "2021-04-16T18:31:58.101427",
     "status": "completed"
    },
    "tags": []
   },
   "outputs": [],
   "source": [
    "import numpy as np\n",
    "from itertools import product"
   ]
  },
  {
   "cell_type": "code",
   "execution_count": 3,
   "id": "established-detector",
   "metadata": {
    "execution": {
     "iopub.execute_input": "2021-04-16T18:31:58.670959Z",
     "iopub.status.busy": "2021-04-16T18:31:58.669935Z",
     "iopub.status.idle": "2021-04-16T18:32:03.473571Z",
     "shell.execute_reply": "2021-04-16T18:32:03.474529Z"
    },
    "papermill": {
     "duration": 4.823761,
     "end_time": "2021-04-16T18:32:03.474764",
     "exception": false,
     "start_time": "2021-04-16T18:31:58.651003",
     "status": "completed"
    },
    "tags": []
   },
   "outputs": [],
   "source": [
    "from analysis_utils import conditionalCorrelationGenerator, Analyzer\n",
    "from plot_utils import corrVariantsPlotter"
   ]
  },
  {
   "cell_type": "code",
   "execution_count": 4,
   "id": "bright-electricity",
   "metadata": {
    "execution": {
     "iopub.execute_input": "2021-04-16T18:32:03.523196Z",
     "iopub.status.busy": "2021-04-16T18:32:03.522079Z",
     "iopub.status.idle": "2021-04-16T18:32:03.550338Z",
     "shell.execute_reply": "2021-04-16T18:32:03.551184Z"
    },
    "papermill": {
     "duration": 0.064056,
     "end_time": "2021-04-16T18:32:03.551484",
     "exception": false,
     "start_time": "2021-04-16T18:32:03.487428",
     "status": "completed"
    },
    "tags": []
   },
   "outputs": [],
   "source": [
    "simulation_dir_name = 'results'\n",
    "output_dir_name = 'conditional_covariances'"
   ]
  },
  {
   "cell_type": "code",
   "execution_count": 5,
   "id": "becoming-productivity",
   "metadata": {
    "execution": {
     "iopub.execute_input": "2021-04-16T18:32:03.584983Z",
     "iopub.status.busy": "2021-04-16T18:32:03.583822Z",
     "iopub.status.idle": "2021-04-16T18:32:03.596909Z",
     "shell.execute_reply": "2021-04-16T18:32:03.598008Z"
    },
    "papermill": {
     "duration": 0.031897,
     "end_time": "2021-04-16T18:32:03.598295",
     "exception": false,
     "start_time": "2021-04-16T18:32:03.566398",
     "status": "completed"
    },
    "tags": []
   },
   "outputs": [],
   "source": [
    "mode_definitions = corrVariantsPlotter.mode_definitions\n",
    "\n",
    "simulation_dir = 'pct{}/{}'.format(percentage, simulation_dir_name)\n",
    "output_dir = 'pct{}/{}'.format(percentage, output_dir_name)\n",
    "info = {'number_simulations': 100, 'simulation_dir': simulation_dir,\n",
    "        'size': 11, 'seed': 42, 'number_droplets': 100000,\n",
    "       'trimmed_strains':1, 'mode_definitions': mode_definitions,\n",
    "       'output_dir': output_dir,\n",
    "        'base_coefs_name': 'conditional_covariances_averaged_{}.npz',\n",
    "       }"
   ]
  },
  {
   "cell_type": "code",
   "execution_count": 6,
   "id": "accredited-dependence",
   "metadata": {
    "execution": {
     "iopub.execute_input": "2021-04-16T18:32:03.686090Z",
     "iopub.status.busy": "2021-04-16T18:32:03.684996Z",
     "iopub.status.idle": "2021-04-16T18:59:56.467780Z",
     "shell.execute_reply": "2021-04-16T18:59:56.480974Z"
    },
    "papermill": {
     "duration": 1672.870843,
     "end_time": "2021-04-16T18:59:56.482412",
     "exception": false,
     "start_time": "2021-04-16T18:32:03.611569",
     "status": "completed"
    },
    "tags": []
   },
   "outputs": [],
   "source": [
    "conditionalCorrelationGenerator(**info)(statistic=\"covariance\")"
   ]
  },
  {
   "cell_type": "code",
   "execution_count": 7,
   "id": "upset-immune",
   "metadata": {
    "execution": {
     "iopub.execute_input": "2021-04-16T18:59:56.580852Z",
     "iopub.status.busy": "2021-04-16T18:59:56.579651Z",
     "iopub.status.idle": "2021-04-16T18:59:56.601005Z",
     "shell.execute_reply": "2021-04-16T18:59:56.599501Z"
    },
    "papermill": {
     "duration": 0.095768,
     "end_time": "2021-04-16T18:59:56.601271",
     "exception": false,
     "start_time": "2021-04-16T18:59:56.505503",
     "status": "completed"
    },
    "tags": []
   },
   "outputs": [],
   "source": [
    "base_coefs_filepath = '{}/{}'.format(info[\"output_dir\"], info[\"base_coefs_name\"])\n",
    "\n",
    "base_coef_analysis_name = 'analyzed_covariance_results_{}.npz'\n",
    "base_coef_analysis_filepath = '{}/{}'.format(info[\"output_dir\"], base_coef_analysis_name)"
   ]
  },
  {
   "cell_type": "code",
   "execution_count": 8,
   "id": "legal-recognition",
   "metadata": {
    "execution": {
     "iopub.execute_input": "2021-04-16T18:59:56.642259Z",
     "iopub.status.busy": "2021-04-16T18:59:56.640786Z",
     "iopub.status.idle": "2021-04-16T19:11:28.727317Z",
     "shell.execute_reply": "2021-04-16T19:11:28.729441Z"
    },
    "papermill": {
     "duration": 692.113595,
     "end_time": "2021-04-16T19:11:28.729824",
     "exception": false,
     "start_time": "2021-04-16T18:59:56.616229",
     "status": "completed"
    },
    "tags": []
   },
   "outputs": [],
   "source": [
    "for experiment_type, control_type in product(['gluttonous', 'picky'], repeat=2):\n",
    "    \n",
    "    shorthand = (experiment_type[0]+control_type[0])\n",
    "    coefs_filepath = base_coefs_filepath.format(shorthand)\n",
    "    coef_analysis_filepath = base_coef_analysis_filepath.format(shorthand)\n",
    "    \n",
    "    corr_coef_values, analysis_results = Analyzer(coefs_filepath, **info)()\n",
    "    np.savez_compressed(coef_analysis_filepath, corr_coef_values=corr_coef_values, \n",
    "                        mode_definitions=mode_definitions, **analysis_results)"
   ]
  }
 ],
 "metadata": {
  "kernelspec": {
   "display_name": "Python 3",
   "language": "python",
   "name": "python3"
  },
  "language_info": {
   "codemirror_mode": {
    "name": "ipython",
    "version": 3
   },
   "file_extension": ".py",
   "mimetype": "text/x-python",
   "name": "python",
   "nbconvert_exporter": "python",
   "pygments_lexer": "ipython3",
   "version": "3.8.8"
  },
  "papermill": {
   "default_parameters": {},
   "duration": 2378.457833,
   "end_time": "2021-04-16T19:11:30.848505",
   "environment_variables": {},
   "exception": null,
   "input_path": "templates/generate_and_analyze_conditional_covariances.ipynb",
   "output_path": "pct1/generate_and_analyze_conditional_covariances.ag.ipynb",
   "parameters": {
    "percentage": "1"
   },
   "start_time": "2021-04-16T18:31:52.390672",
   "version": "2.3.3"
  }
 },
 "nbformat": 4,
 "nbformat_minor": 5
}