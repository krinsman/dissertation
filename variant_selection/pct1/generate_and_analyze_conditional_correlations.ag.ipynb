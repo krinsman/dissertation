{
 "cells": [
  {
   "cell_type": "code",
   "execution_count": 1,
   "id": "empty-yahoo",
   "metadata": {
    "execution": {
     "iopub.execute_input": "2021-04-16T21:11:42.760465Z",
     "iopub.status.busy": "2021-04-16T21:11:42.759347Z",
     "iopub.status.idle": "2021-04-16T21:11:42.763289Z",
     "shell.execute_reply": "2021-04-16T21:11:42.764167Z"
    },
    "papermill": {
     "duration": 0.036169,
     "end_time": "2021-04-16T21:11:42.764564",
     "exception": false,
     "start_time": "2021-04-16T21:11:42.728395",
     "status": "completed"
    },
    "tags": [
     "injected-parameters"
    ]
   },
   "outputs": [],
   "source": [
    "# Parameters\n",
    "percentage = \"1\"\n"
   ]
  },
  {
   "cell_type": "code",
   "execution_count": 2,
   "id": "signal-floor",
   "metadata": {
    "execution": {
     "iopub.execute_input": "2021-04-16T21:11:42.795294Z",
     "iopub.status.busy": "2021-04-16T21:11:42.794187Z",
     "iopub.status.idle": "2021-04-16T21:11:43.011232Z",
     "shell.execute_reply": "2021-04-16T21:11:43.012017Z"
    },
    "papermill": {
     "duration": 0.234673,
     "end_time": "2021-04-16T21:11:43.012261",
     "exception": false,
     "start_time": "2021-04-16T21:11:42.777588",
     "status": "completed"
    },
    "tags": []
   },
   "outputs": [],
   "source": [
    "import numpy as np\n",
    "from itertools import product"
   ]
  },
  {
   "cell_type": "code",
   "execution_count": 3,
   "id": "absolute-territory",
   "metadata": {
    "execution": {
     "iopub.execute_input": "2021-04-16T21:11:43.045702Z",
     "iopub.status.busy": "2021-04-16T21:11:43.044536Z",
     "iopub.status.idle": "2021-04-16T21:11:44.985415Z",
     "shell.execute_reply": "2021-04-16T21:11:44.986208Z"
    },
    "papermill": {
     "duration": 1.961038,
     "end_time": "2021-04-16T21:11:44.986444",
     "exception": false,
     "start_time": "2021-04-16T21:11:43.025406",
     "status": "completed"
    },
    "tags": []
   },
   "outputs": [],
   "source": [
    "from analysis_utils import conditionalCorrelationGenerator, Analyzer\n",
    "from plot_utils import corrVariantsPlotter"
   ]
  },
  {
   "cell_type": "code",
   "execution_count": 4,
   "id": "sufficient-wellington",
   "metadata": {
    "execution": {
     "iopub.execute_input": "2021-04-16T21:11:45.019171Z",
     "iopub.status.busy": "2021-04-16T21:11:45.018150Z",
     "iopub.status.idle": "2021-04-16T21:11:45.022285Z",
     "shell.execute_reply": "2021-04-16T21:11:45.023204Z"
    },
    "papermill": {
     "duration": 0.023801,
     "end_time": "2021-04-16T21:11:45.023473",
     "exception": false,
     "start_time": "2021-04-16T21:11:44.999672",
     "status": "completed"
    },
    "tags": []
   },
   "outputs": [],
   "source": [
    "simulation_dir_name = 'results'\n",
    "output_dir_name = 'conditional_correlations'"
   ]
  },
  {
   "cell_type": "code",
   "execution_count": 5,
   "id": "respective-strap",
   "metadata": {
    "execution": {
     "iopub.execute_input": "2021-04-16T21:11:45.057563Z",
     "iopub.status.busy": "2021-04-16T21:11:45.056483Z",
     "iopub.status.idle": "2021-04-16T21:11:45.059758Z",
     "shell.execute_reply": "2021-04-16T21:11:45.060635Z"
    },
    "papermill": {
     "duration": 0.024266,
     "end_time": "2021-04-16T21:11:45.060920",
     "exception": false,
     "start_time": "2021-04-16T21:11:45.036654",
     "status": "completed"
    },
    "tags": []
   },
   "outputs": [],
   "source": [
    "mode_definitions = corrVariantsPlotter.mode_definitions\n",
    "\n",
    "simulation_dir = 'pct{}/{}'.format(percentage, simulation_dir_name)\n",
    "output_dir = 'pct{}/{}'.format(percentage, output_dir_name)\n",
    "info = {'number_simulations': 100, 'simulation_dir': simulation_dir,\n",
    "        'size': 11, 'seed': 42, 'number_droplets': 100000,\n",
    "       'trimmed_strains':1, 'mode_definitions': mode_definitions,\n",
    "       'output_dir': output_dir,\n",
    "        'base_coefs_name': 'conditional_correlations_averaged_{}.npz',\n",
    "       }"
   ]
  },
  {
   "cell_type": "code",
   "execution_count": 6,
   "id": "infrared-ranch",
   "metadata": {
    "execution": {
     "iopub.execute_input": "2021-04-16T21:11:45.094508Z",
     "iopub.status.busy": "2021-04-16T21:11:45.093432Z",
     "iopub.status.idle": "2021-04-16T21:20:34.345835Z",
     "shell.execute_reply": "2021-04-16T21:20:34.346347Z"
    },
    "papermill": {
     "duration": 529.271986,
     "end_time": "2021-04-16T21:20:34.346518",
     "exception": false,
     "start_time": "2021-04-16T21:11:45.074532",
     "status": "completed"
    },
    "tags": []
   },
   "outputs": [],
   "source": [
    "conditionalCorrelationGenerator(**info)(statistic=\"correlation\")"
   ]
  },
  {
   "cell_type": "code",
   "execution_count": 7,
   "id": "unique-motion",
   "metadata": {
    "execution": {
     "iopub.execute_input": "2021-04-16T21:20:34.367151Z",
     "iopub.status.busy": "2021-04-16T21:20:34.366519Z",
     "iopub.status.idle": "2021-04-16T21:20:34.369239Z",
     "shell.execute_reply": "2021-04-16T21:20:34.369730Z"
    },
    "papermill": {
     "duration": 0.015386,
     "end_time": "2021-04-16T21:20:34.369886",
     "exception": false,
     "start_time": "2021-04-16T21:20:34.354500",
     "status": "completed"
    },
    "tags": []
   },
   "outputs": [],
   "source": [
    "base_coefs_filepath = '{}/{}'.format(info[\"output_dir\"], info[\"base_coefs_name\"])\n",
    "\n",
    "base_coef_analysis_name = 'analyzed_corr_coef_results_{}.npz'\n",
    "base_coef_analysis_filepath = '{}/{}'.format(info[\"output_dir\"], base_coef_analysis_name)"
   ]
  },
  {
   "cell_type": "code",
   "execution_count": 8,
   "id": "entire-repository",
   "metadata": {
    "execution": {
     "iopub.execute_input": "2021-04-16T21:20:34.390843Z",
     "iopub.status.busy": "2021-04-16T21:20:34.390080Z",
     "iopub.status.idle": "2021-04-16T21:25:50.826181Z",
     "shell.execute_reply": "2021-04-16T21:25:50.827138Z"
    },
    "papermill": {
     "duration": 316.450054,
     "end_time": "2021-04-16T21:25:50.827413",
     "exception": false,
     "start_time": "2021-04-16T21:20:34.377359",
     "status": "completed"
    },
    "tags": []
   },
   "outputs": [],
   "source": [
    "for experiment_type, control_type in product(['gluttonous', 'picky'], repeat=2):\n",
    "    \n",
    "    shorthand = (experiment_type[0]+control_type[0])\n",
    "    coefs_filepath = base_coefs_filepath.format(shorthand)\n",
    "    coef_analysis_filepath = base_coef_analysis_filepath.format(shorthand)\n",
    "    \n",
    "    corr_coef_values, analysis_results = Analyzer(coefs_filepath, **info)()\n",
    "    np.savez_compressed(coef_analysis_filepath, corr_coef_values=corr_coef_values, \n",
    "                        mode_definitions=mode_definitions, **analysis_results)"
   ]
  }
 ],
 "metadata": {
  "kernelspec": {
   "display_name": "Python 3",
   "language": "python",
   "name": "python3"
  },
  "language_info": {
   "codemirror_mode": {
    "name": "ipython",
    "version": 3
   },
   "file_extension": ".py",
   "mimetype": "text/x-python",
   "name": "python",
   "nbconvert_exporter": "python",
   "pygments_lexer": "ipython3",
   "version": "3.8.8"
  },
  "papermill": {
   "default_parameters": {},
   "duration": 850.410919,
   "end_time": "2021-04-16T21:25:51.358890",
   "environment_variables": {},
   "exception": null,
   "input_path": "templates/generate_and_analyze_conditional_correlations.ipynb",
   "output_path": "pct1/generate_and_analyze_conditional_correlations.ag.ipynb",
   "parameters": {
    "percentage": "1"
   },
   "start_time": "2021-04-16T21:11:40.947971",
   "version": "2.3.3"
  }
 },
 "nbformat": 4,
 "nbformat_minor": 5
}