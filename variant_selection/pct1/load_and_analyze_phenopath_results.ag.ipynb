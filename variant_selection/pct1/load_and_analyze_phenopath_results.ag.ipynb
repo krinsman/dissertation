{
 "cells": [
  {
   "cell_type": "code",
   "execution_count": 1,
   "id": "prostate-proposition",
   "metadata": {
    "execution": {
     "iopub.execute_input": "2021-04-16T20:47:58.984817Z",
     "iopub.status.busy": "2021-04-16T20:47:58.983823Z",
     "iopub.status.idle": "2021-04-16T20:47:58.994816Z",
     "shell.execute_reply": "2021-04-16T20:47:58.995816Z"
    },
    "papermill": {
     "duration": 0.053961,
     "end_time": "2021-04-16T20:47:58.996194",
     "exception": false,
     "start_time": "2021-04-16T20:47:58.942233",
     "status": "completed"
    },
    "tags": [
     "injected-parameters"
    ]
   },
   "outputs": [],
   "source": [
    "# Parameters\n",
    "percentage = \"1\"\n"
   ]
  },
  {
   "cell_type": "code",
   "execution_count": 2,
   "id": "prompt-gabriel",
   "metadata": {
    "execution": {
     "iopub.execute_input": "2021-04-16T20:47:59.033308Z",
     "iopub.status.busy": "2021-04-16T20:47:59.032173Z",
     "iopub.status.idle": "2021-04-16T20:47:59.211062Z",
     "shell.execute_reply": "2021-04-16T20:47:59.210209Z"
    },
    "papermill": {
     "duration": 0.199891,
     "end_time": "2021-04-16T20:47:59.211282",
     "exception": false,
     "start_time": "2021-04-16T20:47:59.011391",
     "status": "completed"
    },
    "tags": []
   },
   "outputs": [],
   "source": [
    "import numpy as np"
   ]
  },
  {
   "cell_type": "code",
   "execution_count": 3,
   "id": "separated-aggregate",
   "metadata": {
    "execution": {
     "iopub.execute_input": "2021-04-16T20:47:59.244953Z",
     "iopub.status.busy": "2021-04-16T20:47:59.243918Z",
     "iopub.status.idle": "2021-04-16T20:48:00.923018Z",
     "shell.execute_reply": "2021-04-16T20:48:00.924141Z"
    },
    "papermill": {
     "duration": 1.699091,
     "end_time": "2021-04-16T20:48:00.924384",
     "exception": false,
     "start_time": "2021-04-16T20:47:59.225293",
     "status": "completed"
    },
    "tags": []
   },
   "outputs": [],
   "source": [
    "from analysis_utils import phenopathCoefficientOrganizer, Analyzer\n",
    "from plot_utils import phenopathVariantsPlotter"
   ]
  },
  {
   "cell_type": "code",
   "execution_count": 4,
   "id": "honest-writing",
   "metadata": {
    "execution": {
     "iopub.execute_input": "2021-04-16T20:48:00.959508Z",
     "iopub.status.busy": "2021-04-16T20:48:00.958533Z",
     "iopub.status.idle": "2021-04-16T20:48:00.967046Z",
     "shell.execute_reply": "2021-04-16T20:48:00.968669Z"
    },
    "papermill": {
     "duration": 0.030456,
     "end_time": "2021-04-16T20:48:00.968907",
     "exception": false,
     "start_time": "2021-04-16T20:48:00.938451",
     "status": "completed"
    },
    "tags": []
   },
   "outputs": [],
   "source": [
    "output_dir_name = 'phenopath_results'\n",
    "simulation_dir_name = 'results'"
   ]
  },
  {
   "cell_type": "code",
   "execution_count": 5,
   "id": "impressed-chase",
   "metadata": {
    "execution": {
     "iopub.execute_input": "2021-04-16T20:48:01.005420Z",
     "iopub.status.busy": "2021-04-16T20:48:01.004410Z",
     "iopub.status.idle": "2021-04-16T20:48:01.013262Z",
     "shell.execute_reply": "2021-04-16T20:48:01.014440Z"
    },
    "papermill": {
     "duration": 0.032221,
     "end_time": "2021-04-16T20:48:01.014672",
     "exception": false,
     "start_time": "2021-04-16T20:48:00.982451",
     "status": "completed"
    },
    "tags": []
   },
   "outputs": [],
   "source": [
    "mode_definitions = phenopathVariantsPlotter.mode_definitions\n",
    "\n",
    "output_dir = 'pct{}/{}'.format(percentage, output_dir_name)\n",
    "simulation_dir = 'pct{}/{}'.format(percentage, simulation_dir_name)"
   ]
  },
  {
   "cell_type": "code",
   "execution_count": 6,
   "id": "controlled-soldier",
   "metadata": {
    "execution": {
     "iopub.execute_input": "2021-04-16T20:48:01.050869Z",
     "iopub.status.busy": "2021-04-16T20:48:01.049656Z",
     "iopub.status.idle": "2021-04-16T20:48:01.055414Z",
     "shell.execute_reply": "2021-04-16T20:48:01.056375Z"
    },
    "papermill": {
     "duration": 0.028132,
     "end_time": "2021-04-16T20:48:01.056605",
     "exception": false,
     "start_time": "2021-04-16T20:48:01.028473",
     "status": "completed"
    },
    "tags": []
   },
   "outputs": [],
   "source": [
    "info = {\n",
    "    'trimmed_strains': 1,\n",
    "    'size': 11,\n",
    "    'seed': 42,\n",
    "    'number_droplets': 100000,\n",
    "    'number_simulations': 100,\n",
    "    'simulation_dir': simulation_dir,\n",
    "    'output_dir': output_dir,\n",
    "    'mode_definitions': mode_definitions\n",
    "}"
   ]
  },
  {
   "cell_type": "code",
   "execution_count": 7,
   "id": "wicked-estate",
   "metadata": {
    "execution": {
     "iopub.execute_input": "2021-04-16T20:48:01.100502Z",
     "iopub.status.busy": "2021-04-16T20:48:01.099501Z",
     "iopub.status.idle": "2021-04-16T20:48:02.280187Z",
     "shell.execute_reply": "2021-04-16T20:48:02.281297Z"
    },
    "papermill": {
     "duration": 1.209835,
     "end_time": "2021-04-16T20:48:02.281536",
     "exception": false,
     "start_time": "2021-04-16T20:48:01.071701",
     "status": "completed"
    },
    "tags": []
   },
   "outputs": [],
   "source": [
    "phenopath_results = phenopathCoefficientOrganizer(**info)()"
   ]
  },
  {
   "cell_type": "code",
   "execution_count": 8,
   "id": "worth-faith",
   "metadata": {
    "execution": {
     "iopub.execute_input": "2021-04-16T20:48:02.318831Z",
     "iopub.status.busy": "2021-04-16T20:48:02.317919Z",
     "iopub.status.idle": "2021-04-16T20:48:02.379636Z",
     "shell.execute_reply": "2021-04-16T20:48:02.380588Z"
    },
    "papermill": {
     "duration": 0.085122,
     "end_time": "2021-04-16T20:48:02.380831",
     "exception": false,
     "start_time": "2021-04-16T20:48:02.295709",
     "status": "completed"
    },
    "tags": []
   },
   "outputs": [],
   "source": [
    "coefs_name = 'phenopath_results.npz'\n",
    "coefs_filepath = '{}/{}'.format(info[\"output_dir\"], coefs_name)\n",
    "np.savez_compressed(coefs_filepath, mode_definitions=mode_definitions, **phenopath_results)"
   ]
  },
  {
   "cell_type": "code",
   "execution_count": 9,
   "id": "demonstrated-integrity",
   "metadata": {
    "execution": {
     "iopub.execute_input": "2021-04-16T20:48:02.426541Z",
     "iopub.status.busy": "2021-04-16T20:48:02.425556Z",
     "iopub.status.idle": "2021-04-16T20:48:02.435413Z",
     "shell.execute_reply": "2021-04-16T20:48:02.436318Z"
    },
    "papermill": {
     "duration": 0.035323,
     "end_time": "2021-04-16T20:48:02.436544",
     "exception": false,
     "start_time": "2021-04-16T20:48:02.401221",
     "status": "completed"
    },
    "tags": []
   },
   "outputs": [],
   "source": [
    "coef_analysis_name = 'analyzed_phenopath_results.npz'\n",
    "coef_analysis_filepath = '{}/{}'.format(info[\"output_dir\"], coef_analysis_name)"
   ]
  },
  {
   "cell_type": "code",
   "execution_count": 10,
   "id": "center-lambda",
   "metadata": {
    "execution": {
     "iopub.execute_input": "2021-04-16T20:48:02.472587Z",
     "iopub.status.busy": "2021-04-16T20:48:02.471411Z",
     "iopub.status.idle": "2021-04-16T20:49:26.210907Z",
     "shell.execute_reply": "2021-04-16T20:49:26.211932Z"
    },
    "papermill": {
     "duration": 83.761085,
     "end_time": "2021-04-16T20:49:26.212208",
     "exception": false,
     "start_time": "2021-04-16T20:48:02.451123",
     "status": "completed"
    },
    "tags": []
   },
   "outputs": [],
   "source": [
    "phenopath_values, analysis_results = Analyzer(coefs_filepath, **info)()\n",
    "np.savez_compressed(coef_analysis_filepath, phenopath_values=phenopath_values, \n",
    "                    mode_definitions=mode_definitions, **analysis_results)"
   ]
  }
 ],
 "metadata": {
  "kernelspec": {
   "display_name": "Python 3",
   "language": "python",
   "name": "python3"
  },
  "language_info": {
   "codemirror_mode": {
    "name": "ipython",
    "version": 3
   },
   "file_extension": ".py",
   "mimetype": "text/x-python",
   "name": "python",
   "nbconvert_exporter": "python",
   "pygments_lexer": "ipython3",
   "version": "3.8.8"
  },
  "papermill": {
   "default_parameters": {},
   "duration": 89.910191,
   "end_time": "2021-04-16T20:49:26.745080",
   "environment_variables": {},
   "exception": null,
   "input_path": "templates/load_and_analyze_phenopath_results.ipynb",
   "output_path": "pct1/load_and_analyze_phenopath_results.ag.ipynb",
   "parameters": {
    "percentage": "1"
   },
   "start_time": "2021-04-16T20:47:56.834889",
   "version": "2.3.3"
  }
 },
 "nbformat": 4,
 "nbformat_minor": 5
}