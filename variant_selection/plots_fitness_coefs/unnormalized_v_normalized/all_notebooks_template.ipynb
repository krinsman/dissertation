{
 "cells": [
  {
   "cell_type": "code",
   "execution_count": null,
   "id": "informed-zoning",
   "metadata": {},
   "outputs": [],
   "source": [
    "import matplotlib.pyplot as plt\n",
    "import numpy as np"
   ]
  },
  {
   "cell_type": "code",
   "execution_count": null,
   "id": "legitimate-recycling",
   "metadata": {},
   "outputs": [],
   "source": [
    "from plot_utils import fitnessVariantsPlotter as Plotter"
   ]
  },
  {
   "cell_type": "code",
   "execution_count": null,
   "id": "thrown-vacuum",
   "metadata": {},
   "outputs": [],
   "source": [
    "transformations = {'identity': (lambda x: x), 'butterfly': (lambda x: -np.log(1. - x)/np.log(10))}\n",
    "transformation = transformations[transformation_name]"
   ]
  },
  {
   "cell_type": "code",
   "execution_count": null,
   "id": "economic-hungarian",
   "metadata": {},
   "outputs": [],
   "source": [
    "plotter = Plotter(base_result_filename, results_dir, kde_bounds)"
   ]
  },
  {
   "cell_type": "code",
   "execution_count": null,
   "id": "respective-immunology",
   "metadata": {},
   "outputs": [],
   "source": [
    "performance = plotter.load_performance_results(metric_name)\n",
    "performance = transformation(performance)"
   ]
  },
  {
   "cell_type": "markdown",
   "id": "million-trailer",
   "metadata": {},
   "source": [
    "## Unnormalized vs. Normalized Averages side-by-side"
   ]
  },
  {
   "cell_type": "code",
   "execution_count": null,
   "id": "arranged-advertising",
   "metadata": {},
   "outputs": [],
   "source": [
    "for start_index in start_indices:\n",
    "    ax = plotter.avg_types_side_by_side(performance, \"geometric\", y_title=y_title, start_index=start_index)\n",
    "    if transformation_name == 'butterfly':\n",
    "        plotter.annotate_important_log_scores(ax, right_y_title)"
   ]
  },
  {
   "cell_type": "code",
   "execution_count": null,
   "id": "surface-reality",
   "metadata": {},
   "outputs": [],
   "source": [
    "for start_index in start_indices:\n",
    "    ax = plotter.avg_types_side_by_side(performance, \"arithmetic\", y_title=y_title, start_index=start_index)\n",
    "    if transformation_name == 'butterfly':\n",
    "        plotter.annotate_important_log_scores(ax, right_y_title)"
   ]
  },
  {
   "cell_type": "code",
   "execution_count": null,
   "id": "proved-essence",
   "metadata": {},
   "outputs": [],
   "source": [
    "for start_index in start_indices:\n",
    "    ax = plotter.avg_types_side_by_side(performance, \"rank\", y_title=y_title, start_index=start_index)\n",
    "    if transformation_name == 'butterfly':\n",
    "        plotter.annotate_important_log_scores(ax, right_y_title)"
   ]
  }
 ],
 "metadata": {
  "kernelspec": {
   "display_name": "Python 3",
   "language": "python",
   "name": "python3"
  },
  "language_info": {
   "codemirror_mode": {
    "name": "ipython",
    "version": 3
   },
   "file_extension": ".py",
   "mimetype": "text/x-python",
   "name": "python",
   "nbconvert_exporter": "python",
   "pygments_lexer": "ipython3",
   "version": "3.9.2"
  }
 },
 "nbformat": 4,
 "nbformat_minor": 5
}
