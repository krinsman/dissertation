{
 "cells": [
  {
   "cell_type": "code",
   "execution_count": null,
   "id": "graphic-ancient",
   "metadata": {},
   "outputs": [],
   "source": [
    "import numpy as np\n",
    "import matplotlib.pyplot as plt\n",
    "import seaborn as sns"
   ]
  },
  {
   "cell_type": "code",
   "execution_count": null,
   "id": "abroad-sailing",
   "metadata": {},
   "outputs": [],
   "source": [
    "from plot_utils import fitnessExpmtSetupsPlotter as Plotter"
   ]
  },
  {
   "cell_type": "code",
   "execution_count": null,
   "id": "overall-watson",
   "metadata": {},
   "outputs": [],
   "source": [
    "transformations = {'identity': (lambda x: x), 'butterfly': (lambda x: -np.log(1. - x)/np.log(10.))}\n",
    "transformation = transformations[transformation_name]"
   ]
  },
  {
   "cell_type": "code",
   "execution_count": null,
   "id": "varied-recruitment",
   "metadata": {},
   "outputs": [],
   "source": [
    "plotter = Plotter(base_result_filename, results_dir, kde_bounds=kde_bounds)"
   ]
  },
  {
   "cell_type": "code",
   "execution_count": null,
   "id": "eligible-square",
   "metadata": {},
   "outputs": [],
   "source": [
    "performance = plotter.load_performance_results(metric_name)\n",
    "performance = transformation(performance)"
   ]
  },
  {
   "cell_type": "markdown",
   "id": "indoor-nation",
   "metadata": {},
   "source": [
    "### Averages of Normalized"
   ]
  },
  {
   "cell_type": "code",
   "execution_count": null,
   "id": "residential-filename",
   "metadata": {},
   "outputs": [],
   "source": [
    "for start_index in start_indices:\n",
    "    axes = plotter.plot_all_variants(performance, avg_type='normalized', y_title=y_title, start_index=start_index)\n",
    "    if transformation_name == 'butterfly':\n",
    "        for ax in axes:\n",
    "            plotter.annotate_important_log_scores(ax, right_y_title)"
   ]
  },
  {
   "cell_type": "markdown",
   "id": "biblical-hardwood",
   "metadata": {},
   "source": [
    "### Averages of Unnormalized"
   ]
  },
  {
   "cell_type": "code",
   "execution_count": null,
   "id": "missing-isolation",
   "metadata": {},
   "outputs": [],
   "source": [
    "for start_index in start_indices:\n",
    "    axes = plotter.plot_all_variants(performance, avg_type='unnormalized', y_title=y_title, start_index=start_index)\n",
    "    if transformation_name == 'butterfly':\n",
    "        for ax in axes:\n",
    "            plotter.annotate_important_log_scores(ax, right_y_title)"
   ]
  }
 ],
 "metadata": {
  "kernelspec": {
   "display_name": "Python 3",
   "language": "python",
   "name": "python3"
  },
  "language_info": {
   "codemirror_mode": {
    "name": "ipython",
    "version": 3
   },
   "file_extension": ".py",
   "mimetype": "text/x-python",
   "name": "python",
   "nbconvert_exporter": "python",
   "pygments_lexer": "ipython3",
   "version": "3.8.8"
  }
 },
 "nbformat": 4,
 "nbformat_minor": 5
}
