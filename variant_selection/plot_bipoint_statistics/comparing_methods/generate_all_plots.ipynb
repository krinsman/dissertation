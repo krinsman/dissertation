{
 "cells": [
  {
   "cell_type": "code",
   "execution_count": 1,
   "id": "favorite-invitation",
   "metadata": {},
   "outputs": [],
   "source": [
    "import multiprocessing as mp\n",
    "import papermill as pm\n",
    "\n",
    "from pathlib import Path\n",
    "from itertools import product"
   ]
  },
  {
   "cell_type": "code",
   "execution_count": 2,
   "id": "promotional-gathering",
   "metadata": {},
   "outputs": [],
   "source": [
    "base_coef_analysis_filepath = {\"correlation\": \"conditional_correlations/analyzed_corr_coef_results_{}.npz\",\n",
    "                              \"fitness\": \"fitness_coefs/analyzed_fitness_coef_results_{}.npz\"}\n",
    "results_dir = '../..'"
   ]
  },
  {
   "cell_type": "code",
   "execution_count": 3,
   "id": "educational-penalty",
   "metadata": {},
   "outputs": [],
   "source": [
    "shorthands = []\n",
    "output_dirs = []\n",
    "\n",
    "for experiment_type, control_type in product([\"gluttonous\", \"picky\"], repeat=2):\n",
    "    shorthand = '{}{}'.format(experiment_type[0], control_type[0])\n",
    "    shorthands.append(shorthand)\n",
    "    output_dir = 'statistics_and_methods_{}'.format(shorthand)\n",
    "    output_dirs.append(output_dir)\n",
    "    Path(\"./\" + output_dir).mkdir(parents=True, exist_ok=True)"
   ]
  },
  {
   "cell_type": "code",
   "execution_count": 4,
   "id": "pleasant-athletics",
   "metadata": {},
   "outputs": [],
   "source": [
    "input_names = ['../notebook_generation_template.ipynb' for shorthand in shorthands]\n",
    "output_names = ['{}/generate_plots.ag.ipynb'.format(output_dir) for output_dir in output_dirs]\n",
    "\n",
    "parameter_dicts = [{'results_dir': results_dir,\n",
    "                   'base_result_filename': {key: value.format(shorthand) for key, value in base_coef_analysis_filepath.items()},\n",
    "                   'output_dir': output_dir}\n",
    "                  for shorthand, output_dir in zip(shorthands, output_dirs)]"
   ]
  },
  {
   "cell_type": "code",
   "execution_count": 5,
   "id": "toxic-insert",
   "metadata": {},
   "outputs": [],
   "source": [
    "parallel_input = [[input_name, output_name, parameter_dict] \n",
    "                  for input_name, output_name, parameter_dict\n",
    "                  in zip(input_names, output_names, parameter_dicts)]"
   ]
  },
  {
   "cell_type": "code",
   "execution_count": 6,
   "id": "harmful-share",
   "metadata": {},
   "outputs": [],
   "source": [
    "pool = mp.Pool(mp.cpu_count())\n",
    "pool.starmap(pm.execute_notebook, parallel_input)\n",
    "pool.close()\n",
    "pool.join()"
   ]
  }
 ],
 "metadata": {
  "kernelspec": {
   "display_name": "Python 3",
   "language": "python",
   "name": "python3"
  },
  "language_info": {
   "codemirror_mode": {
    "name": "ipython",
    "version": 3
   },
   "file_extension": ".py",
   "mimetype": "text/x-python",
   "name": "python",
   "nbconvert_exporter": "python",
   "pygments_lexer": "ipython3",
   "version": "3.8.8"
  }
 },
 "nbformat": 4,
 "nbformat_minor": 5
}
