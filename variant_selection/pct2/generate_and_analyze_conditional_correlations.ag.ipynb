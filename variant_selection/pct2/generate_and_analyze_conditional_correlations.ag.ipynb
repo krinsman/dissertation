{
 "cells": [
  {
   "cell_type": "code",
   "execution_count": 1,
   "id": "metropolitan-chart",
   "metadata": {
    "execution": {
     "iopub.execute_input": "2021-04-16T21:12:14.156446Z",
     "iopub.status.busy": "2021-04-16T21:12:14.155262Z",
     "iopub.status.idle": "2021-04-16T21:12:14.165682Z",
     "shell.execute_reply": "2021-04-16T21:12:14.166619Z"
    },
    "papermill": {
     "duration": 0.034502,
     "end_time": "2021-04-16T21:12:14.167018",
     "exception": false,
     "start_time": "2021-04-16T21:12:14.132516",
     "status": "completed"
    },
    "tags": [
     "injected-parameters"
    ]
   },
   "outputs": [],
   "source": [
    "# Parameters\n",
    "percentage = \"2\"\n"
   ]
  },
  {
   "cell_type": "code",
   "execution_count": 2,
   "id": "signal-floor",
   "metadata": {
    "execution": {
     "iopub.execute_input": "2021-04-16T21:12:14.198964Z",
     "iopub.status.busy": "2021-04-16T21:12:14.197809Z",
     "iopub.status.idle": "2021-04-16T21:12:14.404877Z",
     "shell.execute_reply": "2021-04-16T21:12:14.405756Z"
    },
    "papermill": {
     "duration": 0.226,
     "end_time": "2021-04-16T21:12:14.406037",
     "exception": false,
     "start_time": "2021-04-16T21:12:14.180037",
     "status": "completed"
    },
    "tags": []
   },
   "outputs": [],
   "source": [
    "import numpy as np\n",
    "from itertools import product"
   ]
  },
  {
   "cell_type": "code",
   "execution_count": 3,
   "id": "absolute-territory",
   "metadata": {
    "execution": {
     "iopub.execute_input": "2021-04-16T21:12:14.440591Z",
     "iopub.status.busy": "2021-04-16T21:12:14.439532Z",
     "iopub.status.idle": "2021-04-16T21:12:16.371408Z",
     "shell.execute_reply": "2021-04-16T21:12:16.372331Z"
    },
    "papermill": {
     "duration": 1.953507,
     "end_time": "2021-04-16T21:12:16.372619",
     "exception": false,
     "start_time": "2021-04-16T21:12:14.419112",
     "status": "completed"
    },
    "tags": []
   },
   "outputs": [],
   "source": [
    "from analysis_utils import conditionalCorrelationGenerator, Analyzer\n",
    "from plot_utils import corrVariantsPlotter"
   ]
  },
  {
   "cell_type": "code",
   "execution_count": 4,
   "id": "sufficient-wellington",
   "metadata": {
    "execution": {
     "iopub.execute_input": "2021-04-16T21:12:16.405259Z",
     "iopub.status.busy": "2021-04-16T21:12:16.404062Z",
     "iopub.status.idle": "2021-04-16T21:12:16.407924Z",
     "shell.execute_reply": "2021-04-16T21:12:16.409092Z"
    },
    "papermill": {
     "duration": 0.024099,
     "end_time": "2021-04-16T21:12:16.409458",
     "exception": false,
     "start_time": "2021-04-16T21:12:16.385359",
     "status": "completed"
    },
    "tags": []
   },
   "outputs": [],
   "source": [
    "simulation_dir_name = 'results'\n",
    "output_dir_name = 'conditional_correlations'"
   ]
  },
  {
   "cell_type": "code",
   "execution_count": 5,
   "id": "respective-strap",
   "metadata": {
    "execution": {
     "iopub.execute_input": "2021-04-16T21:12:16.446230Z",
     "iopub.status.busy": "2021-04-16T21:12:16.444934Z",
     "iopub.status.idle": "2021-04-16T21:12:16.448462Z",
     "shell.execute_reply": "2021-04-16T21:12:16.449269Z"
    },
    "papermill": {
     "duration": 0.026536,
     "end_time": "2021-04-16T21:12:16.449498",
     "exception": false,
     "start_time": "2021-04-16T21:12:16.422962",
     "status": "completed"
    },
    "tags": []
   },
   "outputs": [],
   "source": [
    "mode_definitions = corrVariantsPlotter.mode_definitions\n",
    "\n",
    "simulation_dir = 'pct{}/{}'.format(percentage, simulation_dir_name)\n",
    "output_dir = 'pct{}/{}'.format(percentage, output_dir_name)\n",
    "info = {'number_simulations': 100, 'simulation_dir': simulation_dir,\n",
    "        'size': 11, 'seed': 42, 'number_droplets': 100000,\n",
    "       'trimmed_strains':1, 'mode_definitions': mode_definitions,\n",
    "       'output_dir': output_dir,\n",
    "        'base_coefs_name': 'conditional_correlations_averaged_{}.npz',\n",
    "       }"
   ]
  },
  {
   "cell_type": "code",
   "execution_count": 6,
   "id": "infrared-ranch",
   "metadata": {
    "execution": {
     "iopub.execute_input": "2021-04-16T21:12:16.483217Z",
     "iopub.status.busy": "2021-04-16T21:12:16.482128Z",
     "iopub.status.idle": "2021-04-16T21:23:18.603632Z",
     "shell.execute_reply": "2021-04-16T21:23:18.604657Z"
    },
    "papermill": {
     "duration": 662.142495,
     "end_time": "2021-04-16T21:23:18.604964",
     "exception": false,
     "start_time": "2021-04-16T21:12:16.462469",
     "status": "completed"
    },
    "tags": []
   },
   "outputs": [],
   "source": [
    "conditionalCorrelationGenerator(**info)(statistic=\"correlation\")"
   ]
  },
  {
   "cell_type": "code",
   "execution_count": 7,
   "id": "unique-motion",
   "metadata": {
    "execution": {
     "iopub.execute_input": "2021-04-16T21:23:18.642764Z",
     "iopub.status.busy": "2021-04-16T21:23:18.641556Z",
     "iopub.status.idle": "2021-04-16T21:23:18.645519Z",
     "shell.execute_reply": "2021-04-16T21:23:18.646423Z"
    },
    "papermill": {
     "duration": 0.027493,
     "end_time": "2021-04-16T21:23:18.646693",
     "exception": false,
     "start_time": "2021-04-16T21:23:18.619200",
     "status": "completed"
    },
    "tags": []
   },
   "outputs": [],
   "source": [
    "base_coefs_filepath = '{}/{}'.format(info[\"output_dir\"], info[\"base_coefs_name\"])\n",
    "\n",
    "base_coef_analysis_name = 'analyzed_corr_coef_results_{}.npz'\n",
    "base_coef_analysis_filepath = '{}/{}'.format(info[\"output_dir\"], base_coef_analysis_name)"
   ]
  },
  {
   "cell_type": "code",
   "execution_count": 8,
   "id": "entire-repository",
   "metadata": {
    "execution": {
     "iopub.execute_input": "2021-04-16T21:23:18.682926Z",
     "iopub.status.busy": "2021-04-16T21:23:18.681823Z",
     "iopub.status.idle": "2021-04-16T21:28:27.545441Z",
     "shell.execute_reply": "2021-04-16T21:28:27.546202Z"
    },
    "papermill": {
     "duration": 308.886594,
     "end_time": "2021-04-16T21:28:27.546455",
     "exception": false,
     "start_time": "2021-04-16T21:23:18.659861",
     "status": "completed"
    },
    "tags": []
   },
   "outputs": [],
   "source": [
    "for experiment_type, control_type in product(['gluttonous', 'picky'], repeat=2):\n",
    "    \n",
    "    shorthand = (experiment_type[0]+control_type[0])\n",
    "    coefs_filepath = base_coefs_filepath.format(shorthand)\n",
    "    coef_analysis_filepath = base_coef_analysis_filepath.format(shorthand)\n",
    "    \n",
    "    corr_coef_values, analysis_results = Analyzer(coefs_filepath, **info)()\n",
    "    np.savez_compressed(coef_analysis_filepath, corr_coef_values=corr_coef_values, \n",
    "                        mode_definitions=mode_definitions, **analysis_results)"
   ]
  }
 ],
 "metadata": {
  "kernelspec": {
   "display_name": "Python 3",
   "language": "python",
   "name": "python3"
  },
  "language_info": {
   "codemirror_mode": {
    "name": "ipython",
    "version": 3
   },
   "file_extension": ".py",
   "mimetype": "text/x-python",
   "name": "python",
   "nbconvert_exporter": "python",
   "pygments_lexer": "ipython3",
   "version": "3.8.8"
  },
  "papermill": {
   "default_parameters": {},
   "duration": 975.617248,
   "end_time": "2021-04-16T21:28:28.072665",
   "environment_variables": {},
   "exception": null,
   "input_path": "templates/generate_and_analyze_conditional_correlations.ipynb",
   "output_path": "pct2/generate_and_analyze_conditional_correlations.ag.ipynb",
   "parameters": {
    "percentage": "2"
   },
   "start_time": "2021-04-16T21:12:12.455417",
   "version": "2.3.3"
  }
 },
 "nbformat": 4,
 "nbformat_minor": 5
}