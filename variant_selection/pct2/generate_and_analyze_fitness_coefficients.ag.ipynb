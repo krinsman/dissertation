{
 "cells": [
  {
   "cell_type": "code",
   "execution_count": 1,
   "id": "fourth-finder",
   "metadata": {
    "execution": {
     "iopub.execute_input": "2021-04-16T20:51:05.812764Z",
     "iopub.status.busy": "2021-04-16T20:51:05.811375Z",
     "iopub.status.idle": "2021-04-16T20:51:05.823701Z",
     "shell.execute_reply": "2021-04-16T20:51:05.825820Z"
    },
    "papermill": {
     "duration": 0.041181,
     "end_time": "2021-04-16T20:51:05.826654",
     "exception": false,
     "start_time": "2021-04-16T20:51:05.785473",
     "status": "completed"
    },
    "tags": [
     "injected-parameters"
    ]
   },
   "outputs": [],
   "source": [
    "# Parameters\n",
    "percentage = \"2\"\n"
   ]
  },
  {
   "cell_type": "code",
   "execution_count": 2,
   "id": "organized-haven",
   "metadata": {
    "execution": {
     "iopub.execute_input": "2021-04-16T20:51:05.864459Z",
     "iopub.status.busy": "2021-04-16T20:51:05.862761Z",
     "iopub.status.idle": "2021-04-16T20:51:06.091633Z",
     "shell.execute_reply": "2021-04-16T20:51:06.092985Z"
    },
    "papermill": {
     "duration": 0.250925,
     "end_time": "2021-04-16T20:51:06.093335",
     "exception": false,
     "start_time": "2021-04-16T20:51:05.842410",
     "status": "completed"
    },
    "tags": []
   },
   "outputs": [],
   "source": [
    "import numpy as np\n",
    "from itertools import product"
   ]
  },
  {
   "cell_type": "code",
   "execution_count": 3,
   "id": "abstract-import",
   "metadata": {
    "execution": {
     "iopub.execute_input": "2021-04-16T20:51:06.132536Z",
     "iopub.status.busy": "2021-04-16T20:51:06.131053Z",
     "iopub.status.idle": "2021-04-16T20:51:08.444292Z",
     "shell.execute_reply": "2021-04-16T20:51:08.445530Z"
    },
    "papermill": {
     "duration": 2.336327,
     "end_time": "2021-04-16T20:51:08.445959",
     "exception": false,
     "start_time": "2021-04-16T20:51:06.109632",
     "status": "completed"
    },
    "tags": []
   },
   "outputs": [],
   "source": [
    "from analysis_utils import fitnessGenerator, Analyzer\n",
    "from plot_utils import fitnessVariantsPlotter"
   ]
  },
  {
   "cell_type": "code",
   "execution_count": 4,
   "id": "smaller-swiss",
   "metadata": {
    "execution": {
     "iopub.execute_input": "2021-04-16T20:51:08.482532Z",
     "iopub.status.busy": "2021-04-16T20:51:08.481308Z",
     "iopub.status.idle": "2021-04-16T20:51:08.484998Z",
     "shell.execute_reply": "2021-04-16T20:51:08.486207Z"
    },
    "papermill": {
     "duration": 0.026631,
     "end_time": "2021-04-16T20:51:08.486580",
     "exception": false,
     "start_time": "2021-04-16T20:51:08.459949",
     "status": "completed"
    },
    "tags": []
   },
   "outputs": [],
   "source": [
    "simulation_dir_name = 'results'\n",
    "output_dir_name = 'fitness_coefs'"
   ]
  },
  {
   "cell_type": "code",
   "execution_count": 5,
   "id": "traditional-peripheral",
   "metadata": {
    "execution": {
     "iopub.execute_input": "2021-04-16T20:51:08.529792Z",
     "iopub.status.busy": "2021-04-16T20:51:08.527976Z",
     "iopub.status.idle": "2021-04-16T20:51:08.533190Z",
     "shell.execute_reply": "2021-04-16T20:51:08.534460Z"
    },
    "papermill": {
     "duration": 0.033964,
     "end_time": "2021-04-16T20:51:08.534839",
     "exception": false,
     "start_time": "2021-04-16T20:51:08.500875",
     "status": "completed"
    },
    "tags": []
   },
   "outputs": [],
   "source": [
    "mode_definitions = fitnessVariantsPlotter.mode_definitions\n",
    "\n",
    "simulation_dir = 'pct{}/{}'.format(percentage, simulation_dir_name)\n",
    "output_dir = 'pct{}/{}'.format(percentage, output_dir_name)\n",
    "info = {'number_simulations': 100, 'simulation_dir': simulation_dir,\n",
    "        'size': 11, 'seed': 42, 'number_droplets': 100000,\n",
    "       'trimmed_strains':1, 'mode_definitions': mode_definitions,\n",
    "       'output_dir': output_dir,\n",
    "        'base_coefs_name': 'fitness_coefs_averaged_{}.npz',\n",
    "       }"
   ]
  },
  {
   "cell_type": "code",
   "execution_count": 6,
   "id": "excellent-notebook",
   "metadata": {
    "execution": {
     "iopub.execute_input": "2021-04-16T20:51:08.568512Z",
     "iopub.status.busy": "2021-04-16T20:51:08.566909Z",
     "iopub.status.idle": "2021-04-16T20:58:59.747988Z",
     "shell.execute_reply": "2021-04-16T20:58:59.748815Z"
    },
    "papermill": {
     "duration": 471.201507,
     "end_time": "2021-04-16T20:58:59.749062",
     "exception": false,
     "start_time": "2021-04-16T20:51:08.547555",
     "status": "completed"
    },
    "tags": []
   },
   "outputs": [],
   "source": [
    "fitnessGenerator(**info)()"
   ]
  },
  {
   "cell_type": "code",
   "execution_count": 7,
   "id": "based-crown",
   "metadata": {
    "execution": {
     "iopub.execute_input": "2021-04-16T20:58:59.783714Z",
     "iopub.status.busy": "2021-04-16T20:58:59.779590Z",
     "iopub.status.idle": "2021-04-16T20:58:59.787770Z",
     "shell.execute_reply": "2021-04-16T20:58:59.788715Z"
    },
    "papermill": {
     "duration": 0.025766,
     "end_time": "2021-04-16T20:58:59.788956",
     "exception": false,
     "start_time": "2021-04-16T20:58:59.763190",
     "status": "completed"
    },
    "tags": []
   },
   "outputs": [],
   "source": [
    "base_coefs_filepath = '{}/{}'.format(info[\"output_dir\"], info[\"base_coefs_name\"])\n",
    "\n",
    "base_coef_analysis_name = 'analyzed_fitness_coef_results_{}.npz'\n",
    "base_coef_analysis_filepath = '{}/{}'.format(info[\"output_dir\"], base_coef_analysis_name)"
   ]
  },
  {
   "cell_type": "code",
   "execution_count": 8,
   "id": "directed-support",
   "metadata": {
    "execution": {
     "iopub.execute_input": "2021-04-16T20:58:59.824698Z",
     "iopub.status.busy": "2021-04-16T20:58:59.823705Z",
     "iopub.status.idle": "2021-04-16T21:04:53.041068Z",
     "shell.execute_reply": "2021-04-16T21:04:53.042037Z"
    },
    "papermill": {
     "duration": 353.23953,
     "end_time": "2021-04-16T21:04:53.042337",
     "exception": false,
     "start_time": "2021-04-16T20:58:59.802807",
     "status": "completed"
    },
    "tags": []
   },
   "outputs": [],
   "source": [
    "for experiment_type, control_type in product(['gluttonous', 'picky'], repeat=2):\n",
    "    \n",
    "    shorthand = (experiment_type[0]+control_type[0])\n",
    "    coefs_filepath = base_coefs_filepath.format(shorthand)\n",
    "    coef_analysis_filepath = base_coef_analysis_filepath.format(shorthand)\n",
    "    \n",
    "    fitness_coef_values, analysis_results = Analyzer(coefs_filepath, **info)()\n",
    "    np.savez_compressed(coef_analysis_filepath, fitness_coef_values=fitness_coef_values, \n",
    "                        mode_definitions=mode_definitions, **analysis_results)"
   ]
  }
 ],
 "metadata": {
  "kernelspec": {
   "display_name": "Python 3",
   "language": "python",
   "name": "python3"
  },
  "language_info": {
   "codemirror_mode": {
    "name": "ipython",
    "version": 3
   },
   "file_extension": ".py",
   "mimetype": "text/x-python",
   "name": "python",
   "nbconvert_exporter": "python",
   "pygments_lexer": "ipython3",
   "version": "3.8.8"
  },
  "papermill": {
   "default_parameters": {},
   "duration": 829.803629,
   "end_time": "2021-04-16T21:04:53.781941",
   "environment_variables": {},
   "exception": null,
   "input_path": "templates/generate_and_analyze_fitness_coefficients.ipynb",
   "output_path": "pct2/generate_and_analyze_fitness_coefficients.ag.ipynb",
   "parameters": {
    "percentage": "2"
   },
   "start_time": "2021-04-16T20:51:03.978312",
   "version": "2.3.3"
  }
 },
 "nbformat": 4,
 "nbformat_minor": 5
}