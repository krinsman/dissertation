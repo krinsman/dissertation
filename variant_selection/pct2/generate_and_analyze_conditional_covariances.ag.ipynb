{
 "cells": [
  {
   "cell_type": "code",
   "execution_count": 1,
   "id": "irish-rochester",
   "metadata": {
    "execution": {
     "iopub.execute_input": "2021-04-16T18:31:58.022964Z",
     "iopub.status.busy": "2021-04-16T18:31:58.018130Z",
     "iopub.status.idle": "2021-04-16T18:31:58.026442Z",
     "shell.execute_reply": "2021-04-16T18:31:58.027297Z"
    },
    "papermill": {
     "duration": 0.033386,
     "end_time": "2021-04-16T18:31:58.027693",
     "exception": false,
     "start_time": "2021-04-16T18:31:57.994307",
     "status": "completed"
    },
    "tags": [
     "injected-parameters"
    ]
   },
   "outputs": [],
   "source": [
    "# Parameters\n",
    "percentage = \"2\"\n"
   ]
  },
  {
   "cell_type": "code",
   "execution_count": 2,
   "id": "recreational-geography",
   "metadata": {
    "execution": {
     "iopub.execute_input": "2021-04-16T18:31:58.120412Z",
     "iopub.status.busy": "2021-04-16T18:31:58.119357Z",
     "iopub.status.idle": "2021-04-16T18:31:58.564385Z",
     "shell.execute_reply": "2021-04-16T18:31:58.565419Z"
    },
    "papermill": {
     "duration": 0.464176,
     "end_time": "2021-04-16T18:31:58.565686",
     "exception": false,
     "start_time": "2021-04-16T18:31:58.101510",
     "status": "completed"
    },
    "tags": []
   },
   "outputs": [],
   "source": [
    "import numpy as np\n",
    "from itertools import product"
   ]
  },
  {
   "cell_type": "code",
   "execution_count": 3,
   "id": "established-detector",
   "metadata": {
    "execution": {
     "iopub.execute_input": "2021-04-16T18:31:58.670915Z",
     "iopub.status.busy": "2021-04-16T18:31:58.669863Z",
     "iopub.status.idle": "2021-04-16T18:32:03.425065Z",
     "shell.execute_reply": "2021-04-16T18:32:03.425964Z"
    },
    "papermill": {
     "duration": 4.774334,
     "end_time": "2021-04-16T18:32:03.426220",
     "exception": false,
     "start_time": "2021-04-16T18:31:58.651886",
     "status": "completed"
    },
    "tags": []
   },
   "outputs": [],
   "source": [
    "from analysis_utils import conditionalCorrelationGenerator, Analyzer\n",
    "from plot_utils import corrVariantsPlotter"
   ]
  },
  {
   "cell_type": "code",
   "execution_count": 4,
   "id": "bright-electricity",
   "metadata": {
    "execution": {
     "iopub.execute_input": "2021-04-16T18:32:03.460095Z",
     "iopub.status.busy": "2021-04-16T18:32:03.458150Z",
     "iopub.status.idle": "2021-04-16T18:32:03.462290Z",
     "shell.execute_reply": "2021-04-16T18:32:03.463427Z"
    },
    "papermill": {
     "duration": 0.024273,
     "end_time": "2021-04-16T18:32:03.463712",
     "exception": false,
     "start_time": "2021-04-16T18:32:03.439439",
     "status": "completed"
    },
    "tags": []
   },
   "outputs": [],
   "source": [
    "simulation_dir_name = 'results'\n",
    "output_dir_name = 'conditional_covariances'"
   ]
  },
  {
   "cell_type": "code",
   "execution_count": 5,
   "id": "becoming-productivity",
   "metadata": {
    "execution": {
     "iopub.execute_input": "2021-04-16T18:32:03.500946Z",
     "iopub.status.busy": "2021-04-16T18:32:03.496142Z",
     "iopub.status.idle": "2021-04-16T18:32:03.505378Z",
     "shell.execute_reply": "2021-04-16T18:32:03.506597Z"
    },
    "papermill": {
     "duration": 0.030036,
     "end_time": "2021-04-16T18:32:03.506924",
     "exception": false,
     "start_time": "2021-04-16T18:32:03.476888",
     "status": "completed"
    },
    "tags": []
   },
   "outputs": [],
   "source": [
    "mode_definitions = corrVariantsPlotter.mode_definitions\n",
    "\n",
    "simulation_dir = 'pct{}/{}'.format(percentage, simulation_dir_name)\n",
    "output_dir = 'pct{}/{}'.format(percentage, output_dir_name)\n",
    "info = {'number_simulations': 100, 'simulation_dir': simulation_dir,\n",
    "        'size': 11, 'seed': 42, 'number_droplets': 100000,\n",
    "       'trimmed_strains':1, 'mode_definitions': mode_definitions,\n",
    "       'output_dir': output_dir,\n",
    "        'base_coefs_name': 'conditional_covariances_averaged_{}.npz',\n",
    "       }"
   ]
  },
  {
   "cell_type": "code",
   "execution_count": 6,
   "id": "accredited-dependence",
   "metadata": {
    "execution": {
     "iopub.execute_input": "2021-04-16T18:32:03.601144Z",
     "iopub.status.busy": "2021-04-16T18:32:03.600027Z",
     "iopub.status.idle": "2021-04-16T19:05:11.686853Z",
     "shell.execute_reply": "2021-04-16T19:05:11.688532Z"
    },
    "papermill": {
     "duration": 1988.156103,
     "end_time": "2021-04-16T19:05:11.689603",
     "exception": false,
     "start_time": "2021-04-16T18:32:03.533500",
     "status": "completed"
    },
    "tags": []
   },
   "outputs": [],
   "source": [
    "conditionalCorrelationGenerator(**info)(statistic=\"covariance\")"
   ]
  },
  {
   "cell_type": "code",
   "execution_count": 7,
   "id": "upset-immune",
   "metadata": {
    "execution": {
     "iopub.execute_input": "2021-04-16T19:05:11.735038Z",
     "iopub.status.busy": "2021-04-16T19:05:11.733983Z",
     "iopub.status.idle": "2021-04-16T19:05:11.743914Z",
     "shell.execute_reply": "2021-04-16T19:05:11.745577Z"
    },
    "papermill": {
     "duration": 0.03645,
     "end_time": "2021-04-16T19:05:11.745852",
     "exception": false,
     "start_time": "2021-04-16T19:05:11.709402",
     "status": "completed"
    },
    "tags": []
   },
   "outputs": [],
   "source": [
    "base_coefs_filepath = '{}/{}'.format(info[\"output_dir\"], info[\"base_coefs_name\"])\n",
    "\n",
    "base_coef_analysis_name = 'analyzed_covariance_results_{}.npz'\n",
    "base_coef_analysis_filepath = '{}/{}'.format(info[\"output_dir\"], base_coef_analysis_name)"
   ]
  },
  {
   "cell_type": "code",
   "execution_count": 8,
   "id": "legal-recognition",
   "metadata": {
    "execution": {
     "iopub.execute_input": "2021-04-16T19:05:11.782918Z",
     "iopub.status.busy": "2021-04-16T19:05:11.781885Z",
     "iopub.status.idle": "2021-04-16T19:14:57.780691Z",
     "shell.execute_reply": "2021-04-16T19:14:57.781979Z"
    },
    "papermill": {
     "duration": 586.023086,
     "end_time": "2021-04-16T19:14:57.782317",
     "exception": false,
     "start_time": "2021-04-16T19:05:11.759231",
     "status": "completed"
    },
    "tags": []
   },
   "outputs": [],
   "source": [
    "for experiment_type, control_type in product(['gluttonous', 'picky'], repeat=2):\n",
    "    \n",
    "    shorthand = (experiment_type[0]+control_type[0])\n",
    "    coefs_filepath = base_coefs_filepath.format(shorthand)\n",
    "    coef_analysis_filepath = base_coef_analysis_filepath.format(shorthand)\n",
    "    \n",
    "    corr_coef_values, analysis_results = Analyzer(coefs_filepath, **info)()\n",
    "    np.savez_compressed(coef_analysis_filepath, corr_coef_values=corr_coef_values, \n",
    "                        mode_definitions=mode_definitions, **analysis_results)"
   ]
  }
 ],
 "metadata": {
  "kernelspec": {
   "display_name": "Python 3",
   "language": "python",
   "name": "python3"
  },
  "language_info": {
   "codemirror_mode": {
    "name": "ipython",
    "version": 3
   },
   "file_extension": ".py",
   "mimetype": "text/x-python",
   "name": "python",
   "nbconvert_exporter": "python",
   "pygments_lexer": "ipython3",
   "version": "3.8.8"
  },
  "papermill": {
   "default_parameters": {},
   "duration": 2586.937082,
   "end_time": "2021-04-16T19:14:59.307480",
   "environment_variables": {},
   "exception": null,
   "input_path": "templates/generate_and_analyze_conditional_covariances.ipynb",
   "output_path": "pct2/generate_and_analyze_conditional_covariances.ag.ipynb",
   "parameters": {
    "percentage": "2"
   },
   "start_time": "2021-04-16T18:31:52.370398",
   "version": "2.3.3"
  }
 },
 "nbformat": 4,
 "nbformat_minor": 5
}