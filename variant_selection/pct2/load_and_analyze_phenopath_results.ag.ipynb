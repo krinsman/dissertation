{
 "cells": [
  {
   "cell_type": "code",
   "execution_count": 1,
   "id": "eleven-malawi",
   "metadata": {
    "execution": {
     "iopub.execute_input": "2021-04-16T20:47:58.970456Z",
     "iopub.status.busy": "2021-04-16T20:47:58.969483Z",
     "iopub.status.idle": "2021-04-16T20:47:58.980017Z",
     "shell.execute_reply": "2021-04-16T20:47:58.980971Z"
    },
    "papermill": {
     "duration": 0.046768,
     "end_time": "2021-04-16T20:47:58.981364",
     "exception": false,
     "start_time": "2021-04-16T20:47:58.934596",
     "status": "completed"
    },
    "tags": [
     "injected-parameters"
    ]
   },
   "outputs": [],
   "source": [
    "# Parameters\n",
    "percentage = \"2\"\n"
   ]
  },
  {
   "cell_type": "code",
   "execution_count": 2,
   "id": "prompt-gabriel",
   "metadata": {
    "execution": {
     "iopub.execute_input": "2021-04-16T20:47:59.017025Z",
     "iopub.status.busy": "2021-04-16T20:47:59.015936Z",
     "iopub.status.idle": "2021-04-16T20:47:59.183023Z",
     "shell.execute_reply": "2021-04-16T20:47:59.184444Z"
    },
    "papermill": {
     "duration": 0.188814,
     "end_time": "2021-04-16T20:47:59.184700",
     "exception": false,
     "start_time": "2021-04-16T20:47:58.995886",
     "status": "completed"
    },
    "tags": []
   },
   "outputs": [],
   "source": [
    "import numpy as np"
   ]
  },
  {
   "cell_type": "code",
   "execution_count": 3,
   "id": "separated-aggregate",
   "metadata": {
    "execution": {
     "iopub.execute_input": "2021-04-16T20:47:59.218175Z",
     "iopub.status.busy": "2021-04-16T20:47:59.217178Z",
     "iopub.status.idle": "2021-04-16T20:48:00.922820Z",
     "shell.execute_reply": "2021-04-16T20:48:00.923762Z"
    },
    "papermill": {
     "duration": 1.725163,
     "end_time": "2021-04-16T20:48:00.923996",
     "exception": false,
     "start_time": "2021-04-16T20:47:59.198833",
     "status": "completed"
    },
    "tags": []
   },
   "outputs": [],
   "source": [
    "from analysis_utils import phenopathCoefficientOrganizer, Analyzer\n",
    "from plot_utils import phenopathVariantsPlotter"
   ]
  },
  {
   "cell_type": "code",
   "execution_count": 4,
   "id": "honest-writing",
   "metadata": {
    "execution": {
     "iopub.execute_input": "2021-04-16T20:48:00.956830Z",
     "iopub.status.busy": "2021-04-16T20:48:00.955806Z",
     "iopub.status.idle": "2021-04-16T20:48:00.963749Z",
     "shell.execute_reply": "2021-04-16T20:48:00.964749Z"
    },
    "papermill": {
     "duration": 0.027293,
     "end_time": "2021-04-16T20:48:00.965011",
     "exception": false,
     "start_time": "2021-04-16T20:48:00.937718",
     "status": "completed"
    },
    "tags": []
   },
   "outputs": [],
   "source": [
    "output_dir_name = 'phenopath_results'\n",
    "simulation_dir_name = 'results'"
   ]
  },
  {
   "cell_type": "code",
   "execution_count": 5,
   "id": "impressed-chase",
   "metadata": {
    "execution": {
     "iopub.execute_input": "2021-04-16T20:48:00.999497Z",
     "iopub.status.busy": "2021-04-16T20:48:00.998517Z",
     "iopub.status.idle": "2021-04-16T20:48:01.008491Z",
     "shell.execute_reply": "2021-04-16T20:48:01.009439Z"
    },
    "papermill": {
     "duration": 0.030298,
     "end_time": "2021-04-16T20:48:01.009680",
     "exception": false,
     "start_time": "2021-04-16T20:48:00.979382",
     "status": "completed"
    },
    "tags": []
   },
   "outputs": [],
   "source": [
    "mode_definitions = phenopathVariantsPlotter.mode_definitions\n",
    "\n",
    "output_dir = 'pct{}/{}'.format(percentage, output_dir_name)\n",
    "simulation_dir = 'pct{}/{}'.format(percentage, simulation_dir_name)"
   ]
  },
  {
   "cell_type": "code",
   "execution_count": 6,
   "id": "controlled-soldier",
   "metadata": {
    "execution": {
     "iopub.execute_input": "2021-04-16T20:48:01.044474Z",
     "iopub.status.busy": "2021-04-16T20:48:01.043454Z",
     "iopub.status.idle": "2021-04-16T20:48:01.050151Z",
     "shell.execute_reply": "2021-04-16T20:48:01.051938Z"
    },
    "papermill": {
     "duration": 0.02833,
     "end_time": "2021-04-16T20:48:01.052181",
     "exception": false,
     "start_time": "2021-04-16T20:48:01.023851",
     "status": "completed"
    },
    "tags": []
   },
   "outputs": [],
   "source": [
    "info = {\n",
    "    'trimmed_strains': 1,\n",
    "    'size': 11,\n",
    "    'seed': 42,\n",
    "    'number_droplets': 100000,\n",
    "    'number_simulations': 100,\n",
    "    'simulation_dir': simulation_dir,\n",
    "    'output_dir': output_dir,\n",
    "    'mode_definitions': mode_definitions\n",
    "}"
   ]
  },
  {
   "cell_type": "code",
   "execution_count": 7,
   "id": "wicked-estate",
   "metadata": {
    "execution": {
     "iopub.execute_input": "2021-04-16T20:48:01.089660Z",
     "iopub.status.busy": "2021-04-16T20:48:01.088409Z",
     "iopub.status.idle": "2021-04-16T20:48:02.278534Z",
     "shell.execute_reply": "2021-04-16T20:48:02.279518Z"
    },
    "papermill": {
     "duration": 1.212946,
     "end_time": "2021-04-16T20:48:02.279763",
     "exception": false,
     "start_time": "2021-04-16T20:48:01.066817",
     "status": "completed"
    },
    "tags": []
   },
   "outputs": [],
   "source": [
    "phenopath_results = phenopathCoefficientOrganizer(**info)()"
   ]
  },
  {
   "cell_type": "code",
   "execution_count": 8,
   "id": "worth-faith",
   "metadata": {
    "execution": {
     "iopub.execute_input": "2021-04-16T20:48:02.315966Z",
     "iopub.status.busy": "2021-04-16T20:48:02.314979Z",
     "iopub.status.idle": "2021-04-16T20:48:02.391546Z",
     "shell.execute_reply": "2021-04-16T20:48:02.392760Z"
    },
    "papermill": {
     "duration": 0.098968,
     "end_time": "2021-04-16T20:48:02.392995",
     "exception": false,
     "start_time": "2021-04-16T20:48:02.294027",
     "status": "completed"
    },
    "tags": []
   },
   "outputs": [],
   "source": [
    "coefs_name = 'phenopath_results.npz'\n",
    "coefs_filepath = '{}/{}'.format(info[\"output_dir\"], coefs_name)\n",
    "np.savez_compressed(coefs_filepath, mode_definitions=mode_definitions, **phenopath_results)"
   ]
  },
  {
   "cell_type": "code",
   "execution_count": 9,
   "id": "demonstrated-integrity",
   "metadata": {
    "execution": {
     "iopub.execute_input": "2021-04-16T20:48:02.432216Z",
     "iopub.status.busy": "2021-04-16T20:48:02.431207Z",
     "iopub.status.idle": "2021-04-16T20:48:02.440626Z",
     "shell.execute_reply": "2021-04-16T20:48:02.441761Z"
    },
    "papermill": {
     "duration": 0.02921,
     "end_time": "2021-04-16T20:48:02.441990",
     "exception": false,
     "start_time": "2021-04-16T20:48:02.412780",
     "status": "completed"
    },
    "tags": []
   },
   "outputs": [],
   "source": [
    "coef_analysis_name = 'analyzed_phenopath_results.npz'\n",
    "coef_analysis_filepath = '{}/{}'.format(info[\"output_dir\"], coef_analysis_name)"
   ]
  },
  {
   "cell_type": "code",
   "execution_count": 10,
   "id": "center-lambda",
   "metadata": {
    "execution": {
     "iopub.execute_input": "2021-04-16T20:48:02.479528Z",
     "iopub.status.busy": "2021-04-16T20:48:02.478555Z",
     "iopub.status.idle": "2021-04-16T20:49:25.580707Z",
     "shell.execute_reply": "2021-04-16T20:49:25.581936Z"
    },
    "papermill": {
     "duration": 83.125332,
     "end_time": "2021-04-16T20:49:25.582183",
     "exception": false,
     "start_time": "2021-04-16T20:48:02.456851",
     "status": "completed"
    },
    "tags": []
   },
   "outputs": [],
   "source": [
    "phenopath_values, analysis_results = Analyzer(coefs_filepath, **info)()\n",
    "np.savez_compressed(coef_analysis_filepath, phenopath_values=phenopath_values, \n",
    "                    mode_definitions=mode_definitions, **analysis_results)"
   ]
  }
 ],
 "metadata": {
  "kernelspec": {
   "display_name": "Python 3",
   "language": "python",
   "name": "python3"
  },
  "language_info": {
   "codemirror_mode": {
    "name": "ipython",
    "version": 3
   },
   "file_extension": ".py",
   "mimetype": "text/x-python",
   "name": "python",
   "nbconvert_exporter": "python",
   "pygments_lexer": "ipython3",
   "version": "3.8.8"
  },
  "papermill": {
   "default_parameters": {},
   "duration": 90.004858,
   "end_time": "2021-04-16T20:49:26.860454",
   "environment_variables": {},
   "exception": null,
   "input_path": "templates/load_and_analyze_phenopath_results.ipynb",
   "output_path": "pct2/load_and_analyze_phenopath_results.ag.ipynb",
   "parameters": {
    "percentage": "2"
   },
   "start_time": "2021-04-16T20:47:56.855596",
   "version": "2.3.3"
  }
 },
 "nbformat": 4,
 "nbformat_minor": 5
}