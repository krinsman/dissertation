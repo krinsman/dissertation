{
 "cells": [
  {
   "cell_type": "code",
   "execution_count": null,
   "id": "victorian-terrain",
   "metadata": {},
   "outputs": [],
   "source": [
    "import matplotlib.pyplot as plt\n",
    "import numpy as np"
   ]
  },
  {
   "cell_type": "code",
   "execution_count": null,
   "id": "imposed-witness",
   "metadata": {},
   "outputs": [],
   "source": [
    "from plot_utils import corrVariantsPlotter as Plotter"
   ]
  },
  {
   "cell_type": "code",
   "execution_count": null,
   "id": "apart-guide",
   "metadata": {},
   "outputs": [],
   "source": [
    "transformations = {'identity': (lambda x: x), 'butterfly': (lambda x: -np.log(1. - x)/np.log(10))}\n",
    "transformation = transformations[transformation_name]"
   ]
  },
  {
   "cell_type": "code",
   "execution_count": null,
   "id": "terminal-bathroom",
   "metadata": {},
   "outputs": [],
   "source": [
    "plotter = Plotter(base_result_filename, results_dir, kde_bounds)"
   ]
  },
  {
   "cell_type": "code",
   "execution_count": null,
   "id": "central-karma",
   "metadata": {},
   "outputs": [],
   "source": [
    "performance = plotter.load_performance_results(metric_name)\n",
    "performance = transformation(performance)"
   ]
  },
  {
   "cell_type": "markdown",
   "id": "filled-frederick",
   "metadata": {},
   "source": [
    "## Unnormalized vs. Normalized Averages side-by-side"
   ]
  },
  {
   "cell_type": "code",
   "execution_count": null,
   "id": "guided-linux",
   "metadata": {},
   "outputs": [],
   "source": [
    "for start_index in start_indices:\n",
    "    ax = plotter.avg_types_side_by_side(performance, \"linear\", \"regular\", y_title=y_title, start_index=start_index)\n",
    "    if transformation_name == 'butterfly':\n",
    "        plotter.annotate_important_log_scores(ax, right_y_title)"
   ]
  },
  {
   "cell_type": "code",
   "execution_count": null,
   "id": "floppy-product",
   "metadata": {},
   "outputs": [],
   "source": [
    "for start_index in start_indices:\n",
    "    ax = plotter.avg_types_side_by_side(performance, \"linear\", \"bipoint\", y_title=y_title, start_index=start_index)\n",
    "    if transformation_name == 'butterfly':\n",
    "        plotter.annotate_important_log_scores(ax, right_y_title)"
   ]
  },
  {
   "cell_type": "code",
   "execution_count": null,
   "id": "legal-tooth",
   "metadata": {},
   "outputs": [],
   "source": [
    "for start_index in start_indices:\n",
    "    ax = plotter.avg_types_side_by_side(performance, \"rank\", \"regular\", y_title=y_title, start_index=start_index)\n",
    "    if transformation_name == 'butterfly':\n",
    "        plotter.annotate_important_log_scores(ax, right_y_title)"
   ]
  },
  {
   "cell_type": "code",
   "execution_count": null,
   "id": "accompanied-teaching",
   "metadata": {},
   "outputs": [],
   "source": [
    "for start_index in start_indices:\n",
    "    ax = plotter.avg_types_side_by_side(performance, \"rank\", \"bipoint\", y_title=y_title, start_index=start_index)\n",
    "    if transformation_name == 'butterfly':\n",
    "        plotter.annotate_important_log_scores(ax, right_y_title)"
   ]
  }
 ],
 "metadata": {
  "kernelspec": {
   "display_name": "Python 3",
   "language": "python",
   "name": "python3"
  },
  "language_info": {
   "codemirror_mode": {
    "name": "ipython",
    "version": 3
   },
   "file_extension": ".py",
   "mimetype": "text/x-python",
   "name": "python",
   "nbconvert_exporter": "python",
   "pygments_lexer": "ipython3",
   "version": "3.8.8"
  }
 },
 "nbformat": 4,
 "nbformat_minor": 5
}
