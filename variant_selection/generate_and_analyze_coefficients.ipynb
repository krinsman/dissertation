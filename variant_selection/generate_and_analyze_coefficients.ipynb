{
 "cells": [
  {
   "cell_type": "code",
   "execution_count": 1,
   "id": "legislative-library",
   "metadata": {},
   "outputs": [],
   "source": [
    "import multiprocessing as mp\n",
    "import papermill as pm"
   ]
  },
  {
   "cell_type": "code",
   "execution_count": 2,
   "id": "chronic-electricity",
   "metadata": {},
   "outputs": [],
   "source": [
    "percentages = ['0.01', '0.02', '0.05', '0.1', '0.2', '0.5', '1', '2', '5', '10']\n",
    "\n",
    "parameter_dicts = [{'percentage': percentage} for percentage in percentages]"
   ]
  },
  {
   "cell_type": "code",
   "execution_count": 3,
   "id": "convinced-intersection",
   "metadata": {},
   "outputs": [],
   "source": [
    "phenopath_notebook_name = 'load_and_analyze_phenopath_results'\n",
    "\n",
    "input_names_phenopath = ['templates/{}.ipynb'.format(phenopath_notebook_name) for percentage in percentages]\n",
    "output_names_phenopath = ['pct{}/{}.ag.ipynb'.format(percentage, phenopath_notebook_name)\n",
    "               for percentage in percentages]"
   ]
  },
  {
   "cell_type": "code",
   "execution_count": 4,
   "id": "magnetic-cabin",
   "metadata": {},
   "outputs": [],
   "source": [
    "fitness_notebook_name = 'generate_and_analyze_fitness_coefficients'\n",
    "\n",
    "input_names_fitness = ['templates/{}.ipynb'.format(fitness_notebook_name) for percentage in percentages]\n",
    "output_names_fitness = ['pct{}/{}.ag.ipynb'.format(percentage, fitness_notebook_name)\n",
    "               for percentage in percentages]"
   ]
  },
  {
   "cell_type": "code",
   "execution_count": 5,
   "id": "modular-wheat",
   "metadata": {},
   "outputs": [],
   "source": [
    "corr_coef_notebook_name = 'generate_and_analyze_conditional_correlations'\n",
    "\n",
    "input_names_corr = ['templates/{}.ipynb'.format(corr_coef_notebook_name) for percentage in percentages]\n",
    "output_names_corr = ['pct{}/{}.ag.ipynb'.format(percentage, corr_coef_notebook_name)\n",
    "               for percentage in percentages]"
   ]
  },
  {
   "cell_type": "code",
   "execution_count": 6,
   "id": "individual-concern",
   "metadata": {},
   "outputs": [],
   "source": [
    "input_names = [*input_names_phenopath, *input_names_fitness, *input_names_corr]\n",
    "output_names = [*output_names_phenopath, *output_names_fitness, *output_names_corr]\n",
    "parameter_dicts = [*parameter_dicts.copy(), *parameter_dicts.copy(), *parameter_dicts.copy()]"
   ]
  },
  {
   "cell_type": "code",
   "execution_count": 7,
   "id": "pediatric-liberal",
   "metadata": {},
   "outputs": [],
   "source": [
    "parallel_input = [[input_name, output_name, parameter_dict] \n",
    "                  for input_name, output_name, parameter_dict \n",
    "                  in zip(input_names, output_names, parameter_dicts)]"
   ]
  },
  {
   "cell_type": "code",
   "execution_count": 8,
   "id": "numerical-windsor",
   "metadata": {},
   "outputs": [],
   "source": [
    "pool = mp.Pool(mp.cpu_count())\n",
    "pool.starmap(pm.execute_notebook, parallel_input)\n",
    "pool.close()\n",
    "pool.join()"
   ]
  },
  {
   "cell_type": "markdown",
   "id": "above-entertainment",
   "metadata": {},
   "source": [
    "Modified from this following minimal working example (MWE) (note that `test1.ipynb` can literally be e.g. just a single cell with `print('testing')`). Cf. [this thread](https://github.com/nteract/papermill/issues/239#issuecomment-565803923).\n",
    "\n",
    "    import multiprocessing as mp\n",
    "    import papermill as pm\n",
    "\n",
    "    fn = \"test1.ipynb\"\n",
    "    \n",
    "    pool = mp.Pool(mp.cpu_count())\n",
    "    pool.starmap(pm.execute_notebook, [[fn,fn,{}]])\n",
    "    pool.close()\n",
    "    pool.join()\n",
    "    \n",
    "    pool = mp.Pool(mp.cpu_count())\n",
    "    pool.starmap(pm.execute_notebook, [[fn,fn,{}], [fn,fn,{}]])\n",
    "    pool.close()\n",
    "    pool.join()"
   ]
  }
 ],
 "metadata": {
  "kernelspec": {
   "display_name": "Python 3",
   "language": "python",
   "name": "python3"
  },
  "language_info": {
   "codemirror_mode": {
    "name": "ipython",
    "version": 3
   },
   "file_extension": ".py",
   "mimetype": "text/x-python",
   "name": "python",
   "nbconvert_exporter": "python",
   "pygments_lexer": "ipython3",
   "version": "3.8.8"
  }
 },
 "nbformat": 4,
 "nbformat_minor": 5
}
