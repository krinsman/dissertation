{
 "cells": [
  {
   "cell_type": "code",
   "execution_count": 1,
   "id": "equipped-temple",
   "metadata": {},
   "outputs": [],
   "source": [
    "import multiprocessing as mp\n",
    "import papermill as pm"
   ]
  },
  {
   "cell_type": "code",
   "execution_count": 2,
   "id": "brilliant-satin",
   "metadata": {},
   "outputs": [],
   "source": [
    "percentages = ['0.01', '0.02', '0.05', '0.1', '0.2', '0.5', '1', '2', '5', '10']\n",
    "\n",
    "parameter_dicts = [{'percentage': percentage} for percentage in percentages]"
   ]
  },
  {
   "cell_type": "code",
   "execution_count": 3,
   "id": "reflected-ownership",
   "metadata": {},
   "outputs": [],
   "source": [
    "covariance_notebook_name = 'generate_and_analyze_conditional_covariances'\n",
    "\n",
    "input_names = ['templates/{}.ipynb'.format(covariance_notebook_name) for percentage in percentages]\n",
    "output_names = ['pct{}/{}.ag.ipynb'.format(percentage, covariance_notebook_name)\n",
    "               for percentage in percentages]\n",
    "\n",
    "parallel_input = [[input_name, output_name, parameter_dict] \n",
    "                  for input_name, output_name, parameter_dict\n",
    "                  in zip(input_names, output_names, parameter_dicts)]"
   ]
  },
  {
   "cell_type": "code",
   "execution_count": 4,
   "id": "alien-veteran",
   "metadata": {},
   "outputs": [],
   "source": [
    "pool = mp.Pool(mp.cpu_count())\n",
    "pool.starmap(pm.execute_notebook, parallel_input)\n",
    "pool.close()\n",
    "pool.join()"
   ]
  },
  {
   "cell_type": "markdown",
   "id": "impressed-necklace",
   "metadata": {},
   "source": [
    "Modified from this following minimal working example (MWE) (note that `test1.ipynb` can literally be e.g. just a single cell with `print('testing')`). Cf. [this thread](https://github.com/nteract/papermill/issues/239#issuecomment-565803923).\n",
    "\n",
    "    import multiprocessing as mp\n",
    "    import papermill as pm\n",
    "\n",
    "    fn = \"test1.ipynb\"\n",
    "    \n",
    "    pool = mp.Pool(mp.cpu_count())\n",
    "    pool.starmap(pm.execute_notebook, [[fn,fn,{}]])\n",
    "    pool.close()\n",
    "    pool.join()\n",
    "    \n",
    "    pool = mp.Pool(mp.cpu_count())\n",
    "    pool.starmap(pm.execute_notebook, [[fn,fn,{}], [fn,fn,{}]])\n",
    "    pool.close()\n",
    "    pool.join()"
   ]
  }
 ],
 "metadata": {
  "kernelspec": {
   "display_name": "Python 3",
   "language": "python",
   "name": "python3"
  },
  "language_info": {
   "codemirror_mode": {
    "name": "ipython",
    "version": 3
   },
   "file_extension": ".py",
   "mimetype": "text/x-python",
   "name": "python",
   "nbconvert_exporter": "python",
   "pygments_lexer": "ipython3",
   "version": "3.8.8"
  }
 },
 "nbformat": 4,
 "nbformat_minor": 5
}
