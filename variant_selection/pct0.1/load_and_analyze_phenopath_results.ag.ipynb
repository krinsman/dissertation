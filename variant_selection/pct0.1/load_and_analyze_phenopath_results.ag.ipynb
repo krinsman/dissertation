{
 "cells": [
  {
   "cell_type": "code",
   "execution_count": 1,
   "id": "young-canada",
   "metadata": {
    "execution": {
     "iopub.execute_input": "2021-04-16T20:47:58.919193Z",
     "iopub.status.busy": "2021-04-16T20:47:58.918279Z",
     "iopub.status.idle": "2021-04-16T20:47:58.920880Z",
     "shell.execute_reply": "2021-04-16T20:47:58.921476Z"
    },
    "papermill": {
     "duration": 0.024874,
     "end_time": "2021-04-16T20:47:58.921706",
     "exception": false,
     "start_time": "2021-04-16T20:47:58.896832",
     "status": "completed"
    },
    "tags": [
     "injected-parameters"
    ]
   },
   "outputs": [],
   "source": [
    "# Parameters\n",
    "percentage = \"0.1\"\n"
   ]
  },
  {
   "cell_type": "code",
   "execution_count": 2,
   "id": "prompt-gabriel",
   "metadata": {
    "execution": {
     "iopub.execute_input": "2021-04-16T20:47:58.961292Z",
     "iopub.status.busy": "2021-04-16T20:47:58.960199Z",
     "iopub.status.idle": "2021-04-16T20:47:59.120537Z",
     "shell.execute_reply": "2021-04-16T20:47:59.121347Z"
    },
    "papermill": {
     "duration": 0.185462,
     "end_time": "2021-04-16T20:47:59.121604",
     "exception": false,
     "start_time": "2021-04-16T20:47:58.936142",
     "status": "completed"
    },
    "tags": []
   },
   "outputs": [],
   "source": [
    "import numpy as np"
   ]
  },
  {
   "cell_type": "code",
   "execution_count": 3,
   "id": "separated-aggregate",
   "metadata": {
    "execution": {
     "iopub.execute_input": "2021-04-16T20:47:59.155298Z",
     "iopub.status.busy": "2021-04-16T20:47:59.154323Z",
     "iopub.status.idle": "2021-04-16T20:48:00.922805Z",
     "shell.execute_reply": "2021-04-16T20:48:00.923674Z"
    },
    "papermill": {
     "duration": 1.788372,
     "end_time": "2021-04-16T20:48:00.923909",
     "exception": false,
     "start_time": "2021-04-16T20:47:59.135537",
     "status": "completed"
    },
    "tags": []
   },
   "outputs": [],
   "source": [
    "from analysis_utils import phenopathCoefficientOrganizer, Analyzer\n",
    "from plot_utils import phenopathVariantsPlotter"
   ]
  },
  {
   "cell_type": "code",
   "execution_count": 4,
   "id": "honest-writing",
   "metadata": {
    "execution": {
     "iopub.execute_input": "2021-04-16T20:48:00.956865Z",
     "iopub.status.busy": "2021-04-16T20:48:00.955860Z",
     "iopub.status.idle": "2021-04-16T20:48:00.963854Z",
     "shell.execute_reply": "2021-04-16T20:48:00.964812Z"
    },
    "papermill": {
     "duration": 0.027458,
     "end_time": "2021-04-16T20:48:00.965047",
     "exception": false,
     "start_time": "2021-04-16T20:48:00.937589",
     "status": "completed"
    },
    "tags": []
   },
   "outputs": [],
   "source": [
    "output_dir_name = 'phenopath_results'\n",
    "simulation_dir_name = 'results'"
   ]
  },
  {
   "cell_type": "code",
   "execution_count": 5,
   "id": "impressed-chase",
   "metadata": {
    "execution": {
     "iopub.execute_input": "2021-04-16T20:48:01.000770Z",
     "iopub.status.busy": "2021-04-16T20:48:00.996183Z",
     "iopub.status.idle": "2021-04-16T20:48:01.009129Z",
     "shell.execute_reply": "2021-04-16T20:48:01.010888Z"
    },
    "papermill": {
     "duration": 0.032542,
     "end_time": "2021-04-16T20:48:01.011213",
     "exception": false,
     "start_time": "2021-04-16T20:48:00.978671",
     "status": "completed"
    },
    "tags": []
   },
   "outputs": [],
   "source": [
    "mode_definitions = phenopathVariantsPlotter.mode_definitions\n",
    "\n",
    "output_dir = 'pct{}/{}'.format(percentage, output_dir_name)\n",
    "simulation_dir = 'pct{}/{}'.format(percentage, simulation_dir_name)"
   ]
  },
  {
   "cell_type": "code",
   "execution_count": 6,
   "id": "controlled-soldier",
   "metadata": {
    "execution": {
     "iopub.execute_input": "2021-04-16T20:48:01.049526Z",
     "iopub.status.busy": "2021-04-16T20:48:01.048584Z",
     "iopub.status.idle": "2021-04-16T20:48:01.054644Z",
     "shell.execute_reply": "2021-04-16T20:48:01.056407Z"
    },
    "papermill": {
     "duration": 0.029956,
     "end_time": "2021-04-16T20:48:01.056635",
     "exception": false,
     "start_time": "2021-04-16T20:48:01.026679",
     "status": "completed"
    },
    "tags": []
   },
   "outputs": [],
   "source": [
    "info = {\n",
    "    'trimmed_strains': 1,\n",
    "    'size': 11,\n",
    "    'seed': 42,\n",
    "    'number_droplets': 100000,\n",
    "    'number_simulations': 100,\n",
    "    'simulation_dir': simulation_dir,\n",
    "    'output_dir': output_dir,\n",
    "    'mode_definitions': mode_definitions\n",
    "}"
   ]
  },
  {
   "cell_type": "code",
   "execution_count": 7,
   "id": "wicked-estate",
   "metadata": {
    "execution": {
     "iopub.execute_input": "2021-04-16T20:48:01.091522Z",
     "iopub.status.busy": "2021-04-16T20:48:01.090459Z",
     "iopub.status.idle": "2021-04-16T20:48:02.276420Z",
     "shell.execute_reply": "2021-04-16T20:48:02.277270Z"
    },
    "papermill": {
     "duration": 1.206159,
     "end_time": "2021-04-16T20:48:02.277514",
     "exception": false,
     "start_time": "2021-04-16T20:48:01.071355",
     "status": "completed"
    },
    "tags": []
   },
   "outputs": [],
   "source": [
    "phenopath_results = phenopathCoefficientOrganizer(**info)()"
   ]
  },
  {
   "cell_type": "code",
   "execution_count": 8,
   "id": "worth-faith",
   "metadata": {
    "execution": {
     "iopub.execute_input": "2021-04-16T20:48:02.312362Z",
     "iopub.status.busy": "2021-04-16T20:48:02.311322Z",
     "iopub.status.idle": "2021-04-16T20:48:02.382688Z",
     "shell.execute_reply": "2021-04-16T20:48:02.383899Z"
    },
    "papermill": {
     "duration": 0.092045,
     "end_time": "2021-04-16T20:48:02.384133",
     "exception": false,
     "start_time": "2021-04-16T20:48:02.292088",
     "status": "completed"
    },
    "tags": []
   },
   "outputs": [],
   "source": [
    "coefs_name = 'phenopath_results.npz'\n",
    "coefs_filepath = '{}/{}'.format(info[\"output_dir\"], coefs_name)\n",
    "np.savez_compressed(coefs_filepath, mode_definitions=mode_definitions, **phenopath_results)"
   ]
  },
  {
   "cell_type": "code",
   "execution_count": 9,
   "id": "demonstrated-integrity",
   "metadata": {
    "execution": {
     "iopub.execute_input": "2021-04-16T20:48:02.422396Z",
     "iopub.status.busy": "2021-04-16T20:48:02.421478Z",
     "iopub.status.idle": "2021-04-16T20:48:02.426252Z",
     "shell.execute_reply": "2021-04-16T20:48:02.427909Z"
    },
    "papermill": {
     "duration": 0.02697,
     "end_time": "2021-04-16T20:48:02.428190",
     "exception": false,
     "start_time": "2021-04-16T20:48:02.401220",
     "status": "completed"
    },
    "tags": []
   },
   "outputs": [],
   "source": [
    "coef_analysis_name = 'analyzed_phenopath_results.npz'\n",
    "coef_analysis_filepath = '{}/{}'.format(info[\"output_dir\"], coef_analysis_name)"
   ]
  },
  {
   "cell_type": "code",
   "execution_count": 10,
   "id": "center-lambda",
   "metadata": {
    "execution": {
     "iopub.execute_input": "2021-04-16T20:48:02.466932Z",
     "iopub.status.busy": "2021-04-16T20:48:02.465973Z",
     "iopub.status.idle": "2021-04-16T20:49:25.974533Z",
     "shell.execute_reply": "2021-04-16T20:49:25.975626Z"
    },
    "papermill": {
     "duration": 83.532269,
     "end_time": "2021-04-16T20:49:25.975884",
     "exception": false,
     "start_time": "2021-04-16T20:48:02.443615",
     "status": "completed"
    },
    "tags": []
   },
   "outputs": [],
   "source": [
    "phenopath_values, analysis_results = Analyzer(coefs_filepath, **info)()\n",
    "np.savez_compressed(coef_analysis_filepath, phenopath_values=phenopath_values, \n",
    "                    mode_definitions=mode_definitions, **analysis_results)"
   ]
  }
 ],
 "metadata": {
  "kernelspec": {
   "display_name": "Python 3",
   "language": "python",
   "name": "python3"
  },
  "language_info": {
   "codemirror_mode": {
    "name": "ipython",
    "version": 3
   },
   "file_extension": ".py",
   "mimetype": "text/x-python",
   "name": "python",
   "nbconvert_exporter": "python",
   "pygments_lexer": "ipython3",
   "version": "3.8.8"
  },
  "papermill": {
   "default_parameters": {},
   "duration": 89.813413,
   "end_time": "2021-04-16T20:49:26.621026",
   "environment_variables": {},
   "exception": null,
   "input_path": "templates/load_and_analyze_phenopath_results.ipynb",
   "output_path": "pct0.1/load_and_analyze_phenopath_results.ag.ipynb",
   "parameters": {
    "percentage": "0.1"
   },
   "start_time": "2021-04-16T20:47:56.807613",
   "version": "2.3.3"
  }
 },
 "nbformat": 4,
 "nbformat_minor": 5
}