{
 "cells": [
  {
   "cell_type": "code",
   "execution_count": 1,
   "id": "productive-weekly",
   "metadata": {
    "execution": {
     "iopub.execute_input": "2021-04-16T18:31:58.224079Z",
     "iopub.status.busy": "2021-04-16T18:31:58.222763Z",
     "iopub.status.idle": "2021-04-16T18:31:58.231785Z",
     "shell.execute_reply": "2021-04-16T18:31:58.232675Z"
    },
    "papermill": {
     "duration": 0.034488,
     "end_time": "2021-04-16T18:31:58.233091",
     "exception": false,
     "start_time": "2021-04-16T18:31:58.198603",
     "status": "completed"
    },
    "tags": [
     "injected-parameters"
    ]
   },
   "outputs": [],
   "source": [
    "# Parameters\n",
    "percentage = \"0.1\"\n"
   ]
  },
  {
   "cell_type": "code",
   "execution_count": 2,
   "id": "recreational-geography",
   "metadata": {
    "execution": {
     "iopub.execute_input": "2021-04-16T18:31:58.264588Z",
     "iopub.status.busy": "2021-04-16T18:31:58.263360Z",
     "iopub.status.idle": "2021-04-16T18:31:58.705915Z",
     "shell.execute_reply": "2021-04-16T18:31:58.707910Z"
    },
    "papermill": {
     "duration": 0.461711,
     "end_time": "2021-04-16T18:31:58.708254",
     "exception": false,
     "start_time": "2021-04-16T18:31:58.246543",
     "status": "completed"
    },
    "tags": []
   },
   "outputs": [],
   "source": [
    "import numpy as np\n",
    "from itertools import product"
   ]
  },
  {
   "cell_type": "code",
   "execution_count": 3,
   "id": "established-detector",
   "metadata": {
    "execution": {
     "iopub.execute_input": "2021-04-16T18:31:59.169051Z",
     "iopub.status.busy": "2021-04-16T18:31:59.167924Z",
     "iopub.status.idle": "2021-04-16T18:32:03.938188Z",
     "shell.execute_reply": "2021-04-16T18:32:03.939246Z"
    },
    "papermill": {
     "duration": 4.789176,
     "end_time": "2021-04-16T18:32:03.939593",
     "exception": false,
     "start_time": "2021-04-16T18:31:59.150417",
     "status": "completed"
    },
    "tags": []
   },
   "outputs": [],
   "source": [
    "from analysis_utils import conditionalCorrelationGenerator, Analyzer\n",
    "from plot_utils import corrVariantsPlotter"
   ]
  },
  {
   "cell_type": "code",
   "execution_count": 4,
   "id": "bright-electricity",
   "metadata": {
    "execution": {
     "iopub.execute_input": "2021-04-16T18:32:03.972864Z",
     "iopub.status.busy": "2021-04-16T18:32:03.971647Z",
     "iopub.status.idle": "2021-04-16T18:32:03.975782Z",
     "shell.execute_reply": "2021-04-16T18:32:03.976813Z"
    },
    "papermill": {
     "duration": 0.024362,
     "end_time": "2021-04-16T18:32:03.977121",
     "exception": false,
     "start_time": "2021-04-16T18:32:03.952759",
     "status": "completed"
    },
    "tags": []
   },
   "outputs": [],
   "source": [
    "simulation_dir_name = 'results'\n",
    "output_dir_name = 'conditional_covariances'"
   ]
  },
  {
   "cell_type": "code",
   "execution_count": 5,
   "id": "becoming-productivity",
   "metadata": {
    "execution": {
     "iopub.execute_input": "2021-04-16T18:32:04.013291Z",
     "iopub.status.busy": "2021-04-16T18:32:04.012069Z",
     "iopub.status.idle": "2021-04-16T18:32:04.016031Z",
     "shell.execute_reply": "2021-04-16T18:32:04.017104Z"
    },
    "papermill": {
     "duration": 0.027069,
     "end_time": "2021-04-16T18:32:04.017460",
     "exception": false,
     "start_time": "2021-04-16T18:32:03.990391",
     "status": "completed"
    },
    "tags": []
   },
   "outputs": [],
   "source": [
    "mode_definitions = corrVariantsPlotter.mode_definitions\n",
    "\n",
    "simulation_dir = 'pct{}/{}'.format(percentage, simulation_dir_name)\n",
    "output_dir = 'pct{}/{}'.format(percentage, output_dir_name)\n",
    "info = {'number_simulations': 100, 'simulation_dir': simulation_dir,\n",
    "        'size': 11, 'seed': 42, 'number_droplets': 100000,\n",
    "       'trimmed_strains':1, 'mode_definitions': mode_definitions,\n",
    "       'output_dir': output_dir,\n",
    "        'base_coefs_name': 'conditional_covariances_averaged_{}.npz',\n",
    "       }"
   ]
  },
  {
   "cell_type": "code",
   "execution_count": 6,
   "id": "accredited-dependence",
   "metadata": {
    "execution": {
     "iopub.execute_input": "2021-04-16T18:32:04.099037Z",
     "iopub.status.busy": "2021-04-16T18:32:04.097874Z",
     "iopub.status.idle": "2021-04-16T18:51:30.730094Z",
     "shell.execute_reply": "2021-04-16T18:51:30.732097Z"
    },
    "papermill": {
     "duration": 1166.664507,
     "end_time": "2021-04-16T18:51:30.733292",
     "exception": false,
     "start_time": "2021-04-16T18:32:04.068785",
     "status": "completed"
    },
    "tags": []
   },
   "outputs": [],
   "source": [
    "conditionalCorrelationGenerator(**info)(statistic=\"covariance\")"
   ]
  },
  {
   "cell_type": "code",
   "execution_count": 7,
   "id": "upset-immune",
   "metadata": {
    "execution": {
     "iopub.execute_input": "2021-04-16T18:51:30.786270Z",
     "iopub.status.busy": "2021-04-16T18:51:30.784784Z",
     "iopub.status.idle": "2021-04-16T18:51:30.788693Z",
     "shell.execute_reply": "2021-04-16T18:51:30.789767Z"
    },
    "papermill": {
     "duration": 0.034595,
     "end_time": "2021-04-16T18:51:30.790092",
     "exception": false,
     "start_time": "2021-04-16T18:51:30.755497",
     "status": "completed"
    },
    "tags": []
   },
   "outputs": [],
   "source": [
    "base_coefs_filepath = '{}/{}'.format(info[\"output_dir\"], info[\"base_coefs_name\"])\n",
    "\n",
    "base_coef_analysis_name = 'analyzed_covariance_results_{}.npz'\n",
    "base_coef_analysis_filepath = '{}/{}'.format(info[\"output_dir\"], base_coef_analysis_name)"
   ]
  },
  {
   "cell_type": "code",
   "execution_count": 8,
   "id": "legal-recognition",
   "metadata": {
    "execution": {
     "iopub.execute_input": "2021-04-16T18:51:30.861383Z",
     "iopub.status.busy": "2021-04-16T18:51:30.860201Z",
     "iopub.status.idle": "2021-04-16T19:07:35.376708Z",
     "shell.execute_reply": "2021-04-16T19:07:35.379173Z"
    },
    "papermill": {
     "duration": 964.573594,
     "end_time": "2021-04-16T19:07:35.379436",
     "exception": false,
     "start_time": "2021-04-16T18:51:30.805842",
     "status": "completed"
    },
    "tags": []
   },
   "outputs": [],
   "source": [
    "for experiment_type, control_type in product(['gluttonous', 'picky'], repeat=2):\n",
    "    \n",
    "    shorthand = (experiment_type[0]+control_type[0])\n",
    "    coefs_filepath = base_coefs_filepath.format(shorthand)\n",
    "    coef_analysis_filepath = base_coef_analysis_filepath.format(shorthand)\n",
    "    \n",
    "    corr_coef_values, analysis_results = Analyzer(coefs_filepath, **info)()\n",
    "    np.savez_compressed(coef_analysis_filepath, corr_coef_values=corr_coef_values, \n",
    "                        mode_definitions=mode_definitions, **analysis_results)"
   ]
  }
 ],
 "metadata": {
  "kernelspec": {
   "display_name": "Python 3",
   "language": "python",
   "name": "python3"
  },
  "language_info": {
   "codemirror_mode": {
    "name": "ipython",
    "version": 3
   },
   "file_extension": ".py",
   "mimetype": "text/x-python",
   "name": "python",
   "nbconvert_exporter": "python",
   "pygments_lexer": "ipython3",
   "version": "3.8.8"
  },
  "papermill": {
   "default_parameters": {},
   "duration": 2144.682306,
   "end_time": "2021-04-16T19:07:36.975663",
   "environment_variables": {},
   "exception": null,
   "input_path": "templates/generate_and_analyze_conditional_covariances.ipynb",
   "output_path": "pct0.1/generate_and_analyze_conditional_covariances.ag.ipynb",
   "parameters": {
    "percentage": "0.1"
   },
   "start_time": "2021-04-16T18:31:52.293357",
   "version": "2.3.3"
  }
 },
 "nbformat": 4,
 "nbformat_minor": 5
}