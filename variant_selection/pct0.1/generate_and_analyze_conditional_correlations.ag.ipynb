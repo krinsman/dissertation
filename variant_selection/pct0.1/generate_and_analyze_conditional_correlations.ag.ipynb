{
 "cells": [
  {
   "cell_type": "code",
   "execution_count": 1,
   "id": "distributed-macintosh",
   "metadata": {
    "execution": {
     "iopub.execute_input": "2021-04-16T21:01:37.146691Z",
     "iopub.status.busy": "2021-04-16T21:01:37.145405Z",
     "iopub.status.idle": "2021-04-16T21:01:37.155244Z",
     "shell.execute_reply": "2021-04-16T21:01:37.156280Z"
    },
    "papermill": {
     "duration": 0.036157,
     "end_time": "2021-04-16T21:01:37.156715",
     "exception": false,
     "start_time": "2021-04-16T21:01:37.120558",
     "status": "completed"
    },
    "tags": [
     "injected-parameters"
    ]
   },
   "outputs": [],
   "source": [
    "# Parameters\n",
    "percentage = \"0.1\"\n"
   ]
  },
  {
   "cell_type": "code",
   "execution_count": 2,
   "id": "signal-floor",
   "metadata": {
    "execution": {
     "iopub.execute_input": "2021-04-16T21:01:37.189486Z",
     "iopub.status.busy": "2021-04-16T21:01:37.188253Z",
     "iopub.status.idle": "2021-04-16T21:01:37.401211Z",
     "shell.execute_reply": "2021-04-16T21:01:37.402316Z"
    },
    "papermill": {
     "duration": 0.232912,
     "end_time": "2021-04-16T21:01:37.402581",
     "exception": false,
     "start_time": "2021-04-16T21:01:37.169669",
     "status": "completed"
    },
    "tags": []
   },
   "outputs": [],
   "source": [
    "import numpy as np\n",
    "from itertools import product"
   ]
  },
  {
   "cell_type": "code",
   "execution_count": 3,
   "id": "absolute-territory",
   "metadata": {
    "execution": {
     "iopub.execute_input": "2021-04-16T21:01:37.434890Z",
     "iopub.status.busy": "2021-04-16T21:01:37.433758Z",
     "iopub.status.idle": "2021-04-16T21:01:39.364262Z",
     "shell.execute_reply": "2021-04-16T21:01:39.365858Z"
    },
    "papermill": {
     "duration": 1.950894,
     "end_time": "2021-04-16T21:01:39.366171",
     "exception": false,
     "start_time": "2021-04-16T21:01:37.415277",
     "status": "completed"
    },
    "tags": []
   },
   "outputs": [],
   "source": [
    "from analysis_utils import conditionalCorrelationGenerator, Analyzer\n",
    "from plot_utils import corrVariantsPlotter"
   ]
  },
  {
   "cell_type": "code",
   "execution_count": 4,
   "id": "sufficient-wellington",
   "metadata": {
    "execution": {
     "iopub.execute_input": "2021-04-16T21:01:39.401310Z",
     "iopub.status.busy": "2021-04-16T21:01:39.400105Z",
     "iopub.status.idle": "2021-04-16T21:01:39.411878Z",
     "shell.execute_reply": "2021-04-16T21:01:39.414039Z"
    },
    "papermill": {
     "duration": 0.033355,
     "end_time": "2021-04-16T21:01:39.414406",
     "exception": false,
     "start_time": "2021-04-16T21:01:39.381051",
     "status": "completed"
    },
    "tags": []
   },
   "outputs": [],
   "source": [
    "simulation_dir_name = 'results'\n",
    "output_dir_name = 'conditional_correlations'"
   ]
  },
  {
   "cell_type": "code",
   "execution_count": 5,
   "id": "respective-strap",
   "metadata": {
    "execution": {
     "iopub.execute_input": "2021-04-16T21:01:39.451423Z",
     "iopub.status.busy": "2021-04-16T21:01:39.450117Z",
     "iopub.status.idle": "2021-04-16T21:01:39.453613Z",
     "shell.execute_reply": "2021-04-16T21:01:39.454538Z"
    },
    "papermill": {
     "duration": 0.026518,
     "end_time": "2021-04-16T21:01:39.454837",
     "exception": false,
     "start_time": "2021-04-16T21:01:39.428319",
     "status": "completed"
    },
    "tags": []
   },
   "outputs": [],
   "source": [
    "mode_definitions = corrVariantsPlotter.mode_definitions\n",
    "\n",
    "simulation_dir = 'pct{}/{}'.format(percentage, simulation_dir_name)\n",
    "output_dir = 'pct{}/{}'.format(percentage, output_dir_name)\n",
    "info = {'number_simulations': 100, 'simulation_dir': simulation_dir,\n",
    "        'size': 11, 'seed': 42, 'number_droplets': 100000,\n",
    "       'trimmed_strains':1, 'mode_definitions': mode_definitions,\n",
    "       'output_dir': output_dir,\n",
    "        'base_coefs_name': 'conditional_correlations_averaged_{}.npz',\n",
    "       }"
   ]
  },
  {
   "cell_type": "code",
   "execution_count": 6,
   "id": "infrared-ranch",
   "metadata": {
    "execution": {
     "iopub.execute_input": "2021-04-16T21:01:39.490688Z",
     "iopub.status.busy": "2021-04-16T21:01:39.489508Z",
     "iopub.status.idle": "2021-04-16T21:08:19.247096Z",
     "shell.execute_reply": "2021-04-16T21:08:19.248045Z"
    },
    "papermill": {
     "duration": 399.778795,
     "end_time": "2021-04-16T21:08:19.248335",
     "exception": false,
     "start_time": "2021-04-16T21:01:39.469540",
     "status": "completed"
    },
    "tags": []
   },
   "outputs": [],
   "source": [
    "conditionalCorrelationGenerator(**info)(statistic=\"correlation\")"
   ]
  },
  {
   "cell_type": "code",
   "execution_count": 7,
   "id": "unique-motion",
   "metadata": {
    "execution": {
     "iopub.execute_input": "2021-04-16T21:08:19.285586Z",
     "iopub.status.busy": "2021-04-16T21:08:19.284493Z",
     "iopub.status.idle": "2021-04-16T21:08:19.288834Z",
     "shell.execute_reply": "2021-04-16T21:08:19.289694Z"
    },
    "papermill": {
     "duration": 0.027361,
     "end_time": "2021-04-16T21:08:19.289975",
     "exception": false,
     "start_time": "2021-04-16T21:08:19.262614",
     "status": "completed"
    },
    "tags": []
   },
   "outputs": [],
   "source": [
    "base_coefs_filepath = '{}/{}'.format(info[\"output_dir\"], info[\"base_coefs_name\"])\n",
    "\n",
    "base_coef_analysis_name = 'analyzed_corr_coef_results_{}.npz'\n",
    "base_coef_analysis_filepath = '{}/{}'.format(info[\"output_dir\"], base_coef_analysis_name)"
   ]
  },
  {
   "cell_type": "code",
   "execution_count": 8,
   "id": "entire-repository",
   "metadata": {
    "execution": {
     "iopub.execute_input": "2021-04-16T21:08:19.327260Z",
     "iopub.status.busy": "2021-04-16T21:08:19.326131Z",
     "iopub.status.idle": "2021-04-16T21:14:18.731530Z",
     "shell.execute_reply": "2021-04-16T21:14:18.732532Z"
    },
    "papermill": {
     "duration": 359.428868,
     "end_time": "2021-04-16T21:14:18.732797",
     "exception": false,
     "start_time": "2021-04-16T21:08:19.303929",
     "status": "completed"
    },
    "tags": []
   },
   "outputs": [],
   "source": [
    "for experiment_type, control_type in product(['gluttonous', 'picky'], repeat=2):\n",
    "    \n",
    "    shorthand = (experiment_type[0]+control_type[0])\n",
    "    coefs_filepath = base_coefs_filepath.format(shorthand)\n",
    "    coef_analysis_filepath = base_coef_analysis_filepath.format(shorthand)\n",
    "    \n",
    "    corr_coef_values, analysis_results = Analyzer(coefs_filepath, **info)()\n",
    "    np.savez_compressed(coef_analysis_filepath, corr_coef_values=corr_coef_values, \n",
    "                        mode_definitions=mode_definitions, **analysis_results)"
   ]
  }
 ],
 "metadata": {
  "kernelspec": {
   "display_name": "Python 3",
   "language": "python",
   "name": "python3"
  },
  "language_info": {
   "codemirror_mode": {
    "name": "ipython",
    "version": 3
   },
   "file_extension": ".py",
   "mimetype": "text/x-python",
   "name": "python",
   "nbconvert_exporter": "python",
   "pygments_lexer": "ipython3",
   "version": "3.8.8"
  },
  "papermill": {
   "default_parameters": {},
   "duration": 764.714881,
   "end_time": "2021-04-16T21:14:20.195858",
   "environment_variables": {},
   "exception": null,
   "input_path": "templates/generate_and_analyze_conditional_correlations.ipynb",
   "output_path": "pct0.1/generate_and_analyze_conditional_correlations.ag.ipynb",
   "parameters": {
    "percentage": "0.1"
   },
   "start_time": "2021-04-16T21:01:35.480977",
   "version": "2.3.3"
  }
 },
 "nbformat": 4,
 "nbformat_minor": 5
}