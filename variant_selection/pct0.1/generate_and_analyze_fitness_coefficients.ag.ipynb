{
 "cells": [
  {
   "cell_type": "code",
   "execution_count": 1,
   "id": "delayed-aside",
   "metadata": {
    "execution": {
     "iopub.execute_input": "2021-04-16T20:49:28.355264Z",
     "iopub.status.busy": "2021-04-16T20:49:28.354231Z",
     "iopub.status.idle": "2021-04-16T20:49:28.357454Z",
     "shell.execute_reply": "2021-04-16T20:49:28.358300Z"
    },
    "papermill": {
     "duration": 0.030269,
     "end_time": "2021-04-16T20:49:28.358673",
     "exception": false,
     "start_time": "2021-04-16T20:49:28.328404",
     "status": "completed"
    },
    "tags": [
     "injected-parameters"
    ]
   },
   "outputs": [],
   "source": [
    "# Parameters\n",
    "percentage = \"0.1\"\n"
   ]
  },
  {
   "cell_type": "code",
   "execution_count": 2,
   "id": "organized-haven",
   "metadata": {
    "execution": {
     "iopub.execute_input": "2021-04-16T20:49:28.387522Z",
     "iopub.status.busy": "2021-04-16T20:49:28.386506Z",
     "iopub.status.idle": "2021-04-16T20:49:28.544626Z",
     "shell.execute_reply": "2021-04-16T20:49:28.545390Z"
    },
    "papermill": {
     "duration": 0.174986,
     "end_time": "2021-04-16T20:49:28.545627",
     "exception": false,
     "start_time": "2021-04-16T20:49:28.370641",
     "status": "completed"
    },
    "tags": []
   },
   "outputs": [],
   "source": [
    "import numpy as np\n",
    "from itertools import product"
   ]
  },
  {
   "cell_type": "code",
   "execution_count": 3,
   "id": "abstract-import",
   "metadata": {
    "execution": {
     "iopub.execute_input": "2021-04-16T20:49:28.574027Z",
     "iopub.status.busy": "2021-04-16T20:49:28.572986Z",
     "iopub.status.idle": "2021-04-16T20:49:30.078263Z",
     "shell.execute_reply": "2021-04-16T20:49:30.079254Z"
    },
    "papermill": {
     "duration": 1.522212,
     "end_time": "2021-04-16T20:49:30.079551",
     "exception": false,
     "start_time": "2021-04-16T20:49:28.557339",
     "status": "completed"
    },
    "tags": []
   },
   "outputs": [],
   "source": [
    "from analysis_utils import fitnessGenerator, Analyzer\n",
    "from plot_utils import fitnessVariantsPlotter"
   ]
  },
  {
   "cell_type": "code",
   "execution_count": 4,
   "id": "smaller-swiss",
   "metadata": {
    "execution": {
     "iopub.execute_input": "2021-04-16T20:49:30.113232Z",
     "iopub.status.busy": "2021-04-16T20:49:30.112006Z",
     "iopub.status.idle": "2021-04-16T20:49:30.118920Z",
     "shell.execute_reply": "2021-04-16T20:49:30.120027Z"
    },
    "papermill": {
     "duration": 0.027409,
     "end_time": "2021-04-16T20:49:30.120342",
     "exception": false,
     "start_time": "2021-04-16T20:49:30.092933",
     "status": "completed"
    },
    "tags": []
   },
   "outputs": [],
   "source": [
    "simulation_dir_name = 'results'\n",
    "output_dir_name = 'fitness_coefs'"
   ]
  },
  {
   "cell_type": "code",
   "execution_count": 5,
   "id": "traditional-peripheral",
   "metadata": {
    "execution": {
     "iopub.execute_input": "2021-04-16T20:49:30.157726Z",
     "iopub.status.busy": "2021-04-16T20:49:30.149850Z",
     "iopub.status.idle": "2021-04-16T20:49:30.161448Z",
     "shell.execute_reply": "2021-04-16T20:49:30.162495Z"
    },
    "papermill": {
     "duration": 0.029644,
     "end_time": "2021-04-16T20:49:30.162810",
     "exception": false,
     "start_time": "2021-04-16T20:49:30.133166",
     "status": "completed"
    },
    "tags": []
   },
   "outputs": [],
   "source": [
    "mode_definitions = fitnessVariantsPlotter.mode_definitions\n",
    "\n",
    "simulation_dir = 'pct{}/{}'.format(percentage, simulation_dir_name)\n",
    "output_dir = 'pct{}/{}'.format(percentage, output_dir_name)\n",
    "info = {'number_simulations': 100, 'simulation_dir': simulation_dir,\n",
    "        'size': 11, 'seed': 42, 'number_droplets': 100000,\n",
    "       'trimmed_strains':1, 'mode_definitions': mode_definitions,\n",
    "       'output_dir': output_dir,\n",
    "        'base_coefs_name': 'fitness_coefs_averaged_{}.npz',\n",
    "       }"
   ]
  },
  {
   "cell_type": "code",
   "execution_count": 6,
   "id": "excellent-notebook",
   "metadata": {
    "execution": {
     "iopub.execute_input": "2021-04-16T20:49:30.195035Z",
     "iopub.status.busy": "2021-04-16T20:49:30.193724Z",
     "iopub.status.idle": "2021-04-16T20:54:21.717780Z",
     "shell.execute_reply": "2021-04-16T20:54:21.718960Z"
    },
    "papermill": {
     "duration": 291.543059,
     "end_time": "2021-04-16T20:54:21.719258",
     "exception": false,
     "start_time": "2021-04-16T20:49:30.176199",
     "status": "completed"
    },
    "tags": []
   },
   "outputs": [],
   "source": [
    "fitnessGenerator(**info)()"
   ]
  },
  {
   "cell_type": "code",
   "execution_count": 7,
   "id": "based-crown",
   "metadata": {
    "execution": {
     "iopub.execute_input": "2021-04-16T20:54:21.753967Z",
     "iopub.status.busy": "2021-04-16T20:54:21.752800Z",
     "iopub.status.idle": "2021-04-16T20:54:21.760083Z",
     "shell.execute_reply": "2021-04-16T20:54:21.761252Z"
    },
    "papermill": {
     "duration": 0.02663,
     "end_time": "2021-04-16T20:54:21.761563",
     "exception": false,
     "start_time": "2021-04-16T20:54:21.734933",
     "status": "completed"
    },
    "tags": []
   },
   "outputs": [],
   "source": [
    "base_coefs_filepath = '{}/{}'.format(info[\"output_dir\"], info[\"base_coefs_name\"])\n",
    "\n",
    "base_coef_analysis_name = 'analyzed_fitness_coef_results_{}.npz'\n",
    "base_coef_analysis_filepath = '{}/{}'.format(info[\"output_dir\"], base_coef_analysis_name)"
   ]
  },
  {
   "cell_type": "code",
   "execution_count": 8,
   "id": "directed-support",
   "metadata": {
    "execution": {
     "iopub.execute_input": "2021-04-16T20:54:21.801358Z",
     "iopub.status.busy": "2021-04-16T20:54:21.800139Z",
     "iopub.status.idle": "2021-04-16T21:00:08.560874Z",
     "shell.execute_reply": "2021-04-16T21:00:08.561999Z"
    },
    "papermill": {
     "duration": 346.787175,
     "end_time": "2021-04-16T21:00:08.562302",
     "exception": false,
     "start_time": "2021-04-16T20:54:21.775127",
     "status": "completed"
    },
    "tags": []
   },
   "outputs": [],
   "source": [
    "for experiment_type, control_type in product(['gluttonous', 'picky'], repeat=2):\n",
    "    \n",
    "    shorthand = (experiment_type[0]+control_type[0])\n",
    "    coefs_filepath = base_coefs_filepath.format(shorthand)\n",
    "    coef_analysis_filepath = base_coef_analysis_filepath.format(shorthand)\n",
    "    \n",
    "    fitness_coef_values, analysis_results = Analyzer(coefs_filepath, **info)()\n",
    "    np.savez_compressed(coef_analysis_filepath, fitness_coef_values=fitness_coef_values, \n",
    "                        mode_definitions=mode_definitions, **analysis_results)"
   ]
  }
 ],
 "metadata": {
  "kernelspec": {
   "display_name": "Python 3",
   "language": "python",
   "name": "python3"
  },
  "language_info": {
   "codemirror_mode": {
    "name": "ipython",
    "version": 3
   },
   "file_extension": ".py",
   "mimetype": "text/x-python",
   "name": "python",
   "nbconvert_exporter": "python",
   "pygments_lexer": "ipython3",
   "version": "3.8.8"
  },
  "papermill": {
   "default_parameters": {},
   "duration": 642.186945,
   "end_time": "2021-04-16T21:00:09.098267",
   "environment_variables": {},
   "exception": null,
   "input_path": "templates/generate_and_analyze_fitness_coefficients.ipynb",
   "output_path": "pct0.1/generate_and_analyze_fitness_coefficients.ag.ipynb",
   "parameters": {
    "percentage": "0.1"
   },
   "start_time": "2021-04-16T20:49:26.911322",
   "version": "2.3.3"
  }
 },
 "nbformat": 4,
 "nbformat_minor": 5
}