{
 "cells": [
  {
   "cell_type": "code",
   "execution_count": 1,
   "id": "intelligent-tracker",
   "metadata": {
    "execution": {
     "iopub.execute_input": "2021-04-16T20:47:58.924049Z",
     "iopub.status.busy": "2021-04-16T20:47:58.923145Z",
     "iopub.status.idle": "2021-04-16T20:47:58.926519Z",
     "shell.execute_reply": "2021-04-16T20:47:58.927519Z"
    },
    "papermill": {
     "duration": 0.028415,
     "end_time": "2021-04-16T20:47:58.927894",
     "exception": false,
     "start_time": "2021-04-16T20:47:58.899479",
     "status": "completed"
    },
    "tags": [
     "injected-parameters"
    ]
   },
   "outputs": [],
   "source": [
    "# Parameters\n",
    "percentage = \"0.01\"\n"
   ]
  },
  {
   "cell_type": "code",
   "execution_count": 2,
   "id": "prompt-gabriel",
   "metadata": {
    "execution": {
     "iopub.execute_input": "2021-04-16T20:47:58.963663Z",
     "iopub.status.busy": "2021-04-16T20:47:58.962615Z",
     "iopub.status.idle": "2021-04-16T20:47:59.123331Z",
     "shell.execute_reply": "2021-04-16T20:47:59.124115Z"
    },
    "papermill": {
     "duration": 0.181599,
     "end_time": "2021-04-16T20:47:59.124365",
     "exception": false,
     "start_time": "2021-04-16T20:47:58.942766",
     "status": "completed"
    },
    "tags": []
   },
   "outputs": [],
   "source": [
    "import numpy as np"
   ]
  },
  {
   "cell_type": "code",
   "execution_count": 3,
   "id": "separated-aggregate",
   "metadata": {
    "execution": {
     "iopub.execute_input": "2021-04-16T20:47:59.157933Z",
     "iopub.status.busy": "2021-04-16T20:47:59.156932Z",
     "iopub.status.idle": "2021-04-16T20:48:00.923204Z",
     "shell.execute_reply": "2021-04-16T20:48:00.924345Z"
    },
    "papermill": {
     "duration": 1.786352,
     "end_time": "2021-04-16T20:48:00.924580",
     "exception": false,
     "start_time": "2021-04-16T20:47:59.138228",
     "status": "completed"
    },
    "tags": []
   },
   "outputs": [],
   "source": [
    "from analysis_utils import phenopathCoefficientOrganizer, Analyzer\n",
    "from plot_utils import phenopathVariantsPlotter"
   ]
  },
  {
   "cell_type": "code",
   "execution_count": 4,
   "id": "honest-writing",
   "metadata": {
    "execution": {
     "iopub.execute_input": "2021-04-16T20:48:00.959092Z",
     "iopub.status.busy": "2021-04-16T20:48:00.958133Z",
     "iopub.status.idle": "2021-04-16T20:48:00.962285Z",
     "shell.execute_reply": "2021-04-16T20:48:00.963268Z"
    },
    "papermill": {
     "duration": 0.025166,
     "end_time": "2021-04-16T20:48:00.963536",
     "exception": false,
     "start_time": "2021-04-16T20:48:00.938370",
     "status": "completed"
    },
    "tags": []
   },
   "outputs": [],
   "source": [
    "output_dir_name = 'phenopath_results'\n",
    "simulation_dir_name = 'results'"
   ]
  },
  {
   "cell_type": "code",
   "execution_count": 5,
   "id": "impressed-chase",
   "metadata": {
    "execution": {
     "iopub.execute_input": "2021-04-16T20:48:01.000161Z",
     "iopub.status.busy": "2021-04-16T20:48:00.996544Z",
     "iopub.status.idle": "2021-04-16T20:48:01.005629Z",
     "shell.execute_reply": "2021-04-16T20:48:01.007401Z"
    },
    "papermill": {
     "duration": 0.029727,
     "end_time": "2021-04-16T20:48:01.007654",
     "exception": false,
     "start_time": "2021-04-16T20:48:00.977927",
     "status": "completed"
    },
    "tags": []
   },
   "outputs": [],
   "source": [
    "mode_definitions = phenopathVariantsPlotter.mode_definitions\n",
    "\n",
    "output_dir = 'pct{}/{}'.format(percentage, output_dir_name)\n",
    "simulation_dir = 'pct{}/{}'.format(percentage, simulation_dir_name)"
   ]
  },
  {
   "cell_type": "code",
   "execution_count": 6,
   "id": "controlled-soldier",
   "metadata": {
    "execution": {
     "iopub.execute_input": "2021-04-16T20:48:01.044831Z",
     "iopub.status.busy": "2021-04-16T20:48:01.041075Z",
     "iopub.status.idle": "2021-04-16T20:48:01.048480Z",
     "shell.execute_reply": "2021-04-16T20:48:01.050087Z"
    },
    "papermill": {
     "duration": 0.028176,
     "end_time": "2021-04-16T20:48:01.050372",
     "exception": false,
     "start_time": "2021-04-16T20:48:01.022196",
     "status": "completed"
    },
    "tags": []
   },
   "outputs": [],
   "source": [
    "info = {\n",
    "    'trimmed_strains': 1,\n",
    "    'size': 11,\n",
    "    'seed': 42,\n",
    "    'number_droplets': 100000,\n",
    "    'number_simulations': 100,\n",
    "    'simulation_dir': simulation_dir,\n",
    "    'output_dir': output_dir,\n",
    "    'mode_definitions': mode_definitions\n",
    "}"
   ]
  },
  {
   "cell_type": "code",
   "execution_count": 7,
   "id": "wicked-estate",
   "metadata": {
    "execution": {
     "iopub.execute_input": "2021-04-16T20:48:01.090710Z",
     "iopub.status.busy": "2021-04-16T20:48:01.089723Z",
     "iopub.status.idle": "2021-04-16T20:48:02.274581Z",
     "shell.execute_reply": "2021-04-16T20:48:02.275571Z"
    },
    "papermill": {
     "duration": 1.206286,
     "end_time": "2021-04-16T20:48:02.275807",
     "exception": false,
     "start_time": "2021-04-16T20:48:01.069521",
     "status": "completed"
    },
    "tags": []
   },
   "outputs": [],
   "source": [
    "phenopath_results = phenopathCoefficientOrganizer(**info)()"
   ]
  },
  {
   "cell_type": "code",
   "execution_count": 8,
   "id": "worth-faith",
   "metadata": {
    "execution": {
     "iopub.execute_input": "2021-04-16T20:48:02.313332Z",
     "iopub.status.busy": "2021-04-16T20:48:02.312268Z",
     "iopub.status.idle": "2021-04-16T20:48:02.374934Z",
     "shell.execute_reply": "2021-04-16T20:48:02.375685Z"
    },
    "papermill": {
     "duration": 0.08554,
     "end_time": "2021-04-16T20:48:02.375908",
     "exception": false,
     "start_time": "2021-04-16T20:48:02.290368",
     "status": "completed"
    },
    "tags": []
   },
   "outputs": [],
   "source": [
    "coefs_name = 'phenopath_results.npz'\n",
    "coefs_filepath = '{}/{}'.format(info[\"output_dir\"], coefs_name)\n",
    "np.savez_compressed(coefs_filepath, mode_definitions=mode_definitions, **phenopath_results)"
   ]
  },
  {
   "cell_type": "code",
   "execution_count": 9,
   "id": "demonstrated-integrity",
   "metadata": {
    "execution": {
     "iopub.execute_input": "2021-04-16T20:48:02.413341Z",
     "iopub.status.busy": "2021-04-16T20:48:02.412428Z",
     "iopub.status.idle": "2021-04-16T20:48:02.416193Z",
     "shell.execute_reply": "2021-04-16T20:48:02.417278Z"
    },
    "papermill": {
     "duration": 0.026025,
     "end_time": "2021-04-16T20:48:02.417523",
     "exception": false,
     "start_time": "2021-04-16T20:48:02.391498",
     "status": "completed"
    },
    "tags": []
   },
   "outputs": [],
   "source": [
    "coef_analysis_name = 'analyzed_phenopath_results.npz'\n",
    "coef_analysis_filepath = '{}/{}'.format(info[\"output_dir\"], coef_analysis_name)"
   ]
  },
  {
   "cell_type": "code",
   "execution_count": 10,
   "id": "center-lambda",
   "metadata": {
    "execution": {
     "iopub.execute_input": "2021-04-16T20:48:02.453049Z",
     "iopub.status.busy": "2021-04-16T20:48:02.452118Z",
     "iopub.status.idle": "2021-04-16T20:49:25.996114Z",
     "shell.execute_reply": "2021-04-16T20:49:25.997037Z"
    },
    "papermill": {
     "duration": 83.563944,
     "end_time": "2021-04-16T20:49:25.997297",
     "exception": false,
     "start_time": "2021-04-16T20:48:02.433353",
     "status": "completed"
    },
    "tags": []
   },
   "outputs": [],
   "source": [
    "phenopath_values, analysis_results = Analyzer(coefs_filepath, **info)()\n",
    "np.savez_compressed(coef_analysis_filepath, phenopath_values=phenopath_values, \n",
    "                    mode_definitions=mode_definitions, **analysis_results)"
   ]
  }
 ],
 "metadata": {
  "kernelspec": {
   "display_name": "Python 3",
   "language": "python",
   "name": "python3"
  },
  "language_info": {
   "codemirror_mode": {
    "name": "ipython",
    "version": 3
   },
   "file_extension": ".py",
   "mimetype": "text/x-python",
   "name": "python",
   "nbconvert_exporter": "python",
   "pygments_lexer": "ipython3",
   "version": "3.8.8"
  },
  "papermill": {
   "default_parameters": {},
   "duration": 89.835261,
   "end_time": "2021-04-16T20:49:26.643138",
   "environment_variables": {},
   "exception": null,
   "input_path": "templates/load_and_analyze_phenopath_results.ipynb",
   "output_path": "pct0.01/load_and_analyze_phenopath_results.ag.ipynb",
   "parameters": {
    "percentage": "0.01"
   },
   "start_time": "2021-04-16T20:47:56.807877",
   "version": "2.3.3"
  }
 },
 "nbformat": 4,
 "nbformat_minor": 5
}