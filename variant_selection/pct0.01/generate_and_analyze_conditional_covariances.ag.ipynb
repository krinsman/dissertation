{
 "cells": [
  {
   "cell_type": "code",
   "execution_count": 1,
   "id": "comic-feeling",
   "metadata": {
    "execution": {
     "iopub.execute_input": "2021-04-16T18:31:57.476438Z",
     "iopub.status.busy": "2021-04-16T18:31:57.475174Z",
     "iopub.status.idle": "2021-04-16T18:31:57.484174Z",
     "shell.execute_reply": "2021-04-16T18:31:57.485298Z"
    },
    "papermill": {
     "duration": 0.037474,
     "end_time": "2021-04-16T18:31:57.485992",
     "exception": false,
     "start_time": "2021-04-16T18:31:57.448518",
     "status": "completed"
    },
    "tags": [
     "injected-parameters"
    ]
   },
   "outputs": [],
   "source": [
    "# Parameters\n",
    "percentage = \"0.01\"\n"
   ]
  },
  {
   "cell_type": "code",
   "execution_count": 2,
   "id": "recreational-geography",
   "metadata": {
    "execution": {
     "iopub.execute_input": "2021-04-16T18:31:58.120474Z",
     "iopub.status.busy": "2021-04-16T18:31:58.119452Z",
     "iopub.status.idle": "2021-04-16T18:31:58.472399Z",
     "shell.execute_reply": "2021-04-16T18:31:58.473901Z"
    },
    "papermill": {
     "duration": 0.372744,
     "end_time": "2021-04-16T18:31:58.474171",
     "exception": false,
     "start_time": "2021-04-16T18:31:58.101427",
     "status": "completed"
    },
    "tags": []
   },
   "outputs": [],
   "source": [
    "import numpy as np\n",
    "from itertools import product"
   ]
  },
  {
   "cell_type": "code",
   "execution_count": 3,
   "id": "established-detector",
   "metadata": {
    "execution": {
     "iopub.execute_input": "2021-04-16T18:31:58.670171Z",
     "iopub.status.busy": "2021-04-16T18:31:58.669104Z",
     "iopub.status.idle": "2021-04-16T18:32:03.267168Z",
     "shell.execute_reply": "2021-04-16T18:32:03.268185Z"
    },
    "papermill": {
     "duration": 4.617465,
     "end_time": "2021-04-16T18:32:03.268462",
     "exception": false,
     "start_time": "2021-04-16T18:31:58.650997",
     "status": "completed"
    },
    "tags": []
   },
   "outputs": [],
   "source": [
    "from analysis_utils import conditionalCorrelationGenerator, Analyzer\n",
    "from plot_utils import corrVariantsPlotter"
   ]
  },
  {
   "cell_type": "code",
   "execution_count": 4,
   "id": "bright-electricity",
   "metadata": {
    "execution": {
     "iopub.execute_input": "2021-04-16T18:32:03.300048Z",
     "iopub.status.busy": "2021-04-16T18:32:03.298775Z",
     "iopub.status.idle": "2021-04-16T18:32:03.391727Z",
     "shell.execute_reply": "2021-04-16T18:32:03.409643Z"
    },
    "papermill": {
     "duration": 0.128333,
     "end_time": "2021-04-16T18:32:03.409906",
     "exception": false,
     "start_time": "2021-04-16T18:32:03.281573",
     "status": "completed"
    },
    "tags": []
   },
   "outputs": [],
   "source": [
    "simulation_dir_name = 'results'\n",
    "output_dir_name = 'conditional_covariances'"
   ]
  },
  {
   "cell_type": "code",
   "execution_count": 5,
   "id": "becoming-productivity",
   "metadata": {
    "execution": {
     "iopub.execute_input": "2021-04-16T18:32:03.440142Z",
     "iopub.status.busy": "2021-04-16T18:32:03.439091Z",
     "iopub.status.idle": "2021-04-16T18:32:03.448880Z",
     "shell.execute_reply": "2021-04-16T18:32:03.449793Z"
    },
    "papermill": {
     "duration": 0.027487,
     "end_time": "2021-04-16T18:32:03.450051",
     "exception": false,
     "start_time": "2021-04-16T18:32:03.422564",
     "status": "completed"
    },
    "tags": []
   },
   "outputs": [],
   "source": [
    "mode_definitions = corrVariantsPlotter.mode_definitions\n",
    "\n",
    "simulation_dir = 'pct{}/{}'.format(percentage, simulation_dir_name)\n",
    "output_dir = 'pct{}/{}'.format(percentage, output_dir_name)\n",
    "info = {'number_simulations': 100, 'simulation_dir': simulation_dir,\n",
    "        'size': 11, 'seed': 42, 'number_droplets': 100000,\n",
    "       'trimmed_strains':1, 'mode_definitions': mode_definitions,\n",
    "       'output_dir': output_dir,\n",
    "        'base_coefs_name': 'conditional_covariances_averaged_{}.npz',\n",
    "       }"
   ]
  },
  {
   "cell_type": "code",
   "execution_count": 6,
   "id": "accredited-dependence",
   "metadata": {
    "execution": {
     "iopub.execute_input": "2021-04-16T18:32:03.484289Z",
     "iopub.status.busy": "2021-04-16T18:32:03.482887Z",
     "iopub.status.idle": "2021-04-16T18:49:59.455671Z",
     "shell.execute_reply": "2021-04-16T18:49:59.457675Z"
    },
    "papermill": {
     "duration": 1075.995307,
     "end_time": "2021-04-16T18:49:59.458849",
     "exception": false,
     "start_time": "2021-04-16T18:32:03.463542",
     "status": "completed"
    },
    "tags": []
   },
   "outputs": [],
   "source": [
    "conditionalCorrelationGenerator(**info)(statistic=\"covariance\")"
   ]
  },
  {
   "cell_type": "code",
   "execution_count": 7,
   "id": "upset-immune",
   "metadata": {
    "execution": {
     "iopub.execute_input": "2021-04-16T18:49:59.518430Z",
     "iopub.status.busy": "2021-04-16T18:49:59.517027Z",
     "iopub.status.idle": "2021-04-16T18:49:59.522618Z",
     "shell.execute_reply": "2021-04-16T18:49:59.521064Z"
    },
    "papermill": {
     "duration": 0.041053,
     "end_time": "2021-04-16T18:49:59.522932",
     "exception": false,
     "start_time": "2021-04-16T18:49:59.481879",
     "status": "completed"
    },
    "tags": []
   },
   "outputs": [],
   "source": [
    "base_coefs_filepath = '{}/{}'.format(info[\"output_dir\"], info[\"base_coefs_name\"])\n",
    "\n",
    "base_coef_analysis_name = 'analyzed_covariance_results_{}.npz'\n",
    "base_coef_analysis_filepath = '{}/{}'.format(info[\"output_dir\"], base_coef_analysis_name)"
   ]
  },
  {
   "cell_type": "code",
   "execution_count": 8,
   "id": "legal-recognition",
   "metadata": {
    "execution": {
     "iopub.execute_input": "2021-04-16T18:49:59.613687Z",
     "iopub.status.busy": "2021-04-16T18:49:59.612522Z",
     "iopub.status.idle": "2021-04-16T19:06:43.546322Z",
     "shell.execute_reply": "2021-04-16T19:06:43.547107Z"
    },
    "papermill": {
     "duration": 1004.009937,
     "end_time": "2021-04-16T19:06:43.547358",
     "exception": false,
     "start_time": "2021-04-16T18:49:59.537421",
     "status": "completed"
    },
    "tags": []
   },
   "outputs": [],
   "source": [
    "for experiment_type, control_type in product(['gluttonous', 'picky'], repeat=2):\n",
    "    \n",
    "    shorthand = (experiment_type[0]+control_type[0])\n",
    "    coefs_filepath = base_coefs_filepath.format(shorthand)\n",
    "    coef_analysis_filepath = base_coef_analysis_filepath.format(shorthand)\n",
    "    \n",
    "    corr_coef_values, analysis_results = Analyzer(coefs_filepath, **info)()\n",
    "    np.savez_compressed(coef_analysis_filepath, corr_coef_values=corr_coef_values, \n",
    "                        mode_definitions=mode_definitions, **analysis_results)"
   ]
  }
 ],
 "metadata": {
  "kernelspec": {
   "display_name": "Python 3",
   "language": "python",
   "name": "python3"
  },
  "language_info": {
   "codemirror_mode": {
    "name": "ipython",
    "version": 3
   },
   "file_extension": ".py",
   "mimetype": "text/x-python",
   "name": "python",
   "nbconvert_exporter": "python",
   "pygments_lexer": "ipython3",
   "version": "3.8.8"
  },
  "papermill": {
   "default_parameters": {},
   "duration": 2092.434787,
   "end_time": "2021-04-16T19:06:44.593682",
   "environment_variables": {},
   "exception": null,
   "input_path": "templates/generate_and_analyze_conditional_covariances.ipynb",
   "output_path": "pct0.01/generate_and_analyze_conditional_covariances.ag.ipynb",
   "parameters": {
    "percentage": "0.01"
   },
   "start_time": "2021-04-16T18:31:52.158895",
   "version": "2.3.3"
  }
 },
 "nbformat": 4,
 "nbformat_minor": 5
}