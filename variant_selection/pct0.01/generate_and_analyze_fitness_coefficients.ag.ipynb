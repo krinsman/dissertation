{
 "cells": [
  {
   "cell_type": "code",
   "execution_count": 1,
   "id": "eligible-oregon",
   "metadata": {
    "execution": {
     "iopub.execute_input": "2021-04-16T20:49:28.204610Z",
     "iopub.status.busy": "2021-04-16T20:49:28.203566Z",
     "iopub.status.idle": "2021-04-16T20:49:28.208037Z",
     "shell.execute_reply": "2021-04-16T20:49:28.208828Z"
    },
    "papermill": {
     "duration": 0.030536,
     "end_time": "2021-04-16T20:49:28.209194",
     "exception": false,
     "start_time": "2021-04-16T20:49:28.178658",
     "status": "completed"
    },
    "tags": [
     "injected-parameters"
    ]
   },
   "outputs": [],
   "source": [
    "# Parameters\n",
    "percentage = \"0.01\"\n"
   ]
  },
  {
   "cell_type": "code",
   "execution_count": 2,
   "id": "organized-haven",
   "metadata": {
    "execution": {
     "iopub.execute_input": "2021-04-16T20:49:28.236359Z",
     "iopub.status.busy": "2021-04-16T20:49:28.235379Z",
     "iopub.status.idle": "2021-04-16T20:49:28.389587Z",
     "shell.execute_reply": "2021-04-16T20:49:28.390452Z"
    },
    "papermill": {
     "duration": 0.170453,
     "end_time": "2021-04-16T20:49:28.390700",
     "exception": false,
     "start_time": "2021-04-16T20:49:28.220247",
     "status": "completed"
    },
    "tags": []
   },
   "outputs": [],
   "source": [
    "import numpy as np\n",
    "from itertools import product"
   ]
  },
  {
   "cell_type": "code",
   "execution_count": 3,
   "id": "abstract-import",
   "metadata": {
    "execution": {
     "iopub.execute_input": "2021-04-16T20:49:28.420297Z",
     "iopub.status.busy": "2021-04-16T20:49:28.419251Z",
     "iopub.status.idle": "2021-04-16T20:49:29.966260Z",
     "shell.execute_reply": "2021-04-16T20:49:29.967409Z"
    },
    "papermill": {
     "duration": 1.56473,
     "end_time": "2021-04-16T20:49:29.967712",
     "exception": false,
     "start_time": "2021-04-16T20:49:28.402982",
     "status": "completed"
    },
    "tags": []
   },
   "outputs": [],
   "source": [
    "from analysis_utils import fitnessGenerator, Analyzer\n",
    "from plot_utils import fitnessVariantsPlotter"
   ]
  },
  {
   "cell_type": "code",
   "execution_count": 4,
   "id": "smaller-swiss",
   "metadata": {
    "execution": {
     "iopub.execute_input": "2021-04-16T20:49:29.999154Z",
     "iopub.status.busy": "2021-04-16T20:49:29.997901Z",
     "iopub.status.idle": "2021-04-16T20:49:30.001904Z",
     "shell.execute_reply": "2021-04-16T20:49:30.002974Z"
    },
    "papermill": {
     "duration": 0.023453,
     "end_time": "2021-04-16T20:49:30.003289",
     "exception": false,
     "start_time": "2021-04-16T20:49:29.979836",
     "status": "completed"
    },
    "tags": []
   },
   "outputs": [],
   "source": [
    "simulation_dir_name = 'results'\n",
    "output_dir_name = 'fitness_coefs'"
   ]
  },
  {
   "cell_type": "code",
   "execution_count": 5,
   "id": "traditional-peripheral",
   "metadata": {
    "execution": {
     "iopub.execute_input": "2021-04-16T20:49:30.031197Z",
     "iopub.status.busy": "2021-04-16T20:49:30.029991Z",
     "iopub.status.idle": "2021-04-16T20:49:30.038650Z",
     "shell.execute_reply": "2021-04-16T20:49:30.039643Z"
    },
    "papermill": {
     "duration": 0.025899,
     "end_time": "2021-04-16T20:49:30.039971",
     "exception": false,
     "start_time": "2021-04-16T20:49:30.014072",
     "status": "completed"
    },
    "tags": []
   },
   "outputs": [],
   "source": [
    "mode_definitions = fitnessVariantsPlotter.mode_definitions\n",
    "\n",
    "simulation_dir = 'pct{}/{}'.format(percentage, simulation_dir_name)\n",
    "output_dir = 'pct{}/{}'.format(percentage, output_dir_name)\n",
    "info = {'number_simulations': 100, 'simulation_dir': simulation_dir,\n",
    "        'size': 11, 'seed': 42, 'number_droplets': 100000,\n",
    "       'trimmed_strains':1, 'mode_definitions': mode_definitions,\n",
    "       'output_dir': output_dir,\n",
    "        'base_coefs_name': 'fitness_coefs_averaged_{}.npz',\n",
    "       }"
   ]
  },
  {
   "cell_type": "code",
   "execution_count": 6,
   "id": "excellent-notebook",
   "metadata": {
    "execution": {
     "iopub.execute_input": "2021-04-16T20:49:30.071516Z",
     "iopub.status.busy": "2021-04-16T20:49:30.070263Z",
     "iopub.status.idle": "2021-04-16T20:53:46.039414Z",
     "shell.execute_reply": "2021-04-16T20:53:46.040321Z"
    },
    "papermill": {
     "duration": 255.988249,
     "end_time": "2021-04-16T20:53:46.040612",
     "exception": false,
     "start_time": "2021-04-16T20:49:30.052363",
     "status": "completed"
    },
    "tags": []
   },
   "outputs": [],
   "source": [
    "fitnessGenerator(**info)()"
   ]
  },
  {
   "cell_type": "code",
   "execution_count": 7,
   "id": "based-crown",
   "metadata": {
    "execution": {
     "iopub.execute_input": "2021-04-16T20:53:46.077272Z",
     "iopub.status.busy": "2021-04-16T20:53:46.076178Z",
     "iopub.status.idle": "2021-04-16T20:53:46.080698Z",
     "shell.execute_reply": "2021-04-16T20:53:46.081670Z"
    },
    "papermill": {
     "duration": 0.027032,
     "end_time": "2021-04-16T20:53:46.081972",
     "exception": false,
     "start_time": "2021-04-16T20:53:46.054940",
     "status": "completed"
    },
    "tags": []
   },
   "outputs": [],
   "source": [
    "base_coefs_filepath = '{}/{}'.format(info[\"output_dir\"], info[\"base_coefs_name\"])\n",
    "\n",
    "base_coef_analysis_name = 'analyzed_fitness_coef_results_{}.npz'\n",
    "base_coef_analysis_filepath = '{}/{}'.format(info[\"output_dir\"], base_coef_analysis_name)"
   ]
  },
  {
   "cell_type": "code",
   "execution_count": 8,
   "id": "directed-support",
   "metadata": {
    "execution": {
     "iopub.execute_input": "2021-04-16T20:53:46.121720Z",
     "iopub.status.busy": "2021-04-16T20:53:46.120517Z",
     "iopub.status.idle": "2021-04-16T20:59:33.685787Z",
     "shell.execute_reply": "2021-04-16T20:59:33.686660Z"
    },
    "papermill": {
     "duration": 347.590122,
     "end_time": "2021-04-16T20:59:33.686923",
     "exception": false,
     "start_time": "2021-04-16T20:53:46.096801",
     "status": "completed"
    },
    "tags": []
   },
   "outputs": [],
   "source": [
    "for experiment_type, control_type in product(['gluttonous', 'picky'], repeat=2):\n",
    "    \n",
    "    shorthand = (experiment_type[0]+control_type[0])\n",
    "    coefs_filepath = base_coefs_filepath.format(shorthand)\n",
    "    coef_analysis_filepath = base_coef_analysis_filepath.format(shorthand)\n",
    "    \n",
    "    fitness_coef_values, analysis_results = Analyzer(coefs_filepath, **info)()\n",
    "    np.savez_compressed(coef_analysis_filepath, fitness_coef_values=fitness_coef_values, \n",
    "                        mode_definitions=mode_definitions, **analysis_results)"
   ]
  }
 ],
 "metadata": {
  "kernelspec": {
   "display_name": "Python 3",
   "language": "python",
   "name": "python3"
  },
  "language_info": {
   "codemirror_mode": {
    "name": "ipython",
    "version": 3
   },
   "file_extension": ".py",
   "mimetype": "text/x-python",
   "name": "python",
   "nbconvert_exporter": "python",
   "pygments_lexer": "ipython3",
   "version": "3.8.8"
  },
  "papermill": {
   "default_parameters": {},
   "duration": 608.358566,
   "end_time": "2021-04-16T20:59:35.029093",
   "environment_variables": {},
   "exception": null,
   "input_path": "templates/generate_and_analyze_fitness_coefficients.ipynb",
   "output_path": "pct0.01/generate_and_analyze_fitness_coefficients.ag.ipynb",
   "parameters": {
    "percentage": "0.01"
   },
   "start_time": "2021-04-16T20:49:26.670527",
   "version": "2.3.3"
  }
 },
 "nbformat": 4,
 "nbformat_minor": 5
}