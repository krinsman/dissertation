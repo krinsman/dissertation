{
 "cells": [
  {
   "cell_type": "code",
   "execution_count": 1,
   "id": "stainless-delicious",
   "metadata": {
    "execution": {
     "iopub.execute_input": "2021-04-16T20:59:42.077633Z",
     "iopub.status.busy": "2021-04-16T20:59:42.076442Z",
     "iopub.status.idle": "2021-04-16T20:59:42.086062Z",
     "shell.execute_reply": "2021-04-16T20:59:42.087048Z"
    },
    "papermill": {
     "duration": 0.034426,
     "end_time": "2021-04-16T20:59:42.087450",
     "exception": false,
     "start_time": "2021-04-16T20:59:42.053024",
     "status": "completed"
    },
    "tags": [
     "injected-parameters"
    ]
   },
   "outputs": [],
   "source": [
    "# Parameters\n",
    "percentage = \"0.01\"\n"
   ]
  },
  {
   "cell_type": "code",
   "execution_count": 2,
   "id": "signal-floor",
   "metadata": {
    "execution": {
     "iopub.execute_input": "2021-04-16T20:59:42.119312Z",
     "iopub.status.busy": "2021-04-16T20:59:42.118113Z",
     "iopub.status.idle": "2021-04-16T20:59:42.295828Z",
     "shell.execute_reply": "2021-04-16T20:59:42.296856Z"
    },
    "papermill": {
     "duration": 0.196481,
     "end_time": "2021-04-16T20:59:42.297175",
     "exception": false,
     "start_time": "2021-04-16T20:59:42.100694",
     "status": "completed"
    },
    "tags": []
   },
   "outputs": [],
   "source": [
    "import numpy as np\n",
    "from itertools import product"
   ]
  },
  {
   "cell_type": "code",
   "execution_count": 3,
   "id": "absolute-territory",
   "metadata": {
    "execution": {
     "iopub.execute_input": "2021-04-16T20:59:42.330577Z",
     "iopub.status.busy": "2021-04-16T20:59:42.329421Z",
     "iopub.status.idle": "2021-04-16T20:59:44.013627Z",
     "shell.execute_reply": "2021-04-16T20:59:44.015015Z"
    },
    "papermill": {
     "duration": 1.704198,
     "end_time": "2021-04-16T20:59:44.015282",
     "exception": false,
     "start_time": "2021-04-16T20:59:42.311084",
     "status": "completed"
    },
    "tags": []
   },
   "outputs": [],
   "source": [
    "from analysis_utils import conditionalCorrelationGenerator, Analyzer\n",
    "from plot_utils import corrVariantsPlotter"
   ]
  },
  {
   "cell_type": "code",
   "execution_count": 4,
   "id": "sufficient-wellington",
   "metadata": {
    "execution": {
     "iopub.execute_input": "2021-04-16T20:59:44.047496Z",
     "iopub.status.busy": "2021-04-16T20:59:44.046465Z",
     "iopub.status.idle": "2021-04-16T20:59:44.049488Z",
     "shell.execute_reply": "2021-04-16T20:59:44.050300Z"
    },
    "papermill": {
     "duration": 0.022374,
     "end_time": "2021-04-16T20:59:44.050573",
     "exception": false,
     "start_time": "2021-04-16T20:59:44.028199",
     "status": "completed"
    },
    "tags": []
   },
   "outputs": [],
   "source": [
    "simulation_dir_name = 'results'\n",
    "output_dir_name = 'conditional_correlations'"
   ]
  },
  {
   "cell_type": "code",
   "execution_count": 5,
   "id": "respective-strap",
   "metadata": {
    "execution": {
     "iopub.execute_input": "2021-04-16T20:59:44.084982Z",
     "iopub.status.busy": "2021-04-16T20:59:44.083763Z",
     "iopub.status.idle": "2021-04-16T20:59:44.087033Z",
     "shell.execute_reply": "2021-04-16T20:59:44.087924Z"
    },
    "papermill": {
     "duration": 0.024665,
     "end_time": "2021-04-16T20:59:44.088180",
     "exception": false,
     "start_time": "2021-04-16T20:59:44.063515",
     "status": "completed"
    },
    "tags": []
   },
   "outputs": [],
   "source": [
    "mode_definitions = corrVariantsPlotter.mode_definitions\n",
    "\n",
    "simulation_dir = 'pct{}/{}'.format(percentage, simulation_dir_name)\n",
    "output_dir = 'pct{}/{}'.format(percentage, output_dir_name)\n",
    "info = {'number_simulations': 100, 'simulation_dir': simulation_dir,\n",
    "        'size': 11, 'seed': 42, 'number_droplets': 100000,\n",
    "       'trimmed_strains':1, 'mode_definitions': mode_definitions,\n",
    "       'output_dir': output_dir,\n",
    "        'base_coefs_name': 'conditional_correlations_averaged_{}.npz',\n",
    "       }"
   ]
  },
  {
   "cell_type": "code",
   "execution_count": 6,
   "id": "infrared-ranch",
   "metadata": {
    "execution": {
     "iopub.execute_input": "2021-04-16T20:59:44.121513Z",
     "iopub.status.busy": "2021-04-16T20:59:44.120414Z",
     "iopub.status.idle": "2021-04-16T21:05:45.701796Z",
     "shell.execute_reply": "2021-04-16T21:05:45.702885Z"
    },
    "papermill": {
     "duration": 361.601425,
     "end_time": "2021-04-16T21:05:45.703222",
     "exception": false,
     "start_time": "2021-04-16T20:59:44.101797",
     "status": "completed"
    },
    "tags": []
   },
   "outputs": [],
   "source": [
    "conditionalCorrelationGenerator(**info)(statistic=\"correlation\")"
   ]
  },
  {
   "cell_type": "code",
   "execution_count": 7,
   "id": "unique-motion",
   "metadata": {
    "execution": {
     "iopub.execute_input": "2021-04-16T21:05:45.739834Z",
     "iopub.status.busy": "2021-04-16T21:05:45.738519Z",
     "iopub.status.idle": "2021-04-16T21:05:45.742657Z",
     "shell.execute_reply": "2021-04-16T21:05:45.743680Z"
    },
    "papermill": {
     "duration": 0.026023,
     "end_time": "2021-04-16T21:05:45.744010",
     "exception": false,
     "start_time": "2021-04-16T21:05:45.717987",
     "status": "completed"
    },
    "tags": []
   },
   "outputs": [],
   "source": [
    "base_coefs_filepath = '{}/{}'.format(info[\"output_dir\"], info[\"base_coefs_name\"])\n",
    "\n",
    "base_coef_analysis_name = 'analyzed_corr_coef_results_{}.npz'\n",
    "base_coef_analysis_filepath = '{}/{}'.format(info[\"output_dir\"], base_coef_analysis_name)"
   ]
  },
  {
   "cell_type": "code",
   "execution_count": 8,
   "id": "entire-repository",
   "metadata": {
    "execution": {
     "iopub.execute_input": "2021-04-16T21:05:45.786639Z",
     "iopub.status.busy": "2021-04-16T21:05:45.785301Z",
     "iopub.status.idle": "2021-04-16T21:11:40.367544Z",
     "shell.execute_reply": "2021-04-16T21:11:40.368705Z"
    },
    "papermill": {
     "duration": 354.607912,
     "end_time": "2021-04-16T21:11:40.369009",
     "exception": false,
     "start_time": "2021-04-16T21:05:45.761097",
     "status": "completed"
    },
    "tags": []
   },
   "outputs": [],
   "source": [
    "for experiment_type, control_type in product(['gluttonous', 'picky'], repeat=2):\n",
    "    \n",
    "    shorthand = (experiment_type[0]+control_type[0])\n",
    "    coefs_filepath = base_coefs_filepath.format(shorthand)\n",
    "    coef_analysis_filepath = base_coef_analysis_filepath.format(shorthand)\n",
    "    \n",
    "    corr_coef_values, analysis_results = Analyzer(coefs_filepath, **info)()\n",
    "    np.savez_compressed(coef_analysis_filepath, corr_coef_values=corr_coef_values, \n",
    "                        mode_definitions=mode_definitions, **analysis_results)"
   ]
  }
 ],
 "metadata": {
  "kernelspec": {
   "display_name": "Python 3",
   "language": "python",
   "name": "python3"
  },
  "language_info": {
   "codemirror_mode": {
    "name": "ipython",
    "version": 3
   },
   "file_extension": ".py",
   "mimetype": "text/x-python",
   "name": "python",
   "nbconvert_exporter": "python",
   "pygments_lexer": "ipython3",
   "version": "3.8.8"
  },
  "papermill": {
   "default_parameters": {},
   "duration": 720.315133,
   "end_time": "2021-04-16T21:11:40.897930",
   "environment_variables": {},
   "exception": null,
   "input_path": "templates/generate_and_analyze_conditional_correlations.ipynb",
   "output_path": "pct0.01/generate_and_analyze_conditional_correlations.ag.ipynb",
   "parameters": {
    "percentage": "0.01"
   },
   "start_time": "2021-04-16T20:59:40.582797",
   "version": "2.3.3"
  }
 },
 "nbformat": 4,
 "nbformat_minor": 5
}