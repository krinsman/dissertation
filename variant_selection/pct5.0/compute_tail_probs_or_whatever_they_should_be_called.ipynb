{
 "cells": [
  {
   "cell_type": "code",
   "execution_count": 1,
   "id": "working-shoulder",
   "metadata": {},
   "outputs": [],
   "source": [
    "def true_numbers_from_truth(truth):\n",
    "    \"\"\"here truth is a single 10 x 10 matrix\"\"\"\n",
    "    num_pos = np.sum(truth > 0)\n",
    "    num_nonneg = np.sum(truth >= 0)\n",
    "    num_zero = num_nonneg - num_pos\n",
    "    # below line definitely wouldn't work for full truth array\n",
    "    num_neg = truth.size - num_nonneg\n",
    "    return (num_pos, num_zero, num_neg)"
   ]
  },
  {
   "cell_type": "code",
   "execution_count": 2,
   "id": "stylish-coverage",
   "metadata": {},
   "outputs": [],
   "source": [
    "def strictly_worse_values(value, dist_values, better=None):\n",
    "    if better is None:\n",
    "        raise ValueError\n",
    "    if better.lower() == \"higher\": # .lower to make things case-insensitive\n",
    "        return (dist_values < value)\n",
    "    if better.lower() == \"lower\": # .lower to make things case-insensitive\n",
    "        return (dist_values > value)"
   ]
  },
  {
   "cell_type": "code",
   "execution_count": 3,
   "id": "overhead-bidding",
   "metadata": {},
   "outputs": [],
   "source": [
    "def get_exact_tail_probability(value, exact_dist_vals, exact_dist_probs, better=None):\n",
    "    if better is None:\n",
    "        raise ValueError\n",
    "    values_doing_strictly_worse = strictly_worse_values(value, exact_dist_vals, better=better)\n",
    "    prob_doing_strictly_worse = np.sum(exact_dist_probs[values_doing_strictly_worse])\n",
    "    prob_doing_strictly_worse = min(1., prob_doing_strictly_worse) # probability greater than 1 is fltng pt. error\n",
    "    return prob_doing_strictly_worse"
   ]
  },
  {
   "cell_type": "code",
   "execution_count": 4,
   "id": "atmospheric-muscle",
   "metadata": {},
   "outputs": [],
   "source": [
    "def get_exact_log_score(value, exact_dist_vals, exact_dist_probs, better=None):\n",
    "    prob_doing_strictly_worse = get_exact_tail_probability(value, exact_dist_vals, exact_dist_probs, better=better)\n",
    "    log_score = -np.log(1-prob_doing_strictly_worse)/np.log(10) # base 10 log\n",
    "    return log_score"
   ]
  },
  {
   "cell_type": "code",
   "execution_count": 5,
   "id": "bound-genesis",
   "metadata": {},
   "outputs": [],
   "source": [
    "from simulations.utils import (compute_exact_null_distributions,\n",
    "                               mixed_sign_Jaccard_similarity,\n",
    "                               mixed_fdr, mixed_fnr)\n",
    "import numpy as np\n",
    "import pandas as pd\n",
    "import seaborn as sns\n",
    "import matplotlib.pyplot as plt\n",
    "\n",
    "from itertools import product"
   ]
  },
  {
   "cell_type": "markdown",
   "id": "capable-julian",
   "metadata": {},
   "source": [
    "basically idea seems to be to allocate sum of probability that original Gaussian kernel gave to $-x$ and $+x$ all to $+x$, so that we don't lose probability when cutting off everything beyond $0$."
   ]
  },
  {
   "cell_type": "code",
   "execution_count": 7,
   "id": "featured-layout",
   "metadata": {},
   "outputs": [],
   "source": [
    "import scipy\n",
    "import numpy as np\n",
    "\n",
    "kde_evaluate = scipy.stats.gaussian_kde.evaluate\n",
    "\n",
    "def truncated_kde_evaluate(self, x):    \n",
    "    lb = 0\n",
    "    ub = 1\n",
    "        \n",
    "    if (len(x) == self.d) and (type(x) == list) and (self.d == 2):\n",
    "        # inside horizontal and vertical boundaries\n",
    "        val = np.where(((x[0]>=lb)&(x[1]>=lb))&((x[0]<=ub)&(x[1]<=ub)), kde_evaluate(self, x), 0)\n",
    "        # to left of horizontal boundaries, inside vertical boundaries\n",
    "        val += np.where(((x[0]>=lb)&(x[1]>=lb))&((x[0]<=ub)&(x[1]<=ub)), kde_evaluate(self, [lb-x[0],x[1]]), 0)\n",
    "        # inside horizontal boundaries, below vertical boundaries\n",
    "        val += np.where(((x[0]>=lb)&(x[1]>=lb))&((x[0]<=ub)&(x[1]<=ub)), kde_evaluate(self, [x[0],lb-x[1]]), 0)\n",
    "        # to left of horizontal boundaries, below vertical boundaries\n",
    "        val += np.where(((x[0]>=lb)&(x[1]>=lb))&((x[0]<=ub)&(x[1]<=ub)), kde_evaluate(self, [lb-x[0],lb-x[1]]), 0)\n",
    "        # inside horizontal boundaries, above vertical boundaries\n",
    "        val += np.where(((x[0]>=lb)&(x[1]>lb))&((x[0]<=ub)&(x[1]<=ub)), kde_evaluate(self, [x[0],ub-(x[1]-ub)]), 0)\n",
    "        # to right of horizontal boundaries, inside vertical boundaries\n",
    "        val += np.where(((x[0]>lb)&(x[1]>=lb))&((x[0]<=ub)&(x[1]<=ub)), kde_evaluate(self, [ub-(x[0]-ub),x[1]]), 0)\n",
    "        # to right of horizontal boundaries, above vertical boundaries\n",
    "        val += np.where(((x[0]>lb)&(x[1]>lb))&((x[0]<=ub)&(x[1]<=ub)), kde_evaluate(self, [ub-(x[0]-ub),ub-(x[1]-ub)]), 0)\n",
    "        # to left of horizontal boundaries, above vertical boundaries\n",
    "        val += np.where(((x[0]>=lb)&(x[1]>lb))&((x[0]<=ub)&(x[1]<=ub)), kde_evaluate(self, [lb-x[0],ub-(x[1]-ub)]), 0)\n",
    "        # to right of horizontal boundaries, below vertical boundaries\n",
    "        val += np.where(((x[0]>lb)&(x[1]>=lb))&((x[0]<=ub)&(x[1]<=ub)), kde_evaluate(self, [ub-(x[0]-ub),lb-x[1]]), 0)\n",
    "    elif self.d == 1:\n",
    "        val = np.where((x>=lb)&(x<=ub), kde_evaluate(self, x), 0)\n",
    "        val += np.where((x>=lb)&(x<=ub), kde_evaluate(self, lb-x), 0)\n",
    "        val += np.where((x>lb)&(x<=ub), kde_evaluate(self, ub-(x-ub)), 0)\n",
    "    return val\n",
    "\n",
    "scipy.stats.kde.gaussian_kde.__call__ = truncated_kde_evaluate"
   ]
  },
  {
   "cell_type": "markdown",
   "id": "motivated-mauritius",
   "metadata": {},
   "source": [
    "The above is an analogous monkey patch for KDE plots."
   ]
  },
  {
   "cell_type": "code",
   "execution_count": 8,
   "id": "infinite-tracy",
   "metadata": {},
   "outputs": [],
   "source": [
    "mode_definitions = [{0:\"binary_covariates\",1:\"count_covariates\",2:\"log_count_covariates\"}, \n",
    "                    {0:\"scaled\",1:\"unscaled\"},\n",
    "                    {0:\"uncensored\",1:\"censored\"}]\n",
    "methods_shape = tuple([len(definitions) for definitions in mode_definitions])"
   ]
  },
  {
   "cell_type": "code",
   "execution_count": 9,
   "id": "cheap-taste",
   "metadata": {},
   "outputs": [],
   "source": [
    "truth_dir = 'results'\n",
    "size = 11\n",
    "seed = 42\n",
    "number_droplets = 100000\n",
    "truth_basename = '{}/{}_strains.seed_{}.{}_droplets.iteration_{{}}.npz'.format(truth_dir, size, seed, number_droplets)\n",
    "\n",
    "results_dir = 'phenopath_results/{}/{}' # covariate type, scale type\n",
    "results_basename = '{}/iteration_{{}}.npz'.format(results_dir)"
   ]
  },
  {
   "cell_type": "code",
   "execution_count": 10,
   "id": "hollow-forward",
   "metadata": {},
   "outputs": [],
   "source": [
    "number_iterations = 100\n",
    "\n",
    "mix_jaccard_tail_probs = np.zeros((*methods_shape,number_iterations))\n",
    "pos_jaccard_tail_probs = np.zeros((*methods_shape,number_iterations))\n",
    "neg_jaccard_tail_probs = np.zeros((*methods_shape,number_iterations))\n",
    "mix_fnr_tail_probs = np.zeros((*methods_shape,number_iterations))\n",
    "pos_fnr_tail_probs = np.zeros((*methods_shape,number_iterations))\n",
    "neg_fnr_tail_probs = np.zeros((*methods_shape,number_iterations))\n",
    "mix_fdr_tail_probs = np.zeros((*methods_shape,number_iterations))\n",
    "pos_fdr_tail_probs = np.zeros((*methods_shape,number_iterations))\n",
    "neg_fdr_tail_probs = np.zeros((*methods_shape,number_iterations))"
   ]
  },
  {
   "cell_type": "code",
   "execution_count": 11,
   "id": "sublime-zoning",
   "metadata": {},
   "outputs": [],
   "source": [
    "for iteration_number in range(number_iterations):\n",
    "\n",
    "    truth_npzfile = np.load(truth_basename.format(iteration_number+1))\n",
    "    truth = truth_npzfile['truth'][0:-1,0:-1]\n",
    "    true_numbers = true_numbers_from_truth(truth)\n",
    "    exact_null_distributions = compute_exact_null_distributions(true_numbers)\n",
    "    \n",
    "    for covariate_type, scale_choice, censor_choice in product(*[range(i) for i in methods_shape]):\n",
    "        multiindex = (covariate_type, scale_choice, censor_choice)\n",
    "        \n",
    "        phenopath_npzfile = np.load(results_basename.format(mode_definitions[0][covariate_type], \n",
    "                                                            mode_definitions[1][scale_choice], \n",
    "                                                            iteration_number+1))\n",
    "        estimate = phenopath_npzfile['{}_results'.format(mode_definitions[2][censor_choice])][0:-1,0:-1]\n",
    "\n",
    "        results = {}\n",
    "        results['mixed_jaccard'] = mixed_sign_Jaccard_similarity(truth, estimate)\n",
    "        results['pos_jaccard'] = mixed_sign_Jaccard_similarity(truth, estimate, positive_part=True)\n",
    "        results['neg_jaccard'] = mixed_sign_Jaccard_similarity(truth, estimate, negative_part=True)\n",
    "        results['mixed_fdr'] = mixed_fdr(truth, estimate)\n",
    "        results['pos_fdr'] = mixed_fdr(truth, estimate, positive_part=True)\n",
    "        results['neg_fdr'] = mixed_fdr(truth, estimate, negative_part=True)\n",
    "        results['mixed_fnr'] = mixed_fnr(truth, estimate)\n",
    "        results['pos_fnr'] = mixed_fnr(truth, estimate, positive_part=True)\n",
    "        results['neg_fnr'] = mixed_fnr(truth, estimate, negative_part=True)\n",
    "\n",
    "        mix_jaccard_tail_probs[(*multiindex, iteration_number)] = get_exact_tail_probability(results['mixed_jaccard'], *exact_null_distributions['mixed_jaccard'], better=\"higher\")\n",
    "        pos_jaccard_tail_probs[(*multiindex, iteration_number)] = get_exact_tail_probability(results['pos_jaccard'], *exact_null_distributions['pos_jaccard'], better=\"higher\")\n",
    "        neg_jaccard_tail_probs[(*multiindex, iteration_number)] = get_exact_tail_probability(results['neg_jaccard'], *exact_null_distributions['neg_jaccard'], better=\"higher\")\n",
    "        mix_fdr_tail_probs[(*multiindex, iteration_number)] = get_exact_tail_probability(results['mixed_fdr'], *exact_null_distributions['mixed_fdr'], better=\"Lower\")\n",
    "        pos_fdr_tail_probs[(*multiindex, iteration_number)] = get_exact_tail_probability(results['pos_fdr'], *exact_null_distributions['pos_fdr'], better=\"lower\")\n",
    "        neg_fdr_tail_probs[(*multiindex, iteration_number)] = get_exact_tail_probability(results['neg_fdr'], *exact_null_distributions['neg_fdr'], better=\"lower\")\n",
    "        mix_fnr_tail_probs[(*multiindex, iteration_number)] = get_exact_tail_probability(results['mixed_fnr'], *exact_null_distributions['mixed_fnr'], better=\"lower\")\n",
    "        pos_fnr_tail_probs[(*multiindex, iteration_number)] = get_exact_tail_probability(results['pos_fnr'], *exact_null_distributions['pos_fnr'], better=\"lower\")\n",
    "        neg_fnr_tail_probs[(*multiindex, iteration_number)] = get_exact_tail_probability(results['neg_fnr'], *exact_null_distributions['neg_fnr'], better=\"lower\")"
   ]
  },
  {
   "cell_type": "code",
   "execution_count": 30,
   "id": "pending-aircraft",
   "metadata": {},
   "outputs": [
    {
     "data": {
      "text/plain": [
       "<seaborn.axisgrid.FacetGrid at 0x165f13d50>"
      ]
     },
     "execution_count": 30,
     "metadata": {},
     "output_type": "execute_result"
    },
    {
     "data": {
      "image/png": "[encoded data removed]",
      "text/plain": [
       "<Figure size 360x360 with 2 Axes>"
      ]
     },
     "metadata": {
      "needs_background": "light"
     },
     "output_type": "display_data"
    }
   ],
   "source": [
    "sns.displot(x=neg_fdr_tail_probs[2,0,0,:], y=neg_fnr_tail_probs[2,0,0,:], cbar=True, binwidth=(.25, .25))"
   ]
  },
  {
   "cell_type": "code",
   "execution_count": 41,
   "id": "posted-diabetes",
   "metadata": {},
   "outputs": [
    {
     "data": {
      "text/plain": [
       "<seaborn.axisgrid.FacetGrid at 0x167fc5110>"
      ]
     },
     "execution_count": 41,
     "metadata": {},
     "output_type": "execute_result"
    },
    {
     "data": {
      "image/png": "[encoded data removed]",
      "text/plain": [
       "<Figure size 360x360 with 2 Axes>"
      ]
     },
     "metadata": {
      "needs_background": "light"
     },
     "output_type": "display_data"
    }
   ],
   "source": [
    "sns.displot(x=neg_fdr_tail_probs[2,0,0,:], y=neg_fnr_tail_probs[2,0,0,:], cbar=True, kind=\"kde\", fill=True, cut=0)"
   ]
  },
  {
   "cell_type": "markdown",
   "id": "color-flavor",
   "metadata": {},
   "source": [
    "basically they are slightly anti-correlated but the plot is bad and makes it unclear"
   ]
  },
  {
   "cell_type": "code",
   "execution_count": 32,
   "id": "expanded-compensation",
   "metadata": {},
   "outputs": [
    {
     "data": {
      "text/plain": [
       "<seaborn.axisgrid.FacetGrid at 0x16675a2d0>"
      ]
     },
     "execution_count": 32,
     "metadata": {},
     "output_type": "execute_result"
    },
    {
     "data": {
      "image/png": "[encoded data removed]",
      "text/plain": [
       "<Figure size 360x360 with 2 Axes>"
      ]
     },
     "metadata": {
      "needs_background": "light"
     },
     "output_type": "display_data"
    }
   ],
   "source": [
    "sns.displot(x=pos_fdr_tail_probs[2,0,0,:], y=pos_fnr_tail_probs[2,0,0,:], cbar=True, binwidth=(.25, .25))"
   ]
  },
  {
   "cell_type": "code",
   "execution_count": 42,
   "id": "informative-monitoring",
   "metadata": {},
   "outputs": [
    {
     "data": {
      "text/plain": [
       "<seaborn.axisgrid.FacetGrid at 0x167b33950>"
      ]
     },
     "execution_count": 42,
     "metadata": {},
     "output_type": "execute_result"
    },
    {
     "data": {
      "image/png": "[encoded data removed]",
      "text/plain": [
       "<Figure size 360x360 with 2 Axes>"
      ]
     },
     "metadata": {
      "needs_background": "light"
     },
     "output_type": "display_data"
    }
   ],
   "source": [
    "sns.displot(x=pos_fdr_tail_probs[2,0,0,:], y=pos_fnr_tail_probs[2,0,0,:], cbar=True, kind=\"kde\", fill=True, cut=0)"
   ]
  },
  {
   "cell_type": "code",
   "execution_count": 34,
   "id": "mechanical-license",
   "metadata": {},
   "outputs": [
    {
     "data": {
      "text/plain": [
       "<seaborn.axisgrid.FacetGrid at 0x1675ae050>"
      ]
     },
     "execution_count": 34,
     "metadata": {},
     "output_type": "execute_result"
    },
    {
     "data": {
      "image/png": "[encoded data removed]",
      "text/plain": [
       "<Figure size 360x360 with 2 Axes>"
      ]
     },
     "metadata": {
      "needs_background": "light"
     },
     "output_type": "display_data"
    }
   ],
   "source": [
    "sns.displot(x=pos_fdr_tail_probs[2,0,0,:], y=neg_fdr_tail_probs[2,0,0,:], cbar=True, binwidth=(.25, .25))"
   ]
  },
  {
   "cell_type": "code",
   "execution_count": 43,
   "id": "developing-affair",
   "metadata": {},
   "outputs": [
    {
     "data": {
      "text/plain": [
       "<seaborn.axisgrid.FacetGrid at 0x16819fed0>"
      ]
     },
     "execution_count": 43,
     "metadata": {},
     "output_type": "execute_result"
    },
    {
     "data": {
      "image/png": "[encoded data removed]",
      "text/plain": [
       "<Figure size 360x360 with 2 Axes>"
      ]
     },
     "metadata": {
      "needs_background": "light"
     },
     "output_type": "display_data"
    }
   ],
   "source": [
    "sns.displot(x=pos_fdr_tail_probs[2,0,0,:], y=neg_fdr_tail_probs[2,0,0,:], cbar=True, kind=\"kde\", fill=True, cut=0)"
   ]
  },
  {
   "cell_type": "code",
   "execution_count": 36,
   "id": "operational-delhi",
   "metadata": {},
   "outputs": [
    {
     "data": {
      "text/plain": [
       "<seaborn.axisgrid.FacetGrid at 0x167622790>"
      ]
     },
     "execution_count": 36,
     "metadata": {},
     "output_type": "execute_result"
    },
    {
     "data": {
      "image/png": "[encoded data removed]",
      "text/plain": [
       "<Figure size 360x360 with 2 Axes>"
      ]
     },
     "metadata": {
      "needs_background": "light"
     },
     "output_type": "display_data"
    }
   ],
   "source": [
    "sns.displot(x=pos_fnr_tail_probs[2,0,0,:], y=neg_fnr_tail_probs[2,0,0,:], cbar=True, binwidth=(.25, .25))"
   ]
  },
  {
   "cell_type": "code",
   "execution_count": 44,
   "id": "aquatic-presence",
   "metadata": {},
   "outputs": [
    {
     "data": {
      "text/plain": [
       "<seaborn.axisgrid.FacetGrid at 0x167c475d0>"
      ]
     },
     "execution_count": 44,
     "metadata": {},
     "output_type": "execute_result"
    },
    {
     "data": {
      "image/png": "[encoded data removed]",
      "text/plain": [
       "<Figure size 360x360 with 2 Axes>"
      ]
     },
     "metadata": {
      "needs_background": "light"
     },
     "output_type": "display_data"
    }
   ],
   "source": [
    "sns.displot(x=pos_fnr_tail_probs[2,0,0,:], y=neg_fnr_tail_probs[2,0,0,:], cbar=True, kind=\"kde\", fill=True, cut=0)"
   ]
  },
  {
   "cell_type": "markdown",
   "id": "dying-medicine",
   "metadata": {},
   "source": [
    "Yeah this sort of matches my intuition for looking at the raw numbers for a lot of these, but basically good positive FNR usually comes at the expense of good negative FNR or vice versa, same with positive FDR and negative FDR, and pos FDR and pos FNR, and neg. FNR and FDR.\n",
    "\n",
    "Actually I'm not sure what point I'm trying to make with these. Like there clearly isn't any uniform reason why the Jaccard similarities almost all stink, in fact it's fairly clear that they manage to find many unique individual reasons to stink. So yeah not sure whether there would really be any point in beating that to death. \n",
    "\n",
    "I mean I know I have my performance hierarchy or whatever with positive FDR at the top but well there seem to be a lot of those with good positive FDR that suck for everything else. So yeah definitely a winner takes all for highest thing is a bad system. Some scoring or point system maybe, but honestly for now we should probably just stick only to Jaccard similarity in the manuscript draft to avoid getting stuck in this quagmire."
   ]
  },
  {
   "cell_type": "code",
   "execution_count": 38,
   "id": "convenient-extension",
   "metadata": {},
   "outputs": [],
   "source": [
    "np.savez_compressed('phenopath_tail_probs.npz',\n",
    "                   mix_jaccard=mix_jaccard_tail_probs,\n",
    "                   pos_jaccard=pos_jaccard_tail_probs,\n",
    "                   neg_jaccard=neg_jaccard_tail_probs,\n",
    "                   mix_fdr=mix_fdr_tail_probs,\n",
    "                   pos_fdr=pos_fdr_tail_probs,\n",
    "                   neg_fdr=neg_fdr_tail_probs,\n",
    "                   mix_fnr=mix_fnr_tail_probs,\n",
    "                   pos_fnr=pos_fnr_tail_probs,\n",
    "                   neg_fnr=neg_fnr_tail_probs)"
   ]
  }
 ],
 "metadata": {
  "kernelspec": {
   "display_name": "Python 3",
   "language": "python",
   "name": "python3"
  },
  "language_info": {
   "codemirror_mode": {
    "name": "ipython",
    "version": 3
   },
   "file_extension": ".py",
   "mimetype": "text/x-python",
   "name": "python",
   "nbconvert_exporter": "python",
   "pygments_lexer": "ipython3",
   "version": "3.8.8"
  }
 },
 "nbformat": 4,
 "nbformat_minor": 5
}
