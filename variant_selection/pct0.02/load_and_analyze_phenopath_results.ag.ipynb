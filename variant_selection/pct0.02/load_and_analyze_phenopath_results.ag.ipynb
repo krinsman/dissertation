{
 "cells": [
  {
   "cell_type": "code",
   "execution_count": 1,
   "id": "impaired-morgan",
   "metadata": {
    "execution": {
     "iopub.execute_input": "2021-04-16T20:47:58.871572Z",
     "iopub.status.busy": "2021-04-16T20:47:58.871010Z",
     "iopub.status.idle": "2021-04-16T20:47:58.873095Z",
     "shell.execute_reply": "2021-04-16T20:47:58.873534Z"
    },
    "papermill": {
     "duration": 0.019174,
     "end_time": "2021-04-16T20:47:58.873839",
     "exception": false,
     "start_time": "2021-04-16T20:47:58.854665",
     "status": "completed"
    },
    "tags": [
     "injected-parameters"
    ]
   },
   "outputs": [],
   "source": [
    "# Parameters\n",
    "percentage = \"0.02\"\n"
   ]
  },
  {
   "cell_type": "code",
   "execution_count": 2,
   "id": "prompt-gabriel",
   "metadata": {
    "execution": {
     "iopub.execute_input": "2021-04-16T20:47:58.893687Z",
     "iopub.status.busy": "2021-04-16T20:47:58.892777Z",
     "iopub.status.idle": "2021-04-16T20:47:59.110824Z",
     "shell.execute_reply": "2021-04-16T20:47:59.111713Z"
    },
    "papermill": {
     "duration": 0.230109,
     "end_time": "2021-04-16T20:47:59.111967",
     "exception": false,
     "start_time": "2021-04-16T20:47:58.881858",
     "status": "completed"
    },
    "tags": []
   },
   "outputs": [],
   "source": [
    "import numpy as np"
   ]
  },
  {
   "cell_type": "code",
   "execution_count": 3,
   "id": "separated-aggregate",
   "metadata": {
    "execution": {
     "iopub.execute_input": "2021-04-16T20:47:59.145053Z",
     "iopub.status.busy": "2021-04-16T20:47:59.144051Z",
     "iopub.status.idle": "2021-04-16T20:48:00.924668Z",
     "shell.execute_reply": "2021-04-16T20:48:00.925620Z"
    },
    "papermill": {
     "duration": 1.800019,
     "end_time": "2021-04-16T20:48:00.925848",
     "exception": false,
     "start_time": "2021-04-16T20:47:59.125829",
     "status": "completed"
    },
    "tags": []
   },
   "outputs": [],
   "source": [
    "from analysis_utils import phenopathCoefficientOrganizer, Analyzer\n",
    "from plot_utils import phenopathVariantsPlotter"
   ]
  },
  {
   "cell_type": "code",
   "execution_count": 4,
   "id": "honest-writing",
   "metadata": {
    "execution": {
     "iopub.execute_input": "2021-04-16T20:48:00.962647Z",
     "iopub.status.busy": "2021-04-16T20:48:00.960408Z",
     "iopub.status.idle": "2021-04-16T20:48:00.976460Z",
     "shell.execute_reply": "2021-04-16T20:48:00.977550Z"
    },
    "papermill": {
     "duration": 0.03533,
     "end_time": "2021-04-16T20:48:00.977778",
     "exception": false,
     "start_time": "2021-04-16T20:48:00.942448",
     "status": "completed"
    },
    "tags": []
   },
   "outputs": [],
   "source": [
    "output_dir_name = 'phenopath_results'\n",
    "simulation_dir_name = 'results'"
   ]
  },
  {
   "cell_type": "code",
   "execution_count": 5,
   "id": "impressed-chase",
   "metadata": {
    "execution": {
     "iopub.execute_input": "2021-04-16T20:48:01.010282Z",
     "iopub.status.busy": "2021-04-16T20:48:01.009318Z",
     "iopub.status.idle": "2021-04-16T20:48:01.014629Z",
     "shell.execute_reply": "2021-04-16T20:48:01.017635Z"
    },
    "papermill": {
     "duration": 0.027893,
     "end_time": "2021-04-16T20:48:01.017871",
     "exception": false,
     "start_time": "2021-04-16T20:48:00.989978",
     "status": "completed"
    },
    "tags": []
   },
   "outputs": [],
   "source": [
    "mode_definitions = phenopathVariantsPlotter.mode_definitions\n",
    "\n",
    "output_dir = 'pct{}/{}'.format(percentage, output_dir_name)\n",
    "simulation_dir = 'pct{}/{}'.format(percentage, simulation_dir_name)"
   ]
  },
  {
   "cell_type": "code",
   "execution_count": 6,
   "id": "controlled-soldier",
   "metadata": {
    "execution": {
     "iopub.execute_input": "2021-04-16T20:48:01.052505Z",
     "iopub.status.busy": "2021-04-16T20:48:01.051568Z",
     "iopub.status.idle": "2021-04-16T20:48:01.061031Z",
     "shell.execute_reply": "2021-04-16T20:48:01.062194Z"
    },
    "papermill": {
     "duration": 0.031059,
     "end_time": "2021-04-16T20:48:01.062422",
     "exception": false,
     "start_time": "2021-04-16T20:48:01.031363",
     "status": "completed"
    },
    "tags": []
   },
   "outputs": [],
   "source": [
    "info = {\n",
    "    'trimmed_strains': 1,\n",
    "    'size': 11,\n",
    "    'seed': 42,\n",
    "    'number_droplets': 100000,\n",
    "    'number_simulations': 100,\n",
    "    'simulation_dir': simulation_dir,\n",
    "    'output_dir': output_dir,\n",
    "    'mode_definitions': mode_definitions\n",
    "}"
   ]
  },
  {
   "cell_type": "code",
   "execution_count": 7,
   "id": "wicked-estate",
   "metadata": {
    "execution": {
     "iopub.execute_input": "2021-04-16T20:48:01.107931Z",
     "iopub.status.busy": "2021-04-16T20:48:01.106914Z",
     "iopub.status.idle": "2021-04-16T20:48:02.277248Z",
     "shell.execute_reply": "2021-04-16T20:48:02.278203Z"
    },
    "papermill": {
     "duration": 1.192333,
     "end_time": "2021-04-16T20:48:02.278447",
     "exception": false,
     "start_time": "2021-04-16T20:48:01.086114",
     "status": "completed"
    },
    "tags": []
   },
   "outputs": [],
   "source": [
    "phenopath_results = phenopathCoefficientOrganizer(**info)()"
   ]
  },
  {
   "cell_type": "code",
   "execution_count": 8,
   "id": "worth-faith",
   "metadata": {
    "execution": {
     "iopub.execute_input": "2021-04-16T20:48:02.314077Z",
     "iopub.status.busy": "2021-04-16T20:48:02.313001Z",
     "iopub.status.idle": "2021-04-16T20:48:02.382699Z",
     "shell.execute_reply": "2021-04-16T20:48:02.383688Z"
    },
    "papermill": {
     "duration": 0.090929,
     "end_time": "2021-04-16T20:48:02.383941",
     "exception": false,
     "start_time": "2021-04-16T20:48:02.293012",
     "status": "completed"
    },
    "tags": []
   },
   "outputs": [],
   "source": [
    "coefs_name = 'phenopath_results.npz'\n",
    "coefs_filepath = '{}/{}'.format(info[\"output_dir\"], coefs_name)\n",
    "np.savez_compressed(coefs_filepath, mode_definitions=mode_definitions, **phenopath_results)"
   ]
  },
  {
   "cell_type": "code",
   "execution_count": 9,
   "id": "demonstrated-integrity",
   "metadata": {
    "execution": {
     "iopub.execute_input": "2021-04-16T20:48:02.422804Z",
     "iopub.status.busy": "2021-04-16T20:48:02.421883Z",
     "iopub.status.idle": "2021-04-16T20:48:02.429269Z",
     "shell.execute_reply": "2021-04-16T20:48:02.430143Z"
    },
    "papermill": {
     "duration": 0.028447,
     "end_time": "2021-04-16T20:48:02.430384",
     "exception": false,
     "start_time": "2021-04-16T20:48:02.401937",
     "status": "completed"
    },
    "tags": []
   },
   "outputs": [],
   "source": [
    "coef_analysis_name = 'analyzed_phenopath_results.npz'\n",
    "coef_analysis_filepath = '{}/{}'.format(info[\"output_dir\"], coef_analysis_name)"
   ]
  },
  {
   "cell_type": "code",
   "execution_count": 10,
   "id": "center-lambda",
   "metadata": {
    "execution": {
     "iopub.execute_input": "2021-04-16T20:48:02.465013Z",
     "iopub.status.busy": "2021-04-16T20:48:02.464037Z",
     "iopub.status.idle": "2021-04-16T20:49:26.594450Z",
     "shell.execute_reply": "2021-04-16T20:49:26.595238Z"
    },
    "papermill": {
     "duration": 84.150147,
     "end_time": "2021-04-16T20:49:26.595465",
     "exception": false,
     "start_time": "2021-04-16T20:48:02.445318",
     "status": "completed"
    },
    "tags": []
   },
   "outputs": [],
   "source": [
    "phenopath_values, analysis_results = Analyzer(coefs_filepath, **info)()\n",
    "np.savez_compressed(coef_analysis_filepath, phenopath_values=phenopath_values, \n",
    "                    mode_definitions=mode_definitions, **analysis_results)"
   ]
  }
 ],
 "metadata": {
  "kernelspec": {
   "display_name": "Python 3",
   "language": "python",
   "name": "python3"
  },
  "language_info": {
   "codemirror_mode": {
    "name": "ipython",
    "version": 3
   },
   "file_extension": ".py",
   "mimetype": "text/x-python",
   "name": "python",
   "nbconvert_exporter": "python",
   "pygments_lexer": "ipython3",
   "version": "3.8.8"
  },
  "papermill": {
   "default_parameters": {},
   "duration": 90.321134,
   "end_time": "2021-04-16T20:49:27.128909",
   "environment_variables": {},
   "exception": null,
   "input_path": "templates/load_and_analyze_phenopath_results.ipynb",
   "output_path": "pct0.02/load_and_analyze_phenopath_results.ag.ipynb",
   "parameters": {
    "percentage": "0.02"
   },
   "start_time": "2021-04-16T20:47:56.807775",
   "version": "2.3.3"
  }
 },
 "nbformat": 4,
 "nbformat_minor": 5
}