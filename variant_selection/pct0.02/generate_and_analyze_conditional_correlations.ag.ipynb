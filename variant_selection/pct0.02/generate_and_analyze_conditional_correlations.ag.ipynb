{
 "cells": [
  {
   "cell_type": "code",
   "execution_count": 1,
   "id": "criminal-removal",
   "metadata": {
    "execution": {
     "iopub.execute_input": "2021-04-16T21:00:10.651373Z",
     "iopub.status.busy": "2021-04-16T21:00:10.649703Z",
     "iopub.status.idle": "2021-04-16T21:00:10.654051Z",
     "shell.execute_reply": "2021-04-16T21:00:10.655125Z"
    },
    "papermill": {
     "duration": 0.03328,
     "end_time": "2021-04-16T21:00:10.655603",
     "exception": false,
     "start_time": "2021-04-16T21:00:10.622323",
     "status": "completed"
    },
    "tags": [
     "injected-parameters"
    ]
   },
   "outputs": [],
   "source": [
    "# Parameters\n",
    "percentage = \"0.02\"\n"
   ]
  },
  {
   "cell_type": "code",
   "execution_count": 2,
   "id": "signal-floor",
   "metadata": {
    "execution": {
     "iopub.execute_input": "2021-04-16T21:00:10.687663Z",
     "iopub.status.busy": "2021-04-16T21:00:10.686555Z",
     "iopub.status.idle": "2021-04-16T21:00:10.868611Z",
     "shell.execute_reply": "2021-04-16T21:00:10.869501Z"
    },
    "papermill": {
     "duration": 0.20104,
     "end_time": "2021-04-16T21:00:10.869779",
     "exception": false,
     "start_time": "2021-04-16T21:00:10.668739",
     "status": "completed"
    },
    "tags": []
   },
   "outputs": [],
   "source": [
    "import numpy as np\n",
    "from itertools import product"
   ]
  },
  {
   "cell_type": "code",
   "execution_count": 3,
   "id": "absolute-territory",
   "metadata": {
    "execution": {
     "iopub.execute_input": "2021-04-16T21:00:10.900869Z",
     "iopub.status.busy": "2021-04-16T21:00:10.899634Z",
     "iopub.status.idle": "2021-04-16T21:00:12.642464Z",
     "shell.execute_reply": "2021-04-16T21:00:12.643964Z"
    },
    "papermill": {
     "duration": 1.761659,
     "end_time": "2021-04-16T21:00:12.644284",
     "exception": false,
     "start_time": "2021-04-16T21:00:10.882625",
     "status": "completed"
    },
    "tags": []
   },
   "outputs": [],
   "source": [
    "from analysis_utils import conditionalCorrelationGenerator, Analyzer\n",
    "from plot_utils import corrVariantsPlotter"
   ]
  },
  {
   "cell_type": "code",
   "execution_count": 4,
   "id": "sufficient-wellington",
   "metadata": {
    "execution": {
     "iopub.execute_input": "2021-04-16T21:00:12.675754Z",
     "iopub.status.busy": "2021-04-16T21:00:12.674741Z",
     "iopub.status.idle": "2021-04-16T21:00:12.678719Z",
     "shell.execute_reply": "2021-04-16T21:00:12.679680Z"
    },
    "papermill": {
     "duration": 0.022445,
     "end_time": "2021-04-16T21:00:12.679991",
     "exception": false,
     "start_time": "2021-04-16T21:00:12.657546",
     "status": "completed"
    },
    "tags": []
   },
   "outputs": [],
   "source": [
    "simulation_dir_name = 'results'\n",
    "output_dir_name = 'conditional_correlations'"
   ]
  },
  {
   "cell_type": "code",
   "execution_count": 5,
   "id": "respective-strap",
   "metadata": {
    "execution": {
     "iopub.execute_input": "2021-04-16T21:00:12.714254Z",
     "iopub.status.busy": "2021-04-16T21:00:12.713211Z",
     "iopub.status.idle": "2021-04-16T21:00:12.717551Z",
     "shell.execute_reply": "2021-04-16T21:00:12.718377Z"
    },
    "papermill": {
     "duration": 0.025256,
     "end_time": "2021-04-16T21:00:12.718644",
     "exception": false,
     "start_time": "2021-04-16T21:00:12.693388",
     "status": "completed"
    },
    "tags": []
   },
   "outputs": [],
   "source": [
    "mode_definitions = corrVariantsPlotter.mode_definitions\n",
    "\n",
    "simulation_dir = 'pct{}/{}'.format(percentage, simulation_dir_name)\n",
    "output_dir = 'pct{}/{}'.format(percentage, output_dir_name)\n",
    "info = {'number_simulations': 100, 'simulation_dir': simulation_dir,\n",
    "        'size': 11, 'seed': 42, 'number_droplets': 100000,\n",
    "       'trimmed_strains':1, 'mode_definitions': mode_definitions,\n",
    "       'output_dir': output_dir,\n",
    "        'base_coefs_name': 'conditional_correlations_averaged_{}.npz',\n",
    "       }"
   ]
  },
  {
   "cell_type": "code",
   "execution_count": 6,
   "id": "infrared-ranch",
   "metadata": {
    "execution": {
     "iopub.execute_input": "2021-04-16T21:00:12.753759Z",
     "iopub.status.busy": "2021-04-16T21:00:12.752115Z",
     "iopub.status.idle": "2021-04-16T21:06:20.880746Z",
     "shell.execute_reply": "2021-04-16T21:06:20.882017Z"
    },
    "papermill": {
     "duration": 368.150548,
     "end_time": "2021-04-16T21:06:20.882350",
     "exception": false,
     "start_time": "2021-04-16T21:00:12.731802",
     "status": "completed"
    },
    "tags": []
   },
   "outputs": [],
   "source": [
    "conditionalCorrelationGenerator(**info)(statistic=\"correlation\")"
   ]
  },
  {
   "cell_type": "code",
   "execution_count": 7,
   "id": "unique-motion",
   "metadata": {
    "execution": {
     "iopub.execute_input": "2021-04-16T21:06:20.916750Z",
     "iopub.status.busy": "2021-04-16T21:06:20.915568Z",
     "iopub.status.idle": "2021-04-16T21:06:20.921822Z",
     "shell.execute_reply": "2021-04-16T21:06:20.922909Z"
    },
    "papermill": {
     "duration": 0.025897,
     "end_time": "2021-04-16T21:06:20.923224",
     "exception": false,
     "start_time": "2021-04-16T21:06:20.897327",
     "status": "completed"
    },
    "tags": []
   },
   "outputs": [],
   "source": [
    "base_coefs_filepath = '{}/{}'.format(info[\"output_dir\"], info[\"base_coefs_name\"])\n",
    "\n",
    "base_coef_analysis_name = 'analyzed_corr_coef_results_{}.npz'\n",
    "base_coef_analysis_filepath = '{}/{}'.format(info[\"output_dir\"], base_coef_analysis_name)"
   ]
  },
  {
   "cell_type": "code",
   "execution_count": 8,
   "id": "entire-repository",
   "metadata": {
    "execution": {
     "iopub.execute_input": "2021-04-16T21:06:20.961327Z",
     "iopub.status.busy": "2021-04-16T21:06:20.959871Z",
     "iopub.status.idle": "2021-04-16T21:12:11.861899Z",
     "shell.execute_reply": "2021-04-16T21:12:11.862983Z"
    },
    "papermill": {
     "duration": 350.926366,
     "end_time": "2021-04-16T21:12:11.863290",
     "exception": false,
     "start_time": "2021-04-16T21:06:20.936924",
     "status": "completed"
    },
    "tags": []
   },
   "outputs": [],
   "source": [
    "for experiment_type, control_type in product(['gluttonous', 'picky'], repeat=2):\n",
    "    \n",
    "    shorthand = (experiment_type[0]+control_type[0])\n",
    "    coefs_filepath = base_coefs_filepath.format(shorthand)\n",
    "    coef_analysis_filepath = base_coef_analysis_filepath.format(shorthand)\n",
    "    \n",
    "    corr_coef_values, analysis_results = Analyzer(coefs_filepath, **info)()\n",
    "    np.savez_compressed(coef_analysis_filepath, corr_coef_values=corr_coef_values, \n",
    "                        mode_definitions=mode_definitions, **analysis_results)"
   ]
  }
 ],
 "metadata": {
  "kernelspec": {
   "display_name": "Python 3",
   "language": "python",
   "name": "python3"
  },
  "language_info": {
   "codemirror_mode": {
    "name": "ipython",
    "version": 3
   },
   "file_extension": ".py",
   "mimetype": "text/x-python",
   "name": "python",
   "nbconvert_exporter": "python",
   "pygments_lexer": "ipython3",
   "version": "3.8.8"
  },
  "papermill": {
   "default_parameters": {},
   "duration": 723.261146,
   "end_time": "2021-04-16T21:12:12.406981",
   "environment_variables": {},
   "exception": null,
   "input_path": "templates/generate_and_analyze_conditional_correlations.ipynb",
   "output_path": "pct0.02/generate_and_analyze_conditional_correlations.ag.ipynb",
   "parameters": {
    "percentage": "0.02"
   },
   "start_time": "2021-04-16T21:00:09.145835",
   "version": "2.3.3"
  }
 },
 "nbformat": 4,
 "nbformat_minor": 5
}