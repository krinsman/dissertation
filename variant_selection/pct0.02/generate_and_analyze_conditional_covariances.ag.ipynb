{
 "cells": [
  {
   "cell_type": "code",
   "execution_count": 1,
   "id": "introductory-wound",
   "metadata": {
    "execution": {
     "iopub.execute_input": "2021-04-16T18:31:58.078562Z",
     "iopub.status.busy": "2021-04-16T18:31:58.077511Z",
     "iopub.status.idle": "2021-04-16T18:31:58.084803Z",
     "shell.execute_reply": "2021-04-16T18:31:58.085616Z"
    },
    "papermill": {
     "duration": 0.035276,
     "end_time": "2021-04-16T18:31:58.086126",
     "exception": false,
     "start_time": "2021-04-16T18:31:58.050850",
     "status": "completed"
    },
    "tags": [
     "injected-parameters"
    ]
   },
   "outputs": [],
   "source": [
    "# Parameters\n",
    "percentage = \"0.02\"\n"
   ]
  },
  {
   "cell_type": "code",
   "execution_count": 2,
   "id": "recreational-geography",
   "metadata": {
    "execution": {
     "iopub.execute_input": "2021-04-16T18:31:58.122759Z",
     "iopub.status.busy": "2021-04-16T18:31:58.121755Z",
     "iopub.status.idle": "2021-04-16T18:31:58.530108Z",
     "shell.execute_reply": "2021-04-16T18:31:58.531223Z"
    },
    "papermill": {
     "duration": 0.429321,
     "end_time": "2021-04-16T18:31:58.531522",
     "exception": false,
     "start_time": "2021-04-16T18:31:58.102201",
     "status": "completed"
    },
    "tags": []
   },
   "outputs": [],
   "source": [
    "import numpy as np\n",
    "from itertools import product"
   ]
  },
  {
   "cell_type": "code",
   "execution_count": 3,
   "id": "established-detector",
   "metadata": {
    "execution": {
     "iopub.execute_input": "2021-04-16T18:31:58.670853Z",
     "iopub.status.busy": "2021-04-16T18:31:58.669772Z",
     "iopub.status.idle": "2021-04-16T18:32:03.379241Z",
     "shell.execute_reply": "2021-04-16T18:32:03.397097Z"
    },
    "papermill": {
     "duration": 4.74636,
     "end_time": "2021-04-16T18:32:03.397362",
     "exception": false,
     "start_time": "2021-04-16T18:31:58.651002",
     "status": "completed"
    },
    "tags": []
   },
   "outputs": [],
   "source": [
    "from analysis_utils import conditionalCorrelationGenerator, Analyzer\n",
    "from plot_utils import corrVariantsPlotter"
   ]
  },
  {
   "cell_type": "code",
   "execution_count": 4,
   "id": "bright-electricity",
   "metadata": {
    "execution": {
     "iopub.execute_input": "2021-04-16T18:32:03.428618Z",
     "iopub.status.busy": "2021-04-16T18:32:03.427502Z",
     "iopub.status.idle": "2021-04-16T18:32:03.432263Z",
     "shell.execute_reply": "2021-04-16T18:32:03.433468Z"
    },
    "papermill": {
     "duration": 0.02442,
     "end_time": "2021-04-16T18:32:03.433811",
     "exception": false,
     "start_time": "2021-04-16T18:32:03.409391",
     "status": "completed"
    },
    "tags": []
   },
   "outputs": [],
   "source": [
    "simulation_dir_name = 'results'\n",
    "output_dir_name = 'conditional_covariances'"
   ]
  },
  {
   "cell_type": "code",
   "execution_count": 5,
   "id": "becoming-productivity",
   "metadata": {
    "execution": {
     "iopub.execute_input": "2021-04-16T18:32:03.470541Z",
     "iopub.status.busy": "2021-04-16T18:32:03.469413Z",
     "iopub.status.idle": "2021-04-16T18:32:03.472978Z",
     "shell.execute_reply": "2021-04-16T18:32:03.473923Z"
    },
    "papermill": {
     "duration": 0.026732,
     "end_time": "2021-04-16T18:32:03.474189",
     "exception": false,
     "start_time": "2021-04-16T18:32:03.447457",
     "status": "completed"
    },
    "tags": []
   },
   "outputs": [],
   "source": [
    "mode_definitions = corrVariantsPlotter.mode_definitions\n",
    "\n",
    "simulation_dir = 'pct{}/{}'.format(percentage, simulation_dir_name)\n",
    "output_dir = 'pct{}/{}'.format(percentage, output_dir_name)\n",
    "info = {'number_simulations': 100, 'simulation_dir': simulation_dir,\n",
    "        'size': 11, 'seed': 42, 'number_droplets': 100000,\n",
    "       'trimmed_strains':1, 'mode_definitions': mode_definitions,\n",
    "       'output_dir': output_dir,\n",
    "        'base_coefs_name': 'conditional_covariances_averaged_{}.npz',\n",
    "       }"
   ]
  },
  {
   "cell_type": "code",
   "execution_count": 6,
   "id": "accredited-dependence",
   "metadata": {
    "execution": {
     "iopub.execute_input": "2021-04-16T18:32:03.557510Z",
     "iopub.status.busy": "2021-04-16T18:32:03.556366Z",
     "iopub.status.idle": "2021-04-16T18:50:02.378909Z",
     "shell.execute_reply": "2021-04-16T18:50:02.376481Z"
    },
    "papermill": {
     "duration": 1078.889322,
     "end_time": "2021-04-16T18:50:02.379753",
     "exception": false,
     "start_time": "2021-04-16T18:32:03.490431",
     "status": "completed"
    },
    "tags": []
   },
   "outputs": [],
   "source": [
    "conditionalCorrelationGenerator(**info)(statistic=\"covariance\")"
   ]
  },
  {
   "cell_type": "code",
   "execution_count": 7,
   "id": "upset-immune",
   "metadata": {
    "execution": {
     "iopub.execute_input": "2021-04-16T18:50:02.432548Z",
     "iopub.status.busy": "2021-04-16T18:50:02.431509Z",
     "iopub.status.idle": "2021-04-16T18:50:02.435708Z",
     "shell.execute_reply": "2021-04-16T18:50:02.434571Z"
    },
    "papermill": {
     "duration": 0.031626,
     "end_time": "2021-04-16T18:50:02.435945",
     "exception": false,
     "start_time": "2021-04-16T18:50:02.404319",
     "status": "completed"
    },
    "tags": []
   },
   "outputs": [],
   "source": [
    "base_coefs_filepath = '{}/{}'.format(info[\"output_dir\"], info[\"base_coefs_name\"])\n",
    "\n",
    "base_coef_analysis_name = 'analyzed_covariance_results_{}.npz'\n",
    "base_coef_analysis_filepath = '{}/{}'.format(info[\"output_dir\"], base_coef_analysis_name)"
   ]
  },
  {
   "cell_type": "code",
   "execution_count": 8,
   "id": "legal-recognition",
   "metadata": {
    "execution": {
     "iopub.execute_input": "2021-04-16T18:50:02.514897Z",
     "iopub.status.busy": "2021-04-16T18:50:02.513168Z",
     "iopub.status.idle": "2021-04-16T19:06:46.006915Z",
     "shell.execute_reply": "2021-04-16T19:06:46.015457Z"
    },
    "papermill": {
     "duration": 1003.562933,
     "end_time": "2021-04-16T19:06:46.015720",
     "exception": false,
     "start_time": "2021-04-16T18:50:02.452787",
     "status": "completed"
    },
    "tags": []
   },
   "outputs": [],
   "source": [
    "for experiment_type, control_type in product(['gluttonous', 'picky'], repeat=2):\n",
    "    \n",
    "    shorthand = (experiment_type[0]+control_type[0])\n",
    "    coefs_filepath = base_coefs_filepath.format(shorthand)\n",
    "    coef_analysis_filepath = base_coef_analysis_filepath.format(shorthand)\n",
    "    \n",
    "    corr_coef_values, analysis_results = Analyzer(coefs_filepath, **info)()\n",
    "    np.savez_compressed(coef_analysis_filepath, corr_coef_values=corr_coef_values, \n",
    "                        mode_definitions=mode_definitions, **analysis_results)"
   ]
  }
 ],
 "metadata": {
  "kernelspec": {
   "display_name": "Python 3",
   "language": "python",
   "name": "python3"
  },
  "language_info": {
   "codemirror_mode": {
    "name": "ipython",
    "version": 3
   },
   "file_extension": ".py",
   "mimetype": "text/x-python",
   "name": "python",
   "nbconvert_exporter": "python",
   "pygments_lexer": "ipython3",
   "version": "3.8.8"
  },
  "papermill": {
   "default_parameters": {},
   "duration": 2095.498054,
   "end_time": "2021-04-16T19:06:47.798177",
   "environment_variables": {},
   "exception": null,
   "input_path": "templates/generate_and_analyze_conditional_covariances.ipynb",
   "output_path": "pct0.02/generate_and_analyze_conditional_covariances.ag.ipynb",
   "parameters": {
    "percentage": "0.02"
   },
   "start_time": "2021-04-16T18:31:52.300123",
   "version": "2.3.3"
  }
 },
 "nbformat": 4,
 "nbformat_minor": 5
}