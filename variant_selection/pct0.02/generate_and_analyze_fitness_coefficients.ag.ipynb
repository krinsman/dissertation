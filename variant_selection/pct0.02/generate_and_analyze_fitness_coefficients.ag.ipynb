{
 "cells": [
  {
   "cell_type": "code",
   "execution_count": 1,
   "id": "straight-relief",
   "metadata": {
    "execution": {
     "iopub.execute_input": "2021-04-16T20:49:27.987183Z",
     "iopub.status.busy": "2021-04-16T20:49:27.986175Z",
     "iopub.status.idle": "2021-04-16T20:49:27.989232Z",
     "shell.execute_reply": "2021-04-16T20:49:27.989995Z"
    },
    "papermill": {
     "duration": 0.028736,
     "end_time": "2021-04-16T20:49:27.990291",
     "exception": false,
     "start_time": "2021-04-16T20:49:27.961555",
     "status": "completed"
    },
    "tags": [
     "injected-parameters"
    ]
   },
   "outputs": [],
   "source": [
    "# Parameters\n",
    "percentage = \"0.02\"\n"
   ]
  },
  {
   "cell_type": "code",
   "execution_count": 2,
   "id": "organized-haven",
   "metadata": {
    "execution": {
     "iopub.execute_input": "2021-04-16T20:49:28.010088Z",
     "iopub.status.busy": "2021-04-16T20:49:28.009122Z",
     "iopub.status.idle": "2021-04-16T20:49:28.149709Z",
     "shell.execute_reply": "2021-04-16T20:49:28.150469Z"
    },
    "papermill": {
     "duration": 0.152061,
     "end_time": "2021-04-16T20:49:28.150721",
     "exception": false,
     "start_time": "2021-04-16T20:49:27.998660",
     "status": "completed"
    },
    "tags": []
   },
   "outputs": [],
   "source": [
    "import numpy as np\n",
    "from itertools import product"
   ]
  },
  {
   "cell_type": "code",
   "execution_count": 3,
   "id": "abstract-import",
   "metadata": {
    "execution": {
     "iopub.execute_input": "2021-04-16T20:49:28.175625Z",
     "iopub.status.busy": "2021-04-16T20:49:28.174592Z",
     "iopub.status.idle": "2021-04-16T20:49:29.676323Z",
     "shell.execute_reply": "2021-04-16T20:49:29.677202Z"
    },
    "papermill": {
     "duration": 1.514713,
     "end_time": "2021-04-16T20:49:29.677455",
     "exception": false,
     "start_time": "2021-04-16T20:49:28.162742",
     "status": "completed"
    },
    "tags": []
   },
   "outputs": [],
   "source": [
    "from analysis_utils import fitnessGenerator, Analyzer\n",
    "from plot_utils import fitnessVariantsPlotter"
   ]
  },
  {
   "cell_type": "code",
   "execution_count": 4,
   "id": "smaller-swiss",
   "metadata": {
    "execution": {
     "iopub.execute_input": "2021-04-16T20:49:29.707587Z",
     "iopub.status.busy": "2021-04-16T20:49:29.706595Z",
     "iopub.status.idle": "2021-04-16T20:49:29.710387Z",
     "shell.execute_reply": "2021-04-16T20:49:29.711136Z"
    },
    "papermill": {
     "duration": 0.02171,
     "end_time": "2021-04-16T20:49:29.711392",
     "exception": false,
     "start_time": "2021-04-16T20:49:29.689682",
     "status": "completed"
    },
    "tags": []
   },
   "outputs": [],
   "source": [
    "simulation_dir_name = 'results'\n",
    "output_dir_name = 'fitness_coefs'"
   ]
  },
  {
   "cell_type": "code",
   "execution_count": 5,
   "id": "traditional-peripheral",
   "metadata": {
    "execution": {
     "iopub.execute_input": "2021-04-16T20:49:29.744350Z",
     "iopub.status.busy": "2021-04-16T20:49:29.743236Z",
     "iopub.status.idle": "2021-04-16T20:49:29.747070Z",
     "shell.execute_reply": "2021-04-16T20:49:29.747970Z"
    },
    "papermill": {
     "duration": 0.024991,
     "end_time": "2021-04-16T20:49:29.748264",
     "exception": false,
     "start_time": "2021-04-16T20:49:29.723273",
     "status": "completed"
    },
    "tags": []
   },
   "outputs": [],
   "source": [
    "mode_definitions = fitnessVariantsPlotter.mode_definitions\n",
    "\n",
    "simulation_dir = 'pct{}/{}'.format(percentage, simulation_dir_name)\n",
    "output_dir = 'pct{}/{}'.format(percentage, output_dir_name)\n",
    "info = {'number_simulations': 100, 'simulation_dir': simulation_dir,\n",
    "        'size': 11, 'seed': 42, 'number_droplets': 100000,\n",
    "       'trimmed_strains':1, 'mode_definitions': mode_definitions,\n",
    "       'output_dir': output_dir,\n",
    "        'base_coefs_name': 'fitness_coefs_averaged_{}.npz',\n",
    "       }"
   ]
  },
  {
   "cell_type": "code",
   "execution_count": 6,
   "id": "excellent-notebook",
   "metadata": {
    "execution": {
     "iopub.execute_input": "2021-04-16T20:49:29.779362Z",
     "iopub.status.busy": "2021-04-16T20:49:29.778311Z",
     "iopub.status.idle": "2021-04-16T20:53:44.467979Z",
     "shell.execute_reply": "2021-04-16T20:53:44.469233Z"
    },
    "papermill": {
     "duration": 254.709146,
     "end_time": "2021-04-16T20:53:44.469758",
     "exception": false,
     "start_time": "2021-04-16T20:49:29.760612",
     "status": "completed"
    },
    "tags": []
   },
   "outputs": [],
   "source": [
    "fitnessGenerator(**info)()"
   ]
  },
  {
   "cell_type": "code",
   "execution_count": 7,
   "id": "based-crown",
   "metadata": {
    "execution": {
     "iopub.execute_input": "2021-04-16T20:53:44.517688Z",
     "iopub.status.busy": "2021-04-16T20:53:44.516399Z",
     "iopub.status.idle": "2021-04-16T20:53:44.524886Z",
     "shell.execute_reply": "2021-04-16T20:53:44.527037Z"
    },
    "papermill": {
     "duration": 0.033104,
     "end_time": "2021-04-16T20:53:44.527801",
     "exception": false,
     "start_time": "2021-04-16T20:53:44.494697",
     "status": "completed"
    },
    "tags": []
   },
   "outputs": [],
   "source": [
    "base_coefs_filepath = '{}/{}'.format(info[\"output_dir\"], info[\"base_coefs_name\"])\n",
    "\n",
    "base_coef_analysis_name = 'analyzed_fitness_coef_results_{}.npz'\n",
    "base_coef_analysis_filepath = '{}/{}'.format(info[\"output_dir\"], base_coef_analysis_name)"
   ]
  },
  {
   "cell_type": "code",
   "execution_count": 8,
   "id": "directed-support",
   "metadata": {
    "execution": {
     "iopub.execute_input": "2021-04-16T20:53:44.573539Z",
     "iopub.status.busy": "2021-04-16T20:53:44.571942Z",
     "iopub.status.idle": "2021-04-16T20:59:32.897265Z",
     "shell.execute_reply": "2021-04-16T20:59:32.898109Z"
    },
    "papermill": {
     "duration": 348.350829,
     "end_time": "2021-04-16T20:59:32.898357",
     "exception": false,
     "start_time": "2021-04-16T20:53:44.547528",
     "status": "completed"
    },
    "tags": []
   },
   "outputs": [],
   "source": [
    "for experiment_type, control_type in product(['gluttonous', 'picky'], repeat=2):\n",
    "    \n",
    "    shorthand = (experiment_type[0]+control_type[0])\n",
    "    coefs_filepath = base_coefs_filepath.format(shorthand)\n",
    "    coef_analysis_filepath = base_coef_analysis_filepath.format(shorthand)\n",
    "    \n",
    "    fitness_coef_values, analysis_results = Analyzer(coefs_filepath, **info)()\n",
    "    np.savez_compressed(coef_analysis_filepath, fitness_coef_values=fitness_coef_values, \n",
    "                        mode_definitions=mode_definitions, **analysis_results)"
   ]
  }
 ],
 "metadata": {
  "kernelspec": {
   "display_name": "Python 3",
   "language": "python",
   "name": "python3"
  },
  "language_info": {
   "codemirror_mode": {
    "name": "ipython",
    "version": 3
   },
   "file_extension": ".py",
   "mimetype": "text/x-python",
   "name": "python",
   "nbconvert_exporter": "python",
   "pygments_lexer": "ipython3",
   "version": "3.8.8"
  },
  "papermill": {
   "default_parameters": {},
   "duration": 606.750736,
   "end_time": "2021-04-16T20:59:33.442579",
   "environment_variables": {},
   "exception": null,
   "input_path": "templates/generate_and_analyze_fitness_coefficients.ipynb",
   "output_path": "pct0.02/generate_and_analyze_fitness_coefficients.ag.ipynb",
   "parameters": {
    "percentage": "0.02"
   },
   "start_time": "2021-04-16T20:49:26.691843",
   "version": "2.3.3"
  }
 },
 "nbformat": 4,
 "nbformat_minor": 5
}