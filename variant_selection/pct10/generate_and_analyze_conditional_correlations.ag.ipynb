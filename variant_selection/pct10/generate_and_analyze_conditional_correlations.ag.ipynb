{
 "cells": [
  {
   "cell_type": "code",
   "execution_count": 1,
   "id": "mighty-mauritius",
   "metadata": {
    "execution": {
     "iopub.execute_input": "2021-04-16T21:14:21.869871Z",
     "iopub.status.busy": "2021-04-16T21:14:21.868606Z",
     "iopub.status.idle": "2021-04-16T21:14:21.872874Z",
     "shell.execute_reply": "2021-04-16T21:14:21.873815Z"
    },
    "papermill": {
     "duration": 0.034344,
     "end_time": "2021-04-16T21:14:21.874240",
     "exception": false,
     "start_time": "2021-04-16T21:14:21.839896",
     "status": "completed"
    },
    "tags": [
     "injected-parameters"
    ]
   },
   "outputs": [],
   "source": [
    "# Parameters\n",
    "percentage = \"10\"\n"
   ]
  },
  {
   "cell_type": "code",
   "execution_count": 2,
   "id": "signal-floor",
   "metadata": {
    "execution": {
     "iopub.execute_input": "2021-04-16T21:14:21.907418Z",
     "iopub.status.busy": "2021-04-16T21:14:21.906224Z",
     "iopub.status.idle": "2021-04-16T21:14:22.119634Z",
     "shell.execute_reply": "2021-04-16T21:14:22.120498Z"
    },
    "papermill": {
     "duration": 0.232575,
     "end_time": "2021-04-16T21:14:22.120798",
     "exception": false,
     "start_time": "2021-04-16T21:14:21.888223",
     "status": "completed"
    },
    "tags": []
   },
   "outputs": [],
   "source": [
    "import numpy as np\n",
    "from itertools import product"
   ]
  },
  {
   "cell_type": "code",
   "execution_count": 3,
   "id": "absolute-territory",
   "metadata": {
    "execution": {
     "iopub.execute_input": "2021-04-16T21:14:22.152951Z",
     "iopub.status.busy": "2021-04-16T21:14:22.151755Z",
     "iopub.status.idle": "2021-04-16T21:14:24.064276Z",
     "shell.execute_reply": "2021-04-16T21:14:24.065449Z"
    },
    "papermill": {
     "duration": 1.931827,
     "end_time": "2021-04-16T21:14:24.065759",
     "exception": false,
     "start_time": "2021-04-16T21:14:22.133932",
     "status": "completed"
    },
    "tags": []
   },
   "outputs": [],
   "source": [
    "from analysis_utils import conditionalCorrelationGenerator, Analyzer\n",
    "from plot_utils import corrVariantsPlotter"
   ]
  },
  {
   "cell_type": "code",
   "execution_count": 4,
   "id": "sufficient-wellington",
   "metadata": {
    "execution": {
     "iopub.execute_input": "2021-04-16T21:14:24.098050Z",
     "iopub.status.busy": "2021-04-16T21:14:24.096993Z",
     "iopub.status.idle": "2021-04-16T21:14:24.100813Z",
     "shell.execute_reply": "2021-04-16T21:14:24.101661Z"
    },
    "papermill": {
     "duration": 0.022908,
     "end_time": "2021-04-16T21:14:24.101936",
     "exception": false,
     "start_time": "2021-04-16T21:14:24.079028",
     "status": "completed"
    },
    "tags": []
   },
   "outputs": [],
   "source": [
    "simulation_dir_name = 'results'\n",
    "output_dir_name = 'conditional_correlations'"
   ]
  },
  {
   "cell_type": "code",
   "execution_count": 5,
   "id": "respective-strap",
   "metadata": {
    "execution": {
     "iopub.execute_input": "2021-04-16T21:14:24.135818Z",
     "iopub.status.busy": "2021-04-16T21:14:24.134516Z",
     "iopub.status.idle": "2021-04-16T21:14:24.139141Z",
     "shell.execute_reply": "2021-04-16T21:14:24.139979Z"
    },
    "papermill": {
     "duration": 0.025393,
     "end_time": "2021-04-16T21:14:24.140245",
     "exception": false,
     "start_time": "2021-04-16T21:14:24.114852",
     "status": "completed"
    },
    "tags": []
   },
   "outputs": [],
   "source": [
    "mode_definitions = corrVariantsPlotter.mode_definitions\n",
    "\n",
    "simulation_dir = 'pct{}/{}'.format(percentage, simulation_dir_name)\n",
    "output_dir = 'pct{}/{}'.format(percentage, output_dir_name)\n",
    "info = {'number_simulations': 100, 'simulation_dir': simulation_dir,\n",
    "        'size': 11, 'seed': 42, 'number_droplets': 100000,\n",
    "       'trimmed_strains':1, 'mode_definitions': mode_definitions,\n",
    "       'output_dir': output_dir,\n",
    "        'base_coefs_name': 'conditional_correlations_averaged_{}.npz',\n",
    "       }"
   ]
  },
  {
   "cell_type": "code",
   "execution_count": 6,
   "id": "infrared-ranch",
   "metadata": {
    "execution": {
     "iopub.execute_input": "2021-04-16T21:14:24.171791Z",
     "iopub.status.busy": "2021-04-16T21:14:24.170668Z",
     "iopub.status.idle": "2021-04-16T21:37:35.065741Z",
     "shell.execute_reply": "2021-04-16T21:37:35.066224Z"
    },
    "papermill": {
     "duration": 1390.913244,
     "end_time": "2021-04-16T21:37:35.066385",
     "exception": false,
     "start_time": "2021-04-16T21:14:24.153141",
     "status": "completed"
    },
    "tags": []
   },
   "outputs": [],
   "source": [
    "conditionalCorrelationGenerator(**info)(statistic=\"correlation\")"
   ]
  },
  {
   "cell_type": "code",
   "execution_count": 7,
   "id": "unique-motion",
   "metadata": {
    "execution": {
     "iopub.execute_input": "2021-04-16T21:37:35.088266Z",
     "iopub.status.busy": "2021-04-16T21:37:35.087637Z",
     "iopub.status.idle": "2021-04-16T21:37:35.089878Z",
     "shell.execute_reply": "2021-04-16T21:37:35.090345Z"
    },
    "papermill": {
     "duration": 0.016166,
     "end_time": "2021-04-16T21:37:35.090493",
     "exception": false,
     "start_time": "2021-04-16T21:37:35.074327",
     "status": "completed"
    },
    "tags": []
   },
   "outputs": [],
   "source": [
    "base_coefs_filepath = '{}/{}'.format(info[\"output_dir\"], info[\"base_coefs_name\"])\n",
    "\n",
    "base_coef_analysis_name = 'analyzed_corr_coef_results_{}.npz'\n",
    "base_coef_analysis_filepath = '{}/{}'.format(info[\"output_dir\"], base_coef_analysis_name)"
   ]
  },
  {
   "cell_type": "code",
   "execution_count": 8,
   "id": "entire-repository",
   "metadata": {
    "execution": {
     "iopub.execute_input": "2021-04-16T21:37:35.112745Z",
     "iopub.status.busy": "2021-04-16T21:37:35.111742Z",
     "iopub.status.idle": "2021-04-16T21:41:14.687922Z",
     "shell.execute_reply": "2021-04-16T21:41:14.688589Z"
    },
    "papermill": {
     "duration": 219.591008,
     "end_time": "2021-04-16T21:41:14.688812",
     "exception": false,
     "start_time": "2021-04-16T21:37:35.097804",
     "status": "completed"
    },
    "tags": []
   },
   "outputs": [],
   "source": [
    "for experiment_type, control_type in product(['gluttonous', 'picky'], repeat=2):\n",
    "    \n",
    "    shorthand = (experiment_type[0]+control_type[0])\n",
    "    coefs_filepath = base_coefs_filepath.format(shorthand)\n",
    "    coef_analysis_filepath = base_coef_analysis_filepath.format(shorthand)\n",
    "    \n",
    "    corr_coef_values, analysis_results = Analyzer(coefs_filepath, **info)()\n",
    "    np.savez_compressed(coef_analysis_filepath, corr_coef_values=corr_coef_values, \n",
    "                        mode_definitions=mode_definitions, **analysis_results)"
   ]
  }
 ],
 "metadata": {
  "kernelspec": {
   "display_name": "Python 3",
   "language": "python",
   "name": "python3"
  },
  "language_info": {
   "codemirror_mode": {
    "name": "ipython",
    "version": 3
   },
   "file_extension": ".py",
   "mimetype": "text/x-python",
   "name": "python",
   "nbconvert_exporter": "python",
   "pygments_lexer": "ipython3",
   "version": "3.8.8"
  },
  "papermill": {
   "default_parameters": {},
   "duration": 1614.86782,
   "end_time": "2021-04-16T21:41:15.110374",
   "environment_variables": {},
   "exception": null,
   "input_path": "templates/generate_and_analyze_conditional_correlations.ipynb",
   "output_path": "pct10/generate_and_analyze_conditional_correlations.ag.ipynb",
   "parameters": {
    "percentage": "10"
   },
   "start_time": "2021-04-16T21:14:20.242554",
   "version": "2.3.3"
  }
 },
 "nbformat": 4,
 "nbformat_minor": 5
}