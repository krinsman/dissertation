{
 "cells": [
  {
   "cell_type": "code",
   "execution_count": 1,
   "id": "conditional-internet",
   "metadata": {
    "execution": {
     "iopub.execute_input": "2021-04-16T20:59:36.395451Z",
     "iopub.status.busy": "2021-04-16T20:59:36.394430Z",
     "iopub.status.idle": "2021-04-16T20:59:36.403409Z",
     "shell.execute_reply": "2021-04-16T20:59:36.404304Z"
    },
    "papermill": {
     "duration": 0.032937,
     "end_time": "2021-04-16T20:59:36.404700",
     "exception": false,
     "start_time": "2021-04-16T20:59:36.371763",
     "status": "completed"
    },
    "tags": [
     "injected-parameters"
    ]
   },
   "outputs": [],
   "source": [
    "# Parameters\n",
    "percentage = \"10\"\n"
   ]
  },
  {
   "cell_type": "code",
   "execution_count": 2,
   "id": "organized-haven",
   "metadata": {
    "execution": {
     "iopub.execute_input": "2021-04-16T20:59:36.435944Z",
     "iopub.status.busy": "2021-04-16T20:59:36.434845Z",
     "iopub.status.idle": "2021-04-16T20:59:36.605478Z",
     "shell.execute_reply": "2021-04-16T20:59:36.606685Z"
    },
    "papermill": {
     "duration": 0.189198,
     "end_time": "2021-04-16T20:59:36.606941",
     "exception": false,
     "start_time": "2021-04-16T20:59:36.417743",
     "status": "completed"
    },
    "tags": []
   },
   "outputs": [],
   "source": [
    "import numpy as np\n",
    "from itertools import product"
   ]
  },
  {
   "cell_type": "code",
   "execution_count": 3,
   "id": "abstract-import",
   "metadata": {
    "execution": {
     "iopub.execute_input": "2021-04-16T20:59:36.639757Z",
     "iopub.status.busy": "2021-04-16T20:59:36.638741Z",
     "iopub.status.idle": "2021-04-16T20:59:38.177372Z",
     "shell.execute_reply": "2021-04-16T20:59:38.178977Z"
    },
    "papermill": {
     "duration": 1.559049,
     "end_time": "2021-04-16T20:59:38.179242",
     "exception": false,
     "start_time": "2021-04-16T20:59:36.620193",
     "status": "completed"
    },
    "tags": []
   },
   "outputs": [],
   "source": [
    "from analysis_utils import fitnessGenerator, Analyzer\n",
    "from plot_utils import fitnessVariantsPlotter"
   ]
  },
  {
   "cell_type": "code",
   "execution_count": 4,
   "id": "smaller-swiss",
   "metadata": {
    "execution": {
     "iopub.execute_input": "2021-04-16T20:59:38.210235Z",
     "iopub.status.busy": "2021-04-16T20:59:38.208334Z",
     "iopub.status.idle": "2021-04-16T20:59:38.215819Z",
     "shell.execute_reply": "2021-04-16T20:59:38.217243Z"
    },
    "papermill": {
     "duration": 0.025384,
     "end_time": "2021-04-16T20:59:38.217535",
     "exception": false,
     "start_time": "2021-04-16T20:59:38.192151",
     "status": "completed"
    },
    "tags": []
   },
   "outputs": [],
   "source": [
    "simulation_dir_name = 'results'\n",
    "output_dir_name = 'fitness_coefs'"
   ]
  },
  {
   "cell_type": "code",
   "execution_count": 5,
   "id": "traditional-peripheral",
   "metadata": {
    "execution": {
     "iopub.execute_input": "2021-04-16T20:59:38.253787Z",
     "iopub.status.busy": "2021-04-16T20:59:38.247647Z",
     "iopub.status.idle": "2021-04-16T20:59:38.258640Z",
     "shell.execute_reply": "2021-04-16T20:59:38.259552Z"
    },
    "papermill": {
     "duration": 0.029174,
     "end_time": "2021-04-16T20:59:38.259781",
     "exception": false,
     "start_time": "2021-04-16T20:59:38.230607",
     "status": "completed"
    },
    "tags": []
   },
   "outputs": [],
   "source": [
    "mode_definitions = fitnessVariantsPlotter.mode_definitions\n",
    "\n",
    "simulation_dir = 'pct{}/{}'.format(percentage, simulation_dir_name)\n",
    "output_dir = 'pct{}/{}'.format(percentage, output_dir_name)\n",
    "info = {'number_simulations': 100, 'simulation_dir': simulation_dir,\n",
    "        'size': 11, 'seed': 42, 'number_droplets': 100000,\n",
    "       'trimmed_strains':1, 'mode_definitions': mode_definitions,\n",
    "       'output_dir': output_dir,\n",
    "        'base_coefs_name': 'fitness_coefs_averaged_{}.npz',\n",
    "       }"
   ]
  },
  {
   "cell_type": "code",
   "execution_count": 6,
   "id": "excellent-notebook",
   "metadata": {
    "execution": {
     "iopub.execute_input": "2021-04-16T20:59:38.293774Z",
     "iopub.status.busy": "2021-04-16T20:59:38.292750Z",
     "iopub.status.idle": "2021-04-16T21:13:26.760249Z",
     "shell.execute_reply": "2021-04-16T21:13:26.761143Z"
    },
    "papermill": {
     "duration": 828.487915,
     "end_time": "2021-04-16T21:13:26.761453",
     "exception": false,
     "start_time": "2021-04-16T20:59:38.273538",
     "status": "completed"
    },
    "tags": []
   },
   "outputs": [],
   "source": [
    "fitnessGenerator(**info)()"
   ]
  },
  {
   "cell_type": "code",
   "execution_count": 7,
   "id": "based-crown",
   "metadata": {
    "execution": {
     "iopub.execute_input": "2021-04-16T21:13:26.797478Z",
     "iopub.status.busy": "2021-04-16T21:13:26.793397Z",
     "iopub.status.idle": "2021-04-16T21:13:26.802167Z",
     "shell.execute_reply": "2021-04-16T21:13:26.803250Z"
    },
    "papermill": {
     "duration": 0.028038,
     "end_time": "2021-04-16T21:13:26.803523",
     "exception": false,
     "start_time": "2021-04-16T21:13:26.775485",
     "status": "completed"
    },
    "tags": []
   },
   "outputs": [],
   "source": [
    "base_coefs_filepath = '{}/{}'.format(info[\"output_dir\"], info[\"base_coefs_name\"])\n",
    "\n",
    "base_coef_analysis_name = 'analyzed_fitness_coef_results_{}.npz'\n",
    "base_coef_analysis_filepath = '{}/{}'.format(info[\"output_dir\"], base_coef_analysis_name)"
   ]
  },
  {
   "cell_type": "code",
   "execution_count": 8,
   "id": "directed-support",
   "metadata": {
    "execution": {
     "iopub.execute_input": "2021-04-16T21:13:26.840306Z",
     "iopub.status.busy": "2021-04-16T21:13:26.839187Z",
     "iopub.status.idle": "2021-04-16T21:19:13.291108Z",
     "shell.execute_reply": "2021-04-16T21:19:13.292039Z"
    },
    "papermill": {
     "duration": 346.474917,
     "end_time": "2021-04-16T21:19:13.292323",
     "exception": false,
     "start_time": "2021-04-16T21:13:26.817406",
     "status": "completed"
    },
    "tags": []
   },
   "outputs": [],
   "source": [
    "for experiment_type, control_type in product(['gluttonous', 'picky'], repeat=2):\n",
    "    \n",
    "    shorthand = (experiment_type[0]+control_type[0])\n",
    "    coefs_filepath = base_coefs_filepath.format(shorthand)\n",
    "    coef_analysis_filepath = base_coef_analysis_filepath.format(shorthand)\n",
    "    \n",
    "    fitness_coef_values, analysis_results = Analyzer(coefs_filepath, **info)()\n",
    "    np.savez_compressed(coef_analysis_filepath, fitness_coef_values=fitness_coef_values, \n",
    "                        mode_definitions=mode_definitions, **analysis_results)"
   ]
  }
 ],
 "metadata": {
  "kernelspec": {
   "display_name": "Python 3",
   "language": "python",
   "name": "python3"
  },
  "language_info": {
   "codemirror_mode": {
    "name": "ipython",
    "version": 3
   },
   "file_extension": ".py",
   "mimetype": "text/x-python",
   "name": "python",
   "nbconvert_exporter": "python",
   "pygments_lexer": "ipython3",
   "version": "3.8.8"
  },
  "papermill": {
   "default_parameters": {},
   "duration": 1179.607228,
   "end_time": "2021-04-16T21:19:14.681854",
   "environment_variables": {},
   "exception": null,
   "input_path": "templates/generate_and_analyze_fitness_coefficients.ipynb",
   "output_path": "pct10/generate_and_analyze_fitness_coefficients.ag.ipynb",
   "parameters": {
    "percentage": "10"
   },
   "start_time": "2021-04-16T20:59:35.074626",
   "version": "2.3.3"
  }
 },
 "nbformat": 4,
 "nbformat_minor": 5
}