{
 "cells": [
  {
   "cell_type": "code",
   "execution_count": 1,
   "id": "concrete-parking",
   "metadata": {
    "execution": {
     "iopub.execute_input": "2021-04-16T19:06:50.019634Z",
     "iopub.status.busy": "2021-04-16T19:06:50.018432Z",
     "iopub.status.idle": "2021-04-16T19:06:50.028172Z",
     "shell.execute_reply": "2021-04-16T19:06:50.029056Z"
    },
    "papermill": {
     "duration": 0.034179,
     "end_time": "2021-04-16T19:06:50.029435",
     "exception": false,
     "start_time": "2021-04-16T19:06:49.995256",
     "status": "completed"
    },
    "tags": [
     "injected-parameters"
    ]
   },
   "outputs": [],
   "source": [
    "# Parameters\n",
    "percentage = \"10\"\n"
   ]
  },
  {
   "cell_type": "code",
   "execution_count": 2,
   "id": "recreational-geography",
   "metadata": {
    "execution": {
     "iopub.execute_input": "2021-04-16T19:06:50.062091Z",
     "iopub.status.busy": "2021-04-16T19:06:50.061040Z",
     "iopub.status.idle": "2021-04-16T19:06:50.265042Z",
     "shell.execute_reply": "2021-04-16T19:06:50.265855Z"
    },
    "papermill": {
     "duration": 0.223018,
     "end_time": "2021-04-16T19:06:50.266114",
     "exception": false,
     "start_time": "2021-04-16T19:06:50.043096",
     "status": "completed"
    },
    "tags": []
   },
   "outputs": [],
   "source": [
    "import numpy as np\n",
    "from itertools import product"
   ]
  },
  {
   "cell_type": "code",
   "execution_count": 3,
   "id": "established-detector",
   "metadata": {
    "execution": {
     "iopub.execute_input": "2021-04-16T19:06:50.298836Z",
     "iopub.status.busy": "2021-04-16T19:06:50.297783Z",
     "iopub.status.idle": "2021-04-16T19:06:52.842246Z",
     "shell.execute_reply": "2021-04-16T19:06:52.846457Z"
    },
    "papermill": {
     "duration": 2.566953,
     "end_time": "2021-04-16T19:06:52.846728",
     "exception": false,
     "start_time": "2021-04-16T19:06:50.279775",
     "status": "completed"
    },
    "tags": []
   },
   "outputs": [],
   "source": [
    "from analysis_utils import conditionalCorrelationGenerator, Analyzer\n",
    "from plot_utils import corrVariantsPlotter"
   ]
  },
  {
   "cell_type": "code",
   "execution_count": 4,
   "id": "bright-electricity",
   "metadata": {
    "execution": {
     "iopub.execute_input": "2021-04-16T19:06:52.883666Z",
     "iopub.status.busy": "2021-04-16T19:06:52.882611Z",
     "iopub.status.idle": "2021-04-16T19:06:52.906869Z",
     "shell.execute_reply": "2021-04-16T19:06:52.911016Z"
    },
    "papermill": {
     "duration": 0.050173,
     "end_time": "2021-04-16T19:06:52.911303",
     "exception": false,
     "start_time": "2021-04-16T19:06:52.861130",
     "status": "completed"
    },
    "tags": []
   },
   "outputs": [],
   "source": [
    "simulation_dir_name = 'results'\n",
    "output_dir_name = 'conditional_covariances'"
   ]
  },
  {
   "cell_type": "code",
   "execution_count": 5,
   "id": "becoming-productivity",
   "metadata": {
    "execution": {
     "iopub.execute_input": "2021-04-16T19:06:52.978470Z",
     "iopub.status.busy": "2021-04-16T19:06:52.977408Z",
     "iopub.status.idle": "2021-04-16T19:06:53.002129Z",
     "shell.execute_reply": "2021-04-16T19:06:53.001280Z"
    },
    "papermill": {
     "duration": 0.069866,
     "end_time": "2021-04-16T19:06:53.002358",
     "exception": false,
     "start_time": "2021-04-16T19:06:52.932492",
     "status": "completed"
    },
    "tags": []
   },
   "outputs": [],
   "source": [
    "mode_definitions = corrVariantsPlotter.mode_definitions\n",
    "\n",
    "simulation_dir = 'pct{}/{}'.format(percentage, simulation_dir_name)\n",
    "output_dir = 'pct{}/{}'.format(percentage, output_dir_name)\n",
    "info = {'number_simulations': 100, 'simulation_dir': simulation_dir,\n",
    "        'size': 11, 'seed': 42, 'number_droplets': 100000,\n",
    "       'trimmed_strains':1, 'mode_definitions': mode_definitions,\n",
    "       'output_dir': output_dir,\n",
    "        'base_coefs_name': 'conditional_covariances_averaged_{}.npz',\n",
    "       }"
   ]
  },
  {
   "cell_type": "code",
   "execution_count": 6,
   "id": "accredited-dependence",
   "metadata": {
    "execution": {
     "iopub.execute_input": "2021-04-16T19:06:53.057712Z",
     "iopub.status.busy": "2021-04-16T19:06:53.056054Z",
     "iopub.status.idle": "2021-04-16T19:52:13.062398Z",
     "shell.execute_reply": "2021-04-16T19:52:13.063813Z"
    },
    "papermill": {
     "duration": 2720.046925,
     "end_time": "2021-04-16T19:52:13.064796",
     "exception": false,
     "start_time": "2021-04-16T19:06:53.017871",
     "status": "completed"
    },
    "tags": []
   },
   "outputs": [],
   "source": [
    "conditionalCorrelationGenerator(**info)(statistic=\"covariance\")"
   ]
  },
  {
   "cell_type": "code",
   "execution_count": 7,
   "id": "upset-immune",
   "metadata": {
    "execution": {
     "iopub.execute_input": "2021-04-16T19:52:13.110607Z",
     "iopub.status.busy": "2021-04-16T19:52:13.108626Z",
     "iopub.status.idle": "2021-04-16T19:52:13.112172Z",
     "shell.execute_reply": "2021-04-16T19:52:13.111420Z"
    },
    "papermill": {
     "duration": 0.028375,
     "end_time": "2021-04-16T19:52:13.112352",
     "exception": false,
     "start_time": "2021-04-16T19:52:13.083977",
     "status": "completed"
    },
    "tags": []
   },
   "outputs": [],
   "source": [
    "base_coefs_filepath = '{}/{}'.format(info[\"output_dir\"], info[\"base_coefs_name\"])\n",
    "\n",
    "base_coef_analysis_name = 'analyzed_covariance_results_{}.npz'\n",
    "base_coef_analysis_filepath = '{}/{}'.format(info[\"output_dir\"], base_coef_analysis_name)"
   ]
  },
  {
   "cell_type": "code",
   "execution_count": 8,
   "id": "legal-recognition",
   "metadata": {
    "execution": {
     "iopub.execute_input": "2021-04-16T19:52:13.147340Z",
     "iopub.status.busy": "2021-04-16T19:52:13.146336Z",
     "iopub.status.idle": "2021-04-16T19:55:37.321017Z",
     "shell.execute_reply": "2021-04-16T19:55:37.321636Z"
    },
    "papermill": {
     "duration": 204.197301,
     "end_time": "2021-04-16T19:55:37.321835",
     "exception": false,
     "start_time": "2021-04-16T19:52:13.124534",
     "status": "completed"
    },
    "tags": []
   },
   "outputs": [],
   "source": [
    "for experiment_type, control_type in product(['gluttonous', 'picky'], repeat=2):\n",
    "    \n",
    "    shorthand = (experiment_type[0]+control_type[0])\n",
    "    coefs_filepath = base_coefs_filepath.format(shorthand)\n",
    "    coef_analysis_filepath = base_coef_analysis_filepath.format(shorthand)\n",
    "    \n",
    "    corr_coef_values, analysis_results = Analyzer(coefs_filepath, **info)()\n",
    "    np.savez_compressed(coef_analysis_filepath, corr_coef_values=corr_coef_values, \n",
    "                        mode_definitions=mode_definitions, **analysis_results)"
   ]
  }
 ],
 "metadata": {
  "kernelspec": {
   "display_name": "Python 3",
   "language": "python",
   "name": "python3"
  },
  "language_info": {
   "codemirror_mode": {
    "name": "ipython",
    "version": 3
   },
   "file_extension": ".py",
   "mimetype": "text/x-python",
   "name": "python",
   "nbconvert_exporter": "python",
   "pygments_lexer": "ipython3",
   "version": "3.8.8"
  },
  "papermill": {
   "default_parameters": {},
   "duration": 2930.018104,
   "end_time": "2021-04-16T19:55:37.872368",
   "environment_variables": {},
   "exception": null,
   "input_path": "templates/generate_and_analyze_conditional_covariances.ipynb",
   "output_path": "pct10/generate_and_analyze_conditional_covariances.ag.ipynb",
   "parameters": {
    "percentage": "10"
   },
   "start_time": "2021-04-16T19:06:47.854264",
   "version": "2.3.3"
  }
 },
 "nbformat": 4,
 "nbformat_minor": 5
}