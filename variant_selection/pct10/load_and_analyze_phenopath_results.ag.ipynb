{
 "cells": [
  {
   "cell_type": "code",
   "execution_count": 1,
   "id": "external-image",
   "metadata": {
    "execution": {
     "iopub.execute_input": "2021-04-16T20:49:28.043475Z",
     "iopub.status.busy": "2021-04-16T20:49:28.042409Z",
     "iopub.status.idle": "2021-04-16T20:49:28.045458Z",
     "shell.execute_reply": "2021-04-16T20:49:28.045938Z"
    },
    "papermill": {
     "duration": 0.029942,
     "end_time": "2021-04-16T20:49:28.046172",
     "exception": false,
     "start_time": "2021-04-16T20:49:28.016230",
     "status": "completed"
    },
    "tags": [
     "injected-parameters"
    ]
   },
   "outputs": [],
   "source": [
    "# Parameters\n",
    "percentage = \"10\"\n"
   ]
  },
  {
   "cell_type": "code",
   "execution_count": 2,
   "id": "prompt-gabriel",
   "metadata": {
    "execution": {
     "iopub.execute_input": "2021-04-16T20:49:28.074937Z",
     "iopub.status.busy": "2021-04-16T20:49:28.073925Z",
     "iopub.status.idle": "2021-04-16T20:49:28.223304Z",
     "shell.execute_reply": "2021-04-16T20:49:28.224112Z"
    },
    "papermill": {
     "duration": 0.166587,
     "end_time": "2021-04-16T20:49:28.224356",
     "exception": false,
     "start_time": "2021-04-16T20:49:28.057769",
     "status": "completed"
    },
    "tags": []
   },
   "outputs": [],
   "source": [
    "import numpy as np"
   ]
  },
  {
   "cell_type": "code",
   "execution_count": 3,
   "id": "separated-aggregate",
   "metadata": {
    "execution": {
     "iopub.execute_input": "2021-04-16T20:49:28.258111Z",
     "iopub.status.busy": "2021-04-16T20:49:28.257135Z",
     "iopub.status.idle": "2021-04-16T20:49:29.789984Z",
     "shell.execute_reply": "2021-04-16T20:49:29.791472Z"
    },
    "papermill": {
     "duration": 1.552987,
     "end_time": "2021-04-16T20:49:29.791734",
     "exception": false,
     "start_time": "2021-04-16T20:49:28.238747",
     "status": "completed"
    },
    "tags": []
   },
   "outputs": [],
   "source": [
    "from analysis_utils import phenopathCoefficientOrganizer, Analyzer\n",
    "from plot_utils import phenopathVariantsPlotter"
   ]
  },
  {
   "cell_type": "code",
   "execution_count": 4,
   "id": "honest-writing",
   "metadata": {
    "execution": {
     "iopub.execute_input": "2021-04-16T20:49:29.826711Z",
     "iopub.status.busy": "2021-04-16T20:49:29.825609Z",
     "iopub.status.idle": "2021-04-16T20:49:29.830880Z",
     "shell.execute_reply": "2021-04-16T20:49:29.832208Z"
    },
    "papermill": {
     "duration": 0.026288,
     "end_time": "2021-04-16T20:49:29.832478",
     "exception": false,
     "start_time": "2021-04-16T20:49:29.806190",
     "status": "completed"
    },
    "tags": []
   },
   "outputs": [],
   "source": [
    "output_dir_name = 'phenopath_results'\n",
    "simulation_dir_name = 'results'"
   ]
  },
  {
   "cell_type": "code",
   "execution_count": 5,
   "id": "impressed-chase",
   "metadata": {
    "execution": {
     "iopub.execute_input": "2021-04-16T20:49:29.868123Z",
     "iopub.status.busy": "2021-04-16T20:49:29.866983Z",
     "iopub.status.idle": "2021-04-16T20:49:29.870754Z",
     "shell.execute_reply": "2021-04-16T20:49:29.871873Z"
    },
    "papermill": {
     "duration": 0.025466,
     "end_time": "2021-04-16T20:49:29.872170",
     "exception": false,
     "start_time": "2021-04-16T20:49:29.846704",
     "status": "completed"
    },
    "tags": []
   },
   "outputs": [],
   "source": [
    "mode_definitions = phenopathVariantsPlotter.mode_definitions\n",
    "\n",
    "output_dir = 'pct{}/{}'.format(percentage, output_dir_name)\n",
    "simulation_dir = 'pct{}/{}'.format(percentage, simulation_dir_name)"
   ]
  },
  {
   "cell_type": "code",
   "execution_count": 6,
   "id": "controlled-soldier",
   "metadata": {
    "execution": {
     "iopub.execute_input": "2021-04-16T20:49:29.910947Z",
     "iopub.status.busy": "2021-04-16T20:49:29.909817Z",
     "iopub.status.idle": "2021-04-16T20:49:29.914521Z",
     "shell.execute_reply": "2021-04-16T20:49:29.915437Z"
    },
    "papermill": {
     "duration": 0.028861,
     "end_time": "2021-04-16T20:49:29.915747",
     "exception": false,
     "start_time": "2021-04-16T20:49:29.886886",
     "status": "completed"
    },
    "tags": []
   },
   "outputs": [],
   "source": [
    "info = {\n",
    "    'trimmed_strains': 1,\n",
    "    'size': 11,\n",
    "    'seed': 42,\n",
    "    'number_droplets': 100000,\n",
    "    'number_simulations': 100,\n",
    "    'simulation_dir': simulation_dir,\n",
    "    'output_dir': output_dir,\n",
    "    'mode_definitions': mode_definitions\n",
    "}"
   ]
  },
  {
   "cell_type": "code",
   "execution_count": 7,
   "id": "wicked-estate",
   "metadata": {
    "execution": {
     "iopub.execute_input": "2021-04-16T20:49:29.952161Z",
     "iopub.status.busy": "2021-04-16T20:49:29.951083Z",
     "iopub.status.idle": "2021-04-16T20:49:31.743244Z",
     "shell.execute_reply": "2021-04-16T20:49:31.745117Z"
    },
    "papermill": {
     "duration": 1.814717,
     "end_time": "2021-04-16T20:49:31.745448",
     "exception": false,
     "start_time": "2021-04-16T20:49:29.930731",
     "status": "completed"
    },
    "tags": []
   },
   "outputs": [],
   "source": [
    "phenopath_results = phenopathCoefficientOrganizer(**info)()"
   ]
  },
  {
   "cell_type": "code",
   "execution_count": 8,
   "id": "worth-faith",
   "metadata": {
    "execution": {
     "iopub.execute_input": "2021-04-16T20:49:31.786660Z",
     "iopub.status.busy": "2021-04-16T20:49:31.785084Z",
     "iopub.status.idle": "2021-04-16T20:49:31.885505Z",
     "shell.execute_reply": "2021-04-16T20:49:31.886537Z"
    },
    "papermill": {
     "duration": 0.122361,
     "end_time": "2021-04-16T20:49:31.886811",
     "exception": false,
     "start_time": "2021-04-16T20:49:31.764450",
     "status": "completed"
    },
    "tags": []
   },
   "outputs": [],
   "source": [
    "coefs_name = 'phenopath_results.npz'\n",
    "coefs_filepath = '{}/{}'.format(info[\"output_dir\"], coefs_name)\n",
    "np.savez_compressed(coefs_filepath, mode_definitions=mode_definitions, **phenopath_results)"
   ]
  },
  {
   "cell_type": "code",
   "execution_count": 9,
   "id": "demonstrated-integrity",
   "metadata": {
    "execution": {
     "iopub.execute_input": "2021-04-16T20:49:31.931058Z",
     "iopub.status.busy": "2021-04-16T20:49:31.929979Z",
     "iopub.status.idle": "2021-04-16T20:49:31.934420Z",
     "shell.execute_reply": "2021-04-16T20:49:31.935629Z"
    },
    "papermill": {
     "duration": 0.031154,
     "end_time": "2021-04-16T20:49:31.935984",
     "exception": false,
     "start_time": "2021-04-16T20:49:31.904830",
     "status": "completed"
    },
    "tags": []
   },
   "outputs": [],
   "source": [
    "coef_analysis_name = 'analyzed_phenopath_results.npz'\n",
    "coef_analysis_filepath = '{}/{}'.format(info[\"output_dir\"], coef_analysis_name)"
   ]
  },
  {
   "cell_type": "code",
   "execution_count": 10,
   "id": "center-lambda",
   "metadata": {
    "execution": {
     "iopub.execute_input": "2021-04-16T20:49:31.980690Z",
     "iopub.status.busy": "2021-04-16T20:49:31.979427Z",
     "iopub.status.idle": "2021-04-16T20:51:02.252722Z",
     "shell.execute_reply": "2021-04-16T20:51:02.253985Z"
    },
    "papermill": {
     "duration": 90.301842,
     "end_time": "2021-04-16T20:51:02.254511",
     "exception": false,
     "start_time": "2021-04-16T20:49:31.952669",
     "status": "completed"
    },
    "tags": []
   },
   "outputs": [],
   "source": [
    "phenopath_values, analysis_results = Analyzer(coefs_filepath, **info)()\n",
    "np.savez_compressed(coef_analysis_filepath, phenopath_values=phenopath_values, \n",
    "                    mode_definitions=mode_definitions, **analysis_results)"
   ]
  }
 ],
 "metadata": {
  "kernelspec": {
   "display_name": "Python 3",
   "language": "python",
   "name": "python3"
  },
  "language_info": {
   "codemirror_mode": {
    "name": "ipython",
    "version": 3
   },
   "file_extension": ".py",
   "mimetype": "text/x-python",
   "name": "python",
   "nbconvert_exporter": "python",
   "pygments_lexer": "ipython3",
   "version": "3.8.8"
  },
  "papermill": {
   "default_parameters": {},
   "duration": 97.24554,
   "end_time": "2021-04-16T20:51:03.917816",
   "environment_variables": {},
   "exception": null,
   "input_path": "templates/load_and_analyze_phenopath_results.ipynb",
   "output_path": "pct10/load_and_analyze_phenopath_results.ag.ipynb",
   "parameters": {
    "percentage": "10"
   },
   "start_time": "2021-04-16T20:49:26.672276",
   "version": "2.3.3"
  }
 },
 "nbformat": 4,
 "nbformat_minor": 5
}