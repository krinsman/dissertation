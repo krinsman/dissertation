{
 "cells": [
  {
   "cell_type": "code",
   "execution_count": null,
   "id": "raising-olive",
   "metadata": {},
   "outputs": [],
   "source": [
    "import matplotlib.pyplot as plt\n",
    "import numpy as np"
   ]
  },
  {
   "cell_type": "code",
   "execution_count": null,
   "id": "valuable-charger",
   "metadata": {},
   "outputs": [],
   "source": [
    "from plot_utils import phenopathVariantsPlotter as Plotter"
   ]
  },
  {
   "cell_type": "code",
   "execution_count": null,
   "id": "floating-richmond",
   "metadata": {},
   "outputs": [],
   "source": [
    "transformations = {'identity': (lambda x: x), 'log': (lambda x: np.log(x)/np.log(10))}\n",
    "transformation = transformations[transformation_name]"
   ]
  },
  {
   "cell_type": "code",
   "execution_count": null,
   "id": "african-berkeley",
   "metadata": {},
   "outputs": [],
   "source": [
    "plotter = Plotter(base_result_filename, results_dir, kde_bounds)"
   ]
  },
  {
   "cell_type": "code",
   "execution_count": null,
   "id": "supreme-clinton",
   "metadata": {},
   "outputs": [],
   "source": [
    "performance = plotter.load_performance_results(metric_name)\n",
    "performance = transformation(performance)"
   ]
  },
  {
   "cell_type": "markdown",
   "id": "decent-viking",
   "metadata": {},
   "source": [
    "# Method variants side by side"
   ]
  },
  {
   "cell_type": "markdown",
   "id": "silent-dodge",
   "metadata": {},
   "source": [
    "### Results for Uncensored"
   ]
  },
  {
   "cell_type": "code",
   "execution_count": null,
   "id": "psychological-bouquet",
   "metadata": {},
   "outputs": [],
   "source": [
    "for start_index in start_indices:\n",
    "    axes = plotter.covar_and_scale_choices_side_by_side(performance, censor_choice=\"uncensored\", \n",
    "                                                    y_title=y_title, start_index=start_index)\n",
    "    if transformation_name == 'log':\n",
    "        for ax in axes: \n",
    "            plotter.annotate_important_log_scores(ax, right_y_title)"
   ]
  },
  {
   "cell_type": "markdown",
   "id": "mathematical-guess",
   "metadata": {},
   "source": [
    "### Results for Censored"
   ]
  },
  {
   "cell_type": "code",
   "execution_count": null,
   "id": "mathematical-throat",
   "metadata": {},
   "outputs": [],
   "source": [
    "for start_index in start_indices:\n",
    "    axes = plotter.covar_and_scale_choices_side_by_side(performance, censor_choice=\"censored\", \n",
    "                                                    y_title=y_title, start_index=start_index)\n",
    "    if transformation_name == 'log':\n",
    "        for ax in axes: \n",
    "            plotter.annotate_important_log_scores(ax, right_y_title)"
   ]
  }
 ],
 "metadata": {
  "kernelspec": {
   "display_name": "Python 3",
   "language": "python",
   "name": "python3"
  },
  "language_info": {
   "codemirror_mode": {
    "name": "ipython",
    "version": 3
   },
   "file_extension": ".py",
   "mimetype": "text/x-python",
   "name": "python",
   "nbconvert_exporter": "python",
   "pygments_lexer": "ipython3",
   "version": "3.8.8"
  }
 },
 "nbformat": 4,
 "nbformat_minor": 5
}
