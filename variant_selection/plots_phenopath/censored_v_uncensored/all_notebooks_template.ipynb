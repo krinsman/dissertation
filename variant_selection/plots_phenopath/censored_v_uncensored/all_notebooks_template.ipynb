{
 "cells": [
  {
   "cell_type": "code",
   "execution_count": null,
   "id": "located-ranch",
   "metadata": {},
   "outputs": [],
   "source": [
    "import matplotlib.pyplot as plt\n",
    "import numpy as np"
   ]
  },
  {
   "cell_type": "code",
   "execution_count": null,
   "id": "duplicate-world",
   "metadata": {},
   "outputs": [],
   "source": [
    "from plot_utils import phenopathVariantsPlotter as Plotter"
   ]
  },
  {
   "cell_type": "code",
   "execution_count": null,
   "id": "engaging-halifax",
   "metadata": {},
   "outputs": [],
   "source": [
    "transformations = {'identity': (lambda x: x), 'log': (lambda x: np.log(x)/np.log(10))}\n",
    "transformation = transformations[transformation_name]"
   ]
  },
  {
   "cell_type": "code",
   "execution_count": null,
   "id": "cubic-prediction",
   "metadata": {},
   "outputs": [],
   "source": [
    "plotter = Plotter(base_result_filename, results_dir, kde_bounds)"
   ]
  },
  {
   "cell_type": "code",
   "execution_count": null,
   "id": "connected-soldier",
   "metadata": {},
   "outputs": [],
   "source": [
    "performance = plotter.load_performance_results(metric_name)\n",
    "performance = transformation(performance)"
   ]
  },
  {
   "cell_type": "markdown",
   "id": "guilty-support",
   "metadata": {},
   "source": [
    "## Censored vs Uncensored side-by-side"
   ]
  },
  {
   "cell_type": "code",
   "execution_count": null,
   "id": "incorporated-bermuda",
   "metadata": {},
   "outputs": [],
   "source": [
    "for start_index in start_indices:\n",
    "    ax = plotter.censor_choices_side_by_side(performance, \"binary_covariates\", \"unscaled\", y_title=y_title, start_index=start_index)\n",
    "    if transformation_name == 'log':\n",
    "        plotter.annotate_important_log_scores(ax, right_y_title)"
   ]
  },
  {
   "cell_type": "code",
   "execution_count": null,
   "id": "mathematical-opening",
   "metadata": {},
   "outputs": [],
   "source": [
    "for start_index in start_indices:\n",
    "    ax = plotter.censor_choices_side_by_side(performance, \"binary_covariates\", \"scaled\", y_title=y_title, start_index=start_index)\n",
    "    if transformation_name == 'log':\n",
    "        plotter.annotate_important_log_scores(ax, right_y_title)"
   ]
  },
  {
   "cell_type": "code",
   "execution_count": null,
   "id": "cross-hungary",
   "metadata": {},
   "outputs": [],
   "source": [
    "for start_index in start_indices:\n",
    "    ax = plotter.censor_choices_side_by_side(performance, \"count_covariates\", \"unscaled\", y_title=y_title, start_index=start_index)\n",
    "    if transformation_name == 'log':\n",
    "        plotter.annotate_important_log_scores(ax, right_y_title)"
   ]
  },
  {
   "cell_type": "code",
   "execution_count": null,
   "id": "literary-taiwan",
   "metadata": {},
   "outputs": [],
   "source": [
    "for start_index in start_indices:\n",
    "    ax = plotter.censor_choices_side_by_side(performance, \"count_covariates\", \"scaled\", y_title=y_title, start_index=start_index)\n",
    "    if transformation_name == 'log':\n",
    "        plotter.annotate_important_log_scores(ax, right_y_title)"
   ]
  },
  {
   "cell_type": "code",
   "execution_count": null,
   "id": "reverse-graham",
   "metadata": {},
   "outputs": [],
   "source": [
    "for start_index in start_indices:\n",
    "    ax = plotter.censor_choices_side_by_side(performance, \"log_count_covariates\", \"unscaled\", y_title=y_title, start_index=start_index)\n",
    "    if transformation_name == 'log':\n",
    "        plotter.annotate_important_log_scores(ax, right_y_title)"
   ]
  },
  {
   "cell_type": "code",
   "execution_count": null,
   "id": "accredited-accent",
   "metadata": {},
   "outputs": [],
   "source": [
    "for start_index in start_indices:\n",
    "    ax = plotter.censor_choices_side_by_side(performance, \"log_count_covariates\", \"scaled\", y_title=y_title, start_index=start_index)\n",
    "    if transformation_name == 'log':\n",
    "        plotter.annotate_important_log_scores(ax, right_y_title)"
   ]
  }
 ],
 "metadata": {
  "kernelspec": {
   "display_name": "Python 3",
   "language": "python",
   "name": "python3"
  },
  "language_info": {
   "codemirror_mode": {
    "name": "ipython",
    "version": 3
   },
   "file_extension": ".py",
   "mimetype": "text/x-python",
   "name": "python",
   "nbconvert_exporter": "python",
   "pygments_lexer": "ipython3",
   "version": "3.8.8"
  }
 },
 "nbformat": 4,
 "nbformat_minor": 5
}
