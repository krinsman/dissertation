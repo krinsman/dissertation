{
 "cells": [
  {
   "cell_type": "code",
   "execution_count": 1,
   "id": "located-crest",
   "metadata": {
    "execution": {
     "iopub.execute_input": "2021-04-16T18:31:58.084885Z",
     "iopub.status.busy": "2021-04-16T18:31:58.083778Z",
     "iopub.status.idle": "2021-04-16T18:31:58.087010Z",
     "shell.execute_reply": "2021-04-16T18:31:58.087874Z"
    },
    "papermill": {
     "duration": 0.034314,
     "end_time": "2021-04-16T18:31:58.088290",
     "exception": false,
     "start_time": "2021-04-16T18:31:58.053976",
     "status": "completed"
    },
    "tags": [
     "injected-parameters"
    ]
   },
   "outputs": [],
   "source": [
    "# Parameters\n",
    "percentage = \"0.5\"\n"
   ]
  },
  {
   "cell_type": "code",
   "execution_count": 2,
   "id": "recreational-geography",
   "metadata": {
    "execution": {
     "iopub.execute_input": "2021-04-16T18:31:58.121905Z",
     "iopub.status.busy": "2021-04-16T18:31:58.120881Z",
     "iopub.status.idle": "2021-04-16T18:31:58.583121Z",
     "shell.execute_reply": "2021-04-16T18:31:58.584150Z"
    },
    "papermill": {
     "duration": 0.482163,
     "end_time": "2021-04-16T18:31:58.584398",
     "exception": false,
     "start_time": "2021-04-16T18:31:58.102235",
     "status": "completed"
    },
    "tags": []
   },
   "outputs": [],
   "source": [
    "import numpy as np\n",
    "from itertools import product"
   ]
  },
  {
   "cell_type": "code",
   "execution_count": 3,
   "id": "established-detector",
   "metadata": {
    "execution": {
     "iopub.execute_input": "2021-04-16T18:31:58.884732Z",
     "iopub.status.busy": "2021-04-16T18:31:58.883627Z",
     "iopub.status.idle": "2021-04-16T18:32:03.550009Z",
     "shell.execute_reply": "2021-04-16T18:32:03.550932Z"
    },
    "papermill": {
     "duration": 4.686114,
     "end_time": "2021-04-16T18:32:03.551262",
     "exception": false,
     "start_time": "2021-04-16T18:31:58.865148",
     "status": "completed"
    },
    "tags": []
   },
   "outputs": [],
   "source": [
    "from analysis_utils import conditionalCorrelationGenerator, Analyzer\n",
    "from plot_utils import corrVariantsPlotter"
   ]
  },
  {
   "cell_type": "code",
   "execution_count": 4,
   "id": "bright-electricity",
   "metadata": {
    "execution": {
     "iopub.execute_input": "2021-04-16T18:32:03.584586Z",
     "iopub.status.busy": "2021-04-16T18:32:03.583465Z",
     "iopub.status.idle": "2021-04-16T18:32:03.598494Z",
     "shell.execute_reply": "2021-04-16T18:32:03.599349Z"
    },
    "papermill": {
     "duration": 0.035414,
     "end_time": "2021-04-16T18:32:03.599751",
     "exception": false,
     "start_time": "2021-04-16T18:32:03.564337",
     "status": "completed"
    },
    "tags": []
   },
   "outputs": [],
   "source": [
    "simulation_dir_name = 'results'\n",
    "output_dir_name = 'conditional_covariances'"
   ]
  },
  {
   "cell_type": "code",
   "execution_count": 5,
   "id": "becoming-productivity",
   "metadata": {
    "execution": {
     "iopub.execute_input": "2021-04-16T18:32:03.635631Z",
     "iopub.status.busy": "2021-04-16T18:32:03.633831Z",
     "iopub.status.idle": "2021-04-16T18:32:03.638613Z",
     "shell.execute_reply": "2021-04-16T18:32:03.639461Z"
    },
    "papermill": {
     "duration": 0.027473,
     "end_time": "2021-04-16T18:32:03.639874",
     "exception": false,
     "start_time": "2021-04-16T18:32:03.612401",
     "status": "completed"
    },
    "tags": []
   },
   "outputs": [],
   "source": [
    "mode_definitions = corrVariantsPlotter.mode_definitions\n",
    "\n",
    "simulation_dir = 'pct{}/{}'.format(percentage, simulation_dir_name)\n",
    "output_dir = 'pct{}/{}'.format(percentage, output_dir_name)\n",
    "info = {'number_simulations': 100, 'simulation_dir': simulation_dir,\n",
    "        'size': 11, 'seed': 42, 'number_droplets': 100000,\n",
    "       'trimmed_strains':1, 'mode_definitions': mode_definitions,\n",
    "       'output_dir': output_dir,\n",
    "        'base_coefs_name': 'conditional_covariances_averaged_{}.npz',\n",
    "       }"
   ]
  },
  {
   "cell_type": "code",
   "execution_count": 6,
   "id": "accredited-dependence",
   "metadata": {
    "execution": {
     "iopub.execute_input": "2021-04-16T18:32:03.734896Z",
     "iopub.status.busy": "2021-04-16T18:32:03.733607Z",
     "iopub.status.idle": "2021-04-16T18:55:21.731779Z",
     "shell.execute_reply": "2021-04-16T18:55:21.733357Z"
    },
    "papermill": {
     "duration": 1398.054196,
     "end_time": "2021-04-16T18:55:21.734450",
     "exception": false,
     "start_time": "2021-04-16T18:32:03.680254",
     "status": "completed"
    },
    "tags": []
   },
   "outputs": [],
   "source": [
    "conditionalCorrelationGenerator(**info)(statistic=\"covariance\")"
   ]
  },
  {
   "cell_type": "code",
   "execution_count": 7,
   "id": "upset-immune",
   "metadata": {
    "execution": {
     "iopub.execute_input": "2021-04-16T18:55:21.784873Z",
     "iopub.status.busy": "2021-04-16T18:55:21.783718Z",
     "iopub.status.idle": "2021-04-16T18:55:21.788052Z",
     "shell.execute_reply": "2021-04-16T18:55:21.789156Z"
    },
    "papermill": {
     "duration": 0.032425,
     "end_time": "2021-04-16T18:55:21.789426",
     "exception": false,
     "start_time": "2021-04-16T18:55:21.757001",
     "status": "completed"
    },
    "tags": []
   },
   "outputs": [],
   "source": [
    "base_coefs_filepath = '{}/{}'.format(info[\"output_dir\"], info[\"base_coefs_name\"])\n",
    "\n",
    "base_coef_analysis_name = 'analyzed_covariance_results_{}.npz'\n",
    "base_coef_analysis_filepath = '{}/{}'.format(info[\"output_dir\"], base_coef_analysis_name)"
   ]
  },
  {
   "cell_type": "code",
   "execution_count": 8,
   "id": "legal-recognition",
   "metadata": {
    "execution": {
     "iopub.execute_input": "2021-04-16T18:55:21.828549Z",
     "iopub.status.busy": "2021-04-16T18:55:21.827252Z",
     "iopub.status.idle": "2021-04-16T19:09:35.012638Z",
     "shell.execute_reply": "2021-04-16T19:09:35.015418Z"
    },
    "papermill": {
     "duration": 853.211862,
     "end_time": "2021-04-16T19:09:35.015882",
     "exception": false,
     "start_time": "2021-04-16T18:55:21.804020",
     "status": "completed"
    },
    "tags": []
   },
   "outputs": [],
   "source": [
    "for experiment_type, control_type in product(['gluttonous', 'picky'], repeat=2):\n",
    "    \n",
    "    shorthand = (experiment_type[0]+control_type[0])\n",
    "    coefs_filepath = base_coefs_filepath.format(shorthand)\n",
    "    coef_analysis_filepath = base_coef_analysis_filepath.format(shorthand)\n",
    "    \n",
    "    corr_coef_values, analysis_results = Analyzer(coefs_filepath, **info)()\n",
    "    np.savez_compressed(coef_analysis_filepath, corr_coef_values=corr_coef_values, \n",
    "                        mode_definitions=mode_definitions, **analysis_results)"
   ]
  }
 ],
 "metadata": {
  "kernelspec": {
   "display_name": "Python 3",
   "language": "python",
   "name": "python3"
  },
  "language_info": {
   "codemirror_mode": {
    "name": "ipython",
    "version": 3
   },
   "file_extension": ".py",
   "mimetype": "text/x-python",
   "name": "python",
   "nbconvert_exporter": "python",
   "pygments_lexer": "ipython3",
   "version": "3.8.8"
  },
  "papermill": {
   "default_parameters": {},
   "duration": 2264.932109,
   "end_time": "2021-04-16T19:09:37.208138",
   "environment_variables": {},
   "exception": null,
   "input_path": "templates/generate_and_analyze_conditional_covariances.ipynb",
   "output_path": "pct0.5/generate_and_analyze_conditional_covariances.ag.ipynb",
   "parameters": {
    "percentage": "0.5"
   },
   "start_time": "2021-04-16T18:31:52.276029",
   "version": "2.3.3"
  }
 },
 "nbformat": 4,
 "nbformat_minor": 5
}