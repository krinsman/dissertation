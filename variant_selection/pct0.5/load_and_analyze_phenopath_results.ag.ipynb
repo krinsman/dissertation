{
 "cells": [
  {
   "cell_type": "code",
   "execution_count": 1,
   "id": "improving-encyclopedia",
   "metadata": {
    "execution": {
     "iopub.execute_input": "2021-04-16T20:47:58.912793Z",
     "iopub.status.busy": "2021-04-16T20:47:58.912094Z",
     "iopub.status.idle": "2021-04-16T20:47:58.916121Z",
     "shell.execute_reply": "2021-04-16T20:47:58.915236Z"
    },
    "papermill": {
     "duration": 0.024539,
     "end_time": "2021-04-16T20:47:58.916355",
     "exception": false,
     "start_time": "2021-04-16T20:47:58.891816",
     "status": "completed"
    },
    "tags": [
     "injected-parameters"
    ]
   },
   "outputs": [],
   "source": [
    "# Parameters\n",
    "percentage = \"0.5\"\n"
   ]
  },
  {
   "cell_type": "code",
   "execution_count": 2,
   "id": "prompt-gabriel",
   "metadata": {
    "execution": {
     "iopub.execute_input": "2021-04-16T20:47:58.953866Z",
     "iopub.status.busy": "2021-04-16T20:47:58.946889Z",
     "iopub.status.idle": "2021-04-16T20:47:59.117800Z",
     "shell.execute_reply": "2021-04-16T20:47:59.118799Z"
    },
    "papermill": {
     "duration": 0.188518,
     "end_time": "2021-04-16T20:47:59.119046",
     "exception": false,
     "start_time": "2021-04-16T20:47:58.930528",
     "status": "completed"
    },
    "tags": []
   },
   "outputs": [],
   "source": [
    "import numpy as np"
   ]
  },
  {
   "cell_type": "code",
   "execution_count": 3,
   "id": "separated-aggregate",
   "metadata": {
    "execution": {
     "iopub.execute_input": "2021-04-16T20:47:59.152438Z",
     "iopub.status.busy": "2021-04-16T20:47:59.151374Z",
     "iopub.status.idle": "2021-04-16T20:48:00.928224Z",
     "shell.execute_reply": "2021-04-16T20:48:00.929254Z"
    },
    "papermill": {
     "duration": 1.796281,
     "end_time": "2021-04-16T20:48:00.929483",
     "exception": false,
     "start_time": "2021-04-16T20:47:59.133202",
     "status": "completed"
    },
    "tags": []
   },
   "outputs": [],
   "source": [
    "from analysis_utils import phenopathCoefficientOrganizer, Analyzer\n",
    "from plot_utils import phenopathVariantsPlotter"
   ]
  },
  {
   "cell_type": "code",
   "execution_count": 4,
   "id": "honest-writing",
   "metadata": {
    "execution": {
     "iopub.execute_input": "2021-04-16T20:48:00.961860Z",
     "iopub.status.busy": "2021-04-16T20:48:00.960661Z",
     "iopub.status.idle": "2021-04-16T20:48:00.967594Z",
     "shell.execute_reply": "2021-04-16T20:48:00.969174Z"
    },
    "papermill": {
     "duration": 0.026304,
     "end_time": "2021-04-16T20:48:00.969408",
     "exception": false,
     "start_time": "2021-04-16T20:48:00.943104",
     "status": "completed"
    },
    "tags": []
   },
   "outputs": [],
   "source": [
    "output_dir_name = 'phenopath_results'\n",
    "simulation_dir_name = 'results'"
   ]
  },
  {
   "cell_type": "code",
   "execution_count": 5,
   "id": "impressed-chase",
   "metadata": {
    "execution": {
     "iopub.execute_input": "2021-04-16T20:48:01.006152Z",
     "iopub.status.busy": "2021-04-16T20:48:01.005164Z",
     "iopub.status.idle": "2021-04-16T20:48:01.010343Z",
     "shell.execute_reply": "2021-04-16T20:48:01.011205Z"
    },
    "papermill": {
     "duration": 0.028776,
     "end_time": "2021-04-16T20:48:01.011450",
     "exception": false,
     "start_time": "2021-04-16T20:48:00.982674",
     "status": "completed"
    },
    "tags": []
   },
   "outputs": [],
   "source": [
    "mode_definitions = phenopathVariantsPlotter.mode_definitions\n",
    "\n",
    "output_dir = 'pct{}/{}'.format(percentage, output_dir_name)\n",
    "simulation_dir = 'pct{}/{}'.format(percentage, simulation_dir_name)"
   ]
  },
  {
   "cell_type": "code",
   "execution_count": 6,
   "id": "controlled-soldier",
   "metadata": {
    "execution": {
     "iopub.execute_input": "2021-04-16T20:48:01.045169Z",
     "iopub.status.busy": "2021-04-16T20:48:01.044214Z",
     "iopub.status.idle": "2021-04-16T20:48:01.048055Z",
     "shell.execute_reply": "2021-04-16T20:48:01.049014Z"
    },
    "papermill": {
     "duration": 0.024181,
     "end_time": "2021-04-16T20:48:01.049263",
     "exception": false,
     "start_time": "2021-04-16T20:48:01.025082",
     "status": "completed"
    },
    "tags": []
   },
   "outputs": [],
   "source": [
    "info = {\n",
    "    'trimmed_strains': 1,\n",
    "    'size': 11,\n",
    "    'seed': 42,\n",
    "    'number_droplets': 100000,\n",
    "    'number_simulations': 100,\n",
    "    'simulation_dir': simulation_dir,\n",
    "    'output_dir': output_dir,\n",
    "    'mode_definitions': mode_definitions\n",
    "}"
   ]
  },
  {
   "cell_type": "code",
   "execution_count": 7,
   "id": "wicked-estate",
   "metadata": {
    "execution": {
     "iopub.execute_input": "2021-04-16T20:48:01.092180Z",
     "iopub.status.busy": "2021-04-16T20:48:01.086482Z",
     "iopub.status.idle": "2021-04-16T20:48:02.278669Z",
     "shell.execute_reply": "2021-04-16T20:48:02.279533Z"
    },
    "papermill": {
     "duration": 1.214958,
     "end_time": "2021-04-16T20:48:02.279780",
     "exception": false,
     "start_time": "2021-04-16T20:48:01.064822",
     "status": "completed"
    },
    "tags": []
   },
   "outputs": [],
   "source": [
    "phenopath_results = phenopathCoefficientOrganizer(**info)()"
   ]
  },
  {
   "cell_type": "code",
   "execution_count": 8,
   "id": "worth-faith",
   "metadata": {
    "execution": {
     "iopub.execute_input": "2021-04-16T20:48:02.314809Z",
     "iopub.status.busy": "2021-04-16T20:48:02.313805Z",
     "iopub.status.idle": "2021-04-16T20:48:02.376462Z",
     "shell.execute_reply": "2021-04-16T20:48:02.377430Z"
    },
    "papermill": {
     "duration": 0.083653,
     "end_time": "2021-04-16T20:48:02.377682",
     "exception": false,
     "start_time": "2021-04-16T20:48:02.294029",
     "status": "completed"
    },
    "tags": []
   },
   "outputs": [],
   "source": [
    "coefs_name = 'phenopath_results.npz'\n",
    "coefs_filepath = '{}/{}'.format(info[\"output_dir\"], coefs_name)\n",
    "np.savez_compressed(coefs_filepath, mode_definitions=mode_definitions, **phenopath_results)"
   ]
  },
  {
   "cell_type": "code",
   "execution_count": 9,
   "id": "demonstrated-integrity",
   "metadata": {
    "execution": {
     "iopub.execute_input": "2021-04-16T20:48:02.413128Z",
     "iopub.status.busy": "2021-04-16T20:48:02.412216Z",
     "iopub.status.idle": "2021-04-16T20:48:02.415838Z",
     "shell.execute_reply": "2021-04-16T20:48:02.417312Z"
    },
    "papermill": {
     "duration": 0.024357,
     "end_time": "2021-04-16T20:48:02.417559",
     "exception": false,
     "start_time": "2021-04-16T20:48:02.393202",
     "status": "completed"
    },
    "tags": []
   },
   "outputs": [],
   "source": [
    "coef_analysis_name = 'analyzed_phenopath_results.npz'\n",
    "coef_analysis_filepath = '{}/{}'.format(info[\"output_dir\"], coef_analysis_name)"
   ]
  },
  {
   "cell_type": "code",
   "execution_count": 10,
   "id": "center-lambda",
   "metadata": {
    "execution": {
     "iopub.execute_input": "2021-04-16T20:48:02.455853Z",
     "iopub.status.busy": "2021-04-16T20:48:02.454929Z",
     "iopub.status.idle": "2021-04-16T20:49:25.990884Z",
     "shell.execute_reply": "2021-04-16T20:49:25.991787Z"
    },
    "papermill": {
     "duration": 83.559746,
     "end_time": "2021-04-16T20:49:25.992055",
     "exception": false,
     "start_time": "2021-04-16T20:48:02.432309",
     "status": "completed"
    },
    "tags": []
   },
   "outputs": [],
   "source": [
    "phenopath_values, analysis_results = Analyzer(coefs_filepath, **info)()\n",
    "np.savez_compressed(coef_analysis_filepath, phenopath_values=phenopath_values, \n",
    "                    mode_definitions=mode_definitions, **analysis_results)"
   ]
  }
 ],
 "metadata": {
  "kernelspec": {
   "display_name": "Python 3",
   "language": "python",
   "name": "python3"
  },
  "language_info": {
   "codemirror_mode": {
    "name": "ipython",
    "version": 3
   },
   "file_extension": ".py",
   "mimetype": "text/x-python",
   "name": "python",
   "nbconvert_exporter": "python",
   "pygments_lexer": "ipython3",
   "version": "3.8.8"
  },
  "papermill": {
   "default_parameters": {},
   "duration": 89.797748,
   "end_time": "2021-04-16T20:49:26.623162",
   "environment_variables": {},
   "exception": null,
   "input_path": "templates/load_and_analyze_phenopath_results.ipynb",
   "output_path": "pct0.5/load_and_analyze_phenopath_results.ag.ipynb",
   "parameters": {
    "percentage": "0.5"
   },
   "start_time": "2021-04-16T20:47:56.825414",
   "version": "2.3.3"
  }
 },
 "nbformat": 4,
 "nbformat_minor": 5
}