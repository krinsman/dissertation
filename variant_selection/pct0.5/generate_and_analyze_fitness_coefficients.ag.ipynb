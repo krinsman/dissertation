{
 "cells": [
  {
   "cell_type": "code",
   "execution_count": 1,
   "id": "light-thought",
   "metadata": {
    "execution": {
     "iopub.execute_input": "2021-04-16T20:49:28.999358Z",
     "iopub.status.busy": "2021-04-16T20:49:28.998340Z",
     "iopub.status.idle": "2021-04-16T20:49:29.013284Z",
     "shell.execute_reply": "2021-04-16T20:49:29.014136Z"
    },
    "papermill": {
     "duration": 0.032412,
     "end_time": "2021-04-16T20:49:29.014506",
     "exception": false,
     "start_time": "2021-04-16T20:49:28.982094",
     "status": "completed"
    },
    "tags": [
     "injected-parameters"
    ]
   },
   "outputs": [],
   "source": [
    "# Parameters\n",
    "percentage = \"0.5\"\n"
   ]
  },
  {
   "cell_type": "code",
   "execution_count": 2,
   "id": "organized-haven",
   "metadata": {
    "execution": {
     "iopub.execute_input": "2021-04-16T20:49:29.043136Z",
     "iopub.status.busy": "2021-04-16T20:49:29.042135Z",
     "iopub.status.idle": "2021-04-16T20:49:29.196082Z",
     "shell.execute_reply": "2021-04-16T20:49:29.196842Z"
    },
    "papermill": {
     "duration": 0.170721,
     "end_time": "2021-04-16T20:49:29.197093",
     "exception": false,
     "start_time": "2021-04-16T20:49:29.026372",
     "status": "completed"
    },
    "tags": []
   },
   "outputs": [],
   "source": [
    "import numpy as np\n",
    "from itertools import product"
   ]
  },
  {
   "cell_type": "code",
   "execution_count": 3,
   "id": "abstract-import",
   "metadata": {
    "execution": {
     "iopub.execute_input": "2021-04-16T20:49:29.225389Z",
     "iopub.status.busy": "2021-04-16T20:49:29.224410Z",
     "iopub.status.idle": "2021-04-16T20:49:31.046310Z",
     "shell.execute_reply": "2021-04-16T20:49:31.047718Z"
    },
    "papermill": {
     "duration": 1.839812,
     "end_time": "2021-04-16T20:49:31.048043",
     "exception": false,
     "start_time": "2021-04-16T20:49:29.208231",
     "status": "completed"
    },
    "tags": []
   },
   "outputs": [],
   "source": [
    "from analysis_utils import fitnessGenerator, Analyzer\n",
    "from plot_utils import fitnessVariantsPlotter"
   ]
  },
  {
   "cell_type": "code",
   "execution_count": 4,
   "id": "smaller-swiss",
   "metadata": {
    "execution": {
     "iopub.execute_input": "2021-04-16T20:49:31.086276Z",
     "iopub.status.busy": "2021-04-16T20:49:31.084948Z",
     "iopub.status.idle": "2021-04-16T20:49:31.088623Z",
     "shell.execute_reply": "2021-04-16T20:49:31.089856Z"
    },
    "papermill": {
     "duration": 0.028169,
     "end_time": "2021-04-16T20:49:31.090241",
     "exception": false,
     "start_time": "2021-04-16T20:49:31.062072",
     "status": "completed"
    },
    "tags": []
   },
   "outputs": [],
   "source": [
    "simulation_dir_name = 'results'\n",
    "output_dir_name = 'fitness_coefs'"
   ]
  },
  {
   "cell_type": "code",
   "execution_count": 5,
   "id": "traditional-peripheral",
   "metadata": {
    "execution": {
     "iopub.execute_input": "2021-04-16T20:49:31.129314Z",
     "iopub.status.busy": "2021-04-16T20:49:31.127925Z",
     "iopub.status.idle": "2021-04-16T20:49:31.132080Z",
     "shell.execute_reply": "2021-04-16T20:49:31.133298Z"
    },
    "papermill": {
     "duration": 0.02851,
     "end_time": "2021-04-16T20:49:31.133625",
     "exception": false,
     "start_time": "2021-04-16T20:49:31.105115",
     "status": "completed"
    },
    "tags": []
   },
   "outputs": [],
   "source": [
    "mode_definitions = fitnessVariantsPlotter.mode_definitions\n",
    "\n",
    "simulation_dir = 'pct{}/{}'.format(percentage, simulation_dir_name)\n",
    "output_dir = 'pct{}/{}'.format(percentage, output_dir_name)\n",
    "info = {'number_simulations': 100, 'simulation_dir': simulation_dir,\n",
    "        'size': 11, 'seed': 42, 'number_droplets': 100000,\n",
    "       'trimmed_strains':1, 'mode_definitions': mode_definitions,\n",
    "       'output_dir': output_dir,\n",
    "        'base_coefs_name': 'fitness_coefs_averaged_{}.npz',\n",
    "       }"
   ]
  },
  {
   "cell_type": "code",
   "execution_count": 6,
   "id": "excellent-notebook",
   "metadata": {
    "execution": {
     "iopub.execute_input": "2021-04-16T20:49:31.171682Z",
     "iopub.status.busy": "2021-04-16T20:49:31.170251Z",
     "iopub.status.idle": "2021-04-16T20:55:55.804685Z",
     "shell.execute_reply": "2021-04-16T20:55:55.805663Z"
    },
    "papermill": {
     "duration": 384.658283,
     "end_time": "2021-04-16T20:55:55.805924",
     "exception": false,
     "start_time": "2021-04-16T20:49:31.147641",
     "status": "completed"
    },
    "tags": []
   },
   "outputs": [],
   "source": [
    "fitnessGenerator(**info)()"
   ]
  },
  {
   "cell_type": "code",
   "execution_count": 7,
   "id": "based-crown",
   "metadata": {
    "execution": {
     "iopub.execute_input": "2021-04-16T20:55:55.840630Z",
     "iopub.status.busy": "2021-04-16T20:55:55.839615Z",
     "iopub.status.idle": "2021-04-16T20:55:55.843278Z",
     "shell.execute_reply": "2021-04-16T20:55:55.844202Z"
    },
    "papermill": {
     "duration": 0.024693,
     "end_time": "2021-04-16T20:55:55.844469",
     "exception": false,
     "start_time": "2021-04-16T20:55:55.819776",
     "status": "completed"
    },
    "tags": []
   },
   "outputs": [],
   "source": [
    "base_coefs_filepath = '{}/{}'.format(info[\"output_dir\"], info[\"base_coefs_name\"])\n",
    "\n",
    "base_coef_analysis_name = 'analyzed_fitness_coef_results_{}.npz'\n",
    "base_coef_analysis_filepath = '{}/{}'.format(info[\"output_dir\"], base_coef_analysis_name)"
   ]
  },
  {
   "cell_type": "code",
   "execution_count": 8,
   "id": "directed-support",
   "metadata": {
    "execution": {
     "iopub.execute_input": "2021-04-16T20:55:55.880496Z",
     "iopub.status.busy": "2021-04-16T20:55:55.879443Z",
     "iopub.status.idle": "2021-04-16T21:01:33.801147Z",
     "shell.execute_reply": "2021-04-16T21:01:33.802271Z"
    },
    "papermill": {
     "duration": 337.94393,
     "end_time": "2021-04-16T21:01:33.802540",
     "exception": false,
     "start_time": "2021-04-16T20:55:55.858610",
     "status": "completed"
    },
    "tags": []
   },
   "outputs": [],
   "source": [
    "for experiment_type, control_type in product(['gluttonous', 'picky'], repeat=2):\n",
    "    \n",
    "    shorthand = (experiment_type[0]+control_type[0])\n",
    "    coefs_filepath = base_coefs_filepath.format(shorthand)\n",
    "    coef_analysis_filepath = base_coef_analysis_filepath.format(shorthand)\n",
    "    \n",
    "    fitness_coef_values, analysis_results = Analyzer(coefs_filepath, **info)()\n",
    "    np.savez_compressed(coef_analysis_filepath, fitness_coef_values=fitness_coef_values, \n",
    "                        mode_definitions=mode_definitions, **analysis_results)"
   ]
  }
 ],
 "metadata": {
  "kernelspec": {
   "display_name": "Python 3",
   "language": "python",
   "name": "python3"
  },
  "language_info": {
   "codemirror_mode": {
    "name": "ipython",
    "version": 3
   },
   "file_extension": ".py",
   "mimetype": "text/x-python",
   "name": "python",
   "nbconvert_exporter": "python",
   "pygments_lexer": "ipython3",
   "version": "3.8.8"
  },
  "papermill": {
   "default_parameters": {},
   "duration": 727.63036,
   "end_time": "2021-04-16T21:01:35.431088",
   "environment_variables": {},
   "exception": null,
   "input_path": "templates/generate_and_analyze_fitness_coefficients.ipynb",
   "output_path": "pct0.5/generate_and_analyze_fitness_coefficients.ag.ipynb",
   "parameters": {
    "percentage": "0.5"
   },
   "start_time": "2021-04-16T20:49:27.800728",
   "version": "2.3.3"
  }
 },
 "nbformat": 4,
 "nbformat_minor": 5
}