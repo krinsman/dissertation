{
 "cells": [
  {
   "cell_type": "code",
   "execution_count": 1,
   "id": "spoken-tokyo",
   "metadata": {
    "execution": {
     "iopub.execute_input": "2021-04-16T21:04:55.941177Z",
     "iopub.status.busy": "2021-04-16T21:04:55.939908Z",
     "iopub.status.idle": "2021-04-16T21:04:55.949345Z",
     "shell.execute_reply": "2021-04-16T21:04:55.950464Z"
    },
    "papermill": {
     "duration": 0.034136,
     "end_time": "2021-04-16T21:04:55.950947",
     "exception": false,
     "start_time": "2021-04-16T21:04:55.916811",
     "status": "completed"
    },
    "tags": [
     "injected-parameters"
    ]
   },
   "outputs": [],
   "source": [
    "# Parameters\n",
    "percentage = \"0.5\"\n"
   ]
  },
  {
   "cell_type": "code",
   "execution_count": 2,
   "id": "signal-floor",
   "metadata": {
    "execution": {
     "iopub.execute_input": "2021-04-16T21:04:55.984627Z",
     "iopub.status.busy": "2021-04-16T21:04:55.983434Z",
     "iopub.status.idle": "2021-04-16T21:04:56.215607Z",
     "shell.execute_reply": "2021-04-16T21:04:56.216831Z"
    },
    "papermill": {
     "duration": 0.251772,
     "end_time": "2021-04-16T21:04:56.217229",
     "exception": false,
     "start_time": "2021-04-16T21:04:55.965457",
     "status": "completed"
    },
    "tags": []
   },
   "outputs": [],
   "source": [
    "import numpy as np\n",
    "from itertools import product"
   ]
  },
  {
   "cell_type": "code",
   "execution_count": 3,
   "id": "absolute-territory",
   "metadata": {
    "execution": {
     "iopub.execute_input": "2021-04-16T21:04:56.251644Z",
     "iopub.status.busy": "2021-04-16T21:04:56.250359Z",
     "iopub.status.idle": "2021-04-16T21:04:58.557416Z",
     "shell.execute_reply": "2021-04-16T21:04:58.558728Z"
    },
    "papermill": {
     "duration": 2.327607,
     "end_time": "2021-04-16T21:04:58.559174",
     "exception": false,
     "start_time": "2021-04-16T21:04:56.231567",
     "status": "completed"
    },
    "tags": []
   },
   "outputs": [],
   "source": [
    "from analysis_utils import conditionalCorrelationGenerator, Analyzer\n",
    "from plot_utils import corrVariantsPlotter"
   ]
  },
  {
   "cell_type": "code",
   "execution_count": 4,
   "id": "sufficient-wellington",
   "metadata": {
    "execution": {
     "iopub.execute_input": "2021-04-16T21:04:58.600004Z",
     "iopub.status.busy": "2021-04-16T21:04:58.598425Z",
     "iopub.status.idle": "2021-04-16T21:04:58.602426Z",
     "shell.execute_reply": "2021-04-16T21:04:58.603784Z"
    },
    "papermill": {
     "duration": 0.030456,
     "end_time": "2021-04-16T21:04:58.604118",
     "exception": false,
     "start_time": "2021-04-16T21:04:58.573662",
     "status": "completed"
    },
    "tags": []
   },
   "outputs": [],
   "source": [
    "simulation_dir_name = 'results'\n",
    "output_dir_name = 'conditional_correlations'"
   ]
  },
  {
   "cell_type": "code",
   "execution_count": 5,
   "id": "respective-strap",
   "metadata": {
    "execution": {
     "iopub.execute_input": "2021-04-16T21:04:58.643332Z",
     "iopub.status.busy": "2021-04-16T21:04:58.641422Z",
     "iopub.status.idle": "2021-04-16T21:04:58.646699Z",
     "shell.execute_reply": "2021-04-16T21:04:58.647682Z"
    },
    "papermill": {
     "duration": 0.030115,
     "end_time": "2021-04-16T21:04:58.648017",
     "exception": false,
     "start_time": "2021-04-16T21:04:58.617902",
     "status": "completed"
    },
    "tags": []
   },
   "outputs": [],
   "source": [
    "mode_definitions = corrVariantsPlotter.mode_definitions\n",
    "\n",
    "simulation_dir = 'pct{}/{}'.format(percentage, simulation_dir_name)\n",
    "output_dir = 'pct{}/{}'.format(percentage, output_dir_name)\n",
    "info = {'number_simulations': 100, 'simulation_dir': simulation_dir,\n",
    "        'size': 11, 'seed': 42, 'number_droplets': 100000,\n",
    "       'trimmed_strains':1, 'mode_definitions': mode_definitions,\n",
    "       'output_dir': output_dir,\n",
    "        'base_coefs_name': 'conditional_correlations_averaged_{}.npz',\n",
    "       }"
   ]
  },
  {
   "cell_type": "code",
   "execution_count": 6,
   "id": "infrared-ranch",
   "metadata": {
    "execution": {
     "iopub.execute_input": "2021-04-16T21:04:58.684675Z",
     "iopub.status.busy": "2021-04-16T21:04:58.683212Z",
     "iopub.status.idle": "2021-04-16T21:12:47.238855Z",
     "shell.execute_reply": "2021-04-16T21:12:47.239849Z"
    },
    "papermill": {
     "duration": 468.577603,
     "end_time": "2021-04-16T21:12:47.240129",
     "exception": false,
     "start_time": "2021-04-16T21:04:58.662526",
     "status": "completed"
    },
    "tags": []
   },
   "outputs": [],
   "source": [
    "conditionalCorrelationGenerator(**info)(statistic=\"correlation\")"
   ]
  },
  {
   "cell_type": "code",
   "execution_count": 7,
   "id": "unique-motion",
   "metadata": {
    "execution": {
     "iopub.execute_input": "2021-04-16T21:12:47.276513Z",
     "iopub.status.busy": "2021-04-16T21:12:47.275447Z",
     "iopub.status.idle": "2021-04-16T21:12:47.282492Z",
     "shell.execute_reply": "2021-04-16T21:12:47.285583Z"
    },
    "papermill": {
     "duration": 0.031137,
     "end_time": "2021-04-16T21:12:47.285864",
     "exception": false,
     "start_time": "2021-04-16T21:12:47.254727",
     "status": "completed"
    },
    "tags": []
   },
   "outputs": [],
   "source": [
    "base_coefs_filepath = '{}/{}'.format(info[\"output_dir\"], info[\"base_coefs_name\"])\n",
    "\n",
    "base_coef_analysis_name = 'analyzed_corr_coef_results_{}.npz'\n",
    "base_coef_analysis_filepath = '{}/{}'.format(info[\"output_dir\"], base_coef_analysis_name)"
   ]
  },
  {
   "cell_type": "code",
   "execution_count": 8,
   "id": "entire-repository",
   "metadata": {
    "execution": {
     "iopub.execute_input": "2021-04-16T21:12:47.325446Z",
     "iopub.status.busy": "2021-04-16T21:12:47.319038Z",
     "iopub.status.idle": "2021-04-16T21:18:42.588123Z",
     "shell.execute_reply": "2021-04-16T21:18:42.589149Z"
    },
    "papermill": {
     "duration": 355.289119,
     "end_time": "2021-04-16T21:18:42.589473",
     "exception": false,
     "start_time": "2021-04-16T21:12:47.300354",
     "status": "completed"
    },
    "tags": []
   },
   "outputs": [],
   "source": [
    "for experiment_type, control_type in product(['gluttonous', 'picky'], repeat=2):\n",
    "    \n",
    "    shorthand = (experiment_type[0]+control_type[0])\n",
    "    coefs_filepath = base_coefs_filepath.format(shorthand)\n",
    "    coef_analysis_filepath = base_coef_analysis_filepath.format(shorthand)\n",
    "    \n",
    "    corr_coef_values, analysis_results = Analyzer(coefs_filepath, **info)()\n",
    "    np.savez_compressed(coef_analysis_filepath, corr_coef_values=corr_coef_values, \n",
    "                        mode_definitions=mode_definitions, **analysis_results)"
   ]
  }
 ],
 "metadata": {
  "kernelspec": {
   "display_name": "Python 3",
   "language": "python",
   "name": "python3"
  },
  "language_info": {
   "codemirror_mode": {
    "name": "ipython",
    "version": 3
   },
   "file_extension": ".py",
   "mimetype": "text/x-python",
   "name": "python",
   "nbconvert_exporter": "python",
   "pygments_lexer": "ipython3",
   "version": "3.8.8"
  },
  "papermill": {
   "default_parameters": {},
   "duration": 829.284973,
   "end_time": "2021-04-16T21:18:43.124976",
   "environment_variables": {},
   "exception": null,
   "input_path": "templates/generate_and_analyze_conditional_correlations.ipynb",
   "output_path": "pct0.5/generate_and_analyze_conditional_correlations.ag.ipynb",
   "parameters": {
    "percentage": "0.5"
   },
   "start_time": "2021-04-16T21:04:53.840003",
   "version": "2.3.3"
  }
 },
 "nbformat": 4,
 "nbformat_minor": 5
}