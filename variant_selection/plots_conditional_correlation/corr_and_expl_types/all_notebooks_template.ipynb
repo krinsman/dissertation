{
 "cells": [
  {
   "cell_type": "code",
   "execution_count": null,
   "id": "reported-investigator",
   "metadata": {},
   "outputs": [],
   "source": [
    "import matplotlib.pyplot as plt\n",
    "import numpy as np"
   ]
  },
  {
   "cell_type": "code",
   "execution_count": null,
   "id": "adjacent-valley",
   "metadata": {},
   "outputs": [],
   "source": [
    "from plot_utils import corrVariantsPlotter as Plotter"
   ]
  },
  {
   "cell_type": "code",
   "execution_count": null,
   "id": "floppy-administrator",
   "metadata": {},
   "outputs": [],
   "source": [
    "transformations = {'identity': (lambda x: x), 'butterfly': (lambda x: -np.log(1. - x)/np.log(10))}\n",
    "transformation = transformations[transformation_name]"
   ]
  },
  {
   "cell_type": "code",
   "execution_count": null,
   "id": "present-serbia",
   "metadata": {},
   "outputs": [],
   "source": [
    "plotter = Plotter(base_result_filename, results_dir, kde_bounds)"
   ]
  },
  {
   "cell_type": "code",
   "execution_count": null,
   "id": "apparent-motorcycle",
   "metadata": {},
   "outputs": [],
   "source": [
    "performance = plotter.load_performance_results(metric_name)\n",
    "performance = transformation(performance)"
   ]
  },
  {
   "cell_type": "markdown",
   "id": "falling-brother",
   "metadata": {},
   "source": [
    "# Method variants side by side"
   ]
  },
  {
   "cell_type": "markdown",
   "id": "qualified-bristol",
   "metadata": {},
   "source": [
    "### Results for Averages of Normalized"
   ]
  },
  {
   "cell_type": "code",
   "execution_count": null,
   "id": "brown-decline",
   "metadata": {},
   "outputs": [],
   "source": [
    "for start_index in start_indices:\n",
    "    axes = plotter.corr_and_expl_types_side_by_side(performance, avg_type=\"normalized\", \n",
    "                                                    y_title=y_title, start_index=start_index)\n",
    "    if transformation_name == 'butterfly':\n",
    "        for ax in axes: \n",
    "            plotter.annotate_important_log_scores(ax, right_y_title)"
   ]
  },
  {
   "cell_type": "markdown",
   "id": "specific-adrian",
   "metadata": {},
   "source": [
    "### Results for Averages of Unnormalized"
   ]
  },
  {
   "cell_type": "code",
   "execution_count": null,
   "id": "incoming-transparency",
   "metadata": {},
   "outputs": [],
   "source": [
    "for start_index in start_indices:\n",
    "    axes = plotter.corr_and_expl_types_side_by_side(performance, avg_type=\"unnormalized\", \n",
    "                                                    y_title=y_title, start_index=start_index)\n",
    "    if transformation_name == 'butterfly':\n",
    "        for ax in axes: \n",
    "            plotter.annotate_important_log_scores(ax, right_y_title)"
   ]
  }
 ],
 "metadata": {
  "kernelspec": {
   "display_name": "Python 3",
   "language": "python",
   "name": "python3"
  },
  "language_info": {
   "codemirror_mode": {
    "name": "ipython",
    "version": 3
   },
   "file_extension": ".py",
   "mimetype": "text/x-python",
   "name": "python",
   "nbconvert_exporter": "python",
   "pygments_lexer": "ipython3",
   "version": "3.9.2"
  }
 },
 "nbformat": 4,
 "nbformat_minor": 5
}
