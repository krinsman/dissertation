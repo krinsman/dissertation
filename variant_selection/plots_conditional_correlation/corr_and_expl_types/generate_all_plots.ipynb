{
 "cells": [
  {
   "cell_type": "code",
   "execution_count": 1,
   "id": "enhanced-morning",
   "metadata": {},
   "outputs": [],
   "source": [
    "import multiprocessing as mp\n",
    "import papermill as pm\n",
    "\n",
    "from pathlib import Path\n",
    "from itertools import product"
   ]
  },
  {
   "cell_type": "code",
   "execution_count": 2,
   "id": "informal-consequence",
   "metadata": {},
   "outputs": [],
   "source": [
    "base_coef_analysis_filepath = \"conditional_correlations/analyzed_corr_coef_results_{}.npz\"\n",
    "results_dir = '../..'"
   ]
  },
  {
   "cell_type": "code",
   "execution_count": 3,
   "id": "attended-plant",
   "metadata": {},
   "outputs": [],
   "source": [
    "shorthands = []\n",
    "output_dirs = []\n",
    "\n",
    "for experiment_type, control_type in product([\"gluttonous\", \"picky\"], repeat=2):\n",
    "    shorthand = '{}{}'.format(experiment_type[0], control_type[0])\n",
    "    shorthands.append(shorthand)\n",
    "    output_dir = 'corr_and_expl_types_{}'.format(shorthand)\n",
    "    output_dirs.append(output_dir)\n",
    "    Path(\"./\" + output_dir).mkdir(parents=True, exist_ok=True)"
   ]
  },
  {
   "cell_type": "code",
   "execution_count": 4,
   "id": "adult-acrylic",
   "metadata": {},
   "outputs": [],
   "source": [
    "input_names = ['../notebook_generation_template.ipynb' for shorthand in shorthands]\n",
    "output_names = ['{}/generate_plots.ag.ipynb'.format(output_dir) for output_dir in output_dirs]\n",
    "\n",
    "parameter_dicts = [{'results_dir': results_dir,\n",
    "                   'base_result_filename': base_coef_analysis_filepath.format(shorthand),\n",
    "                   'output_dir': output_dir}\n",
    "                  for shorthand, output_dir in zip(shorthands, output_dirs)]"
   ]
  },
  {
   "cell_type": "code",
   "execution_count": 5,
   "id": "honey-given",
   "metadata": {},
   "outputs": [],
   "source": [
    "parallel_input = [[input_name, output_name, parameter_dict] \n",
    "                  for input_name, output_name, parameter_dict\n",
    "                  in zip(input_names, output_names, parameter_dicts)]"
   ]
  },
  {
   "cell_type": "code",
   "execution_count": 6,
   "id": "adjacent-specialist",
   "metadata": {},
   "outputs": [],
   "source": [
    "pool = mp.Pool(mp.cpu_count())\n",
    "pool.starmap(pm.execute_notebook, parallel_input)\n",
    "pool.close()\n",
    "pool.join()"
   ]
  }
 ],
 "metadata": {
  "kernelspec": {
   "display_name": "Python 3",
   "language": "python",
   "name": "python3"
  },
  "language_info": {
   "codemirror_mode": {
    "name": "ipython",
    "version": 3
   },
   "file_extension": ".py",
   "mimetype": "text/x-python",
   "name": "python",
   "nbconvert_exporter": "python",
   "pygments_lexer": "ipython3",
   "version": "3.9.2"
  }
 },
 "nbformat": 4,
 "nbformat_minor": 5
}
