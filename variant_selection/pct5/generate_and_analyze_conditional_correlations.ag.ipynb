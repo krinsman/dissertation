{
 "cells": [
  {
   "cell_type": "code",
   "execution_count": 1,
   "id": "standing-tuning",
   "metadata": {
    "execution": {
     "iopub.execute_input": "2021-04-16T21:13:00.474203Z",
     "iopub.status.busy": "2021-04-16T21:13:00.473016Z",
     "iopub.status.idle": "2021-04-16T21:13:00.481633Z",
     "shell.execute_reply": "2021-04-16T21:13:00.482557Z"
    },
    "papermill": {
     "duration": 0.034794,
     "end_time": "2021-04-16T21:13:00.482958",
     "exception": false,
     "start_time": "2021-04-16T21:13:00.448164",
     "status": "completed"
    },
    "tags": [
     "injected-parameters"
    ]
   },
   "outputs": [],
   "source": [
    "# Parameters\n",
    "percentage = \"5\"\n"
   ]
  },
  {
   "cell_type": "code",
   "execution_count": 2,
   "id": "signal-floor",
   "metadata": {
    "execution": {
     "iopub.execute_input": "2021-04-16T21:13:00.515292Z",
     "iopub.status.busy": "2021-04-16T21:13:00.514036Z",
     "iopub.status.idle": "2021-04-16T21:13:00.719601Z",
     "shell.execute_reply": "2021-04-16T21:13:00.720397Z"
    },
    "papermill": {
     "duration": 0.224654,
     "end_time": "2021-04-16T21:13:00.720645",
     "exception": false,
     "start_time": "2021-04-16T21:13:00.495991",
     "status": "completed"
    },
    "tags": []
   },
   "outputs": [],
   "source": [
    "import numpy as np\n",
    "from itertools import product"
   ]
  },
  {
   "cell_type": "code",
   "execution_count": 3,
   "id": "absolute-territory",
   "metadata": {
    "execution": {
     "iopub.execute_input": "2021-04-16T21:13:00.750293Z",
     "iopub.status.busy": "2021-04-16T21:13:00.749227Z",
     "iopub.status.idle": "2021-04-16T21:13:02.583272Z",
     "shell.execute_reply": "2021-04-16T21:13:02.584126Z"
    },
    "papermill": {
     "duration": 1.851738,
     "end_time": "2021-04-16T21:13:02.584395",
     "exception": false,
     "start_time": "2021-04-16T21:13:00.732657",
     "status": "completed"
    },
    "tags": []
   },
   "outputs": [],
   "source": [
    "from analysis_utils import conditionalCorrelationGenerator, Analyzer\n",
    "from plot_utils import corrVariantsPlotter"
   ]
  },
  {
   "cell_type": "code",
   "execution_count": 4,
   "id": "sufficient-wellington",
   "metadata": {
    "execution": {
     "iopub.execute_input": "2021-04-16T21:13:02.615567Z",
     "iopub.status.busy": "2021-04-16T21:13:02.614407Z",
     "iopub.status.idle": "2021-04-16T21:13:02.619144Z",
     "shell.execute_reply": "2021-04-16T21:13:02.620092Z"
    },
    "papermill": {
     "duration": 0.022642,
     "end_time": "2021-04-16T21:13:02.620378",
     "exception": false,
     "start_time": "2021-04-16T21:13:02.597736",
     "status": "completed"
    },
    "tags": []
   },
   "outputs": [],
   "source": [
    "simulation_dir_name = 'results'\n",
    "output_dir_name = 'conditional_correlations'"
   ]
  },
  {
   "cell_type": "code",
   "execution_count": 5,
   "id": "respective-strap",
   "metadata": {
    "execution": {
     "iopub.execute_input": "2021-04-16T21:13:02.654735Z",
     "iopub.status.busy": "2021-04-16T21:13:02.653567Z",
     "iopub.status.idle": "2021-04-16T21:13:02.656955Z",
     "shell.execute_reply": "2021-04-16T21:13:02.657826Z"
    },
    "papermill": {
     "duration": 0.024995,
     "end_time": "2021-04-16T21:13:02.658096",
     "exception": false,
     "start_time": "2021-04-16T21:13:02.633101",
     "status": "completed"
    },
    "tags": []
   },
   "outputs": [],
   "source": [
    "mode_definitions = corrVariantsPlotter.mode_definitions\n",
    "\n",
    "simulation_dir = 'pct{}/{}'.format(percentage, simulation_dir_name)\n",
    "output_dir = 'pct{}/{}'.format(percentage, output_dir_name)\n",
    "info = {'number_simulations': 100, 'simulation_dir': simulation_dir,\n",
    "        'size': 11, 'seed': 42, 'number_droplets': 100000,\n",
    "       'trimmed_strains':1, 'mode_definitions': mode_definitions,\n",
    "       'output_dir': output_dir,\n",
    "        'base_coefs_name': 'conditional_correlations_averaged_{}.npz',\n",
    "       }"
   ]
  },
  {
   "cell_type": "code",
   "execution_count": 6,
   "id": "infrared-ranch",
   "metadata": {
    "execution": {
     "iopub.execute_input": "2021-04-16T21:13:02.690790Z",
     "iopub.status.busy": "2021-04-16T21:13:02.689615Z",
     "iopub.status.idle": "2021-04-16T21:29:29.301482Z",
     "shell.execute_reply": "2021-04-16T21:29:29.302157Z"
    },
    "papermill": {
     "duration": 986.63137,
     "end_time": "2021-04-16T21:29:29.302376",
     "exception": false,
     "start_time": "2021-04-16T21:13:02.671006",
     "status": "completed"
    },
    "tags": []
   },
   "outputs": [],
   "source": [
    "conditionalCorrelationGenerator(**info)(statistic=\"correlation\")"
   ]
  },
  {
   "cell_type": "code",
   "execution_count": 7,
   "id": "unique-motion",
   "metadata": {
    "execution": {
     "iopub.execute_input": "2021-04-16T21:29:29.331038Z",
     "iopub.status.busy": "2021-04-16T21:29:29.330126Z",
     "iopub.status.idle": "2021-04-16T21:29:29.332807Z",
     "shell.execute_reply": "2021-04-16T21:29:29.333497Z"
    },
    "papermill": {
     "duration": 0.019708,
     "end_time": "2021-04-16T21:29:29.333716",
     "exception": false,
     "start_time": "2021-04-16T21:29:29.314008",
     "status": "completed"
    },
    "tags": []
   },
   "outputs": [],
   "source": [
    "base_coefs_filepath = '{}/{}'.format(info[\"output_dir\"], info[\"base_coefs_name\"])\n",
    "\n",
    "base_coef_analysis_name = 'analyzed_corr_coef_results_{}.npz'\n",
    "base_coef_analysis_filepath = '{}/{}'.format(info[\"output_dir\"], base_coef_analysis_name)"
   ]
  },
  {
   "cell_type": "code",
   "execution_count": 8,
   "id": "entire-repository",
   "metadata": {
    "execution": {
     "iopub.execute_input": "2021-04-16T21:29:29.364488Z",
     "iopub.status.busy": "2021-04-16T21:29:29.363621Z",
     "iopub.status.idle": "2021-04-16T21:34:29.263583Z",
     "shell.execute_reply": "2021-04-16T21:34:29.264283Z"
    },
    "papermill": {
     "duration": 299.918858,
     "end_time": "2021-04-16T21:34:29.264505",
     "exception": false,
     "start_time": "2021-04-16T21:29:29.345647",
     "status": "completed"
    },
    "tags": []
   },
   "outputs": [],
   "source": [
    "for experiment_type, control_type in product(['gluttonous', 'picky'], repeat=2):\n",
    "    \n",
    "    shorthand = (experiment_type[0]+control_type[0])\n",
    "    coefs_filepath = base_coefs_filepath.format(shorthand)\n",
    "    coef_analysis_filepath = base_coef_analysis_filepath.format(shorthand)\n",
    "    \n",
    "    corr_coef_values, analysis_results = Analyzer(coefs_filepath, **info)()\n",
    "    np.savez_compressed(coef_analysis_filepath, corr_coef_values=corr_coef_values, \n",
    "                        mode_definitions=mode_definitions, **analysis_results)"
   ]
  }
 ],
 "metadata": {
  "kernelspec": {
   "display_name": "Python 3",
   "language": "python",
   "name": "python3"
  },
  "language_info": {
   "codemirror_mode": {
    "name": "ipython",
    "version": 3
   },
   "file_extension": ".py",
   "mimetype": "text/x-python",
   "name": "python",
   "nbconvert_exporter": "python",
   "pygments_lexer": "ipython3",
   "version": "3.8.8"
  },
  "papermill": {
   "default_parameters": {},
   "duration": 1291.8065,
   "end_time": "2021-04-16T21:34:30.623760",
   "environment_variables": {},
   "exception": null,
   "input_path": "templates/generate_and_analyze_conditional_correlations.ipynb",
   "output_path": "pct5/generate_and_analyze_conditional_correlations.ag.ipynb",
   "parameters": {
    "percentage": "5"
   },
   "start_time": "2021-04-16T21:12:58.817260",
   "version": "2.3.3"
  }
 },
 "nbformat": 4,
 "nbformat_minor": 5
}