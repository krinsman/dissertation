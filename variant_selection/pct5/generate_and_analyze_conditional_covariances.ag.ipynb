{
 "cells": [
  {
   "cell_type": "code",
   "execution_count": 1,
   "id": "irish-study",
   "metadata": {
    "execution": {
     "iopub.execute_input": "2021-04-16T19:06:46.583999Z",
     "iopub.status.busy": "2021-04-16T19:06:46.582969Z",
     "iopub.status.idle": "2021-04-16T19:06:46.591978Z",
     "shell.execute_reply": "2021-04-16T19:06:46.592777Z"
    },
    "papermill": {
     "duration": 0.032372,
     "end_time": "2021-04-16T19:06:46.593133",
     "exception": false,
     "start_time": "2021-04-16T19:06:46.560761",
     "status": "completed"
    },
    "tags": [
     "injected-parameters"
    ]
   },
   "outputs": [],
   "source": [
    "# Parameters\n",
    "percentage = \"5\"\n"
   ]
  },
  {
   "cell_type": "code",
   "execution_count": 2,
   "id": "recreational-geography",
   "metadata": {
    "execution": {
     "iopub.execute_input": "2021-04-16T19:06:46.624113Z",
     "iopub.status.busy": "2021-04-16T19:06:46.623102Z",
     "iopub.status.idle": "2021-04-16T19:06:46.842507Z",
     "shell.execute_reply": "2021-04-16T19:06:46.843278Z"
    },
    "papermill": {
     "duration": 0.237408,
     "end_time": "2021-04-16T19:06:46.843504",
     "exception": false,
     "start_time": "2021-04-16T19:06:46.606096",
     "status": "completed"
    },
    "tags": []
   },
   "outputs": [],
   "source": [
    "import numpy as np\n",
    "from itertools import product"
   ]
  },
  {
   "cell_type": "code",
   "execution_count": 3,
   "id": "established-detector",
   "metadata": {
    "execution": {
     "iopub.execute_input": "2021-04-16T19:06:46.874648Z",
     "iopub.status.busy": "2021-04-16T19:06:46.873597Z",
     "iopub.status.idle": "2021-04-16T19:06:49.274189Z",
     "shell.execute_reply": "2021-04-16T19:06:49.276024Z"
    },
    "papermill": {
     "duration": 2.419713,
     "end_time": "2021-04-16T19:06:49.276279",
     "exception": false,
     "start_time": "2021-04-16T19:06:46.856566",
     "status": "completed"
    },
    "tags": []
   },
   "outputs": [],
   "source": [
    "from analysis_utils import conditionalCorrelationGenerator, Analyzer\n",
    "from plot_utils import corrVariantsPlotter"
   ]
  },
  {
   "cell_type": "code",
   "execution_count": 4,
   "id": "bright-electricity",
   "metadata": {
    "execution": {
     "iopub.execute_input": "2021-04-16T19:06:49.311627Z",
     "iopub.status.busy": "2021-04-16T19:06:49.310503Z",
     "iopub.status.idle": "2021-04-16T19:06:49.323746Z",
     "shell.execute_reply": "2021-04-16T19:06:49.324774Z"
    },
    "papermill": {
     "duration": 0.035392,
     "end_time": "2021-04-16T19:06:49.325037",
     "exception": false,
     "start_time": "2021-04-16T19:06:49.289645",
     "status": "completed"
    },
    "tags": []
   },
   "outputs": [],
   "source": [
    "simulation_dir_name = 'results'\n",
    "output_dir_name = 'conditional_covariances'"
   ]
  },
  {
   "cell_type": "code",
   "execution_count": 5,
   "id": "becoming-productivity",
   "metadata": {
    "execution": {
     "iopub.execute_input": "2021-04-16T19:06:49.376826Z",
     "iopub.status.busy": "2021-04-16T19:06:49.375754Z",
     "iopub.status.idle": "2021-04-16T19:06:49.406981Z",
     "shell.execute_reply": "2021-04-16T19:06:49.407770Z"
    },
    "papermill": {
     "duration": 0.069749,
     "end_time": "2021-04-16T19:06:49.408051",
     "exception": false,
     "start_time": "2021-04-16T19:06:49.338302",
     "status": "completed"
    },
    "tags": []
   },
   "outputs": [],
   "source": [
    "mode_definitions = corrVariantsPlotter.mode_definitions\n",
    "\n",
    "simulation_dir = 'pct{}/{}'.format(percentage, simulation_dir_name)\n",
    "output_dir = 'pct{}/{}'.format(percentage, output_dir_name)\n",
    "info = {'number_simulations': 100, 'simulation_dir': simulation_dir,\n",
    "        'size': 11, 'seed': 42, 'number_droplets': 100000,\n",
    "       'trimmed_strains':1, 'mode_definitions': mode_definitions,\n",
    "       'output_dir': output_dir,\n",
    "        'base_coefs_name': 'conditional_covariances_averaged_{}.npz',\n",
    "       }"
   ]
  },
  {
   "cell_type": "code",
   "execution_count": 6,
   "id": "accredited-dependence",
   "metadata": {
    "execution": {
     "iopub.execute_input": "2021-04-16T19:06:49.463258Z",
     "iopub.status.busy": "2021-04-16T19:06:49.462228Z",
     "iopub.status.idle": "2021-04-16T19:36:04.966435Z",
     "shell.execute_reply": "2021-04-16T19:36:04.968245Z"
    },
    "papermill": {
     "duration": 1755.546614,
     "end_time": "2021-04-16T19:36:04.971783",
     "exception": false,
     "start_time": "2021-04-16T19:06:49.425169",
     "status": "completed"
    },
    "tags": []
   },
   "outputs": [],
   "source": [
    "conditionalCorrelationGenerator(**info)(statistic=\"covariance\")"
   ]
  },
  {
   "cell_type": "code",
   "execution_count": 7,
   "id": "upset-immune",
   "metadata": {
    "execution": {
     "iopub.execute_input": "2021-04-16T19:36:05.033297Z",
     "iopub.status.busy": "2021-04-16T19:36:05.027691Z",
     "iopub.status.idle": "2021-04-16T19:36:05.043702Z",
     "shell.execute_reply": "2021-04-16T19:36:05.046975Z"
    },
    "papermill": {
     "duration": 0.047593,
     "end_time": "2021-04-16T19:36:05.047298",
     "exception": false,
     "start_time": "2021-04-16T19:36:04.999705",
     "status": "completed"
    },
    "tags": []
   },
   "outputs": [],
   "source": [
    "base_coefs_filepath = '{}/{}'.format(info[\"output_dir\"], info[\"base_coefs_name\"])\n",
    "\n",
    "base_coef_analysis_name = 'analyzed_covariance_results_{}.npz'\n",
    "base_coef_analysis_filepath = '{}/{}'.format(info[\"output_dir\"], base_coef_analysis_name)"
   ]
  },
  {
   "cell_type": "code",
   "execution_count": 8,
   "id": "legal-recognition",
   "metadata": {
    "execution": {
     "iopub.execute_input": "2021-04-16T19:36:05.086876Z",
     "iopub.status.busy": "2021-04-16T19:36:05.085553Z",
     "iopub.status.idle": "2021-04-16T19:42:25.416474Z",
     "shell.execute_reply": "2021-04-16T19:42:25.419009Z"
    },
    "papermill": {
     "duration": 380.355268,
     "end_time": "2021-04-16T19:42:25.419326",
     "exception": false,
     "start_time": "2021-04-16T19:36:05.064058",
     "status": "completed"
    },
    "tags": []
   },
   "outputs": [],
   "source": [
    "for experiment_type, control_type in product(['gluttonous', 'picky'], repeat=2):\n",
    "    \n",
    "    shorthand = (experiment_type[0]+control_type[0])\n",
    "    coefs_filepath = base_coefs_filepath.format(shorthand)\n",
    "    coef_analysis_filepath = base_coef_analysis_filepath.format(shorthand)\n",
    "    \n",
    "    corr_coef_values, analysis_results = Analyzer(coefs_filepath, **info)()\n",
    "    np.savez_compressed(coef_analysis_filepath, corr_coef_values=corr_coef_values, \n",
    "                        mode_definitions=mode_definitions, **analysis_results)"
   ]
  }
 ],
 "metadata": {
  "kernelspec": {
   "display_name": "Python 3",
   "language": "python",
   "name": "python3"
  },
  "language_info": {
   "codemirror_mode": {
    "name": "ipython",
    "version": 3
   },
   "file_extension": ".py",
   "mimetype": "text/x-python",
   "name": "python",
   "nbconvert_exporter": "python",
   "pygments_lexer": "ipython3",
   "version": "3.8.8"
  },
  "papermill": {
   "default_parameters": {},
   "duration": 2142.582493,
   "end_time": "2021-04-16T19:42:27.233229",
   "environment_variables": {},
   "exception": null,
   "input_path": "templates/generate_and_analyze_conditional_covariances.ipynb",
   "output_path": "pct5/generate_and_analyze_conditional_covariances.ag.ipynb",
   "parameters": {
    "percentage": "5"
   },
   "start_time": "2021-04-16T19:06:44.650736",
   "version": "2.3.3"
  }
 },
 "nbformat": 4,
 "nbformat_minor": 5
}