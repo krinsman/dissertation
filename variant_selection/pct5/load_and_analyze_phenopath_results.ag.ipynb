{
 "cells": [
  {
   "cell_type": "code",
   "execution_count": 1,
   "id": "burning-charger",
   "metadata": {
    "execution": {
     "iopub.execute_input": "2021-04-16T20:49:27.694271Z",
     "iopub.status.busy": "2021-04-16T20:49:27.693291Z",
     "iopub.status.idle": "2021-04-16T20:49:27.696983Z",
     "shell.execute_reply": "2021-04-16T20:49:27.697791Z"
    },
    "papermill": {
     "duration": 0.03252,
     "end_time": "2021-04-16T20:49:27.698153",
     "exception": false,
     "start_time": "2021-04-16T20:49:27.665633",
     "status": "completed"
    },
    "tags": [
     "injected-parameters"
    ]
   },
   "outputs": [],
   "source": [
    "# Parameters\n",
    "percentage = \"5\"\n"
   ]
  },
  {
   "cell_type": "code",
   "execution_count": 2,
   "id": "prompt-gabriel",
   "metadata": {
    "execution": {
     "iopub.execute_input": "2021-04-16T20:49:27.731561Z",
     "iopub.status.busy": "2021-04-16T20:49:27.730578Z",
     "iopub.status.idle": "2021-04-16T20:49:27.852266Z",
     "shell.execute_reply": "2021-04-16T20:49:27.853043Z"
    },
    "papermill": {
     "duration": 0.140451,
     "end_time": "2021-04-16T20:49:27.853286",
     "exception": false,
     "start_time": "2021-04-16T20:49:27.712835",
     "status": "completed"
    },
    "tags": []
   },
   "outputs": [],
   "source": [
    "import numpy as np"
   ]
  },
  {
   "cell_type": "code",
   "execution_count": 3,
   "id": "separated-aggregate",
   "metadata": {
    "execution": {
     "iopub.execute_input": "2021-04-16T20:49:27.884956Z",
     "iopub.status.busy": "2021-04-16T20:49:27.883903Z",
     "iopub.status.idle": "2021-04-16T20:49:29.356706Z",
     "shell.execute_reply": "2021-04-16T20:49:29.357605Z"
    },
    "papermill": {
     "duration": 1.490608,
     "end_time": "2021-04-16T20:49:29.357867",
     "exception": false,
     "start_time": "2021-04-16T20:49:27.867259",
     "status": "completed"
    },
    "tags": []
   },
   "outputs": [],
   "source": [
    "from analysis_utils import phenopathCoefficientOrganizer, Analyzer\n",
    "from plot_utils import phenopathVariantsPlotter"
   ]
  },
  {
   "cell_type": "code",
   "execution_count": 4,
   "id": "honest-writing",
   "metadata": {
    "execution": {
     "iopub.execute_input": "2021-04-16T20:49:29.391928Z",
     "iopub.status.busy": "2021-04-16T20:49:29.390966Z",
     "iopub.status.idle": "2021-04-16T20:49:29.394598Z",
     "shell.execute_reply": "2021-04-16T20:49:29.395389Z"
    },
    "papermill": {
     "duration": 0.023629,
     "end_time": "2021-04-16T20:49:29.395613",
     "exception": false,
     "start_time": "2021-04-16T20:49:29.371984",
     "status": "completed"
    },
    "tags": []
   },
   "outputs": [],
   "source": [
    "output_dir_name = 'phenopath_results'\n",
    "simulation_dir_name = 'results'"
   ]
  },
  {
   "cell_type": "code",
   "execution_count": 5,
   "id": "impressed-chase",
   "metadata": {
    "execution": {
     "iopub.execute_input": "2021-04-16T20:49:29.430232Z",
     "iopub.status.busy": "2021-04-16T20:49:29.429231Z",
     "iopub.status.idle": "2021-04-16T20:49:29.432707Z",
     "shell.execute_reply": "2021-04-16T20:49:29.433468Z"
    },
    "papermill": {
     "duration": 0.02411,
     "end_time": "2021-04-16T20:49:29.433770",
     "exception": false,
     "start_time": "2021-04-16T20:49:29.409660",
     "status": "completed"
    },
    "tags": []
   },
   "outputs": [],
   "source": [
    "mode_definitions = phenopathVariantsPlotter.mode_definitions\n",
    "\n",
    "output_dir = 'pct{}/{}'.format(percentage, output_dir_name)\n",
    "simulation_dir = 'pct{}/{}'.format(percentage, simulation_dir_name)"
   ]
  },
  {
   "cell_type": "code",
   "execution_count": 6,
   "id": "controlled-soldier",
   "metadata": {
    "execution": {
     "iopub.execute_input": "2021-04-16T20:49:29.469357Z",
     "iopub.status.busy": "2021-04-16T20:49:29.468406Z",
     "iopub.status.idle": "2021-04-16T20:49:29.471712Z",
     "shell.execute_reply": "2021-04-16T20:49:29.472503Z"
    },
    "papermill": {
     "duration": 0.024869,
     "end_time": "2021-04-16T20:49:29.472757",
     "exception": false,
     "start_time": "2021-04-16T20:49:29.447888",
     "status": "completed"
    },
    "tags": []
   },
   "outputs": [],
   "source": [
    "info = {\n",
    "    'trimmed_strains': 1,\n",
    "    'size': 11,\n",
    "    'seed': 42,\n",
    "    'number_droplets': 100000,\n",
    "    'number_simulations': 100,\n",
    "    'simulation_dir': simulation_dir,\n",
    "    'output_dir': output_dir,\n",
    "    'mode_definitions': mode_definitions\n",
    "}"
   ]
  },
  {
   "cell_type": "code",
   "execution_count": 7,
   "id": "wicked-estate",
   "metadata": {
    "execution": {
     "iopub.execute_input": "2021-04-16T20:49:29.507970Z",
     "iopub.status.busy": "2021-04-16T20:49:29.507017Z",
     "iopub.status.idle": "2021-04-16T20:49:31.157885Z",
     "shell.execute_reply": "2021-04-16T20:49:31.159093Z"
    },
    "papermill": {
     "duration": 1.671678,
     "end_time": "2021-04-16T20:49:31.159441",
     "exception": false,
     "start_time": "2021-04-16T20:49:29.487763",
     "status": "completed"
    },
    "tags": []
   },
   "outputs": [],
   "source": [
    "phenopath_results = phenopathCoefficientOrganizer(**info)()"
   ]
  },
  {
   "cell_type": "code",
   "execution_count": 8,
   "id": "worth-faith",
   "metadata": {
    "execution": {
     "iopub.execute_input": "2021-04-16T20:49:31.204554Z",
     "iopub.status.busy": "2021-04-16T20:49:31.203341Z",
     "iopub.status.idle": "2021-04-16T20:49:31.288973Z",
     "shell.execute_reply": "2021-04-16T20:49:31.290426Z"
    },
    "papermill": {
     "duration": 0.112182,
     "end_time": "2021-04-16T20:49:31.290840",
     "exception": false,
     "start_time": "2021-04-16T20:49:31.178658",
     "status": "completed"
    },
    "tags": []
   },
   "outputs": [],
   "source": [
    "coefs_name = 'phenopath_results.npz'\n",
    "coefs_filepath = '{}/{}'.format(info[\"output_dir\"], coefs_name)\n",
    "np.savez_compressed(coefs_filepath, mode_definitions=mode_definitions, **phenopath_results)"
   ]
  },
  {
   "cell_type": "code",
   "execution_count": 9,
   "id": "demonstrated-integrity",
   "metadata": {
    "execution": {
     "iopub.execute_input": "2021-04-16T20:49:31.334569Z",
     "iopub.status.busy": "2021-04-16T20:49:31.333146Z",
     "iopub.status.idle": "2021-04-16T20:49:31.338888Z",
     "shell.execute_reply": "2021-04-16T20:49:31.340019Z"
    },
    "papermill": {
     "duration": 0.029976,
     "end_time": "2021-04-16T20:49:31.340367",
     "exception": false,
     "start_time": "2021-04-16T20:49:31.310391",
     "status": "completed"
    },
    "tags": []
   },
   "outputs": [],
   "source": [
    "coef_analysis_name = 'analyzed_phenopath_results.npz'\n",
    "coef_analysis_filepath = '{}/{}'.format(info[\"output_dir\"], coef_analysis_name)"
   ]
  },
  {
   "cell_type": "code",
   "execution_count": 10,
   "id": "center-lambda",
   "metadata": {
    "execution": {
     "iopub.execute_input": "2021-04-16T20:49:31.385732Z",
     "iopub.status.busy": "2021-04-16T20:49:31.384489Z",
     "iopub.status.idle": "2021-04-16T20:50:59.524122Z",
     "shell.execute_reply": "2021-04-16T20:50:59.525162Z"
    },
    "papermill": {
     "duration": 88.167846,
     "end_time": "2021-04-16T20:50:59.525512",
     "exception": false,
     "start_time": "2021-04-16T20:49:31.357666",
     "status": "completed"
    },
    "tags": []
   },
   "outputs": [],
   "source": [
    "phenopath_values, analysis_results = Analyzer(coefs_filepath, **info)()\n",
    "np.savez_compressed(coef_analysis_filepath, phenopath_values=phenopath_values, \n",
    "                    mode_definitions=mode_definitions, **analysis_results)"
   ]
  }
 ],
 "metadata": {
  "kernelspec": {
   "display_name": "Python 3",
   "language": "python",
   "name": "python3"
  },
  "language_info": {
   "codemirror_mode": {
    "name": "ipython",
    "version": 3
   },
   "file_extension": ".py",
   "mimetype": "text/x-python",
   "name": "python",
   "nbconvert_exporter": "python",
   "pygments_lexer": "ipython3",
   "version": "3.8.8"
  },
  "papermill": {
   "default_parameters": {},
   "duration": 93.9193,
   "end_time": "2021-04-16T20:51:00.285686",
   "environment_variables": {},
   "exception": null,
   "input_path": "templates/load_and_analyze_phenopath_results.ipynb",
   "output_path": "pct5/load_and_analyze_phenopath_results.ag.ipynb",
   "parameters": {
    "percentage": "5"
   },
   "start_time": "2021-04-16T20:49:26.366386",
   "version": "2.3.3"
  }
 },
 "nbformat": 4,
 "nbformat_minor": 5
}