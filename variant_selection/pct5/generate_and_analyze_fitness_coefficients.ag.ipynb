{
 "cells": [
  {
   "cell_type": "code",
   "execution_count": 1,
   "id": "missing-contrast",
   "metadata": {
    "execution": {
     "iopub.execute_input": "2021-04-16T20:59:35.387971Z",
     "iopub.status.busy": "2021-04-16T20:59:35.386959Z",
     "iopub.status.idle": "2021-04-16T20:59:35.395537Z",
     "shell.execute_reply": "2021-04-16T20:59:35.396359Z"
    },
    "papermill": {
     "duration": 0.032451,
     "end_time": "2021-04-16T20:59:35.396716",
     "exception": false,
     "start_time": "2021-04-16T20:59:35.364265",
     "status": "completed"
    },
    "tags": [
     "injected-parameters"
    ]
   },
   "outputs": [],
   "source": [
    "# Parameters\n",
    "percentage = \"5\"\n"
   ]
  },
  {
   "cell_type": "code",
   "execution_count": 2,
   "id": "organized-haven",
   "metadata": {
    "execution": {
     "iopub.execute_input": "2021-04-16T20:59:35.427210Z",
     "iopub.status.busy": "2021-04-16T20:59:35.426211Z",
     "iopub.status.idle": "2021-04-16T20:59:35.638336Z",
     "shell.execute_reply": "2021-04-16T20:59:35.639182Z"
    },
    "papermill": {
     "duration": 0.230007,
     "end_time": "2021-04-16T20:59:35.639434",
     "exception": false,
     "start_time": "2021-04-16T20:59:35.409427",
     "status": "completed"
    },
    "tags": []
   },
   "outputs": [],
   "source": [
    "import numpy as np\n",
    "from itertools import product"
   ]
  },
  {
   "cell_type": "code",
   "execution_count": 3,
   "id": "abstract-import",
   "metadata": {
    "execution": {
     "iopub.execute_input": "2021-04-16T20:59:35.671619Z",
     "iopub.status.busy": "2021-04-16T20:59:35.670656Z",
     "iopub.status.idle": "2021-04-16T20:59:37.517314Z",
     "shell.execute_reply": "2021-04-16T20:59:37.518270Z"
    },
    "papermill": {
     "duration": 1.86632,
     "end_time": "2021-04-16T20:59:37.518520",
     "exception": false,
     "start_time": "2021-04-16T20:59:35.652200",
     "status": "completed"
    },
    "tags": []
   },
   "outputs": [],
   "source": [
    "from analysis_utils import fitnessGenerator, Analyzer\n",
    "from plot_utils import fitnessVariantsPlotter"
   ]
  },
  {
   "cell_type": "code",
   "execution_count": 4,
   "id": "smaller-swiss",
   "metadata": {
    "execution": {
     "iopub.execute_input": "2021-04-16T20:59:37.555195Z",
     "iopub.status.busy": "2021-04-16T20:59:37.554222Z",
     "iopub.status.idle": "2021-04-16T20:59:37.562902Z",
     "shell.execute_reply": "2021-04-16T20:59:37.564038Z"
    },
    "papermill": {
     "duration": 0.033461,
     "end_time": "2021-04-16T20:59:37.564294",
     "exception": false,
     "start_time": "2021-04-16T20:59:37.530833",
     "status": "completed"
    },
    "tags": []
   },
   "outputs": [],
   "source": [
    "simulation_dir_name = 'results'\n",
    "output_dir_name = 'fitness_coefs'"
   ]
  },
  {
   "cell_type": "code",
   "execution_count": 5,
   "id": "traditional-peripheral",
   "metadata": {
    "execution": {
     "iopub.execute_input": "2021-04-16T20:59:37.599092Z",
     "iopub.status.busy": "2021-04-16T20:59:37.598091Z",
     "iopub.status.idle": "2021-04-16T20:59:37.602281Z",
     "shell.execute_reply": "2021-04-16T20:59:37.603362Z"
    },
    "papermill": {
     "duration": 0.026006,
     "end_time": "2021-04-16T20:59:37.603630",
     "exception": false,
     "start_time": "2021-04-16T20:59:37.577624",
     "status": "completed"
    },
    "tags": []
   },
   "outputs": [],
   "source": [
    "mode_definitions = fitnessVariantsPlotter.mode_definitions\n",
    "\n",
    "simulation_dir = 'pct{}/{}'.format(percentage, simulation_dir_name)\n",
    "output_dir = 'pct{}/{}'.format(percentage, output_dir_name)\n",
    "info = {'number_simulations': 100, 'simulation_dir': simulation_dir,\n",
    "        'size': 11, 'seed': 42, 'number_droplets': 100000,\n",
    "       'trimmed_strains':1, 'mode_definitions': mode_definitions,\n",
    "       'output_dir': output_dir,\n",
    "        'base_coefs_name': 'fitness_coefs_averaged_{}.npz',\n",
    "       }"
   ]
  },
  {
   "cell_type": "code",
   "execution_count": 6,
   "id": "excellent-notebook",
   "metadata": {
    "execution": {
     "iopub.execute_input": "2021-04-16T20:59:37.636172Z",
     "iopub.status.busy": "2021-04-16T20:59:37.635096Z",
     "iopub.status.idle": "2021-04-16T21:10:23.112006Z",
     "shell.execute_reply": "2021-04-16T21:10:23.113213Z"
    },
    "papermill": {
     "duration": 645.496763,
     "end_time": "2021-04-16T21:10:23.113548",
     "exception": false,
     "start_time": "2021-04-16T20:59:37.616785",
     "status": "completed"
    },
    "tags": []
   },
   "outputs": [],
   "source": [
    "fitnessGenerator(**info)()"
   ]
  },
  {
   "cell_type": "code",
   "execution_count": 7,
   "id": "based-crown",
   "metadata": {
    "execution": {
     "iopub.execute_input": "2021-04-16T21:10:23.152653Z",
     "iopub.status.busy": "2021-04-16T21:10:23.151428Z",
     "iopub.status.idle": "2021-04-16T21:10:23.158283Z",
     "shell.execute_reply": "2021-04-16T21:10:23.159540Z"
    },
    "papermill": {
     "duration": 0.033224,
     "end_time": "2021-04-16T21:10:23.159850",
     "exception": false,
     "start_time": "2021-04-16T21:10:23.126626",
     "status": "completed"
    },
    "tags": []
   },
   "outputs": [],
   "source": [
    "base_coefs_filepath = '{}/{}'.format(info[\"output_dir\"], info[\"base_coefs_name\"])\n",
    "\n",
    "base_coef_analysis_name = 'analyzed_fitness_coef_results_{}.npz'\n",
    "base_coef_analysis_filepath = '{}/{}'.format(info[\"output_dir\"], base_coef_analysis_name)"
   ]
  },
  {
   "cell_type": "code",
   "execution_count": 8,
   "id": "directed-support",
   "metadata": {
    "execution": {
     "iopub.execute_input": "2021-04-16T21:10:23.199230Z",
     "iopub.status.busy": "2021-04-16T21:10:23.198033Z",
     "iopub.status.idle": "2021-04-16T21:16:12.485186Z",
     "shell.execute_reply": "2021-04-16T21:16:12.486686Z"
    },
    "papermill": {
     "duration": 349.311761,
     "end_time": "2021-04-16T21:16:12.486988",
     "exception": false,
     "start_time": "2021-04-16T21:10:23.175227",
     "status": "completed"
    },
    "tags": []
   },
   "outputs": [],
   "source": [
    "for experiment_type, control_type in product(['gluttonous', 'picky'], repeat=2):\n",
    "    \n",
    "    shorthand = (experiment_type[0]+control_type[0])\n",
    "    coefs_filepath = base_coefs_filepath.format(shorthand)\n",
    "    coef_analysis_filepath = base_coef_analysis_filepath.format(shorthand)\n",
    "    \n",
    "    fitness_coef_values, analysis_results = Analyzer(coefs_filepath, **info)()\n",
    "    np.savez_compressed(coef_analysis_filepath, fitness_coef_values=fitness_coef_values, \n",
    "                        mode_definitions=mode_definitions, **analysis_results)"
   ]
  }
 ],
 "metadata": {
  "kernelspec": {
   "display_name": "Python 3",
   "language": "python",
   "name": "python3"
  },
  "language_info": {
   "codemirror_mode": {
    "name": "ipython",
    "version": 3
   },
   "file_extension": ".py",
   "mimetype": "text/x-python",
   "name": "python",
   "nbconvert_exporter": "python",
   "pygments_lexer": "ipython3",
   "version": "3.8.8"
  },
  "papermill": {
   "default_parameters": {},
   "duration": 1000.197863,
   "end_time": "2021-04-16T21:16:13.687224",
   "environment_variables": {},
   "exception": null,
   "input_path": "templates/generate_and_analyze_fitness_coefficients.ipynb",
   "output_path": "pct5/generate_and_analyze_fitness_coefficients.ag.ipynb",
   "parameters": {
    "percentage": "5"
   },
   "start_time": "2021-04-16T20:59:33.489361",
   "version": "2.3.3"
  }
 },
 "nbformat": 4,
 "nbformat_minor": 5
}