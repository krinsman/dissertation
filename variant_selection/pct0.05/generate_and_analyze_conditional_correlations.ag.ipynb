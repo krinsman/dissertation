{
 "cells": [
  {
   "cell_type": "code",
   "execution_count": 1,
   "id": "charming-indonesia",
   "metadata": {
    "execution": {
     "iopub.execute_input": "2021-04-16T21:00:45.728083Z",
     "iopub.status.busy": "2021-04-16T21:00:45.726861Z",
     "iopub.status.idle": "2021-04-16T21:00:45.732033Z",
     "shell.execute_reply": "2021-04-16T21:00:45.732979Z"
    },
    "papermill": {
     "duration": 0.034206,
     "end_time": "2021-04-16T21:00:45.733407",
     "exception": false,
     "start_time": "2021-04-16T21:00:45.699201",
     "status": "completed"
    },
    "tags": [
     "injected-parameters"
    ]
   },
   "outputs": [],
   "source": [
    "# Parameters\n",
    "percentage = \"0.05\"\n"
   ]
  },
  {
   "cell_type": "code",
   "execution_count": 2,
   "id": "signal-floor",
   "metadata": {
    "execution": {
     "iopub.execute_input": "2021-04-16T21:00:45.764400Z",
     "iopub.status.busy": "2021-04-16T21:00:45.763123Z",
     "iopub.status.idle": "2021-04-16T21:00:45.948800Z",
     "shell.execute_reply": "2021-04-16T21:00:45.950390Z"
    },
    "papermill": {
     "duration": 0.204747,
     "end_time": "2021-04-16T21:00:45.950680",
     "exception": false,
     "start_time": "2021-04-16T21:00:45.745933",
     "status": "completed"
    },
    "tags": []
   },
   "outputs": [],
   "source": [
    "import numpy as np\n",
    "from itertools import product"
   ]
  },
  {
   "cell_type": "code",
   "execution_count": 3,
   "id": "absolute-territory",
   "metadata": {
    "execution": {
     "iopub.execute_input": "2021-04-16T21:00:45.982000Z",
     "iopub.status.busy": "2021-04-16T21:00:45.979087Z",
     "iopub.status.idle": "2021-04-16T21:00:47.758572Z",
     "shell.execute_reply": "2021-04-16T21:00:47.760781Z"
    },
    "papermill": {
     "duration": 1.797393,
     "end_time": "2021-04-16T21:00:47.761131",
     "exception": false,
     "start_time": "2021-04-16T21:00:45.963738",
     "status": "completed"
    },
    "tags": []
   },
   "outputs": [],
   "source": [
    "from analysis_utils import conditionalCorrelationGenerator, Analyzer\n",
    "from plot_utils import corrVariantsPlotter"
   ]
  },
  {
   "cell_type": "code",
   "execution_count": 4,
   "id": "sufficient-wellington",
   "metadata": {
    "execution": {
     "iopub.execute_input": "2021-04-16T21:00:47.794959Z",
     "iopub.status.busy": "2021-04-16T21:00:47.793833Z",
     "iopub.status.idle": "2021-04-16T21:00:47.798722Z",
     "shell.execute_reply": "2021-04-16T21:00:47.800469Z"
    },
    "papermill": {
     "duration": 0.025228,
     "end_time": "2021-04-16T21:00:47.800756",
     "exception": false,
     "start_time": "2021-04-16T21:00:47.775528",
     "status": "completed"
    },
    "tags": []
   },
   "outputs": [],
   "source": [
    "simulation_dir_name = 'results'\n",
    "output_dir_name = 'conditional_correlations'"
   ]
  },
  {
   "cell_type": "code",
   "execution_count": 5,
   "id": "respective-strap",
   "metadata": {
    "execution": {
     "iopub.execute_input": "2021-04-16T21:00:47.837032Z",
     "iopub.status.busy": "2021-04-16T21:00:47.835979Z",
     "iopub.status.idle": "2021-04-16T21:00:47.845216Z",
     "shell.execute_reply": "2021-04-16T21:00:47.846226Z"
    },
    "papermill": {
     "duration": 0.03211,
     "end_time": "2021-04-16T21:00:47.846489",
     "exception": false,
     "start_time": "2021-04-16T21:00:47.814379",
     "status": "completed"
    },
    "tags": []
   },
   "outputs": [],
   "source": [
    "mode_definitions = corrVariantsPlotter.mode_definitions\n",
    "\n",
    "simulation_dir = 'pct{}/{}'.format(percentage, simulation_dir_name)\n",
    "output_dir = 'pct{}/{}'.format(percentage, output_dir_name)\n",
    "info = {'number_simulations': 100, 'simulation_dir': simulation_dir,\n",
    "        'size': 11, 'seed': 42, 'number_droplets': 100000,\n",
    "       'trimmed_strains':1, 'mode_definitions': mode_definitions,\n",
    "       'output_dir': output_dir,\n",
    "        'base_coefs_name': 'conditional_correlations_averaged_{}.npz',\n",
    "       }"
   ]
  },
  {
   "cell_type": "code",
   "execution_count": 6,
   "id": "infrared-ranch",
   "metadata": {
    "execution": {
     "iopub.execute_input": "2021-04-16T21:00:47.881718Z",
     "iopub.status.busy": "2021-04-16T21:00:47.880306Z",
     "iopub.status.idle": "2021-04-16T21:07:04.071552Z",
     "shell.execute_reply": "2021-04-16T21:07:04.072595Z"
    },
    "papermill": {
     "duration": 376.213019,
     "end_time": "2021-04-16T21:07:04.072889",
     "exception": false,
     "start_time": "2021-04-16T21:00:47.859870",
     "status": "completed"
    },
    "tags": []
   },
   "outputs": [],
   "source": [
    "conditionalCorrelationGenerator(**info)(statistic=\"correlation\")"
   ]
  },
  {
   "cell_type": "code",
   "execution_count": 7,
   "id": "unique-motion",
   "metadata": {
    "execution": {
     "iopub.execute_input": "2021-04-16T21:07:04.110147Z",
     "iopub.status.busy": "2021-04-16T21:07:04.108632Z",
     "iopub.status.idle": "2021-04-16T21:07:04.116441Z",
     "shell.execute_reply": "2021-04-16T21:07:04.117961Z"
    },
    "papermill": {
     "duration": 0.031168,
     "end_time": "2021-04-16T21:07:04.118279",
     "exception": false,
     "start_time": "2021-04-16T21:07:04.087111",
     "status": "completed"
    },
    "tags": []
   },
   "outputs": [],
   "source": [
    "base_coefs_filepath = '{}/{}'.format(info[\"output_dir\"], info[\"base_coefs_name\"])\n",
    "\n",
    "base_coef_analysis_name = 'analyzed_corr_coef_results_{}.npz'\n",
    "base_coef_analysis_filepath = '{}/{}'.format(info[\"output_dir\"], base_coef_analysis_name)"
   ]
  },
  {
   "cell_type": "code",
   "execution_count": 8,
   "id": "entire-repository",
   "metadata": {
    "execution": {
     "iopub.execute_input": "2021-04-16T21:07:04.155914Z",
     "iopub.status.busy": "2021-04-16T21:07:04.154774Z",
     "iopub.status.idle": "2021-04-16T21:12:58.228124Z",
     "shell.execute_reply": "2021-04-16T21:12:58.229858Z"
    },
    "papermill": {
     "duration": 354.096802,
     "end_time": "2021-04-16T21:12:58.230137",
     "exception": false,
     "start_time": "2021-04-16T21:07:04.133335",
     "status": "completed"
    },
    "tags": []
   },
   "outputs": [],
   "source": [
    "for experiment_type, control_type in product(['gluttonous', 'picky'], repeat=2):\n",
    "    \n",
    "    shorthand = (experiment_type[0]+control_type[0])\n",
    "    coefs_filepath = base_coefs_filepath.format(shorthand)\n",
    "    coef_analysis_filepath = base_coef_analysis_filepath.format(shorthand)\n",
    "    \n",
    "    corr_coef_values, analysis_results = Analyzer(coefs_filepath, **info)()\n",
    "    np.savez_compressed(coef_analysis_filepath, corr_coef_values=corr_coef_values, \n",
    "                        mode_definitions=mode_definitions, **analysis_results)"
   ]
  }
 ],
 "metadata": {
  "kernelspec": {
   "display_name": "Python 3",
   "language": "python",
   "name": "python3"
  },
  "language_info": {
   "codemirror_mode": {
    "name": "ipython",
    "version": 3
   },
   "file_extension": ".py",
   "mimetype": "text/x-python",
   "name": "python",
   "nbconvert_exporter": "python",
   "pygments_lexer": "ipython3",
   "version": "3.8.8"
  },
  "papermill": {
   "default_parameters": {},
   "duration": 734.605367,
   "end_time": "2021-04-16T21:12:58.770476",
   "environment_variables": {},
   "exception": null,
   "input_path": "templates/generate_and_analyze_conditional_correlations.ipynb",
   "output_path": "pct0.05/generate_and_analyze_conditional_correlations.ag.ipynb",
   "parameters": {
    "percentage": "0.05"
   },
   "start_time": "2021-04-16T21:00:44.165109",
   "version": "2.3.3"
  }
 },
 "nbformat": 4,
 "nbformat_minor": 5
}