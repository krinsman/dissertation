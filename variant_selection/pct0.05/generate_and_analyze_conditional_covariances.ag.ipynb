{
 "cells": [
  {
   "cell_type": "code",
   "execution_count": 1,
   "id": "digital-policy",
   "metadata": {
    "execution": {
     "iopub.execute_input": "2021-04-16T18:31:58.060770Z",
     "iopub.status.busy": "2021-04-16T18:31:58.059626Z",
     "iopub.status.idle": "2021-04-16T18:31:58.072797Z",
     "shell.execute_reply": "2021-04-16T18:31:58.073651Z"
    },
    "papermill": {
     "duration": 0.036681,
     "end_time": "2021-04-16T18:31:58.074071",
     "exception": false,
     "start_time": "2021-04-16T18:31:58.037390",
     "status": "completed"
    },
    "tags": [
     "injected-parameters"
    ]
   },
   "outputs": [],
   "source": [
    "# Parameters\n",
    "percentage = \"0.05\"\n"
   ]
  },
  {
   "cell_type": "code",
   "execution_count": 2,
   "id": "recreational-geography",
   "metadata": {
    "execution": {
     "iopub.execute_input": "2021-04-16T18:31:58.149778Z",
     "iopub.status.busy": "2021-04-16T18:31:58.148181Z",
     "iopub.status.idle": "2021-04-16T18:31:58.588902Z",
     "shell.execute_reply": "2021-04-16T18:31:58.593893Z"
    },
    "papermill": {
     "duration": 0.467183,
     "end_time": "2021-04-16T18:31:58.594166",
     "exception": false,
     "start_time": "2021-04-16T18:31:58.126983",
     "status": "completed"
    },
    "tags": []
   },
   "outputs": [],
   "source": [
    "import numpy as np\n",
    "from itertools import product"
   ]
  },
  {
   "cell_type": "code",
   "execution_count": 3,
   "id": "established-detector",
   "metadata": {
    "execution": {
     "iopub.execute_input": "2021-04-16T18:31:58.882890Z",
     "iopub.status.busy": "2021-04-16T18:31:58.881664Z",
     "iopub.status.idle": "2021-04-16T18:32:03.549996Z",
     "shell.execute_reply": "2021-04-16T18:32:03.551010Z"
    },
    "papermill": {
     "duration": 4.685487,
     "end_time": "2021-04-16T18:32:03.551289",
     "exception": false,
     "start_time": "2021-04-16T18:31:58.865802",
     "status": "completed"
    },
    "tags": []
   },
   "outputs": [],
   "source": [
    "from analysis_utils import conditionalCorrelationGenerator, Analyzer\n",
    "from plot_utils import corrVariantsPlotter"
   ]
  },
  {
   "cell_type": "code",
   "execution_count": 4,
   "id": "bright-electricity",
   "metadata": {
    "execution": {
     "iopub.execute_input": "2021-04-16T18:32:03.594312Z",
     "iopub.status.busy": "2021-04-16T18:32:03.593150Z",
     "iopub.status.idle": "2021-04-16T18:32:03.604010Z",
     "shell.execute_reply": "2021-04-16T18:32:03.605400Z"
    },
    "papermill": {
     "duration": 0.041352,
     "end_time": "2021-04-16T18:32:03.605661",
     "exception": false,
     "start_time": "2021-04-16T18:32:03.564309",
     "status": "completed"
    },
    "tags": []
   },
   "outputs": [],
   "source": [
    "simulation_dir_name = 'results'\n",
    "output_dir_name = 'conditional_covariances'"
   ]
  },
  {
   "cell_type": "code",
   "execution_count": 5,
   "id": "becoming-productivity",
   "metadata": {
    "execution": {
     "iopub.execute_input": "2021-04-16T18:32:03.642717Z",
     "iopub.status.busy": "2021-04-16T18:32:03.641500Z",
     "iopub.status.idle": "2021-04-16T18:32:03.645877Z",
     "shell.execute_reply": "2021-04-16T18:32:03.646846Z"
    },
    "papermill": {
     "duration": 0.028952,
     "end_time": "2021-04-16T18:32:03.647097",
     "exception": false,
     "start_time": "2021-04-16T18:32:03.618145",
     "status": "completed"
    },
    "tags": []
   },
   "outputs": [],
   "source": [
    "mode_definitions = corrVariantsPlotter.mode_definitions\n",
    "\n",
    "simulation_dir = 'pct{}/{}'.format(percentage, simulation_dir_name)\n",
    "output_dir = 'pct{}/{}'.format(percentage, output_dir_name)\n",
    "info = {'number_simulations': 100, 'simulation_dir': simulation_dir,\n",
    "        'size': 11, 'seed': 42, 'number_droplets': 100000,\n",
    "       'trimmed_strains':1, 'mode_definitions': mode_definitions,\n",
    "       'output_dir': output_dir,\n",
    "        'base_coefs_name': 'conditional_covariances_averaged_{}.npz',\n",
    "       }"
   ]
  },
  {
   "cell_type": "code",
   "execution_count": 6,
   "id": "accredited-dependence",
   "metadata": {
    "execution": {
     "iopub.execute_input": "2021-04-16T18:32:03.796123Z",
     "iopub.status.busy": "2021-04-16T18:32:03.792405Z",
     "iopub.status.idle": "2021-04-16T18:50:30.368073Z",
     "shell.execute_reply": "2021-04-16T18:50:30.369574Z"
    },
    "papermill": {
     "duration": 1106.690151,
     "end_time": "2021-04-16T18:50:30.370844",
     "exception": false,
     "start_time": "2021-04-16T18:32:03.680693",
     "status": "completed"
    },
    "tags": []
   },
   "outputs": [],
   "source": [
    "conditionalCorrelationGenerator(**info)(statistic=\"covariance\")"
   ]
  },
  {
   "cell_type": "code",
   "execution_count": 7,
   "id": "upset-immune",
   "metadata": {
    "execution": {
     "iopub.execute_input": "2021-04-16T18:50:30.425944Z",
     "iopub.status.busy": "2021-04-16T18:50:30.424283Z",
     "iopub.status.idle": "2021-04-16T18:50:30.430266Z",
     "shell.execute_reply": "2021-04-16T18:50:30.431410Z"
    },
    "papermill": {
     "duration": 0.037091,
     "end_time": "2021-04-16T18:50:30.431723",
     "exception": false,
     "start_time": "2021-04-16T18:50:30.394632",
     "status": "completed"
    },
    "tags": []
   },
   "outputs": [],
   "source": [
    "base_coefs_filepath = '{}/{}'.format(info[\"output_dir\"], info[\"base_coefs_name\"])\n",
    "\n",
    "base_coef_analysis_name = 'analyzed_covariance_results_{}.npz'\n",
    "base_coef_analysis_filepath = '{}/{}'.format(info[\"output_dir\"], base_coef_analysis_name)"
   ]
  },
  {
   "cell_type": "code",
   "execution_count": 8,
   "id": "legal-recognition",
   "metadata": {
    "execution": {
     "iopub.execute_input": "2021-04-16T18:50:30.471441Z",
     "iopub.status.busy": "2021-04-16T18:50:30.470078Z",
     "iopub.status.idle": "2021-04-16T19:07:09.878131Z",
     "shell.execute_reply": "2021-04-16T19:07:09.884373Z"
    },
    "papermill": {
     "duration": 999.438733,
     "end_time": "2021-04-16T19:07:09.884648",
     "exception": false,
     "start_time": "2021-04-16T18:50:30.445915",
     "status": "completed"
    },
    "tags": []
   },
   "outputs": [],
   "source": [
    "for experiment_type, control_type in product(['gluttonous', 'picky'], repeat=2):\n",
    "    \n",
    "    shorthand = (experiment_type[0]+control_type[0])\n",
    "    coefs_filepath = base_coefs_filepath.format(shorthand)\n",
    "    coef_analysis_filepath = base_coef_analysis_filepath.format(shorthand)\n",
    "    \n",
    "    corr_coef_values, analysis_results = Analyzer(coefs_filepath, **info)()\n",
    "    np.savez_compressed(coef_analysis_filepath, corr_coef_values=corr_coef_values, \n",
    "                        mode_definitions=mode_definitions, **analysis_results)"
   ]
  }
 ],
 "metadata": {
  "kernelspec": {
   "display_name": "Python 3",
   "language": "python",
   "name": "python3"
  },
  "language_info": {
   "codemirror_mode": {
    "name": "ipython",
    "version": 3
   },
   "file_extension": ".py",
   "mimetype": "text/x-python",
   "name": "python",
   "nbconvert_exporter": "python",
   "pygments_lexer": "ipython3",
   "version": "3.8.8"
  },
  "papermill": {
   "default_parameters": {},
   "duration": 2119.626378,
   "end_time": "2021-04-16T19:07:11.870345",
   "environment_variables": {},
   "exception": null,
   "input_path": "templates/generate_and_analyze_conditional_covariances.ipynb",
   "output_path": "pct0.05/generate_and_analyze_conditional_covariances.ag.ipynb",
   "parameters": {
    "percentage": "0.05"
   },
   "start_time": "2021-04-16T18:31:52.243967",
   "version": "2.3.3"
  }
 },
 "nbformat": 4,
 "nbformat_minor": 5
}