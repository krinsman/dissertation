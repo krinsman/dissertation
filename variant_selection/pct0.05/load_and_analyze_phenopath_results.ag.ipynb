{
 "cells": [
  {
   "cell_type": "code",
   "execution_count": 1,
   "id": "mental-impression",
   "metadata": {
    "execution": {
     "iopub.execute_input": "2021-04-16T20:47:58.927982Z",
     "iopub.status.busy": "2021-04-16T20:47:58.923995Z",
     "iopub.status.idle": "2021-04-16T20:47:58.930813Z",
     "shell.execute_reply": "2021-04-16T20:47:58.931763Z"
    },
    "papermill": {
     "duration": 0.028382,
     "end_time": "2021-04-16T20:47:58.932125",
     "exception": false,
     "start_time": "2021-04-16T20:47:58.903743",
     "status": "completed"
    },
    "tags": [
     "injected-parameters"
    ]
   },
   "outputs": [],
   "source": [
    "# Parameters\n",
    "percentage = \"0.05\"\n"
   ]
  },
  {
   "cell_type": "code",
   "execution_count": 2,
   "id": "prompt-gabriel",
   "metadata": {
    "execution": {
     "iopub.execute_input": "2021-04-16T20:47:58.967963Z",
     "iopub.status.busy": "2021-04-16T20:47:58.966899Z",
     "iopub.status.idle": "2021-04-16T20:47:59.130279Z",
     "shell.execute_reply": "2021-04-16T20:47:59.131062Z"
    },
    "papermill": {
     "duration": 0.184562,
     "end_time": "2021-04-16T20:47:59.131304",
     "exception": false,
     "start_time": "2021-04-16T20:47:58.946742",
     "status": "completed"
    },
    "tags": []
   },
   "outputs": [],
   "source": [
    "import numpy as np"
   ]
  },
  {
   "cell_type": "code",
   "execution_count": 3,
   "id": "separated-aggregate",
   "metadata": {
    "execution": {
     "iopub.execute_input": "2021-04-16T20:47:59.163244Z",
     "iopub.status.busy": "2021-04-16T20:47:59.162228Z",
     "iopub.status.idle": "2021-04-16T20:48:00.922762Z",
     "shell.execute_reply": "2021-04-16T20:48:00.923714Z"
    },
    "papermill": {
     "duration": 1.778508,
     "end_time": "2021-04-16T20:48:00.923943",
     "exception": false,
     "start_time": "2021-04-16T20:47:59.145435",
     "status": "completed"
    },
    "tags": []
   },
   "outputs": [],
   "source": [
    "from analysis_utils import phenopathCoefficientOrganizer, Analyzer\n",
    "from plot_utils import phenopathVariantsPlotter"
   ]
  },
  {
   "cell_type": "code",
   "execution_count": 4,
   "id": "honest-writing",
   "metadata": {
    "execution": {
     "iopub.execute_input": "2021-04-16T20:48:00.958511Z",
     "iopub.status.busy": "2021-04-16T20:48:00.957438Z",
     "iopub.status.idle": "2021-04-16T20:48:00.964122Z",
     "shell.execute_reply": "2021-04-16T20:48:00.965061Z"
    },
    "papermill": {
     "duration": 0.025772,
     "end_time": "2021-04-16T20:48:00.965295",
     "exception": false,
     "start_time": "2021-04-16T20:48:00.939523",
     "status": "completed"
    },
    "tags": []
   },
   "outputs": [],
   "source": [
    "output_dir_name = 'phenopath_results'\n",
    "simulation_dir_name = 'results'"
   ]
  },
  {
   "cell_type": "code",
   "execution_count": 5,
   "id": "impressed-chase",
   "metadata": {
    "execution": {
     "iopub.execute_input": "2021-04-16T20:48:01.003450Z",
     "iopub.status.busy": "2021-04-16T20:48:01.002449Z",
     "iopub.status.idle": "2021-04-16T20:48:01.006768Z",
     "shell.execute_reply": "2021-04-16T20:48:01.007767Z"
    },
    "papermill": {
     "duration": 0.028869,
     "end_time": "2021-04-16T20:48:01.008014",
     "exception": false,
     "start_time": "2021-04-16T20:48:00.979145",
     "status": "completed"
    },
    "tags": []
   },
   "outputs": [],
   "source": [
    "mode_definitions = phenopathVariantsPlotter.mode_definitions\n",
    "\n",
    "output_dir = 'pct{}/{}'.format(percentage, output_dir_name)\n",
    "simulation_dir = 'pct{}/{}'.format(percentage, simulation_dir_name)"
   ]
  },
  {
   "cell_type": "code",
   "execution_count": 6,
   "id": "controlled-soldier",
   "metadata": {
    "execution": {
     "iopub.execute_input": "2021-04-16T20:48:01.042854Z",
     "iopub.status.busy": "2021-04-16T20:48:01.040464Z",
     "iopub.status.idle": "2021-04-16T20:48:01.048661Z",
     "shell.execute_reply": "2021-04-16T20:48:01.051576Z"
    },
    "papermill": {
     "duration": 0.029059,
     "end_time": "2021-04-16T20:48:01.051853",
     "exception": false,
     "start_time": "2021-04-16T20:48:01.022794",
     "status": "completed"
    },
    "tags": []
   },
   "outputs": [],
   "source": [
    "info = {\n",
    "    'trimmed_strains': 1,\n",
    "    'size': 11,\n",
    "    'seed': 42,\n",
    "    'number_droplets': 100000,\n",
    "    'number_simulations': 100,\n",
    "    'simulation_dir': simulation_dir,\n",
    "    'output_dir': output_dir,\n",
    "    'mode_definitions': mode_definitions\n",
    "}"
   ]
  },
  {
   "cell_type": "code",
   "execution_count": 7,
   "id": "wicked-estate",
   "metadata": {
    "execution": {
     "iopub.execute_input": "2021-04-16T20:48:01.097947Z",
     "iopub.status.busy": "2021-04-16T20:48:01.095800Z",
     "iopub.status.idle": "2021-04-16T20:48:02.274850Z",
     "shell.execute_reply": "2021-04-16T20:48:02.275736Z"
    },
    "papermill": {
     "duration": 1.203634,
     "end_time": "2021-04-16T20:48:02.275988",
     "exception": false,
     "start_time": "2021-04-16T20:48:01.072354",
     "status": "completed"
    },
    "tags": []
   },
   "outputs": [],
   "source": [
    "phenopath_results = phenopathCoefficientOrganizer(**info)()"
   ]
  },
  {
   "cell_type": "code",
   "execution_count": 8,
   "id": "worth-faith",
   "metadata": {
    "execution": {
     "iopub.execute_input": "2021-04-16T20:48:02.315318Z",
     "iopub.status.busy": "2021-04-16T20:48:02.314384Z",
     "iopub.status.idle": "2021-04-16T20:48:02.385204Z",
     "shell.execute_reply": "2021-04-16T20:48:02.386045Z"
    },
    "papermill": {
     "duration": 0.095197,
     "end_time": "2021-04-16T20:48:02.386281",
     "exception": false,
     "start_time": "2021-04-16T20:48:02.291084",
     "status": "completed"
    },
    "tags": []
   },
   "outputs": [],
   "source": [
    "coefs_name = 'phenopath_results.npz'\n",
    "coefs_filepath = '{}/{}'.format(info[\"output_dir\"], coefs_name)\n",
    "np.savez_compressed(coefs_filepath, mode_definitions=mode_definitions, **phenopath_results)"
   ]
  },
  {
   "cell_type": "code",
   "execution_count": 9,
   "id": "demonstrated-integrity",
   "metadata": {
    "execution": {
     "iopub.execute_input": "2021-04-16T20:48:02.433260Z",
     "iopub.status.busy": "2021-04-16T20:48:02.432335Z",
     "iopub.status.idle": "2021-04-16T20:48:02.435413Z",
     "shell.execute_reply": "2021-04-16T20:48:02.436197Z"
    },
    "papermill": {
     "duration": 0.02408,
     "end_time": "2021-04-16T20:48:02.436424",
     "exception": false,
     "start_time": "2021-04-16T20:48:02.412344",
     "status": "completed"
    },
    "tags": []
   },
   "outputs": [],
   "source": [
    "coef_analysis_name = 'analyzed_phenopath_results.npz'\n",
    "coef_analysis_filepath = '{}/{}'.format(info[\"output_dir\"], coef_analysis_name)"
   ]
  },
  {
   "cell_type": "code",
   "execution_count": 10,
   "id": "center-lambda",
   "metadata": {
    "execution": {
     "iopub.execute_input": "2021-04-16T20:48:02.473500Z",
     "iopub.status.busy": "2021-04-16T20:48:02.472600Z",
     "iopub.status.idle": "2021-04-16T20:49:25.777026Z",
     "shell.execute_reply": "2021-04-16T20:49:25.777981Z"
    },
    "papermill": {
     "duration": 83.325794,
     "end_time": "2021-04-16T20:49:25.778225",
     "exception": false,
     "start_time": "2021-04-16T20:48:02.452431",
     "status": "completed"
    },
    "tags": []
   },
   "outputs": [],
   "source": [
    "phenopath_values, analysis_results = Analyzer(coefs_filepath, **info)()\n",
    "np.savez_compressed(coef_analysis_filepath, phenopath_values=phenopath_values, \n",
    "                    mode_definitions=mode_definitions, **analysis_results)"
   ]
  }
 ],
 "metadata": {
  "kernelspec": {
   "display_name": "Python 3",
   "language": "python",
   "name": "python3"
  },
  "language_info": {
   "codemirror_mode": {
    "name": "ipython",
    "version": 3
   },
   "file_extension": ".py",
   "mimetype": "text/x-python",
   "name": "python",
   "nbconvert_exporter": "python",
   "pygments_lexer": "ipython3",
   "version": "3.8.8"
  },
  "papermill": {
   "default_parameters": {},
   "duration": 89.506052,
   "end_time": "2021-04-16T20:49:26.313664",
   "environment_variables": {},
   "exception": null,
   "input_path": "templates/load_and_analyze_phenopath_results.ipynb",
   "output_path": "pct0.05/load_and_analyze_phenopath_results.ag.ipynb",
   "parameters": {
    "percentage": "0.05"
   },
   "start_time": "2021-04-16T20:47:56.807612",
   "version": "2.3.3"
  }
 },
 "nbformat": 4,
 "nbformat_minor": 5
}