{
 "cells": [
  {
   "cell_type": "code",
   "execution_count": 1,
   "id": "marine-exercise",
   "metadata": {
    "execution": {
     "iopub.execute_input": "2021-04-16T20:49:28.037621Z",
     "iopub.status.busy": "2021-04-16T20:49:28.036631Z",
     "iopub.status.idle": "2021-04-16T20:49:28.039769Z",
     "shell.execute_reply": "2021-04-16T20:49:28.040552Z"
    },
    "papermill": {
     "duration": 0.029728,
     "end_time": "2021-04-16T20:49:28.040903",
     "exception": false,
     "start_time": "2021-04-16T20:49:28.011175",
     "status": "completed"
    },
    "tags": [
     "injected-parameters"
    ]
   },
   "outputs": [],
   "source": [
    "# Parameters\n",
    "percentage = \"0.05\"\n"
   ]
  },
  {
   "cell_type": "code",
   "execution_count": 2,
   "id": "organized-haven",
   "metadata": {
    "execution": {
     "iopub.execute_input": "2021-04-16T20:49:28.065285Z",
     "iopub.status.busy": "2021-04-16T20:49:28.064232Z",
     "iopub.status.idle": "2021-04-16T20:49:28.210416Z",
     "shell.execute_reply": "2021-04-16T20:49:28.211204Z"
    },
    "papermill": {
     "duration": 0.158734,
     "end_time": "2021-04-16T20:49:28.211458",
     "exception": false,
     "start_time": "2021-04-16T20:49:28.052724",
     "status": "completed"
    },
    "tags": []
   },
   "outputs": [],
   "source": [
    "import numpy as np\n",
    "from itertools import product"
   ]
  },
  {
   "cell_type": "code",
   "execution_count": 3,
   "id": "abstract-import",
   "metadata": {
    "execution": {
     "iopub.execute_input": "2021-04-16T20:49:28.240319Z",
     "iopub.status.busy": "2021-04-16T20:49:28.239331Z",
     "iopub.status.idle": "2021-04-16T20:49:29.785815Z",
     "shell.execute_reply": "2021-04-16T20:49:29.786893Z"
    },
    "papermill": {
     "duration": 1.563715,
     "end_time": "2021-04-16T20:49:29.787154",
     "exception": false,
     "start_time": "2021-04-16T20:49:28.223439",
     "status": "completed"
    },
    "tags": []
   },
   "outputs": [],
   "source": [
    "from analysis_utils import fitnessGenerator, Analyzer\n",
    "from plot_utils import fitnessVariantsPlotter"
   ]
  },
  {
   "cell_type": "code",
   "execution_count": 4,
   "id": "smaller-swiss",
   "metadata": {
    "execution": {
     "iopub.execute_input": "2021-04-16T20:49:29.816075Z",
     "iopub.status.busy": "2021-04-16T20:49:29.813974Z",
     "iopub.status.idle": "2021-04-16T20:49:29.819427Z",
     "shell.execute_reply": "2021-04-16T20:49:29.820335Z"
    },
    "papermill": {
     "duration": 0.021602,
     "end_time": "2021-04-16T20:49:29.820610",
     "exception": false,
     "start_time": "2021-04-16T20:49:29.799008",
     "status": "completed"
    },
    "tags": []
   },
   "outputs": [],
   "source": [
    "simulation_dir_name = 'results'\n",
    "output_dir_name = 'fitness_coefs'"
   ]
  },
  {
   "cell_type": "code",
   "execution_count": 5,
   "id": "traditional-peripheral",
   "metadata": {
    "execution": {
     "iopub.execute_input": "2021-04-16T20:49:29.854650Z",
     "iopub.status.busy": "2021-04-16T20:49:29.853540Z",
     "iopub.status.idle": "2021-04-16T20:49:29.856576Z",
     "shell.execute_reply": "2021-04-16T20:49:29.857576Z"
    },
    "papermill": {
     "duration": 0.024879,
     "end_time": "2021-04-16T20:49:29.857820",
     "exception": false,
     "start_time": "2021-04-16T20:49:29.832941",
     "status": "completed"
    },
    "tags": []
   },
   "outputs": [],
   "source": [
    "mode_definitions = fitnessVariantsPlotter.mode_definitions\n",
    "\n",
    "simulation_dir = 'pct{}/{}'.format(percentage, simulation_dir_name)\n",
    "output_dir = 'pct{}/{}'.format(percentage, output_dir_name)\n",
    "info = {'number_simulations': 100, 'simulation_dir': simulation_dir,\n",
    "        'size': 11, 'seed': 42, 'number_droplets': 100000,\n",
    "       'trimmed_strains':1, 'mode_definitions': mode_definitions,\n",
    "       'output_dir': output_dir,\n",
    "        'base_coefs_name': 'fitness_coefs_averaged_{}.npz',\n",
    "       }"
   ]
  },
  {
   "cell_type": "code",
   "execution_count": 6,
   "id": "excellent-notebook",
   "metadata": {
    "execution": {
     "iopub.execute_input": "2021-04-16T20:49:29.890235Z",
     "iopub.status.busy": "2021-04-16T20:49:29.886412Z",
     "iopub.status.idle": "2021-04-16T20:53:53.806354Z",
     "shell.execute_reply": "2021-04-16T20:53:53.807733Z"
    },
    "papermill": {
     "duration": 263.937741,
     "end_time": "2021-04-16T20:53:53.808079",
     "exception": false,
     "start_time": "2021-04-16T20:49:29.870338",
     "status": "completed"
    },
    "tags": []
   },
   "outputs": [],
   "source": [
    "fitnessGenerator(**info)()"
   ]
  },
  {
   "cell_type": "code",
   "execution_count": 7,
   "id": "based-crown",
   "metadata": {
    "execution": {
     "iopub.execute_input": "2021-04-16T20:53:53.846676Z",
     "iopub.status.busy": "2021-04-16T20:53:53.845119Z",
     "iopub.status.idle": "2021-04-16T20:53:53.855953Z",
     "shell.execute_reply": "2021-04-16T20:53:53.857712Z"
    },
    "papermill": {
     "duration": 0.036247,
     "end_time": "2021-04-16T20:53:53.858046",
     "exception": false,
     "start_time": "2021-04-16T20:53:53.821799",
     "status": "completed"
    },
    "tags": []
   },
   "outputs": [],
   "source": [
    "base_coefs_filepath = '{}/{}'.format(info[\"output_dir\"], info[\"base_coefs_name\"])\n",
    "\n",
    "base_coef_analysis_name = 'analyzed_fitness_coef_results_{}.npz'\n",
    "base_coef_analysis_filepath = '{}/{}'.format(info[\"output_dir\"], base_coef_analysis_name)"
   ]
  },
  {
   "cell_type": "code",
   "execution_count": 8,
   "id": "directed-support",
   "metadata": {
    "execution": {
     "iopub.execute_input": "2021-04-16T20:53:53.896071Z",
     "iopub.status.busy": "2021-04-16T20:53:53.894996Z",
     "iopub.status.idle": "2021-04-16T20:59:39.995621Z",
     "shell.execute_reply": "2021-04-16T20:59:39.996717Z"
    },
    "papermill": {
     "duration": 346.12335,
     "end_time": "2021-04-16T20:59:39.996977",
     "exception": false,
     "start_time": "2021-04-16T20:53:53.873627",
     "status": "completed"
    },
    "tags": []
   },
   "outputs": [],
   "source": [
    "for experiment_type, control_type in product(['gluttonous', 'picky'], repeat=2):\n",
    "    \n",
    "    shorthand = (experiment_type[0]+control_type[0])\n",
    "    coefs_filepath = base_coefs_filepath.format(shorthand)\n",
    "    coef_analysis_filepath = base_coef_analysis_filepath.format(shorthand)\n",
    "    \n",
    "    fitness_coef_values, analysis_results = Analyzer(coefs_filepath, **info)()\n",
    "    np.savez_compressed(coef_analysis_filepath, fitness_coef_values=fitness_coef_values, \n",
    "                        mode_definitions=mode_definitions, **analysis_results)"
   ]
  }
 ],
 "metadata": {
  "kernelspec": {
   "display_name": "Python 3",
   "language": "python",
   "name": "python3"
  },
  "language_info": {
   "codemirror_mode": {
    "name": "ipython",
    "version": 3
   },
   "file_extension": ".py",
   "mimetype": "text/x-python",
   "name": "python",
   "nbconvert_exporter": "python",
   "pygments_lexer": "ipython3",
   "version": "3.8.8"
  },
  "papermill": {
   "default_parameters": {},
   "duration": 613.748332,
   "end_time": "2021-04-16T20:59:40.535552",
   "environment_variables": {},
   "exception": null,
   "input_path": "templates/generate_and_analyze_fitness_coefficients.ipynb",
   "output_path": "pct0.05/generate_and_analyze_fitness_coefficients.ag.ipynb",
   "parameters": {
    "percentage": "0.05"
   },
   "start_time": "2021-04-16T20:49:26.787220",
   "version": "2.3.3"
  }
 },
 "nbformat": 4,
 "nbformat_minor": 5
}