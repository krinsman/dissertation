{
 "cells": [
  {
   "cell_type": "code",
   "execution_count": 1,
   "id": "senior-publication",
   "metadata": {
    "execution": {
     "iopub.execute_input": "2021-04-16T21:03:48.211005Z",
     "iopub.status.busy": "2021-04-16T21:03:48.209805Z",
     "iopub.status.idle": "2021-04-16T21:03:48.218286Z",
     "shell.execute_reply": "2021-04-16T21:03:48.219100Z"
    },
    "papermill": {
     "duration": 0.034577,
     "end_time": "2021-04-16T21:03:48.219454",
     "exception": false,
     "start_time": "2021-04-16T21:03:48.184877",
     "status": "completed"
    },
    "tags": [
     "injected-parameters"
    ]
   },
   "outputs": [],
   "source": [
    "# Parameters\n",
    "percentage = \"0.2\"\n"
   ]
  },
  {
   "cell_type": "code",
   "execution_count": 2,
   "id": "signal-floor",
   "metadata": {
    "execution": {
     "iopub.execute_input": "2021-04-16T21:03:48.253149Z",
     "iopub.status.busy": "2021-04-16T21:03:48.252020Z",
     "iopub.status.idle": "2021-04-16T21:03:48.474734Z",
     "shell.execute_reply": "2021-04-16T21:03:48.475603Z"
    },
    "papermill": {
     "duration": 0.242596,
     "end_time": "2021-04-16T21:03:48.475888",
     "exception": false,
     "start_time": "2021-04-16T21:03:48.233292",
     "status": "completed"
    },
    "tags": []
   },
   "outputs": [],
   "source": [
    "import numpy as np\n",
    "from itertools import product"
   ]
  },
  {
   "cell_type": "code",
   "execution_count": 3,
   "id": "absolute-territory",
   "metadata": {
    "execution": {
     "iopub.execute_input": "2021-04-16T21:03:48.509943Z",
     "iopub.status.busy": "2021-04-16T21:03:48.508613Z",
     "iopub.status.idle": "2021-04-16T21:03:50.750728Z",
     "shell.execute_reply": "2021-04-16T21:03:50.751974Z"
    },
    "papermill": {
     "duration": 2.262313,
     "end_time": "2021-04-16T21:03:50.752309",
     "exception": false,
     "start_time": "2021-04-16T21:03:48.489996",
     "status": "completed"
    },
    "tags": []
   },
   "outputs": [],
   "source": [
    "from analysis_utils import conditionalCorrelationGenerator, Analyzer\n",
    "from plot_utils import corrVariantsPlotter"
   ]
  },
  {
   "cell_type": "code",
   "execution_count": 4,
   "id": "sufficient-wellington",
   "metadata": {
    "execution": {
     "iopub.execute_input": "2021-04-16T21:03:50.789053Z",
     "iopub.status.busy": "2021-04-16T21:03:50.787572Z",
     "iopub.status.idle": "2021-04-16T21:03:50.793620Z",
     "shell.execute_reply": "2021-04-16T21:03:50.794800Z"
    },
    "papermill": {
     "duration": 0.028759,
     "end_time": "2021-04-16T21:03:50.795168",
     "exception": false,
     "start_time": "2021-04-16T21:03:50.766409",
     "status": "completed"
    },
    "tags": []
   },
   "outputs": [],
   "source": [
    "simulation_dir_name = 'results'\n",
    "output_dir_name = 'conditional_correlations'"
   ]
  },
  {
   "cell_type": "code",
   "execution_count": 5,
   "id": "respective-strap",
   "metadata": {
    "execution": {
     "iopub.execute_input": "2021-04-16T21:03:50.838664Z",
     "iopub.status.busy": "2021-04-16T21:03:50.836288Z",
     "iopub.status.idle": "2021-04-16T21:03:50.843779Z",
     "shell.execute_reply": "2021-04-16T21:03:50.844965Z"
    },
    "papermill": {
     "duration": 0.034914,
     "end_time": "2021-04-16T21:03:50.845360",
     "exception": false,
     "start_time": "2021-04-16T21:03:50.810446",
     "status": "completed"
    },
    "tags": []
   },
   "outputs": [],
   "source": [
    "mode_definitions = corrVariantsPlotter.mode_definitions\n",
    "\n",
    "simulation_dir = 'pct{}/{}'.format(percentage, simulation_dir_name)\n",
    "output_dir = 'pct{}/{}'.format(percentage, output_dir_name)\n",
    "info = {'number_simulations': 100, 'simulation_dir': simulation_dir,\n",
    "        'size': 11, 'seed': 42, 'number_droplets': 100000,\n",
    "       'trimmed_strains':1, 'mode_definitions': mode_definitions,\n",
    "       'output_dir': output_dir,\n",
    "        'base_coefs_name': 'conditional_correlations_averaged_{}.npz',\n",
    "       }"
   ]
  },
  {
   "cell_type": "code",
   "execution_count": 6,
   "id": "infrared-ranch",
   "metadata": {
    "execution": {
     "iopub.execute_input": "2021-04-16T21:03:50.883220Z",
     "iopub.status.busy": "2021-04-16T21:03:50.881888Z",
     "iopub.status.idle": "2021-04-16T21:10:46.953763Z",
     "shell.execute_reply": "2021-04-16T21:10:46.954710Z"
    },
    "papermill": {
     "duration": 416.094737,
     "end_time": "2021-04-16T21:10:46.954953",
     "exception": false,
     "start_time": "2021-04-16T21:03:50.860216",
     "status": "completed"
    },
    "tags": []
   },
   "outputs": [],
   "source": [
    "conditionalCorrelationGenerator(**info)(statistic=\"correlation\")"
   ]
  },
  {
   "cell_type": "code",
   "execution_count": 7,
   "id": "unique-motion",
   "metadata": {
    "execution": {
     "iopub.execute_input": "2021-04-16T21:10:46.988810Z",
     "iopub.status.busy": "2021-04-16T21:10:46.985174Z",
     "iopub.status.idle": "2021-04-16T21:10:46.992489Z",
     "shell.execute_reply": "2021-04-16T21:10:46.993421Z"
    },
    "papermill": {
     "duration": 0.025722,
     "end_time": "2021-04-16T21:10:46.993687",
     "exception": false,
     "start_time": "2021-04-16T21:10:46.967965",
     "status": "completed"
    },
    "tags": []
   },
   "outputs": [],
   "source": [
    "base_coefs_filepath = '{}/{}'.format(info[\"output_dir\"], info[\"base_coefs_name\"])\n",
    "\n",
    "base_coef_analysis_name = 'analyzed_corr_coef_results_{}.npz'\n",
    "base_coef_analysis_filepath = '{}/{}'.format(info[\"output_dir\"], base_coef_analysis_name)"
   ]
  },
  {
   "cell_type": "code",
   "execution_count": 8,
   "id": "entire-repository",
   "metadata": {
    "execution": {
     "iopub.execute_input": "2021-04-16T21:10:47.030477Z",
     "iopub.status.busy": "2021-04-16T21:10:47.029470Z",
     "iopub.status.idle": "2021-04-16T21:16:41.688630Z",
     "shell.execute_reply": "2021-04-16T21:16:41.689696Z"
    },
    "papermill": {
     "duration": 354.682009,
     "end_time": "2021-04-16T21:16:41.689981",
     "exception": false,
     "start_time": "2021-04-16T21:10:47.007972",
     "status": "completed"
    },
    "tags": []
   },
   "outputs": [],
   "source": [
    "for experiment_type, control_type in product(['gluttonous', 'picky'], repeat=2):\n",
    "    \n",
    "    shorthand = (experiment_type[0]+control_type[0])\n",
    "    coefs_filepath = base_coefs_filepath.format(shorthand)\n",
    "    coef_analysis_filepath = base_coef_analysis_filepath.format(shorthand)\n",
    "    \n",
    "    corr_coef_values, analysis_results = Analyzer(coefs_filepath, **info)()\n",
    "    np.savez_compressed(coef_analysis_filepath, corr_coef_values=corr_coef_values, \n",
    "                        mode_definitions=mode_definitions, **analysis_results)"
   ]
  }
 ],
 "metadata": {
  "kernelspec": {
   "display_name": "Python 3",
   "language": "python",
   "name": "python3"
  },
  "language_info": {
   "codemirror_mode": {
    "name": "ipython",
    "version": 3
   },
   "file_extension": ".py",
   "mimetype": "text/x-python",
   "name": "python",
   "nbconvert_exporter": "python",
   "pygments_lexer": "ipython3",
   "version": "3.8.8"
  },
  "papermill": {
   "default_parameters": {},
   "duration": 776.186287,
   "end_time": "2021-04-16T21:16:42.236430",
   "environment_variables": {},
   "exception": null,
   "input_path": "templates/generate_and_analyze_conditional_correlations.ipynb",
   "output_path": "pct0.2/generate_and_analyze_conditional_correlations.ag.ipynb",
   "parameters": {
    "percentage": "0.2"
   },
   "start_time": "2021-04-16T21:03:46.050143",
   "version": "2.3.3"
  }
 },
 "nbformat": 4,
 "nbformat_minor": 5
}