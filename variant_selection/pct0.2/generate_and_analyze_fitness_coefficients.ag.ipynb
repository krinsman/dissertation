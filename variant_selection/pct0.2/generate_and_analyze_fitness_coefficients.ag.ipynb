{
 "cells": [
  {
   "cell_type": "code",
   "execution_count": 1,
   "id": "received-carol",
   "metadata": {
    "execution": {
     "iopub.execute_input": "2021-04-16T20:49:28.384474Z",
     "iopub.status.busy": "2021-04-16T20:49:28.383479Z",
     "iopub.status.idle": "2021-04-16T20:49:28.391329Z",
     "shell.execute_reply": "2021-04-16T20:49:28.392152Z"
    },
    "papermill": {
     "duration": 0.030154,
     "end_time": "2021-04-16T20:49:28.392507",
     "exception": false,
     "start_time": "2021-04-16T20:49:28.362353",
     "status": "completed"
    },
    "tags": [
     "injected-parameters"
    ]
   },
   "outputs": [],
   "source": [
    "# Parameters\n",
    "percentage = \"0.2\"\n"
   ]
  },
  {
   "cell_type": "code",
   "execution_count": 2,
   "id": "organized-haven",
   "metadata": {
    "execution": {
     "iopub.execute_input": "2021-04-16T20:49:28.421047Z",
     "iopub.status.busy": "2021-04-16T20:49:28.419982Z",
     "iopub.status.idle": "2021-04-16T20:49:28.577157Z",
     "shell.execute_reply": "2021-04-16T20:49:28.576322Z"
    },
    "papermill": {
     "duration": 0.173271,
     "end_time": "2021-04-16T20:49:28.577399",
     "exception": false,
     "start_time": "2021-04-16T20:49:28.404128",
     "status": "completed"
    },
    "tags": []
   },
   "outputs": [],
   "source": [
    "import numpy as np\n",
    "from itertools import product"
   ]
  },
  {
   "cell_type": "code",
   "execution_count": 3,
   "id": "abstract-import",
   "metadata": {
    "execution": {
     "iopub.execute_input": "2021-04-16T20:49:28.605931Z",
     "iopub.status.busy": "2021-04-16T20:49:28.604920Z",
     "iopub.status.idle": "2021-04-16T20:49:30.146813Z",
     "shell.execute_reply": "2021-04-16T20:49:30.148050Z"
    },
    "papermill": {
     "duration": 1.559626,
     "end_time": "2021-04-16T20:49:30.148383",
     "exception": false,
     "start_time": "2021-04-16T20:49:28.588757",
     "status": "completed"
    },
    "tags": []
   },
   "outputs": [],
   "source": [
    "from analysis_utils import fitnessGenerator, Analyzer\n",
    "from plot_utils import fitnessVariantsPlotter"
   ]
  },
  {
   "cell_type": "code",
   "execution_count": 4,
   "id": "smaller-swiss",
   "metadata": {
    "execution": {
     "iopub.execute_input": "2021-04-16T20:49:30.182309Z",
     "iopub.status.busy": "2021-04-16T20:49:30.178658Z",
     "iopub.status.idle": "2021-04-16T20:49:30.187833Z",
     "shell.execute_reply": "2021-04-16T20:49:30.189120Z"
    },
    "papermill": {
     "duration": 0.027339,
     "end_time": "2021-04-16T20:49:30.189451",
     "exception": false,
     "start_time": "2021-04-16T20:49:30.162112",
     "status": "completed"
    },
    "tags": []
   },
   "outputs": [],
   "source": [
    "simulation_dir_name = 'results'\n",
    "output_dir_name = 'fitness_coefs'"
   ]
  },
  {
   "cell_type": "code",
   "execution_count": 5,
   "id": "traditional-peripheral",
   "metadata": {
    "execution": {
     "iopub.execute_input": "2021-04-16T20:49:30.221327Z",
     "iopub.status.busy": "2021-04-16T20:49:30.219859Z",
     "iopub.status.idle": "2021-04-16T20:49:30.233282Z",
     "shell.execute_reply": "2021-04-16T20:49:30.234384Z"
    },
    "papermill": {
     "duration": 0.032282,
     "end_time": "2021-04-16T20:49:30.234630",
     "exception": false,
     "start_time": "2021-04-16T20:49:30.202348",
     "status": "completed"
    },
    "tags": []
   },
   "outputs": [],
   "source": [
    "mode_definitions = fitnessVariantsPlotter.mode_definitions\n",
    "\n",
    "simulation_dir = 'pct{}/{}'.format(percentage, simulation_dir_name)\n",
    "output_dir = 'pct{}/{}'.format(percentage, output_dir_name)\n",
    "info = {'number_simulations': 100, 'simulation_dir': simulation_dir,\n",
    "        'size': 11, 'seed': 42, 'number_droplets': 100000,\n",
    "       'trimmed_strains':1, 'mode_definitions': mode_definitions,\n",
    "       'output_dir': output_dir,\n",
    "        'base_coefs_name': 'fitness_coefs_averaged_{}.npz',\n",
    "       }"
   ]
  },
  {
   "cell_type": "code",
   "execution_count": 6,
   "id": "excellent-notebook",
   "metadata": {
    "execution": {
     "iopub.execute_input": "2021-04-16T20:49:30.269428Z",
     "iopub.status.busy": "2021-04-16T20:49:30.268143Z",
     "iopub.status.idle": "2021-04-16T20:55:05.944887Z",
     "shell.execute_reply": "2021-04-16T20:55:05.945935Z"
    },
    "papermill": {
     "duration": 335.697905,
     "end_time": "2021-04-16T20:55:05.946208",
     "exception": false,
     "start_time": "2021-04-16T20:49:30.248303",
     "status": "completed"
    },
    "tags": []
   },
   "outputs": [],
   "source": [
    "fitnessGenerator(**info)()"
   ]
  },
  {
   "cell_type": "code",
   "execution_count": 7,
   "id": "based-crown",
   "metadata": {
    "execution": {
     "iopub.execute_input": "2021-04-16T20:55:05.981842Z",
     "iopub.status.busy": "2021-04-16T20:55:05.980731Z",
     "iopub.status.idle": "2021-04-16T20:55:05.984063Z",
     "shell.execute_reply": "2021-04-16T20:55:05.984999Z"
    },
    "papermill": {
     "duration": 0.025272,
     "end_time": "2021-04-16T20:55:05.985279",
     "exception": false,
     "start_time": "2021-04-16T20:55:05.960007",
     "status": "completed"
    },
    "tags": []
   },
   "outputs": [],
   "source": [
    "base_coefs_filepath = '{}/{}'.format(info[\"output_dir\"], info[\"base_coefs_name\"])\n",
    "\n",
    "base_coef_analysis_name = 'analyzed_fitness_coef_results_{}.npz'\n",
    "base_coef_analysis_filepath = '{}/{}'.format(info[\"output_dir\"], base_coef_analysis_name)"
   ]
  },
  {
   "cell_type": "code",
   "execution_count": 8,
   "id": "directed-support",
   "metadata": {
    "execution": {
     "iopub.execute_input": "2021-04-16T20:55:06.021921Z",
     "iopub.status.busy": "2021-04-16T20:55:06.020757Z",
     "iopub.status.idle": "2021-04-16T21:00:43.577337Z",
     "shell.execute_reply": "2021-04-16T21:00:43.579350Z"
    },
    "papermill": {
     "duration": 337.580641,
     "end_time": "2021-04-16T21:00:43.579683",
     "exception": false,
     "start_time": "2021-04-16T20:55:05.999042",
     "status": "completed"
    },
    "tags": []
   },
   "outputs": [],
   "source": [
    "for experiment_type, control_type in product(['gluttonous', 'picky'], repeat=2):\n",
    "    \n",
    "    shorthand = (experiment_type[0]+control_type[0])\n",
    "    coefs_filepath = base_coefs_filepath.format(shorthand)\n",
    "    coef_analysis_filepath = base_coef_analysis_filepath.format(shorthand)\n",
    "    \n",
    "    fitness_coef_values, analysis_results = Analyzer(coefs_filepath, **info)()\n",
    "    np.savez_compressed(coef_analysis_filepath, fitness_coef_values=fitness_coef_values, \n",
    "                        mode_definitions=mode_definitions, **analysis_results)"
   ]
  }
 ],
 "metadata": {
  "kernelspec": {
   "display_name": "Python 3",
   "language": "python",
   "name": "python3"
  },
  "language_info": {
   "codemirror_mode": {
    "name": "ipython",
    "version": 3
   },
   "file_extension": ".py",
   "mimetype": "text/x-python",
   "name": "python",
   "nbconvert_exporter": "python",
   "pygments_lexer": "ipython3",
   "version": "3.8.8"
  },
  "papermill": {
   "default_parameters": {},
   "duration": 676.940753,
   "end_time": "2021-04-16T21:00:44.118184",
   "environment_variables": {},
   "exception": null,
   "input_path": "templates/generate_and_analyze_fitness_coefficients.ipynb",
   "output_path": "pct0.2/generate_and_analyze_fitness_coefficients.ag.ipynb",
   "parameters": {
    "percentage": "0.2"
   },
   "start_time": "2021-04-16T20:49:27.177431",
   "version": "2.3.3"
  }
 },
 "nbformat": 4,
 "nbformat_minor": 5
}