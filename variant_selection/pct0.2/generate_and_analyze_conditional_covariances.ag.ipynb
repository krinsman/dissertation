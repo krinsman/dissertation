{
 "cells": [
  {
   "cell_type": "code",
   "execution_count": 1,
   "id": "accomplished-storage",
   "metadata": {
    "execution": {
     "iopub.execute_input": "2021-04-16T18:31:58.047428Z",
     "iopub.status.busy": "2021-04-16T18:31:58.042579Z",
     "iopub.status.idle": "2021-04-16T18:31:58.057877Z",
     "shell.execute_reply": "2021-04-16T18:31:58.058702Z"
    },
    "papermill": {
     "duration": 0.037056,
     "end_time": "2021-04-16T18:31:58.059160",
     "exception": false,
     "start_time": "2021-04-16T18:31:58.022104",
     "status": "completed"
    },
    "tags": [
     "injected-parameters"
    ]
   },
   "outputs": [],
   "source": [
    "# Parameters\n",
    "percentage = \"0.2\"\n"
   ]
  },
  {
   "cell_type": "code",
   "execution_count": 2,
   "id": "recreational-geography",
   "metadata": {
    "execution": {
     "iopub.execute_input": "2021-04-16T18:31:58.127147Z",
     "iopub.status.busy": "2021-04-16T18:31:58.125681Z",
     "iopub.status.idle": "2021-04-16T18:31:58.553566Z",
     "shell.execute_reply": "2021-04-16T18:31:58.554688Z"
    },
    "papermill": {
     "duration": 0.453355,
     "end_time": "2021-04-16T18:31:58.554958",
     "exception": false,
     "start_time": "2021-04-16T18:31:58.101603",
     "status": "completed"
    },
    "tags": []
   },
   "outputs": [],
   "source": [
    "import numpy as np\n",
    "from itertools import product"
   ]
  },
  {
   "cell_type": "code",
   "execution_count": 3,
   "id": "established-detector",
   "metadata": {
    "execution": {
     "iopub.execute_input": "2021-04-16T18:31:58.670959Z",
     "iopub.status.busy": "2021-04-16T18:31:58.669935Z",
     "iopub.status.idle": "2021-04-16T18:32:03.503139Z",
     "shell.execute_reply": "2021-04-16T18:32:03.519151Z"
    },
    "papermill": {
     "duration": 4.868433,
     "end_time": "2021-04-16T18:32:03.519435",
     "exception": false,
     "start_time": "2021-04-16T18:31:58.651002",
     "status": "completed"
    },
    "tags": []
   },
   "outputs": [],
   "source": [
    "from analysis_utils import conditionalCorrelationGenerator, Analyzer\n",
    "from plot_utils import corrVariantsPlotter"
   ]
  },
  {
   "cell_type": "code",
   "execution_count": 4,
   "id": "bright-electricity",
   "metadata": {
    "execution": {
     "iopub.execute_input": "2021-04-16T18:32:03.553360Z",
     "iopub.status.busy": "2021-04-16T18:32:03.552336Z",
     "iopub.status.idle": "2021-04-16T18:32:03.555233Z",
     "shell.execute_reply": "2021-04-16T18:32:03.556167Z"
    },
    "papermill": {
     "duration": 0.023608,
     "end_time": "2021-04-16T18:32:03.556417",
     "exception": false,
     "start_time": "2021-04-16T18:32:03.532809",
     "status": "completed"
    },
    "tags": []
   },
   "outputs": [],
   "source": [
    "simulation_dir_name = 'results'\n",
    "output_dir_name = 'conditional_covariances'"
   ]
  },
  {
   "cell_type": "code",
   "execution_count": 5,
   "id": "becoming-productivity",
   "metadata": {
    "execution": {
     "iopub.execute_input": "2021-04-16T18:32:03.594612Z",
     "iopub.status.busy": "2021-04-16T18:32:03.593519Z",
     "iopub.status.idle": "2021-04-16T18:32:03.596995Z",
     "shell.execute_reply": "2021-04-16T18:32:03.597936Z"
    },
    "papermill": {
     "duration": 0.029388,
     "end_time": "2021-04-16T18:32:03.598230",
     "exception": false,
     "start_time": "2021-04-16T18:32:03.568842",
     "status": "completed"
    },
    "tags": []
   },
   "outputs": [],
   "source": [
    "mode_definitions = corrVariantsPlotter.mode_definitions\n",
    "\n",
    "simulation_dir = 'pct{}/{}'.format(percentage, simulation_dir_name)\n",
    "output_dir = 'pct{}/{}'.format(percentage, output_dir_name)\n",
    "info = {'number_simulations': 100, 'simulation_dir': simulation_dir,\n",
    "        'size': 11, 'seed': 42, 'number_droplets': 100000,\n",
    "       'trimmed_strains':1, 'mode_definitions': mode_definitions,\n",
    "       'output_dir': output_dir,\n",
    "        'base_coefs_name': 'conditional_covariances_averaged_{}.npz',\n",
    "       }"
   ]
  },
  {
   "cell_type": "code",
   "execution_count": 6,
   "id": "accredited-dependence",
   "metadata": {
    "execution": {
     "iopub.execute_input": "2021-04-16T18:32:03.687708Z",
     "iopub.status.busy": "2021-04-16T18:32:03.686577Z",
     "iopub.status.idle": "2021-04-16T18:52:35.416542Z",
     "shell.execute_reply": "2021-04-16T18:52:35.418127Z"
    },
    "papermill": {
     "duration": 1231.804819,
     "end_time": "2021-04-16T18:52:35.419392",
     "exception": false,
     "start_time": "2021-04-16T18:32:03.614573",
     "status": "completed"
    },
    "tags": []
   },
   "outputs": [],
   "source": [
    "conditionalCorrelationGenerator(**info)(statistic=\"covariance\")"
   ]
  },
  {
   "cell_type": "code",
   "execution_count": 7,
   "id": "upset-immune",
   "metadata": {
    "execution": {
     "iopub.execute_input": "2021-04-16T18:52:35.505091Z",
     "iopub.status.busy": "2021-04-16T18:52:35.503810Z",
     "iopub.status.idle": "2021-04-16T18:52:35.593968Z",
     "shell.execute_reply": "2021-04-16T18:52:35.594785Z"
    },
    "papermill": {
     "duration": 0.153775,
     "end_time": "2021-04-16T18:52:35.595047",
     "exception": false,
     "start_time": "2021-04-16T18:52:35.441272",
     "status": "completed"
    },
    "tags": []
   },
   "outputs": [],
   "source": [
    "base_coefs_filepath = '{}/{}'.format(info[\"output_dir\"], info[\"base_coefs_name\"])\n",
    "\n",
    "base_coef_analysis_name = 'analyzed_covariance_results_{}.npz'\n",
    "base_coef_analysis_filepath = '{}/{}'.format(info[\"output_dir\"], base_coef_analysis_name)"
   ]
  },
  {
   "cell_type": "code",
   "execution_count": 8,
   "id": "legal-recognition",
   "metadata": {
    "execution": {
     "iopub.execute_input": "2021-04-16T18:52:35.632772Z",
     "iopub.status.busy": "2021-04-16T18:52:35.631657Z",
     "iopub.status.idle": "2021-04-16T19:08:09.135180Z",
     "shell.execute_reply": "2021-04-16T19:08:09.140617Z"
    },
    "papermill": {
     "duration": 933.53175,
     "end_time": "2021-04-16T19:08:09.140892",
     "exception": false,
     "start_time": "2021-04-16T18:52:35.609142",
     "status": "completed"
    },
    "tags": []
   },
   "outputs": [],
   "source": [
    "for experiment_type, control_type in product(['gluttonous', 'picky'], repeat=2):\n",
    "    \n",
    "    shorthand = (experiment_type[0]+control_type[0])\n",
    "    coefs_filepath = base_coefs_filepath.format(shorthand)\n",
    "    coef_analysis_filepath = base_coef_analysis_filepath.format(shorthand)\n",
    "    \n",
    "    corr_coef_values, analysis_results = Analyzer(coefs_filepath, **info)()\n",
    "    np.savez_compressed(coef_analysis_filepath, corr_coef_values=corr_coef_values, \n",
    "                        mode_definitions=mode_definitions, **analysis_results)"
   ]
  }
 ],
 "metadata": {
  "kernelspec": {
   "display_name": "Python 3",
   "language": "python",
   "name": "python3"
  },
  "language_info": {
   "codemirror_mode": {
    "name": "ipython",
    "version": 3
   },
   "file_extension": ".py",
   "mimetype": "text/x-python",
   "name": "python",
   "nbconvert_exporter": "python",
   "pygments_lexer": "ipython3",
   "version": "3.8.8"
  },
  "papermill": {
   "default_parameters": {},
   "duration": 2178.776497,
   "end_time": "2021-04-16T19:08:11.007702",
   "environment_variables": {},
   "exception": null,
   "input_path": "templates/generate_and_analyze_conditional_covariances.ipynb",
   "output_path": "pct0.2/generate_and_analyze_conditional_covariances.ag.ipynb",
   "parameters": {
    "percentage": "0.2"
   },
   "start_time": "2021-04-16T18:31:52.231205",
   "version": "2.3.3"
  }
 },
 "nbformat": 4,
 "nbformat_minor": 5
}