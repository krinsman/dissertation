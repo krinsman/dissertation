{
 "cells": [
  {
   "cell_type": "code",
   "execution_count": 1,
   "id": "purple-spice",
   "metadata": {
    "execution": {
     "iopub.execute_input": "2021-04-16T20:47:58.944970Z",
     "iopub.status.busy": "2021-04-16T20:47:58.936829Z",
     "iopub.status.idle": "2021-04-16T20:47:58.967438Z",
     "shell.execute_reply": "2021-04-16T20:47:58.968446Z"
    },
    "papermill": {
     "duration": 0.050649,
     "end_time": "2021-04-16T20:47:58.968823",
     "exception": false,
     "start_time": "2021-04-16T20:47:58.918174",
     "status": "completed"
    },
    "tags": [
     "injected-parameters"
    ]
   },
   "outputs": [],
   "source": [
    "# Parameters\n",
    "percentage = \"0.2\"\n"
   ]
  },
  {
   "cell_type": "code",
   "execution_count": 2,
   "id": "prompt-gabriel",
   "metadata": {
    "execution": {
     "iopub.execute_input": "2021-04-16T20:47:59.003068Z",
     "iopub.status.busy": "2021-04-16T20:47:59.002010Z",
     "iopub.status.idle": "2021-04-16T20:47:59.163507Z",
     "shell.execute_reply": "2021-04-16T20:47:59.164340Z"
    },
    "papermill": {
     "duration": 0.181381,
     "end_time": "2021-04-16T20:47:59.164593",
     "exception": false,
     "start_time": "2021-04-16T20:47:58.983212",
     "status": "completed"
    },
    "tags": []
   },
   "outputs": [],
   "source": [
    "import numpy as np"
   ]
  },
  {
   "cell_type": "code",
   "execution_count": 3,
   "id": "separated-aggregate",
   "metadata": {
    "execution": {
     "iopub.execute_input": "2021-04-16T20:47:59.198167Z",
     "iopub.status.busy": "2021-04-16T20:47:59.197149Z",
     "iopub.status.idle": "2021-04-16T20:48:00.922976Z",
     "shell.execute_reply": "2021-04-16T20:48:00.923917Z"
    },
    "papermill": {
     "duration": 1.745367,
     "end_time": "2021-04-16T20:48:00.924146",
     "exception": false,
     "start_time": "2021-04-16T20:47:59.178779",
     "status": "completed"
    },
    "tags": []
   },
   "outputs": [],
   "source": [
    "from analysis_utils import phenopathCoefficientOrganizer, Analyzer\n",
    "from plot_utils import phenopathVariantsPlotter"
   ]
  },
  {
   "cell_type": "code",
   "execution_count": 4,
   "id": "honest-writing",
   "metadata": {
    "execution": {
     "iopub.execute_input": "2021-04-16T20:48:00.958300Z",
     "iopub.status.busy": "2021-04-16T20:48:00.957327Z",
     "iopub.status.idle": "2021-04-16T20:48:00.964366Z",
     "shell.execute_reply": "2021-04-16T20:48:00.965627Z"
    },
    "papermill": {
     "duration": 0.027414,
     "end_time": "2021-04-16T20:48:00.965876",
     "exception": false,
     "start_time": "2021-04-16T20:48:00.938462",
     "status": "completed"
    },
    "tags": []
   },
   "outputs": [],
   "source": [
    "output_dir_name = 'phenopath_results'\n",
    "simulation_dir_name = 'results'"
   ]
  },
  {
   "cell_type": "code",
   "execution_count": 5,
   "id": "impressed-chase",
   "metadata": {
    "execution": {
     "iopub.execute_input": "2021-04-16T20:48:01.000756Z",
     "iopub.status.busy": "2021-04-16T20:48:00.999773Z",
     "iopub.status.idle": "2021-04-16T20:48:01.005707Z",
     "shell.execute_reply": "2021-04-16T20:48:01.007325Z"
    },
    "papermill": {
     "duration": 0.027916,
     "end_time": "2021-04-16T20:48:01.007584",
     "exception": false,
     "start_time": "2021-04-16T20:48:00.979668",
     "status": "completed"
    },
    "tags": []
   },
   "outputs": [],
   "source": [
    "mode_definitions = phenopathVariantsPlotter.mode_definitions\n",
    "\n",
    "output_dir = 'pct{}/{}'.format(percentage, output_dir_name)\n",
    "simulation_dir = 'pct{}/{}'.format(percentage, simulation_dir_name)"
   ]
  },
  {
   "cell_type": "code",
   "execution_count": 6,
   "id": "controlled-soldier",
   "metadata": {
    "execution": {
     "iopub.execute_input": "2021-04-16T20:48:01.043471Z",
     "iopub.status.busy": "2021-04-16T20:48:01.042373Z",
     "iopub.status.idle": "2021-04-16T20:48:01.048596Z",
     "shell.execute_reply": "2021-04-16T20:48:01.049528Z"
    },
    "papermill": {
     "duration": 0.027716,
     "end_time": "2021-04-16T20:48:01.049760",
     "exception": false,
     "start_time": "2021-04-16T20:48:01.022044",
     "status": "completed"
    },
    "tags": []
   },
   "outputs": [],
   "source": [
    "info = {\n",
    "    'trimmed_strains': 1,\n",
    "    'size': 11,\n",
    "    'seed': 42,\n",
    "    'number_droplets': 100000,\n",
    "    'number_simulations': 100,\n",
    "    'simulation_dir': simulation_dir,\n",
    "    'output_dir': output_dir,\n",
    "    'mode_definitions': mode_definitions\n",
    "}"
   ]
  },
  {
   "cell_type": "code",
   "execution_count": 7,
   "id": "wicked-estate",
   "metadata": {
    "execution": {
     "iopub.execute_input": "2021-04-16T20:48:01.085342Z",
     "iopub.status.busy": "2021-04-16T20:48:01.084319Z",
     "iopub.status.idle": "2021-04-16T20:48:02.270240Z",
     "shell.execute_reply": "2021-04-16T20:48:02.271278Z"
    },
    "papermill": {
     "duration": 1.206054,
     "end_time": "2021-04-16T20:48:02.271572",
     "exception": false,
     "start_time": "2021-04-16T20:48:01.065518",
     "status": "completed"
    },
    "tags": []
   },
   "outputs": [],
   "source": [
    "phenopath_results = phenopathCoefficientOrganizer(**info)()"
   ]
  },
  {
   "cell_type": "code",
   "execution_count": 8,
   "id": "worth-faith",
   "metadata": {
    "execution": {
     "iopub.execute_input": "2021-04-16T20:48:02.307258Z",
     "iopub.status.busy": "2021-04-16T20:48:02.305358Z",
     "iopub.status.idle": "2021-04-16T20:48:02.373031Z",
     "shell.execute_reply": "2021-04-16T20:48:02.373961Z"
    },
    "papermill": {
     "duration": 0.087504,
     "end_time": "2021-04-16T20:48:02.374201",
     "exception": false,
     "start_time": "2021-04-16T20:48:02.286697",
     "status": "completed"
    },
    "tags": []
   },
   "outputs": [],
   "source": [
    "coefs_name = 'phenopath_results.npz'\n",
    "coefs_filepath = '{}/{}'.format(info[\"output_dir\"], coefs_name)\n",
    "np.savez_compressed(coefs_filepath, mode_definitions=mode_definitions, **phenopath_results)"
   ]
  },
  {
   "cell_type": "code",
   "execution_count": 9,
   "id": "demonstrated-integrity",
   "metadata": {
    "execution": {
     "iopub.execute_input": "2021-04-16T20:48:02.412584Z",
     "iopub.status.busy": "2021-04-16T20:48:02.411650Z",
     "iopub.status.idle": "2021-04-16T20:48:02.415858Z",
     "shell.execute_reply": "2021-04-16T20:48:02.418125Z"
    },
    "papermill": {
     "duration": 0.02886,
     "end_time": "2021-04-16T20:48:02.418374",
     "exception": false,
     "start_time": "2021-04-16T20:48:02.389514",
     "status": "completed"
    },
    "tags": []
   },
   "outputs": [],
   "source": [
    "coef_analysis_name = 'analyzed_phenopath_results.npz'\n",
    "coef_analysis_filepath = '{}/{}'.format(info[\"output_dir\"], coef_analysis_name)"
   ]
  },
  {
   "cell_type": "code",
   "execution_count": 10,
   "id": "center-lambda",
   "metadata": {
    "execution": {
     "iopub.execute_input": "2021-04-16T20:48:02.459793Z",
     "iopub.status.busy": "2021-04-16T20:48:02.456705Z",
     "iopub.status.idle": "2021-04-16T20:49:26.223528Z",
     "shell.execute_reply": "2021-04-16T20:49:26.224531Z"
    },
    "papermill": {
     "duration": 83.79106,
     "end_time": "2021-04-16T20:49:26.224786",
     "exception": false,
     "start_time": "2021-04-16T20:48:02.433726",
     "status": "completed"
    },
    "tags": []
   },
   "outputs": [],
   "source": [
    "phenopath_values, analysis_results = Analyzer(coefs_filepath, **info)()\n",
    "np.savez_compressed(coef_analysis_filepath, phenopath_values=phenopath_values, \n",
    "                    mode_definitions=mode_definitions, **analysis_results)"
   ]
  }
 ],
 "metadata": {
  "kernelspec": {
   "display_name": "Python 3",
   "language": "python",
   "name": "python3"
  },
  "language_info": {
   "codemirror_mode": {
    "name": "ipython",
    "version": 3
   },
   "file_extension": ".py",
   "mimetype": "text/x-python",
   "name": "python",
   "nbconvert_exporter": "python",
   "pygments_lexer": "ipython3",
   "version": "3.8.8"
  },
  "papermill": {
   "default_parameters": {},
   "duration": 90.944942,
   "end_time": "2021-04-16T20:49:27.770456",
   "environment_variables": {},
   "exception": null,
   "input_path": "templates/load_and_analyze_phenopath_results.ipynb",
   "output_path": "pct0.2/load_and_analyze_phenopath_results.ag.ipynb",
   "parameters": {
    "percentage": "0.2"
   },
   "start_time": "2021-04-16T20:47:56.825514",
   "version": "2.3.3"
  }
 },
 "nbformat": 4,
 "nbformat_minor": 5
}